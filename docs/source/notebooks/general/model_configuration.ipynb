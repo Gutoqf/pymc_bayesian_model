{
 "cells": [
  {
   "cell_type": "markdown",
   "id": "bc1f69aa-913d-49fa-8e20-58f953301851",
   "metadata": {},
   "source": [
    "(model_configuration)=\n",
    "# Model Configuration\n",
    "\n",
    "This goes over the model configuration\n",
    "\n",
    "## Setup"
   ]
  },
  {
   "cell_type": "code",
   "execution_count": 1,
   "id": "9d6bc077-24d1-47de-8542-5497ade670e3",
   "metadata": {},
   "outputs": [],
   "source": [
    "import arviz as az\n",
    "import matplotlib.pyplot as plt\n",
    "import numpy as np\n",
    "import pandas as pd\n",
    "import pymc as pm\n",
    "\n",
    "from pymc_marketing.model_config import ModelConfigError, parse_model_config\n",
    "from pymc_marketing.prior import Prior\n",
    "\n",
    "az.style.use(\"arviz-darkgrid\")\n",
    "plt.rcParams[\"figure.figsize\"] = [12, 7]\n",
    "plt.rcParams[\"figure.dpi\"] = 100"
   ]
  },
  {
   "cell_type": "code",
   "execution_count": 2,
   "id": "6fa99350-cc39-4ef9-9c9a-f6e0f7091636",
   "metadata": {},
   "outputs": [],
   "source": [
    "seed = sum(map(ord, \"Create priors to reflect your marketing beliefs\"))\n",
    "rng = np.random.default_rng(seed)"
   ]
  },
  {
   "cell_type": "markdown",
   "id": "a5f28af2-a8a2-4046-ad65-940464862424",
   "metadata": {},
   "source": [
    "## Prior Distributions\n",
    "\n",
    "The `Prior` class is our way to expression distributions and relationships between them.\n",
    "\n",
    "### Basic Usage\n",
    "\n",
    "Every prior will need a distribution name that comes from `PyMC`. View the full list in the documentation [here](https://www.pymc.io/projects/docs/en/stable/api/distributions.html)."
   ]
  },
  {
   "cell_type": "code",
   "execution_count": 3,
   "id": "34815050-4f1b-4345-b31b-466fb357a974",
   "metadata": {},
   "outputs": [
    {
     "data": {
      "text/plain": [
       "Prior(\"Normal\")"
      ]
     },
     "execution_count": 3,
     "metadata": {},
     "output_type": "execute_result"
    }
   ],
   "source": [
    "scalar_distribution = Prior(\"Normal\")\n",
    "scalar_distribution"
   ]
  },
  {
   "cell_type": "markdown",
   "id": "b76493fe-48a1-472e-9c8a-fbf632d89baf",
   "metadata": {},
   "source": [
    "If not, then an exception will be raised."
   ]
  },
  {
   "cell_type": "code",
   "execution_count": 4,
   "id": "06314bd5-ebce-4c41-b2c5-b99143c13192",
   "metadata": {},
   "outputs": [
    {
     "name": "stdout",
     "output_type": "stream",
     "text": [
      "PyMC doesn't have a distribution of name 'UnknownDistribution'\n"
     ]
    }
   ],
   "source": [
    "try:\n",
    "    Prior(\"UnknownDistribution\")\n",
    "except Exception as e:\n",
    "    print(e)"
   ]
  },
  {
   "cell_type": "markdown",
   "id": "d76c8fbd-5a22-408d-af96-c9a0ae712da5",
   "metadata": {},
   "source": [
    "Specific parameters can be passed as **keyword arguments** but are not required if the `PyMC` distribution has defaults."
   ]
  },
  {
   "cell_type": "code",
   "execution_count": 5,
   "id": "d12e116e-32f4-4f15-a9ee-4d6a0472590c",
   "metadata": {},
   "outputs": [
    {
     "data": {
      "text/plain": [
       "Prior(\"Normal\", mu=0, sigma=3.5)"
      ]
     },
     "execution_count": 5,
     "metadata": {},
     "output_type": "execute_result"
    }
   ],
   "source": [
    "scalar_distribution = Prior(\"Normal\", mu=0, sigma=3.5)\n",
    "scalar_distribution"
   ]
  },
  {
   "cell_type": "markdown",
   "id": "3b46a0bd-d178-4afc-9f5e-3dcf19170e7e",
   "metadata": {},
   "source": [
    "There will be a check at initialization against the `PyMC` distribution."
   ]
  },
  {
   "cell_type": "code",
   "execution_count": 6,
   "id": "38a7db8f-9cc0-4e5b-8c64-c04415b0f35a",
   "metadata": {},
   "outputs": [
    {
     "name": "stdout",
     "output_type": "stream",
     "text": [
      "Parameters {'b', 'mu'} are not a subset of the pymc distribution parameters {'mu', 'tau', 'sigma'}\n"
     ]
    }
   ],
   "source": [
    "try:\n",
    "    Prior(\"Normal\", mu=0, b=1)\n",
    "except Exception as e:\n",
    "    print(e)"
   ]
  },
  {
   "cell_type": "markdown",
   "id": "e4bb33ab-9045-4701-9daa-eaa3b4b6d80c",
   "metadata": {},
   "source": [
    "However, there are some limitations to that. Take this invalid parameterization below:"
   ]
  },
  {
   "cell_type": "code",
   "execution_count": 7,
   "id": "a8dcb6f8-1357-4de4-b5d5-a30ab2c48e5b",
   "metadata": {},
   "outputs": [],
   "source": [
    "invalid_distribution = Prior(\"Normal\", mu=1, sigma=1, tau=2)"
   ]
  },
  {
   "cell_type": "markdown",
   "id": "660cb88e-3693-43fa-819e-866cd06aba81",
   "metadata": {},
   "source": [
    "The `create_variable` method is used to make variables from this distribution and it isn't until then that there is an error."
   ]
  },
  {
   "cell_type": "code",
   "execution_count": 8,
   "id": "5e1df586-c4d2-4ac0-9a27-cc3313a0005b",
   "metadata": {},
   "outputs": [
    {
     "name": "stdout",
     "output_type": "stream",
     "text": [
      "Can't pass both tau and sigma\n"
     ]
    }
   ],
   "source": [
    "with pm.Model():\n",
    "    try:\n",
    "        invalid_distribution.create_variable(\"mu\")\n",
    "    except Exception as e:\n",
    "        print(e)"
   ]
  },
  {
   "cell_type": "markdown",
   "id": "9db15fc8-86ac-4a4f-94f2-54bbe7e6fc1e",
   "metadata": {},
   "source": [
    "This goes for incorrect values as well!"
   ]
  },
  {
   "cell_type": "code",
   "execution_count": 9,
   "id": "bb04847a-0500-4597-9fbe-bb772607d4de",
   "metadata": {},
   "outputs": [
    {
     "data": {
      "text/plain": [
       "Prior(\"Normal\", mu=1, sigma=-1)"
      ]
     },
     "execution_count": 9,
     "metadata": {},
     "output_type": "execute_result"
    }
   ],
   "source": [
    "invalid_distribution = Prior(\"Normal\", mu=1, sigma=-1)\n",
    "invalid_distribution"
   ]
  },
  {
   "cell_type": "markdown",
   "id": "5de45592-94fb-4bb8-976f-48edf4244a57",
   "metadata": {},
   "source": [
    "The `dims` parameter are used to express the dimensions of the distribution. This variable is not part of a model so the values are not reflected with the distribution itself."
   ]
  },
  {
   "cell_type": "code",
   "execution_count": 10,
   "id": "925e49bf-97f3-4fa8-863e-2655abc65e82",
   "metadata": {},
   "outputs": [
    {
     "data": {
      "text/plain": [
       "Prior(\"Normal\", dims=\"channel\")"
      ]
     },
     "execution_count": 10,
     "metadata": {},
     "output_type": "execute_result"
    }
   ],
   "source": [
    "vector_distribution = Prior(\"Normal\", dims=\"channel\")\n",
    "vector_distribution"
   ]
  },
  {
   "cell_type": "markdown",
   "id": "56f329cd-c5fc-44c2-9c27-07d33fe9697c",
   "metadata": {},
   "source": [
    "If there are dimensions, then the coords need to exist in the larger model. But they exist separately and can defined in advance.\n",
    "\n",
    "```{tip}\n",
    "Each `Prior` instance is just instructions to create a variable, so they can be used multiple times!\n",
    "```"
   ]
  },
  {
   "cell_type": "code",
   "execution_count": 11,
   "id": "ad58dacf-9f56-47f9-b5ca-6678f27d5856",
   "metadata": {},
   "outputs": [
    {
     "data": {
      "image/svg+xml": [
       "<?xml version=\"1.0\" encoding=\"UTF-8\" standalone=\"no\"?>\n",
       "<!DOCTYPE svg PUBLIC \"-//W3C//DTD SVG 1.1//EN\"\n",
       " \"http://www.w3.org/Graphics/SVG/1.1/DTD/svg11.dtd\">\n",
       "<!-- Generated by graphviz version 9.0.0 (20231125.0833)\n",
       " -->\n",
       "<!-- Pages: 1 -->\n",
       "<svg width=\"254pt\" height=\"150pt\"\n",
       " viewBox=\"0.00 0.00 254.00 149.75\" xmlns=\"http://www.w3.org/2000/svg\" xmlns:xlink=\"http://www.w3.org/1999/xlink\">\n",
       "<g id=\"graph0\" class=\"graph\" transform=\"scale(1 1) rotate(0) translate(4 145.75)\">\n",
       "<polygon fill=\"white\" stroke=\"none\" points=\"-4,4 -4,-145.75 250,-145.75 250,4 -4,4\"/>\n",
       "<g id=\"clust1\" class=\"cluster\">\n",
       "<title>clusterchannel (2)</title>\n",
       "<path fill=\"none\" stroke=\"black\" d=\"M20,-8C20,-8 226,-8 226,-8 232,-8 238,-14 238,-20 238,-20 238,-121.75 238,-121.75 238,-127.75 232,-133.75 226,-133.75 226,-133.75 20,-133.75 20,-133.75 14,-133.75 8,-127.75 8,-121.75 8,-121.75 8,-20 8,-20 8,-14 14,-8 20,-8\"/>\n",
       "<text text-anchor=\"middle\" x=\"190.25\" y=\"-15.95\" font-family=\"Times,serif\" font-size=\"14.00\">channel (2)</text>\n",
       "</g>\n",
       "<!-- alpha -->\n",
       "<g id=\"node1\" class=\"node\">\n",
       "<title>alpha</title>\n",
       "<ellipse fill=\"none\" stroke=\"black\" cx=\"181\" cy=\"-83.5\" rx=\"48.97\" ry=\"42.25\"/>\n",
       "<text text-anchor=\"middle\" x=\"181\" y=\"-96.07\" font-family=\"Times,serif\" font-size=\"14.00\">alpha</text>\n",
       "<text text-anchor=\"middle\" x=\"181\" y=\"-78.82\" font-family=\"Times,serif\" font-size=\"14.00\">~</text>\n",
       "<text text-anchor=\"middle\" x=\"181\" y=\"-61.57\" font-family=\"Times,serif\" font-size=\"14.00\">Normal</text>\n",
       "</g>\n",
       "<!-- beta -->\n",
       "<g id=\"node2\" class=\"node\">\n",
       "<title>beta</title>\n",
       "<ellipse fill=\"none\" stroke=\"black\" cx=\"65\" cy=\"-83.5\" rx=\"48.97\" ry=\"42.25\"/>\n",
       "<text text-anchor=\"middle\" x=\"65\" y=\"-96.07\" font-family=\"Times,serif\" font-size=\"14.00\">beta</text>\n",
       "<text text-anchor=\"middle\" x=\"65\" y=\"-78.82\" font-family=\"Times,serif\" font-size=\"14.00\">~</text>\n",
       "<text text-anchor=\"middle\" x=\"65\" y=\"-61.57\" font-family=\"Times,serif\" font-size=\"14.00\">Normal</text>\n",
       "</g>\n",
       "</g>\n",
       "</svg>\n"
      ],
      "text/plain": [
       "<graphviz.graphs.Digraph at 0x7ff7b8d9f730>"
      ]
     },
     "execution_count": 11,
     "metadata": {},
     "output_type": "execute_result"
    }
   ],
   "source": [
    "coords = {\"channel\": [\"C1\", \"C2\"]}\n",
    "with pm.Model(coords=coords) as model:\n",
    "    alpha = vector_distribution.create_variable(\"alpha\")\n",
    "    beta = vector_distribution.create_variable(\"beta\")\n",
    "\n",
    "pm.model_to_graphviz(model)"
   ]
  },
  {
   "cell_type": "markdown",
   "id": "27f9583f-b676-4ac2-85a5-d522815de5e3",
   "metadata": {},
   "source": [
    "If the coords were not specified then this would cause a PyMC error."
   ]
  },
  {
   "cell_type": "code",
   "execution_count": 12,
   "id": "76a89202-7f68-4e89-a77a-ae917b1b3573",
   "metadata": {},
   "outputs": [
    {
     "name": "stdout",
     "output_type": "stream",
     "text": [
      "\"Dimensions {'channel'} are unknown to the model and cannot be used to specify a `shape`.\"\n"
     ]
    }
   ],
   "source": [
    "with pm.Model() as model:\n",
    "    try:\n",
    "        vector_distribution.create_variable(\"var\")\n",
    "    except Exception as e:\n",
    "        print(e)"
   ]
  },
  {
   "cell_type": "markdown",
   "id": "b1000cc0-2087-48b0-a276-f8921f5db750",
   "metadata": {},
   "source": [
    "The variables can get arbitrarily large as well by providing additional dims in a tuple."
   ]
  },
  {
   "cell_type": "code",
   "execution_count": 13,
   "id": "26101b33-78b3-47fc-996f-140660efb1c9",
   "metadata": {},
   "outputs": [
    {
     "data": {
      "text/plain": [
       "Prior(\"Normal\", dims=(\"channel\", \"geo\"))"
      ]
     },
     "execution_count": 13,
     "metadata": {},
     "output_type": "execute_result"
    }
   ],
   "source": [
    "matrix_distribution = Prior(\"Normal\", dims=(\"channel\", \"geo\"))\n",
    "matrix_distribution"
   ]
  },
  {
   "cell_type": "code",
   "execution_count": 14,
   "id": "d129b86f-80ac-473b-b815-9a7ef733ab5d",
   "metadata": {},
   "outputs": [
    {
     "data": {
      "text/plain": [
       "Prior(\"Normal\", dims=(\"channel\", \"geo\", \"store\"))"
      ]
     },
     "execution_count": 14,
     "metadata": {},
     "output_type": "execute_result"
    }
   ],
   "source": [
    "tensor_distribution = Prior(\"Normal\", dims=(\"channel\", \"geo\", \"store\"))\n",
    "tensor_distribution"
   ]
  },
  {
   "cell_type": "markdown",
   "id": "15d51049-02e6-42e1-a31c-942a855347fb",
   "metadata": {},
   "source": [
    "### Hierarchical Variables\n",
    "\n",
    "Hierarchical variables can be defined by using distributions as the parameters of another distribution. The parent distributions will usually have a larger dimensionality than each of the parameters."
   ]
  },
  {
   "cell_type": "code",
   "execution_count": 15,
   "id": "5620b88f-5137-4f4b-8ffb-f7362deaea85",
   "metadata": {},
   "outputs": [],
   "source": [
    "hierarchical_variable = Prior(\n",
    "    \"Normal\",\n",
    "    mu=Prior(\"Normal\"),\n",
    "    sigma=Prior(\"HalfNormal\"),\n",
    "    dims=\"channel\",\n",
    ")"
   ]
  },
  {
   "cell_type": "markdown",
   "id": "32c14b21-66b0-4948-9804-870c25876cbe",
   "metadata": {},
   "source": [
    "We can use the `to_graph` method to create visualize the variable with dummy coordinates.\n",
    "\n",
    "```{note}\n",
    "No need to worry about variable naming! The child parameters will all be automatically named based on the parent.\n",
    "```"
   ]
  },
  {
   "cell_type": "code",
   "execution_count": 16,
   "id": "e830baac-08fd-492a-ae65-0f6aa36debf9",
   "metadata": {},
   "outputs": [
    {
     "data": {
      "image/svg+xml": [
       "<?xml version=\"1.0\" encoding=\"UTF-8\" standalone=\"no\"?>\n",
       "<!DOCTYPE svg PUBLIC \"-//W3C//DTD SVG 1.1//EN\"\n",
       " \"http://www.w3.org/Graphics/SVG/1.1/DTD/svg11.dtd\">\n",
       "<!-- Generated by graphviz version 9.0.0 (20231125.0833)\n",
       " -->\n",
       "<!-- Pages: 1 -->\n",
       "<svg width=\"264pt\" height=\"254pt\"\n",
       " viewBox=\"0.00 0.00 264.15 254.25\" xmlns=\"http://www.w3.org/2000/svg\" xmlns:xlink=\"http://www.w3.org/1999/xlink\">\n",
       "<g id=\"graph0\" class=\"graph\" transform=\"scale(1 1) rotate(0) translate(4 250.25)\">\n",
       "<polygon fill=\"white\" stroke=\"none\" points=\"-4,4 -4,-250.25 260.15,-250.25 260.15,4 -4,4\"/>\n",
       "<g id=\"clust1\" class=\"cluster\">\n",
       "<title>clusterchannel (1)</title>\n",
       "<path fill=\"none\" stroke=\"black\" d=\"M71.97,-8C71.97,-8 161.97,-8 161.97,-8 167.97,-8 173.97,-14 173.97,-20 173.97,-20 173.97,-121.75 173.97,-121.75 173.97,-127.75 167.97,-133.75 161.97,-133.75 161.97,-133.75 71.97,-133.75 71.97,-133.75 65.97,-133.75 59.97,-127.75 59.97,-121.75 59.97,-121.75 59.97,-20 59.97,-20 59.97,-14 65.97,-8 71.97,-8\"/>\n",
       "<text text-anchor=\"middle\" x=\"126.22\" y=\"-15.95\" font-family=\"Times,serif\" font-size=\"14.00\">channel (1)</text>\n",
       "</g>\n",
       "<!-- var_mu -->\n",
       "<g id=\"node1\" class=\"node\">\n",
       "<title>var_mu</title>\n",
       "<ellipse fill=\"none\" stroke=\"black\" cx=\"48.97\" cy=\"-204\" rx=\"48.97\" ry=\"42.25\"/>\n",
       "<text text-anchor=\"middle\" x=\"48.97\" y=\"-216.57\" font-family=\"Times,serif\" font-size=\"14.00\">var_mu</text>\n",
       "<text text-anchor=\"middle\" x=\"48.97\" y=\"-199.32\" font-family=\"Times,serif\" font-size=\"14.00\">~</text>\n",
       "<text text-anchor=\"middle\" x=\"48.97\" y=\"-182.07\" font-family=\"Times,serif\" font-size=\"14.00\">Normal</text>\n",
       "</g>\n",
       "<!-- var -->\n",
       "<g id=\"node3\" class=\"node\">\n",
       "<title>var</title>\n",
       "<ellipse fill=\"none\" stroke=\"black\" cx=\"116.97\" cy=\"-83.5\" rx=\"48.97\" ry=\"42.25\"/>\n",
       "<text text-anchor=\"middle\" x=\"116.97\" y=\"-96.07\" font-family=\"Times,serif\" font-size=\"14.00\">var</text>\n",
       "<text text-anchor=\"middle\" x=\"116.97\" y=\"-78.82\" font-family=\"Times,serif\" font-size=\"14.00\">~</text>\n",
       "<text text-anchor=\"middle\" x=\"116.97\" y=\"-61.57\" font-family=\"Times,serif\" font-size=\"14.00\">Normal</text>\n",
       "</g>\n",
       "<!-- var_mu&#45;&gt;var -->\n",
       "<g id=\"edge1\" class=\"edge\">\n",
       "<title>var_mu&#45;&gt;var</title>\n",
       "<path fill=\"none\" stroke=\"black\" d=\"M70.48,-165.5C76.68,-154.7 83.52,-142.78 90.01,-131.48\"/>\n",
       "<polygon fill=\"black\" stroke=\"black\" points=\"92.9,-133.48 94.84,-123.06 86.83,-129.99 92.9,-133.48\"/>\n",
       "</g>\n",
       "<!-- var_sigma -->\n",
       "<g id=\"node2\" class=\"node\">\n",
       "<title>var_sigma</title>\n",
       "<ellipse fill=\"none\" stroke=\"black\" cx=\"185.97\" cy=\"-204\" rx=\"70.18\" ry=\"42.25\"/>\n",
       "<text text-anchor=\"middle\" x=\"185.97\" y=\"-216.57\" font-family=\"Times,serif\" font-size=\"14.00\">var_sigma</text>\n",
       "<text text-anchor=\"middle\" x=\"185.97\" y=\"-199.32\" font-family=\"Times,serif\" font-size=\"14.00\">~</text>\n",
       "<text text-anchor=\"middle\" x=\"185.97\" y=\"-182.07\" font-family=\"Times,serif\" font-size=\"14.00\">HalfNormal</text>\n",
       "</g>\n",
       "<!-- var_sigma&#45;&gt;var -->\n",
       "<g id=\"edge2\" class=\"edge\">\n",
       "<title>var_sigma&#45;&gt;var</title>\n",
       "<path fill=\"none\" stroke=\"black\" d=\"M163.18,-163.87C157.11,-153.44 150.49,-142.07 144.21,-131.28\"/>\n",
       "<polygon fill=\"black\" stroke=\"black\" points=\"147.38,-129.77 139.32,-122.89 141.33,-133.29 147.38,-129.77\"/>\n",
       "</g>\n",
       "</g>\n",
       "</svg>\n"
      ],
      "text/plain": [
       "<graphviz.graphs.Digraph at 0x7ff7b8bef160>"
      ]
     },
     "execution_count": 16,
     "metadata": {},
     "output_type": "execute_result"
    }
   ],
   "source": [
    "hierarchical_variable.to_graph()"
   ]
  },
  {
   "cell_type": "markdown",
   "id": "b80a4e49-bb8c-4e4d-b533-c00ab150d886",
   "metadata": {},
   "source": [
    "```{warning}\n",
    "The validity of the parameter values will not be checked. \n",
    "```\n",
    "\n",
    "There can be negative sigma parameter in a Normal distribution whether that comes from value or another distribution!"
   ]
  },
  {
   "cell_type": "code",
   "execution_count": 17,
   "id": "b82d2483-1064-4014-a0c5-498f95ab6b0d",
   "metadata": {},
   "outputs": [
    {
     "data": {
      "text/plain": [
       "Prior(\"Normal\", mu=1, sigma=-1)"
      ]
     },
     "execution_count": 17,
     "metadata": {},
     "output_type": "execute_result"
    }
   ],
   "source": [
    "Prior(\"Normal\", mu=1, sigma=-1)"
   ]
  },
  {
   "cell_type": "code",
   "execution_count": 18,
   "id": "3062face-a9c6-446d-8c93-91b99af18059",
   "metadata": {},
   "outputs": [
    {
     "data": {
      "text/plain": [
       "Prior(\"Normal\", sigma=Prior(\"Normal\"))"
      ]
     },
     "execution_count": 18,
     "metadata": {},
     "output_type": "execute_result"
    }
   ],
   "source": [
    "Prior(\"Normal\", sigma=Prior(\"Normal\"))"
   ]
  },
  {
   "cell_type": "markdown",
   "id": "d0d12fd8-07ef-4fcc-816f-cabd6667c1dc",
   "metadata": {},
   "source": [
    "```{tip}\n",
    "Model reparamterizations can help with model convergence depending on the model posterior!\n",
    "```\n",
    "\n",
    "For Normal distribution, the common non-centered parameterization is supported with the `centered` flag."
   ]
  },
  {
   "cell_type": "code",
   "execution_count": 19,
   "id": "81cee492-654b-4bbb-94b7-25bc87f7dca1",
   "metadata": {},
   "outputs": [
    {
     "data": {
      "image/svg+xml": [
       "<?xml version=\"1.0\" encoding=\"UTF-8\" standalone=\"no\"?>\n",
       "<!DOCTYPE svg PUBLIC \"-//W3C//DTD SVG 1.1//EN\"\n",
       " \"http://www.w3.org/Graphics/SVG/1.1/DTD/svg11.dtd\">\n",
       "<!-- Generated by graphviz version 9.0.0 (20231125.0833)\n",
       " -->\n",
       "<!-- Pages: 1 -->\n",
       "<svg width=\"420pt\" height=\"245pt\"\n",
       " viewBox=\"0.00 0.00 420.18 245.50\" xmlns=\"http://www.w3.org/2000/svg\" xmlns:xlink=\"http://www.w3.org/1999/xlink\">\n",
       "<g id=\"graph0\" class=\"graph\" transform=\"scale(1 1) rotate(0) translate(4 241.5)\">\n",
       "<polygon fill=\"white\" stroke=\"none\" points=\"-4,4 -4,-241.5 416.18,-241.5 416.18,4 -4,4\"/>\n",
       "<g id=\"clust1\" class=\"cluster\">\n",
       "<title>clusterchannel (1)</title>\n",
       "<path fill=\"none\" stroke=\"black\" d=\"M20,-8C20,-8 134,-8 134,-8 140,-8 146,-14 146,-20 146,-20 146,-217.5 146,-217.5 146,-223.5 140,-229.5 134,-229.5 134,-229.5 20,-229.5 20,-229.5 14,-229.5 8,-223.5 8,-217.5 8,-217.5 8,-20 8,-20 8,-14 14,-8 20,-8\"/>\n",
       "<text text-anchor=\"middle\" x=\"98.25\" y=\"-15.95\" font-family=\"Times,serif\" font-size=\"14.00\">channel (1)</text>\n",
       "</g>\n",
       "<!-- var -->\n",
       "<g id=\"node1\" class=\"node\">\n",
       "<title>var</title>\n",
       "<polygon fill=\"none\" stroke=\"black\" points=\"137.75,-101 24.25,-101 24.25,-41.25 137.75,-41.25 137.75,-101\"/>\n",
       "<text text-anchor=\"middle\" x=\"81\" y=\"-83.7\" font-family=\"Times,serif\" font-size=\"14.00\">var</text>\n",
       "<text text-anchor=\"middle\" x=\"81\" y=\"-66.45\" font-family=\"Times,serif\" font-size=\"14.00\">~</text>\n",
       "<text text-anchor=\"middle\" x=\"81\" y=\"-49.2\" font-family=\"Times,serif\" font-size=\"14.00\">Deterministic</text>\n",
       "</g>\n",
       "<!-- var_offset -->\n",
       "<g id=\"node2\" class=\"node\">\n",
       "<title>var_offset</title>\n",
       "<ellipse fill=\"none\" stroke=\"black\" cx=\"77\" cy=\"-179.25\" rx=\"60.63\" ry=\"42.25\"/>\n",
       "<text text-anchor=\"middle\" x=\"77\" y=\"-191.82\" font-family=\"Times,serif\" font-size=\"14.00\">var_offset</text>\n",
       "<text text-anchor=\"middle\" x=\"77\" y=\"-174.57\" font-family=\"Times,serif\" font-size=\"14.00\">~</text>\n",
       "<text text-anchor=\"middle\" x=\"77\" y=\"-157.32\" font-family=\"Times,serif\" font-size=\"14.00\">Normal</text>\n",
       "</g>\n",
       "<!-- var_offset&#45;&gt;var -->\n",
       "<g id=\"edge3\" class=\"edge\">\n",
       "<title>var_offset&#45;&gt;var</title>\n",
       "<path fill=\"none\" stroke=\"black\" d=\"M78.57,-136.61C78.87,-128.74 79.18,-120.53 79.47,-112.69\"/>\n",
       "<polygon fill=\"black\" stroke=\"black\" points=\"82.97,-112.83 79.85,-102.71 75.97,-112.57 82.97,-112.83\"/>\n",
       "</g>\n",
       "<!-- var_mu -->\n",
       "<g id=\"node3\" class=\"node\">\n",
       "<title>var_mu</title>\n",
       "<ellipse fill=\"none\" stroke=\"black\" cx=\"205\" cy=\"-179.25\" rx=\"48.97\" ry=\"42.25\"/>\n",
       "<text text-anchor=\"middle\" x=\"205\" y=\"-191.82\" font-family=\"Times,serif\" font-size=\"14.00\">var_mu</text>\n",
       "<text text-anchor=\"middle\" x=\"205\" y=\"-174.57\" font-family=\"Times,serif\" font-size=\"14.00\">~</text>\n",
       "<text text-anchor=\"middle\" x=\"205\" y=\"-157.32\" font-family=\"Times,serif\" font-size=\"14.00\">Normal</text>\n",
       "</g>\n",
       "<!-- var_mu&#45;&gt;var -->\n",
       "<g id=\"edge1\" class=\"edge\">\n",
       "<title>var_mu&#45;&gt;var</title>\n",
       "<path fill=\"none\" stroke=\"black\" d=\"M170.46,-148.69C155.83,-136.17 138.64,-121.45 123.26,-108.29\"/>\n",
       "<polygon fill=\"black\" stroke=\"black\" points=\"125.95,-105.99 116.08,-102.15 121.4,-111.31 125.95,-105.99\"/>\n",
       "</g>\n",
       "<!-- var_sigma -->\n",
       "<g id=\"node4\" class=\"node\">\n",
       "<title>var_sigma</title>\n",
       "<ellipse fill=\"none\" stroke=\"black\" cx=\"342\" cy=\"-179.25\" rx=\"70.18\" ry=\"42.25\"/>\n",
       "<text text-anchor=\"middle\" x=\"342\" y=\"-191.82\" font-family=\"Times,serif\" font-size=\"14.00\">var_sigma</text>\n",
       "<text text-anchor=\"middle\" x=\"342\" y=\"-174.57\" font-family=\"Times,serif\" font-size=\"14.00\">~</text>\n",
       "<text text-anchor=\"middle\" x=\"342\" y=\"-157.32\" font-family=\"Times,serif\" font-size=\"14.00\">HalfNormal</text>\n",
       "</g>\n",
       "<!-- var_sigma&#45;&gt;var -->\n",
       "<g id=\"edge2\" class=\"edge\">\n",
       "<title>var_sigma&#45;&gt;var</title>\n",
       "<path fill=\"none\" stroke=\"black\" d=\"M290.66,-150.13C281.55,-145.52 272.07,-140.96 263,-137 225.81,-120.76 183.12,-105.38 148.44,-93.67\"/>\n",
       "<polygon fill=\"black\" stroke=\"black\" points=\"149.98,-90.5 139.38,-90.64 147.76,-97.13 149.98,-90.5\"/>\n",
       "</g>\n",
       "</g>\n",
       "</svg>\n"
      ],
      "text/plain": [
       "<graphviz.graphs.Digraph at 0x7ff7b8b3ad10>"
      ]
     },
     "execution_count": 19,
     "metadata": {},
     "output_type": "execute_result"
    }
   ],
   "source": [
    "non_centered_hierarchical_variable = Prior(\n",
    "    \"Normal\",\n",
    "    mu=Prior(\"Normal\"),\n",
    "    sigma=Prior(\"HalfNormal\"),\n",
    "    dims=\"channel\",\n",
    "    # Flag for non-centered\n",
    "    centered=False,\n",
    ")\n",
    "non_centered_hierarchical_variable.to_graph()"
   ]
  },
  {
   "cell_type": "markdown",
   "id": "003ba849-188c-47ac-98c0-248f5c5a08c3",
   "metadata": {},
   "source": [
    "Other distributions can be hierarchical as well. Just use distributions for parameters of a parent distribution. For instance, the Beta distribution has two positive parameters, `alpha` and `beta` which can be reflect as HalfNormal distributions."
   ]
  },
  {
   "cell_type": "code",
   "execution_count": 20,
   "id": "04bf7a16-89a5-4ef7-865e-aab5fe576ca6",
   "metadata": {},
   "outputs": [
    {
     "data": {
      "image/svg+xml": [
       "<?xml version=\"1.0\" encoding=\"UTF-8\" standalone=\"no\"?>\n",
       "<!DOCTYPE svg PUBLIC \"-//W3C//DTD SVG 1.1//EN\"\n",
       " \"http://www.w3.org/Graphics/SVG/1.1/DTD/svg11.dtd\">\n",
       "<!-- Generated by graphviz version 9.0.0 (20231125.0833)\n",
       " -->\n",
       "<!-- Pages: 1 -->\n",
       "<svg width=\"306pt\" height=\"254pt\"\n",
       " viewBox=\"0.00 0.00 306.36 254.25\" xmlns=\"http://www.w3.org/2000/svg\" xmlns:xlink=\"http://www.w3.org/1999/xlink\">\n",
       "<g id=\"graph0\" class=\"graph\" transform=\"scale(1 1) rotate(0) translate(4 250.25)\">\n",
       "<polygon fill=\"white\" stroke=\"none\" points=\"-4,4 -4,-250.25 302.36,-250.25 302.36,4 -4,4\"/>\n",
       "<g id=\"clust1\" class=\"cluster\">\n",
       "<title>clusterchannel (1)</title>\n",
       "<path fill=\"none\" stroke=\"black\" d=\"M114.18,-8C114.18,-8 185.18,-8 185.18,-8 191.18,-8 197.18,-14 197.18,-20 197.18,-20 197.18,-121.75 197.18,-121.75 197.18,-127.75 191.18,-133.75 185.18,-133.75 185.18,-133.75 114.18,-133.75 114.18,-133.75 108.18,-133.75 102.18,-127.75 102.18,-121.75 102.18,-121.75 102.18,-20 102.18,-20 102.18,-14 108.18,-8 114.18,-8\"/>\n",
       "<text text-anchor=\"middle\" x=\"149.43\" y=\"-15.95\" font-family=\"Times,serif\" font-size=\"14.00\">channel (1)</text>\n",
       "</g>\n",
       "<!-- var_alpha -->\n",
       "<g id=\"node1\" class=\"node\">\n",
       "<title>var_alpha</title>\n",
       "<ellipse fill=\"none\" stroke=\"black\" cx=\"70.18\" cy=\"-204\" rx=\"70.18\" ry=\"42.25\"/>\n",
       "<text text-anchor=\"middle\" x=\"70.18\" y=\"-216.57\" font-family=\"Times,serif\" font-size=\"14.00\">var_alpha</text>\n",
       "<text text-anchor=\"middle\" x=\"70.18\" y=\"-199.32\" font-family=\"Times,serif\" font-size=\"14.00\">~</text>\n",
       "<text text-anchor=\"middle\" x=\"70.18\" y=\"-182.07\" font-family=\"Times,serif\" font-size=\"14.00\">HalfNormal</text>\n",
       "</g>\n",
       "<!-- var -->\n",
       "<g id=\"node3\" class=\"node\">\n",
       "<title>var</title>\n",
       "<ellipse fill=\"none\" stroke=\"black\" cx=\"149.18\" cy=\"-83.5\" rx=\"34.65\" ry=\"42.25\"/>\n",
       "<text text-anchor=\"middle\" x=\"149.18\" y=\"-96.07\" font-family=\"Times,serif\" font-size=\"14.00\">var</text>\n",
       "<text text-anchor=\"middle\" x=\"149.18\" y=\"-78.82\" font-family=\"Times,serif\" font-size=\"14.00\">~</text>\n",
       "<text text-anchor=\"middle\" x=\"149.18\" y=\"-61.57\" font-family=\"Times,serif\" font-size=\"14.00\">Beta</text>\n",
       "</g>\n",
       "<!-- var_alpha&#45;&gt;var -->\n",
       "<g id=\"edge1\" class=\"edge\">\n",
       "<title>var_alpha&#45;&gt;var</title>\n",
       "<path fill=\"none\" stroke=\"black\" d=\"M95.83,-164.53C104.02,-152.25 113.11,-138.61 121.44,-126.11\"/>\n",
       "<polygon fill=\"black\" stroke=\"black\" points=\"124.15,-128.35 126.79,-118.09 118.33,-124.47 124.15,-128.35\"/>\n",
       "</g>\n",
       "<!-- var_beta -->\n",
       "<g id=\"node2\" class=\"node\">\n",
       "<title>var_beta</title>\n",
       "<ellipse fill=\"none\" stroke=\"black\" cx=\"228.18\" cy=\"-204\" rx=\"70.18\" ry=\"42.25\"/>\n",
       "<text text-anchor=\"middle\" x=\"228.18\" y=\"-216.57\" font-family=\"Times,serif\" font-size=\"14.00\">var_beta</text>\n",
       "<text text-anchor=\"middle\" x=\"228.18\" y=\"-199.32\" font-family=\"Times,serif\" font-size=\"14.00\">~</text>\n",
       "<text text-anchor=\"middle\" x=\"228.18\" y=\"-182.07\" font-family=\"Times,serif\" font-size=\"14.00\">HalfNormal</text>\n",
       "</g>\n",
       "<!-- var_beta&#45;&gt;var -->\n",
       "<g id=\"edge2\" class=\"edge\">\n",
       "<title>var_beta&#45;&gt;var</title>\n",
       "<path fill=\"none\" stroke=\"black\" d=\"M202.53,-164.53C194.35,-152.25 185.25,-138.61 176.92,-126.11\"/>\n",
       "<polygon fill=\"black\" stroke=\"black\" points=\"180.03,-124.47 171.57,-118.09 174.21,-128.35 180.03,-124.47\"/>\n",
       "</g>\n",
       "</g>\n",
       "</svg>\n"
      ],
      "text/plain": [
       "<graphviz.graphs.Digraph at 0x7ff7b863f310>"
      ]
     },
     "execution_count": 20,
     "metadata": {},
     "output_type": "execute_result"
    }
   ],
   "source": [
    "zero_to_one_variable = Prior(\n",
    "    \"Beta\",\n",
    "    alpha=Prior(\"HalfNormal\"),\n",
    "    beta=Prior(\"HalfNormal\"),\n",
    "    dims=\"channel\",\n",
    ")\n",
    "zero_to_one_variable.to_graph()"
   ]
  },
  {
   "cell_type": "markdown",
   "id": "485d6608-228c-491b-93ec-0af713508a25",
   "metadata": {},
   "source": [
    "### Transformations\n",
    "\n",
    "The `transform` variable can be used for any of the distributions to change its domain.\n",
    "\n",
    "These transformations will be taken from `pytensor.tensor` or `pm.math` in that order.\n",
    "\n",
    "Below is a non-centered hierarchical Normal distribution that is put through a sigmoid function in order to change the domain to (0, 1)."
   ]
  },
  {
   "cell_type": "code",
   "execution_count": 21,
   "id": "33529f87-e8e0-471d-8a09-3c7df6b9dcaa",
   "metadata": {},
   "outputs": [
    {
     "data": {
      "image/svg+xml": [
       "<?xml version=\"1.0\" encoding=\"UTF-8\" standalone=\"no\"?>\n",
       "<!DOCTYPE svg PUBLIC \"-//W3C//DTD SVG 1.1//EN\"\n",
       " \"http://www.w3.org/Graphics/SVG/1.1/DTD/svg11.dtd\">\n",
       "<!-- Generated by graphviz version 9.0.0 (20231125.0833)\n",
       " -->\n",
       "<!-- Pages: 1 -->\n",
       "<svg width=\"546pt\" height=\"341pt\"\n",
       " viewBox=\"0.00 0.00 546.30 341.25\" xmlns=\"http://www.w3.org/2000/svg\" xmlns:xlink=\"http://www.w3.org/1999/xlink\">\n",
       "<g id=\"graph0\" class=\"graph\" transform=\"scale(1 1) rotate(0) translate(4 337.25)\">\n",
       "<polygon fill=\"white\" stroke=\"none\" points=\"-4,4 -4,-337.25 542.3,-337.25 542.3,4 -4,4\"/>\n",
       "<g id=\"clust1\" class=\"cluster\">\n",
       "<title>clusterchannel (1)</title>\n",
       "<path fill=\"none\" stroke=\"black\" d=\"M20,-8C20,-8 180,-8 180,-8 186,-8 192,-14 192,-20 192,-20 192,-313.25 192,-313.25 192,-319.25 186,-325.25 180,-325.25 180,-325.25 20,-325.25 20,-325.25 14,-325.25 8,-319.25 8,-313.25 8,-313.25 8,-20 8,-20 8,-14 14,-8 20,-8\"/>\n",
       "<text text-anchor=\"middle\" x=\"144.25\" y=\"-15.95\" font-family=\"Times,serif\" font-size=\"14.00\">channel (1)</text>\n",
       "</g>\n",
       "<!-- var -->\n",
       "<g id=\"node1\" class=\"node\">\n",
       "<title>var</title>\n",
       "<polygon fill=\"none\" stroke=\"black\" points=\"183.75,-101 70.25,-101 70.25,-41.25 183.75,-41.25 183.75,-101\"/>\n",
       "<text text-anchor=\"middle\" x=\"127\" y=\"-83.7\" font-family=\"Times,serif\" font-size=\"14.00\">var</text>\n",
       "<text text-anchor=\"middle\" x=\"127\" y=\"-66.45\" font-family=\"Times,serif\" font-size=\"14.00\">~</text>\n",
       "<text text-anchor=\"middle\" x=\"127\" y=\"-49.2\" font-family=\"Times,serif\" font-size=\"14.00\">Deterministic</text>\n",
       "</g>\n",
       "<!-- var_raw_offset -->\n",
       "<g id=\"node2\" class=\"node\">\n",
       "<title>var_raw_offset</title>\n",
       "<ellipse fill=\"none\" stroke=\"black\" cx=\"100\" cy=\"-275\" rx=\"84.5\" ry=\"42.25\"/>\n",
       "<text text-anchor=\"middle\" x=\"100\" y=\"-287.57\" font-family=\"Times,serif\" font-size=\"14.00\">var_raw_offset</text>\n",
       "<text text-anchor=\"middle\" x=\"100\" y=\"-270.32\" font-family=\"Times,serif\" font-size=\"14.00\">~</text>\n",
       "<text text-anchor=\"middle\" x=\"100\" y=\"-253.07\" font-family=\"Times,serif\" font-size=\"14.00\">Normal</text>\n",
       "</g>\n",
       "<!-- var_raw -->\n",
       "<g id=\"node3\" class=\"node\">\n",
       "<title>var_raw</title>\n",
       "<polygon fill=\"none\" stroke=\"black\" points=\"183.75,-196.75 70.25,-196.75 70.25,-137 183.75,-137 183.75,-196.75\"/>\n",
       "<text text-anchor=\"middle\" x=\"127\" y=\"-179.45\" font-family=\"Times,serif\" font-size=\"14.00\">var_raw</text>\n",
       "<text text-anchor=\"middle\" x=\"127\" y=\"-162.2\" font-family=\"Times,serif\" font-size=\"14.00\">~</text>\n",
       "<text text-anchor=\"middle\" x=\"127\" y=\"-144.95\" font-family=\"Times,serif\" font-size=\"14.00\">Deterministic</text>\n",
       "</g>\n",
       "<!-- var_raw_offset&#45;&gt;var_raw -->\n",
       "<g id=\"edge2\" class=\"edge\">\n",
       "<title>var_raw_offset&#45;&gt;var_raw</title>\n",
       "<path fill=\"none\" stroke=\"black\" d=\"M110.52,-232.67C112.57,-224.6 114.72,-216.14 116.76,-208.11\"/>\n",
       "<polygon fill=\"black\" stroke=\"black\" points=\"120.11,-209.14 119.19,-198.58 113.33,-207.41 120.11,-209.14\"/>\n",
       "</g>\n",
       "<!-- var_raw&#45;&gt;var -->\n",
       "<g id=\"edge4\" class=\"edge\">\n",
       "<title>var_raw&#45;&gt;var</title>\n",
       "<path fill=\"none\" stroke=\"black\" d=\"M127,-136.73C127,-129.05 127,-120.64 127,-112.49\"/>\n",
       "<polygon fill=\"black\" stroke=\"black\" points=\"130.5,-112.77 127,-102.77 123.5,-112.77 130.5,-112.77\"/>\n",
       "</g>\n",
       "<!-- var_raw_sigma -->\n",
       "<g id=\"node4\" class=\"node\">\n",
       "<title>var_raw_sigma</title>\n",
       "<ellipse fill=\"none\" stroke=\"black\" cx=\"289\" cy=\"-275\" rx=\"86.62\" ry=\"42.25\"/>\n",
       "<text text-anchor=\"middle\" x=\"289\" y=\"-287.57\" font-family=\"Times,serif\" font-size=\"14.00\">var_raw_sigma</text>\n",
       "<text text-anchor=\"middle\" x=\"289\" y=\"-270.32\" font-family=\"Times,serif\" font-size=\"14.00\">~</text>\n",
       "<text text-anchor=\"middle\" x=\"289\" y=\"-253.07\" font-family=\"Times,serif\" font-size=\"14.00\">HalfNormal</text>\n",
       "</g>\n",
       "<!-- var_raw_sigma&#45;&gt;var_raw -->\n",
       "<g id=\"edge1\" class=\"edge\">\n",
       "<title>var_raw_sigma&#45;&gt;var_raw</title>\n",
       "<path fill=\"none\" stroke=\"black\" d=\"M238.19,-240.71C220.01,-228.81 199.47,-215.35 181.04,-203.27\"/>\n",
       "<polygon fill=\"black\" stroke=\"black\" points=\"183.16,-200.48 172.88,-197.93 179.32,-206.34 183.16,-200.48\"/>\n",
       "</g>\n",
       "<!-- var_raw_mu -->\n",
       "<g id=\"node5\" class=\"node\">\n",
       "<title>var_raw_mu</title>\n",
       "<ellipse fill=\"none\" stroke=\"black\" cx=\"466\" cy=\"-275\" rx=\"72.3\" ry=\"42.25\"/>\n",
       "<text text-anchor=\"middle\" x=\"466\" y=\"-287.57\" font-family=\"Times,serif\" font-size=\"14.00\">var_raw_mu</text>\n",
       "<text text-anchor=\"middle\" x=\"466\" y=\"-270.32\" font-family=\"Times,serif\" font-size=\"14.00\">~</text>\n",
       "<text text-anchor=\"middle\" x=\"466\" y=\"-253.07\" font-family=\"Times,serif\" font-size=\"14.00\">Normal</text>\n",
       "</g>\n",
       "<!-- var_raw_mu&#45;&gt;var_raw -->\n",
       "<g id=\"edge3\" class=\"edge\">\n",
       "<title>var_raw_mu&#45;&gt;var_raw</title>\n",
       "<path fill=\"none\" stroke=\"black\" d=\"M414.05,-245.39C404.55,-240.78 394.6,-236.35 385,-232.75 322.45,-209.3 248.22,-191.64 195.48,-180.71\"/>\n",
       "<polygon fill=\"black\" stroke=\"black\" points=\"196.21,-177.29 185.71,-178.72 194.81,-184.15 196.21,-177.29\"/>\n",
       "</g>\n",
       "</g>\n",
       "</svg>\n"
      ],
      "text/plain": [
       "<graphviz.graphs.Digraph at 0x7ff7b8b39d20>"
      ]
     },
     "execution_count": 21,
     "metadata": {},
     "output_type": "execute_result"
    }
   ],
   "source": [
    "hierarchical_zero_to_one_distribution = Prior(\n",
    "    \"Normal\",\n",
    "    mu=Prior(\"Normal\"),\n",
    "    sigma=Prior(\"HalfNormal\"),\n",
    "    dims=\"channel\",\n",
    "    centered=False,\n",
    "    transform=\"sigmoid\",\n",
    ")\n",
    "hierarchical_zero_to_one_distribution.to_graph()"
   ]
  },
  {
   "cell_type": "markdown",
   "id": "ee2270a5-2c73-4464-b924-59d01133dc5d",
   "metadata": {},
   "source": [
    "### Prior Visualization\n",
    "\n",
    "For scalar distributions, make use of the `preliz` attribute of the model in order to visualize. \n",
    "\n",
    "```{tip}\n",
    "Defaults for the parameters will have to be provided or there will be an error.\n",
    "```"
   ]
  },
  {
   "cell_type": "code",
   "execution_count": 22,
   "id": "68ac9293-3d2c-4797-81ed-a50171c7f384",
   "metadata": {},
   "outputs": [
    {
     "data": {
      "image/png": "[encoded data removed]",
      "text/plain": [
       "<Figure size 1200x700 with 1 Axes>"
      ]
     },
     "metadata": {},
     "output_type": "display_data"
    }
   ],
   "source": [
    "beta_distribution = Prior(\"Beta\", alpha=1, beta=4)\n",
    "\n",
    "beta_distribution.preliz.plot_pdf();"
   ]
  },
  {
   "cell_type": "markdown",
   "id": "d1a6d281-9646-48e1-ab09-6e9de21e9c11",
   "metadata": {},
   "source": [
    "```{tip}\n",
    "Using the `constrain` method can help hone in on a prior. It is a wrapper around the ever-so-helpful [`find_constrained_prior` function](https://www.pymc.io/projects/docs/en/stable/api/generated/pymc.find_constrained_prior.html). The `init_guess` is taken to be the parameters of the instance distribution.\n",
    "```"
   ]
  },
  {
   "cell_type": "code",
   "execution_count": 23,
   "id": "6a02cdb4-9fe9-4eb5-97a3-91fd7abf1835",
   "metadata": {},
   "outputs": [
    {
     "data": {
      "text/plain": [
       "Prior(\"Normal\", mu=5.000013661179942, sigma=0.5102135210258302)"
      ]
     },
     "execution_count": 23,
     "metadata": {},
     "output_type": "execute_result"
    }
   ],
   "source": [
    "constrained_distribution = Prior(\"Normal\", mu=5, sigma=1).constrain(lower=4, upper=6)\n",
    "constrained_distribution"
   ]
  },
  {
   "cell_type": "markdown",
   "id": "007646bd-61f4-4a2d-8400-14c36e08f289",
   "metadata": {},
   "source": [
    "For more complicated distributions, consider using the `sample_prior` method in order to access the prior.\n",
    "\n",
    "```{note}\n",
    "Any coordinates will have to be passed like in `pm.Model`.\n",
    "```"
   ]
  },
  {
   "cell_type": "code",
   "execution_count": 24,
   "id": "8c2b4ea7-c33d-4d86-a7f8-18434bd0a298",
   "metadata": {
    "scrolled": true
   },
   "outputs": [
    {
     "name": "stderr",
     "output_type": "stream",
     "text": [
      "Sampling: [var_raw_mu, var_raw_offset, var_raw_sigma_raw]\n"
     ]
    },
    {
     "data": {
      "text/html": [
       "<div><svg style=\"position: absolute; width: 0; height: 0; overflow: hidden\">\n",
       "<defs>\n",
       "<symbol id=\"icon-database\" viewBox=\"0 0 32 32\">\n",
       "<path d=\"M16 0c-8.837 0-16 2.239-16 5v4c0 2.761 7.163 5 16 5s16-2.239 16-5v-4c0-2.761-7.163-5-16-5z\"></path>\n",
       "<path d=\"M16 17c-8.837 0-16-2.239-16-5v6c0 2.761 7.163 5 16 5s16-2.239 16-5v-6c0 2.761-7.163 5-16 5z\"></path>\n",
       "<path d=\"M16 26c-8.837 0-16-2.239-16-5v6c0 2.761 7.163 5 16 5s16-2.239 16-5v-6c0 2.761-7.163 5-16 5z\"></path>\n",
       "</symbol>\n",
       "<symbol id=\"icon-file-text2\" viewBox=\"0 0 32 32\">\n",
       "<path d=\"M28.681 7.159c-0.694-0.947-1.662-2.053-2.724-3.116s-2.169-2.030-3.116-2.724c-1.612-1.182-2.393-1.319-2.841-1.319h-15.5c-1.378 0-2.5 1.121-2.5 2.5v27c0 1.378 1.122 2.5 2.5 2.5h23c1.378 0 2.5-1.122 2.5-2.5v-19.5c0-0.448-0.137-1.23-1.319-2.841zM24.543 5.457c0.959 0.959 1.712 1.825 2.268 2.543h-4.811v-4.811c0.718 0.556 1.584 1.309 2.543 2.268zM28 29.5c0 0.271-0.229 0.5-0.5 0.5h-23c-0.271 0-0.5-0.229-0.5-0.5v-27c0-0.271 0.229-0.5 0.5-0.5 0 0 15.499-0 15.5 0v7c0 0.552 0.448 1 1 1h7v19.5z\"></path>\n",
       "<path d=\"M23 26h-14c-0.552 0-1-0.448-1-1s0.448-1 1-1h14c0.552 0 1 0.448 1 1s-0.448 1-1 1z\"></path>\n",
       "<path d=\"M23 22h-14c-0.552 0-1-0.448-1-1s0.448-1 1-1h14c0.552 0 1 0.448 1 1s-0.448 1-1 1z\"></path>\n",
       "<path d=\"M23 18h-14c-0.552 0-1-0.448-1-1s0.448-1 1-1h14c0.552 0 1 0.448 1 1s-0.448 1-1 1z\"></path>\n",
       "</symbol>\n",
       "</defs>\n",
       "</svg>\n",
       "<style>/* CSS stylesheet for displaying xarray objects in jupyterlab.\n",
       " *\n",
       " */\n",
       "\n",
       ":root {\n",
       "  --xr-font-color0: var(--jp-content-font-color0, rgba(0, 0, 0, 1));\n",
       "  --xr-font-color2: var(--jp-content-font-color2, rgba(0, 0, 0, 0.54));\n",
       "  --xr-font-color3: var(--jp-content-font-color3, rgba(0, 0, 0, 0.38));\n",
       "  --xr-border-color: var(--jp-border-color2, #e0e0e0);\n",
       "  --xr-disabled-color: var(--jp-layout-color3, #bdbdbd);\n",
       "  --xr-background-color: var(--jp-layout-color0, white);\n",
       "  --xr-background-color-row-even: var(--jp-layout-color1, white);\n",
       "  --xr-background-color-row-odd: var(--jp-layout-color2, #eeeeee);\n",
       "}\n",
       "\n",
       "html[theme=dark],\n",
       "body[data-theme=dark],\n",
       "body.vscode-dark {\n",
       "  --xr-font-color0: rgba(255, 255, 255, 1);\n",
       "  --xr-font-color2: rgba(255, 255, 255, 0.54);\n",
       "  --xr-font-color3: rgba(255, 255, 255, 0.38);\n",
       "  --xr-border-color: #1F1F1F;\n",
       "  --xr-disabled-color: #515151;\n",
       "  --xr-background-color: #111111;\n",
       "  --xr-background-color-row-even: #111111;\n",
       "  --xr-background-color-row-odd: #313131;\n",
       "}\n",
       "\n",
       ".xr-wrap {\n",
       "  display: block !important;\n",
       "  min-width: 300px;\n",
       "  max-width: 700px;\n",
       "}\n",
       "\n",
       ".xr-text-repr-fallback {\n",
       "  /* fallback to plain text repr when CSS is not injected (untrusted notebook) */\n",
       "  display: none;\n",
       "}\n",
       "\n",
       ".xr-header {\n",
       "  padding-top: 6px;\n",
       "  padding-bottom: 6px;\n",
       "  margin-bottom: 4px;\n",
       "  border-bottom: solid 1px var(--xr-border-color);\n",
       "}\n",
       "\n",
       ".xr-header > div,\n",
       ".xr-header > ul {\n",
       "  display: inline;\n",
       "  margin-top: 0;\n",
       "  margin-bottom: 0;\n",
       "}\n",
       "\n",
       ".xr-obj-type,\n",
       ".xr-array-name {\n",
       "  margin-left: 2px;\n",
       "  margin-right: 10px;\n",
       "}\n",
       "\n",
       ".xr-obj-type {\n",
       "  color: var(--xr-font-color2);\n",
       "}\n",
       "\n",
       ".xr-sections {\n",
       "  padding-left: 0 !important;\n",
       "  display: grid;\n",
       "  grid-template-columns: 150px auto auto 1fr 20px 20px;\n",
       "}\n",
       "\n",
       ".xr-section-item {\n",
       "  display: contents;\n",
       "}\n",
       "\n",
       ".xr-section-item input {\n",
       "  display: none;\n",
       "}\n",
       "\n",
       ".xr-section-item input + label {\n",
       "  color: var(--xr-disabled-color);\n",
       "}\n",
       "\n",
       ".xr-section-item input:enabled + label {\n",
       "  cursor: pointer;\n",
       "  color: var(--xr-font-color2);\n",
       "}\n",
       "\n",
       ".xr-section-item input:enabled + label:hover {\n",
       "  color: var(--xr-font-color0);\n",
       "}\n",
       "\n",
       ".xr-section-summary {\n",
       "  grid-column: 1;\n",
       "  color: var(--xr-font-color2);\n",
       "  font-weight: 500;\n",
       "}\n",
       "\n",
       ".xr-section-summary > span {\n",
       "  display: inline-block;\n",
       "  padding-left: 0.5em;\n",
       "}\n",
       "\n",
       ".xr-section-summary-in:disabled + label {\n",
       "  color: var(--xr-font-color2);\n",
       "}\n",
       "\n",
       ".xr-section-summary-in + label:before {\n",
       "  display: inline-block;\n",
       "  content: '►';\n",
       "  font-size: 11px;\n",
       "  width: 15px;\n",
       "  text-align: center;\n",
       "}\n",
       "\n",
       ".xr-section-summary-in:disabled + label:before {\n",
       "  color: var(--xr-disabled-color);\n",
       "}\n",
       "\n",
       ".xr-section-summary-in:checked + label:before {\n",
       "  content: '▼';\n",
       "}\n",
       "\n",
       ".xr-section-summary-in:checked + label > span {\n",
       "  display: none;\n",
       "}\n",
       "\n",
       ".xr-section-summary,\n",
       ".xr-section-inline-details {\n",
       "  padding-top: 4px;\n",
       "  padding-bottom: 4px;\n",
       "}\n",
       "\n",
       ".xr-section-inline-details {\n",
       "  grid-column: 2 / -1;\n",
       "}\n",
       "\n",
       ".xr-section-details {\n",
       "  display: none;\n",
       "  grid-column: 1 / -1;\n",
       "  margin-bottom: 5px;\n",
       "}\n",
       "\n",
       ".xr-section-summary-in:checked ~ .xr-section-details {\n",
       "  display: contents;\n",
       "}\n",
       "\n",
       ".xr-array-wrap {\n",
       "  grid-column: 1 / -1;\n",
       "  display: grid;\n",
       "  grid-template-columns: 20px auto;\n",
       "}\n",
       "\n",
       ".xr-array-wrap > label {\n",
       "  grid-column: 1;\n",
       "  vertical-align: top;\n",
       "}\n",
       "\n",
       ".xr-preview {\n",
       "  color: var(--xr-font-color3);\n",
       "}\n",
       "\n",
       ".xr-array-preview,\n",
       ".xr-array-data {\n",
       "  padding: 0 5px !important;\n",
       "  grid-column: 2;\n",
       "}\n",
       "\n",
       ".xr-array-data,\n",
       ".xr-array-in:checked ~ .xr-array-preview {\n",
       "  display: none;\n",
       "}\n",
       "\n",
       ".xr-array-in:checked ~ .xr-array-data,\n",
       ".xr-array-preview {\n",
       "  display: inline-block;\n",
       "}\n",
       "\n",
       ".xr-dim-list {\n",
       "  display: inline-block !important;\n",
       "  list-style: none;\n",
       "  padding: 0 !important;\n",
       "  margin: 0;\n",
       "}\n",
       "\n",
       ".xr-dim-list li {\n",
       "  display: inline-block;\n",
       "  padding: 0;\n",
       "  margin: 0;\n",
       "}\n",
       "\n",
       ".xr-dim-list:before {\n",
       "  content: '(';\n",
       "}\n",
       "\n",
       ".xr-dim-list:after {\n",
       "  content: ')';\n",
       "}\n",
       "\n",
       ".xr-dim-list li:not(:last-child):after {\n",
       "  content: ',';\n",
       "  padding-right: 5px;\n",
       "}\n",
       "\n",
       ".xr-has-index {\n",
       "  font-weight: bold;\n",
       "}\n",
       "\n",
       ".xr-var-list,\n",
       ".xr-var-item {\n",
       "  display: contents;\n",
       "}\n",
       "\n",
       ".xr-var-item > div,\n",
       ".xr-var-item label,\n",
       ".xr-var-item > .xr-var-name span {\n",
       "  background-color: var(--xr-background-color-row-even);\n",
       "  margin-bottom: 0;\n",
       "}\n",
       "\n",
       ".xr-var-item > .xr-var-name:hover span {\n",
       "  padding-right: 5px;\n",
       "}\n",
       "\n",
       ".xr-var-list > li:nth-child(odd) > div,\n",
       ".xr-var-list > li:nth-child(odd) > label,\n",
       ".xr-var-list > li:nth-child(odd) > .xr-var-name span {\n",
       "  background-color: var(--xr-background-color-row-odd);\n",
       "}\n",
       "\n",
       ".xr-var-name {\n",
       "  grid-column: 1;\n",
       "}\n",
       "\n",
       ".xr-var-dims {\n",
       "  grid-column: 2;\n",
       "}\n",
       "\n",
       ".xr-var-dtype {\n",
       "  grid-column: 3;\n",
       "  text-align: right;\n",
       "  color: var(--xr-font-color2);\n",
       "}\n",
       "\n",
       ".xr-var-preview {\n",
       "  grid-column: 4;\n",
       "}\n",
       "\n",
       ".xr-index-preview {\n",
       "  grid-column: 2 / 5;\n",
       "  color: var(--xr-font-color2);\n",
       "}\n",
       "\n",
       ".xr-var-name,\n",
       ".xr-var-dims,\n",
       ".xr-var-dtype,\n",
       ".xr-preview,\n",
       ".xr-attrs dt {\n",
       "  white-space: nowrap;\n",
       "  overflow: hidden;\n",
       "  text-overflow: ellipsis;\n",
       "  padding-right: 10px;\n",
       "}\n",
       "\n",
       ".xr-var-name:hover,\n",
       ".xr-var-dims:hover,\n",
       ".xr-var-dtype:hover,\n",
       ".xr-attrs dt:hover {\n",
       "  overflow: visible;\n",
       "  width: auto;\n",
       "  z-index: 1;\n",
       "}\n",
       "\n",
       ".xr-var-attrs,\n",
       ".xr-var-data,\n",
       ".xr-index-data {\n",
       "  display: none;\n",
       "  background-color: var(--xr-background-color) !important;\n",
       "  padding-bottom: 5px !important;\n",
       "}\n",
       "\n",
       ".xr-var-attrs-in:checked ~ .xr-var-attrs,\n",
       ".xr-var-data-in:checked ~ .xr-var-data,\n",
       ".xr-index-data-in:checked ~ .xr-index-data {\n",
       "  display: block;\n",
       "}\n",
       "\n",
       ".xr-var-data > table {\n",
       "  float: right;\n",
       "}\n",
       "\n",
       ".xr-var-name span,\n",
       ".xr-var-data,\n",
       ".xr-index-name div,\n",
       ".xr-index-data,\n",
       ".xr-attrs {\n",
       "  padding-left: 25px !important;\n",
       "}\n",
       "\n",
       ".xr-attrs,\n",
       ".xr-var-attrs,\n",
       ".xr-var-data,\n",
       ".xr-index-data {\n",
       "  grid-column: 1 / -1;\n",
       "}\n",
       "\n",
       "dl.xr-attrs {\n",
       "  padding: 0;\n",
       "  margin: 0;\n",
       "  display: grid;\n",
       "  grid-template-columns: 125px auto;\n",
       "}\n",
       "\n",
       ".xr-attrs dt,\n",
       ".xr-attrs dd {\n",
       "  padding: 0;\n",
       "  margin: 0;\n",
       "  float: left;\n",
       "  padding-right: 10px;\n",
       "  width: auto;\n",
       "}\n",
       "\n",
       ".xr-attrs dt {\n",
       "  font-weight: normal;\n",
       "  grid-column: 1;\n",
       "}\n",
       "\n",
       ".xr-attrs dt:hover span {\n",
       "  display: inline-block;\n",
       "  background: var(--xr-background-color);\n",
       "  padding-right: 10px;\n",
       "}\n",
       "\n",
       ".xr-attrs dd {\n",
       "  grid-column: 2;\n",
       "  white-space: pre-wrap;\n",
       "  word-break: break-all;\n",
       "}\n",
       "\n",
       ".xr-icon-database,\n",
       ".xr-icon-file-text2,\n",
       ".xr-no-icon {\n",
       "  display: inline-block;\n",
       "  vertical-align: middle;\n",
       "  width: 1em;\n",
       "  height: 1.5em !important;\n",
       "  stroke-width: 0;\n",
       "  stroke: currentColor;\n",
       "  fill: currentColor;\n",
       "}\n",
       "</style><pre class='xr-text-repr-fallback'>&lt;xarray.Dataset&gt; Size: 40kB\n",
       "Dimensions:            (chain: 1, draw: 500, channel: 2)\n",
       "Coordinates:\n",
       "  * chain              (chain) int64 8B 0\n",
       "  * draw               (draw) int64 4kB 0 1 2 3 4 5 ... 494 495 496 497 498 499\n",
       "  * channel            (channel) &lt;U2 16B &#x27;C1&#x27; &#x27;C2&#x27;\n",
       "Data variables:\n",
       "    var_raw_offset     (chain, draw, channel) float64 8kB -0.4456 ... 0.2922\n",
       "    var_raw_sigma      (chain, draw) float64 4kB 0.3459 0.4046 ... 0.436 0.3669\n",
       "    var_raw_sigma_raw  (chain, draw) float64 4kB -1.062 -0.905 ... -1.003\n",
       "    var                (chain, draw, channel) float64 8kB 0.336 ... 0.1463\n",
       "    var_raw            (chain, draw, channel) float64 8kB -0.6811 ... -1.764\n",
       "    var_raw_mu         (chain, draw) float64 4kB -0.527 1.038 ... -1.258 -1.871\n",
       "Attributes:\n",
       "    created_at:                 2024-07-01T15:12:27.403724\n",
       "    arviz_version:              0.17.1\n",
       "    inference_library:          pymc\n",
       "    inference_library_version:  5.14.0</pre><div class='xr-wrap' style='display:none'><div class='xr-header'><div class='xr-obj-type'>xarray.Dataset</div></div><ul class='xr-sections'><li class='xr-section-item'><input id='section-05a0b9a3-10e3-4837-85c1-cfaf01af24f1' class='xr-section-summary-in' type='checkbox' disabled ><label for='section-05a0b9a3-10e3-4837-85c1-cfaf01af24f1' class='xr-section-summary'  title='Expand/collapse section'>Dimensions:</label><div class='xr-section-inline-details'><ul class='xr-dim-list'><li><span class='xr-has-index'>chain</span>: 1</li><li><span class='xr-has-index'>draw</span>: 500</li><li><span class='xr-has-index'>channel</span>: 2</li></ul></div><div class='xr-section-details'></div></li><li class='xr-section-item'><input id='section-829ee7b9-bea7-4c85-8204-254bf7bb65ec' class='xr-section-summary-in' type='checkbox'  checked><label for='section-829ee7b9-bea7-4c85-8204-254bf7bb65ec' class='xr-section-summary' >Coordinates: <span>(3)</span></label><div class='xr-section-inline-details'></div><div class='xr-section-details'><ul class='xr-var-list'><li class='xr-var-item'><div class='xr-var-name'><span class='xr-has-index'>chain</span></div><div class='xr-var-dims'>(chain)</div><div class='xr-var-dtype'>int64</div><div class='xr-var-preview xr-preview'>0</div><input id='attrs-dba03332-0a2a-44e2-993d-50b91d52579f' class='xr-var-attrs-in' type='checkbox' disabled><label for='attrs-dba03332-0a2a-44e2-993d-50b91d52579f' title='Show/Hide attributes'><svg class='icon xr-icon-file-text2'><use xlink:href='#icon-file-text2'></use></svg></label><input id='data-7967ac24-7048-4496-8232-7ae79361fd32' class='xr-var-data-in' type='checkbox'><label for='data-7967ac24-7048-4496-8232-7ae79361fd32' title='Show/Hide data repr'><svg class='icon xr-icon-database'><use xlink:href='#icon-database'></use></svg></label><div class='xr-var-attrs'><dl class='xr-attrs'></dl></div><div class='xr-var-data'><pre>array([0])</pre></div></li><li class='xr-var-item'><div class='xr-var-name'><span class='xr-has-index'>draw</span></div><div class='xr-var-dims'>(draw)</div><div class='xr-var-dtype'>int64</div><div class='xr-var-preview xr-preview'>0 1 2 3 4 5 ... 495 496 497 498 499</div><input id='attrs-e67af321-b288-4199-be24-89ff72b27233' class='xr-var-attrs-in' type='checkbox' disabled><label for='attrs-e67af321-b288-4199-be24-89ff72b27233' title='Show/Hide attributes'><svg class='icon xr-icon-file-text2'><use xlink:href='#icon-file-text2'></use></svg></label><input id='data-a71251af-926d-46d4-8eb4-4802458e52cf' class='xr-var-data-in' type='checkbox'><label for='data-a71251af-926d-46d4-8eb4-4802458e52cf' title='Show/Hide data repr'><svg class='icon xr-icon-database'><use xlink:href='#icon-database'></use></svg></label><div class='xr-var-attrs'><dl class='xr-attrs'></dl></div><div class='xr-var-data'><pre>array([  0,   1,   2, ..., 497, 498, 499])</pre></div></li><li class='xr-var-item'><div class='xr-var-name'><span class='xr-has-index'>channel</span></div><div class='xr-var-dims'>(channel)</div><div class='xr-var-dtype'>&lt;U2</div><div class='xr-var-preview xr-preview'>&#x27;C1&#x27; &#x27;C2&#x27;</div><input id='attrs-2eaa6af9-7e2a-446f-aedb-694ce429c089' class='xr-var-attrs-in' type='checkbox' disabled><label for='attrs-2eaa6af9-7e2a-446f-aedb-694ce429c089' title='Show/Hide attributes'><svg class='icon xr-icon-file-text2'><use xlink:href='#icon-file-text2'></use></svg></label><input id='data-8fa73000-7f54-4f3a-9983-c2027872245c' class='xr-var-data-in' type='checkbox'><label for='data-8fa73000-7f54-4f3a-9983-c2027872245c' title='Show/Hide data repr'><svg class='icon xr-icon-database'><use xlink:href='#icon-database'></use></svg></label><div class='xr-var-attrs'><dl class='xr-attrs'></dl></div><div class='xr-var-data'><pre>array([&#x27;C1&#x27;, &#x27;C2&#x27;], dtype=&#x27;&lt;U2&#x27;)</pre></div></li></ul></div></li><li class='xr-section-item'><input id='section-85d30966-9353-430b-be06-4cce87adeb92' class='xr-section-summary-in' type='checkbox'  checked><label for='section-85d30966-9353-430b-be06-4cce87adeb92' class='xr-section-summary' >Data variables: <span>(6)</span></label><div class='xr-section-inline-details'></div><div class='xr-section-details'><ul class='xr-var-list'><li class='xr-var-item'><div class='xr-var-name'><span>var_raw_offset</span></div><div class='xr-var-dims'>(chain, draw, channel)</div><div class='xr-var-dtype'>float64</div><div class='xr-var-preview xr-preview'>-0.4456 0.08964 ... -1.535 0.2922</div><input id='attrs-c0bee878-1050-4865-84be-1703d47e1b4a' class='xr-var-attrs-in' type='checkbox' disabled><label for='attrs-c0bee878-1050-4865-84be-1703d47e1b4a' title='Show/Hide attributes'><svg class='icon xr-icon-file-text2'><use xlink:href='#icon-file-text2'></use></svg></label><input id='data-fb4c5cd7-5e30-4f6a-a71e-a4788b00d61b' class='xr-var-data-in' type='checkbox'><label for='data-fb4c5cd7-5e30-4f6a-a71e-a4788b00d61b' title='Show/Hide data repr'><svg class='icon xr-icon-database'><use xlink:href='#icon-database'></use></svg></label><div class='xr-var-attrs'><dl class='xr-attrs'></dl></div><div class='xr-var-data'><pre>array([[[-4.45572691e-01,  8.96367027e-02],\n",
       "        [ 5.01969991e-01,  8.74939885e-03],\n",
       "        [-8.24668933e-01,  1.60095147e-01],\n",
       "        [ 1.64414348e-01, -2.36791669e+00],\n",
       "        [ 1.76128596e+00,  2.34435312e-01],\n",
       "        [ 1.59685020e+00,  2.37991825e+00],\n",
       "        [-1.33367802e+00, -3.46308096e-01],\n",
       "        [-4.05010134e-01, -8.02723773e-01],\n",
       "        [-9.76551537e-01,  3.05817137e-01],\n",
       "        [-3.50706744e-01, -1.80444220e+00],\n",
       "        [-9.93647175e-01,  5.48807922e-01],\n",
       "        [-4.04256706e-01,  8.42236547e-01],\n",
       "        [ 1.32570387e+00,  4.84737825e-01],\n",
       "        [-1.35627926e+00, -7.68929000e-01],\n",
       "        [ 1.19041057e+00,  7.05965070e-01],\n",
       "        [ 1.59584080e+00,  1.03129193e+00],\n",
       "        [-8.28149558e-01, -4.78418024e-01],\n",
       "        [-1.44560230e+00, -9.99494557e-01],\n",
       "        [-1.49529010e+00,  9.84714024e-01],\n",
       "        [-7.48952710e-02, -1.02144814e+00],\n",
       "...\n",
       "        [-5.66065307e-01, -2.50797083e-01],\n",
       "        [ 1.78566547e+00,  6.08694040e-02],\n",
       "        [ 1.70809432e-01,  1.01166017e+00],\n",
       "        [ 8.74843703e-02, -6.98317609e-01],\n",
       "        [-1.17088786e+00,  1.52514330e-01],\n",
       "        [ 5.98108526e-01, -3.76990661e-01],\n",
       "        [ 1.04813619e-01, -4.61090901e-02],\n",
       "        [-1.30109362e+00,  3.49734743e-01],\n",
       "        [-1.55278274e+00,  7.03873041e-01],\n",
       "        [-4.44507865e-02, -1.94688611e-02],\n",
       "        [-4.74026078e-01,  1.15651352e+00],\n",
       "        [-2.41683462e-01,  1.98914114e+00],\n",
       "        [-6.56235250e-01,  9.93593027e-01],\n",
       "        [-2.46696877e-01, -2.22429273e-01],\n",
       "        [-1.16530371e+00,  1.64129140e+00],\n",
       "        [ 9.33684793e-01,  1.14354994e+00],\n",
       "        [-3.54316753e-01,  2.44051983e-01],\n",
       "        [ 8.69459887e-01, -1.02886146e+00],\n",
       "        [ 2.58748744e-01, -2.30103779e-03],\n",
       "        [-1.53456038e+00,  2.92247537e-01]]])</pre></div></li><li class='xr-var-item'><div class='xr-var-name'><span>var_raw_sigma</span></div><div class='xr-var-dims'>(chain, draw)</div><div class='xr-var-dtype'>float64</div><div class='xr-var-preview xr-preview'>0.3459 0.4046 ... 0.436 0.3669</div><input id='attrs-08fa0cbc-5edd-4b36-9afe-0f8660c34035' class='xr-var-attrs-in' type='checkbox' disabled><label for='attrs-08fa0cbc-5edd-4b36-9afe-0f8660c34035' title='Show/Hide attributes'><svg class='icon xr-icon-file-text2'><use xlink:href='#icon-file-text2'></use></svg></label><input id='data-500544b4-bae9-4d35-8714-d804416c3265' class='xr-var-data-in' type='checkbox'><label for='data-500544b4-bae9-4d35-8714-d804416c3265' title='Show/Hide data repr'><svg class='icon xr-icon-database'><use xlink:href='#icon-database'></use></svg></label><div class='xr-var-attrs'><dl class='xr-attrs'></dl></div><div class='xr-var-data'><pre>array([[0.34587531, 0.40455861, 0.41349777, 0.40205709, 0.28275283,\n",
       "        0.30305144, 0.46011074, 0.41796206, 0.3544711 , 0.31693253,\n",
       "        0.29979704, 0.31525412, 0.42897328, 0.47088888, 0.36723093,\n",
       "        0.42472   , 0.34267684, 0.39302212, 0.39660436, 0.41424468,\n",
       "        0.30955489, 0.37931752, 0.41059179, 0.4542857 , 0.35728653,\n",
       "        0.34379435, 0.38017607, 0.3290264 , 0.37750758, 0.37564665,\n",
       "        0.41679089, 0.35525572, 0.44007033, 0.34757496, 0.30712211,\n",
       "        0.35804494, 0.35082023, 0.35158368, 0.41351848, 0.47035027,\n",
       "        0.4661122 , 0.33156189, 0.41736224, 0.4548133 , 0.40541666,\n",
       "        0.32603096, 0.3058259 , 0.31515486, 0.30167727, 0.35307321,\n",
       "        0.3275891 , 0.43215209, 0.2895675 , 0.33100919, 0.37254446,\n",
       "        0.33642296, 0.3400955 , 0.29781471, 0.37944252, 0.34799543,\n",
       "        0.42162445, 0.62146485, 0.26973369, 0.43075118, 0.39810285,\n",
       "        0.37339062, 0.32639161, 0.44694868, 0.36090846, 0.32164243,\n",
       "        0.38855953, 0.33683003, 0.35233947, 0.39817017, 0.2971075 ,\n",
       "        0.33511508, 0.35976958, 0.34854387, 0.49728517, 0.27402162,\n",
       "        0.28343149, 0.43108207, 0.38080588, 0.23780503, 0.3157372 ,\n",
       "        0.41421356, 0.30091698, 0.28919233, 0.55416363, 0.34232608,\n",
       "        0.40985235, 0.29898663, 0.37501661, 0.41741698, 0.32122689,\n",
       "        0.37060189, 0.2995365 , 0.32886084, 0.41886281, 0.33570565,\n",
       "...\n",
       "        0.39549189, 0.32200897, 0.42749609, 0.39127266, 0.37090081,\n",
       "        0.29006549, 0.3192728 , 0.38581612, 0.3449419 , 0.35947638,\n",
       "        0.37642934, 0.39022797, 0.36786875, 0.33501163, 0.34185016,\n",
       "        0.26957867, 0.37100864, 0.34602918, 0.28631147, 0.35148811,\n",
       "        0.32449824, 0.32437493, 0.31659198, 0.34571453, 0.37187166,\n",
       "        0.41481887, 0.3837687 , 0.36070059, 0.31635496, 0.37367368,\n",
       "        0.30771947, 0.44346431, 0.3296222 , 0.35644395, 0.36546145,\n",
       "        0.41445178, 0.22457619, 0.34796082, 0.27501901, 0.40498267,\n",
       "        0.32534488, 0.39953847, 0.46681166, 0.37144739, 0.38494148,\n",
       "        0.33920922, 0.41064221, 0.25427068, 0.41923382, 0.38368679,\n",
       "        0.41353305, 0.35044465, 0.34165082, 0.41773699, 0.43311186,\n",
       "        0.46427148, 0.47527353, 0.34906324, 0.34553169, 0.4455094 ,\n",
       "        0.36854736, 0.3547424 , 0.34611753, 0.33153966, 0.41692004,\n",
       "        0.39560383, 0.40885735, 0.34103126, 0.42878965, 0.50267588,\n",
       "        0.3832591 , 0.45844578, 0.37844527, 0.44398453, 0.31108887,\n",
       "        0.32012617, 0.4621104 , 0.33584419, 0.34120106, 0.3249566 ,\n",
       "        0.39167801, 0.31343845, 0.39968213, 0.45245716, 0.36006813,\n",
       "        0.42497023, 0.37560341, 0.26654836, 0.47449925, 0.3607909 ,\n",
       "        0.40264517, 0.35820958, 0.34360348, 0.35471168, 0.31247799,\n",
       "        0.33877077, 0.41422812, 0.41696901, 0.43597171, 0.36689817]])</pre></div></li><li class='xr-var-item'><div class='xr-var-name'><span>var_raw_sigma_raw</span></div><div class='xr-var-dims'>(chain, draw)</div><div class='xr-var-dtype'>float64</div><div class='xr-var-preview xr-preview'>-1.062 -0.905 ... -0.8302 -1.003</div><input id='attrs-353ac92a-4036-4144-a688-e313dda56976' class='xr-var-attrs-in' type='checkbox' disabled><label for='attrs-353ac92a-4036-4144-a688-e313dda56976' title='Show/Hide attributes'><svg class='icon xr-icon-file-text2'><use xlink:href='#icon-file-text2'></use></svg></label><input id='data-5706ef74-02c1-458a-8b2b-327772b3ae21' class='xr-var-data-in' type='checkbox'><label for='data-5706ef74-02c1-458a-8b2b-327772b3ae21' title='Show/Hide data repr'><svg class='icon xr-icon-database'><use xlink:href='#icon-database'></use></svg></label><div class='xr-var-attrs'><dl class='xr-attrs'></dl></div><div class='xr-var-data'><pre>array([[-1.06167695, -0.90495865, -0.88310316, -0.91116118, -1.26318216,\n",
       "        -1.19385272, -0.77628808, -0.87236461, -1.03712847, -1.14906636,\n",
       "        -1.20464957, -1.15437623, -0.84636065, -0.75313315, -1.0017644 ,\n",
       "        -0.85632516, -1.07096743, -0.93388939, -0.92481608, -0.88129846,\n",
       "        -1.17261986, -0.96938164, -0.89015576, -0.78902898, -1.02921721,\n",
       "        -1.06771162, -0.96712079, -1.1116173 , -0.97416462, -0.97910634,\n",
       "        -0.87517065, -1.0349174 , -0.82082071, -1.05677494, -1.18050985,\n",
       "        -1.02709677, -1.04748136, -1.04530752, -0.88305307, -0.7542776 ,\n",
       "        -0.7633289 , -1.1039408 , -0.87380075, -0.78786828, -0.90283995,\n",
       "        -1.12076293, -1.18473931, -1.15469114, -1.19839749, -1.04107986,\n",
       "        -1.1159952 , -0.83897769, -1.23936686, -1.10560914, -0.98739889,\n",
       "        -1.0893861 , -1.07852882, -1.21128376, -0.96905215, -1.05556592,\n",
       "        -0.86364029, -0.47567593, -1.31032013, -0.84222466, -0.92104489,\n",
       "        -0.98513016, -1.11965737, -0.80531151, -1.01913094, -1.13431482,\n",
       "        -0.94530889, -1.08817683, -1.04316015, -0.92087579, -1.21366125,\n",
       "        -1.09328128, -1.02229151, -1.05399118, -0.69859163, -1.29454827,\n",
       "        -1.26078483, -0.84145678, -0.96546554, -1.43630414, -1.15284506,\n",
       "        -0.8813736 , -1.20092086, -1.24066332, -0.59029528, -1.07199155,\n",
       "        -0.89195831, -1.20735644, -0.98078495, -0.87366961, -1.13560758,\n",
       "        -0.99262686, -1.205519  , -1.11212061, -0.87021184, -1.09152053,\n",
       "...\n",
       "        -0.927625  , -1.13317587, -0.84981013, -0.93835061, -0.99182061,\n",
       "        -1.23764854, -1.14170937, -0.9523944 , -1.06437928, -1.02310681,\n",
       "        -0.97702493, -0.94102418, -1.00002906, -1.09359004, -1.07338276,\n",
       "        -1.31089501, -0.99152993, -1.06123218, -1.25067501, -1.04557938,\n",
       "        -1.12547515, -1.12585524, -1.15014146, -1.06214189, -0.9892065 ,\n",
       "        -0.87991331, -0.95771524, -1.01970707, -1.1508904 , -0.98437238,\n",
       "        -1.17856674, -0.81313796, -1.10980812, -1.03157826, -1.00659449,\n",
       "        -0.88079865, -1.49354027, -1.0556654 , -1.29091506, -0.903911  ,\n",
       "        -1.1228695 , -0.91744521, -0.7618294 , -0.99034804, -0.95466395,\n",
       "        -1.08113819, -0.89003297, -1.3693559 , -0.86932648, -0.9579287 ,\n",
       "        -0.88301785, -1.04855251, -1.07396605, -0.87290326, -0.83675925,\n",
       "        -0.76728581, -0.74386478, -1.05250217, -1.06267092, -0.80853694,\n",
       "        -0.99818606, -1.03636337, -1.06097687, -1.10400784, -0.87486084,\n",
       "        -0.92734201, -0.89438897, -1.07578113, -0.8467888 , -0.68780969,\n",
       "        -0.95904401, -0.77991324, -0.97168382, -0.81196556, -1.16767664,\n",
       "        -1.13904009, -0.77195146, -1.09110795, -1.07528336, -1.12406364,\n",
       "        -0.93731518, -1.16015228, -0.91708572, -0.7930622 , -1.021462  ,\n",
       "        -0.85573616, -0.97922145, -1.32219957, -0.74549523, -1.01945672,\n",
       "        -0.90969958, -1.02663705, -1.06826696, -1.03644999, -1.16322125,\n",
       "        -1.08243159, -0.88133843, -0.87474337, -0.83017792, -1.00267094]])</pre></div></li><li class='xr-var-item'><div class='xr-var-name'><span>var</span></div><div class='xr-var-dims'>(chain, draw, channel)</div><div class='xr-var-dtype'>float64</div><div class='xr-var-preview xr-preview'>0.336 0.3785 ... 0.0806 0.1463</div><input id='attrs-ac54b2c8-3b9d-45fd-b0fb-9c3625f35efd' class='xr-var-attrs-in' type='checkbox' disabled><label for='attrs-ac54b2c8-3b9d-45fd-b0fb-9c3625f35efd' title='Show/Hide attributes'><svg class='icon xr-icon-file-text2'><use xlink:href='#icon-file-text2'></use></svg></label><input id='data-f3a7e0e1-bd74-4d6e-9982-5829dfda772e' class='xr-var-data-in' type='checkbox'><label for='data-f3a7e0e1-bd74-4d6e-9982-5829dfda772e' title='Show/Hide data repr'><svg class='icon xr-icon-database'><use xlink:href='#icon-database'></use></svg></label><div class='xr-var-attrs'><dl class='xr-attrs'></dl></div><div class='xr-var-data'><pre>array([[[0.33602329, 0.37849269],\n",
       "        [0.77569514, 0.73908473],\n",
       "        [0.76582254, 0.830907  ],\n",
       "        [0.79847424, 0.5887121 ],\n",
       "        [0.67617149, 0.57554497],\n",
       "        [0.59685239, 0.65241621],\n",
       "        [0.67609302, 0.76677215],\n",
       "        [0.18971526, 0.16546837],\n",
       "        [0.78757941, 0.8538296 ],\n",
       "        [0.38210453, 0.28062548],\n",
       "        [0.48685837, 0.60105067],\n",
       "        [0.44975597, 0.54768102],\n",
       "        [0.68547038, 0.60307042],\n",
       "        [0.25194021, 0.30752528],\n",
       "        [0.66646363, 0.62582105],\n",
       "        [0.45155829, 0.39313538],\n",
       "        [0.51605392, 0.54589114],\n",
       "        [0.84877591, 0.86993256],\n",
       "        [0.09258258, 0.21434665],\n",
       "        [0.39560778, 0.3066337 ],\n",
       "...\n",
       "        [0.51731633, 0.54804546],\n",
       "        [0.63334307, 0.50149206],\n",
       "        [0.60141065, 0.67861612],\n",
       "        [0.32671415, 0.25376611],\n",
       "        [0.62394474, 0.7276715 ],\n",
       "        [0.32888441, 0.24460001],\n",
       "        [0.68367373, 0.67128872],\n",
       "        [0.27921646, 0.37558605],\n",
       "        [0.12712604, 0.29821118],\n",
       "        [0.09290651, 0.09366889],\n",
       "        [0.17823604, 0.29487666],\n",
       "        [0.54661684, 0.72831953],\n",
       "        [0.55058019, 0.68349968],\n",
       "        [0.17623967, 0.17749286],\n",
       "        [0.33359958, 0.54613091],\n",
       "        [0.68749562, 0.70256311],\n",
       "        [0.61649984, 0.67317472],\n",
       "        [0.33213593, 0.18390949],\n",
       "        [0.24128712, 0.22106925],\n",
       "        [0.0805994 , 0.1462928 ]]])</pre></div></li><li class='xr-var-item'><div class='xr-var-name'><span>var_raw</span></div><div class='xr-var-dims'>(chain, draw, channel)</div><div class='xr-var-dtype'>float64</div><div class='xr-var-preview xr-preview'>-0.6811 -0.496 ... -2.434 -1.764</div><input id='attrs-29f08302-1f41-4c9e-8037-c87ab459571e' class='xr-var-attrs-in' type='checkbox' disabled><label for='attrs-29f08302-1f41-4c9e-8037-c87ab459571e' title='Show/Hide attributes'><svg class='icon xr-icon-file-text2'><use xlink:href='#icon-file-text2'></use></svg></label><input id='data-4a8df803-d82b-4926-b040-4491530eaa0b' class='xr-var-data-in' type='checkbox'><label for='data-4a8df803-d82b-4926-b040-4491530eaa0b' title='Show/Hide data repr'><svg class='icon xr-icon-database'><use xlink:href='#icon-database'></use></svg></label><div class='xr-var-attrs'><dl class='xr-attrs'></dl></div><div class='xr-var-data'><pre>array([[[-6.81066612e-01, -4.95950898e-01],\n",
       "        [ 1.24075349e+00,  1.04121686e+00],\n",
       "        [ 1.18487128e+00,  1.59206903e+00],\n",
       "        [ 1.37678548e+00,  3.58643828e-01],\n",
       "        [ 7.36232653e-01,  3.04511312e-01],\n",
       "        [ 3.92367068e-01,  6.29676969e-01],\n",
       "        [ 7.35874311e-01,  1.19017382e+00],\n",
       "        [-1.45186140e+00, -1.61809062e+00],\n",
       "        [ 1.31039595e+00,  1.76495858e+00],\n",
       "        [-4.80625077e-01, -9.41361139e-01],\n",
       "        [-5.25786386e-02,  4.09844834e-01],\n",
       "        [-2.01656732e-01,  1.91305402e-01],\n",
       "        [ 7.79027046e-01,  4.18275087e-01],\n",
       "        [-1.08829112e+00, -8.11714422e-01],\n",
       "        [ 6.92233659e-01,  5.14330290e-01],\n",
       "        [-1.94376520e-01, -4.34151711e-01],\n",
       "        [ 6.42377483e-02,  1.84082646e-01],\n",
       "        [ 1.72503240e+00,  1.90036261e+00],\n",
       "        [-2.28250157e+00, -1.29892113e+00],\n",
       "        [-4.23800083e-01, -8.15904573e-01],\n",
       "...\n",
       "        [ 6.92930234e-02,  1.92776654e-01],\n",
       "        [ 5.46585643e-01,  5.96824232e-03],\n",
       "        [ 4.11346277e-01,  7.47419290e-01],\n",
       "        [-7.23084346e-01, -1.07862608e+00],\n",
       "        [ 5.06325720e-01,  9.82840676e-01],\n",
       "        [-7.13235033e-01, -1.12762316e+00],\n",
       "        [ 7.70706606e-01,  7.14019522e-01],\n",
       "        [-9.48351529e-01, -5.08325929e-01],\n",
       "        [-1.92661214e+00, -8.55830654e-01],\n",
       "        [-2.27865181e+00, -2.26963856e+00],\n",
       "        [-1.52834445e+00, -8.71815556e-01],\n",
       "        [ 1.87010471e-01,  9.86113215e-01],\n",
       "        [ 2.03015179e-01,  7.69901919e-01],\n",
       "        [-1.54203482e+00, -1.53342681e+00],\n",
       "        [-6.91949305e-01,  1.85049890e-01],\n",
       "        [ 7.88436986e-01,  8.59533163e-01],\n",
       "        [ 4.74718045e-01,  7.22579204e-01],\n",
       "        [-6.98540356e-01, -1.49008154e+00],\n",
       "        [-1.14563584e+00, -1.25944616e+00],\n",
       "        [-2.43423068e+00, -1.76397821e+00]]])</pre></div></li><li class='xr-var-item'><div class='xr-var-name'><span>var_raw_mu</span></div><div class='xr-var-dims'>(chain, draw)</div><div class='xr-var-dtype'>float64</div><div class='xr-var-preview xr-preview'>-0.527 1.038 ... -1.258 -1.871</div><input id='attrs-41cf8d74-03f7-4d87-8528-7ba4dbfc9ef2' class='xr-var-attrs-in' type='checkbox' disabled><label for='attrs-41cf8d74-03f7-4d87-8528-7ba4dbfc9ef2' title='Show/Hide attributes'><svg class='icon xr-icon-file-text2'><use xlink:href='#icon-file-text2'></use></svg></label><input id='data-834c44ca-edca-471b-bd97-a6b33c233060' class='xr-var-data-in' type='checkbox'><label for='data-834c44ca-edca-471b-bd97-a6b33c233060' title='Show/Hide data repr'><svg class='icon xr-icon-database'><use xlink:href='#icon-database'></use></svg></label><div class='xr-var-attrs'><dl class='xr-attrs'></dl></div><div class='xr-var-data'><pre>array([[-5.26954020e-01,  1.03767721e+00,  1.52587004e+00,\n",
       "         1.31068152e+00,  2.38224064e-01, -9.15606854e-02,\n",
       "         1.34951389e+00, -1.28258253e+00,  1.65655525e+00,\n",
       "        -3.69474700e-01,  2.45313844e-01, -7.42131395e-02,\n",
       "         2.10335513e-01, -4.49634310e-01,  2.55078082e-01,\n",
       "        -8.72162018e-01,  3.48025423e-01,  2.29318608e+00,\n",
       "        -1.68946300e+00, -3.92775115e-01, -3.18843383e-01,\n",
       "        -7.92344104e-01,  4.37500323e-02, -7.26653530e-01,\n",
       "        -9.27155387e-01,  7.97692019e-01,  1.09571799e+00,\n",
       "         9.48849140e-01,  5.89356297e-01,  4.04912350e-01,\n",
       "        -5.01304558e-01, -1.88485215e+00,  1.20567194e-01,\n",
       "         2.59191443e-01, -2.44623777e-01, -7.28007904e-01,\n",
       "         7.28888960e-01,  8.75447580e-02, -8.12717589e-01,\n",
       "         5.02074969e-01, -2.26275396e-01,  6.49160142e-01,\n",
       "        -1.84085099e-01, -7.70015581e-01,  5.93401536e-01,\n",
       "        -1.19508453e+00, -8.56052517e-01, -9.70530981e-01,\n",
       "         2.28074070e-01, -7.30808639e-02,  9.84480195e-02,\n",
       "        -9.13223839e-02, -1.53039339e+00,  8.43763623e-01,\n",
       "        -9.41755664e-02,  1.31282115e+00, -1.67932770e+00,\n",
       "        -8.46758061e-01,  1.39041501e+00,  1.51236040e+00,\n",
       "...\n",
       "        -1.97505676e-01,  1.49129669e+00,  3.32757479e-01,\n",
       "         4.29090753e-01,  7.18361110e-01, -2.12100281e-02,\n",
       "        -1.27637131e-01, -1.55255690e+00, -3.76800326e-01,\n",
       "         2.67733557e-02,  4.94516277e-01, -9.41931532e-01,\n",
       "        -9.82412802e-01, -1.15705764e+00,  9.33491367e-01,\n",
       "         8.54617613e-01,  1.09789574e+00, -8.38932910e-01,\n",
       "        -6.51458671e-01,  6.37172536e-02,  1.44191702e+00,\n",
       "         8.89137268e-01, -4.49430360e-01,  1.32377579e+00,\n",
       "        -4.43010015e-01,  1.83852781e+00,  1.98477789e+00,\n",
       "        -1.09437504e+00, -1.48391764e+00,  5.90942952e-01,\n",
       "        -1.50700791e+00, -8.81610202e-01, -2.64382543e-02,\n",
       "         2.56342880e-01, -8.71743321e-01,  2.62592205e-01,\n",
       "        -3.59701260e-01, -3.20036652e-01,  1.57472553e-01,\n",
       "         2.91008356e-01, -1.31105691e-02,  3.43076800e-01,\n",
       "        -7.62667276e-01,  9.27925126e-01, -9.67413350e-01,\n",
       "         7.31338253e-01, -6.01547153e-01, -1.18981789e+00,\n",
       "        -2.26261437e+00, -1.33748014e+00,  2.73583802e-01,\n",
       "         4.28499895e-01, -1.45452855e+00, -3.27817545e-01,\n",
       "         4.72131870e-01,  6.21486009e-01, -1.06107819e+00,\n",
       "        -1.25844297e+00, -1.87120329e+00]])</pre></div></li></ul></div></li><li class='xr-section-item'><input id='section-8d2b7452-b1a3-46df-9b73-ef7746375725' class='xr-section-summary-in' type='checkbox'  ><label for='section-8d2b7452-b1a3-46df-9b73-ef7746375725' class='xr-section-summary' >Indexes: <span>(3)</span></label><div class='xr-section-inline-details'></div><div class='xr-section-details'><ul class='xr-var-list'><li class='xr-var-item'><div class='xr-index-name'><div>chain</div></div><div class='xr-index-preview'>PandasIndex</div><div></div><input id='index-4d647e74-2b9f-412f-b704-461c35c5a321' class='xr-index-data-in' type='checkbox'/><label for='index-4d647e74-2b9f-412f-b704-461c35c5a321' title='Show/Hide index repr'><svg class='icon xr-icon-database'><use xlink:href='#icon-database'></use></svg></label><div class='xr-index-data'><pre>PandasIndex(Index([0], dtype=&#x27;int64&#x27;, name=&#x27;chain&#x27;))</pre></div></li><li class='xr-var-item'><div class='xr-index-name'><div>draw</div></div><div class='xr-index-preview'>PandasIndex</div><div></div><input id='index-0429932c-cd37-4e25-ab92-f67ae9709c63' class='xr-index-data-in' type='checkbox'/><label for='index-0429932c-cd37-4e25-ab92-f67ae9709c63' title='Show/Hide index repr'><svg class='icon xr-icon-database'><use xlink:href='#icon-database'></use></svg></label><div class='xr-index-data'><pre>PandasIndex(Index([  0,   1,   2,   3,   4,   5,   6,   7,   8,   9,\n",
       "       ...\n",
       "       490, 491, 492, 493, 494, 495, 496, 497, 498, 499],\n",
       "      dtype=&#x27;int64&#x27;, name=&#x27;draw&#x27;, length=500))</pre></div></li><li class='xr-var-item'><div class='xr-index-name'><div>channel</div></div><div class='xr-index-preview'>PandasIndex</div><div></div><input id='index-5f93fb86-3afb-4e4d-92de-056bf832ad68' class='xr-index-data-in' type='checkbox'/><label for='index-5f93fb86-3afb-4e4d-92de-056bf832ad68' title='Show/Hide index repr'><svg class='icon xr-icon-database'><use xlink:href='#icon-database'></use></svg></label><div class='xr-index-data'><pre>PandasIndex(Index([&#x27;C1&#x27;, &#x27;C2&#x27;], dtype=&#x27;object&#x27;, name=&#x27;channel&#x27;))</pre></div></li></ul></div></li><li class='xr-section-item'><input id='section-b77754ae-1992-424f-8f14-2ef4112c3a1b' class='xr-section-summary-in' type='checkbox'  checked><label for='section-b77754ae-1992-424f-8f14-2ef4112c3a1b' class='xr-section-summary' >Attributes: <span>(4)</span></label><div class='xr-section-inline-details'></div><div class='xr-section-details'><dl class='xr-attrs'><dt><span>created_at :</span></dt><dd>2024-07-01T15:12:27.403724</dd><dt><span>arviz_version :</span></dt><dd>0.17.1</dd><dt><span>inference_library :</span></dt><dd>pymc</dd><dt><span>inference_library_version :</span></dt><dd>5.14.0</dd></dl></div></li></ul></div></div>"
      ],
      "text/plain": [
       "<xarray.Dataset> Size: 40kB\n",
       "Dimensions:            (chain: 1, draw: 500, channel: 2)\n",
       "Coordinates:\n",
       "  * chain              (chain) int64 8B 0\n",
       "  * draw               (draw) int64 4kB 0 1 2 3 4 5 ... 494 495 496 497 498 499\n",
       "  * channel            (channel) <U2 16B 'C1' 'C2'\n",
       "Data variables:\n",
       "    var_raw_offset     (chain, draw, channel) float64 8kB -0.4456 ... 0.2922\n",
       "    var_raw_sigma      (chain, draw) float64 4kB 0.3459 0.4046 ... 0.436 0.3669\n",
       "    var_raw_sigma_raw  (chain, draw) float64 4kB -1.062 -0.905 ... -1.003\n",
       "    var                (chain, draw, channel) float64 8kB 0.336 ... 0.1463\n",
       "    var_raw            (chain, draw, channel) float64 8kB -0.6811 ... -1.764\n",
       "    var_raw_mu         (chain, draw) float64 4kB -0.527 1.038 ... -1.258 -1.871\n",
       "Attributes:\n",
       "    created_at:                 2024-07-01T15:12:27.403724\n",
       "    arviz_version:              0.17.1\n",
       "    inference_library:          pymc\n",
       "    inference_library_version:  5.14.0"
      ]
     },
     "execution_count": 24,
     "metadata": {},
     "output_type": "execute_result"
    }
   ],
   "source": [
    "complicated_distribution = Prior(\n",
    "    \"Normal\",\n",
    "    mu=Prior(\"Normal\", sigma=1),\n",
    "    sigma=Prior(\"Normal\", mu=-1, sigma=0.15, transform=\"exp\"),\n",
    "    centered=False,\n",
    "    dims=\"channel\",\n",
    "    transform=\"sigmoid\",\n",
    ")\n",
    "\n",
    "coords = {\n",
    "    \"channel\": [\"C1\", \"C2\"],\n",
    "}\n",
    "prior = complicated_distribution.sample_prior(coords=coords, random_seed=rng)\n",
    "prior"
   ]
  },
  {
   "cell_type": "markdown",
   "id": "876f6d5e-9131-4077-b7cd-a8e0000d2dea",
   "metadata": {},
   "source": [
    "The prior variables can be visualized in whatever way works best. Here is a histogram of the variables to see the marginal distributions."
   ]
  },
  {
   "cell_type": "code",
   "execution_count": 25,
   "id": "d8d05215-bbdb-4340-ada1-645a3eae665a",
   "metadata": {
    "scrolled": true
   },
   "outputs": [
    {
     "data": {
      "image/png": "[encoded data removed]",
      "text/plain": [
       "<Figure size 1200x700 with 2 Axes>"
      ]
     },
     "metadata": {},
     "output_type": "display_data"
    }
   ],
   "source": [
    "bins = np.arange(0, 1.1, 0.1)\n",
    "prior[\"var\"].to_series().unstack().hist(bins=bins, edgecolor=\"black\")\n",
    "plt.gcf().suptitle(\"Marginal distributions of the two channels\");"
   ]
  },
  {
   "cell_type": "markdown",
   "id": "22c8037e-4168-443b-b1b5-150d73dd4129",
   "metadata": {},
   "source": [
    "Use any workflow to make sense of the prior distribution! For instance, the joint distribution which shows these two channels are correlated due to the hierarchical generation."
   ]
  },
  {
   "cell_type": "code",
   "execution_count": 26,
   "id": "c9911821-e9c3-4607-b53e-78c086c6a89c",
   "metadata": {},
   "outputs": [
    {
     "data": {
      "image/png": "[encoded data removed]",
      "text/plain": [
       "<Figure size 1200x700 with 1 Axes>"
      ]
     },
     "metadata": {},
     "output_type": "display_data"
    }
   ],
   "source": [
    "def plot_correlation(df: pd.DataFrame, x: str = \"C1\", y: str = \"C2\") -> plt.Axes:\n",
    "    corr = df.loc[:, [x, y]].corr().iloc[0, 1]\n",
    "    title = f\"Joint distribution between {x} and {y} ({corr = :.3f})\"\n",
    "    return df.plot.scatter(x=x, y=y, title=title)\n",
    "\n",
    "\n",
    "ax = prior[\"var\"].to_series().unstack().pipe(plot_correlation)\n",
    "padding = 0.025\n",
    "bounds = (0 - padding, 1 + padding)\n",
    "ax.set(xlim=bounds, ylim=bounds);"
   ]
  },
  {
   "cell_type": "markdown",
   "id": "90a9d504-6118-4fb9-a21b-7e01d8e5b5e8",
   "metadata": {},
   "source": [
    "### Automatic Broadcasting\n",
    "\n",
    "The broadcasting of the dims will be handled automatically.\n",
    "\n",
    "For instance, the `mu` of the variable needs to be transposed in order to work with (\"channel\", \"geo\") dims.\n",
    "\n",
    "With all this functionality, we can see that the prior distributions can become quite expressive!"
   ]
  },
  {
   "cell_type": "code",
   "execution_count": 27,
   "id": "078a2501-0e82-4551-b01a-042450e36ddb",
   "metadata": {
    "scrolled": true
   },
   "outputs": [
    {
     "data": {
      "image/svg+xml": [
       "<?xml version=\"1.0\" encoding=\"UTF-8\" standalone=\"no\"?>\n",
       "<!DOCTYPE svg PUBLIC \"-//W3C//DTD SVG 1.1//EN\"\n",
       " \"http://www.w3.org/Graphics/SVG/1.1/DTD/svg11.dtd\">\n",
       "<!-- Generated by graphviz version 9.0.0 (20231125.0833)\n",
       " -->\n",
       "<!-- Pages: 1 -->\n",
       "<svg width=\"848pt\" height=\"524pt\"\n",
       " viewBox=\"0.00 0.00 847.74 524.50\" xmlns=\"http://www.w3.org/2000/svg\" xmlns:xlink=\"http://www.w3.org/1999/xlink\">\n",
       "<g id=\"graph0\" class=\"graph\" transform=\"scale(1 1) rotate(0) translate(4 520.5)\">\n",
       "<polygon fill=\"white\" stroke=\"none\" points=\"-4,4 -4,-520.5 843.74,-520.5 843.74,4 -4,4\"/>\n",
       "<g id=\"clust1\" class=\"cluster\">\n",
       "<title>clusterchannel (1)</title>\n",
       "<path fill=\"none\" stroke=\"black\" d=\"M554.62,-141.75C554.62,-141.75 644.62,-141.75 644.62,-141.75 650.62,-141.75 656.62,-147.75 656.62,-153.75 656.62,-153.75 656.62,-255.5 656.62,-255.5 656.62,-261.5 650.62,-267.5 644.62,-267.5 644.62,-267.5 554.62,-267.5 554.62,-267.5 548.62,-267.5 542.62,-261.5 542.62,-255.5 542.62,-255.5 542.62,-153.75 542.62,-153.75 542.62,-147.75 548.62,-141.75 554.62,-141.75\"/>\n",
       "<text text-anchor=\"middle\" x=\"608.87\" y=\"-149.7\" font-family=\"Times,serif\" font-size=\"14.00\">channel (1)</text>\n",
       "</g>\n",
       "<g id=\"clust2\" class=\"cluster\">\n",
       "<title>clustergeo (1)</title>\n",
       "<path fill=\"none\" stroke=\"black\" d=\"M264.62,-154.12C264.62,-154.12 496.62,-154.12 496.62,-154.12 502.62,-154.12 508.62,-160.12 508.62,-166.12 508.62,-166.12 508.62,-496.5 508.62,-496.5 508.62,-502.5 502.62,-508.5 496.62,-508.5 496.62,-508.5 264.62,-508.5 264.62,-508.5 258.62,-508.5 252.62,-502.5 252.62,-496.5 252.62,-496.5 252.62,-166.12 252.62,-166.12 252.62,-160.12 258.62,-154.12 264.62,-154.12\"/>\n",
       "<text text-anchor=\"middle\" x=\"475.87\" y=\"-162.07\" font-family=\"Times,serif\" font-size=\"14.00\">geo (1)</text>\n",
       "</g>\n",
       "<g id=\"clust3\" class=\"cluster\">\n",
       "<title>clusterchannel (1) x geo (1)</title>\n",
       "<path fill=\"none\" stroke=\"black\" d=\"M455.62,-8C455.62,-8 593.62,-8 593.62,-8 599.62,-8 605.62,-14 605.62,-20 605.62,-20 605.62,-121.75 605.62,-121.75 605.62,-127.75 599.62,-133.75 593.62,-133.75 593.62,-133.75 455.62,-133.75 455.62,-133.75 449.62,-133.75 443.62,-127.75 443.62,-121.75 443.62,-121.75 443.62,-20 443.62,-20 443.62,-14 449.62,-8 455.62,-8\"/>\n",
       "<text text-anchor=\"middle\" x=\"524.5\" y=\"-15.95\" font-family=\"Times,serif\" font-size=\"14.00\">channel (1) x geo (1)</text>\n",
       "</g>\n",
       "<!-- var_sigma_raw_sigma -->\n",
       "<g id=\"node1\" class=\"node\">\n",
       "<title>var_sigma_raw_sigma</title>\n",
       "<ellipse fill=\"none\" stroke=\"black\" cx=\"121.62\" cy=\"-458.25\" rx=\"121.62\" ry=\"42.25\"/>\n",
       "<text text-anchor=\"middle\" x=\"121.62\" y=\"-470.82\" font-family=\"Times,serif\" font-size=\"14.00\">var_sigma_raw_sigma</text>\n",
       "<text text-anchor=\"middle\" x=\"121.62\" y=\"-453.57\" font-family=\"Times,serif\" font-size=\"14.00\">~</text>\n",
       "<text text-anchor=\"middle\" x=\"121.62\" y=\"-436.32\" font-family=\"Times,serif\" font-size=\"14.00\">HalfNormal</text>\n",
       "</g>\n",
       "<!-- var_sigma_raw -->\n",
       "<g id=\"node6\" class=\"node\">\n",
       "<title>var_sigma_raw</title>\n",
       "<polygon fill=\"none\" stroke=\"black\" points=\"457.87,-367.62 335.37,-367.62 335.37,-307.87 457.87,-307.87 457.87,-367.62\"/>\n",
       "<text text-anchor=\"middle\" x=\"396.62\" y=\"-350.32\" font-family=\"Times,serif\" font-size=\"14.00\">var_sigma_raw</text>\n",
       "<text text-anchor=\"middle\" x=\"396.62\" y=\"-333.07\" font-family=\"Times,serif\" font-size=\"14.00\">~</text>\n",
       "<text text-anchor=\"middle\" x=\"396.62\" y=\"-315.82\" font-family=\"Times,serif\" font-size=\"14.00\">Deterministic</text>\n",
       "</g>\n",
       "<!-- var_sigma_raw_sigma&#45;&gt;var_sigma_raw -->\n",
       "<g id=\"edge3\" class=\"edge\">\n",
       "<title>var_sigma_raw_sigma&#45;&gt;var_sigma_raw</title>\n",
       "<path fill=\"none\" stroke=\"black\" d=\"M197.13,-424.71C236.89,-407.58 285.4,-386.67 324.63,-369.77\"/>\n",
       "<polygon fill=\"black\" stroke=\"black\" points=\"325.99,-373 333.78,-365.83 323.22,-366.57 325.99,-373\"/>\n",
       "</g>\n",
       "<!-- var_mu_sigma -->\n",
       "<g id=\"node2\" class=\"node\">\n",
       "<title>var_mu_sigma</title>\n",
       "<ellipse fill=\"none\" stroke=\"black\" cx=\"599.62\" cy=\"-337.75\" rx=\"83.44\" ry=\"42.25\"/>\n",
       "<text text-anchor=\"middle\" x=\"599.62\" y=\"-350.32\" font-family=\"Times,serif\" font-size=\"14.00\">var_mu_sigma</text>\n",
       "<text text-anchor=\"middle\" x=\"599.62\" y=\"-333.07\" font-family=\"Times,serif\" font-size=\"14.00\">~</text>\n",
       "<text text-anchor=\"middle\" x=\"599.62\" y=\"-315.82\" font-family=\"Times,serif\" font-size=\"14.00\">HalfNormal</text>\n",
       "</g>\n",
       "<!-- var_mu -->\n",
       "<g id=\"node5\" class=\"node\">\n",
       "<title>var_mu</title>\n",
       "<ellipse fill=\"none\" stroke=\"black\" cx=\"599.62\" cy=\"-217.25\" rx=\"48.97\" ry=\"42.25\"/>\n",
       "<text text-anchor=\"middle\" x=\"599.62\" y=\"-229.82\" font-family=\"Times,serif\" font-size=\"14.00\">var_mu</text>\n",
       "<text text-anchor=\"middle\" x=\"599.62\" y=\"-212.57\" font-family=\"Times,serif\" font-size=\"14.00\">~</text>\n",
       "<text text-anchor=\"middle\" x=\"599.62\" y=\"-195.32\" font-family=\"Times,serif\" font-size=\"14.00\">Normal</text>\n",
       "</g>\n",
       "<!-- var_mu_sigma&#45;&gt;var_mu -->\n",
       "<g id=\"edge1\" class=\"edge\">\n",
       "<title>var_mu_sigma&#45;&gt;var_mu</title>\n",
       "<path fill=\"none\" stroke=\"black\" d=\"M599.62,-295.3C599.62,-287.5 599.62,-279.24 599.62,-271.15\"/>\n",
       "<polygon fill=\"black\" stroke=\"black\" points=\"603.12,-271.38 599.62,-261.38 596.12,-271.38 603.12,-271.38\"/>\n",
       "</g>\n",
       "<!-- var_sigma_raw_mu -->\n",
       "<g id=\"node3\" class=\"node\">\n",
       "<title>var_sigma_raw_mu</title>\n",
       "<ellipse fill=\"none\" stroke=\"black\" cx=\"625.62\" cy=\"-458.25\" rx=\"107.3\" ry=\"42.25\"/>\n",
       "<text text-anchor=\"middle\" x=\"625.62\" y=\"-470.82\" font-family=\"Times,serif\" font-size=\"14.00\">var_sigma_raw_mu</text>\n",
       "<text text-anchor=\"middle\" x=\"625.62\" y=\"-453.57\" font-family=\"Times,serif\" font-size=\"14.00\">~</text>\n",
       "<text text-anchor=\"middle\" x=\"625.62\" y=\"-436.32\" font-family=\"Times,serif\" font-size=\"14.00\">Normal</text>\n",
       "</g>\n",
       "<!-- var_sigma_raw_mu&#45;&gt;var_sigma_raw -->\n",
       "<g id=\"edge4\" class=\"edge\">\n",
       "<title>var_sigma_raw_mu&#45;&gt;var_sigma_raw</title>\n",
       "<path fill=\"none\" stroke=\"black\" d=\"M561.53,-424.08C530.84,-408.2 494.13,-389.2 463.13,-373.17\"/>\n",
       "<polygon fill=\"black\" stroke=\"black\" points=\"465.12,-370.25 454.63,-368.77 461.9,-376.47 465.12,-370.25\"/>\n",
       "</g>\n",
       "<!-- var_mu_mu -->\n",
       "<g id=\"node4\" class=\"node\">\n",
       "<title>var_mu_mu</title>\n",
       "<ellipse fill=\"none\" stroke=\"black\" cx=\"770.62\" cy=\"-337.75\" rx=\"69.12\" ry=\"42.25\"/>\n",
       "<text text-anchor=\"middle\" x=\"770.62\" y=\"-350.32\" font-family=\"Times,serif\" font-size=\"14.00\">var_mu_mu</text>\n",
       "<text text-anchor=\"middle\" x=\"770.62\" y=\"-333.07\" font-family=\"Times,serif\" font-size=\"14.00\">~</text>\n",
       "<text text-anchor=\"middle\" x=\"770.62\" y=\"-315.82\" font-family=\"Times,serif\" font-size=\"14.00\">Normal</text>\n",
       "</g>\n",
       "<!-- var_mu_mu&#45;&gt;var_mu -->\n",
       "<g id=\"edge2\" class=\"edge\">\n",
       "<title>var_mu_mu&#45;&gt;var_mu</title>\n",
       "<path fill=\"none\" stroke=\"black\" d=\"M725.69,-305.61C701.39,-288.77 671.39,-267.98 646.75,-250.91\"/>\n",
       "<polygon fill=\"black\" stroke=\"black\" points=\"649.05,-248.24 638.84,-245.43 645.07,-254 649.05,-248.24\"/>\n",
       "</g>\n",
       "<!-- var -->\n",
       "<g id=\"node9\" class=\"node\">\n",
       "<title>var</title>\n",
       "<ellipse fill=\"none\" stroke=\"black\" cx=\"524.62\" cy=\"-83.5\" rx=\"48.97\" ry=\"42.25\"/>\n",
       "<text text-anchor=\"middle\" x=\"524.62\" y=\"-96.07\" font-family=\"Times,serif\" font-size=\"14.00\">var</text>\n",
       "<text text-anchor=\"middle\" x=\"524.62\" y=\"-78.82\" font-family=\"Times,serif\" font-size=\"14.00\">~</text>\n",
       "<text text-anchor=\"middle\" x=\"524.62\" y=\"-61.57\" font-family=\"Times,serif\" font-size=\"14.00\">Normal</text>\n",
       "</g>\n",
       "<!-- var_mu&#45;&gt;var -->\n",
       "<g id=\"edge7\" class=\"edge\">\n",
       "<title>var_mu&#45;&gt;var</title>\n",
       "<path fill=\"none\" stroke=\"black\" d=\"M578.33,-178.85C570.02,-164.24 560.39,-147.33 551.6,-131.89\"/>\n",
       "<polygon fill=\"black\" stroke=\"black\" points=\"554.7,-130.27 546.72,-123.31 548.62,-133.73 554.7,-130.27\"/>\n",
       "</g>\n",
       "<!-- var_sigma -->\n",
       "<g id=\"node7\" class=\"node\">\n",
       "<title>var_sigma</title>\n",
       "<polygon fill=\"none\" stroke=\"black\" points=\"484.37,-247.12 370.87,-247.12 370.87,-187.37 484.37,-187.37 484.37,-247.12\"/>\n",
       "<text text-anchor=\"middle\" x=\"427.62\" y=\"-229.82\" font-family=\"Times,serif\" font-size=\"14.00\">var_sigma</text>\n",
       "<text text-anchor=\"middle\" x=\"427.62\" y=\"-212.57\" font-family=\"Times,serif\" font-size=\"14.00\">~</text>\n",
       "<text text-anchor=\"middle\" x=\"427.62\" y=\"-195.32\" font-family=\"Times,serif\" font-size=\"14.00\">Deterministic</text>\n",
       "</g>\n",
       "<!-- var_sigma_raw&#45;&gt;var_sigma -->\n",
       "<g id=\"edge6\" class=\"edge\">\n",
       "<title>var_sigma_raw&#45;&gt;var_sigma</title>\n",
       "<path fill=\"none\" stroke=\"black\" d=\"M404.29,-307.46C408.16,-292.64 412.92,-274.44 417.13,-258.35\"/>\n",
       "<polygon fill=\"black\" stroke=\"black\" points=\"420.41,-259.64 419.56,-249.08 413.64,-257.87 420.41,-259.64\"/>\n",
       "</g>\n",
       "<!-- var_sigma&#45;&gt;var -->\n",
       "<g id=\"edge8\" class=\"edge\">\n",
       "<title>var_sigma&#45;&gt;var</title>\n",
       "<path fill=\"none\" stroke=\"black\" d=\"M449.15,-187.01C461.72,-169.94 477.83,-148.06 491.93,-128.9\"/>\n",
       "<polygon fill=\"black\" stroke=\"black\" points=\"494.66,-131.09 497.77,-120.97 489.03,-126.94 494.66,-131.09\"/>\n",
       "</g>\n",
       "<!-- var_sigma_raw_offset -->\n",
       "<g id=\"node8\" class=\"node\">\n",
       "<title>var_sigma_raw_offset</title>\n",
       "<ellipse fill=\"none\" stroke=\"black\" cx=\"380.62\" cy=\"-458.25\" rx=\"119.5\" ry=\"42.25\"/>\n",
       "<text text-anchor=\"middle\" x=\"380.62\" y=\"-470.82\" font-family=\"Times,serif\" font-size=\"14.00\">var_sigma_raw_offset</text>\n",
       "<text text-anchor=\"middle\" x=\"380.62\" y=\"-453.57\" font-family=\"Times,serif\" font-size=\"14.00\">~</text>\n",
       "<text text-anchor=\"middle\" x=\"380.62\" y=\"-436.32\" font-family=\"Times,serif\" font-size=\"14.00\">Normal</text>\n",
       "</g>\n",
       "<!-- var_sigma_raw_offset&#45;&gt;var_sigma_raw -->\n",
       "<g id=\"edge5\" class=\"edge\">\n",
       "<title>var_sigma_raw_offset&#45;&gt;var_sigma_raw</title>\n",
       "<path fill=\"none\" stroke=\"black\" d=\"M386.22,-415.8C387.81,-403.99 389.55,-391.13 391.14,-379.37\"/>\n",
       "<polygon fill=\"black\" stroke=\"black\" points=\"394.59,-379.93 392.46,-369.55 387.66,-378.99 394.59,-379.93\"/>\n",
       "</g>\n",
       "</g>\n",
       "</svg>\n"
      ],
      "text/plain": [
       "<graphviz.graphs.Digraph at 0x7ff7a55f4cd0>"
      ]
     },
     "execution_count": 27,
     "metadata": {},
     "output_type": "execute_result"
    }
   ],
   "source": [
    "def create_2d_variable(mu_dims, sigma_dims) -> Prior:\n",
    "    mu = Prior(\n",
    "        \"Normal\",\n",
    "        mu=Prior(\"Normal\"),\n",
    "        sigma=Prior(\"HalfNormal\"),\n",
    "        dims=mu_dims,\n",
    "    )\n",
    "    sigma = Prior(\n",
    "        \"Normal\",\n",
    "        mu=Prior(\"Normal\"),\n",
    "        sigma=Prior(\"HalfNormal\"),\n",
    "        centered=False,\n",
    "        dims=sigma_dims,\n",
    "        transform=\"exp\",\n",
    "    )\n",
    "    return Prior(\n",
    "        \"Normal\",\n",
    "        mu=mu,\n",
    "        sigma=sigma,\n",
    "        dims=(\"channel\", \"geo\"),\n",
    "    )\n",
    "\n",
    "\n",
    "variable_2d = create_2d_variable(mu_dims=\"channel\", sigma_dims=\"geo\")\n",
    "variable_2d.to_graph()"
   ]
  },
  {
   "cell_type": "markdown",
   "id": "e018082e-23fb-48ab-ac69-e506a8fe9d9b",
   "metadata": {},
   "source": [
    "And the user can spend more time thinking about just the assumptions of the variables rather than logic to ensure the dimensions work."
   ]
  },
  {
   "cell_type": "code",
   "execution_count": 28,
   "id": "e0bdf8b8-34b7-4918-8106-2203b7db6152",
   "metadata": {},
   "outputs": [
    {
     "data": {
      "image/svg+xml": [
       "<?xml version=\"1.0\" encoding=\"UTF-8\" standalone=\"no\"?>\n",
       "<!DOCTYPE svg PUBLIC \"-//W3C//DTD SVG 1.1//EN\"\n",
       " \"http://www.w3.org/Graphics/SVG/1.1/DTD/svg11.dtd\">\n",
       "<!-- Generated by graphviz version 9.0.0 (20231125.0833)\n",
       " -->\n",
       "<!-- Pages: 1 -->\n",
       "<svg width=\"962pt\" height=\"579pt\"\n",
       " viewBox=\"0.00 0.00 961.74 579.50\" xmlns=\"http://www.w3.org/2000/svg\" xmlns:xlink=\"http://www.w3.org/1999/xlink\">\n",
       "<g id=\"graph0\" class=\"graph\" transform=\"scale(1 1) rotate(0) translate(4 575.5)\">\n",
       "<polygon fill=\"white\" stroke=\"none\" points=\"-4,4 -4,-575.5 957.74,-575.5 957.74,4 -4,4\"/>\n",
       "<g id=\"clust1\" class=\"cluster\">\n",
       "<title>clusterchannel (1)</title>\n",
       "<path fill=\"none\" stroke=\"black\" d=\"M497.62,-141.75C497.62,-141.75 844.62,-141.75 844.62,-141.75 850.62,-141.75 856.62,-147.75 856.62,-153.75 856.62,-153.75 856.62,-447 856.62,-447 856.62,-453 850.62,-459 844.62,-459 844.62,-459 497.62,-459 497.62,-459 491.62,-459 485.62,-453 485.62,-447 485.62,-447 485.62,-153.75 485.62,-153.75 485.62,-147.75 491.62,-141.75 497.62,-141.75\"/>\n",
       "<text text-anchor=\"middle\" x=\"808.87\" y=\"-149.7\" font-family=\"Times,serif\" font-size=\"14.00\">channel (1)</text>\n",
       "</g>\n",
       "<g id=\"clust2\" class=\"cluster\">\n",
       "<title>clusterchannel (1) x geo (1)</title>\n",
       "<path fill=\"none\" stroke=\"black\" d=\"M627.62,-8C627.62,-8 765.62,-8 765.62,-8 771.62,-8 777.62,-14 777.62,-20 777.62,-20 777.62,-121.75 777.62,-121.75 777.62,-127.75 771.62,-133.75 765.62,-133.75 765.62,-133.75 627.62,-133.75 627.62,-133.75 621.62,-133.75 615.62,-127.75 615.62,-121.75 615.62,-121.75 615.62,-20 615.62,-20 615.62,-14 621.62,-8 627.62,-8\"/>\n",
       "<text text-anchor=\"middle\" x=\"696.5\" y=\"-15.95\" font-family=\"Times,serif\" font-size=\"14.00\">channel (1) x geo (1)</text>\n",
       "</g>\n",
       "<!-- var_sigma_raw_sigma -->\n",
       "<g id=\"node1\" class=\"node\">\n",
       "<title>var_sigma_raw_sigma</title>\n",
       "<ellipse fill=\"none\" stroke=\"black\" cx=\"121.62\" cy=\"-408.75\" rx=\"121.62\" ry=\"42.25\"/>\n",
       "<text text-anchor=\"middle\" x=\"121.62\" y=\"-421.32\" font-family=\"Times,serif\" font-size=\"14.00\">var_sigma_raw_sigma</text>\n",
       "<text text-anchor=\"middle\" x=\"121.62\" y=\"-404.07\" font-family=\"Times,serif\" font-size=\"14.00\">~</text>\n",
       "<text text-anchor=\"middle\" x=\"121.62\" y=\"-386.82\" font-family=\"Times,serif\" font-size=\"14.00\">HalfNormal</text>\n",
       "</g>\n",
       "<!-- var_sigma_raw -->\n",
       "<g id=\"node6\" class=\"node\">\n",
       "<title>var_sigma_raw</title>\n",
       "<polygon fill=\"none\" stroke=\"black\" points=\"644.87,-330.5 522.37,-330.5 522.37,-270.75 644.87,-270.75 644.87,-330.5\"/>\n",
       "<text text-anchor=\"middle\" x=\"583.62\" y=\"-313.2\" font-family=\"Times,serif\" font-size=\"14.00\">var_sigma_raw</text>\n",
       "<text text-anchor=\"middle\" x=\"583.62\" y=\"-295.95\" font-family=\"Times,serif\" font-size=\"14.00\">~</text>\n",
       "<text text-anchor=\"middle\" x=\"583.62\" y=\"-278.7\" font-family=\"Times,serif\" font-size=\"14.00\">Deterministic</text>\n",
       "</g>\n",
       "<!-- var_sigma_raw_sigma&#45;&gt;var_sigma_raw -->\n",
       "<g id=\"edge3\" class=\"edge\">\n",
       "<title>var_sigma_raw_sigma&#45;&gt;var_sigma_raw</title>\n",
       "<path fill=\"none\" stroke=\"black\" d=\"M208.61,-378.87C223.23,-374.45 238.3,-370.15 252.62,-366.5 340.6,-344.1 443.41,-325.04 510.83,-313.49\"/>\n",
       "<polygon fill=\"black\" stroke=\"black\" points=\"511.4,-316.94 520.67,-311.81 510.22,-310.04 511.4,-316.94\"/>\n",
       "</g>\n",
       "<!-- var_mu_sigma -->\n",
       "<g id=\"node2\" class=\"node\">\n",
       "<title>var_mu_sigma</title>\n",
       "<ellipse fill=\"none\" stroke=\"black\" cx=\"713.62\" cy=\"-529.25\" rx=\"83.44\" ry=\"42.25\"/>\n",
       "<text text-anchor=\"middle\" x=\"713.62\" y=\"-541.82\" font-family=\"Times,serif\" font-size=\"14.00\">var_mu_sigma</text>\n",
       "<text text-anchor=\"middle\" x=\"713.62\" y=\"-524.57\" font-family=\"Times,serif\" font-size=\"14.00\">~</text>\n",
       "<text text-anchor=\"middle\" x=\"713.62\" y=\"-507.32\" font-family=\"Times,serif\" font-size=\"14.00\">HalfNormal</text>\n",
       "</g>\n",
       "<!-- var_mu -->\n",
       "<g id=\"node5\" class=\"node\">\n",
       "<title>var_mu</title>\n",
       "<ellipse fill=\"none\" stroke=\"black\" cx=\"799.62\" cy=\"-408.75\" rx=\"48.97\" ry=\"42.25\"/>\n",
       "<text text-anchor=\"middle\" x=\"799.62\" y=\"-421.32\" font-family=\"Times,serif\" font-size=\"14.00\">var_mu</text>\n",
       "<text text-anchor=\"middle\" x=\"799.62\" y=\"-404.07\" font-family=\"Times,serif\" font-size=\"14.00\">~</text>\n",
       "<text text-anchor=\"middle\" x=\"799.62\" y=\"-386.82\" font-family=\"Times,serif\" font-size=\"14.00\">Normal</text>\n",
       "</g>\n",
       "<!-- var_mu_sigma&#45;&gt;var_mu -->\n",
       "<g id=\"edge1\" class=\"edge\">\n",
       "<title>var_mu_sigma&#45;&gt;var_mu</title>\n",
       "<path fill=\"none\" stroke=\"black\" d=\"M742.02,-489.12C750.13,-477.95 759.02,-465.69 767.34,-454.23\"/>\n",
       "<polygon fill=\"black\" stroke=\"black\" points=\"769.94,-456.61 772.98,-446.46 764.27,-452.5 769.94,-456.61\"/>\n",
       "</g>\n",
       "<!-- var_sigma_raw_mu -->\n",
       "<g id=\"node3\" class=\"node\">\n",
       "<title>var_sigma_raw_mu</title>\n",
       "<ellipse fill=\"none\" stroke=\"black\" cx=\"368.62\" cy=\"-408.75\" rx=\"107.3\" ry=\"42.25\"/>\n",
       "<text text-anchor=\"middle\" x=\"368.62\" y=\"-421.32\" font-family=\"Times,serif\" font-size=\"14.00\">var_sigma_raw_mu</text>\n",
       "<text text-anchor=\"middle\" x=\"368.62\" y=\"-404.07\" font-family=\"Times,serif\" font-size=\"14.00\">~</text>\n",
       "<text text-anchor=\"middle\" x=\"368.62\" y=\"-386.82\" font-family=\"Times,serif\" font-size=\"14.00\">Normal</text>\n",
       "</g>\n",
       "<!-- var_sigma_raw_mu&#45;&gt;var_sigma_raw -->\n",
       "<g id=\"edge4\" class=\"edge\">\n",
       "<title>var_sigma_raw_mu&#45;&gt;var_sigma_raw</title>\n",
       "<path fill=\"none\" stroke=\"black\" d=\"M434.88,-375.04C459.93,-362.68 488.51,-348.57 513.87,-336.06\"/>\n",
       "<polygon fill=\"black\" stroke=\"black\" points=\"515.37,-339.22 522.79,-331.65 512.28,-332.94 515.37,-339.22\"/>\n",
       "</g>\n",
       "<!-- var_mu_mu -->\n",
       "<g id=\"node4\" class=\"node\">\n",
       "<title>var_mu_mu</title>\n",
       "<ellipse fill=\"none\" stroke=\"black\" cx=\"884.62\" cy=\"-529.25\" rx=\"69.12\" ry=\"42.25\"/>\n",
       "<text text-anchor=\"middle\" x=\"884.62\" y=\"-541.82\" font-family=\"Times,serif\" font-size=\"14.00\">var_mu_mu</text>\n",
       "<text text-anchor=\"middle\" x=\"884.62\" y=\"-524.57\" font-family=\"Times,serif\" font-size=\"14.00\">~</text>\n",
       "<text text-anchor=\"middle\" x=\"884.62\" y=\"-507.32\" font-family=\"Times,serif\" font-size=\"14.00\">Normal</text>\n",
       "</g>\n",
       "<!-- var_mu_mu&#45;&gt;var_mu -->\n",
       "<g id=\"edge2\" class=\"edge\">\n",
       "<title>var_mu_mu&#45;&gt;var_mu</title>\n",
       "<path fill=\"none\" stroke=\"black\" d=\"M857.26,-490.1C849.06,-478.68 840.01,-466.05 831.54,-454.25\"/>\n",
       "<polygon fill=\"black\" stroke=\"black\" points=\"834.47,-452.32 825.8,-446.24 828.78,-456.4 834.47,-452.32\"/>\n",
       "</g>\n",
       "<!-- var -->\n",
       "<g id=\"node9\" class=\"node\">\n",
       "<title>var</title>\n",
       "<ellipse fill=\"none\" stroke=\"black\" cx=\"692.62\" cy=\"-83.5\" rx=\"48.97\" ry=\"42.25\"/>\n",
       "<text text-anchor=\"middle\" x=\"692.62\" y=\"-96.07\" font-family=\"Times,serif\" font-size=\"14.00\">var</text>\n",
       "<text text-anchor=\"middle\" x=\"692.62\" y=\"-78.82\" font-family=\"Times,serif\" font-size=\"14.00\">~</text>\n",
       "<text text-anchor=\"middle\" x=\"692.62\" y=\"-61.57\" font-family=\"Times,serif\" font-size=\"14.00\">Normal</text>\n",
       "</g>\n",
       "<!-- var_mu&#45;&gt;var -->\n",
       "<g id=\"edge7\" class=\"edge\">\n",
       "<title>var_mu&#45;&gt;var</title>\n",
       "<path fill=\"none\" stroke=\"black\" d=\"M786.39,-367.79C766.97,-309.11 730.73,-199.63 709.44,-135.31\"/>\n",
       "<polygon fill=\"black\" stroke=\"black\" points=\"712.84,-134.45 706.38,-126.06 706.2,-136.65 712.84,-134.45\"/>\n",
       "</g>\n",
       "<!-- var_sigma -->\n",
       "<g id=\"node7\" class=\"node\">\n",
       "<title>var_sigma</title>\n",
       "<polygon fill=\"none\" stroke=\"black\" points=\"673.37,-234.75 559.87,-234.75 559.87,-175 673.37,-175 673.37,-234.75\"/>\n",
       "<text text-anchor=\"middle\" x=\"616.62\" y=\"-217.45\" font-family=\"Times,serif\" font-size=\"14.00\">var_sigma</text>\n",
       "<text text-anchor=\"middle\" x=\"616.62\" y=\"-200.2\" font-family=\"Times,serif\" font-size=\"14.00\">~</text>\n",
       "<text text-anchor=\"middle\" x=\"616.62\" y=\"-182.95\" font-family=\"Times,serif\" font-size=\"14.00\">Deterministic</text>\n",
       "</g>\n",
       "<!-- var_sigma_raw&#45;&gt;var_sigma -->\n",
       "<g id=\"edge6\" class=\"edge\">\n",
       "<title>var_sigma_raw&#45;&gt;var_sigma</title>\n",
       "<path fill=\"none\" stroke=\"black\" d=\"M593.88,-270.48C596.65,-262.63 599.68,-254 602.61,-245.68\"/>\n",
       "<polygon fill=\"black\" stroke=\"black\" points=\"605.85,-247.03 605.87,-236.43 599.24,-244.7 605.85,-247.03\"/>\n",
       "</g>\n",
       "<!-- var_sigma&#45;&gt;var -->\n",
       "<g id=\"edge8\" class=\"edge\">\n",
       "<title>var_sigma&#45;&gt;var</title>\n",
       "<path fill=\"none\" stroke=\"black\" d=\"M635.21,-174.67C643.65,-161.42 653.83,-145.43 663.26,-130.62\"/>\n",
       "<polygon fill=\"black\" stroke=\"black\" points=\"666.09,-132.69 668.51,-122.37 660.19,-128.93 666.09,-132.69\"/>\n",
       "</g>\n",
       "<!-- var_sigma_raw_offset -->\n",
       "<g id=\"node8\" class=\"node\">\n",
       "<title>var_sigma_raw_offset</title>\n",
       "<ellipse fill=\"none\" stroke=\"black\" cx=\"613.62\" cy=\"-408.75\" rx=\"119.5\" ry=\"42.25\"/>\n",
       "<text text-anchor=\"middle\" x=\"613.62\" y=\"-421.32\" font-family=\"Times,serif\" font-size=\"14.00\">var_sigma_raw_offset</text>\n",
       "<text text-anchor=\"middle\" x=\"613.62\" y=\"-404.07\" font-family=\"Times,serif\" font-size=\"14.00\">~</text>\n",
       "<text text-anchor=\"middle\" x=\"613.62\" y=\"-386.82\" font-family=\"Times,serif\" font-size=\"14.00\">Normal</text>\n",
       "</g>\n",
       "<!-- var_sigma_raw_offset&#45;&gt;var_sigma_raw -->\n",
       "<g id=\"edge5\" class=\"edge\">\n",
       "<title>var_sigma_raw_offset&#45;&gt;var_sigma_raw</title>\n",
       "<path fill=\"none\" stroke=\"black\" d=\"M601.94,-366.41C599.66,-358.34 597.27,-349.89 595,-341.86\"/>\n",
       "<polygon fill=\"black\" stroke=\"black\" points=\"598.39,-340.99 592.3,-332.32 591.65,-342.9 598.39,-340.99\"/>\n",
       "</g>\n",
       "</g>\n",
       "</svg>\n"
      ],
      "text/plain": [
       "<graphviz.graphs.Digraph at 0x7ff7a41569e0>"
      ]
     },
     "execution_count": 28,
     "metadata": {},
     "output_type": "execute_result"
    }
   ],
   "source": [
    "different_assumptions_2d = create_2d_variable(mu_dims=\"channel\", sigma_dims=\"channel\")\n",
    "\n",
    "different_assumptions_2d.to_graph()"
   ]
  },
  {
   "cell_type": "markdown",
   "id": "6e01638c-5e10-4796-a76b-7fd3b1b1ac3c",
   "metadata": {},
   "source": [
    "### Serialization\n",
    "\n",
    "The `to_json` and `from_json` methods can be helpful for storage of the distributions."
   ]
  },
  {
   "cell_type": "code",
   "execution_count": 29,
   "id": "f34d2031-90f1-4c06-a0ab-2f3133cdb9c1",
   "metadata": {},
   "outputs": [
    {
     "data": {
      "text/plain": [
       "{'dist': 'Normal',\n",
       " 'kwargs': {'mu': {'dist': 'Normal',\n",
       "   'kwargs': {'mu': {'dist': 'Normal'}, 'sigma': {'dist': 'HalfNormal'}},\n",
       "   'dims': ('channel',)},\n",
       "  'sigma': {'dist': 'Normal',\n",
       "   'kwargs': {'mu': {'dist': 'Normal'}, 'sigma': {'dist': 'HalfNormal'}},\n",
       "   'centered': False,\n",
       "   'dims': ('geo',),\n",
       "   'transform': 'exp'}},\n",
       " 'dims': ('channel', 'geo')}"
      ]
     },
     "execution_count": 29,
     "metadata": {},
     "output_type": "execute_result"
    }
   ],
   "source": [
    "variable_2d_dict = variable_2d.to_json()\n",
    "variable_2d_dict"
   ]
  },
  {
   "cell_type": "code",
   "execution_count": 30,
   "id": "cd833a19-ef27-4701-8b8e-a41990bd5a10",
   "metadata": {
    "scrolled": true
   },
   "outputs": [
    {
     "data": {
      "image/svg+xml": [
       "<?xml version=\"1.0\" encoding=\"UTF-8\" standalone=\"no\"?>\n",
       "<!DOCTYPE svg PUBLIC \"-//W3C//DTD SVG 1.1//EN\"\n",
       " \"http://www.w3.org/Graphics/SVG/1.1/DTD/svg11.dtd\">\n",
       "<!-- Generated by graphviz version 9.0.0 (20231125.0833)\n",
       " -->\n",
       "<!-- Pages: 1 -->\n",
       "<svg width=\"848pt\" height=\"524pt\"\n",
       " viewBox=\"0.00 0.00 847.74 524.50\" xmlns=\"http://www.w3.org/2000/svg\" xmlns:xlink=\"http://www.w3.org/1999/xlink\">\n",
       "<g id=\"graph0\" class=\"graph\" transform=\"scale(1 1) rotate(0) translate(4 520.5)\">\n",
       "<polygon fill=\"white\" stroke=\"none\" points=\"-4,4 -4,-520.5 843.74,-520.5 843.74,4 -4,4\"/>\n",
       "<g id=\"clust1\" class=\"cluster\">\n",
       "<title>clusterchannel (1)</title>\n",
       "<path fill=\"none\" stroke=\"black\" d=\"M554.62,-141.75C554.62,-141.75 644.62,-141.75 644.62,-141.75 650.62,-141.75 656.62,-147.75 656.62,-153.75 656.62,-153.75 656.62,-255.5 656.62,-255.5 656.62,-261.5 650.62,-267.5 644.62,-267.5 644.62,-267.5 554.62,-267.5 554.62,-267.5 548.62,-267.5 542.62,-261.5 542.62,-255.5 542.62,-255.5 542.62,-153.75 542.62,-153.75 542.62,-147.75 548.62,-141.75 554.62,-141.75\"/>\n",
       "<text text-anchor=\"middle\" x=\"608.87\" y=\"-149.7\" font-family=\"Times,serif\" font-size=\"14.00\">channel (1)</text>\n",
       "</g>\n",
       "<g id=\"clust2\" class=\"cluster\">\n",
       "<title>clustergeo (1)</title>\n",
       "<path fill=\"none\" stroke=\"black\" d=\"M264.62,-154.12C264.62,-154.12 496.62,-154.12 496.62,-154.12 502.62,-154.12 508.62,-160.12 508.62,-166.12 508.62,-166.12 508.62,-496.5 508.62,-496.5 508.62,-502.5 502.62,-508.5 496.62,-508.5 496.62,-508.5 264.62,-508.5 264.62,-508.5 258.62,-508.5 252.62,-502.5 252.62,-496.5 252.62,-496.5 252.62,-166.12 252.62,-166.12 252.62,-160.12 258.62,-154.12 264.62,-154.12\"/>\n",
       "<text text-anchor=\"middle\" x=\"475.87\" y=\"-162.07\" font-family=\"Times,serif\" font-size=\"14.00\">geo (1)</text>\n",
       "</g>\n",
       "<g id=\"clust3\" class=\"cluster\">\n",
       "<title>clusterchannel (1) x geo (1)</title>\n",
       "<path fill=\"none\" stroke=\"black\" d=\"M455.62,-8C455.62,-8 593.62,-8 593.62,-8 599.62,-8 605.62,-14 605.62,-20 605.62,-20 605.62,-121.75 605.62,-121.75 605.62,-127.75 599.62,-133.75 593.62,-133.75 593.62,-133.75 455.62,-133.75 455.62,-133.75 449.62,-133.75 443.62,-127.75 443.62,-121.75 443.62,-121.75 443.62,-20 443.62,-20 443.62,-14 449.62,-8 455.62,-8\"/>\n",
       "<text text-anchor=\"middle\" x=\"524.5\" y=\"-15.95\" font-family=\"Times,serif\" font-size=\"14.00\">channel (1) x geo (1)</text>\n",
       "</g>\n",
       "<!-- var_sigma_raw_sigma -->\n",
       "<g id=\"node1\" class=\"node\">\n",
       "<title>var_sigma_raw_sigma</title>\n",
       "<ellipse fill=\"none\" stroke=\"black\" cx=\"121.62\" cy=\"-458.25\" rx=\"121.62\" ry=\"42.25\"/>\n",
       "<text text-anchor=\"middle\" x=\"121.62\" y=\"-470.82\" font-family=\"Times,serif\" font-size=\"14.00\">var_sigma_raw_sigma</text>\n",
       "<text text-anchor=\"middle\" x=\"121.62\" y=\"-453.57\" font-family=\"Times,serif\" font-size=\"14.00\">~</text>\n",
       "<text text-anchor=\"middle\" x=\"121.62\" y=\"-436.32\" font-family=\"Times,serif\" font-size=\"14.00\">HalfNormal</text>\n",
       "</g>\n",
       "<!-- var_sigma_raw -->\n",
       "<g id=\"node6\" class=\"node\">\n",
       "<title>var_sigma_raw</title>\n",
       "<polygon fill=\"none\" stroke=\"black\" points=\"457.87,-367.62 335.37,-367.62 335.37,-307.87 457.87,-307.87 457.87,-367.62\"/>\n",
       "<text text-anchor=\"middle\" x=\"396.62\" y=\"-350.32\" font-family=\"Times,serif\" font-size=\"14.00\">var_sigma_raw</text>\n",
       "<text text-anchor=\"middle\" x=\"396.62\" y=\"-333.07\" font-family=\"Times,serif\" font-size=\"14.00\">~</text>\n",
       "<text text-anchor=\"middle\" x=\"396.62\" y=\"-315.82\" font-family=\"Times,serif\" font-size=\"14.00\">Deterministic</text>\n",
       "</g>\n",
       "<!-- var_sigma_raw_sigma&#45;&gt;var_sigma_raw -->\n",
       "<g id=\"edge3\" class=\"edge\">\n",
       "<title>var_sigma_raw_sigma&#45;&gt;var_sigma_raw</title>\n",
       "<path fill=\"none\" stroke=\"black\" d=\"M197.13,-424.71C236.89,-407.58 285.4,-386.67 324.63,-369.77\"/>\n",
       "<polygon fill=\"black\" stroke=\"black\" points=\"325.99,-373 333.78,-365.83 323.22,-366.57 325.99,-373\"/>\n",
       "</g>\n",
       "<!-- var_mu_sigma -->\n",
       "<g id=\"node2\" class=\"node\">\n",
       "<title>var_mu_sigma</title>\n",
       "<ellipse fill=\"none\" stroke=\"black\" cx=\"599.62\" cy=\"-337.75\" rx=\"83.44\" ry=\"42.25\"/>\n",
       "<text text-anchor=\"middle\" x=\"599.62\" y=\"-350.32\" font-family=\"Times,serif\" font-size=\"14.00\">var_mu_sigma</text>\n",
       "<text text-anchor=\"middle\" x=\"599.62\" y=\"-333.07\" font-family=\"Times,serif\" font-size=\"14.00\">~</text>\n",
       "<text text-anchor=\"middle\" x=\"599.62\" y=\"-315.82\" font-family=\"Times,serif\" font-size=\"14.00\">HalfNormal</text>\n",
       "</g>\n",
       "<!-- var_mu -->\n",
       "<g id=\"node5\" class=\"node\">\n",
       "<title>var_mu</title>\n",
       "<ellipse fill=\"none\" stroke=\"black\" cx=\"599.62\" cy=\"-217.25\" rx=\"48.97\" ry=\"42.25\"/>\n",
       "<text text-anchor=\"middle\" x=\"599.62\" y=\"-229.82\" font-family=\"Times,serif\" font-size=\"14.00\">var_mu</text>\n",
       "<text text-anchor=\"middle\" x=\"599.62\" y=\"-212.57\" font-family=\"Times,serif\" font-size=\"14.00\">~</text>\n",
       "<text text-anchor=\"middle\" x=\"599.62\" y=\"-195.32\" font-family=\"Times,serif\" font-size=\"14.00\">Normal</text>\n",
       "</g>\n",
       "<!-- var_mu_sigma&#45;&gt;var_mu -->\n",
       "<g id=\"edge1\" class=\"edge\">\n",
       "<title>var_mu_sigma&#45;&gt;var_mu</title>\n",
       "<path fill=\"none\" stroke=\"black\" d=\"M599.62,-295.3C599.62,-287.5 599.62,-279.24 599.62,-271.15\"/>\n",
       "<polygon fill=\"black\" stroke=\"black\" points=\"603.12,-271.38 599.62,-261.38 596.12,-271.38 603.12,-271.38\"/>\n",
       "</g>\n",
       "<!-- var_sigma_raw_mu -->\n",
       "<g id=\"node3\" class=\"node\">\n",
       "<title>var_sigma_raw_mu</title>\n",
       "<ellipse fill=\"none\" stroke=\"black\" cx=\"625.62\" cy=\"-458.25\" rx=\"107.3\" ry=\"42.25\"/>\n",
       "<text text-anchor=\"middle\" x=\"625.62\" y=\"-470.82\" font-family=\"Times,serif\" font-size=\"14.00\">var_sigma_raw_mu</text>\n",
       "<text text-anchor=\"middle\" x=\"625.62\" y=\"-453.57\" font-family=\"Times,serif\" font-size=\"14.00\">~</text>\n",
       "<text text-anchor=\"middle\" x=\"625.62\" y=\"-436.32\" font-family=\"Times,serif\" font-size=\"14.00\">Normal</text>\n",
       "</g>\n",
       "<!-- var_sigma_raw_mu&#45;&gt;var_sigma_raw -->\n",
       "<g id=\"edge4\" class=\"edge\">\n",
       "<title>var_sigma_raw_mu&#45;&gt;var_sigma_raw</title>\n",
       "<path fill=\"none\" stroke=\"black\" d=\"M561.53,-424.08C530.84,-408.2 494.13,-389.2 463.13,-373.17\"/>\n",
       "<polygon fill=\"black\" stroke=\"black\" points=\"465.12,-370.25 454.63,-368.77 461.9,-376.47 465.12,-370.25\"/>\n",
       "</g>\n",
       "<!-- var_mu_mu -->\n",
       "<g id=\"node4\" class=\"node\">\n",
       "<title>var_mu_mu</title>\n",
       "<ellipse fill=\"none\" stroke=\"black\" cx=\"770.62\" cy=\"-337.75\" rx=\"69.12\" ry=\"42.25\"/>\n",
       "<text text-anchor=\"middle\" x=\"770.62\" y=\"-350.32\" font-family=\"Times,serif\" font-size=\"14.00\">var_mu_mu</text>\n",
       "<text text-anchor=\"middle\" x=\"770.62\" y=\"-333.07\" font-family=\"Times,serif\" font-size=\"14.00\">~</text>\n",
       "<text text-anchor=\"middle\" x=\"770.62\" y=\"-315.82\" font-family=\"Times,serif\" font-size=\"14.00\">Normal</text>\n",
       "</g>\n",
       "<!-- var_mu_mu&#45;&gt;var_mu -->\n",
       "<g id=\"edge2\" class=\"edge\">\n",
       "<title>var_mu_mu&#45;&gt;var_mu</title>\n",
       "<path fill=\"none\" stroke=\"black\" d=\"M725.69,-305.61C701.39,-288.77 671.39,-267.98 646.75,-250.91\"/>\n",
       "<polygon fill=\"black\" stroke=\"black\" points=\"649.05,-248.24 638.84,-245.43 645.07,-254 649.05,-248.24\"/>\n",
       "</g>\n",
       "<!-- var -->\n",
       "<g id=\"node9\" class=\"node\">\n",
       "<title>var</title>\n",
       "<ellipse fill=\"none\" stroke=\"black\" cx=\"524.62\" cy=\"-83.5\" rx=\"48.97\" ry=\"42.25\"/>\n",
       "<text text-anchor=\"middle\" x=\"524.62\" y=\"-96.07\" font-family=\"Times,serif\" font-size=\"14.00\">var</text>\n",
       "<text text-anchor=\"middle\" x=\"524.62\" y=\"-78.82\" font-family=\"Times,serif\" font-size=\"14.00\">~</text>\n",
       "<text text-anchor=\"middle\" x=\"524.62\" y=\"-61.57\" font-family=\"Times,serif\" font-size=\"14.00\">Normal</text>\n",
       "</g>\n",
       "<!-- var_mu&#45;&gt;var -->\n",
       "<g id=\"edge7\" class=\"edge\">\n",
       "<title>var_mu&#45;&gt;var</title>\n",
       "<path fill=\"none\" stroke=\"black\" d=\"M578.33,-178.85C570.02,-164.24 560.39,-147.33 551.6,-131.89\"/>\n",
       "<polygon fill=\"black\" stroke=\"black\" points=\"554.7,-130.27 546.72,-123.31 548.62,-133.73 554.7,-130.27\"/>\n",
       "</g>\n",
       "<!-- var_sigma -->\n",
       "<g id=\"node7\" class=\"node\">\n",
       "<title>var_sigma</title>\n",
       "<polygon fill=\"none\" stroke=\"black\" points=\"484.37,-247.12 370.87,-247.12 370.87,-187.37 484.37,-187.37 484.37,-247.12\"/>\n",
       "<text text-anchor=\"middle\" x=\"427.62\" y=\"-229.82\" font-family=\"Times,serif\" font-size=\"14.00\">var_sigma</text>\n",
       "<text text-anchor=\"middle\" x=\"427.62\" y=\"-212.57\" font-family=\"Times,serif\" font-size=\"14.00\">~</text>\n",
       "<text text-anchor=\"middle\" x=\"427.62\" y=\"-195.32\" font-family=\"Times,serif\" font-size=\"14.00\">Deterministic</text>\n",
       "</g>\n",
       "<!-- var_sigma_raw&#45;&gt;var_sigma -->\n",
       "<g id=\"edge6\" class=\"edge\">\n",
       "<title>var_sigma_raw&#45;&gt;var_sigma</title>\n",
       "<path fill=\"none\" stroke=\"black\" d=\"M404.29,-307.46C408.16,-292.64 412.92,-274.44 417.13,-258.35\"/>\n",
       "<polygon fill=\"black\" stroke=\"black\" points=\"420.41,-259.64 419.56,-249.08 413.64,-257.87 420.41,-259.64\"/>\n",
       "</g>\n",
       "<!-- var_sigma&#45;&gt;var -->\n",
       "<g id=\"edge8\" class=\"edge\">\n",
       "<title>var_sigma&#45;&gt;var</title>\n",
       "<path fill=\"none\" stroke=\"black\" d=\"M449.15,-187.01C461.72,-169.94 477.83,-148.06 491.93,-128.9\"/>\n",
       "<polygon fill=\"black\" stroke=\"black\" points=\"494.66,-131.09 497.77,-120.97 489.03,-126.94 494.66,-131.09\"/>\n",
       "</g>\n",
       "<!-- var_sigma_raw_offset -->\n",
       "<g id=\"node8\" class=\"node\">\n",
       "<title>var_sigma_raw_offset</title>\n",
       "<ellipse fill=\"none\" stroke=\"black\" cx=\"380.62\" cy=\"-458.25\" rx=\"119.5\" ry=\"42.25\"/>\n",
       "<text text-anchor=\"middle\" x=\"380.62\" y=\"-470.82\" font-family=\"Times,serif\" font-size=\"14.00\">var_sigma_raw_offset</text>\n",
       "<text text-anchor=\"middle\" x=\"380.62\" y=\"-453.57\" font-family=\"Times,serif\" font-size=\"14.00\">~</text>\n",
       "<text text-anchor=\"middle\" x=\"380.62\" y=\"-436.32\" font-family=\"Times,serif\" font-size=\"14.00\">Normal</text>\n",
       "</g>\n",
       "<!-- var_sigma_raw_offset&#45;&gt;var_sigma_raw -->\n",
       "<g id=\"edge5\" class=\"edge\">\n",
       "<title>var_sigma_raw_offset&#45;&gt;var_sigma_raw</title>\n",
       "<path fill=\"none\" stroke=\"black\" d=\"M386.22,-415.8C387.81,-403.99 389.55,-391.13 391.14,-379.37\"/>\n",
       "<polygon fill=\"black\" stroke=\"black\" points=\"394.59,-379.93 392.46,-369.55 387.66,-378.99 394.59,-379.93\"/>\n",
       "</g>\n",
       "</g>\n",
       "</svg>\n"
      ],
      "text/plain": [
       "<graphviz.graphs.Digraph at 0x7ff7a5643040>"
      ]
     },
     "execution_count": 30,
     "metadata": {},
     "output_type": "execute_result"
    }
   ],
   "source": [
    "Prior.from_json(variable_2d_dict).to_graph()"
   ]
  },
  {
   "cell_type": "markdown",
   "id": "41abb828-e67b-4995-b20c-a83b965493c3",
   "metadata": {},
   "source": [
    "## Use in PyMC-Marketing\n",
    "\n",
    "Distributions will be expressed in this manner throughout the package including but not limited to: \n",
    "\n",
    "- MMM components\n",
    "    - [media transformations](https://www.pymc-marketing.io/en/stable/notebooks/mmm/mmm_components.html#media-transformations)\n",
    " \n",
    "### Backwards compatibility\n",
    "\n",
    "The `from_json` method will create a `Prior` instance from the previous format.\n",
    "\n",
    "For instance, take this previous configuration: "
   ]
  },
  {
   "cell_type": "code",
   "execution_count": 31,
   "id": "29e66da3-4fba-4f85-8379-f0d237d45123",
   "metadata": {},
   "outputs": [],
   "source": [
    "old_model_config = {\n",
    "    \"alpha\": {\n",
    "        \"dist\": \"Normal\",\n",
    "        \"kwargs\": {\n",
    "            \"mu\": 0,\n",
    "            \"sigma\": 1,\n",
    "        },\n",
    "    },\n",
    "    \"beta\": {\n",
    "        \"dist\": \"Laplace\",\n",
    "        \"kwargs\": {\n",
    "            \"mu\": 1,\n",
    "            \"b\": 0.5,\n",
    "        },\n",
    "    },\n",
    "}"
   ]
  },
  {
   "cell_type": "markdown",
   "id": "d63987c0-2525-4b12-8415-cd62dd66265f",
   "metadata": {},
   "source": [
    "This can be parsed with the `Prior.from_json` constructor for each key. Much more consise too!"
   ]
  },
  {
   "cell_type": "code",
   "execution_count": 32,
   "id": "92413026-9d9a-4424-b236-09f54b254545",
   "metadata": {},
   "outputs": [
    {
     "data": {
      "text/plain": [
       "{'alpha': Prior(\"Normal\", mu=0, sigma=1),\n",
       " 'beta': Prior(\"Laplace\", mu=1, b=0.5)}"
      ]
     },
     "execution_count": 32,
     "metadata": {},
     "output_type": "execute_result"
    }
   ],
   "source": [
    "new_model_config = {\n",
    "    name: Prior.from_json(key) for name, key in old_model_config.items()\n",
    "}\n",
    "\n",
    "new_model_config"
   ]
  },
  {
   "cell_type": "code",
   "execution_count": 33,
   "id": "1636ae9b-452c-4772-8b60-085c9b044154",
   "metadata": {},
   "outputs": [
    {
     "data": {
      "text/plain": [
       "{'dist': 'Normal', 'kwargs': {'mu': 0, 'sigma': 1}}"
      ]
     },
     "execution_count": 33,
     "metadata": {},
     "output_type": "execute_result"
    }
   ],
   "source": [
    "new_model_config[\"alpha\"].to_json()"
   ]
  },
  {
   "cell_type": "markdown",
   "id": "01370c37-2e03-46bc-98c5-fcd8bae1b8e7",
   "metadata": {},
   "source": [
    "The `parse_model_config` function will do just this and is used internally. It also provides some deprecation warnings."
   ]
  },
  {
   "cell_type": "code",
   "execution_count": 34,
   "id": "54e8e716-b2c9-4019-8620-2616f9783576",
   "metadata": {},
   "outputs": [
    {
     "data": {
      "text/plain": [
       "{'alpha': Prior(\"Normal\", mu=0, sigma=1),\n",
       " 'beta': Prior(\"Laplace\", mu=1, b=0.5)}"
      ]
     },
     "execution_count": 34,
     "metadata": {},
     "output_type": "execute_result"
    }
   ],
   "source": [
    "parse_model_config(old_model_config)"
   ]
  },
  {
   "cell_type": "markdown",
   "id": "9839e1c3-5026-405e-a019-09a20eaac6a1",
   "metadata": {},
   "source": [
    "As well as the ability to catch some errors while parsing."
   ]
  },
  {
   "cell_type": "code",
   "execution_count": 35,
   "id": "00f9e291-3b8f-4457-8451-4b1fb0d0acbb",
   "metadata": {},
   "outputs": [
    {
     "name": "stdout",
     "output_type": "stream",
     "text": [
      "3 errors occurred while parsing model configuration. Errors: Parameter alpha: PyMC doesn't have a distribution of name 'InvalidDistribution', Parameter beta: Parameters must be one of the following types: (int, float, np.array, Prior, pt.TensorVariable). Incorrect parameters: {'mu': <class 'str'>, 'sigma': <class 'str'>}, Parameter gamma: Parameters {'mu'} are not a subset of the pymc distribution parameters {'sigma', 'tau'}\n"
     ]
    }
   ],
   "source": [
    "invalid_model_config = {\n",
    "    \"alpha\": {\n",
    "        \"dist\": \"InvalidDistribution\",\n",
    "    },\n",
    "    \"beta\": {\n",
    "        \"dist\": \"Normal\",\n",
    "        \"kwargs\": {\"mu\": \"one\", \"sigma\": \"two\"},\n",
    "    },\n",
    "    \"gamma\": {\n",
    "        \"dist\": \"HalfNormal\",\n",
    "        \"kwargs\": {\"mu\": 1},\n",
    "    },\n",
    "}\n",
    "\n",
    "try:\n",
    "    parse_model_config(invalid_model_config)\n",
    "except ModelConfigError as e:\n",
    "    print(e)"
   ]
  },
  {
   "cell_type": "code",
   "execution_count": 36,
   "id": "818f52e3-7d53-4b62-afd0-4331b1849509",
   "metadata": {},
   "outputs": [
    {
     "name": "stdout",
     "output_type": "stream",
     "text": [
      "Last updated: Mon Jul 01 2024\n",
      "\n",
      "Python implementation: CPython\n",
      "Python version       : 3.10.13\n",
      "IPython version      : 8.22.2\n",
      "\n",
      "pytensor: 2.20.0\n",
      "\n",
      "arviz     : 0.17.1\n",
      "pymc      : 5.14.0\n",
      "numpy     : 1.26.4\n",
      "matplotlib: 3.8.3\n",
      "pandas    : 2.2.1\n",
      "\n",
      "Watermark: 2.4.3\n",
      "\n"
     ]
    }
   ],
   "source": [
    "%load_ext watermark\n",
    "%watermark -n -u -v -iv -w -p pytensor"
   ]
  }
 ],
 "metadata": {
  "kernelspec": {
   "display_name": "Python 3 (ipykernel)",
   "language": "python",
   "name": "python3"
  },
  "language_info": {
   "codemirror_mode": {
    "name": "ipython",
    "version": 3
   },
   "file_extension": ".py",
   "mimetype": "text/x-python",
   "name": "python",
   "nbconvert_exporter": "python",
   "pygments_lexer": "ipython3",
   "version": "3.10.13"
  }
 },
 "nbformat": 4,
 "nbformat_minor": 5
}
