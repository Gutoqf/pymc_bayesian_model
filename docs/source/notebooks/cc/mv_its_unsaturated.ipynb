{
 "cells": [
  {
   "cell_type": "markdown",
   "metadata": {},
   "source": [
    "# Multivariate ITS model for unsaturated markets\n",
    "\n",
    "This notebook showcases how to use the Multivariate Interrupted Time Series (MVITS) model to estimate where new product sales came from in the case of an unsaturated market. That is, when a new product can lead to (some) reductions in sales of existing products, but some of the new product sales are in the form of growing the market.\n",
    "\n",
    "We will also see a scenario like this which the MVITS model is (at least currently) not able to handle. It is important to be aware of the limitations of the model and whether your dataset fits the assumptions of the model."
   ]
  },
  {
   "cell_type": "markdown",
   "metadata": {},
   "source": [
    "## Notebook setup"
   ]
  },
  {
   "cell_type": "code",
   "execution_count": 1,
   "metadata": {},
   "outputs": [],
   "source": [
    "import arviz as az\n",
    "import matplotlib.pyplot as plt\n",
    "import numpy as np\n",
    "\n",
    "from pymc_marketing.cc.mv_its import (\n",
    "    MVITS,\n",
    "    generate_unsaturated_data,\n",
    ")"
   ]
  },
  {
   "cell_type": "code",
   "execution_count": 2,
   "metadata": {},
   "outputs": [],
   "source": [
    "%load_ext autoreload\n",
    "%autoreload 2"
   ]
  },
  {
   "cell_type": "code",
   "execution_count": 3,
   "metadata": {},
   "outputs": [],
   "source": [
    "%config InlineBackend.figure_format = 'retina'\n",
    "az.style.use(\"default\")\n",
    "plt.rcParams[\"figure.figsize\"] = [10, 5]\n",
    "rng = np.random.default_rng(123)"
   ]
  },
  {
   "cell_type": "markdown",
   "metadata": {},
   "source": [
    "## An unsaturated market example\n",
    "\n",
    "Let's explore a situation where a new product is released, and it sells reasonably well. _Some_ of those new product sales are coming from existing products, but _some_ are coming from new customers.\n",
    "\n",
    "So the total sales increase, but importantly, those additional sales are directed to the new product. This is likely a pretty common scenario in the real world. A new product is released and perhaps it is far better than existing products. So if it sells 1000 units, then some of those sales will be 'taken' from sales of existing products, but the new product is so good that it attracts new customers that would not have purchased any of the existing products. This could happen if the new product falls below a psychologically significant price point, or is associated with new marketing, or simply has a new feature that attracts new customers."
   ]
  },
  {
   "cell_type": "code",
   "execution_count": null,
   "metadata": {},
   "outputs": [],
   "source": [
    "scenario1 = {\n",
    "    \"total_sales_before\": [800],\n",
    "    \"total_sales_after\": [950],\n",
    "    \"total_sales_sigma\": 10,\n",
    "    \"treatment_time\": 40,\n",
    "    \"n_observations\": 100,\n",
    "    \"market_shares_before\": [[500 / 800, 300 / 800, 0]],\n",
    "    \"market_shares_after\": [[400 / 950, 200 / 950, 350 / 950]],\n",
    "    \"market_share_labels\": [\"competitor\", \"own\", \"new\"],\n",
    "    \"rng\": rng,\n",
    "}\n",
    "\n",
    "data = generate_unsaturated_data(**scenario1)\n",
    "\n",
    "data.head()"
   ]
  },
  {
   "cell_type": "markdown",
   "metadata": {},
   "source": [
    "So the key properties of this example are:\n",
    "* The total sales increase when the new product is released.\n",
    "* Some of the new product sales come from existing products. We can tell this because a) the existing products' sales decrease, and b) the new product's sales are greater than the decrease in existing products' sales.\n",
    "* The absolute sales numbers for existing products decrease. This is one of the key assumptions of the MVITS model."
   ]
  },
  {
   "cell_type": "code",
   "execution_count": null,
   "metadata": {},
   "outputs": [],
   "source": [
    "ax = MVITS.plot_data(data);"
   ]
  },
  {
   "cell_type": "code",
   "execution_count": null,
   "metadata": {
    "tags": [
     "hide-output"
    ]
   },
   "outputs": [],
   "source": [
    "result = MVITS(\n",
    "    data,\n",
    "    treatment_time=scenario1[\"treatment_time\"],\n",
    "    existing_sales=[\"competitor\", \"own\"],\n",
    "    market_saturated=False,\n",
    "    treatment_sales=\"new\",\n",
    "    rng=rng,\n",
    ")"
   ]
  },
  {
   "cell_type": "markdown",
   "metadata": {},
   "source": [
    "We can see that the model does a reasonable job of accounting for the data in that it capures the pre-introduction sales levels and the reduction in sales at the point the new product is introduced."
   ]
  },
  {
   "cell_type": "code",
   "execution_count": null,
   "metadata": {},
   "outputs": [],
   "source": [
    "result.plot_fit();"
   ]
  },
  {
   "cell_type": "markdown",
   "metadata": {},
   "source": [
    "The counterfactual plot also looks good. The model estimates the counterfactual sales of the existing products would have continued as they were from before the new product was introduced."
   ]
  },
  {
   "cell_type": "code",
   "execution_count": null,
   "metadata": {},
   "outputs": [],
   "source": [
    "result.plot_counterfactual();"
   ]
  },
  {
   "cell_type": "markdown",
   "metadata": {},
   "source": [
    "The model shows that introduction of the new product caused a decline in the sales of existing products."
   ]
  },
  {
   "cell_type": "code",
   "execution_count": null,
   "metadata": {},
   "outputs": [],
   "source": [
    "result.plot_causal_impact_sales();"
   ]
  },
  {
   "cell_type": "markdown",
   "metadata": {},
   "source": [
    "And looking at the $\\beta$ parameters, we can see:\n",
    "* `beta_all[competitor]` shows that about 33% of the new product sales are incremental, in that they are taken from competitor sales.\n",
    "* `beta_all[own]` shows that about 27% of the new product sales are cannibalisations, in that they are taken from your own companies existing product sales. \n",
    "* `beta_all[new]` shows that about 40% of the new product sales are from growing the market."
   ]
  },
  {
   "cell_type": "code",
   "execution_count": null,
   "metadata": {},
   "outputs": [],
   "source": [
    "az.plot_posterior(result.idata, var_names=[\"beta_all\"], textsize=11, figsize=(12, 3));"
   ]
  },
  {
   "cell_type": "markdown",
   "metadata": {},
   "source": [
    "```{admonition} Beta variables\n",
    ":class: note\n",
    "\n",
    "When we model unsaturated markets using the `market_saturated=False` kwarg in the MVITS model, we need to use the `beta_all` variable, not the `beta` variable. "
   ]
  },
  {
   "cell_type": "markdown",
   "metadata": {},
   "source": [
    "## Limits to the MVITS model\n",
    "\n",
    "In this section we will explore a scenario which the MVITS is incapable of modeling, at least in its current form. Namely, it cannot deal with situations where the sales of existing products _increase_ after the introduction of the new product. This is because the MVITS model assumes that the sales of existing products are constant over time, and that the new product only affects the sales of the existing products negatively."
   ]
  },
  {
   "cell_type": "markdown",
   "metadata": {},
   "source": [
    "```{admonition} Warning\n",
    ":class: warning\n",
    "\n",
    "This section is meant to demonstrate a data scenario that the MVITS is _not_ capable of modeling well. At least, not in its current form."
   ]
  },
  {
   "cell_type": "code",
   "execution_count": 11,
   "metadata": {},
   "outputs": [],
   "source": [
    "scenario2 = {\n",
    "    \"total_sales_before\": [1000],\n",
    "    \"total_sales_after\": [1400],\n",
    "    \"total_sales_sigma\": 20,\n",
    "    \"treatment_time\": 40,\n",
    "    \"n_observations\": 100,\n",
    "    \"market_shares_before\": [[0.7, 0.3, 0]],\n",
    "    \"market_shares_after\": [[0.65, 0.25, 0.1]],\n",
    "    \"market_share_labels\": [\"competitor\", \"own\", \"new\"],\n",
    "    \"rng\": rng,\n",
    "}\n",
    "\n",
    "data = generate_unsaturated_data(**scenario2)"
   ]
  },
  {
   "cell_type": "markdown",
   "metadata": {},
   "source": [
    "In this scenario:\n",
    "* The market share of competitor products starts at 70% and reduces to 65% when the new product is introduced.\n",
    "* The market share of our own company products starts at 30% and reduces to 25% when the new product is introduced.\n",
    "* The new product gains 10% market share when it is introduced.\n",
    "* However, the introduction of the new product also increases the total size of the market from 1000 to 1400 units on average.\n",
    "* This means that while the market shares of the existing products are reduced, their sales actually increase.\n",
    "\n",
    "It is this increase in sales numbers that the MV-ITS model (as currently implemented) cannot handle."
   ]
  },
  {
   "cell_type": "code",
   "execution_count": null,
   "metadata": {},
   "outputs": [],
   "source": [
    "ax = MVITS.plot_data(data);"
   ]
  },
  {
   "cell_type": "code",
   "execution_count": null,
   "metadata": {
    "tags": [
     "hide-output"
    ]
   },
   "outputs": [],
   "source": [
    "result = MVITS(\n",
    "    data,\n",
    "    treatment_time=scenario2[\"treatment_time\"],\n",
    "    existing_sales=[\"competitor\", \"own\"],\n",
    "    treatment_sales=\"new\",\n",
    "    market_saturated=False,\n",
    "    rng=rng,\n",
    ")"
   ]
  },
  {
   "cell_type": "markdown",
   "metadata": {},
   "source": [
    "Let's explore how this fails.\n",
    "\n",
    "First, we can see that the model does not do a good job of accounting for the data. The posterior predictive checks show that the model is not accurately capturing the sales data prior to the new product introduction."
   ]
  },
  {
   "cell_type": "code",
   "execution_count": null,
   "metadata": {},
   "outputs": [],
   "source": [
    "result.plot_fit();"
   ]
  },
  {
   "cell_type": "markdown",
   "metadata": {},
   "source": [
    "Equally, the counterfactual predictions are poor in that they do not represent what we'd expect to see. Namely, we'd expect the relatively constant sales numbers to continue on as they were after the new product was introduced."
   ]
  },
  {
   "cell_type": "code",
   "execution_count": null,
   "metadata": {},
   "outputs": [],
   "source": [
    "result.plot_counterfactual();"
   ]
  },
  {
   "cell_type": "markdown",
   "metadata": {},
   "source": [
    "If we examine the parameters (in the unsaturated market case we examine `beta_all`, not `beta`) we can see that the model attributing a near zero reduction in the existing competitor and own company products. There is no reduction of course, the sales numbers actually _increased_ despite the market share decreasing."
   ]
  },
  {
   "cell_type": "code",
   "execution_count": null,
   "metadata": {},
   "outputs": [],
   "source": [
    "az.plot_posterior(result.idata, var_names=[\"beta_all\"], textsize=11, figsize=(12, 3));"
   ]
  },
  {
   "cell_type": "code",
   "execution_count": null,
   "metadata": {},
   "outputs": [],
   "source": []
  }
 ],
 "metadata": {
  "kernelspec": {
   "display_name": "pymc-marketing-dev",
   "language": "python",
   "name": "python3"
  },
  "language_info": {
   "codemirror_mode": {
    "name": "ipython",
    "version": 3
   },
   "file_extension": ".py",
   "mimetype": "text/x-python",
   "name": "python",
   "nbconvert_exporter": "python",
   "pygments_lexer": "ipython3",
   "version": "3.10.15"
  }
 },
 "nbformat": 4,
 "nbformat_minor": 2
}
