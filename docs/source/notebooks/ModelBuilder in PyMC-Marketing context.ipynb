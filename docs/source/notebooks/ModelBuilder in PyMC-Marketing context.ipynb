{
 "cells": [
  {
   "cell_type": "markdown",
   "id": "1d74584c",
   "metadata": {},
   "source": [
    "# Deploying MMMs and CLVs in Production: Saving and Loading Models"
   ]
  },
  {
   "cell_type": "markdown",
   "id": "3222ef04",
   "metadata": {},
   "source": [
    "Deploying Bayesian models written with PyMC has historically been a challenging process, with a myriad of details to consider. Yet, it's an essential part of the workflow that often has room for improvement.\n",
    "\n",
    "In this publication, we delve into a new approach that tackles these deployment issues head-on. We introduce a new deployment module that, while not a silver bullet, brings about notable simplicity to the process.\n",
    "\n",
    "This module marks a significant step towards improving the efficiency of deploying PyMC models. As we step into an era where ease of use and user-friendly solutions are at the forefront, let's explore how this module can make a tangible difference in your data science projects."
   ]
  },
  {
   "cell_type": "markdown",
   "id": "ddb28436",
   "metadata": {},
   "source": [
    "\n",
    "Recent release of PyMC-Marketing by Labs proves to be a big hit [check here <-](https://www.pymc-labs.io/blog-posts/pymc-marketing-a-bayesian-approach-to-marketing-data-science/). In the feedback one could see an ongoing theme, many of you have been requesting easy and robust way of deploying models to production. It’s been a long-standing problem with PyMC ( and most other PPLs). The reason for that is that there’s no obvious way, and doesn’t matter which approach you try it proves to be tricky. That is why we’re happy to announce the release of `ModelBuilder`, brand new PyMC-experimental module that addresses this need, and improves on the deployment process significantly.\n"
   ]
  },
  {
   "cell_type": "markdown",
   "id": "a808e36a",
   "metadata": {},
   "source": [
    "For this notebook I'll use the example model used in [MMM Example Notebook](https://www.pymc-marketing.io/en/stable/notebooks/mmm/mmm_example.html), but ommit the details of data generation and plotting functionalities, since they're out of scope for this introduction, I highly recommend to see that part as well, but for now let's focus on today's topic: `ModelBuilder` and it's recent integration with PyMC-Marketing toolset.\n",
    "The reason for choosing `DelayedSaturatedMMM` is that MMM classes make use of most of features provided in the project, including sklearn-like API"
   ]
  },
  {
   "cell_type": "code",
   "execution_count": 1,
   "id": "1050a937",
   "metadata": {},
   "outputs": [],
   "source": [
    "import arviz as az\n",
    "import matplotlib.pyplot as plt\n",
    "import numpy as np\n",
    "import pandas as pd\n",
    "import pymc as pm\n",
    "import seaborn as sns\n",
    "\n",
    "from pymc_marketing.mmm.transformers import geometric_adstock, logistic_saturation\n",
    "from pymc_marketing.mmm.delayed_saturated_mmm import DelayedSaturatedMMM"
   ]
  },
  {
   "cell_type": "markdown",
   "id": "f37d808e",
   "metadata": {},
   "source": [
    "Let's load the dataset:"
   ]
  },
  {
   "cell_type": "code",
   "execution_count": 25,
   "id": "b7b1193f",
   "metadata": {},
   "outputs": [
    {
     "data": {
      "text/html": [
       "<div>\n",
       "<style scoped>\n",
       "    .dataframe tbody tr th:only-of-type {\n",
       "        vertical-align: middle;\n",
       "    }\n",
       "\n",
       "    .dataframe tbody tr th {\n",
       "        vertical-align: top;\n",
       "    }\n",
       "\n",
       "    .dataframe thead th {\n",
       "        text-align: right;\n",
       "    }\n",
       "</style>\n",
       "<table border=\"1\" class=\"dataframe\">\n",
       "  <thead>\n",
       "    <tr style=\"text-align: right;\">\n",
       "      <th></th>\n",
       "      <th>Unnamed: 0</th>\n",
       "      <th>date_week</th>\n",
       "      <th>year</th>\n",
       "      <th>month</th>\n",
       "      <th>dayofyear</th>\n",
       "      <th>x1</th>\n",
       "      <th>x2</th>\n",
       "      <th>x1_adstock</th>\n",
       "      <th>x2_adstock</th>\n",
       "      <th>x1_adstock_saturated</th>\n",
       "      <th>x2_adstock_saturated</th>\n",
       "      <th>trend</th>\n",
       "      <th>cs</th>\n",
       "      <th>cc</th>\n",
       "      <th>seasonality</th>\n",
       "      <th>event_1</th>\n",
       "      <th>event_2</th>\n",
       "      <th>intercept</th>\n",
       "      <th>epsilon</th>\n",
       "      <th>y</th>\n",
       "    </tr>\n",
       "  </thead>\n",
       "  <tbody>\n",
       "    <tr>\n",
       "      <th>0</th>\n",
       "      <td>0</td>\n",
       "      <td>2018-04-02</td>\n",
       "      <td>2018</td>\n",
       "      <td>4</td>\n",
       "      <td>92</td>\n",
       "      <td>0.318580</td>\n",
       "      <td>0.000000</td>\n",
       "      <td>0.191273</td>\n",
       "      <td>0.000000</td>\n",
       "      <td>0.364917</td>\n",
       "      <td>0.000000</td>\n",
       "      <td>0.778279</td>\n",
       "      <td>0.021487</td>\n",
       "      <td>-0.010744</td>\n",
       "      <td>0.005371</td>\n",
       "      <td>0.0</td>\n",
       "      <td>0.0</td>\n",
       "      <td>2.0</td>\n",
       "      <td>0.106260</td>\n",
       "      <td>3.984662</td>\n",
       "    </tr>\n",
       "    <tr>\n",
       "      <th>1</th>\n",
       "      <td>1</td>\n",
       "      <td>2018-04-09</td>\n",
       "      <td>2018</td>\n",
       "      <td>4</td>\n",
       "      <td>99</td>\n",
       "      <td>0.112388</td>\n",
       "      <td>0.000000</td>\n",
       "      <td>0.143987</td>\n",
       "      <td>0.000000</td>\n",
       "      <td>0.280268</td>\n",
       "      <td>0.000000</td>\n",
       "      <td>0.790638</td>\n",
       "      <td>0.259165</td>\n",
       "      <td>-0.130704</td>\n",
       "      <td>0.064231</td>\n",
       "      <td>0.0</td>\n",
       "      <td>0.0</td>\n",
       "      <td>2.0</td>\n",
       "      <td>0.067198</td>\n",
       "      <td>3.762872</td>\n",
       "    </tr>\n",
       "    <tr>\n",
       "      <th>2</th>\n",
       "      <td>2</td>\n",
       "      <td>2018-04-16</td>\n",
       "      <td>2018</td>\n",
       "      <td>4</td>\n",
       "      <td>106</td>\n",
       "      <td>0.292400</td>\n",
       "      <td>0.000000</td>\n",
       "      <td>0.233150</td>\n",
       "      <td>0.000000</td>\n",
       "      <td>0.435205</td>\n",
       "      <td>0.000000</td>\n",
       "      <td>0.802746</td>\n",
       "      <td>0.481904</td>\n",
       "      <td>-0.248773</td>\n",
       "      <td>0.116566</td>\n",
       "      <td>0.0</td>\n",
       "      <td>0.0</td>\n",
       "      <td>2.0</td>\n",
       "      <td>0.242042</td>\n",
       "      <td>4.466967</td>\n",
       "    </tr>\n",
       "    <tr>\n",
       "      <th>3</th>\n",
       "      <td>3</td>\n",
       "      <td>2018-04-23</td>\n",
       "      <td>2018</td>\n",
       "      <td>4</td>\n",
       "      <td>113</td>\n",
       "      <td>0.071399</td>\n",
       "      <td>0.000000</td>\n",
       "      <td>0.136127</td>\n",
       "      <td>0.000000</td>\n",
       "      <td>0.265721</td>\n",
       "      <td>0.000000</td>\n",
       "      <td>0.814614</td>\n",
       "      <td>0.676865</td>\n",
       "      <td>-0.363245</td>\n",
       "      <td>0.156810</td>\n",
       "      <td>0.0</td>\n",
       "      <td>0.0</td>\n",
       "      <td>2.0</td>\n",
       "      <td>0.095631</td>\n",
       "      <td>3.864219</td>\n",
       "    </tr>\n",
       "    <tr>\n",
       "      <th>4</th>\n",
       "      <td>4</td>\n",
       "      <td>2018-04-30</td>\n",
       "      <td>2018</td>\n",
       "      <td>4</td>\n",
       "      <td>120</td>\n",
       "      <td>0.386745</td>\n",
       "      <td>0.000000</td>\n",
       "      <td>0.286650</td>\n",
       "      <td>0.000000</td>\n",
       "      <td>0.517779</td>\n",
       "      <td>0.000000</td>\n",
       "      <td>0.826254</td>\n",
       "      <td>0.832810</td>\n",
       "      <td>-0.472462</td>\n",
       "      <td>0.180174</td>\n",
       "      <td>0.0</td>\n",
       "      <td>0.0</td>\n",
       "      <td>2.0</td>\n",
       "      <td>-0.118140</td>\n",
       "      <td>4.441625</td>\n",
       "    </tr>\n",
       "    <tr>\n",
       "      <th>...</th>\n",
       "      <td>...</td>\n",
       "      <td>...</td>\n",
       "      <td>...</td>\n",
       "      <td>...</td>\n",
       "      <td>...</td>\n",
       "      <td>...</td>\n",
       "      <td>...</td>\n",
       "      <td>...</td>\n",
       "      <td>...</td>\n",
       "      <td>...</td>\n",
       "      <td>...</td>\n",
       "      <td>...</td>\n",
       "      <td>...</td>\n",
       "      <td>...</td>\n",
       "      <td>...</td>\n",
       "      <td>...</td>\n",
       "      <td>...</td>\n",
       "      <td>...</td>\n",
       "      <td>...</td>\n",
       "      <td>...</td>\n",
       "    </tr>\n",
       "    <tr>\n",
       "      <th>174</th>\n",
       "      <td>174</td>\n",
       "      <td>2021-08-02</td>\n",
       "      <td>2021</td>\n",
       "      <td>8</td>\n",
       "      <td>214</td>\n",
       "      <td>0.033024</td>\n",
       "      <td>0.000000</td>\n",
       "      <td>0.056235</td>\n",
       "      <td>0.001163</td>\n",
       "      <td>0.111998</td>\n",
       "      <td>0.001745</td>\n",
       "      <td>1.770035</td>\n",
       "      <td>-0.879312</td>\n",
       "      <td>-0.859141</td>\n",
       "      <td>-0.869226</td>\n",
       "      <td>0.0</td>\n",
       "      <td>0.0</td>\n",
       "      <td>2.0</td>\n",
       "      <td>0.313255</td>\n",
       "      <td>3.553546</td>\n",
       "    </tr>\n",
       "    <tr>\n",
       "      <th>175</th>\n",
       "      <td>175</td>\n",
       "      <td>2021-08-09</td>\n",
       "      <td>2021</td>\n",
       "      <td>8</td>\n",
       "      <td>221</td>\n",
       "      <td>0.165615</td>\n",
       "      <td>0.863349</td>\n",
       "      <td>0.121870</td>\n",
       "      <td>0.690914</td>\n",
       "      <td>0.239025</td>\n",
       "      <td>0.776451</td>\n",
       "      <td>1.773333</td>\n",
       "      <td>-0.967484</td>\n",
       "      <td>-0.791496</td>\n",
       "      <td>-0.879490</td>\n",
       "      <td>0.0</td>\n",
       "      <td>0.0</td>\n",
       "      <td>2.0</td>\n",
       "      <td>0.401690</td>\n",
       "      <td>5.565510</td>\n",
       "    </tr>\n",
       "    <tr>\n",
       "      <th>176</th>\n",
       "      <td>176</td>\n",
       "      <td>2021-08-16</td>\n",
       "      <td>2021</td>\n",
       "      <td>8</td>\n",
       "      <td>228</td>\n",
       "      <td>0.171882</td>\n",
       "      <td>0.000000</td>\n",
       "      <td>0.151917</td>\n",
       "      <td>0.138183</td>\n",
       "      <td>0.294818</td>\n",
       "      <td>0.204356</td>\n",
       "      <td>1.776620</td>\n",
       "      <td>-0.999887</td>\n",
       "      <td>-0.712405</td>\n",
       "      <td>-0.856146</td>\n",
       "      <td>0.0</td>\n",
       "      <td>0.0</td>\n",
       "      <td>2.0</td>\n",
       "      <td>-0.075989</td>\n",
       "      <td>4.137651</td>\n",
       "    </tr>\n",
       "    <tr>\n",
       "      <th>177</th>\n",
       "      <td>177</td>\n",
       "      <td>2021-08-23</td>\n",
       "      <td>2021</td>\n",
       "      <td>8</td>\n",
       "      <td>235</td>\n",
       "      <td>0.280257</td>\n",
       "      <td>0.000000</td>\n",
       "      <td>0.228954</td>\n",
       "      <td>0.027637</td>\n",
       "      <td>0.428377</td>\n",
       "      <td>0.041431</td>\n",
       "      <td>1.779895</td>\n",
       "      <td>-0.974654</td>\n",
       "      <td>-0.623010</td>\n",
       "      <td>-0.798832</td>\n",
       "      <td>0.0</td>\n",
       "      <td>0.0</td>\n",
       "      <td>2.0</td>\n",
       "      <td>0.129986</td>\n",
       "      <td>4.479041</td>\n",
       "    </tr>\n",
       "    <tr>\n",
       "      <th>178</th>\n",
       "      <td>178</td>\n",
       "      <td>2021-08-30</td>\n",
       "      <td>2021</td>\n",
       "      <td>8</td>\n",
       "      <td>242</td>\n",
       "      <td>0.438857</td>\n",
       "      <td>0.000000</td>\n",
       "      <td>0.354926</td>\n",
       "      <td>0.005525</td>\n",
       "      <td>0.610584</td>\n",
       "      <td>0.008288</td>\n",
       "      <td>1.783158</td>\n",
       "      <td>-0.893239</td>\n",
       "      <td>-0.524604</td>\n",
       "      <td>-0.708922</td>\n",
       "      <td>0.0</td>\n",
       "      <td>0.0</td>\n",
       "      <td>2.0</td>\n",
       "      <td>-0.246591</td>\n",
       "      <td>4.675973</td>\n",
       "    </tr>\n",
       "  </tbody>\n",
       "</table>\n",
       "<p>179 rows × 20 columns</p>\n",
       "</div>"
      ],
      "text/plain": [
       "     Unnamed: 0   date_week  year  month  dayofyear        x1        x2  \\\n",
       "0             0  2018-04-02  2018      4         92  0.318580  0.000000   \n",
       "1             1  2018-04-09  2018      4         99  0.112388  0.000000   \n",
       "2             2  2018-04-16  2018      4        106  0.292400  0.000000   \n",
       "3             3  2018-04-23  2018      4        113  0.071399  0.000000   \n",
       "4             4  2018-04-30  2018      4        120  0.386745  0.000000   \n",
       "..          ...         ...   ...    ...        ...       ...       ...   \n",
       "174         174  2021-08-02  2021      8        214  0.033024  0.000000   \n",
       "175         175  2021-08-09  2021      8        221  0.165615  0.863349   \n",
       "176         176  2021-08-16  2021      8        228  0.171882  0.000000   \n",
       "177         177  2021-08-23  2021      8        235  0.280257  0.000000   \n",
       "178         178  2021-08-30  2021      8        242  0.438857  0.000000   \n",
       "\n",
       "     x1_adstock  x2_adstock  x1_adstock_saturated  x2_adstock_saturated  \\\n",
       "0      0.191273    0.000000              0.364917              0.000000   \n",
       "1      0.143987    0.000000              0.280268              0.000000   \n",
       "2      0.233150    0.000000              0.435205              0.000000   \n",
       "3      0.136127    0.000000              0.265721              0.000000   \n",
       "4      0.286650    0.000000              0.517779              0.000000   \n",
       "..          ...         ...                   ...                   ...   \n",
       "174    0.056235    0.001163              0.111998              0.001745   \n",
       "175    0.121870    0.690914              0.239025              0.776451   \n",
       "176    0.151917    0.138183              0.294818              0.204356   \n",
       "177    0.228954    0.027637              0.428377              0.041431   \n",
       "178    0.354926    0.005525              0.610584              0.008288   \n",
       "\n",
       "        trend        cs        cc  seasonality  event_1  event_2  intercept  \\\n",
       "0    0.778279  0.021487 -0.010744     0.005371      0.0      0.0        2.0   \n",
       "1    0.790638  0.259165 -0.130704     0.064231      0.0      0.0        2.0   \n",
       "2    0.802746  0.481904 -0.248773     0.116566      0.0      0.0        2.0   \n",
       "3    0.814614  0.676865 -0.363245     0.156810      0.0      0.0        2.0   \n",
       "4    0.826254  0.832810 -0.472462     0.180174      0.0      0.0        2.0   \n",
       "..        ...       ...       ...          ...      ...      ...        ...   \n",
       "174  1.770035 -0.879312 -0.859141    -0.869226      0.0      0.0        2.0   \n",
       "175  1.773333 -0.967484 -0.791496    -0.879490      0.0      0.0        2.0   \n",
       "176  1.776620 -0.999887 -0.712405    -0.856146      0.0      0.0        2.0   \n",
       "177  1.779895 -0.974654 -0.623010    -0.798832      0.0      0.0        2.0   \n",
       "178  1.783158 -0.893239 -0.524604    -0.708922      0.0      0.0        2.0   \n",
       "\n",
       "      epsilon         y  \n",
       "0    0.106260  3.984662  \n",
       "1    0.067198  3.762872  \n",
       "2    0.242042  4.466967  \n",
       "3    0.095631  3.864219  \n",
       "4   -0.118140  4.441625  \n",
       "..        ...       ...  \n",
       "174  0.313255  3.553546  \n",
       "175  0.401690  5.565510  \n",
       "176 -0.075989  4.137651  \n",
       "177  0.129986  4.479041  \n",
       "178 -0.246591  4.675973  \n",
       "\n",
       "[179 rows x 20 columns]"
      ]
     },
     "execution_count": 25,
     "metadata": {},
     "output_type": "execute_result"
    }
   ],
   "source": [
    "df = pd.read_csv('delayedSaturatedDataset.csv')\n",
    "df"
   ]
  },
  {
   "cell_type": "markdown",
   "id": "87deb70d",
   "metadata": {},
   "source": [
    "But for our model we need much smaller dataset, many of the previous features were contributing to generation of others, now as our target variable is computed we can filter out not needed columns:"
   ]
  },
  {
   "cell_type": "code",
   "execution_count": 10,
   "id": "52b6d127",
   "metadata": {},
   "outputs": [
    {
     "data": {
      "text/html": [
       "<div>\n",
       "<style scoped>\n",
       "    .dataframe tbody tr th:only-of-type {\n",
       "        vertical-align: middle;\n",
       "    }\n",
       "\n",
       "    .dataframe tbody tr th {\n",
       "        vertical-align: top;\n",
       "    }\n",
       "\n",
       "    .dataframe thead th {\n",
       "        text-align: right;\n",
       "    }\n",
       "</style>\n",
       "<table border=\"1\" class=\"dataframe\">\n",
       "  <thead>\n",
       "    <tr style=\"text-align: right;\">\n",
       "      <th></th>\n",
       "      <th>date_week</th>\n",
       "      <th>y</th>\n",
       "      <th>x1</th>\n",
       "      <th>x2</th>\n",
       "      <th>event_1</th>\n",
       "      <th>event_2</th>\n",
       "      <th>dayofyear</th>\n",
       "      <th>t</th>\n",
       "    </tr>\n",
       "  </thead>\n",
       "  <tbody>\n",
       "    <tr>\n",
       "      <th>0</th>\n",
       "      <td>2018-04-02</td>\n",
       "      <td>3.984662</td>\n",
       "      <td>0.318580</td>\n",
       "      <td>0.0</td>\n",
       "      <td>0.0</td>\n",
       "      <td>0.0</td>\n",
       "      <td>92</td>\n",
       "      <td>0</td>\n",
       "    </tr>\n",
       "    <tr>\n",
       "      <th>1</th>\n",
       "      <td>2018-04-09</td>\n",
       "      <td>3.762872</td>\n",
       "      <td>0.112388</td>\n",
       "      <td>0.0</td>\n",
       "      <td>0.0</td>\n",
       "      <td>0.0</td>\n",
       "      <td>99</td>\n",
       "      <td>1</td>\n",
       "    </tr>\n",
       "    <tr>\n",
       "      <th>2</th>\n",
       "      <td>2018-04-16</td>\n",
       "      <td>4.466967</td>\n",
       "      <td>0.292400</td>\n",
       "      <td>0.0</td>\n",
       "      <td>0.0</td>\n",
       "      <td>0.0</td>\n",
       "      <td>106</td>\n",
       "      <td>2</td>\n",
       "    </tr>\n",
       "    <tr>\n",
       "      <th>3</th>\n",
       "      <td>2018-04-23</td>\n",
       "      <td>3.864219</td>\n",
       "      <td>0.071399</td>\n",
       "      <td>0.0</td>\n",
       "      <td>0.0</td>\n",
       "      <td>0.0</td>\n",
       "      <td>113</td>\n",
       "      <td>3</td>\n",
       "    </tr>\n",
       "    <tr>\n",
       "      <th>4</th>\n",
       "      <td>2018-04-30</td>\n",
       "      <td>4.441625</td>\n",
       "      <td>0.386745</td>\n",
       "      <td>0.0</td>\n",
       "      <td>0.0</td>\n",
       "      <td>0.0</td>\n",
       "      <td>120</td>\n",
       "      <td>4</td>\n",
       "    </tr>\n",
       "  </tbody>\n",
       "</table>\n",
       "</div>"
      ],
      "text/plain": [
       "   date_week         y        x1   x2  event_1  event_2  dayofyear  t\n",
       "0 2018-04-02  3.984662  0.318580  0.0      0.0      0.0         92  0\n",
       "1 2018-04-09  3.762872  0.112388  0.0      0.0      0.0         99  1\n",
       "2 2018-04-16  4.466967  0.292400  0.0      0.0      0.0        106  2\n",
       "3 2018-04-23  3.864219  0.071399  0.0      0.0      0.0        113  3\n",
       "4 2018-04-30  4.441625  0.386745  0.0      0.0      0.0        120  4"
      ]
     },
     "execution_count": 10,
     "metadata": {},
     "output_type": "execute_result"
    }
   ],
   "source": [
    "columns_to_keep = [\n",
    "    \"date_week\",\n",
    "    \"y\",\n",
    "    \"x1\",\n",
    "    \"x2\",\n",
    "    \"event_1\",\n",
    "    \"event_2\",\n",
    "    \"dayofyear\",\n",
    "]\n",
    "\n",
    "data = df[columns_to_keep].copy()\n",
    "# trend feature\n",
    "data[\"t\"] = range(n)\n",
    "data.head()"
   ]
  },
  {
   "cell_type": "markdown",
   "id": "9518a885",
   "metadata": {},
   "source": [
    "## _Model Creation_\n",
    "After we have our dataset ready, we could proceed straight to our model definition, but first to show the full potential of one of the new features of `ModelBuilder` - `model_config` we need to use some of our data to define our prior for sigma parameter for each of the channels. `model_config` is a customizable dictionary with keys corresponding to priors within the model, and values containing a dictionaries with parameters necessary to initialize them. Later on we'll learn that through the `save()` method we can preserve our priors contained inside the `model_config`, to allow complete replication of our model."
   ]
  },
  {
   "cell_type": "markdown",
   "id": "4b52b2c1",
   "metadata": {},
   "source": [
    "### model_config"
   ]
  },
  {
   "cell_type": "markdown",
   "id": "5b8d1230",
   "metadata": {},
   "source": [
    "First, let's compute the share of spend per channel:"
   ]
  },
  {
   "cell_type": "code",
   "execution_count": 11,
   "id": "bfa3847d",
   "metadata": {},
   "outputs": [
    {
     "data": {
      "text/plain": [
       "x1    0.65632\n",
       "x2    0.34368\n",
       "dtype: float64"
      ]
     },
     "execution_count": 11,
     "metadata": {},
     "output_type": "execute_result"
    }
   ],
   "source": [
    "total_spend_per_channel = data[[\"x1\", \"x2\"]].sum(axis=0)\n",
    "\n",
    "spend_share = total_spend_per_channel / total_spend_per_channel.sum()\n",
    "\n",
    "spend_share"
   ]
  },
  {
   "cell_type": "markdown",
   "id": "ef00505d",
   "metadata": {},
   "source": [
    "Next, we specify the sigma parameter per channel:"
   ]
  },
  {
   "cell_type": "code",
   "execution_count": 12,
   "id": "95dbadc7",
   "metadata": {},
   "outputs": [
    {
     "data": {
      "text/plain": [
       "[2.1775326025486734, 1.1402608773919387]"
      ]
     },
     "execution_count": 12,
     "metadata": {},
     "output_type": "execute_result"
    }
   ],
   "source": [
    "# The scale necessary to make a HalfNormal distribution have unit variance\n",
    "HALFNORMAL_SCALE = 1 / np.sqrt(1 - 2 / np.pi)\n",
    "\n",
    "n_channels = 2\n",
    "\n",
    "prior_sigma = HALFNORMAL_SCALE * n_channels * spend_share.to_numpy()\n",
    "\n",
    "prior_sigma.tolist()"
   ]
  },
  {
   "cell_type": "markdown",
   "id": "41021a72",
   "metadata": {},
   "source": [
    "`default_model_config` attribute of every model inheriting from `ModelBuilder` will allow you to see which priors are available for customization. To see it simply initialize a dummy model:"
   ]
  },
  {
   "cell_type": "code",
   "execution_count": 13,
   "id": "284bd558",
   "metadata": {},
   "outputs": [
    {
     "data": {
      "text/plain": [
       "{'intercept': {'mu': 0, 'sigma': 2},\n",
       " 'beta_channel': {'sigma': 2, 'dims': ('channel',)},\n",
       " 'alpha': {'alpha': 1, 'beta': 3, 'dims': ('channel',)},\n",
       " 'lam': {'alpha': 3, 'beta': 1, 'dims': ('channel',)},\n",
       " 'sigma': {'sigma': 2},\n",
       " 'gamma_control': {'mu': 0, 'sigma': 2, 'dims': ('control',)},\n",
       " 'mu': {'dims': ('date',)},\n",
       " 'likelihood': {'dims': ('date',)},\n",
       " 'gamma_fourier': {'mu': 0, 'b': 1, 'dims': 'fourier_mode'}}"
      ]
     },
     "execution_count": 13,
     "metadata": {},
     "output_type": "execute_result"
    }
   ],
   "source": [
    "dummy_model = DelayedSaturatedMMM(date_column = '', channel_columns= '', adstock_max_lag = 4)\n",
    "dummy_model.default_model_config"
   ]
  },
  {
   "cell_type": "markdown",
   "id": "f0fd248f",
   "metadata": {},
   "source": [
    "You can change only the prior parameters that you wish, no need to alter all of them, unless you'd like to!\n",
    "In this case we'll just simply replace our sigma for beta_channel with our computed one:"
   ]
  },
  {
   "cell_type": "code",
   "execution_count": 14,
   "id": "bac9f587",
   "metadata": {},
   "outputs": [],
   "source": [
    "custom_beta_channel_prior = {'beta_channel': {'sigma': prior_sigma, 'dims': ('channel',)}}\n",
    "my_model_config = {**dummy_model.default_model_config, **custom_beta_channel_prior}"
   ]
  },
  {
   "cell_type": "markdown",
   "id": "1aa435bf",
   "metadata": {},
   "source": [
    "As mentioned in the original notebook: \"_For the prior specification there is no right or wrong answer. It all depends on the data, the context and the assumptions you are willing to make. It is always recommended to do some prior predictive sampling and sensitivity analysis to check the impact of the priors on the posterior. We skip this here for the sake of simplicity. If you are not sure about specific priors, the `DelayedSaturatedMMM` class has some default priors that you can use as a starting point._\""
   ]
  },
  {
   "cell_type": "markdown",
   "id": "f195a79e",
   "metadata": {},
   "source": [
    "The second feature that we can use for model definition is `sampler_config`. Similar to `model_config`, it's a dictionary that gets saved and contains things you'd usually pass to the `fit()` kwargs. It's not mandatory to create your own `sampler_config`; if not provided, both `model_config` and `sampler_config` will default to the forms specified by PyMC Labs experts, which allows for the usage of all model functionalities. The default `sampler_config` is left empty because the default sampling parameters usually prove sufficient for a start."
   ]
  },
  {
   "cell_type": "code",
   "execution_count": 15,
   "id": "0ab8140c",
   "metadata": {},
   "outputs": [
    {
     "data": {
      "text/plain": [
       "{}"
      ]
     },
     "execution_count": 15,
     "metadata": {},
     "output_type": "execute_result"
    }
   ],
   "source": [
    "dummy_model.default_sampler_config"
   ]
  },
  {
   "cell_type": "code",
   "execution_count": 16,
   "id": "bf5a50f4",
   "metadata": {},
   "outputs": [],
   "source": [
    "my_sampler_config = {\n",
    "    'tune':1000,\n",
    "    'draws':1000,\n",
    "}"
   ]
  },
  {
   "cell_type": "markdown",
   "id": "f3bfe090",
   "metadata": {},
   "source": [
    "Let's finally assemble our model!"
   ]
  },
  {
   "cell_type": "code",
   "execution_count": 17,
   "id": "c7bd6909",
   "metadata": {},
   "outputs": [],
   "source": [
    "mmm = DelayedSaturatedMMM(\n",
    "    model_config = my_model_config,\n",
    "    sampler_config = my_sampler_config,\n",
    "    date_column=\"date_week\",\n",
    "    channel_columns=[\"x1\", \"x2\"],\n",
    "    control_columns=[\n",
    "        \"event_1\",\n",
    "        \"event_2\",\n",
    "        \"t\",\n",
    "    ],\n",
    "    adstock_max_lag=8,\n",
    "    yearly_seasonality=2,\n",
    ")"
   ]
  },
  {
   "cell_type": "markdown",
   "id": "54095b1a",
   "metadata": {},
   "source": [
    "An important thing to note here is that in the new version of `DelayedSaturatedMMM`, we don't pass our dataset to the class constructor itself. This is due to a reason I've mentioned before - it supports `scikit-learn` transformers and validations that require a usual X, y split and typically expect the data to be passed to the `fit()` method."
   ]
  },
  {
   "cell_type": "markdown",
   "id": "c540a296",
   "metadata": {},
   "source": [
    "## _X, y Splitting:_"
   ]
  },
  {
   "cell_type": "code",
   "execution_count": 18,
   "id": "cee0248f",
   "metadata": {},
   "outputs": [],
   "source": [
    "X = data.drop('y',axis=1)\n",
    "y = data['y']"
   ]
  },
  {
   "cell_type": "markdown",
   "id": "dec9b1b0",
   "metadata": {},
   "source": [
    "## _Model Fitting_"
   ]
  },
  {
   "cell_type": "markdown",
   "id": "403e3ed2",
   "metadata": {},
   "source": [
    "All that's left now is to finally fit the model:"
   ]
  },
  {
   "cell_type": "code",
   "execution_count": 19,
   "id": "0f6ab0a8",
   "metadata": {},
   "outputs": [
    {
     "name": "stderr",
     "output_type": "stream",
     "text": [
      "Auto-assigning NUTS sampler...\n",
      "Initializing NUTS using jitter+adapt_diag...\n",
      "Multiprocess sampling (4 chains in 4 jobs)\n",
      "NUTS: [intercept, beta_channel, alpha, lam, sigma, gamma_control, gamma_fourier]\n",
      "Traceback (most recent call last):\n",
      "  File \"/Users/michalraczycki/Documents/pymc-marketing/.conda/envs/marketing_env/lib/python3.11/multiprocessing/forkserver.py\", line 274, in main\n",
      "    code = _serve_one(child_r, fds,\n",
      "           ^^^^^^^^^^^^^^^^^^^^^^^^\n",
      "  File \"/Users/michalraczycki/Documents/pymc-marketing/.conda/envs/marketing_env/lib/python3.11/multiprocessing/forkserver.py\", line 313, in _serve_one\n",
      "    code = spawn._main(child_r, parent_sentinel)\n",
      "           ^^^^^^^^^^^^^^^^^^^^^^^^^^^^^^^^^^^^^\n",
      "  File \"/Users/michalraczycki/Documents/pymc-marketing/.conda/envs/marketing_env/lib/python3.11/multiprocessing/spawn.py\", line 130, in _main\n",
      "    self = reduction.pickle.load(from_parent)\n",
      "           ^^^^^^^^^^^^^^^^^^^^^^^^^^^^^^^^^^\n",
      "  File \"/Users/michalraczycki/Documents/pymc-marketing/.conda/envs/marketing_env/lib/python3.11/site-packages/pymc/__init__.py\", line 47, in <module>\n",
      "    __set_compiler_flags()\n",
      "  File \"/Users/michalraczycki/Documents/pymc-marketing/.conda/envs/marketing_env/lib/python3.11/site-packages/pymc/__init__.py\", line 30, in __set_compiler_flags\n",
      "    import pytensor\n",
      "  File \"/Users/michalraczycki/Documents/pymc-marketing/.conda/envs/marketing_env/lib/python3.11/site-packages/pytensor/__init__.py\", line 119, in <module>\n",
      "    from pytensor import scalar, tensor\n",
      "  File \"/Users/michalraczycki/Documents/pymc-marketing/.conda/envs/marketing_env/lib/python3.11/site-packages/pytensor/scalar/__init__.py\", line 2, in <module>\n",
      "    from .math import *\n",
      "  File \"/Users/michalraczycki/Documents/pymc-marketing/.conda/envs/marketing_env/lib/python3.11/site-packages/pytensor/scalar/math.py\", line 14, in <module>\n",
      "    import scipy.stats\n",
      "  File \"/Users/michalraczycki/Documents/pymc-marketing/.conda/envs/marketing_env/lib/python3.11/site-packages/scipy/stats/__init__.py\", line 485, in <module>\n",
      "    from ._stats_py import *\n",
      "  File \"/Users/michalraczycki/Documents/pymc-marketing/.conda/envs/marketing_env/lib/python3.11/site-packages/scipy/stats/_stats_py.py\", line 46, in <module>\n",
      "    from . import distributions\n",
      "  File \"/Users/michalraczycki/Documents/pymc-marketing/.conda/envs/marketing_env/lib/python3.11/site-packages/scipy/stats/distributions.py\", line 10, in <module>\n",
      "    from . import _continuous_distns\n",
      "  File \"/Users/michalraczycki/Documents/pymc-marketing/.conda/envs/marketing_env/lib/python3.11/site-packages/scipy/stats/_continuous_distns.py\", line 29, in <module>\n",
      "    from ._ksstats import kolmogn, kolmognp, kolmogni\n",
      "  File \"/Users/michalraczycki/Documents/pymc-marketing/.conda/envs/marketing_env/lib/python3.11/site-packages/scipy/stats/_ksstats.py\", line 74, in <module>\n",
      "    _EP128 = np.ldexp(np.longdouble(1), _E128)\n",
      "                      ^^^^^^^^^^^^^^^^\n",
      "RuntimeError: Could not parse python long as longdouble: 1 (Invalid argument)\n",
      "Process worker_chain_0:\n",
      "Traceback (most recent call last):\n",
      "  File \"/Users/michalraczycki/Documents/pymc-marketing/.conda/envs/marketing_env/lib/python3.11/site-packages/pymc/sampling/parallel.py\", line 122, in run\n",
      "    self._start_loop()\n",
      "  File \"/Users/michalraczycki/Documents/pymc-marketing/.conda/envs/marketing_env/lib/python3.11/site-packages/pymc/sampling/parallel.py\", line 161, in _start_loop\n",
      "    msg = self._recv_msg()\n",
      "          ^^^^^^^^^^^^^^^^\n",
      "  File \"/Users/michalraczycki/Documents/pymc-marketing/.conda/envs/marketing_env/lib/python3.11/site-packages/pymc/sampling/parallel.py\", line 153, in _recv_msg\n",
      "    return self._msg_pipe.recv()\n",
      "           ^^^^^^^^^^^^^^^^^^^^^\n",
      "  File \"/Users/michalraczycki/Documents/pymc-marketing/.conda/envs/marketing_env/lib/python3.11/multiprocessing/connection.py\", line 249, in recv\n",
      "    buf = self._recv_bytes()\n",
      "          ^^^^^^^^^^^^^^^^^^\n",
      "  File \"/Users/michalraczycki/Documents/pymc-marketing/.conda/envs/marketing_env/lib/python3.11/multiprocessing/connection.py\", line 413, in _recv_bytes\n",
      "    buf = self._recv(4)\n",
      "          ^^^^^^^^^^^^^\n",
      "  File \"/Users/michalraczycki/Documents/pymc-marketing/.conda/envs/marketing_env/lib/python3.11/multiprocessing/connection.py\", line 382, in _recv\n",
      "    raise EOFError\n",
      "EOFError\n",
      "\n",
      "During handling of the above exception, another exception occurred:\n",
      "\n",
      "Traceback (most recent call last):\n",
      "  File \"/Users/michalraczycki/Documents/pymc-marketing/.conda/envs/marketing_env/lib/python3.11/multiprocessing/process.py\", line 314, in _bootstrap\n",
      "    self.run()\n",
      "  File \"/Users/michalraczycki/Documents/pymc-marketing/.conda/envs/marketing_env/lib/python3.11/multiprocessing/process.py\", line 108, in run\n",
      "    self._target(*self._args, **self._kwargs)\n",
      "  File \"/Users/michalraczycki/Documents/pymc-marketing/.conda/envs/marketing_env/lib/python3.11/site-packages/pymc/sampling/parallel.py\", line 194, in _run_process\n",
      "    _Process(*args).run()\n",
      "  File \"/Users/michalraczycki/Documents/pymc-marketing/.conda/envs/marketing_env/lib/python3.11/site-packages/pymc/sampling/parallel.py\", line 129, in run\n",
      "    self._msg_pipe.send((\"error\", e))\n",
      "  File \"/Users/michalraczycki/Documents/pymc-marketing/.conda/envs/marketing_env/lib/python3.11/multiprocessing/connection.py\", line 205, in send\n",
      "    self._send_bytes(_ForkingPickler.dumps(obj))\n",
      "  File \"/Users/michalraczycki/Documents/pymc-marketing/.conda/envs/marketing_env/lib/python3.11/multiprocessing/connection.py\", line 410, in _send_bytes\n",
      "    self._send(header + buf)\n",
      "  File \"/Users/michalraczycki/Documents/pymc-marketing/.conda/envs/marketing_env/lib/python3.11/multiprocessing/connection.py\", line 367, in _send\n",
      "    n = write(self._handle, buf)\n",
      "        ^^^^^^^^^^^^^^^^^^^^^^^^\n",
      "BrokenPipeError: [Errno 32] Broken pipe\n"
     ]
    },
    {
     "ename": "BrokenPipeError",
     "evalue": "[Errno 32] Broken pipe",
     "output_type": "error",
     "traceback": [
      "\u001b[0;31m---------------------------------------------------------------------------\u001b[0m",
      "\u001b[0;31mBrokenPipeError\u001b[0m                           Traceback (most recent call last)",
      "Cell \u001b[0;32mIn[19], line 1\u001b[0m\n\u001b[0;32m----> 1\u001b[0m \u001b[43mmmm\u001b[49m\u001b[38;5;241;43m.\u001b[39;49m\u001b[43mfit\u001b[49m\u001b[43m(\u001b[49m\u001b[43mX\u001b[49m\u001b[38;5;241;43m=\u001b[39;49m\u001b[43mX\u001b[49m\u001b[43m,\u001b[49m\u001b[43m \u001b[49m\u001b[43my\u001b[49m\u001b[38;5;241;43m=\u001b[39;49m\u001b[43my\u001b[49m\u001b[43m,\u001b[49m\u001b[43m \u001b[49m\u001b[43mtarget_accept\u001b[49m\u001b[38;5;241;43m=\u001b[39;49m\u001b[38;5;241;43m0.95\u001b[39;49m\u001b[43m,\u001b[49m\u001b[43m \u001b[49m\u001b[43mchains\u001b[49m\u001b[38;5;241;43m=\u001b[39;49m\u001b[38;5;241;43m4\u001b[39;49m\u001b[43m,\u001b[49m\u001b[43m \u001b[49m\u001b[43mrandom_seed\u001b[49m\u001b[38;5;241;43m=\u001b[39;49m\u001b[43mrng\u001b[49m\u001b[43m)\u001b[49m\n",
      "File \u001b[0;32m~/Documents/pymc-marketing/.conda/envs/marketing_env/lib/python3.11/site-packages/pymc_experimental/model_builder.py:495\u001b[0m, in \u001b[0;36mModelBuilder.fit\u001b[0;34m(self, X, y, progressbar, predictor_names, random_seed, **kwargs)\u001b[0m\n\u001b[1;32m    493\u001b[0m sampler_config[\u001b[38;5;124m\"\u001b[39m\u001b[38;5;124mrandom_seed\u001b[39m\u001b[38;5;124m\"\u001b[39m] \u001b[38;5;241m=\u001b[39m random_seed\n\u001b[1;32m    494\u001b[0m sampler_config\u001b[38;5;241m.\u001b[39mupdate(\u001b[38;5;241m*\u001b[39m\u001b[38;5;241m*\u001b[39mkwargs)\n\u001b[0;32m--> 495\u001b[0m \u001b[38;5;28mself\u001b[39m\u001b[38;5;241m.\u001b[39midata \u001b[38;5;241m=\u001b[39m \u001b[38;5;28;43mself\u001b[39;49m\u001b[38;5;241;43m.\u001b[39;49m\u001b[43msample_model\u001b[49m\u001b[43m(\u001b[49m\u001b[38;5;241;43m*\u001b[39;49m\u001b[38;5;241;43m*\u001b[39;49m\u001b[43msampler_config\u001b[49m\u001b[43m)\u001b[49m\n\u001b[1;32m    497\u001b[0m X_df \u001b[38;5;241m=\u001b[39m pd\u001b[38;5;241m.\u001b[39mDataFrame(X, columns\u001b[38;5;241m=\u001b[39mX\u001b[38;5;241m.\u001b[39mcolumns)\n\u001b[1;32m    498\u001b[0m combined_data \u001b[38;5;241m=\u001b[39m pd\u001b[38;5;241m.\u001b[39mconcat([X_df, y], axis\u001b[38;5;241m=\u001b[39m\u001b[38;5;241m1\u001b[39m)\n",
      "File \u001b[0;32m~/Documents/pymc-marketing/.conda/envs/marketing_env/lib/python3.11/site-packages/pymc_experimental/model_builder.py:297\u001b[0m, in \u001b[0;36mModelBuilder.sample_model\u001b[0;34m(self, **kwargs)\u001b[0m\n\u001b[1;32m    295\u001b[0m \u001b[38;5;28;01mwith\u001b[39;00m \u001b[38;5;28mself\u001b[39m\u001b[38;5;241m.\u001b[39mmodel:\n\u001b[1;32m    296\u001b[0m     sampler_args \u001b[38;5;241m=\u001b[39m {\u001b[38;5;241m*\u001b[39m\u001b[38;5;241m*\u001b[39m\u001b[38;5;28mself\u001b[39m\u001b[38;5;241m.\u001b[39msampler_config, \u001b[38;5;241m*\u001b[39m\u001b[38;5;241m*\u001b[39mkwargs}\n\u001b[0;32m--> 297\u001b[0m     idata \u001b[38;5;241m=\u001b[39m \u001b[43mpm\u001b[49m\u001b[38;5;241;43m.\u001b[39;49m\u001b[43msample\u001b[49m\u001b[43m(\u001b[49m\u001b[38;5;241;43m*\u001b[39;49m\u001b[38;5;241;43m*\u001b[39;49m\u001b[43msampler_args\u001b[49m\u001b[43m)\u001b[49m\n\u001b[1;32m    298\u001b[0m     idata\u001b[38;5;241m.\u001b[39mextend(pm\u001b[38;5;241m.\u001b[39msample_prior_predictive())\n\u001b[1;32m    299\u001b[0m     idata\u001b[38;5;241m.\u001b[39mextend(pm\u001b[38;5;241m.\u001b[39msample_posterior_predictive(idata))\n",
      "File \u001b[0;32m~/Documents/pymc-marketing/.conda/envs/marketing_env/lib/python3.11/site-packages/pymc/sampling/mcmc.py:766\u001b[0m, in \u001b[0;36msample\u001b[0;34m(draws, tune, chains, cores, random_seed, progressbar, step, nuts_sampler, initvals, init, jitter_max_retries, n_init, trace, discard_tuned_samples, compute_convergence_checks, keep_warning_stat, return_inferencedata, idata_kwargs, nuts_sampler_kwargs, callback, mp_ctx, model, **kwargs)\u001b[0m\n\u001b[1;32m    764\u001b[0m _print_step_hierarchy(step)\n\u001b[1;32m    765\u001b[0m \u001b[38;5;28;01mtry\u001b[39;00m:\n\u001b[0;32m--> 766\u001b[0m     \u001b[43m_mp_sample\u001b[49m\u001b[43m(\u001b[49m\u001b[38;5;241;43m*\u001b[39;49m\u001b[38;5;241;43m*\u001b[39;49m\u001b[43msample_args\u001b[49m\u001b[43m,\u001b[49m\u001b[43m \u001b[49m\u001b[38;5;241;43m*\u001b[39;49m\u001b[38;5;241;43m*\u001b[39;49m\u001b[43mparallel_args\u001b[49m\u001b[43m)\u001b[49m\n\u001b[1;32m    767\u001b[0m \u001b[38;5;28;01mexcept\u001b[39;00m pickle\u001b[38;5;241m.\u001b[39mPickleError:\n\u001b[1;32m    768\u001b[0m     _log\u001b[38;5;241m.\u001b[39mwarning(\u001b[38;5;124m\"\u001b[39m\u001b[38;5;124mCould not pickle model, sampling singlethreaded.\u001b[39m\u001b[38;5;124m\"\u001b[39m)\n",
      "File \u001b[0;32m~/Documents/pymc-marketing/.conda/envs/marketing_env/lib/python3.11/site-packages/pymc/sampling/mcmc.py:1141\u001b[0m, in \u001b[0;36m_mp_sample\u001b[0;34m(draws, tune, step, chains, cores, random_seed, start, progressbar, traces, model, callback, mp_ctx, **kwargs)\u001b[0m\n\u001b[1;32m   1138\u001b[0m \u001b[38;5;66;03m# We did draws += tune in pm.sample\u001b[39;00m\n\u001b[1;32m   1139\u001b[0m draws \u001b[38;5;241m-\u001b[39m\u001b[38;5;241m=\u001b[39m tune\n\u001b[0;32m-> 1141\u001b[0m sampler \u001b[38;5;241m=\u001b[39m \u001b[43mps\u001b[49m\u001b[38;5;241;43m.\u001b[39;49m\u001b[43mParallelSampler\u001b[49m\u001b[43m(\u001b[49m\n\u001b[1;32m   1142\u001b[0m \u001b[43m    \u001b[49m\u001b[43mdraws\u001b[49m\u001b[38;5;241;43m=\u001b[39;49m\u001b[43mdraws\u001b[49m\u001b[43m,\u001b[49m\n\u001b[1;32m   1143\u001b[0m \u001b[43m    \u001b[49m\u001b[43mtune\u001b[49m\u001b[38;5;241;43m=\u001b[39;49m\u001b[43mtune\u001b[49m\u001b[43m,\u001b[49m\n\u001b[1;32m   1144\u001b[0m \u001b[43m    \u001b[49m\u001b[43mchains\u001b[49m\u001b[38;5;241;43m=\u001b[39;49m\u001b[43mchains\u001b[49m\u001b[43m,\u001b[49m\n\u001b[1;32m   1145\u001b[0m \u001b[43m    \u001b[49m\u001b[43mcores\u001b[49m\u001b[38;5;241;43m=\u001b[39;49m\u001b[43mcores\u001b[49m\u001b[43m,\u001b[49m\n\u001b[1;32m   1146\u001b[0m \u001b[43m    \u001b[49m\u001b[43mseeds\u001b[49m\u001b[38;5;241;43m=\u001b[39;49m\u001b[43mrandom_seed\u001b[49m\u001b[43m,\u001b[49m\n\u001b[1;32m   1147\u001b[0m \u001b[43m    \u001b[49m\u001b[43mstart_points\u001b[49m\u001b[38;5;241;43m=\u001b[39;49m\u001b[43mstart\u001b[49m\u001b[43m,\u001b[49m\n\u001b[1;32m   1148\u001b[0m \u001b[43m    \u001b[49m\u001b[43mstep_method\u001b[49m\u001b[38;5;241;43m=\u001b[39;49m\u001b[43mstep\u001b[49m\u001b[43m,\u001b[49m\n\u001b[1;32m   1149\u001b[0m \u001b[43m    \u001b[49m\u001b[43mprogressbar\u001b[49m\u001b[38;5;241;43m=\u001b[39;49m\u001b[43mprogressbar\u001b[49m\u001b[43m,\u001b[49m\n\u001b[1;32m   1150\u001b[0m \u001b[43m    \u001b[49m\u001b[43mmp_ctx\u001b[49m\u001b[38;5;241;43m=\u001b[39;49m\u001b[43mmp_ctx\u001b[49m\u001b[43m,\u001b[49m\n\u001b[1;32m   1151\u001b[0m \u001b[43m\u001b[49m\u001b[43m)\u001b[49m\n\u001b[1;32m   1152\u001b[0m \u001b[38;5;28;01mtry\u001b[39;00m:\n\u001b[1;32m   1153\u001b[0m     \u001b[38;5;28;01mtry\u001b[39;00m:\n",
      "File \u001b[0;32m~/Documents/pymc-marketing/.conda/envs/marketing_env/lib/python3.11/site-packages/pymc/sampling/parallel.py:402\u001b[0m, in \u001b[0;36mParallelSampler.__init__\u001b[0;34m(self, draws, tune, chains, cores, seeds, start_points, step_method, progressbar, mp_ctx)\u001b[0m\n\u001b[1;32m    399\u001b[0m \u001b[38;5;28;01mif\u001b[39;00m mp_ctx\u001b[38;5;241m.\u001b[39mget_start_method() \u001b[38;5;241m!=\u001b[39m \u001b[38;5;124m\"\u001b[39m\u001b[38;5;124mfork\u001b[39m\u001b[38;5;124m\"\u001b[39m:\n\u001b[1;32m    400\u001b[0m     step_method_pickled \u001b[38;5;241m=\u001b[39m cloudpickle\u001b[38;5;241m.\u001b[39mdumps(step_method, protocol\u001b[38;5;241m=\u001b[39m\u001b[38;5;241m-\u001b[39m\u001b[38;5;241m1\u001b[39m)\n\u001b[0;32m--> 402\u001b[0m \u001b[38;5;28mself\u001b[39m\u001b[38;5;241m.\u001b[39m_samplers \u001b[38;5;241m=\u001b[39m \u001b[43m[\u001b[49m\n\u001b[1;32m    403\u001b[0m \u001b[43m    \u001b[49m\u001b[43mProcessAdapter\u001b[49m\u001b[43m(\u001b[49m\n\u001b[1;32m    404\u001b[0m \u001b[43m        \u001b[49m\u001b[43mdraws\u001b[49m\u001b[43m,\u001b[49m\n\u001b[1;32m    405\u001b[0m \u001b[43m        \u001b[49m\u001b[43mtune\u001b[49m\u001b[43m,\u001b[49m\n\u001b[1;32m    406\u001b[0m \u001b[43m        \u001b[49m\u001b[43mstep_method\u001b[49m\u001b[43m,\u001b[49m\n\u001b[1;32m    407\u001b[0m \u001b[43m        \u001b[49m\u001b[43mstep_method_pickled\u001b[49m\u001b[43m,\u001b[49m\n\u001b[1;32m    408\u001b[0m \u001b[43m        \u001b[49m\u001b[43mchain\u001b[49m\u001b[43m,\u001b[49m\n\u001b[1;32m    409\u001b[0m \u001b[43m        \u001b[49m\u001b[43mseed\u001b[49m\u001b[43m,\u001b[49m\n\u001b[1;32m    410\u001b[0m \u001b[43m        \u001b[49m\u001b[43mstart\u001b[49m\u001b[43m,\u001b[49m\n\u001b[1;32m    411\u001b[0m \u001b[43m        \u001b[49m\u001b[43mmp_ctx\u001b[49m\u001b[43m,\u001b[49m\n\u001b[1;32m    412\u001b[0m \u001b[43m    \u001b[49m\u001b[43m)\u001b[49m\n\u001b[1;32m    413\u001b[0m \u001b[43m    \u001b[49m\u001b[38;5;28;43;01mfor\u001b[39;49;00m\u001b[43m \u001b[49m\u001b[43mchain\u001b[49m\u001b[43m,\u001b[49m\u001b[43m \u001b[49m\u001b[43mseed\u001b[49m\u001b[43m,\u001b[49m\u001b[43m \u001b[49m\u001b[43mstart\u001b[49m\u001b[43m \u001b[49m\u001b[38;5;129;43;01min\u001b[39;49;00m\u001b[43m \u001b[49m\u001b[38;5;28;43mzip\u001b[39;49m\u001b[43m(\u001b[49m\u001b[38;5;28;43mrange\u001b[39;49m\u001b[43m(\u001b[49m\u001b[43mchains\u001b[49m\u001b[43m)\u001b[49m\u001b[43m,\u001b[49m\u001b[43m \u001b[49m\u001b[43mseeds\u001b[49m\u001b[43m,\u001b[49m\u001b[43m \u001b[49m\u001b[43mstart_points\u001b[49m\u001b[43m)\u001b[49m\n\u001b[1;32m    414\u001b[0m \u001b[43m\u001b[49m\u001b[43m]\u001b[49m\n\u001b[1;32m    416\u001b[0m \u001b[38;5;28mself\u001b[39m\u001b[38;5;241m.\u001b[39m_inactive \u001b[38;5;241m=\u001b[39m \u001b[38;5;28mself\u001b[39m\u001b[38;5;241m.\u001b[39m_samplers\u001b[38;5;241m.\u001b[39mcopy()\n\u001b[1;32m    417\u001b[0m \u001b[38;5;28mself\u001b[39m\u001b[38;5;241m.\u001b[39m_finished: List[ProcessAdapter] \u001b[38;5;241m=\u001b[39m []\n",
      "File \u001b[0;32m~/Documents/pymc-marketing/.conda/envs/marketing_env/lib/python3.11/site-packages/pymc/sampling/parallel.py:403\u001b[0m, in \u001b[0;36m<listcomp>\u001b[0;34m(.0)\u001b[0m\n\u001b[1;32m    399\u001b[0m \u001b[38;5;28;01mif\u001b[39;00m mp_ctx\u001b[38;5;241m.\u001b[39mget_start_method() \u001b[38;5;241m!=\u001b[39m \u001b[38;5;124m\"\u001b[39m\u001b[38;5;124mfork\u001b[39m\u001b[38;5;124m\"\u001b[39m:\n\u001b[1;32m    400\u001b[0m     step_method_pickled \u001b[38;5;241m=\u001b[39m cloudpickle\u001b[38;5;241m.\u001b[39mdumps(step_method, protocol\u001b[38;5;241m=\u001b[39m\u001b[38;5;241m-\u001b[39m\u001b[38;5;241m1\u001b[39m)\n\u001b[1;32m    402\u001b[0m \u001b[38;5;28mself\u001b[39m\u001b[38;5;241m.\u001b[39m_samplers \u001b[38;5;241m=\u001b[39m [\n\u001b[0;32m--> 403\u001b[0m     \u001b[43mProcessAdapter\u001b[49m\u001b[43m(\u001b[49m\n\u001b[1;32m    404\u001b[0m \u001b[43m        \u001b[49m\u001b[43mdraws\u001b[49m\u001b[43m,\u001b[49m\n\u001b[1;32m    405\u001b[0m \u001b[43m        \u001b[49m\u001b[43mtune\u001b[49m\u001b[43m,\u001b[49m\n\u001b[1;32m    406\u001b[0m \u001b[43m        \u001b[49m\u001b[43mstep_method\u001b[49m\u001b[43m,\u001b[49m\n\u001b[1;32m    407\u001b[0m \u001b[43m        \u001b[49m\u001b[43mstep_method_pickled\u001b[49m\u001b[43m,\u001b[49m\n\u001b[1;32m    408\u001b[0m \u001b[43m        \u001b[49m\u001b[43mchain\u001b[49m\u001b[43m,\u001b[49m\n\u001b[1;32m    409\u001b[0m \u001b[43m        \u001b[49m\u001b[43mseed\u001b[49m\u001b[43m,\u001b[49m\n\u001b[1;32m    410\u001b[0m \u001b[43m        \u001b[49m\u001b[43mstart\u001b[49m\u001b[43m,\u001b[49m\n\u001b[1;32m    411\u001b[0m \u001b[43m        \u001b[49m\u001b[43mmp_ctx\u001b[49m\u001b[43m,\u001b[49m\n\u001b[1;32m    412\u001b[0m \u001b[43m    \u001b[49m\u001b[43m)\u001b[49m\n\u001b[1;32m    413\u001b[0m     \u001b[38;5;28;01mfor\u001b[39;00m chain, seed, start \u001b[38;5;129;01min\u001b[39;00m \u001b[38;5;28mzip\u001b[39m(\u001b[38;5;28mrange\u001b[39m(chains), seeds, start_points)\n\u001b[1;32m    414\u001b[0m ]\n\u001b[1;32m    416\u001b[0m \u001b[38;5;28mself\u001b[39m\u001b[38;5;241m.\u001b[39m_inactive \u001b[38;5;241m=\u001b[39m \u001b[38;5;28mself\u001b[39m\u001b[38;5;241m.\u001b[39m_samplers\u001b[38;5;241m.\u001b[39mcopy()\n\u001b[1;32m    417\u001b[0m \u001b[38;5;28mself\u001b[39m\u001b[38;5;241m.\u001b[39m_finished: List[ProcessAdapter] \u001b[38;5;241m=\u001b[39m []\n",
      "File \u001b[0;32m~/Documents/pymc-marketing/.conda/envs/marketing_env/lib/python3.11/site-packages/pymc/sampling/parallel.py:259\u001b[0m, in \u001b[0;36mProcessAdapter.__init__\u001b[0;34m(self, draws, tune, step_method, step_method_pickled, chain, seed, start, mp_ctx)\u001b[0m\n\u001b[1;32m    242\u001b[0m     step_method_send \u001b[38;5;241m=\u001b[39m step_method\n\u001b[1;32m    244\u001b[0m \u001b[38;5;28mself\u001b[39m\u001b[38;5;241m.\u001b[39m_process \u001b[38;5;241m=\u001b[39m mp_ctx\u001b[38;5;241m.\u001b[39mProcess(\n\u001b[1;32m    245\u001b[0m     daemon\u001b[38;5;241m=\u001b[39m\u001b[38;5;28;01mTrue\u001b[39;00m,\n\u001b[1;32m    246\u001b[0m     name\u001b[38;5;241m=\u001b[39mprocess_name,\n\u001b[0;32m   (...)\u001b[0m\n\u001b[1;32m    257\u001b[0m     ),\n\u001b[1;32m    258\u001b[0m )\n\u001b[0;32m--> 259\u001b[0m \u001b[38;5;28;43mself\u001b[39;49m\u001b[38;5;241;43m.\u001b[39;49m\u001b[43m_process\u001b[49m\u001b[38;5;241;43m.\u001b[39;49m\u001b[43mstart\u001b[49m\u001b[43m(\u001b[49m\u001b[43m)\u001b[49m\n\u001b[1;32m    260\u001b[0m \u001b[38;5;66;03m# Close the remote pipe, so that we get notified if the other\u001b[39;00m\n\u001b[1;32m    261\u001b[0m \u001b[38;5;66;03m# end is closed.\u001b[39;00m\n\u001b[1;32m    262\u001b[0m remote_conn\u001b[38;5;241m.\u001b[39mclose()\n",
      "File \u001b[0;32m~/Documents/pymc-marketing/.conda/envs/marketing_env/lib/python3.11/multiprocessing/process.py:121\u001b[0m, in \u001b[0;36mBaseProcess.start\u001b[0;34m(self)\u001b[0m\n\u001b[1;32m    118\u001b[0m \u001b[38;5;28;01massert\u001b[39;00m \u001b[38;5;129;01mnot\u001b[39;00m _current_process\u001b[38;5;241m.\u001b[39m_config\u001b[38;5;241m.\u001b[39mget(\u001b[38;5;124m'\u001b[39m\u001b[38;5;124mdaemon\u001b[39m\u001b[38;5;124m'\u001b[39m), \\\n\u001b[1;32m    119\u001b[0m        \u001b[38;5;124m'\u001b[39m\u001b[38;5;124mdaemonic processes are not allowed to have children\u001b[39m\u001b[38;5;124m'\u001b[39m\n\u001b[1;32m    120\u001b[0m _cleanup()\n\u001b[0;32m--> 121\u001b[0m \u001b[38;5;28mself\u001b[39m\u001b[38;5;241m.\u001b[39m_popen \u001b[38;5;241m=\u001b[39m \u001b[38;5;28;43mself\u001b[39;49m\u001b[38;5;241;43m.\u001b[39;49m\u001b[43m_Popen\u001b[49m\u001b[43m(\u001b[49m\u001b[38;5;28;43mself\u001b[39;49m\u001b[43m)\u001b[49m\n\u001b[1;32m    122\u001b[0m \u001b[38;5;28mself\u001b[39m\u001b[38;5;241m.\u001b[39m_sentinel \u001b[38;5;241m=\u001b[39m \u001b[38;5;28mself\u001b[39m\u001b[38;5;241m.\u001b[39m_popen\u001b[38;5;241m.\u001b[39msentinel\n\u001b[1;32m    123\u001b[0m \u001b[38;5;66;03m# Avoid a refcycle if the target function holds an indirect\u001b[39;00m\n\u001b[1;32m    124\u001b[0m \u001b[38;5;66;03m# reference to the process object (see bpo-30775)\u001b[39;00m\n",
      "File \u001b[0;32m~/Documents/pymc-marketing/.conda/envs/marketing_env/lib/python3.11/multiprocessing/context.py:300\u001b[0m, in \u001b[0;36mForkServerProcess._Popen\u001b[0;34m(process_obj)\u001b[0m\n\u001b[1;32m    297\u001b[0m \u001b[38;5;129m@staticmethod\u001b[39m\n\u001b[1;32m    298\u001b[0m \u001b[38;5;28;01mdef\u001b[39;00m \u001b[38;5;21m_Popen\u001b[39m(process_obj):\n\u001b[1;32m    299\u001b[0m     \u001b[38;5;28;01mfrom\u001b[39;00m \u001b[38;5;21;01m.\u001b[39;00m\u001b[38;5;21;01mpopen_forkserver\u001b[39;00m \u001b[38;5;28;01mimport\u001b[39;00m Popen\n\u001b[0;32m--> 300\u001b[0m     \u001b[38;5;28;01mreturn\u001b[39;00m \u001b[43mPopen\u001b[49m\u001b[43m(\u001b[49m\u001b[43mprocess_obj\u001b[49m\u001b[43m)\u001b[49m\n",
      "File \u001b[0;32m~/Documents/pymc-marketing/.conda/envs/marketing_env/lib/python3.11/multiprocessing/popen_forkserver.py:35\u001b[0m, in \u001b[0;36mPopen.__init__\u001b[0;34m(self, process_obj)\u001b[0m\n\u001b[1;32m     33\u001b[0m \u001b[38;5;28;01mdef\u001b[39;00m \u001b[38;5;21m__init__\u001b[39m(\u001b[38;5;28mself\u001b[39m, process_obj):\n\u001b[1;32m     34\u001b[0m     \u001b[38;5;28mself\u001b[39m\u001b[38;5;241m.\u001b[39m_fds \u001b[38;5;241m=\u001b[39m []\n\u001b[0;32m---> 35\u001b[0m     \u001b[38;5;28;43msuper\u001b[39;49m\u001b[43m(\u001b[49m\u001b[43m)\u001b[49m\u001b[38;5;241;43m.\u001b[39;49m\u001b[38;5;21;43m__init__\u001b[39;49m\u001b[43m(\u001b[49m\u001b[43mprocess_obj\u001b[49m\u001b[43m)\u001b[49m\n",
      "File \u001b[0;32m~/Documents/pymc-marketing/.conda/envs/marketing_env/lib/python3.11/multiprocessing/popen_fork.py:19\u001b[0m, in \u001b[0;36mPopen.__init__\u001b[0;34m(self, process_obj)\u001b[0m\n\u001b[1;32m     17\u001b[0m \u001b[38;5;28mself\u001b[39m\u001b[38;5;241m.\u001b[39mreturncode \u001b[38;5;241m=\u001b[39m \u001b[38;5;28;01mNone\u001b[39;00m\n\u001b[1;32m     18\u001b[0m \u001b[38;5;28mself\u001b[39m\u001b[38;5;241m.\u001b[39mfinalizer \u001b[38;5;241m=\u001b[39m \u001b[38;5;28;01mNone\u001b[39;00m\n\u001b[0;32m---> 19\u001b[0m \u001b[38;5;28;43mself\u001b[39;49m\u001b[38;5;241;43m.\u001b[39;49m\u001b[43m_launch\u001b[49m\u001b[43m(\u001b[49m\u001b[43mprocess_obj\u001b[49m\u001b[43m)\u001b[49m\n",
      "File \u001b[0;32m~/Documents/pymc-marketing/.conda/envs/marketing_env/lib/python3.11/multiprocessing/popen_forkserver.py:58\u001b[0m, in \u001b[0;36mPopen._launch\u001b[0;34m(self, process_obj)\u001b[0m\n\u001b[1;32m     55\u001b[0m \u001b[38;5;28mself\u001b[39m\u001b[38;5;241m.\u001b[39mfinalizer \u001b[38;5;241m=\u001b[39m util\u001b[38;5;241m.\u001b[39mFinalize(\u001b[38;5;28mself\u001b[39m, util\u001b[38;5;241m.\u001b[39mclose_fds,\n\u001b[1;32m     56\u001b[0m                                (_parent_w, \u001b[38;5;28mself\u001b[39m\u001b[38;5;241m.\u001b[39msentinel))\n\u001b[1;32m     57\u001b[0m \u001b[38;5;28;01mwith\u001b[39;00m \u001b[38;5;28mopen\u001b[39m(w, \u001b[38;5;124m'\u001b[39m\u001b[38;5;124mwb\u001b[39m\u001b[38;5;124m'\u001b[39m, closefd\u001b[38;5;241m=\u001b[39m\u001b[38;5;28;01mTrue\u001b[39;00m) \u001b[38;5;28;01mas\u001b[39;00m f:\n\u001b[0;32m---> 58\u001b[0m     \u001b[43mf\u001b[49m\u001b[38;5;241;43m.\u001b[39;49m\u001b[43mwrite\u001b[49m\u001b[43m(\u001b[49m\u001b[43mbuf\u001b[49m\u001b[38;5;241;43m.\u001b[39;49m\u001b[43mgetbuffer\u001b[49m\u001b[43m(\u001b[49m\u001b[43m)\u001b[49m\u001b[43m)\u001b[49m\n\u001b[1;32m     59\u001b[0m \u001b[38;5;28mself\u001b[39m\u001b[38;5;241m.\u001b[39mpid \u001b[38;5;241m=\u001b[39m forkserver\u001b[38;5;241m.\u001b[39mread_signed(\u001b[38;5;28mself\u001b[39m\u001b[38;5;241m.\u001b[39msentinel)\n",
      "\u001b[0;31mBrokenPipeError\u001b[0m: [Errno 32] Broken pipe"
     ]
    }
   ],
   "source": [
    "mmm.fit(X=X, y=y, target_accept=0.95, chains=4, random_seed=rng)"
   ]
  },
  {
   "cell_type": "markdown",
   "id": "c29a6461",
   "metadata": {},
   "source": [
    "The `fit()` method from `ModelBuilder` automatically builds the model using the priors from `model_config`, and assigns the created model to our instance. You can access it as a normal attribute."
   ]
  },
  {
   "cell_type": "code",
   "execution_count": null,
   "id": "c6b8e2af",
   "metadata": {},
   "outputs": [],
   "source": [
    "type(mmm.model)"
   ]
  },
  {
   "cell_type": "code",
   "execution_count": null,
   "id": "f046ee2c",
   "metadata": {},
   "outputs": [],
   "source": [
    "mmm.graphviz()"
   ]
  },
  {
   "cell_type": "markdown",
   "id": "c804b600",
   "metadata": {},
   "source": [
    "posterior trace can be accessed `fit_result` attribute"
   ]
  },
  {
   "cell_type": "code",
   "execution_count": null,
   "id": "66903965",
   "metadata": {},
   "outputs": [],
   "source": [
    "mmm.fit_result"
   ]
  },
  {
   "cell_type": "markdown",
   "id": "707e73b5",
   "metadata": {},
   "source": [
    "And if you wish to inspect the entire inference data, use `idata` attribute. Within `idata`, our entire dataset passed to the model can be found under `fit_data`"
   ]
  },
  {
   "cell_type": "code",
   "execution_count": null,
   "id": "b1252ee3",
   "metadata": {
    "scrolled": true
   },
   "outputs": [],
   "source": [
    "mmm.idata"
   ]
  },
  {
   "cell_type": "markdown",
   "id": "7b0a35f4",
   "metadata": {},
   "source": [
    "All the data passed to the model on initialisation is stored in `idata.attrs`. It will be later used in the `save()` method\n",
    "to convert them, and all the fit data into netcdf format."
   ]
  },
  {
   "cell_type": "code",
   "execution_count": null,
   "id": "7630da1e",
   "metadata": {},
   "outputs": [],
   "source": [
    "mmm.idata.attrs"
   ]
  },
  {
   "cell_type": "markdown",
   "id": "45948f46",
   "metadata": {},
   "source": [
    "Simply specify the path to which you'd like to save your model:"
   ]
  },
  {
   "cell_type": "code",
   "execution_count": null,
   "id": "b3abe93a",
   "metadata": {},
   "outputs": [],
   "source": [
    "mmm.save('my_saved_model')"
   ]
  },
  {
   "cell_type": "markdown",
   "id": "8a5eba79",
   "metadata": {},
   "source": [
    "And pass it to the `load()` method when it's needed again on the target system:"
   ]
  },
  {
   "cell_type": "code",
   "execution_count": null,
   "id": "0421bae8",
   "metadata": {},
   "outputs": [],
   "source": [
    "loaded_model = DelayedSaturatedMMM.load('my_saved_model')"
   ]
  },
  {
   "cell_type": "code",
   "execution_count": null,
   "id": "cfb64a2c",
   "metadata": {},
   "outputs": [],
   "source": [
    "loaded_model.idata"
   ]
  },
  {
   "cell_type": "code",
   "execution_count": null,
   "id": "a8b666d3",
   "metadata": {},
   "outputs": [],
   "source": [
    "loaded_model.graphviz()"
   ]
  },
  {
   "cell_type": "markdown",
   "id": "e8e807f9",
   "metadata": {},
   "source": [
    "## Summary:"
   ]
  },
  {
   "cell_type": "markdown",
   "id": "61f232c1",
   "metadata": {},
   "source": [
    "The `ModelBuilder` module is a new feature of `PyMC` based models. It provides 2 easy-to-use methods: `save()` and `load()` that can be used after the model has been fit.`save()` allow easy preservation of the model to .netcdf format, and `load()` gives one-line replication of the original model. Users can control the prior settings with `model_config`, and customize the sampling process using `sampler_config`.\n",
    "Default values of those are working just fine, so first time give it a try without changing, and provide your own `model_config` and `model_sampler` if afterwards you want to try to customize it more for your use case!"
   ]
  },
  {
   "cell_type": "markdown",
   "id": "b8ad333d",
   "metadata": {},
   "source": [
    "Even though this introduction is about `DelayedSaturatedMMM`, functionalities from `ModelBuilder` are available in the CLV models as well."
   ]
  }
 ],
 "metadata": {
  "kernelspec": {
   "display_name": "marketing_env",
   "language": "python",
   "name": "marketing_env"
  },
  "language_info": {
   "codemirror_mode": {
    "name": "ipython",
    "version": 3
   },
   "file_extension": ".py",
   "mimetype": "text/x-python",
   "name": "python",
   "nbconvert_exporter": "python",
   "pygments_lexer": "ipython3",
   "version": "3.11.4"
  }
 },
 "nbformat": 4,
 "nbformat_minor": 5
}
