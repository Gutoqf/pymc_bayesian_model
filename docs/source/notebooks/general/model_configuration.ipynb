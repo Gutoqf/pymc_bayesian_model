{
 "cells": [
  {
   "cell_type": "markdown",
   "id": "bc1f69aa-913d-49fa-8e20-58f953301851",
   "metadata": {},
   "source": [
    "(model_configuration)=\n",
    "# Model Configuration\n",
    "\n",
    "This goes over the model configuration\n",
    "\n",
    "## Setup"
   ]
  },
  {
   "cell_type": "code",
   "execution_count": 1,
   "id": "9d6bc077-24d1-47de-8542-5497ade670e3",
   "metadata": {},
   "outputs": [],
   "source": [
    "import arviz as az\n",
    "import matplotlib.pyplot as plt\n",
    "import numpy as np\n",
    "import pandas as pd\n",
    "import pymc as pm\n",
    "\n",
    "from pymc_marketing.model_config import parse_model_config\n",
    "from pymc_marketing.prior import Prior\n",
    "\n",
    "az.style.use(\"arviz-darkgrid\")\n",
    "plt.rcParams[\"figure.figsize\"] = [12, 7]\n",
    "plt.rcParams[\"figure.dpi\"] = 100"
   ]
  },
  {
   "cell_type": "code",
   "execution_count": 2,
   "id": "6fa99350-cc39-4ef9-9c9a-f6e0f7091636",
   "metadata": {},
   "outputs": [],
   "source": [
    "seed = sum(map(ord, \"Create priors to reflect your marketing believes\"))\n",
    "rng = np.random.default_rng(seed)"
   ]
  },
  {
   "cell_type": "markdown",
   "id": "a5f28af2-a8a2-4046-ad65-940464862424",
   "metadata": {},
   "source": [
    "## Prior Distributions\n",
    "\n",
    "The `Prior` class is our way to expression distributions and relationships between them.\n",
    "\n",
    "### Basic Usage\n",
    "\n",
    "Every prior will need a distribution name that comes from `PyMC`. View the full list in the documentation [here](https://www.pymc.io/projects/docs/en/stable/api/distributions.html)."
   ]
  },
  {
   "cell_type": "code",
   "execution_count": 3,
   "id": "34815050-4f1b-4345-b31b-466fb357a974",
   "metadata": {},
   "outputs": [
    {
     "data": {
      "text/plain": [
       "Prior(\"Normal\")"
      ]
     },
     "execution_count": 3,
     "metadata": {},
     "output_type": "execute_result"
    }
   ],
   "source": [
    "scalar_distribution = Prior(\"Normal\")\n",
    "scalar_distribution"
   ]
  },
  {
   "cell_type": "markdown",
   "id": "b76493fe-48a1-472e-9c8a-fbf632d89baf",
   "metadata": {},
   "source": [
    "If not, then an exception will be raised."
   ]
  },
  {
   "cell_type": "code",
   "execution_count": 4,
   "id": "06314bd5-ebce-4c41-b2c5-b99143c13192",
   "metadata": {},
   "outputs": [
    {
     "name": "stdout",
     "output_type": "stream",
     "text": [
      "PyMC doesn't have a distribution of name 'UnknownDistribution'\n"
     ]
    }
   ],
   "source": [
    "try:\n",
    "    Prior(\"UnknownDistribution\")\n",
    "except Exception as e:\n",
    "    print(e)"
   ]
  },
  {
   "cell_type": "markdown",
   "id": "d76c8fbd-5a22-408d-af96-c9a0ae712da5",
   "metadata": {},
   "source": [
    "Specific parameters can be passed as **keyword arguments** but are not required if the `PyMC` distribution has defaults."
   ]
  },
  {
   "cell_type": "code",
   "execution_count": 5,
   "id": "d12e116e-32f4-4f15-a9ee-4d6a0472590c",
   "metadata": {},
   "outputs": [
    {
     "data": {
      "text/plain": [
       "Prior(\"Normal\", mu=0, sigma=3.5)"
      ]
     },
     "execution_count": 5,
     "metadata": {},
     "output_type": "execute_result"
    }
   ],
   "source": [
    "scalar_distribution = Prior(\"Normal\", mu=0, sigma=3.5)\n",
    "scalar_distribution"
   ]
  },
  {
   "cell_type": "markdown",
   "id": "3b46a0bd-d178-4afc-9f5e-3dcf19170e7e",
   "metadata": {},
   "source": [
    "There will be a check at initialization against the `PyMC` distribution."
   ]
  },
  {
   "cell_type": "code",
   "execution_count": 6,
   "id": "38a7db8f-9cc0-4e5b-8c64-c04415b0f35a",
   "metadata": {},
   "outputs": [
    {
     "name": "stdout",
     "output_type": "stream",
     "text": [
      "Parameters {'b', 'mu'} are not a subset of the pymc distribution parameters {'sigma', 'tau', 'mu'}\n"
     ]
    }
   ],
   "source": [
    "try:\n",
    "    Prior(\"Normal\", mu=0, b=1)\n",
    "except Exception as e:\n",
    "    print(e)"
   ]
  },
  {
   "cell_type": "markdown",
   "id": "e4bb33ab-9045-4701-9daa-eaa3b4b6d80c",
   "metadata": {},
   "source": [
    "However, there are some limitations to that. Take this invalid parameterization below:"
   ]
  },
  {
   "cell_type": "code",
   "execution_count": 7,
   "id": "a8dcb6f8-1357-4de4-b5d5-a30ab2c48e5b",
   "metadata": {},
   "outputs": [],
   "source": [
    "invalid_distribution = Prior(\"Normal\", mu=1, sigma=1, tau=2)"
   ]
  },
  {
   "cell_type": "markdown",
   "id": "660cb88e-3693-43fa-819e-866cd06aba81",
   "metadata": {},
   "source": [
    "The `create_variable` method is used to make variables from this distribution and it isn't until then that there is an error."
   ]
  },
  {
   "cell_type": "code",
   "execution_count": 8,
   "id": "5e1df586-c4d2-4ac0-9a27-cc3313a0005b",
   "metadata": {},
   "outputs": [
    {
     "name": "stdout",
     "output_type": "stream",
     "text": [
      "Can't pass both tau and sigma\n"
     ]
    }
   ],
   "source": [
    "with pm.Model():\n",
    "    try:\n",
    "        invalid_distribution.create_variable(\"mu\")\n",
    "    except Exception as e:\n",
    "        print(e)"
   ]
  },
  {
   "cell_type": "markdown",
   "id": "9db15fc8-86ac-4a4f-94f2-54bbe7e6fc1e",
   "metadata": {},
   "source": [
    "This goes for incorrect values as well!"
   ]
  },
  {
   "cell_type": "code",
   "execution_count": 9,
   "id": "bb04847a-0500-4597-9fbe-bb772607d4de",
   "metadata": {},
   "outputs": [
    {
     "data": {
      "text/plain": [
       "Prior(\"Normal\", mu=1, sigma=-1)"
      ]
     },
     "execution_count": 9,
     "metadata": {},
     "output_type": "execute_result"
    }
   ],
   "source": [
    "invalid_distribution = Prior(\"Normal\", mu=1, sigma=-1)\n",
    "invalid_distribution"
   ]
  },
  {
   "cell_type": "markdown",
   "id": "5de45592-94fb-4bb8-976f-48edf4244a57",
   "metadata": {},
   "source": [
    "The `dims` parameter are used to express the dimensions of the distribution. This variable is not part of a model so the values are not reflected with the distribution itself."
   ]
  },
  {
   "cell_type": "code",
   "execution_count": 10,
   "id": "925e49bf-97f3-4fa8-863e-2655abc65e82",
   "metadata": {},
   "outputs": [
    {
     "data": {
      "text/plain": [
       "Prior(\"Normal\", dims=\"channel\")"
      ]
     },
     "execution_count": 10,
     "metadata": {},
     "output_type": "execute_result"
    }
   ],
   "source": [
    "vector_distribution = Prior(\"Normal\", dims=\"channel\")\n",
    "vector_distribution"
   ]
  },
  {
   "cell_type": "markdown",
   "id": "56f329cd-c5fc-44c2-9c27-07d33fe9697c",
   "metadata": {},
   "source": [
    "If there are dimensions, then the coords need to exist in the larger model. But they exist separately and can defined in advance.\n",
    "\n",
    "```{tip}\n",
    "Each `Prior` instance is just instructions to create a variable, so they can be used multiple times!\n",
    "```"
   ]
  },
  {
   "cell_type": "code",
   "execution_count": 11,
   "id": "ad58dacf-9f56-47f9-b5ca-6678f27d5856",
   "metadata": {},
   "outputs": [
    {
     "data": {
      "image/svg+xml": [
       "<?xml version=\"1.0\" encoding=\"UTF-8\" standalone=\"no\"?>\n",
       "<!DOCTYPE svg PUBLIC \"-//W3C//DTD SVG 1.1//EN\"\n",
       " \"http://www.w3.org/Graphics/SVG/1.1/DTD/svg11.dtd\">\n",
       "<!-- Generated by graphviz version 9.0.0 (20231125.0833)\n",
       " -->\n",
       "<!-- Pages: 1 -->\n",
       "<svg width=\"254pt\" height=\"150pt\"\n",
       " viewBox=\"0.00 0.00 254.00 149.75\" xmlns=\"http://www.w3.org/2000/svg\" xmlns:xlink=\"http://www.w3.org/1999/xlink\">\n",
       "<g id=\"graph0\" class=\"graph\" transform=\"scale(1 1) rotate(0) translate(4 145.75)\">\n",
       "<polygon fill=\"white\" stroke=\"none\" points=\"-4,4 -4,-145.75 250,-145.75 250,4 -4,4\"/>\n",
       "<g id=\"clust1\" class=\"cluster\">\n",
       "<title>clusterchannel (2)</title>\n",
       "<path fill=\"none\" stroke=\"black\" d=\"M20,-8C20,-8 226,-8 226,-8 232,-8 238,-14 238,-20 238,-20 238,-121.75 238,-121.75 238,-127.75 232,-133.75 226,-133.75 226,-133.75 20,-133.75 20,-133.75 14,-133.75 8,-127.75 8,-121.75 8,-121.75 8,-20 8,-20 8,-14 14,-8 20,-8\"/>\n",
       "<text text-anchor=\"middle\" x=\"190.25\" y=\"-15.95\" font-family=\"Times,serif\" font-size=\"14.00\">channel (2)</text>\n",
       "</g>\n",
       "<!-- alpha -->\n",
       "<g id=\"node1\" class=\"node\">\n",
       "<title>alpha</title>\n",
       "<ellipse fill=\"none\" stroke=\"black\" cx=\"181\" cy=\"-83.5\" rx=\"48.97\" ry=\"42.25\"/>\n",
       "<text text-anchor=\"middle\" x=\"181\" y=\"-96.07\" font-family=\"Times,serif\" font-size=\"14.00\">alpha</text>\n",
       "<text text-anchor=\"middle\" x=\"181\" y=\"-78.82\" font-family=\"Times,serif\" font-size=\"14.00\">~</text>\n",
       "<text text-anchor=\"middle\" x=\"181\" y=\"-61.57\" font-family=\"Times,serif\" font-size=\"14.00\">Normal</text>\n",
       "</g>\n",
       "<!-- beta -->\n",
       "<g id=\"node2\" class=\"node\">\n",
       "<title>beta</title>\n",
       "<ellipse fill=\"none\" stroke=\"black\" cx=\"65\" cy=\"-83.5\" rx=\"48.97\" ry=\"42.25\"/>\n",
       "<text text-anchor=\"middle\" x=\"65\" y=\"-96.07\" font-family=\"Times,serif\" font-size=\"14.00\">beta</text>\n",
       "<text text-anchor=\"middle\" x=\"65\" y=\"-78.82\" font-family=\"Times,serif\" font-size=\"14.00\">~</text>\n",
       "<text text-anchor=\"middle\" x=\"65\" y=\"-61.57\" font-family=\"Times,serif\" font-size=\"14.00\">Normal</text>\n",
       "</g>\n",
       "</g>\n",
       "</svg>\n"
      ],
      "text/plain": [
       "<graphviz.graphs.Digraph at 0x7f7cadc68bb0>"
      ]
     },
     "execution_count": 11,
     "metadata": {},
     "output_type": "execute_result"
    }
   ],
   "source": [
    "coords = {\"channel\": [\"C1\", \"C2\"]}\n",
    "with pm.Model(coords=coords) as model:\n",
    "    alpha = vector_distribution.create_variable(\"alpha\")\n",
    "    beta = vector_distribution.create_variable(\"beta\")\n",
    "\n",
    "pm.model_to_graphviz(model)"
   ]
  },
  {
   "cell_type": "markdown",
   "id": "27f9583f-b676-4ac2-85a5-d522815de5e3",
   "metadata": {},
   "source": [
    "If the coords were not specified then this would cause a PyMC error."
   ]
  },
  {
   "cell_type": "code",
   "execution_count": 12,
   "id": "76a89202-7f68-4e89-a77a-ae917b1b3573",
   "metadata": {},
   "outputs": [
    {
     "name": "stdout",
     "output_type": "stream",
     "text": [
      "\"Dimensions {'channel'} are unknown to the model and cannot be used to specify a `shape`.\"\n"
     ]
    }
   ],
   "source": [
    "with pm.Model() as model:\n",
    "    try:\n",
    "        vector_distribution.create_variable(\"var\")\n",
    "    except Exception as e:\n",
    "        print(e)"
   ]
  },
  {
   "cell_type": "markdown",
   "id": "b1000cc0-2087-48b0-a276-f8921f5db750",
   "metadata": {},
   "source": [
    "The variables can get arbitrarily large as well by providing additional dims in a tuple."
   ]
  },
  {
   "cell_type": "code",
   "execution_count": 13,
   "id": "26101b33-78b3-47fc-996f-140660efb1c9",
   "metadata": {},
   "outputs": [
    {
     "data": {
      "text/plain": [
       "Prior(\"Normal\", dims=(\"channel\", \"geo\"))"
      ]
     },
     "execution_count": 13,
     "metadata": {},
     "output_type": "execute_result"
    }
   ],
   "source": [
    "matrix_distribution = Prior(\"Normal\", dims=(\"channel\", \"geo\"))\n",
    "matrix_distribution"
   ]
  },
  {
   "cell_type": "code",
   "execution_count": 14,
   "id": "d129b86f-80ac-473b-b815-9a7ef733ab5d",
   "metadata": {},
   "outputs": [
    {
     "data": {
      "text/plain": [
       "Prior(\"Normal\", dims=(\"channel\", \"geo\", \"store\"))"
      ]
     },
     "execution_count": 14,
     "metadata": {},
     "output_type": "execute_result"
    }
   ],
   "source": [
    "tensor_distribution = Prior(\"Normal\", dims=(\"channel\", \"geo\", \"store\"))\n",
    "tensor_distribution"
   ]
  },
  {
   "cell_type": "markdown",
   "id": "15d51049-02e6-42e1-a31c-942a855347fb",
   "metadata": {},
   "source": [
    "### Hierarchical Variables\n",
    "\n",
    "Hierarchical variables can be defined by using distributions as the parameters of another distribution. The parent distributions will usually have a larger dimensionality than each of the parameters."
   ]
  },
  {
   "cell_type": "code",
   "execution_count": 15,
   "id": "5620b88f-5137-4f4b-8ffb-f7362deaea85",
   "metadata": {},
   "outputs": [],
   "source": [
    "hierarchical_variable = Prior(\n",
    "    \"Normal\",\n",
    "    mu=Prior(\"Normal\"),\n",
    "    sigma=Prior(\"HalfNormal\"),\n",
    "    dims=\"channel\",\n",
    ")"
   ]
  },
  {
   "cell_type": "markdown",
   "id": "32c14b21-66b0-4948-9804-870c25876cbe",
   "metadata": {},
   "source": [
    "We can use the `graph` method to create visualize the variable with dummy coordinates.\n",
    "\n",
    "```{note}\n",
    "No need to worry about variable naming! The child parameters will all be automatically named based on the parent.\n",
    "```"
   ]
  },
  {
   "cell_type": "code",
   "execution_count": 16,
   "id": "e830baac-08fd-492a-ae65-0f6aa36debf9",
   "metadata": {},
   "outputs": [
    {
     "data": {
      "image/svg+xml": [
       "<?xml version=\"1.0\" encoding=\"UTF-8\" standalone=\"no\"?>\n",
       "<!DOCTYPE svg PUBLIC \"-//W3C//DTD SVG 1.1//EN\"\n",
       " \"http://www.w3.org/Graphics/SVG/1.1/DTD/svg11.dtd\">\n",
       "<!-- Generated by graphviz version 9.0.0 (20231125.0833)\n",
       " -->\n",
       "<!-- Pages: 1 -->\n",
       "<svg width=\"264pt\" height=\"254pt\"\n",
       " viewBox=\"0.00 0.00 264.15 254.25\" xmlns=\"http://www.w3.org/2000/svg\" xmlns:xlink=\"http://www.w3.org/1999/xlink\">\n",
       "<g id=\"graph0\" class=\"graph\" transform=\"scale(1 1) rotate(0) translate(4 250.25)\">\n",
       "<polygon fill=\"white\" stroke=\"none\" points=\"-4,4 -4,-250.25 260.15,-250.25 260.15,4 -4,4\"/>\n",
       "<g id=\"clust1\" class=\"cluster\">\n",
       "<title>clusterchannel (1)</title>\n",
       "<path fill=\"none\" stroke=\"black\" d=\"M71.97,-8C71.97,-8 161.97,-8 161.97,-8 167.97,-8 173.97,-14 173.97,-20 173.97,-20 173.97,-121.75 173.97,-121.75 173.97,-127.75 167.97,-133.75 161.97,-133.75 161.97,-133.75 71.97,-133.75 71.97,-133.75 65.97,-133.75 59.97,-127.75 59.97,-121.75 59.97,-121.75 59.97,-20 59.97,-20 59.97,-14 65.97,-8 71.97,-8\"/>\n",
       "<text text-anchor=\"middle\" x=\"126.22\" y=\"-15.95\" font-family=\"Times,serif\" font-size=\"14.00\">channel (1)</text>\n",
       "</g>\n",
       "<!-- var_mu -->\n",
       "<g id=\"node1\" class=\"node\">\n",
       "<title>var_mu</title>\n",
       "<ellipse fill=\"none\" stroke=\"black\" cx=\"48.97\" cy=\"-204\" rx=\"48.97\" ry=\"42.25\"/>\n",
       "<text text-anchor=\"middle\" x=\"48.97\" y=\"-216.57\" font-family=\"Times,serif\" font-size=\"14.00\">var_mu</text>\n",
       "<text text-anchor=\"middle\" x=\"48.97\" y=\"-199.32\" font-family=\"Times,serif\" font-size=\"14.00\">~</text>\n",
       "<text text-anchor=\"middle\" x=\"48.97\" y=\"-182.07\" font-family=\"Times,serif\" font-size=\"14.00\">Normal</text>\n",
       "</g>\n",
       "<!-- var -->\n",
       "<g id=\"node3\" class=\"node\">\n",
       "<title>var</title>\n",
       "<ellipse fill=\"none\" stroke=\"black\" cx=\"116.97\" cy=\"-83.5\" rx=\"48.97\" ry=\"42.25\"/>\n",
       "<text text-anchor=\"middle\" x=\"116.97\" y=\"-96.07\" font-family=\"Times,serif\" font-size=\"14.00\">var</text>\n",
       "<text text-anchor=\"middle\" x=\"116.97\" y=\"-78.82\" font-family=\"Times,serif\" font-size=\"14.00\">~</text>\n",
       "<text text-anchor=\"middle\" x=\"116.97\" y=\"-61.57\" font-family=\"Times,serif\" font-size=\"14.00\">Normal</text>\n",
       "</g>\n",
       "<!-- var_mu&#45;&gt;var -->\n",
       "<g id=\"edge1\" class=\"edge\">\n",
       "<title>var_mu&#45;&gt;var</title>\n",
       "<path fill=\"none\" stroke=\"black\" d=\"M70.48,-165.5C76.68,-154.7 83.52,-142.78 90.01,-131.48\"/>\n",
       "<polygon fill=\"black\" stroke=\"black\" points=\"92.9,-133.48 94.84,-123.06 86.83,-129.99 92.9,-133.48\"/>\n",
       "</g>\n",
       "<!-- var_sigma -->\n",
       "<g id=\"node2\" class=\"node\">\n",
       "<title>var_sigma</title>\n",
       "<ellipse fill=\"none\" stroke=\"black\" cx=\"185.97\" cy=\"-204\" rx=\"70.18\" ry=\"42.25\"/>\n",
       "<text text-anchor=\"middle\" x=\"185.97\" y=\"-216.57\" font-family=\"Times,serif\" font-size=\"14.00\">var_sigma</text>\n",
       "<text text-anchor=\"middle\" x=\"185.97\" y=\"-199.32\" font-family=\"Times,serif\" font-size=\"14.00\">~</text>\n",
       "<text text-anchor=\"middle\" x=\"185.97\" y=\"-182.07\" font-family=\"Times,serif\" font-size=\"14.00\">HalfNormal</text>\n",
       "</g>\n",
       "<!-- var_sigma&#45;&gt;var -->\n",
       "<g id=\"edge2\" class=\"edge\">\n",
       "<title>var_sigma&#45;&gt;var</title>\n",
       "<path fill=\"none\" stroke=\"black\" d=\"M163.18,-163.87C157.11,-153.44 150.49,-142.07 144.21,-131.28\"/>\n",
       "<polygon fill=\"black\" stroke=\"black\" points=\"147.38,-129.77 139.32,-122.89 141.33,-133.29 147.38,-129.77\"/>\n",
       "</g>\n",
       "</g>\n",
       "</svg>\n"
      ],
      "text/plain": [
       "<graphviz.graphs.Digraph at 0x7f7cadc9f460>"
      ]
     },
     "execution_count": 16,
     "metadata": {},
     "output_type": "execute_result"
    }
   ],
   "source": [
    "hierarchical_variable.graph()"
   ]
  },
  {
   "cell_type": "markdown",
   "id": "b80a4e49-bb8c-4e4d-b533-c00ab150d886",
   "metadata": {},
   "source": [
    "```{warning}\n",
    "The validity of the parameter values will not be checked. \n",
    "```\n",
    "\n",
    "There can be negative sigma parameter in a Normal distribution whether that comes from value or another distribution!"
   ]
  },
  {
   "cell_type": "code",
   "execution_count": 17,
   "id": "b82d2483-1064-4014-a0c5-498f95ab6b0d",
   "metadata": {},
   "outputs": [
    {
     "data": {
      "text/plain": [
       "Prior(\"Normal\", mu=1, sigma=-1)"
      ]
     },
     "execution_count": 17,
     "metadata": {},
     "output_type": "execute_result"
    }
   ],
   "source": [
    "Prior(\"Normal\", mu=1, sigma=-1)"
   ]
  },
  {
   "cell_type": "code",
   "execution_count": 18,
   "id": "3062face-a9c6-446d-8c93-91b99af18059",
   "metadata": {},
   "outputs": [
    {
     "data": {
      "text/plain": [
       "Prior(\"Normal\", sigma=Prior(\"Normal\"))"
      ]
     },
     "execution_count": 18,
     "metadata": {},
     "output_type": "execute_result"
    }
   ],
   "source": [
    "Prior(\"Normal\", sigma=Prior(\"Normal\"))"
   ]
  },
  {
   "cell_type": "markdown",
   "id": "d0d12fd8-07ef-4fcc-816f-cabd6667c1dc",
   "metadata": {},
   "source": [
    "```{tip}\n",
    "Model reparamterizations can help with model convergence depending on the model posterior!\n",
    "```\n",
    "\n",
    "For Normal distribution, the common non-centered parameterization is supported with the `centered` flag."
   ]
  },
  {
   "cell_type": "code",
   "execution_count": 19,
   "id": "81cee492-654b-4bbb-94b7-25bc87f7dca1",
   "metadata": {},
   "outputs": [
    {
     "data": {
      "image/svg+xml": [
       "<?xml version=\"1.0\" encoding=\"UTF-8\" standalone=\"no\"?>\n",
       "<!DOCTYPE svg PUBLIC \"-//W3C//DTD SVG 1.1//EN\"\n",
       " \"http://www.w3.org/Graphics/SVG/1.1/DTD/svg11.dtd\">\n",
       "<!-- Generated by graphviz version 9.0.0 (20231125.0833)\n",
       " -->\n",
       "<!-- Pages: 1 -->\n",
       "<svg width=\"420pt\" height=\"245pt\"\n",
       " viewBox=\"0.00 0.00 420.18 245.50\" xmlns=\"http://www.w3.org/2000/svg\" xmlns:xlink=\"http://www.w3.org/1999/xlink\">\n",
       "<g id=\"graph0\" class=\"graph\" transform=\"scale(1 1) rotate(0) translate(4 241.5)\">\n",
       "<polygon fill=\"white\" stroke=\"none\" points=\"-4,4 -4,-241.5 416.18,-241.5 416.18,4 -4,4\"/>\n",
       "<g id=\"clust1\" class=\"cluster\">\n",
       "<title>clusterchannel (1)</title>\n",
       "<path fill=\"none\" stroke=\"black\" d=\"M20,-8C20,-8 134,-8 134,-8 140,-8 146,-14 146,-20 146,-20 146,-217.5 146,-217.5 146,-223.5 140,-229.5 134,-229.5 134,-229.5 20,-229.5 20,-229.5 14,-229.5 8,-223.5 8,-217.5 8,-217.5 8,-20 8,-20 8,-14 14,-8 20,-8\"/>\n",
       "<text text-anchor=\"middle\" x=\"98.25\" y=\"-15.95\" font-family=\"Times,serif\" font-size=\"14.00\">channel (1)</text>\n",
       "</g>\n",
       "<!-- var_offset -->\n",
       "<g id=\"node1\" class=\"node\">\n",
       "<title>var_offset</title>\n",
       "<ellipse fill=\"none\" stroke=\"black\" cx=\"77\" cy=\"-179.25\" rx=\"60.63\" ry=\"42.25\"/>\n",
       "<text text-anchor=\"middle\" x=\"77\" y=\"-191.82\" font-family=\"Times,serif\" font-size=\"14.00\">var_offset</text>\n",
       "<text text-anchor=\"middle\" x=\"77\" y=\"-174.57\" font-family=\"Times,serif\" font-size=\"14.00\">~</text>\n",
       "<text text-anchor=\"middle\" x=\"77\" y=\"-157.32\" font-family=\"Times,serif\" font-size=\"14.00\">Normal</text>\n",
       "</g>\n",
       "<!-- var -->\n",
       "<g id=\"node2\" class=\"node\">\n",
       "<title>var</title>\n",
       "<polygon fill=\"none\" stroke=\"black\" points=\"137.75,-101 24.25,-101 24.25,-41.25 137.75,-41.25 137.75,-101\"/>\n",
       "<text text-anchor=\"middle\" x=\"81\" y=\"-83.7\" font-family=\"Times,serif\" font-size=\"14.00\">var</text>\n",
       "<text text-anchor=\"middle\" x=\"81\" y=\"-66.45\" font-family=\"Times,serif\" font-size=\"14.00\">~</text>\n",
       "<text text-anchor=\"middle\" x=\"81\" y=\"-49.2\" font-family=\"Times,serif\" font-size=\"14.00\">Deterministic</text>\n",
       "</g>\n",
       "<!-- var_offset&#45;&gt;var -->\n",
       "<g id=\"edge1\" class=\"edge\">\n",
       "<title>var_offset&#45;&gt;var</title>\n",
       "<path fill=\"none\" stroke=\"black\" d=\"M78.57,-136.61C78.87,-128.74 79.18,-120.53 79.47,-112.69\"/>\n",
       "<polygon fill=\"black\" stroke=\"black\" points=\"82.97,-112.83 79.85,-102.71 75.97,-112.57 82.97,-112.83\"/>\n",
       "</g>\n",
       "<!-- var_mu -->\n",
       "<g id=\"node3\" class=\"node\">\n",
       "<title>var_mu</title>\n",
       "<ellipse fill=\"none\" stroke=\"black\" cx=\"205\" cy=\"-179.25\" rx=\"48.97\" ry=\"42.25\"/>\n",
       "<text text-anchor=\"middle\" x=\"205\" y=\"-191.82\" font-family=\"Times,serif\" font-size=\"14.00\">var_mu</text>\n",
       "<text text-anchor=\"middle\" x=\"205\" y=\"-174.57\" font-family=\"Times,serif\" font-size=\"14.00\">~</text>\n",
       "<text text-anchor=\"middle\" x=\"205\" y=\"-157.32\" font-family=\"Times,serif\" font-size=\"14.00\">Normal</text>\n",
       "</g>\n",
       "<!-- var_mu&#45;&gt;var -->\n",
       "<g id=\"edge3\" class=\"edge\">\n",
       "<title>var_mu&#45;&gt;var</title>\n",
       "<path fill=\"none\" stroke=\"black\" d=\"M170.46,-148.69C155.83,-136.17 138.64,-121.45 123.26,-108.29\"/>\n",
       "<polygon fill=\"black\" stroke=\"black\" points=\"125.95,-105.99 116.08,-102.15 121.4,-111.31 125.95,-105.99\"/>\n",
       "</g>\n",
       "<!-- var_sigma -->\n",
       "<g id=\"node4\" class=\"node\">\n",
       "<title>var_sigma</title>\n",
       "<ellipse fill=\"none\" stroke=\"black\" cx=\"342\" cy=\"-179.25\" rx=\"70.18\" ry=\"42.25\"/>\n",
       "<text text-anchor=\"middle\" x=\"342\" y=\"-191.82\" font-family=\"Times,serif\" font-size=\"14.00\">var_sigma</text>\n",
       "<text text-anchor=\"middle\" x=\"342\" y=\"-174.57\" font-family=\"Times,serif\" font-size=\"14.00\">~</text>\n",
       "<text text-anchor=\"middle\" x=\"342\" y=\"-157.32\" font-family=\"Times,serif\" font-size=\"14.00\">HalfNormal</text>\n",
       "</g>\n",
       "<!-- var_sigma&#45;&gt;var -->\n",
       "<g id=\"edge2\" class=\"edge\">\n",
       "<title>var_sigma&#45;&gt;var</title>\n",
       "<path fill=\"none\" stroke=\"black\" d=\"M290.66,-150.13C281.55,-145.52 272.07,-140.96 263,-137 225.81,-120.76 183.12,-105.38 148.44,-93.67\"/>\n",
       "<polygon fill=\"black\" stroke=\"black\" points=\"149.98,-90.5 139.38,-90.64 147.76,-97.13 149.98,-90.5\"/>\n",
       "</g>\n",
       "</g>\n",
       "</svg>\n"
      ],
      "text/plain": [
       "<graphviz.graphs.Digraph at 0x7f7cada00c70>"
      ]
     },
     "execution_count": 19,
     "metadata": {},
     "output_type": "execute_result"
    }
   ],
   "source": [
    "non_centered_hierarchical_variable = Prior(\n",
    "    \"Normal\",\n",
    "    mu=Prior(\"Normal\"),\n",
    "    sigma=Prior(\"HalfNormal\"),\n",
    "    dims=\"channel\",\n",
    "    # Flag for non-centered\n",
    "    centered=False,\n",
    ")\n",
    "non_centered_hierarchical_variable.graph()"
   ]
  },
  {
   "cell_type": "markdown",
   "id": "003ba849-188c-47ac-98c0-248f5c5a08c3",
   "metadata": {},
   "source": [
    "Other distributions can be hierarchical as well. Just use distributions for parameters of a parent distribution. For instance, the Beta distribution has two positive parameters, `alpha` and `beta` which can be reflect as HalfNormal distributions."
   ]
  },
  {
   "cell_type": "code",
   "execution_count": 20,
   "id": "04bf7a16-89a5-4ef7-865e-aab5fe576ca6",
   "metadata": {},
   "outputs": [
    {
     "data": {
      "image/svg+xml": [
       "<?xml version=\"1.0\" encoding=\"UTF-8\" standalone=\"no\"?>\n",
       "<!DOCTYPE svg PUBLIC \"-//W3C//DTD SVG 1.1//EN\"\n",
       " \"http://www.w3.org/Graphics/SVG/1.1/DTD/svg11.dtd\">\n",
       "<!-- Generated by graphviz version 9.0.0 (20231125.0833)\n",
       " -->\n",
       "<!-- Pages: 1 -->\n",
       "<svg width=\"306pt\" height=\"254pt\"\n",
       " viewBox=\"0.00 0.00 306.36 254.25\" xmlns=\"http://www.w3.org/2000/svg\" xmlns:xlink=\"http://www.w3.org/1999/xlink\">\n",
       "<g id=\"graph0\" class=\"graph\" transform=\"scale(1 1) rotate(0) translate(4 250.25)\">\n",
       "<polygon fill=\"white\" stroke=\"none\" points=\"-4,4 -4,-250.25 302.36,-250.25 302.36,4 -4,4\"/>\n",
       "<g id=\"clust1\" class=\"cluster\">\n",
       "<title>clusterchannel (1)</title>\n",
       "<path fill=\"none\" stroke=\"black\" d=\"M114.18,-8C114.18,-8 185.18,-8 185.18,-8 191.18,-8 197.18,-14 197.18,-20 197.18,-20 197.18,-121.75 197.18,-121.75 197.18,-127.75 191.18,-133.75 185.18,-133.75 185.18,-133.75 114.18,-133.75 114.18,-133.75 108.18,-133.75 102.18,-127.75 102.18,-121.75 102.18,-121.75 102.18,-20 102.18,-20 102.18,-14 108.18,-8 114.18,-8\"/>\n",
       "<text text-anchor=\"middle\" x=\"149.43\" y=\"-15.95\" font-family=\"Times,serif\" font-size=\"14.00\">channel (1)</text>\n",
       "</g>\n",
       "<!-- var_alpha -->\n",
       "<g id=\"node1\" class=\"node\">\n",
       "<title>var_alpha</title>\n",
       "<ellipse fill=\"none\" stroke=\"black\" cx=\"70.18\" cy=\"-204\" rx=\"70.18\" ry=\"42.25\"/>\n",
       "<text text-anchor=\"middle\" x=\"70.18\" y=\"-216.57\" font-family=\"Times,serif\" font-size=\"14.00\">var_alpha</text>\n",
       "<text text-anchor=\"middle\" x=\"70.18\" y=\"-199.32\" font-family=\"Times,serif\" font-size=\"14.00\">~</text>\n",
       "<text text-anchor=\"middle\" x=\"70.18\" y=\"-182.07\" font-family=\"Times,serif\" font-size=\"14.00\">HalfNormal</text>\n",
       "</g>\n",
       "<!-- var -->\n",
       "<g id=\"node3\" class=\"node\">\n",
       "<title>var</title>\n",
       "<ellipse fill=\"none\" stroke=\"black\" cx=\"149.18\" cy=\"-83.5\" rx=\"34.65\" ry=\"42.25\"/>\n",
       "<text text-anchor=\"middle\" x=\"149.18\" y=\"-96.07\" font-family=\"Times,serif\" font-size=\"14.00\">var</text>\n",
       "<text text-anchor=\"middle\" x=\"149.18\" y=\"-78.82\" font-family=\"Times,serif\" font-size=\"14.00\">~</text>\n",
       "<text text-anchor=\"middle\" x=\"149.18\" y=\"-61.57\" font-family=\"Times,serif\" font-size=\"14.00\">Beta</text>\n",
       "</g>\n",
       "<!-- var_alpha&#45;&gt;var -->\n",
       "<g id=\"edge1\" class=\"edge\">\n",
       "<title>var_alpha&#45;&gt;var</title>\n",
       "<path fill=\"none\" stroke=\"black\" d=\"M95.83,-164.53C104.02,-152.25 113.11,-138.61 121.44,-126.11\"/>\n",
       "<polygon fill=\"black\" stroke=\"black\" points=\"124.15,-128.35 126.79,-118.09 118.33,-124.47 124.15,-128.35\"/>\n",
       "</g>\n",
       "<!-- var_beta -->\n",
       "<g id=\"node2\" class=\"node\">\n",
       "<title>var_beta</title>\n",
       "<ellipse fill=\"none\" stroke=\"black\" cx=\"228.18\" cy=\"-204\" rx=\"70.18\" ry=\"42.25\"/>\n",
       "<text text-anchor=\"middle\" x=\"228.18\" y=\"-216.57\" font-family=\"Times,serif\" font-size=\"14.00\">var_beta</text>\n",
       "<text text-anchor=\"middle\" x=\"228.18\" y=\"-199.32\" font-family=\"Times,serif\" font-size=\"14.00\">~</text>\n",
       "<text text-anchor=\"middle\" x=\"228.18\" y=\"-182.07\" font-family=\"Times,serif\" font-size=\"14.00\">HalfNormal</text>\n",
       "</g>\n",
       "<!-- var_beta&#45;&gt;var -->\n",
       "<g id=\"edge2\" class=\"edge\">\n",
       "<title>var_beta&#45;&gt;var</title>\n",
       "<path fill=\"none\" stroke=\"black\" d=\"M202.53,-164.53C194.35,-152.25 185.25,-138.61 176.92,-126.11\"/>\n",
       "<polygon fill=\"black\" stroke=\"black\" points=\"180.03,-124.47 171.57,-118.09 174.21,-128.35 180.03,-124.47\"/>\n",
       "</g>\n",
       "</g>\n",
       "</svg>\n"
      ],
      "text/plain": [
       "<graphviz.graphs.Digraph at 0x7f7cada96410>"
      ]
     },
     "execution_count": 20,
     "metadata": {},
     "output_type": "execute_result"
    }
   ],
   "source": [
    "zero_to_one_variable = Prior(\n",
    "    \"Beta\",\n",
    "    alpha=Prior(\"HalfNormal\"),\n",
    "    beta=Prior(\"HalfNormal\"),\n",
    "    dims=\"channel\",\n",
    ")\n",
    "zero_to_one_variable.graph()"
   ]
  },
  {
   "cell_type": "markdown",
   "id": "485d6608-228c-491b-93ec-0af713508a25",
   "metadata": {},
   "source": [
    "### Transformations\n",
    "\n",
    "The `transform` variable can be used for any of the distributions to change its domain.\n",
    "\n",
    "These transformations will be taken from `pytensor.tensor` or `pm.math` in that order.\n",
    "\n",
    "Below is a non-centered hierarchical Normal distribution that is put through a sigmoid function in order to change the domain to (0, 1)."
   ]
  },
  {
   "cell_type": "code",
   "execution_count": 21,
   "id": "33529f87-e8e0-471d-8a09-3c7df6b9dcaa",
   "metadata": {},
   "outputs": [
    {
     "data": {
      "image/svg+xml": [
       "<?xml version=\"1.0\" encoding=\"UTF-8\" standalone=\"no\"?>\n",
       "<!DOCTYPE svg PUBLIC \"-//W3C//DTD SVG 1.1//EN\"\n",
       " \"http://www.w3.org/Graphics/SVG/1.1/DTD/svg11.dtd\">\n",
       "<!-- Generated by graphviz version 9.0.0 (20231125.0833)\n",
       " -->\n",
       "<!-- Pages: 1 -->\n",
       "<svg width=\"547pt\" height=\"341pt\"\n",
       " viewBox=\"0.00 0.00 546.62 341.25\" xmlns=\"http://www.w3.org/2000/svg\" xmlns:xlink=\"http://www.w3.org/1999/xlink\">\n",
       "<g id=\"graph0\" class=\"graph\" transform=\"scale(1 1) rotate(0) translate(4 337.25)\">\n",
       "<polygon fill=\"white\" stroke=\"none\" points=\"-4,4 -4,-337.25 542.62,-337.25 542.62,4 -4,4\"/>\n",
       "<g id=\"clust1\" class=\"cluster\">\n",
       "<title>clusterchannel (1)</title>\n",
       "<path fill=\"none\" stroke=\"black\" d=\"M20,-8C20,-8 180,-8 180,-8 186,-8 192,-14 192,-20 192,-20 192,-313.25 192,-313.25 192,-319.25 186,-325.25 180,-325.25 180,-325.25 20,-325.25 20,-325.25 14,-325.25 8,-319.25 8,-313.25 8,-313.25 8,-20 8,-20 8,-14 14,-8 20,-8\"/>\n",
       "<text text-anchor=\"middle\" x=\"144.25\" y=\"-15.95\" font-family=\"Times,serif\" font-size=\"14.00\">channel (1)</text>\n",
       "</g>\n",
       "<!-- var_raw -->\n",
       "<g id=\"node1\" class=\"node\">\n",
       "<title>var_raw</title>\n",
       "<polygon fill=\"none\" stroke=\"black\" points=\"183.75,-196.75 70.25,-196.75 70.25,-137 183.75,-137 183.75,-196.75\"/>\n",
       "<text text-anchor=\"middle\" x=\"127\" y=\"-179.45\" font-family=\"Times,serif\" font-size=\"14.00\">var_raw</text>\n",
       "<text text-anchor=\"middle\" x=\"127\" y=\"-162.2\" font-family=\"Times,serif\" font-size=\"14.00\">~</text>\n",
       "<text text-anchor=\"middle\" x=\"127\" y=\"-144.95\" font-family=\"Times,serif\" font-size=\"14.00\">Deterministic</text>\n",
       "</g>\n",
       "<!-- var -->\n",
       "<g id=\"node3\" class=\"node\">\n",
       "<title>var</title>\n",
       "<polygon fill=\"none\" stroke=\"black\" points=\"183.75,-101 70.25,-101 70.25,-41.25 183.75,-41.25 183.75,-101\"/>\n",
       "<text text-anchor=\"middle\" x=\"127\" y=\"-83.7\" font-family=\"Times,serif\" font-size=\"14.00\">var</text>\n",
       "<text text-anchor=\"middle\" x=\"127\" y=\"-66.45\" font-family=\"Times,serif\" font-size=\"14.00\">~</text>\n",
       "<text text-anchor=\"middle\" x=\"127\" y=\"-49.2\" font-family=\"Times,serif\" font-size=\"14.00\">Deterministic</text>\n",
       "</g>\n",
       "<!-- var_raw&#45;&gt;var -->\n",
       "<g id=\"edge4\" class=\"edge\">\n",
       "<title>var_raw&#45;&gt;var</title>\n",
       "<path fill=\"none\" stroke=\"black\" d=\"M127,-136.73C127,-129.05 127,-120.64 127,-112.49\"/>\n",
       "<polygon fill=\"black\" stroke=\"black\" points=\"130.5,-112.77 127,-102.77 123.5,-112.77 130.5,-112.77\"/>\n",
       "</g>\n",
       "<!-- var_raw_offset -->\n",
       "<g id=\"node2\" class=\"node\">\n",
       "<title>var_raw_offset</title>\n",
       "<ellipse fill=\"none\" stroke=\"black\" cx=\"100\" cy=\"-275\" rx=\"84.5\" ry=\"42.25\"/>\n",
       "<text text-anchor=\"middle\" x=\"100\" y=\"-287.57\" font-family=\"Times,serif\" font-size=\"14.00\">var_raw_offset</text>\n",
       "<text text-anchor=\"middle\" x=\"100\" y=\"-270.32\" font-family=\"Times,serif\" font-size=\"14.00\">~</text>\n",
       "<text text-anchor=\"middle\" x=\"100\" y=\"-253.07\" font-family=\"Times,serif\" font-size=\"14.00\">Normal</text>\n",
       "</g>\n",
       "<!-- var_raw_offset&#45;&gt;var_raw -->\n",
       "<g id=\"edge3\" class=\"edge\">\n",
       "<title>var_raw_offset&#45;&gt;var_raw</title>\n",
       "<path fill=\"none\" stroke=\"black\" d=\"M110.52,-232.67C112.57,-224.6 114.72,-216.14 116.76,-208.11\"/>\n",
       "<polygon fill=\"black\" stroke=\"black\" points=\"120.11,-209.14 119.19,-198.58 113.33,-207.41 120.11,-209.14\"/>\n",
       "</g>\n",
       "<!-- var_raw_mu -->\n",
       "<g id=\"node4\" class=\"node\">\n",
       "<title>var_raw_mu</title>\n",
       "<ellipse fill=\"none\" stroke=\"black\" cx=\"275\" cy=\"-275\" rx=\"72.3\" ry=\"42.25\"/>\n",
       "<text text-anchor=\"middle\" x=\"275\" y=\"-287.57\" font-family=\"Times,serif\" font-size=\"14.00\">var_raw_mu</text>\n",
       "<text text-anchor=\"middle\" x=\"275\" y=\"-270.32\" font-family=\"Times,serif\" font-size=\"14.00\">~</text>\n",
       "<text text-anchor=\"middle\" x=\"275\" y=\"-253.07\" font-family=\"Times,serif\" font-size=\"14.00\">Normal</text>\n",
       "</g>\n",
       "<!-- var_raw_mu&#45;&gt;var_raw -->\n",
       "<g id=\"edge1\" class=\"edge\">\n",
       "<title>var_raw_mu&#45;&gt;var_raw</title>\n",
       "<path fill=\"none\" stroke=\"black\" d=\"M229.79,-241.58C213.15,-229.65 194.21,-216.07 177.16,-203.84\"/>\n",
       "<polygon fill=\"black\" stroke=\"black\" points=\"179.3,-201.07 169.14,-198.09 175.22,-206.76 179.3,-201.07\"/>\n",
       "</g>\n",
       "<!-- var_raw_sigma -->\n",
       "<g id=\"node5\" class=\"node\">\n",
       "<title>var_raw_sigma</title>\n",
       "<ellipse fill=\"none\" stroke=\"black\" cx=\"452\" cy=\"-275\" rx=\"86.62\" ry=\"42.25\"/>\n",
       "<text text-anchor=\"middle\" x=\"452\" y=\"-287.57\" font-family=\"Times,serif\" font-size=\"14.00\">var_raw_sigma</text>\n",
       "<text text-anchor=\"middle\" x=\"452\" y=\"-270.32\" font-family=\"Times,serif\" font-size=\"14.00\">~</text>\n",
       "<text text-anchor=\"middle\" x=\"452\" y=\"-253.07\" font-family=\"Times,serif\" font-size=\"14.00\">HalfNormal</text>\n",
       "</g>\n",
       "<!-- var_raw_sigma&#45;&gt;var_raw -->\n",
       "<g id=\"edge2\" class=\"edge\">\n",
       "<title>var_raw_sigma&#45;&gt;var_raw</title>\n",
       "<path fill=\"none\" stroke=\"black\" d=\"M388.95,-245.53C378.05,-241.01 366.77,-236.57 356,-232.75 302.75,-213.86 241.06,-196.64 195.13,-184.7\"/>\n",
       "<polygon fill=\"black\" stroke=\"black\" points=\"196.13,-181.34 185.57,-182.23 194.38,-188.12 196.13,-181.34\"/>\n",
       "</g>\n",
       "</g>\n",
       "</svg>\n"
      ],
      "text/plain": [
       "<graphviz.graphs.Digraph at 0x7f7cada01fc0>"
      ]
     },
     "execution_count": 21,
     "metadata": {},
     "output_type": "execute_result"
    }
   ],
   "source": [
    "hierarchical_zero_to_one_distribution = Prior(\n",
    "    \"Normal\",\n",
    "    mu=Prior(\"Normal\"),\n",
    "    sigma=Prior(\"HalfNormal\"),\n",
    "    dims=\"channel\",\n",
    "    centered=False,\n",
    "    transform=\"sigmoid\",\n",
    ")\n",
    "hierarchical_zero_to_one_distribution.graph()"
   ]
  },
  {
   "cell_type": "markdown",
   "id": "ee2270a5-2c73-4464-b924-59d01133dc5d",
   "metadata": {},
   "source": [
    "### Prior Visualization\n",
    "\n",
    "For scalar distributions, make use of the `preliz` attribute of the model in order to visualize. \n",
    "\n",
    "```{tip}\n",
    "Defaults for the parameters will have to be provided or there will be an error.\n",
    "```"
   ]
  },
  {
   "cell_type": "code",
   "execution_count": 22,
   "id": "68ac9293-3d2c-4797-81ed-a50171c7f384",
   "metadata": {},
   "outputs": [
    {
     "data": {
      "image/png": "[encoded data removed]",
      "text/plain": [
       "<Figure size 1200x700 with 1 Axes>"
      ]
     },
     "metadata": {},
     "output_type": "display_data"
    }
   ],
   "source": [
    "beta_distribution = Prior(\"Beta\", alpha=1, beta=4)\n",
    "\n",
    "beta_distribution.preliz.plot_pdf();"
   ]
  },
  {
   "cell_type": "markdown",
   "id": "d1a6d281-9646-48e1-ab09-6e9de21e9c11",
   "metadata": {},
   "source": [
    "```{tip}\n",
    "Using the `constrain` method can help hone in on a prior. It is a wrapper around the ever-so-helpful [`find_constrained_prior` function](https://www.pymc.io/projects/docs/en/stable/api/generated/pymc.find_constrained_prior.html). The `init_guess` is taken to be the parameters of the instance distribution.\n",
    "```"
   ]
  },
  {
   "cell_type": "code",
   "execution_count": 23,
   "id": "6a02cdb4-9fe9-4eb5-97a3-91fd7abf1835",
   "metadata": {},
   "outputs": [
    {
     "data": {
      "text/plain": [
       "Prior(\"Normal\", mu=5.000013661179942, sigma=0.5102135210258302)"
      ]
     },
     "execution_count": 23,
     "metadata": {},
     "output_type": "execute_result"
    }
   ],
   "source": [
    "constrained_distribution = Prior(\"Normal\", mu=5, sigma=1).constrain(lower=4, upper=6)\n",
    "constrained_distribution"
   ]
  },
  {
   "cell_type": "markdown",
   "id": "007646bd-61f4-4a2d-8400-14c36e08f289",
   "metadata": {},
   "source": [
    "For more complicated distributions, consider using the `sample_prior` method in order to access the prior.\n",
    "\n",
    "```{note}\n",
    "Any coordinates will have to be passed like in `pm.Model`.\n",
    "```"
   ]
  },
  {
   "cell_type": "code",
   "execution_count": 24,
   "id": "8c2b4ea7-c33d-4d86-a7f8-18434bd0a298",
   "metadata": {
    "scrolled": true
   },
   "outputs": [
    {
     "name": "stderr",
     "output_type": "stream",
     "text": [
      "Sampling: [var_raw_mu, var_raw_offset, var_raw_sigma_raw]\n"
     ]
    },
    {
     "data": {
      "text/html": [
       "<div><svg style=\"position: absolute; width: 0; height: 0; overflow: hidden\">\n",
       "<defs>\n",
       "<symbol id=\"icon-database\" viewBox=\"0 0 32 32\">\n",
       "<path d=\"M16 0c-8.837 0-16 2.239-16 5v4c0 2.761 7.163 5 16 5s16-2.239 16-5v-4c0-2.761-7.163-5-16-5z\"></path>\n",
       "<path d=\"M16 17c-8.837 0-16-2.239-16-5v6c0 2.761 7.163 5 16 5s16-2.239 16-5v-6c0 2.761-7.163 5-16 5z\"></path>\n",
       "<path d=\"M16 26c-8.837 0-16-2.239-16-5v6c0 2.761 7.163 5 16 5s16-2.239 16-5v-6c0 2.761-7.163 5-16 5z\"></path>\n",
       "</symbol>\n",
       "<symbol id=\"icon-file-text2\" viewBox=\"0 0 32 32\">\n",
       "<path d=\"M28.681 7.159c-0.694-0.947-1.662-2.053-2.724-3.116s-2.169-2.030-3.116-2.724c-1.612-1.182-2.393-1.319-2.841-1.319h-15.5c-1.378 0-2.5 1.121-2.5 2.5v27c0 1.378 1.122 2.5 2.5 2.5h23c1.378 0 2.5-1.122 2.5-2.5v-19.5c0-0.448-0.137-1.23-1.319-2.841zM24.543 5.457c0.959 0.959 1.712 1.825 2.268 2.543h-4.811v-4.811c0.718 0.556 1.584 1.309 2.543 2.268zM28 29.5c0 0.271-0.229 0.5-0.5 0.5h-23c-0.271 0-0.5-0.229-0.5-0.5v-27c0-0.271 0.229-0.5 0.5-0.5 0 0 15.499-0 15.5 0v7c0 0.552 0.448 1 1 1h7v19.5z\"></path>\n",
       "<path d=\"M23 26h-14c-0.552 0-1-0.448-1-1s0.448-1 1-1h14c0.552 0 1 0.448 1 1s-0.448 1-1 1z\"></path>\n",
       "<path d=\"M23 22h-14c-0.552 0-1-0.448-1-1s0.448-1 1-1h14c0.552 0 1 0.448 1 1s-0.448 1-1 1z\"></path>\n",
       "<path d=\"M23 18h-14c-0.552 0-1-0.448-1-1s0.448-1 1-1h14c0.552 0 1 0.448 1 1s-0.448 1-1 1z\"></path>\n",
       "</symbol>\n",
       "</defs>\n",
       "</svg>\n",
       "<style>/* CSS stylesheet for displaying xarray objects in jupyterlab.\n",
       " *\n",
       " */\n",
       "\n",
       ":root {\n",
       "  --xr-font-color0: var(--jp-content-font-color0, rgba(0, 0, 0, 1));\n",
       "  --xr-font-color2: var(--jp-content-font-color2, rgba(0, 0, 0, 0.54));\n",
       "  --xr-font-color3: var(--jp-content-font-color3, rgba(0, 0, 0, 0.38));\n",
       "  --xr-border-color: var(--jp-border-color2, #e0e0e0);\n",
       "  --xr-disabled-color: var(--jp-layout-color3, #bdbdbd);\n",
       "  --xr-background-color: var(--jp-layout-color0, white);\n",
       "  --xr-background-color-row-even: var(--jp-layout-color1, white);\n",
       "  --xr-background-color-row-odd: var(--jp-layout-color2, #eeeeee);\n",
       "}\n",
       "\n",
       "html[theme=dark],\n",
       "body[data-theme=dark],\n",
       "body.vscode-dark {\n",
       "  --xr-font-color0: rgba(255, 255, 255, 1);\n",
       "  --xr-font-color2: rgba(255, 255, 255, 0.54);\n",
       "  --xr-font-color3: rgba(255, 255, 255, 0.38);\n",
       "  --xr-border-color: #1F1F1F;\n",
       "  --xr-disabled-color: #515151;\n",
       "  --xr-background-color: #111111;\n",
       "  --xr-background-color-row-even: #111111;\n",
       "  --xr-background-color-row-odd: #313131;\n",
       "}\n",
       "\n",
       ".xr-wrap {\n",
       "  display: block !important;\n",
       "  min-width: 300px;\n",
       "  max-width: 700px;\n",
       "}\n",
       "\n",
       ".xr-text-repr-fallback {\n",
       "  /* fallback to plain text repr when CSS is not injected (untrusted notebook) */\n",
       "  display: none;\n",
       "}\n",
       "\n",
       ".xr-header {\n",
       "  padding-top: 6px;\n",
       "  padding-bottom: 6px;\n",
       "  margin-bottom: 4px;\n",
       "  border-bottom: solid 1px var(--xr-border-color);\n",
       "}\n",
       "\n",
       ".xr-header > div,\n",
       ".xr-header > ul {\n",
       "  display: inline;\n",
       "  margin-top: 0;\n",
       "  margin-bottom: 0;\n",
       "}\n",
       "\n",
       ".xr-obj-type,\n",
       ".xr-array-name {\n",
       "  margin-left: 2px;\n",
       "  margin-right: 10px;\n",
       "}\n",
       "\n",
       ".xr-obj-type {\n",
       "  color: var(--xr-font-color2);\n",
       "}\n",
       "\n",
       ".xr-sections {\n",
       "  padding-left: 0 !important;\n",
       "  display: grid;\n",
       "  grid-template-columns: 150px auto auto 1fr 20px 20px;\n",
       "}\n",
       "\n",
       ".xr-section-item {\n",
       "  display: contents;\n",
       "}\n",
       "\n",
       ".xr-section-item input {\n",
       "  display: none;\n",
       "}\n",
       "\n",
       ".xr-section-item input + label {\n",
       "  color: var(--xr-disabled-color);\n",
       "}\n",
       "\n",
       ".xr-section-item input:enabled + label {\n",
       "  cursor: pointer;\n",
       "  color: var(--xr-font-color2);\n",
       "}\n",
       "\n",
       ".xr-section-item input:enabled + label:hover {\n",
       "  color: var(--xr-font-color0);\n",
       "}\n",
       "\n",
       ".xr-section-summary {\n",
       "  grid-column: 1;\n",
       "  color: var(--xr-font-color2);\n",
       "  font-weight: 500;\n",
       "}\n",
       "\n",
       ".xr-section-summary > span {\n",
       "  display: inline-block;\n",
       "  padding-left: 0.5em;\n",
       "}\n",
       "\n",
       ".xr-section-summary-in:disabled + label {\n",
       "  color: var(--xr-font-color2);\n",
       "}\n",
       "\n",
       ".xr-section-summary-in + label:before {\n",
       "  display: inline-block;\n",
       "  content: '►';\n",
       "  font-size: 11px;\n",
       "  width: 15px;\n",
       "  text-align: center;\n",
       "}\n",
       "\n",
       ".xr-section-summary-in:disabled + label:before {\n",
       "  color: var(--xr-disabled-color);\n",
       "}\n",
       "\n",
       ".xr-section-summary-in:checked + label:before {\n",
       "  content: '▼';\n",
       "}\n",
       "\n",
       ".xr-section-summary-in:checked + label > span {\n",
       "  display: none;\n",
       "}\n",
       "\n",
       ".xr-section-summary,\n",
       ".xr-section-inline-details {\n",
       "  padding-top: 4px;\n",
       "  padding-bottom: 4px;\n",
       "}\n",
       "\n",
       ".xr-section-inline-details {\n",
       "  grid-column: 2 / -1;\n",
       "}\n",
       "\n",
       ".xr-section-details {\n",
       "  display: none;\n",
       "  grid-column: 1 / -1;\n",
       "  margin-bottom: 5px;\n",
       "}\n",
       "\n",
       ".xr-section-summary-in:checked ~ .xr-section-details {\n",
       "  display: contents;\n",
       "}\n",
       "\n",
       ".xr-array-wrap {\n",
       "  grid-column: 1 / -1;\n",
       "  display: grid;\n",
       "  grid-template-columns: 20px auto;\n",
       "}\n",
       "\n",
       ".xr-array-wrap > label {\n",
       "  grid-column: 1;\n",
       "  vertical-align: top;\n",
       "}\n",
       "\n",
       ".xr-preview {\n",
       "  color: var(--xr-font-color3);\n",
       "}\n",
       "\n",
       ".xr-array-preview,\n",
       ".xr-array-data {\n",
       "  padding: 0 5px !important;\n",
       "  grid-column: 2;\n",
       "}\n",
       "\n",
       ".xr-array-data,\n",
       ".xr-array-in:checked ~ .xr-array-preview {\n",
       "  display: none;\n",
       "}\n",
       "\n",
       ".xr-array-in:checked ~ .xr-array-data,\n",
       ".xr-array-preview {\n",
       "  display: inline-block;\n",
       "}\n",
       "\n",
       ".xr-dim-list {\n",
       "  display: inline-block !important;\n",
       "  list-style: none;\n",
       "  padding: 0 !important;\n",
       "  margin: 0;\n",
       "}\n",
       "\n",
       ".xr-dim-list li {\n",
       "  display: inline-block;\n",
       "  padding: 0;\n",
       "  margin: 0;\n",
       "}\n",
       "\n",
       ".xr-dim-list:before {\n",
       "  content: '(';\n",
       "}\n",
       "\n",
       ".xr-dim-list:after {\n",
       "  content: ')';\n",
       "}\n",
       "\n",
       ".xr-dim-list li:not(:last-child):after {\n",
       "  content: ',';\n",
       "  padding-right: 5px;\n",
       "}\n",
       "\n",
       ".xr-has-index {\n",
       "  font-weight: bold;\n",
       "}\n",
       "\n",
       ".xr-var-list,\n",
       ".xr-var-item {\n",
       "  display: contents;\n",
       "}\n",
       "\n",
       ".xr-var-item > div,\n",
       ".xr-var-item label,\n",
       ".xr-var-item > .xr-var-name span {\n",
       "  background-color: var(--xr-background-color-row-even);\n",
       "  margin-bottom: 0;\n",
       "}\n",
       "\n",
       ".xr-var-item > .xr-var-name:hover span {\n",
       "  padding-right: 5px;\n",
       "}\n",
       "\n",
       ".xr-var-list > li:nth-child(odd) > div,\n",
       ".xr-var-list > li:nth-child(odd) > label,\n",
       ".xr-var-list > li:nth-child(odd) > .xr-var-name span {\n",
       "  background-color: var(--xr-background-color-row-odd);\n",
       "}\n",
       "\n",
       ".xr-var-name {\n",
       "  grid-column: 1;\n",
       "}\n",
       "\n",
       ".xr-var-dims {\n",
       "  grid-column: 2;\n",
       "}\n",
       "\n",
       ".xr-var-dtype {\n",
       "  grid-column: 3;\n",
       "  text-align: right;\n",
       "  color: var(--xr-font-color2);\n",
       "}\n",
       "\n",
       ".xr-var-preview {\n",
       "  grid-column: 4;\n",
       "}\n",
       "\n",
       ".xr-index-preview {\n",
       "  grid-column: 2 / 5;\n",
       "  color: var(--xr-font-color2);\n",
       "}\n",
       "\n",
       ".xr-var-name,\n",
       ".xr-var-dims,\n",
       ".xr-var-dtype,\n",
       ".xr-preview,\n",
       ".xr-attrs dt {\n",
       "  white-space: nowrap;\n",
       "  overflow: hidden;\n",
       "  text-overflow: ellipsis;\n",
       "  padding-right: 10px;\n",
       "}\n",
       "\n",
       ".xr-var-name:hover,\n",
       ".xr-var-dims:hover,\n",
       ".xr-var-dtype:hover,\n",
       ".xr-attrs dt:hover {\n",
       "  overflow: visible;\n",
       "  width: auto;\n",
       "  z-index: 1;\n",
       "}\n",
       "\n",
       ".xr-var-attrs,\n",
       ".xr-var-data,\n",
       ".xr-index-data {\n",
       "  display: none;\n",
       "  background-color: var(--xr-background-color) !important;\n",
       "  padding-bottom: 5px !important;\n",
       "}\n",
       "\n",
       ".xr-var-attrs-in:checked ~ .xr-var-attrs,\n",
       ".xr-var-data-in:checked ~ .xr-var-data,\n",
       ".xr-index-data-in:checked ~ .xr-index-data {\n",
       "  display: block;\n",
       "}\n",
       "\n",
       ".xr-var-data > table {\n",
       "  float: right;\n",
       "}\n",
       "\n",
       ".xr-var-name span,\n",
       ".xr-var-data,\n",
       ".xr-index-name div,\n",
       ".xr-index-data,\n",
       ".xr-attrs {\n",
       "  padding-left: 25px !important;\n",
       "}\n",
       "\n",
       ".xr-attrs,\n",
       ".xr-var-attrs,\n",
       ".xr-var-data,\n",
       ".xr-index-data {\n",
       "  grid-column: 1 / -1;\n",
       "}\n",
       "\n",
       "dl.xr-attrs {\n",
       "  padding: 0;\n",
       "  margin: 0;\n",
       "  display: grid;\n",
       "  grid-template-columns: 125px auto;\n",
       "}\n",
       "\n",
       ".xr-attrs dt,\n",
       ".xr-attrs dd {\n",
       "  padding: 0;\n",
       "  margin: 0;\n",
       "  float: left;\n",
       "  padding-right: 10px;\n",
       "  width: auto;\n",
       "}\n",
       "\n",
       ".xr-attrs dt {\n",
       "  font-weight: normal;\n",
       "  grid-column: 1;\n",
       "}\n",
       "\n",
       ".xr-attrs dt:hover span {\n",
       "  display: inline-block;\n",
       "  background: var(--xr-background-color);\n",
       "  padding-right: 10px;\n",
       "}\n",
       "\n",
       ".xr-attrs dd {\n",
       "  grid-column: 2;\n",
       "  white-space: pre-wrap;\n",
       "  word-break: break-all;\n",
       "}\n",
       "\n",
       ".xr-icon-database,\n",
       ".xr-icon-file-text2,\n",
       ".xr-no-icon {\n",
       "  display: inline-block;\n",
       "  vertical-align: middle;\n",
       "  width: 1em;\n",
       "  height: 1.5em !important;\n",
       "  stroke-width: 0;\n",
       "  stroke: currentColor;\n",
       "  fill: currentColor;\n",
       "}\n",
       "</style><pre class='xr-text-repr-fallback'>&lt;xarray.Dataset&gt; Size: 40kB\n",
       "Dimensions:            (chain: 1, draw: 500, channel: 2)\n",
       "Coordinates:\n",
       "  * chain              (chain) int64 8B 0\n",
       "  * draw               (draw) int64 4kB 0 1 2 3 4 5 ... 494 495 496 497 498 499\n",
       "  * channel            (channel) &lt;U2 16B &#x27;C1&#x27; &#x27;C2&#x27;\n",
       "Data variables:\n",
       "    var_raw            (chain, draw, channel) float64 8kB 0.2498 ... -0.2981\n",
       "    var_raw_sigma      (chain, draw) float64 4kB 0.4599 0.4158 ... 0.3982 0.3718\n",
       "    var_raw_offset     (chain, draw, channel) float64 8kB 0.1251 ... -0.3372\n",
       "    var_raw_mu         (chain, draw) float64 4kB 0.1922 -0.08039 ... -0.1727\n",
       "    var_raw_sigma_raw  (chain, draw) float64 4kB -0.7768 -0.8776 ... -0.9893\n",
       "    var                (chain, draw, channel) float64 8kB 0.5621 ... 0.426\n",
       "Attributes:\n",
       "    created_at:                 2024-06-21T09:38:56.939441\n",
       "    arviz_version:              0.17.0\n",
       "    inference_library:          pymc\n",
       "    inference_library_version:  5.14.0</pre><div class='xr-wrap' style='display:none'><div class='xr-header'><div class='xr-obj-type'>xarray.Dataset</div></div><ul class='xr-sections'><li class='xr-section-item'><input id='section-5e4df87f-0bad-49a0-bc21-5e9689188e64' class='xr-section-summary-in' type='checkbox' disabled ><label for='section-5e4df87f-0bad-49a0-bc21-5e9689188e64' class='xr-section-summary'  title='Expand/collapse section'>Dimensions:</label><div class='xr-section-inline-details'><ul class='xr-dim-list'><li><span class='xr-has-index'>chain</span>: 1</li><li><span class='xr-has-index'>draw</span>: 500</li><li><span class='xr-has-index'>channel</span>: 2</li></ul></div><div class='xr-section-details'></div></li><li class='xr-section-item'><input id='section-7821962e-2ac2-47ce-9d89-edc7f21d9842' class='xr-section-summary-in' type='checkbox'  checked><label for='section-7821962e-2ac2-47ce-9d89-edc7f21d9842' class='xr-section-summary' >Coordinates: <span>(3)</span></label><div class='xr-section-inline-details'></div><div class='xr-section-details'><ul class='xr-var-list'><li class='xr-var-item'><div class='xr-var-name'><span class='xr-has-index'>chain</span></div><div class='xr-var-dims'>(chain)</div><div class='xr-var-dtype'>int64</div><div class='xr-var-preview xr-preview'>0</div><input id='attrs-f0b2bd87-b937-4285-93e2-a4e93c198d29' class='xr-var-attrs-in' type='checkbox' disabled><label for='attrs-f0b2bd87-b937-4285-93e2-a4e93c198d29' title='Show/Hide attributes'><svg class='icon xr-icon-file-text2'><use xlink:href='#icon-file-text2'></use></svg></label><input id='data-96c4e36f-3c87-4d3e-9d2a-d8e96162399b' class='xr-var-data-in' type='checkbox'><label for='data-96c4e36f-3c87-4d3e-9d2a-d8e96162399b' title='Show/Hide data repr'><svg class='icon xr-icon-database'><use xlink:href='#icon-database'></use></svg></label><div class='xr-var-attrs'><dl class='xr-attrs'></dl></div><div class='xr-var-data'><pre>array([0])</pre></div></li><li class='xr-var-item'><div class='xr-var-name'><span class='xr-has-index'>draw</span></div><div class='xr-var-dims'>(draw)</div><div class='xr-var-dtype'>int64</div><div class='xr-var-preview xr-preview'>0 1 2 3 4 5 ... 495 496 497 498 499</div><input id='attrs-02b250b1-31ec-4008-8fff-a499d2c32b6d' class='xr-var-attrs-in' type='checkbox' disabled><label for='attrs-02b250b1-31ec-4008-8fff-a499d2c32b6d' title='Show/Hide attributes'><svg class='icon xr-icon-file-text2'><use xlink:href='#icon-file-text2'></use></svg></label><input id='data-1a08bd5e-1f84-4df4-bf0d-7ea4a0d53679' class='xr-var-data-in' type='checkbox'><label for='data-1a08bd5e-1f84-4df4-bf0d-7ea4a0d53679' title='Show/Hide data repr'><svg class='icon xr-icon-database'><use xlink:href='#icon-database'></use></svg></label><div class='xr-var-attrs'><dl class='xr-attrs'></dl></div><div class='xr-var-data'><pre>array([  0,   1,   2, ..., 497, 498, 499])</pre></div></li><li class='xr-var-item'><div class='xr-var-name'><span class='xr-has-index'>channel</span></div><div class='xr-var-dims'>(channel)</div><div class='xr-var-dtype'>&lt;U2</div><div class='xr-var-preview xr-preview'>&#x27;C1&#x27; &#x27;C2&#x27;</div><input id='attrs-5e07cda5-a6fc-4bfb-a398-7b6b86dc522f' class='xr-var-attrs-in' type='checkbox' disabled><label for='attrs-5e07cda5-a6fc-4bfb-a398-7b6b86dc522f' title='Show/Hide attributes'><svg class='icon xr-icon-file-text2'><use xlink:href='#icon-file-text2'></use></svg></label><input id='data-e9b55214-ee89-420f-807d-a9bf030a62cb' class='xr-var-data-in' type='checkbox'><label for='data-e9b55214-ee89-420f-807d-a9bf030a62cb' title='Show/Hide data repr'><svg class='icon xr-icon-database'><use xlink:href='#icon-database'></use></svg></label><div class='xr-var-attrs'><dl class='xr-attrs'></dl></div><div class='xr-var-data'><pre>array([&#x27;C1&#x27;, &#x27;C2&#x27;], dtype=&#x27;&lt;U2&#x27;)</pre></div></li></ul></div></li><li class='xr-section-item'><input id='section-3a458235-16f6-46f1-8f7c-187c761d01aa' class='xr-section-summary-in' type='checkbox'  checked><label for='section-3a458235-16f6-46f1-8f7c-187c761d01aa' class='xr-section-summary' >Data variables: <span>(6)</span></label><div class='xr-section-inline-details'></div><div class='xr-section-details'><ul class='xr-var-list'><li class='xr-var-item'><div class='xr-var-name'><span>var_raw</span></div><div class='xr-var-dims'>(chain, draw, channel)</div><div class='xr-var-dtype'>float64</div><div class='xr-var-preview xr-preview'>0.2498 0.5656 ... -0.5048 -0.2981</div><input id='attrs-bbd4713e-b58e-4267-9612-f615e4f7fe73' class='xr-var-attrs-in' type='checkbox' disabled><label for='attrs-bbd4713e-b58e-4267-9612-f615e4f7fe73' title='Show/Hide attributes'><svg class='icon xr-icon-file-text2'><use xlink:href='#icon-file-text2'></use></svg></label><input id='data-e3f6e668-23d8-4a13-9c84-cb930059de9f' class='xr-var-data-in' type='checkbox'><label for='data-e3f6e668-23d8-4a13-9c84-cb930059de9f' title='Show/Hide data repr'><svg class='icon xr-icon-database'><use xlink:href='#icon-database'></use></svg></label><div class='xr-var-attrs'><dl class='xr-attrs'></dl></div><div class='xr-var-data'><pre>array([[[ 2.49786801e-01,  5.65614831e-01],\n",
       "        [-2.62415013e-01,  1.25552042e-01],\n",
       "        [-2.21241225e+00, -1.37911432e+00],\n",
       "        [ 1.48749429e+00,  1.00489869e+00],\n",
       "        [ 8.77655812e-01,  8.30351998e-01],\n",
       "        [ 6.03848927e-01,  1.12657299e+00],\n",
       "        [ 1.04072495e+00,  1.28185840e+00],\n",
       "        [-8.08969407e-01, -7.14701134e-01],\n",
       "        [ 1.46412584e+00,  5.31744058e-01],\n",
       "        [-1.11807659e-01, -5.71256337e-01],\n",
       "        [-5.91451944e-01,  9.81147826e-01],\n",
       "        [-1.58655848e+00, -1.76941875e+00],\n",
       "        [-4.90858001e-02,  3.06572238e-02],\n",
       "        [ 7.83274892e-01,  8.31517196e-01],\n",
       "        [-1.65336058e+00, -8.78889949e-02],\n",
       "        [-9.81456016e-01, -1.85364061e+00],\n",
       "        [-2.14206798e-01,  3.98342183e-01],\n",
       "        [ 1.68551369e-01,  6.19694943e-01],\n",
       "        [-1.69331613e+00, -1.33357311e+00],\n",
       "        [ 1.27770591e+00,  3.53415185e-01],\n",
       "...\n",
       "        [ 1.28577208e+00,  2.13082030e+00],\n",
       "        [-6.69454939e-01,  6.10754138e-01],\n",
       "        [ 1.66546682e+00,  1.44017204e+00],\n",
       "        [ 7.76420187e-02, -1.70112545e-01],\n",
       "        [-8.70637385e-01, -1.03864836e+00],\n",
       "        [ 1.99042277e+00,  2.45620451e+00],\n",
       "        [ 1.42883711e+00,  1.96941304e+00],\n",
       "        [ 1.01941959e+00,  8.47887292e-01],\n",
       "        [ 1.68513580e+00,  1.54463100e+00],\n",
       "        [-6.10568872e-01, -6.05095869e-01],\n",
       "        [-3.45879249e-02,  1.28022505e-01],\n",
       "        [-4.16277817e-01, -8.90865308e-01],\n",
       "        [ 1.36247914e+00,  4.93370878e-02],\n",
       "        [-3.85406204e-01, -3.60278366e-01],\n",
       "        [-7.29900990e-01, -1.03326613e+00],\n",
       "        [ 1.26977138e+00,  1.64854898e+00],\n",
       "        [-1.33101410e-01,  3.34917896e-01],\n",
       "        [ 7.04646668e-01,  1.30779134e+00],\n",
       "        [ 3.99613668e-01, -2.10243971e-03],\n",
       "        [-5.04826094e-01, -2.98072111e-01]]])</pre></div></li><li class='xr-var-item'><div class='xr-var-name'><span>var_raw_sigma</span></div><div class='xr-var-dims'>(chain, draw)</div><div class='xr-var-dtype'>float64</div><div class='xr-var-preview xr-preview'>0.4599 0.4158 ... 0.3982 0.3718</div><input id='attrs-9086c0ca-5cc9-4ade-b101-f0cee76cfe84' class='xr-var-attrs-in' type='checkbox' disabled><label for='attrs-9086c0ca-5cc9-4ade-b101-f0cee76cfe84' title='Show/Hide attributes'><svg class='icon xr-icon-file-text2'><use xlink:href='#icon-file-text2'></use></svg></label><input id='data-18e4a409-d0ef-447c-9079-b17091e60a41' class='xr-var-data-in' type='checkbox'><label for='data-18e4a409-d0ef-447c-9079-b17091e60a41' title='Show/Hide data repr'><svg class='icon xr-icon-database'><use xlink:href='#icon-database'></use></svg></label><div class='xr-var-attrs'><dl class='xr-attrs'></dl></div><div class='xr-var-data'><pre>array([[0.4598535 , 0.41576946, 0.4664136 , 0.38861412, 0.37996844,\n",
       "        0.37470931, 0.26044453, 0.37168562, 0.38282427, 0.46544474,\n",
       "        0.47396118, 0.34915766, 0.43317193, 0.33544813, 0.54076557,\n",
       "        0.44275895, 0.26053032, 0.32693086, 0.43186642, 0.38639956,\n",
       "        0.42469262, 0.31128916, 0.54591479, 0.31325147, 0.44624339,\n",
       "        0.43290617, 0.3283746 , 0.35064998, 0.33943193, 0.44831502,\n",
       "        0.42707951, 0.34335409, 0.38502591, 0.33502987, 0.39347507,\n",
       "        0.28206029, 0.33724275, 0.30025896, 0.39602949, 0.29567702,\n",
       "        0.39926709, 0.45271213, 0.36516514, 0.53613057, 0.32740565,\n",
       "        0.46973417, 0.38839726, 0.43965442, 0.3309385 , 0.33832743,\n",
       "        0.22784429, 0.40644059, 0.46695719, 0.36882794, 0.28610203,\n",
       "        0.4536735 , 0.36967364, 0.46029029, 0.37251409, 0.47363723,\n",
       "        0.36593991, 0.45551215, 0.33427597, 0.32893564, 0.55450568,\n",
       "        0.35821709, 0.44588134, 0.35285321, 0.32735978, 0.33246362,\n",
       "        0.3488517 , 0.32190969, 0.42853694, 0.41324677, 0.38625229,\n",
       "        0.38120664, 0.29287877, 0.36799812, 0.29262041, 0.34510418,\n",
       "        0.43755638, 0.29406028, 0.31583842, 0.28278075, 0.29638273,\n",
       "        0.39930802, 0.42332624, 0.35653188, 0.42474143, 0.40122951,\n",
       "        0.32882163, 0.43360289, 0.25979146, 0.38506085, 0.32546143,\n",
       "        0.38874887, 0.41497751, 0.36145997, 0.38865057, 0.38814131,\n",
       "...\n",
       "        0.35788654, 0.35319407, 0.39625416, 0.39078482, 0.34168983,\n",
       "        0.34039027, 0.33784599, 0.38881152, 0.35630127, 0.32542687,\n",
       "        0.34223645, 0.39210817, 0.37158971, 0.42254666, 0.32305279,\n",
       "        0.39003831, 0.32372434, 0.34095429, 0.37507947, 0.29620049,\n",
       "        0.31787676, 0.39016367, 0.31008704, 0.39031106, 0.37620404,\n",
       "        0.36562352, 0.42989866, 0.35909248, 0.35665105, 0.31486803,\n",
       "        0.44477322, 0.3684405 , 0.39841102, 0.36061476, 0.45814625,\n",
       "        0.43150582, 0.38011374, 0.35405968, 0.42566772, 0.58410108,\n",
       "        0.44295132, 0.35968936, 0.40247627, 0.37289037, 0.29407207,\n",
       "        0.35115074, 0.44858508, 0.44048442, 0.35500449, 0.39346955,\n",
       "        0.5220065 , 0.36253974, 0.44723546, 0.36615736, 0.28047277,\n",
       "        0.35692656, 0.34907203, 0.3794415 , 0.37052428, 0.34350286,\n",
       "        0.32005284, 0.28349703, 0.39611872, 0.35674919, 0.40867545,\n",
       "        0.33367199, 0.30365747, 0.46214244, 0.38413359, 0.37638413,\n",
       "        0.31713267, 0.30004547, 0.43149244, 0.32923758, 0.33985609,\n",
       "        0.31822159, 0.4943555 , 0.39987825, 0.34164586, 0.41964492,\n",
       "        0.39397486, 0.49709218, 0.31966708, 0.49628904, 0.4878359 ,\n",
       "        0.32374216, 0.46217616, 0.4152667 , 0.33028766, 0.32630303,\n",
       "        0.39430673, 0.34988196, 0.37324086, 0.47514902, 0.41233699,\n",
       "        0.32669474, 0.3505131 , 0.51755125, 0.39823184, 0.37184983]])</pre></div></li><li class='xr-var-item'><div class='xr-var-name'><span>var_raw_offset</span></div><div class='xr-var-dims'>(chain, draw, channel)</div><div class='xr-var-dtype'>float64</div><div class='xr-var-preview xr-preview'>0.1251 0.8119 ... -0.8932 -0.3372</div><input id='attrs-02c771c3-5d89-46e8-b135-f7db2056ce75' class='xr-var-attrs-in' type='checkbox' disabled><label for='attrs-02c771c3-5d89-46e8-b135-f7db2056ce75' title='Show/Hide attributes'><svg class='icon xr-icon-file-text2'><use xlink:href='#icon-file-text2'></use></svg></label><input id='data-99ad66ec-3c90-481b-a1c2-330cf1fd800f' class='xr-var-data-in' type='checkbox'><label for='data-99ad66ec-3c90-481b-a1c2-330cf1fd800f' title='Show/Hide data repr'><svg class='icon xr-icon-database'><use xlink:href='#icon-database'></use></svg></label><div class='xr-var-attrs'><dl class='xr-attrs'></dl></div><div class='xr-var-data'><pre>array([[[ 1.25142236e-01,  8.11943643e-01],\n",
       "        [-4.37798475e-01,  4.95331769e-01],\n",
       "        [-4.16103194e-01,  1.37050409e+00],\n",
       "        [ 3.70604749e-02, -1.20477702e+00],\n",
       "        [ 5.58717263e-01,  4.34223200e-01],\n",
       "        [-1.21800773e+00,  1.77004461e-01],\n",
       "        [-8.47234586e-01,  7.86188045e-02],\n",
       "        [-2.90339078e-01, -3.67154008e-02],\n",
       "        [-6.35041479e-01, -3.07057616e+00],\n",
       "        [ 9.65616800e-01, -2.15007694e-02],\n",
       "        [-1.81935947e+00,  1.49863330e+00],\n",
       "        [ 5.27757096e-01,  4.03875992e-03],\n",
       "        [-2.66098256e-01, -8.20073241e-02],\n",
       "        [-1.75131972e-01, -3.13174747e-02],\n",
       "        [-1.46054017e+00,  1.43437709e+00],\n",
       "        [ 8.41784878e-02, -1.88570739e+00],\n",
       "        [-1.35016332e+00,  1.00099868e+00],\n",
       "        [ 8.20523340e-01,  2.20045905e+00],\n",
       "        [-5.49763495e-01,  2.83232550e-01],\n",
       "        [ 1.20120288e+00, -1.19085659e+00],\n",
       "...\n",
       "        [-1.28632459e+00,  8.58604688e-01],\n",
       "        [-1.47674119e+00,  1.09865455e+00],\n",
       "        [-1.99047628e-01, -9.03827028e-01],\n",
       "        [ 5.10869119e-01,  1.16548617e-02],\n",
       "        [-3.96496178e-01, -7.40896777e-01],\n",
       "        [-4.11331721e-01,  1.02741120e+00],\n",
       "        [-1.68377128e-01,  1.00125466e+00],\n",
       "        [-1.70672205e-03, -4.14772102e-01],\n",
       "        [ 7.85214466e-01,  3.59813138e-01],\n",
       "        [ 1.00065630e+00,  1.01742906e+00],\n",
       "        [ 2.10526384e-01,  6.22922164e-01],\n",
       "        [-5.17083545e-01, -1.87350528e+00],\n",
       "        [ 2.09867604e+00, -1.41954021e+00],\n",
       "        [ 1.75786776e-02,  7.04627972e-02],\n",
       "        [-3.11087457e-02, -7.66830131e-01],\n",
       "        [ 6.02832383e-01,  1.76225600e+00],\n",
       "        [-1.06551706e+00,  2.69723489e-01],\n",
       "        [-8.66337371e-01,  2.99044175e-01],\n",
       "        [ 5.59187894e-03, -1.00315747e+00],\n",
       "        [-8.93194137e-01, -3.37179401e-01]]])</pre></div></li><li class='xr-var-item'><div class='xr-var-name'><span>var_raw_mu</span></div><div class='xr-var-dims'>(chain, draw)</div><div class='xr-var-dtype'>float64</div><div class='xr-var-preview xr-preview'>0.1922 -0.08039 ... 0.3974 -0.1727</div><input id='attrs-411b0d1e-7e8a-481a-9e25-2c6371c2dcc8' class='xr-var-attrs-in' type='checkbox' disabled><label for='attrs-411b0d1e-7e8a-481a-9e25-2c6371c2dcc8' title='Show/Hide attributes'><svg class='icon xr-icon-file-text2'><use xlink:href='#icon-file-text2'></use></svg></label><input id='data-2f276445-4475-42e0-a18e-1c9e0e1e45db' class='xr-var-data-in' type='checkbox'><label for='data-2f276445-4475-42e0-a18e-1c9e0e1e45db' title='Show/Hide data repr'><svg class='icon xr-icon-database'><use xlink:href='#icon-database'></use></svg></label><div class='xr-var-attrs'><dl class='xr-attrs'></dl></div><div class='xr-var-data'><pre>array([[ 0.19223971, -0.08039178, -2.01833606,  1.47309206,  0.66536089,\n",
       "         1.06024777,  1.26138256, -0.70105455,  1.70723513, -0.56124892,\n",
       "         0.27085382, -1.77082891,  0.06618049,  0.84202258, -0.86355074,\n",
       "        -1.01872679,  0.13755168, -0.09970303, -1.45589174,  0.81356165,\n",
       "         1.67394713,  0.74020949, -1.01794025,  1.00653722,  1.50705675,\n",
       "         0.61487663,  1.37448463,  0.47091674, -2.822902  ,  0.08366731,\n",
       "        -0.3918282 ,  0.39941869,  0.90276498,  1.11024696,  0.43611575,\n",
       "         0.6068763 ,  0.90683999, -0.02357954,  0.53048517,  1.06425934,\n",
       "         1.43802916,  0.67844067, -0.35398091,  0.25661194, -1.30921104,\n",
       "        -0.78180421, -0.86726044,  1.33268485,  1.12018246,  0.5308741 ,\n",
       "        -0.15315138,  0.41980184,  0.01608142,  0.75809569, -1.73434253,\n",
       "        -0.51881957, -0.57222868, -0.37277285,  1.59083307, -0.35920339,\n",
       "         1.25014186, -0.04292082, -0.28412494, -0.43248455,  0.19104008,\n",
       "        -0.66874829, -0.9786051 , -0.61086102,  0.11138618,  0.96802027,\n",
       "        -0.6403966 , -1.01400646,  0.17673592,  0.87958118, -0.23628058,\n",
       "         0.95380655, -1.50871953,  0.11406094,  0.03498798, -0.1602281 ,\n",
       "        -1.59833084, -1.13492478, -0.42563523,  0.3753616 ,  0.78511841,\n",
       "        -1.79649768, -0.52378152,  0.68151057,  1.45736119,  0.37056838,\n",
       "        -0.21256414, -0.63110523,  1.4230975 ,  0.47062503, -1.16109372,\n",
       "         1.50173484,  0.8301513 ,  0.50025585,  1.56339775, -0.06457254,\n",
       "...\n",
       "        -2.33278902,  0.67352319, -0.3850531 , -0.29998067,  1.86235314,\n",
       "         0.42881896,  0.37215504, -1.37655448,  0.28350263, -2.03235421,\n",
       "        -1.10586475,  0.16515082,  0.71310476, -1.19910723, -0.46094062,\n",
       "        -0.08138008, -0.41133901,  0.736146  , -0.27083968, -2.36207893,\n",
       "        -1.46512631, -0.77379401, -0.45660364,  0.86196394, -0.3715528 ,\n",
       "        -0.05517122, -1.81719489, -0.94940924, -0.56545669, -1.6103658 ,\n",
       "        -0.66497691, -0.27375821,  0.1625054 , -0.52534623, -0.64920332,\n",
       "        -0.53224419, -0.05804364, -0.70121772, -0.242378  ,  1.42169811,\n",
       "         0.84561573, -0.59870157, -0.09237833,  2.22536282, -0.25813724,\n",
       "         0.2654788 , -0.31972945, -0.66918672,  1.22151812,  1.29136139,\n",
       "         1.23528279, -1.89396149,  1.494731  ,  0.5807461 , -1.06112292,\n",
       "        -0.53478234,  1.10141151,  1.00218537,  1.10856025, -0.59350884,\n",
       "         0.71043084, -0.611961  ,  0.85397876, -0.11344865,  1.04630786,\n",
       "         0.48973942,  0.51659721, -0.31018235, -0.48860438, -0.77385452,\n",
       "         0.26149228,  0.9009827 , -0.67813302, -1.72159796,  2.04530935,\n",
       "        -0.01813172,  0.56804864, -0.02929509, -0.89084184, -1.54734869,\n",
       "         1.79255163,  0.06462155,  1.72909579, -0.17589672, -0.67721231,\n",
       "         2.12358819,  1.50665701,  1.02012833,  1.42578916, -0.93708605,\n",
       "        -0.11759989, -0.23535961,  0.57916749, -0.3937587 , -0.7170737 ,\n",
       "         1.07282921,  0.24037628,  1.15302065,  0.3973868 , -0.17269201]])</pre></div></li><li class='xr-var-item'><div class='xr-var-name'><span>var_raw_sigma_raw</span></div><div class='xr-var-dims'>(chain, draw)</div><div class='xr-var-dtype'>float64</div><div class='xr-var-preview xr-preview'>-0.7768 -0.8776 ... -0.9207 -0.9893</div><input id='attrs-24c6d50f-0449-418f-b303-98752b4cb65f' class='xr-var-attrs-in' type='checkbox' disabled><label for='attrs-24c6d50f-0449-418f-b303-98752b4cb65f' title='Show/Hide attributes'><svg class='icon xr-icon-file-text2'><use xlink:href='#icon-file-text2'></use></svg></label><input id='data-35ccd887-d418-4ae3-b2fe-548f424a69f3' class='xr-var-data-in' type='checkbox'><label for='data-35ccd887-d418-4ae3-b2fe-548f424a69f3' title='Show/Hide data repr'><svg class='icon xr-icon-database'><use xlink:href='#icon-database'></use></svg></label><div class='xr-var-attrs'><dl class='xr-attrs'></dl></div><div class='xr-var-data'><pre>array([[-0.77684732, -0.87762436, -0.76268249, -0.9451684 , -0.96766709,\n",
       "        -0.98160472, -1.34536536, -0.98970689, -0.96017922, -0.7647619 ,\n",
       "        -0.74662986, -1.05223171, -0.83662057, -1.09228794, -0.61476942,\n",
       "        -0.8147298 , -1.34503604, -1.11800656, -0.83963894, -0.95088331,\n",
       "        -0.85638962, -1.16703301, -0.60529238, -1.160749  , -0.80689077,\n",
       "        -0.83723428, -1.11360024, -1.04796676, -1.08048186, -0.80225913,\n",
       "        -0.85078507, -1.06899303, -0.95444466, -1.09353558, -0.93273758,\n",
       "        -1.26563445, -1.08695228, -1.20310996, -0.9262666 , -1.21848756,\n",
       "        -0.91812469, -0.79249884, -1.00740558, -0.62337755, -1.11655535,\n",
       "        -0.75558835, -0.94572659, -0.82176627, -1.10582272, -1.08374111,\n",
       "        -1.47909281, -0.90031751, -0.76151769, -0.99742502, -1.25140678,\n",
       "        -0.79037751, -0.99513471, -0.77589793, -0.98748042, -0.74731359,\n",
       "        -1.00528614, -0.78633289, -1.09578837, -1.11189317, -0.58967823,\n",
       "        -1.02661608, -0.80770242, -1.04170314, -1.11669546, -1.10122485,\n",
       "        -1.05310837, -1.13348425, -0.84737834, -0.88371037, -0.95126451,\n",
       "        -0.96441368, -1.22799652, -0.99967745, -1.22887906, -1.06390895,\n",
       "        -0.82654971, -1.22397048, -1.15252452, -1.26308343, -1.21610364,\n",
       "        -0.91802219, -0.85961215, -1.03133162, -0.85627469, -0.91322168,\n",
       "        -1.11223984, -0.83562617, -1.34787605, -0.9543539 , -1.12251132,\n",
       "        -0.94482173, -0.87953095, -1.01760398, -0.94507463, -0.9463858 ,\n",
       "...\n",
       "        -1.02753927, -1.0407376 , -0.92569944, -0.9395982 , -1.07385189,\n",
       "        -1.07766246, -1.08516514, -0.94466059, -1.03197864, -1.12261751,\n",
       "        -1.07225342, -0.93621754, -0.98996495, -0.86145539, -1.12993953,\n",
       "        -0.94151032, -1.12786294, -1.07600686, -0.98061734, -1.21671872,\n",
       "        -1.14609153, -0.94118895, -1.17090226, -0.94081128, -0.97762361,\n",
       "        -1.00615111, -0.84420578, -1.02417533, -1.03099743, -1.15560169,\n",
       "        -0.81019075, -0.99847604, -0.9202711 , -1.01994505, -0.78056683,\n",
       "        -0.84047428, -0.96728477, -1.03828979, -0.85409623, -0.53768122,\n",
       "        -0.8142954 , -1.02251452, -0.91011914, -0.98647082, -1.2239304 ,\n",
       "        -1.0465397 , -0.80165692, -0.8198802 , -1.03562484, -0.93275159,\n",
       "        -0.65007523, -1.01462119, -0.80467006, -1.00469209, -1.27127865,\n",
       "        -1.03022523, -1.05247699, -0.96905486, -0.99283631, -1.06855985,\n",
       "        -1.13926917, -1.26055364, -0.92604132, -1.03072229, -0.89483395,\n",
       "        -1.09759683, -1.19185495, -0.77188212, -0.95676489, -0.97714502,\n",
       "        -1.14843507, -1.20382126, -0.84050529, -1.11097565, -1.07923302,\n",
       "        -1.1450073 , -0.70450039, -0.91659516, -1.07398056, -0.86834636,\n",
       "        -0.93146817, -0.6989798 , -1.14047519, -0.70059679, -0.71777619,\n",
       "        -1.12780788, -0.77180917, -0.87883431, -1.10779131, -1.11992879,\n",
       "        -0.93062618, -1.05015945, -0.98553133, -0.74412679, -0.88591433,\n",
       "        -1.11872905, -1.04835719, -0.65864673, -0.92072094, -0.9892652 ]])</pre></div></li><li class='xr-var-item'><div class='xr-var-name'><span>var</span></div><div class='xr-var-dims'>(chain, draw, channel)</div><div class='xr-var-dtype'>float64</div><div class='xr-var-preview xr-preview'>0.5621 0.6378 ... 0.3764 0.426</div><input id='attrs-0b583b80-91eb-434e-98d4-f9932689096d' class='xr-var-attrs-in' type='checkbox' disabled><label for='attrs-0b583b80-91eb-434e-98d4-f9932689096d' title='Show/Hide attributes'><svg class='icon xr-icon-file-text2'><use xlink:href='#icon-file-text2'></use></svg></label><input id='data-536db33f-022c-42a2-a92e-2a0dad53e92e' class='xr-var-data-in' type='checkbox'><label for='data-536db33f-022c-42a2-a92e-2a0dad53e92e' title='Show/Hide data repr'><svg class='icon xr-icon-database'><use xlink:href='#icon-database'></use></svg></label><div class='xr-var-attrs'><dl class='xr-attrs'></dl></div><div class='xr-var-data'><pre>array([[[0.56212402, 0.63775071],\n",
       "        [0.43477014, 0.53134684],\n",
       "        [0.09864139, 0.20115128],\n",
       "        [0.81570188, 0.73202063],\n",
       "        [0.70633621, 0.69642935],\n",
       "        [0.64653639, 0.7552059 ],\n",
       "        [0.73898986, 0.78276595],\n",
       "        [0.30811015, 0.32856089],\n",
       "        [0.8121629 , 0.62988979],\n",
       "        [0.47207717, 0.36094698],\n",
       "        [0.35630178, 0.72733591],\n",
       "        [0.16986865, 0.14561463],\n",
       "        [0.48773101, 0.50766371],\n",
       "        [0.6863855 , 0.69667564],\n",
       "        [0.16065527, 0.47804188],\n",
       "        [0.27260297, 0.13544601],\n",
       "        [0.44665213, 0.59828929],\n",
       "        [0.54203837, 0.65014916],\n",
       "        [0.15534023, 0.20856895],\n",
       "        [0.78205902, 0.58744551],\n",
       "...\n",
       "        [0.78343071, 0.89386286],\n",
       "        [0.3386189 , 0.64811281],\n",
       "        [0.84097049, 0.80848129],\n",
       "        [0.51940076, 0.45757413],\n",
       "        [0.29512169, 0.26141088],\n",
       "        [0.87978786, 0.92101399],\n",
       "        [0.80672006, 0.87754805],\n",
       "        [0.73485953, 0.70012377],\n",
       "        [0.8435834 , 0.82413693],\n",
       "        [0.35192944, 0.35317871],\n",
       "        [0.49135388, 0.53196198],\n",
       "        [0.39740778, 0.29093129],\n",
       "        [0.79616233, 0.51233177],\n",
       "        [0.40482365, 0.41089218],\n",
       "        [0.32521645, 0.26245139],\n",
       "        [0.78070361, 0.83869484],\n",
       "        [0.46677369, 0.58295549],\n",
       "        [0.66921719, 0.78714333],\n",
       "        [0.59859484, 0.49947439],\n",
       "        [0.37640719, 0.42602884]]])</pre></div></li></ul></div></li><li class='xr-section-item'><input id='section-c97f9ca6-47eb-44bd-9f03-64f1e0b93b09' class='xr-section-summary-in' type='checkbox'  ><label for='section-c97f9ca6-47eb-44bd-9f03-64f1e0b93b09' class='xr-section-summary' >Indexes: <span>(3)</span></label><div class='xr-section-inline-details'></div><div class='xr-section-details'><ul class='xr-var-list'><li class='xr-var-item'><div class='xr-index-name'><div>chain</div></div><div class='xr-index-preview'>PandasIndex</div><div></div><input id='index-bb1a2f95-2daa-457a-bc74-a5a14835ade7' class='xr-index-data-in' type='checkbox'/><label for='index-bb1a2f95-2daa-457a-bc74-a5a14835ade7' title='Show/Hide index repr'><svg class='icon xr-icon-database'><use xlink:href='#icon-database'></use></svg></label><div class='xr-index-data'><pre>PandasIndex(Index([0], dtype=&#x27;int64&#x27;, name=&#x27;chain&#x27;))</pre></div></li><li class='xr-var-item'><div class='xr-index-name'><div>draw</div></div><div class='xr-index-preview'>PandasIndex</div><div></div><input id='index-20d080b3-66dc-42c9-8d42-5b2d01e131de' class='xr-index-data-in' type='checkbox'/><label for='index-20d080b3-66dc-42c9-8d42-5b2d01e131de' title='Show/Hide index repr'><svg class='icon xr-icon-database'><use xlink:href='#icon-database'></use></svg></label><div class='xr-index-data'><pre>PandasIndex(Index([  0,   1,   2,   3,   4,   5,   6,   7,   8,   9,\n",
       "       ...\n",
       "       490, 491, 492, 493, 494, 495, 496, 497, 498, 499],\n",
       "      dtype=&#x27;int64&#x27;, name=&#x27;draw&#x27;, length=500))</pre></div></li><li class='xr-var-item'><div class='xr-index-name'><div>channel</div></div><div class='xr-index-preview'>PandasIndex</div><div></div><input id='index-f570ad58-d829-4b00-94d6-2399820d0b5b' class='xr-index-data-in' type='checkbox'/><label for='index-f570ad58-d829-4b00-94d6-2399820d0b5b' title='Show/Hide index repr'><svg class='icon xr-icon-database'><use xlink:href='#icon-database'></use></svg></label><div class='xr-index-data'><pre>PandasIndex(Index([&#x27;C1&#x27;, &#x27;C2&#x27;], dtype=&#x27;object&#x27;, name=&#x27;channel&#x27;))</pre></div></li></ul></div></li><li class='xr-section-item'><input id='section-3755c4de-aaea-4c80-a835-18e65dddf002' class='xr-section-summary-in' type='checkbox'  checked><label for='section-3755c4de-aaea-4c80-a835-18e65dddf002' class='xr-section-summary' >Attributes: <span>(4)</span></label><div class='xr-section-inline-details'></div><div class='xr-section-details'><dl class='xr-attrs'><dt><span>created_at :</span></dt><dd>2024-06-21T09:38:56.939441</dd><dt><span>arviz_version :</span></dt><dd>0.17.0</dd><dt><span>inference_library :</span></dt><dd>pymc</dd><dt><span>inference_library_version :</span></dt><dd>5.14.0</dd></dl></div></li></ul></div></div>"
      ],
      "text/plain": [
       "<xarray.Dataset> Size: 40kB\n",
       "Dimensions:            (chain: 1, draw: 500, channel: 2)\n",
       "Coordinates:\n",
       "  * chain              (chain) int64 8B 0\n",
       "  * draw               (draw) int64 4kB 0 1 2 3 4 5 ... 494 495 496 497 498 499\n",
       "  * channel            (channel) <U2 16B 'C1' 'C2'\n",
       "Data variables:\n",
       "    var_raw            (chain, draw, channel) float64 8kB 0.2498 ... -0.2981\n",
       "    var_raw_sigma      (chain, draw) float64 4kB 0.4599 0.4158 ... 0.3982 0.3718\n",
       "    var_raw_offset     (chain, draw, channel) float64 8kB 0.1251 ... -0.3372\n",
       "    var_raw_mu         (chain, draw) float64 4kB 0.1922 -0.08039 ... -0.1727\n",
       "    var_raw_sigma_raw  (chain, draw) float64 4kB -0.7768 -0.8776 ... -0.9893\n",
       "    var                (chain, draw, channel) float64 8kB 0.5621 ... 0.426\n",
       "Attributes:\n",
       "    created_at:                 2024-06-21T09:38:56.939441\n",
       "    arviz_version:              0.17.0\n",
       "    inference_library:          pymc\n",
       "    inference_library_version:  5.14.0"
      ]
     },
     "execution_count": 24,
     "metadata": {},
     "output_type": "execute_result"
    }
   ],
   "source": [
    "complicated_distribution = Prior(\n",
    "    \"Normal\",\n",
    "    mu=Prior(\"Normal\", sigma=1),\n",
    "    sigma=Prior(\"Normal\", mu=-1, sigma=0.15, transform=\"exp\"),\n",
    "    centered=False,\n",
    "    dims=\"channel\",\n",
    "    transform=\"sigmoid\",\n",
    ")\n",
    "\n",
    "coords = {\n",
    "    \"channel\": [\"C1\", \"C2\"],\n",
    "}\n",
    "prior = complicated_distribution.sample_prior(coords=coords, random_seed=rng)\n",
    "prior"
   ]
  },
  {
   "cell_type": "markdown",
   "id": "876f6d5e-9131-4077-b7cd-a8e0000d2dea",
   "metadata": {},
   "source": [
    "The prior variables can be visualized in whatever way works best. Here is a histogram of the variables to see the marginal distributions."
   ]
  },
  {
   "cell_type": "code",
   "execution_count": 25,
   "id": "d8d05215-bbdb-4340-ada1-645a3eae665a",
   "metadata": {
    "scrolled": true
   },
   "outputs": [
    {
     "data": {
      "image/png": "[encoded data removed]",
      "text/plain": [
       "<Figure size 1200x700 with 2 Axes>"
      ]
     },
     "metadata": {},
     "output_type": "display_data"
    }
   ],
   "source": [
    "bins = np.arange(0, 1.1, 0.1)\n",
    "prior[\"var\"].to_series().unstack().hist(bins=bins, edgecolor=\"black\")\n",
    "plt.gcf().suptitle(\"Marginal distributions of the two channels\");"
   ]
  },
  {
   "cell_type": "markdown",
   "id": "22c8037e-4168-443b-b1b5-150d73dd4129",
   "metadata": {},
   "source": [
    "Use any workflow to make sense of the prior distribution! For instance, the joint distribution which shows these two channels are correlated due to the hierarchical generation."
   ]
  },
  {
   "cell_type": "code",
   "execution_count": 26,
   "id": "c9911821-e9c3-4607-b53e-78c086c6a89c",
   "metadata": {},
   "outputs": [
    {
     "data": {
      "image/png": "[encoded data removed]",
      "text/plain": [
       "<Figure size 1200x700 with 1 Axes>"
      ]
     },
     "metadata": {},
     "output_type": "display_data"
    }
   ],
   "source": [
    "def plot_correlation(df: pd.DataFrame, x: str = \"C1\", y: str = \"C2\") -> plt.Axes:\n",
    "    corr = df.loc[:, [x, y]].corr().iloc[0, 1]\n",
    "    title = f\"Joint distribution between {x} and {y} ({corr = :.3f})\"\n",
    "    return df.plot.scatter(x=x, y=y, title=title)\n",
    "\n",
    "\n",
    "ax = prior[\"var\"].to_series().unstack().pipe(plot_correlation)\n",
    "padding = 0.025\n",
    "bounds = (0 - padding, 1 + padding)\n",
    "ax.set(xlim=bounds, ylim=bounds);"
   ]
  },
  {
   "cell_type": "markdown",
   "id": "90a9d504-6118-4fb9-a21b-7e01d8e5b5e8",
   "metadata": {},
   "source": [
    "### Automatic Broadcasting\n",
    "\n",
    "The broadcasting of the dims will be handled automatically.\n",
    "\n",
    "For instance, the `mu` of the variable needs to be transposed in order to work with (\"channel\", \"geo\") dims.\n",
    "\n",
    "With all this functionality, we can see that the prior distributions can become quite expressive!"
   ]
  },
  {
   "cell_type": "code",
   "execution_count": 27,
   "id": "078a2501-0e82-4551-b01a-042450e36ddb",
   "metadata": {
    "scrolled": true
   },
   "outputs": [
    {
     "data": {
      "image/svg+xml": [
       "<?xml version=\"1.0\" encoding=\"UTF-8\" standalone=\"no\"?>\n",
       "<!DOCTYPE svg PUBLIC \"-//W3C//DTD SVG 1.1//EN\"\n",
       " \"http://www.w3.org/Graphics/SVG/1.1/DTD/svg11.dtd\">\n",
       "<!-- Generated by graphviz version 9.0.0 (20231125.0833)\n",
       " -->\n",
       "<!-- Pages: 1 -->\n",
       "<svg width=\"1080pt\" height=\"524pt\"\n",
       " viewBox=\"0.00 0.00 1080.42 524.50\" xmlns=\"http://www.w3.org/2000/svg\" xmlns:xlink=\"http://www.w3.org/1999/xlink\">\n",
       "<g id=\"graph0\" class=\"graph\" transform=\"scale(1 1) rotate(0) translate(4 520.5)\">\n",
       "<polygon fill=\"white\" stroke=\"none\" points=\"-4,4 -4,-520.5 1076.42,-520.5 1076.42,4 -4,4\"/>\n",
       "<g id=\"clust1\" class=\"cluster\">\n",
       "<title>clusterchannel (1)</title>\n",
       "<path fill=\"none\" stroke=\"black\" d=\"M195.12,-141.75C195.12,-141.75 285.12,-141.75 285.12,-141.75 291.12,-141.75 297.12,-147.75 297.12,-153.75 297.12,-153.75 297.12,-255.5 297.12,-255.5 297.12,-261.5 291.12,-267.5 285.12,-267.5 285.12,-267.5 195.12,-267.5 195.12,-267.5 189.12,-267.5 183.12,-261.5 183.12,-255.5 183.12,-255.5 183.12,-153.75 183.12,-153.75 183.12,-147.75 189.12,-141.75 195.12,-141.75\"/>\n",
       "<text text-anchor=\"middle\" x=\"249.37\" y=\"-149.7\" font-family=\"Times,serif\" font-size=\"14.00\">channel (1)</text>\n",
       "</g>\n",
       "<g id=\"clust2\" class=\"cluster\">\n",
       "<title>clustergeo (1)</title>\n",
       "<path fill=\"none\" stroke=\"black\" d=\"M343.12,-154.12C343.12,-154.12 575.12,-154.12 575.12,-154.12 581.12,-154.12 587.12,-160.12 587.12,-166.12 587.12,-166.12 587.12,-496.5 587.12,-496.5 587.12,-502.5 581.12,-508.5 575.12,-508.5 575.12,-508.5 343.12,-508.5 343.12,-508.5 337.12,-508.5 331.12,-502.5 331.12,-496.5 331.12,-496.5 331.12,-166.12 331.12,-166.12 331.12,-160.12 337.12,-154.12 343.12,-154.12\"/>\n",
       "<text text-anchor=\"middle\" x=\"554.37\" y=\"-162.07\" font-family=\"Times,serif\" font-size=\"14.00\">geo (1)</text>\n",
       "</g>\n",
       "<g id=\"clust3\" class=\"cluster\">\n",
       "<title>clusterchannel (1) x geo (1)</title>\n",
       "<path fill=\"none\" stroke=\"black\" d=\"M288.12,-8C288.12,-8 426.12,-8 426.12,-8 432.12,-8 438.12,-14 438.12,-20 438.12,-20 438.12,-121.75 438.12,-121.75 438.12,-127.75 432.12,-133.75 426.12,-133.75 426.12,-133.75 288.12,-133.75 288.12,-133.75 282.12,-133.75 276.12,-127.75 276.12,-121.75 276.12,-121.75 276.12,-20 276.12,-20 276.12,-14 282.12,-8 288.12,-8\"/>\n",
       "<text text-anchor=\"middle\" x=\"356.99\" y=\"-15.95\" font-family=\"Times,serif\" font-size=\"14.00\">channel (1) x geo (1)</text>\n",
       "</g>\n",
       "<!-- var_mu_mu -->\n",
       "<g id=\"node1\" class=\"node\">\n",
       "<title>var_mu_mu</title>\n",
       "<ellipse fill=\"none\" stroke=\"black\" cx=\"69.12\" cy=\"-337.75\" rx=\"69.12\" ry=\"42.25\"/>\n",
       "<text text-anchor=\"middle\" x=\"69.12\" y=\"-350.32\" font-family=\"Times,serif\" font-size=\"14.00\">var_mu_mu</text>\n",
       "<text text-anchor=\"middle\" x=\"69.12\" y=\"-333.07\" font-family=\"Times,serif\" font-size=\"14.00\">~</text>\n",
       "<text text-anchor=\"middle\" x=\"69.12\" y=\"-315.82\" font-family=\"Times,serif\" font-size=\"14.00\">Normal</text>\n",
       "</g>\n",
       "<!-- var_mu -->\n",
       "<g id=\"node5\" class=\"node\">\n",
       "<title>var_mu</title>\n",
       "<ellipse fill=\"none\" stroke=\"black\" cx=\"240.12\" cy=\"-217.25\" rx=\"48.97\" ry=\"42.25\"/>\n",
       "<text text-anchor=\"middle\" x=\"240.12\" y=\"-229.82\" font-family=\"Times,serif\" font-size=\"14.00\">var_mu</text>\n",
       "<text text-anchor=\"middle\" x=\"240.12\" y=\"-212.57\" font-family=\"Times,serif\" font-size=\"14.00\">~</text>\n",
       "<text text-anchor=\"middle\" x=\"240.12\" y=\"-195.32\" font-family=\"Times,serif\" font-size=\"14.00\">Normal</text>\n",
       "</g>\n",
       "<!-- var_mu_mu&#45;&gt;var_mu -->\n",
       "<g id=\"edge1\" class=\"edge\">\n",
       "<title>var_mu_mu&#45;&gt;var_mu</title>\n",
       "<path fill=\"none\" stroke=\"black\" d=\"M114.05,-305.61C138.35,-288.77 168.35,-267.98 192.99,-250.91\"/>\n",
       "<polygon fill=\"black\" stroke=\"black\" points=\"194.68,-254 200.9,-245.43 190.69,-248.24 194.68,-254\"/>\n",
       "</g>\n",
       "<!-- var_mu_sigma -->\n",
       "<g id=\"node2\" class=\"node\">\n",
       "<title>var_mu_sigma</title>\n",
       "<ellipse fill=\"none\" stroke=\"black\" cx=\"240.12\" cy=\"-337.75\" rx=\"83.44\" ry=\"42.25\"/>\n",
       "<text text-anchor=\"middle\" x=\"240.12\" y=\"-350.32\" font-family=\"Times,serif\" font-size=\"14.00\">var_mu_sigma</text>\n",
       "<text text-anchor=\"middle\" x=\"240.12\" y=\"-333.07\" font-family=\"Times,serif\" font-size=\"14.00\">~</text>\n",
       "<text text-anchor=\"middle\" x=\"240.12\" y=\"-315.82\" font-family=\"Times,serif\" font-size=\"14.00\">HalfNormal</text>\n",
       "</g>\n",
       "<!-- var_mu_sigma&#45;&gt;var_mu -->\n",
       "<g id=\"edge2\" class=\"edge\">\n",
       "<title>var_mu_sigma&#45;&gt;var_mu</title>\n",
       "<path fill=\"none\" stroke=\"black\" d=\"M240.12,-295.3C240.12,-287.5 240.12,-279.24 240.12,-271.15\"/>\n",
       "<polygon fill=\"black\" stroke=\"black\" points=\"243.62,-271.38 240.12,-261.38 236.62,-271.38 243.62,-271.38\"/>\n",
       "</g>\n",
       "<!-- var_sigma_raw_sigma -->\n",
       "<g id=\"node3\" class=\"node\">\n",
       "<title>var_sigma_raw_sigma</title>\n",
       "<ellipse fill=\"none\" stroke=\"black\" cx=\"718.12\" cy=\"-458.25\" rx=\"121.62\" ry=\"42.25\"/>\n",
       "<text text-anchor=\"middle\" x=\"718.12\" y=\"-470.82\" font-family=\"Times,serif\" font-size=\"14.00\">var_sigma_raw_sigma</text>\n",
       "<text text-anchor=\"middle\" x=\"718.12\" y=\"-453.57\" font-family=\"Times,serif\" font-size=\"14.00\">~</text>\n",
       "<text text-anchor=\"middle\" x=\"718.12\" y=\"-436.32\" font-family=\"Times,serif\" font-size=\"14.00\">HalfNormal</text>\n",
       "</g>\n",
       "<!-- var_sigma_raw -->\n",
       "<g id=\"node6\" class=\"node\">\n",
       "<title>var_sigma_raw</title>\n",
       "<polygon fill=\"none\" stroke=\"black\" points=\"549.37,-367.62 426.87,-367.62 426.87,-307.87 549.37,-307.87 549.37,-367.62\"/>\n",
       "<text text-anchor=\"middle\" x=\"488.12\" y=\"-350.32\" font-family=\"Times,serif\" font-size=\"14.00\">var_sigma_raw</text>\n",
       "<text text-anchor=\"middle\" x=\"488.12\" y=\"-333.07\" font-family=\"Times,serif\" font-size=\"14.00\">~</text>\n",
       "<text text-anchor=\"middle\" x=\"488.12\" y=\"-315.82\" font-family=\"Times,serif\" font-size=\"14.00\">Deterministic</text>\n",
       "</g>\n",
       "<!-- var_sigma_raw_sigma&#45;&gt;var_sigma_raw -->\n",
       "<g id=\"edge4\" class=\"edge\">\n",
       "<title>var_sigma_raw_sigma&#45;&gt;var_sigma_raw</title>\n",
       "<path fill=\"none\" stroke=\"black\" d=\"M650.98,-422.65C620.72,-407.06 585.08,-388.7 554.87,-373.14\"/>\n",
       "<polygon fill=\"black\" stroke=\"black\" points=\"556.68,-370.14 546.19,-368.67 553.48,-376.36 556.68,-370.14\"/>\n",
       "</g>\n",
       "<!-- var_sigma_raw_mu -->\n",
       "<g id=\"node4\" class=\"node\">\n",
       "<title>var_sigma_raw_mu</title>\n",
       "<ellipse fill=\"none\" stroke=\"black\" cx=\"965.12\" cy=\"-458.25\" rx=\"107.3\" ry=\"42.25\"/>\n",
       "<text text-anchor=\"middle\" x=\"965.12\" y=\"-470.82\" font-family=\"Times,serif\" font-size=\"14.00\">var_sigma_raw_mu</text>\n",
       "<text text-anchor=\"middle\" x=\"965.12\" y=\"-453.57\" font-family=\"Times,serif\" font-size=\"14.00\">~</text>\n",
       "<text text-anchor=\"middle\" x=\"965.12\" y=\"-436.32\" font-family=\"Times,serif\" font-size=\"14.00\">Normal</text>\n",
       "</g>\n",
       "<!-- var_sigma_raw_mu&#45;&gt;var_sigma_raw -->\n",
       "<g id=\"edge3\" class=\"edge\">\n",
       "<title>var_sigma_raw_mu&#45;&gt;var_sigma_raw</title>\n",
       "<path fill=\"none\" stroke=\"black\" d=\"M888.2,-428.31C875.25,-423.9 861.87,-419.61 849.12,-416 750.44,-388.02 634.06,-364.84 560.67,-351.38\"/>\n",
       "<polygon fill=\"black\" stroke=\"black\" points=\"561.67,-348.01 551.21,-349.66 560.42,-354.89 561.67,-348.01\"/>\n",
       "</g>\n",
       "<!-- var -->\n",
       "<g id=\"node9\" class=\"node\">\n",
       "<title>var</title>\n",
       "<ellipse fill=\"none\" stroke=\"black\" cx=\"357.12\" cy=\"-83.5\" rx=\"48.97\" ry=\"42.25\"/>\n",
       "<text text-anchor=\"middle\" x=\"357.12\" y=\"-96.07\" font-family=\"Times,serif\" font-size=\"14.00\">var</text>\n",
       "<text text-anchor=\"middle\" x=\"357.12\" y=\"-78.82\" font-family=\"Times,serif\" font-size=\"14.00\">~</text>\n",
       "<text text-anchor=\"middle\" x=\"357.12\" y=\"-61.57\" font-family=\"Times,serif\" font-size=\"14.00\">Normal</text>\n",
       "</g>\n",
       "<!-- var_mu&#45;&gt;var -->\n",
       "<g id=\"edge7\" class=\"edge\">\n",
       "<title>var_mu&#45;&gt;var</title>\n",
       "<path fill=\"none\" stroke=\"black\" d=\"M269.64,-183C285.02,-165.68 303.98,-144.34 320.31,-125.95\"/>\n",
       "<polygon fill=\"black\" stroke=\"black\" points=\"322.58,-128.67 326.6,-118.87 317.34,-124.02 322.58,-128.67\"/>\n",
       "</g>\n",
       "<!-- var_sigma -->\n",
       "<g id=\"node7\" class=\"node\">\n",
       "<title>var_sigma</title>\n",
       "<polygon fill=\"none\" stroke=\"black\" points=\"483.87,-247.12 370.37,-247.12 370.37,-187.37 483.87,-187.37 483.87,-247.12\"/>\n",
       "<text text-anchor=\"middle\" x=\"427.12\" y=\"-229.82\" font-family=\"Times,serif\" font-size=\"14.00\">var_sigma</text>\n",
       "<text text-anchor=\"middle\" x=\"427.12\" y=\"-212.57\" font-family=\"Times,serif\" font-size=\"14.00\">~</text>\n",
       "<text text-anchor=\"middle\" x=\"427.12\" y=\"-195.32\" font-family=\"Times,serif\" font-size=\"14.00\">Deterministic</text>\n",
       "</g>\n",
       "<!-- var_sigma_raw&#45;&gt;var_sigma -->\n",
       "<g id=\"edge6\" class=\"edge\">\n",
       "<title>var_sigma_raw&#45;&gt;var_sigma</title>\n",
       "<path fill=\"none\" stroke=\"black\" d=\"M473.04,-307.46C465.27,-292.36 455.68,-273.74 447.29,-257.42\"/>\n",
       "<polygon fill=\"black\" stroke=\"black\" points=\"450.62,-256.25 442.93,-248.96 444.39,-259.45 450.62,-256.25\"/>\n",
       "</g>\n",
       "<!-- var_sigma&#45;&gt;var -->\n",
       "<g id=\"edge8\" class=\"edge\">\n",
       "<title>var_sigma&#45;&gt;var</title>\n",
       "<path fill=\"none\" stroke=\"black\" d=\"M411.58,-187.01C403.02,-170.89 392.18,-150.48 382.42,-132.12\"/>\n",
       "<polygon fill=\"black\" stroke=\"black\" points=\"385.63,-130.7 377.85,-123.51 379.45,-133.99 385.63,-130.7\"/>\n",
       "</g>\n",
       "<!-- var_sigma_raw_offset -->\n",
       "<g id=\"node8\" class=\"node\">\n",
       "<title>var_sigma_raw_offset</title>\n",
       "<ellipse fill=\"none\" stroke=\"black\" cx=\"459.12\" cy=\"-458.25\" rx=\"119.5\" ry=\"42.25\"/>\n",
       "<text text-anchor=\"middle\" x=\"459.12\" y=\"-470.82\" font-family=\"Times,serif\" font-size=\"14.00\">var_sigma_raw_offset</text>\n",
       "<text text-anchor=\"middle\" x=\"459.12\" y=\"-453.57\" font-family=\"Times,serif\" font-size=\"14.00\">~</text>\n",
       "<text text-anchor=\"middle\" x=\"459.12\" y=\"-436.32\" font-family=\"Times,serif\" font-size=\"14.00\">Normal</text>\n",
       "</g>\n",
       "<!-- var_sigma_raw_offset&#45;&gt;var_sigma_raw -->\n",
       "<g id=\"edge5\" class=\"edge\">\n",
       "<title>var_sigma_raw_offset&#45;&gt;var_sigma_raw</title>\n",
       "<path fill=\"none\" stroke=\"black\" d=\"M469.26,-415.8C472.18,-403.87 475.36,-390.87 478.27,-379\"/>\n",
       "<polygon fill=\"black\" stroke=\"black\" points=\"481.61,-380.07 480.59,-369.52 474.81,-378.4 481.61,-380.07\"/>\n",
       "</g>\n",
       "</g>\n",
       "</svg>\n"
      ],
      "text/plain": [
       "<graphviz.graphs.Digraph at 0x7f7c9b6f7190>"
      ]
     },
     "execution_count": 27,
     "metadata": {},
     "output_type": "execute_result"
    }
   ],
   "source": [
    "def create_2d_variable(mu_dims, sigma_dims) -> Prior:\n",
    "    mu = Prior(\n",
    "        \"Normal\",\n",
    "        mu=Prior(\"Normal\"),\n",
    "        sigma=Prior(\"HalfNormal\"),\n",
    "        dims=mu_dims,\n",
    "    )\n",
    "    sigma = Prior(\n",
    "        \"Normal\",\n",
    "        mu=Prior(\"Normal\"),\n",
    "        sigma=Prior(\"HalfNormal\"),\n",
    "        centered=False,\n",
    "        dims=sigma_dims,\n",
    "        transform=\"exp\",\n",
    "    )\n",
    "    return Prior(\n",
    "        \"Normal\",\n",
    "        mu=mu,\n",
    "        sigma=sigma,\n",
    "        dims=(\"channel\", \"geo\"),\n",
    "    )\n",
    "\n",
    "\n",
    "variable_2d = create_2d_variable(mu_dims=\"channel\", sigma_dims=\"geo\")\n",
    "variable_2d.graph()"
   ]
  },
  {
   "cell_type": "markdown",
   "id": "e018082e-23fb-48ab-ac69-e506a8fe9d9b",
   "metadata": {},
   "source": [
    "And the user can spend more time thinking about just the assumptions of the variables rather than logic to ensure the dimensions work."
   ]
  },
  {
   "cell_type": "code",
   "execution_count": 28,
   "id": "e0bdf8b8-34b7-4918-8106-2203b7db6152",
   "metadata": {},
   "outputs": [
    {
     "data": {
      "image/svg+xml": [
       "<?xml version=\"1.0\" encoding=\"UTF-8\" standalone=\"no\"?>\n",
       "<!DOCTYPE svg PUBLIC \"-//W3C//DTD SVG 1.1//EN\"\n",
       " \"http://www.w3.org/Graphics/SVG/1.1/DTD/svg11.dtd\">\n",
       "<!-- Generated by graphviz version 9.0.0 (20231125.0833)\n",
       " -->\n",
       "<!-- Pages: 1 -->\n",
       "<svg width=\"976pt\" height=\"579pt\"\n",
       " viewBox=\"0.00 0.00 976.06 579.50\" xmlns=\"http://www.w3.org/2000/svg\" xmlns:xlink=\"http://www.w3.org/1999/xlink\">\n",
       "<g id=\"graph0\" class=\"graph\" transform=\"scale(1 1) rotate(0) translate(4 575.5)\">\n",
       "<polygon fill=\"white\" stroke=\"none\" points=\"-4,4 -4,-575.5 972.06,-575.5 972.06,4 -4,4\"/>\n",
       "<g id=\"clust1\" class=\"cluster\">\n",
       "<title>clusterchannel (1)</title>\n",
       "<path fill=\"none\" stroke=\"black\" d=\"M497.62,-141.75C497.62,-141.75 844.62,-141.75 844.62,-141.75 850.62,-141.75 856.62,-147.75 856.62,-153.75 856.62,-153.75 856.62,-447 856.62,-447 856.62,-453 850.62,-459 844.62,-459 844.62,-459 497.62,-459 497.62,-459 491.62,-459 485.62,-453 485.62,-447 485.62,-447 485.62,-153.75 485.62,-153.75 485.62,-147.75 491.62,-141.75 497.62,-141.75\"/>\n",
       "<text text-anchor=\"middle\" x=\"808.87\" y=\"-149.7\" font-family=\"Times,serif\" font-size=\"14.00\">channel (1)</text>\n",
       "</g>\n",
       "<g id=\"clust2\" class=\"cluster\">\n",
       "<title>clusterchannel (1) x geo (1)</title>\n",
       "<path fill=\"none\" stroke=\"black\" d=\"M627.62,-8C627.62,-8 765.62,-8 765.62,-8 771.62,-8 777.62,-14 777.62,-20 777.62,-20 777.62,-121.75 777.62,-121.75 777.62,-127.75 771.62,-133.75 765.62,-133.75 765.62,-133.75 627.62,-133.75 627.62,-133.75 621.62,-133.75 615.62,-127.75 615.62,-121.75 615.62,-121.75 615.62,-20 615.62,-20 615.62,-14 621.62,-8 627.62,-8\"/>\n",
       "<text text-anchor=\"middle\" x=\"696.5\" y=\"-15.95\" font-family=\"Times,serif\" font-size=\"14.00\">channel (1) x geo (1)</text>\n",
       "</g>\n",
       "<!-- var_mu_mu -->\n",
       "<g id=\"node1\" class=\"node\">\n",
       "<title>var_mu_mu</title>\n",
       "<ellipse fill=\"none\" stroke=\"black\" cx=\"713.62\" cy=\"-529.25\" rx=\"69.12\" ry=\"42.25\"/>\n",
       "<text text-anchor=\"middle\" x=\"713.62\" y=\"-541.82\" font-family=\"Times,serif\" font-size=\"14.00\">var_mu_mu</text>\n",
       "<text text-anchor=\"middle\" x=\"713.62\" y=\"-524.57\" font-family=\"Times,serif\" font-size=\"14.00\">~</text>\n",
       "<text text-anchor=\"middle\" x=\"713.62\" y=\"-507.32\" font-family=\"Times,serif\" font-size=\"14.00\">Normal</text>\n",
       "</g>\n",
       "<!-- var_mu -->\n",
       "<g id=\"node5\" class=\"node\">\n",
       "<title>var_mu</title>\n",
       "<ellipse fill=\"none\" stroke=\"black\" cx=\"799.62\" cy=\"-408.75\" rx=\"48.97\" ry=\"42.25\"/>\n",
       "<text text-anchor=\"middle\" x=\"799.62\" y=\"-421.32\" font-family=\"Times,serif\" font-size=\"14.00\">var_mu</text>\n",
       "<text text-anchor=\"middle\" x=\"799.62\" y=\"-404.07\" font-family=\"Times,serif\" font-size=\"14.00\">~</text>\n",
       "<text text-anchor=\"middle\" x=\"799.62\" y=\"-386.82\" font-family=\"Times,serif\" font-size=\"14.00\">Normal</text>\n",
       "</g>\n",
       "<!-- var_mu_mu&#45;&gt;var_mu -->\n",
       "<g id=\"edge1\" class=\"edge\">\n",
       "<title>var_mu_mu&#45;&gt;var_mu</title>\n",
       "<path fill=\"none\" stroke=\"black\" d=\"M741.31,-490.1C749.6,-478.68 758.76,-466.05 767.32,-454.25\"/>\n",
       "<polygon fill=\"black\" stroke=\"black\" points=\"770.1,-456.38 773.14,-446.23 764.44,-452.27 770.1,-456.38\"/>\n",
       "</g>\n",
       "<!-- var_mu_sigma -->\n",
       "<g id=\"node2\" class=\"node\">\n",
       "<title>var_mu_sigma</title>\n",
       "<ellipse fill=\"none\" stroke=\"black\" cx=\"884.62\" cy=\"-529.25\" rx=\"83.44\" ry=\"42.25\"/>\n",
       "<text text-anchor=\"middle\" x=\"884.62\" y=\"-541.82\" font-family=\"Times,serif\" font-size=\"14.00\">var_mu_sigma</text>\n",
       "<text text-anchor=\"middle\" x=\"884.62\" y=\"-524.57\" font-family=\"Times,serif\" font-size=\"14.00\">~</text>\n",
       "<text text-anchor=\"middle\" x=\"884.62\" y=\"-507.32\" font-family=\"Times,serif\" font-size=\"14.00\">HalfNormal</text>\n",
       "</g>\n",
       "<!-- var_mu_sigma&#45;&gt;var_mu -->\n",
       "<g id=\"edge2\" class=\"edge\">\n",
       "<title>var_mu_sigma&#45;&gt;var_mu</title>\n",
       "<path fill=\"none\" stroke=\"black\" d=\"M856.55,-489.12C848.62,-478.06 839.93,-465.94 831.77,-454.57\"/>\n",
       "<polygon fill=\"black\" stroke=\"black\" points=\"834.63,-452.55 825.96,-446.47 828.95,-456.63 834.63,-452.55\"/>\n",
       "</g>\n",
       "<!-- var_sigma_raw_sigma -->\n",
       "<g id=\"node3\" class=\"node\">\n",
       "<title>var_sigma_raw_sigma</title>\n",
       "<ellipse fill=\"none\" stroke=\"black\" cx=\"121.62\" cy=\"-408.75\" rx=\"121.62\" ry=\"42.25\"/>\n",
       "<text text-anchor=\"middle\" x=\"121.62\" y=\"-421.32\" font-family=\"Times,serif\" font-size=\"14.00\">var_sigma_raw_sigma</text>\n",
       "<text text-anchor=\"middle\" x=\"121.62\" y=\"-404.07\" font-family=\"Times,serif\" font-size=\"14.00\">~</text>\n",
       "<text text-anchor=\"middle\" x=\"121.62\" y=\"-386.82\" font-family=\"Times,serif\" font-size=\"14.00\">HalfNormal</text>\n",
       "</g>\n",
       "<!-- var_sigma_raw -->\n",
       "<g id=\"node6\" class=\"node\">\n",
       "<title>var_sigma_raw</title>\n",
       "<polygon fill=\"none\" stroke=\"black\" points=\"644.87,-330.5 522.37,-330.5 522.37,-270.75 644.87,-270.75 644.87,-330.5\"/>\n",
       "<text text-anchor=\"middle\" x=\"583.62\" y=\"-313.2\" font-family=\"Times,serif\" font-size=\"14.00\">var_sigma_raw</text>\n",
       "<text text-anchor=\"middle\" x=\"583.62\" y=\"-295.95\" font-family=\"Times,serif\" font-size=\"14.00\">~</text>\n",
       "<text text-anchor=\"middle\" x=\"583.62\" y=\"-278.7\" font-family=\"Times,serif\" font-size=\"14.00\">Deterministic</text>\n",
       "</g>\n",
       "<!-- var_sigma_raw_sigma&#45;&gt;var_sigma_raw -->\n",
       "<g id=\"edge4\" class=\"edge\">\n",
       "<title>var_sigma_raw_sigma&#45;&gt;var_sigma_raw</title>\n",
       "<path fill=\"none\" stroke=\"black\" d=\"M208.61,-378.87C223.23,-374.45 238.3,-370.15 252.62,-366.5 340.6,-344.1 443.41,-325.04 510.83,-313.49\"/>\n",
       "<polygon fill=\"black\" stroke=\"black\" points=\"511.4,-316.94 520.67,-311.81 510.22,-310.04 511.4,-316.94\"/>\n",
       "</g>\n",
       "<!-- var_sigma_raw_mu -->\n",
       "<g id=\"node4\" class=\"node\">\n",
       "<title>var_sigma_raw_mu</title>\n",
       "<ellipse fill=\"none\" stroke=\"black\" cx=\"368.62\" cy=\"-408.75\" rx=\"107.3\" ry=\"42.25\"/>\n",
       "<text text-anchor=\"middle\" x=\"368.62\" y=\"-421.32\" font-family=\"Times,serif\" font-size=\"14.00\">var_sigma_raw_mu</text>\n",
       "<text text-anchor=\"middle\" x=\"368.62\" y=\"-404.07\" font-family=\"Times,serif\" font-size=\"14.00\">~</text>\n",
       "<text text-anchor=\"middle\" x=\"368.62\" y=\"-386.82\" font-family=\"Times,serif\" font-size=\"14.00\">Normal</text>\n",
       "</g>\n",
       "<!-- var_sigma_raw_mu&#45;&gt;var_sigma_raw -->\n",
       "<g id=\"edge3\" class=\"edge\">\n",
       "<title>var_sigma_raw_mu&#45;&gt;var_sigma_raw</title>\n",
       "<path fill=\"none\" stroke=\"black\" d=\"M434.88,-375.04C459.93,-362.68 488.51,-348.57 513.87,-336.06\"/>\n",
       "<polygon fill=\"black\" stroke=\"black\" points=\"515.37,-339.22 522.79,-331.65 512.28,-332.94 515.37,-339.22\"/>\n",
       "</g>\n",
       "<!-- var -->\n",
       "<g id=\"node9\" class=\"node\">\n",
       "<title>var</title>\n",
       "<ellipse fill=\"none\" stroke=\"black\" cx=\"692.62\" cy=\"-83.5\" rx=\"48.97\" ry=\"42.25\"/>\n",
       "<text text-anchor=\"middle\" x=\"692.62\" y=\"-96.07\" font-family=\"Times,serif\" font-size=\"14.00\">var</text>\n",
       "<text text-anchor=\"middle\" x=\"692.62\" y=\"-78.82\" font-family=\"Times,serif\" font-size=\"14.00\">~</text>\n",
       "<text text-anchor=\"middle\" x=\"692.62\" y=\"-61.57\" font-family=\"Times,serif\" font-size=\"14.00\">Normal</text>\n",
       "</g>\n",
       "<!-- var_mu&#45;&gt;var -->\n",
       "<g id=\"edge7\" class=\"edge\">\n",
       "<title>var_mu&#45;&gt;var</title>\n",
       "<path fill=\"none\" stroke=\"black\" d=\"M786.39,-367.79C766.97,-309.11 730.73,-199.63 709.44,-135.31\"/>\n",
       "<polygon fill=\"black\" stroke=\"black\" points=\"712.84,-134.45 706.38,-126.06 706.2,-136.65 712.84,-134.45\"/>\n",
       "</g>\n",
       "<!-- var_sigma -->\n",
       "<g id=\"node7\" class=\"node\">\n",
       "<title>var_sigma</title>\n",
       "<polygon fill=\"none\" stroke=\"black\" points=\"673.37,-234.75 559.87,-234.75 559.87,-175 673.37,-175 673.37,-234.75\"/>\n",
       "<text text-anchor=\"middle\" x=\"616.62\" y=\"-217.45\" font-family=\"Times,serif\" font-size=\"14.00\">var_sigma</text>\n",
       "<text text-anchor=\"middle\" x=\"616.62\" y=\"-200.2\" font-family=\"Times,serif\" font-size=\"14.00\">~</text>\n",
       "<text text-anchor=\"middle\" x=\"616.62\" y=\"-182.95\" font-family=\"Times,serif\" font-size=\"14.00\">Deterministic</text>\n",
       "</g>\n",
       "<!-- var_sigma_raw&#45;&gt;var_sigma -->\n",
       "<g id=\"edge6\" class=\"edge\">\n",
       "<title>var_sigma_raw&#45;&gt;var_sigma</title>\n",
       "<path fill=\"none\" stroke=\"black\" d=\"M593.88,-270.48C596.65,-262.63 599.68,-254 602.61,-245.68\"/>\n",
       "<polygon fill=\"black\" stroke=\"black\" points=\"605.85,-247.03 605.87,-236.43 599.24,-244.7 605.85,-247.03\"/>\n",
       "</g>\n",
       "<!-- var_sigma&#45;&gt;var -->\n",
       "<g id=\"edge8\" class=\"edge\">\n",
       "<title>var_sigma&#45;&gt;var</title>\n",
       "<path fill=\"none\" stroke=\"black\" d=\"M635.21,-174.67C643.65,-161.42 653.83,-145.43 663.26,-130.62\"/>\n",
       "<polygon fill=\"black\" stroke=\"black\" points=\"666.09,-132.69 668.51,-122.37 660.19,-128.93 666.09,-132.69\"/>\n",
       "</g>\n",
       "<!-- var_sigma_raw_offset -->\n",
       "<g id=\"node8\" class=\"node\">\n",
       "<title>var_sigma_raw_offset</title>\n",
       "<ellipse fill=\"none\" stroke=\"black\" cx=\"613.62\" cy=\"-408.75\" rx=\"119.5\" ry=\"42.25\"/>\n",
       "<text text-anchor=\"middle\" x=\"613.62\" y=\"-421.32\" font-family=\"Times,serif\" font-size=\"14.00\">var_sigma_raw_offset</text>\n",
       "<text text-anchor=\"middle\" x=\"613.62\" y=\"-404.07\" font-family=\"Times,serif\" font-size=\"14.00\">~</text>\n",
       "<text text-anchor=\"middle\" x=\"613.62\" y=\"-386.82\" font-family=\"Times,serif\" font-size=\"14.00\">Normal</text>\n",
       "</g>\n",
       "<!-- var_sigma_raw_offset&#45;&gt;var_sigma_raw -->\n",
       "<g id=\"edge5\" class=\"edge\">\n",
       "<title>var_sigma_raw_offset&#45;&gt;var_sigma_raw</title>\n",
       "<path fill=\"none\" stroke=\"black\" d=\"M601.94,-366.41C599.66,-358.34 597.27,-349.89 595,-341.86\"/>\n",
       "<polygon fill=\"black\" stroke=\"black\" points=\"598.39,-340.99 592.3,-332.32 591.65,-342.9 598.39,-340.99\"/>\n",
       "</g>\n",
       "</g>\n",
       "</svg>\n"
      ],
      "text/plain": [
       "<graphviz.graphs.Digraph at 0x7f7c9b783f40>"
      ]
     },
     "execution_count": 28,
     "metadata": {},
     "output_type": "execute_result"
    }
   ],
   "source": [
    "different_assumptions_2d = create_2d_variable(mu_dims=\"channel\", sigma_dims=\"channel\")\n",
    "\n",
    "different_assumptions_2d.graph()"
   ]
  },
  {
   "cell_type": "markdown",
   "id": "6e01638c-5e10-4796-a76b-7fd3b1b1ac3c",
   "metadata": {},
   "source": [
    "### Serialization\n",
    "\n",
    "The `to_json` and `from_json` methods can be helpful for storage of the distributions."
   ]
  },
  {
   "cell_type": "code",
   "execution_count": 29,
   "id": "f34d2031-90f1-4c06-a0ab-2f3133cdb9c1",
   "metadata": {},
   "outputs": [
    {
     "data": {
      "text/plain": [
       "{'dist': 'Normal',\n",
       " 'kwargs': {'mu': {'dist': 'Normal',\n",
       "   'kwargs': {'mu': {'dist': 'Normal'}, 'sigma': {'dist': 'HalfNormal'}},\n",
       "   'dims': ('channel',)},\n",
       "  'sigma': {'dist': 'Normal',\n",
       "   'kwargs': {'mu': {'dist': 'Normal'}, 'sigma': {'dist': 'HalfNormal'}},\n",
       "   'centered': False,\n",
       "   'dims': ('geo',),\n",
       "   'transform': 'exp'}},\n",
       " 'dims': ('channel', 'geo')}"
      ]
     },
     "execution_count": 29,
     "metadata": {},
     "output_type": "execute_result"
    }
   ],
   "source": [
    "variable_2d_dict = variable_2d.to_json()\n",
    "variable_2d_dict"
   ]
  },
  {
   "cell_type": "code",
   "execution_count": 30,
   "id": "cd833a19-ef27-4701-8b8e-a41990bd5a10",
   "metadata": {
    "scrolled": true
   },
   "outputs": [
    {
     "data": {
      "image/svg+xml": [
       "<?xml version=\"1.0\" encoding=\"UTF-8\" standalone=\"no\"?>\n",
       "<!DOCTYPE svg PUBLIC \"-//W3C//DTD SVG 1.1//EN\"\n",
       " \"http://www.w3.org/Graphics/SVG/1.1/DTD/svg11.dtd\">\n",
       "<!-- Generated by graphviz version 9.0.0 (20231125.0833)\n",
       " -->\n",
       "<!-- Pages: 1 -->\n",
       "<svg width=\"1080pt\" height=\"524pt\"\n",
       " viewBox=\"0.00 0.00 1080.42 524.50\" xmlns=\"http://www.w3.org/2000/svg\" xmlns:xlink=\"http://www.w3.org/1999/xlink\">\n",
       "<g id=\"graph0\" class=\"graph\" transform=\"scale(1 1) rotate(0) translate(4 520.5)\">\n",
       "<polygon fill=\"white\" stroke=\"none\" points=\"-4,4 -4,-520.5 1076.42,-520.5 1076.42,4 -4,4\"/>\n",
       "<g id=\"clust1\" class=\"cluster\">\n",
       "<title>clusterchannel (1)</title>\n",
       "<path fill=\"none\" stroke=\"black\" d=\"M195.12,-141.75C195.12,-141.75 285.12,-141.75 285.12,-141.75 291.12,-141.75 297.12,-147.75 297.12,-153.75 297.12,-153.75 297.12,-255.5 297.12,-255.5 297.12,-261.5 291.12,-267.5 285.12,-267.5 285.12,-267.5 195.12,-267.5 195.12,-267.5 189.12,-267.5 183.12,-261.5 183.12,-255.5 183.12,-255.5 183.12,-153.75 183.12,-153.75 183.12,-147.75 189.12,-141.75 195.12,-141.75\"/>\n",
       "<text text-anchor=\"middle\" x=\"249.37\" y=\"-149.7\" font-family=\"Times,serif\" font-size=\"14.00\">channel (1)</text>\n",
       "</g>\n",
       "<g id=\"clust2\" class=\"cluster\">\n",
       "<title>clustergeo (1)</title>\n",
       "<path fill=\"none\" stroke=\"black\" d=\"M343.12,-154.12C343.12,-154.12 575.12,-154.12 575.12,-154.12 581.12,-154.12 587.12,-160.12 587.12,-166.12 587.12,-166.12 587.12,-496.5 587.12,-496.5 587.12,-502.5 581.12,-508.5 575.12,-508.5 575.12,-508.5 343.12,-508.5 343.12,-508.5 337.12,-508.5 331.12,-502.5 331.12,-496.5 331.12,-496.5 331.12,-166.12 331.12,-166.12 331.12,-160.12 337.12,-154.12 343.12,-154.12\"/>\n",
       "<text text-anchor=\"middle\" x=\"554.37\" y=\"-162.07\" font-family=\"Times,serif\" font-size=\"14.00\">geo (1)</text>\n",
       "</g>\n",
       "<g id=\"clust3\" class=\"cluster\">\n",
       "<title>clusterchannel (1) x geo (1)</title>\n",
       "<path fill=\"none\" stroke=\"black\" d=\"M288.12,-8C288.12,-8 426.12,-8 426.12,-8 432.12,-8 438.12,-14 438.12,-20 438.12,-20 438.12,-121.75 438.12,-121.75 438.12,-127.75 432.12,-133.75 426.12,-133.75 426.12,-133.75 288.12,-133.75 288.12,-133.75 282.12,-133.75 276.12,-127.75 276.12,-121.75 276.12,-121.75 276.12,-20 276.12,-20 276.12,-14 282.12,-8 288.12,-8\"/>\n",
       "<text text-anchor=\"middle\" x=\"356.99\" y=\"-15.95\" font-family=\"Times,serif\" font-size=\"14.00\">channel (1) x geo (1)</text>\n",
       "</g>\n",
       "<!-- var_mu_mu -->\n",
       "<g id=\"node1\" class=\"node\">\n",
       "<title>var_mu_mu</title>\n",
       "<ellipse fill=\"none\" stroke=\"black\" cx=\"69.12\" cy=\"-337.75\" rx=\"69.12\" ry=\"42.25\"/>\n",
       "<text text-anchor=\"middle\" x=\"69.12\" y=\"-350.32\" font-family=\"Times,serif\" font-size=\"14.00\">var_mu_mu</text>\n",
       "<text text-anchor=\"middle\" x=\"69.12\" y=\"-333.07\" font-family=\"Times,serif\" font-size=\"14.00\">~</text>\n",
       "<text text-anchor=\"middle\" x=\"69.12\" y=\"-315.82\" font-family=\"Times,serif\" font-size=\"14.00\">Normal</text>\n",
       "</g>\n",
       "<!-- var_mu -->\n",
       "<g id=\"node5\" class=\"node\">\n",
       "<title>var_mu</title>\n",
       "<ellipse fill=\"none\" stroke=\"black\" cx=\"240.12\" cy=\"-217.25\" rx=\"48.97\" ry=\"42.25\"/>\n",
       "<text text-anchor=\"middle\" x=\"240.12\" y=\"-229.82\" font-family=\"Times,serif\" font-size=\"14.00\">var_mu</text>\n",
       "<text text-anchor=\"middle\" x=\"240.12\" y=\"-212.57\" font-family=\"Times,serif\" font-size=\"14.00\">~</text>\n",
       "<text text-anchor=\"middle\" x=\"240.12\" y=\"-195.32\" font-family=\"Times,serif\" font-size=\"14.00\">Normal</text>\n",
       "</g>\n",
       "<!-- var_mu_mu&#45;&gt;var_mu -->\n",
       "<g id=\"edge1\" class=\"edge\">\n",
       "<title>var_mu_mu&#45;&gt;var_mu</title>\n",
       "<path fill=\"none\" stroke=\"black\" d=\"M114.05,-305.61C138.35,-288.77 168.35,-267.98 192.99,-250.91\"/>\n",
       "<polygon fill=\"black\" stroke=\"black\" points=\"194.68,-254 200.9,-245.43 190.69,-248.24 194.68,-254\"/>\n",
       "</g>\n",
       "<!-- var_mu_sigma -->\n",
       "<g id=\"node2\" class=\"node\">\n",
       "<title>var_mu_sigma</title>\n",
       "<ellipse fill=\"none\" stroke=\"black\" cx=\"240.12\" cy=\"-337.75\" rx=\"83.44\" ry=\"42.25\"/>\n",
       "<text text-anchor=\"middle\" x=\"240.12\" y=\"-350.32\" font-family=\"Times,serif\" font-size=\"14.00\">var_mu_sigma</text>\n",
       "<text text-anchor=\"middle\" x=\"240.12\" y=\"-333.07\" font-family=\"Times,serif\" font-size=\"14.00\">~</text>\n",
       "<text text-anchor=\"middle\" x=\"240.12\" y=\"-315.82\" font-family=\"Times,serif\" font-size=\"14.00\">HalfNormal</text>\n",
       "</g>\n",
       "<!-- var_mu_sigma&#45;&gt;var_mu -->\n",
       "<g id=\"edge2\" class=\"edge\">\n",
       "<title>var_mu_sigma&#45;&gt;var_mu</title>\n",
       "<path fill=\"none\" stroke=\"black\" d=\"M240.12,-295.3C240.12,-287.5 240.12,-279.24 240.12,-271.15\"/>\n",
       "<polygon fill=\"black\" stroke=\"black\" points=\"243.62,-271.38 240.12,-261.38 236.62,-271.38 243.62,-271.38\"/>\n",
       "</g>\n",
       "<!-- var_sigma_raw_sigma -->\n",
       "<g id=\"node3\" class=\"node\">\n",
       "<title>var_sigma_raw_sigma</title>\n",
       "<ellipse fill=\"none\" stroke=\"black\" cx=\"718.12\" cy=\"-458.25\" rx=\"121.62\" ry=\"42.25\"/>\n",
       "<text text-anchor=\"middle\" x=\"718.12\" y=\"-470.82\" font-family=\"Times,serif\" font-size=\"14.00\">var_sigma_raw_sigma</text>\n",
       "<text text-anchor=\"middle\" x=\"718.12\" y=\"-453.57\" font-family=\"Times,serif\" font-size=\"14.00\">~</text>\n",
       "<text text-anchor=\"middle\" x=\"718.12\" y=\"-436.32\" font-family=\"Times,serif\" font-size=\"14.00\">HalfNormal</text>\n",
       "</g>\n",
       "<!-- var_sigma_raw -->\n",
       "<g id=\"node6\" class=\"node\">\n",
       "<title>var_sigma_raw</title>\n",
       "<polygon fill=\"none\" stroke=\"black\" points=\"549.37,-367.62 426.87,-367.62 426.87,-307.87 549.37,-307.87 549.37,-367.62\"/>\n",
       "<text text-anchor=\"middle\" x=\"488.12\" y=\"-350.32\" font-family=\"Times,serif\" font-size=\"14.00\">var_sigma_raw</text>\n",
       "<text text-anchor=\"middle\" x=\"488.12\" y=\"-333.07\" font-family=\"Times,serif\" font-size=\"14.00\">~</text>\n",
       "<text text-anchor=\"middle\" x=\"488.12\" y=\"-315.82\" font-family=\"Times,serif\" font-size=\"14.00\">Deterministic</text>\n",
       "</g>\n",
       "<!-- var_sigma_raw_sigma&#45;&gt;var_sigma_raw -->\n",
       "<g id=\"edge4\" class=\"edge\">\n",
       "<title>var_sigma_raw_sigma&#45;&gt;var_sigma_raw</title>\n",
       "<path fill=\"none\" stroke=\"black\" d=\"M650.98,-422.65C620.72,-407.06 585.08,-388.7 554.87,-373.14\"/>\n",
       "<polygon fill=\"black\" stroke=\"black\" points=\"556.68,-370.14 546.19,-368.67 553.48,-376.36 556.68,-370.14\"/>\n",
       "</g>\n",
       "<!-- var_sigma_raw_mu -->\n",
       "<g id=\"node4\" class=\"node\">\n",
       "<title>var_sigma_raw_mu</title>\n",
       "<ellipse fill=\"none\" stroke=\"black\" cx=\"965.12\" cy=\"-458.25\" rx=\"107.3\" ry=\"42.25\"/>\n",
       "<text text-anchor=\"middle\" x=\"965.12\" y=\"-470.82\" font-family=\"Times,serif\" font-size=\"14.00\">var_sigma_raw_mu</text>\n",
       "<text text-anchor=\"middle\" x=\"965.12\" y=\"-453.57\" font-family=\"Times,serif\" font-size=\"14.00\">~</text>\n",
       "<text text-anchor=\"middle\" x=\"965.12\" y=\"-436.32\" font-family=\"Times,serif\" font-size=\"14.00\">Normal</text>\n",
       "</g>\n",
       "<!-- var_sigma_raw_mu&#45;&gt;var_sigma_raw -->\n",
       "<g id=\"edge3\" class=\"edge\">\n",
       "<title>var_sigma_raw_mu&#45;&gt;var_sigma_raw</title>\n",
       "<path fill=\"none\" stroke=\"black\" d=\"M888.2,-428.31C875.25,-423.9 861.87,-419.61 849.12,-416 750.44,-388.02 634.06,-364.84 560.67,-351.38\"/>\n",
       "<polygon fill=\"black\" stroke=\"black\" points=\"561.67,-348.01 551.21,-349.66 560.42,-354.89 561.67,-348.01\"/>\n",
       "</g>\n",
       "<!-- var -->\n",
       "<g id=\"node9\" class=\"node\">\n",
       "<title>var</title>\n",
       "<ellipse fill=\"none\" stroke=\"black\" cx=\"357.12\" cy=\"-83.5\" rx=\"48.97\" ry=\"42.25\"/>\n",
       "<text text-anchor=\"middle\" x=\"357.12\" y=\"-96.07\" font-family=\"Times,serif\" font-size=\"14.00\">var</text>\n",
       "<text text-anchor=\"middle\" x=\"357.12\" y=\"-78.82\" font-family=\"Times,serif\" font-size=\"14.00\">~</text>\n",
       "<text text-anchor=\"middle\" x=\"357.12\" y=\"-61.57\" font-family=\"Times,serif\" font-size=\"14.00\">Normal</text>\n",
       "</g>\n",
       "<!-- var_mu&#45;&gt;var -->\n",
       "<g id=\"edge7\" class=\"edge\">\n",
       "<title>var_mu&#45;&gt;var</title>\n",
       "<path fill=\"none\" stroke=\"black\" d=\"M269.64,-183C285.02,-165.68 303.98,-144.34 320.31,-125.95\"/>\n",
       "<polygon fill=\"black\" stroke=\"black\" points=\"322.58,-128.67 326.6,-118.87 317.34,-124.02 322.58,-128.67\"/>\n",
       "</g>\n",
       "<!-- var_sigma -->\n",
       "<g id=\"node7\" class=\"node\">\n",
       "<title>var_sigma</title>\n",
       "<polygon fill=\"none\" stroke=\"black\" points=\"483.87,-247.12 370.37,-247.12 370.37,-187.37 483.87,-187.37 483.87,-247.12\"/>\n",
       "<text text-anchor=\"middle\" x=\"427.12\" y=\"-229.82\" font-family=\"Times,serif\" font-size=\"14.00\">var_sigma</text>\n",
       "<text text-anchor=\"middle\" x=\"427.12\" y=\"-212.57\" font-family=\"Times,serif\" font-size=\"14.00\">~</text>\n",
       "<text text-anchor=\"middle\" x=\"427.12\" y=\"-195.32\" font-family=\"Times,serif\" font-size=\"14.00\">Deterministic</text>\n",
       "</g>\n",
       "<!-- var_sigma_raw&#45;&gt;var_sigma -->\n",
       "<g id=\"edge6\" class=\"edge\">\n",
       "<title>var_sigma_raw&#45;&gt;var_sigma</title>\n",
       "<path fill=\"none\" stroke=\"black\" d=\"M473.04,-307.46C465.27,-292.36 455.68,-273.74 447.29,-257.42\"/>\n",
       "<polygon fill=\"black\" stroke=\"black\" points=\"450.62,-256.25 442.93,-248.96 444.39,-259.45 450.62,-256.25\"/>\n",
       "</g>\n",
       "<!-- var_sigma&#45;&gt;var -->\n",
       "<g id=\"edge8\" class=\"edge\">\n",
       "<title>var_sigma&#45;&gt;var</title>\n",
       "<path fill=\"none\" stroke=\"black\" d=\"M411.58,-187.01C403.02,-170.89 392.18,-150.48 382.42,-132.12\"/>\n",
       "<polygon fill=\"black\" stroke=\"black\" points=\"385.63,-130.7 377.85,-123.51 379.45,-133.99 385.63,-130.7\"/>\n",
       "</g>\n",
       "<!-- var_sigma_raw_offset -->\n",
       "<g id=\"node8\" class=\"node\">\n",
       "<title>var_sigma_raw_offset</title>\n",
       "<ellipse fill=\"none\" stroke=\"black\" cx=\"459.12\" cy=\"-458.25\" rx=\"119.5\" ry=\"42.25\"/>\n",
       "<text text-anchor=\"middle\" x=\"459.12\" y=\"-470.82\" font-family=\"Times,serif\" font-size=\"14.00\">var_sigma_raw_offset</text>\n",
       "<text text-anchor=\"middle\" x=\"459.12\" y=\"-453.57\" font-family=\"Times,serif\" font-size=\"14.00\">~</text>\n",
       "<text text-anchor=\"middle\" x=\"459.12\" y=\"-436.32\" font-family=\"Times,serif\" font-size=\"14.00\">Normal</text>\n",
       "</g>\n",
       "<!-- var_sigma_raw_offset&#45;&gt;var_sigma_raw -->\n",
       "<g id=\"edge5\" class=\"edge\">\n",
       "<title>var_sigma_raw_offset&#45;&gt;var_sigma_raw</title>\n",
       "<path fill=\"none\" stroke=\"black\" d=\"M469.26,-415.8C472.18,-403.87 475.36,-390.87 478.27,-379\"/>\n",
       "<polygon fill=\"black\" stroke=\"black\" points=\"481.61,-380.07 480.59,-369.52 474.81,-378.4 481.61,-380.07\"/>\n",
       "</g>\n",
       "</g>\n",
       "</svg>\n"
      ],
      "text/plain": [
       "<graphviz.graphs.Digraph at 0x7f7c99df1cf0>"
      ]
     },
     "execution_count": 30,
     "metadata": {},
     "output_type": "execute_result"
    }
   ],
   "source": [
    "Prior.from_json(variable_2d_dict).graph()"
   ]
  },
  {
   "cell_type": "markdown",
   "id": "41abb828-e67b-4995-b20c-a83b965493c3",
   "metadata": {},
   "source": [
    "## Use in PyMC-Marketing\n",
    "\n",
    "Distributions will be expressed in this manner throughout the package including but not limited to: \n",
    "\n",
    "- MMM components\n",
    "    - media transformations\n",
    " \n",
    "### Backwards compatibility\n",
    "\n",
    "The `from_json` method will create a `Prior` instance from the previous format.\n",
    "\n",
    "For instance, take this previous configuration: "
   ]
  },
  {
   "cell_type": "code",
   "execution_count": 31,
   "id": "29e66da3-4fba-4f85-8379-f0d237d45123",
   "metadata": {},
   "outputs": [],
   "source": [
    "old_model_config = {\n",
    "    \"alpha\": {\n",
    "        \"dist\": \"Normal\",\n",
    "        \"kwargs\": {\n",
    "            \"mu\": 0,\n",
    "            \"sigma\": 1,\n",
    "        },\n",
    "    },\n",
    "    \"beta\": {\n",
    "        \"dist\": \"Laplace\",\n",
    "        \"kwargs\": {\n",
    "            \"mu\": 1,\n",
    "            \"b\": 0.5,\n",
    "        },\n",
    "    },\n",
    "}"
   ]
  },
  {
   "cell_type": "markdown",
   "id": "d63987c0-2525-4b12-8415-cd62dd66265f",
   "metadata": {},
   "source": [
    "This can be parsed with the `Prior.from_json` constructor for each key. Much more consise too!"
   ]
  },
  {
   "cell_type": "code",
   "execution_count": 32,
   "id": "92413026-9d9a-4424-b236-09f54b254545",
   "metadata": {},
   "outputs": [
    {
     "data": {
      "text/plain": [
       "{'alpha': Prior(\"Normal\", mu=0, sigma=1),\n",
       " 'beta': Prior(\"Laplace\", mu=1, b=0.5)}"
      ]
     },
     "execution_count": 32,
     "metadata": {},
     "output_type": "execute_result"
    }
   ],
   "source": [
    "new_model_config = {\n",
    "    name: Prior.from_json(key)\n",
    "    for name, key in\n",
    "    old_model_config.items()\n",
    "}\n",
    "\n",
    "new_model_config"
   ]
  },
  {
   "cell_type": "code",
   "execution_count": 33,
   "id": "1636ae9b-452c-4772-8b60-085c9b044154",
   "metadata": {},
   "outputs": [
    {
     "data": {
      "text/plain": [
       "{'dist': 'Normal', 'kwargs': {'mu': 0, 'sigma': 1}}"
      ]
     },
     "execution_count": 33,
     "metadata": {},
     "output_type": "execute_result"
    }
   ],
   "source": [
    "new_model_config[\"alpha\"].to_json()"
   ]
  },
  {
   "cell_type": "markdown",
   "id": "01370c37-2e03-46bc-98c5-fcd8bae1b8e7",
   "metadata": {},
   "source": [
    "The `parse_model_config` function will do just this and is used internally. It also provides some deprecation warnings."
   ]
  },
  {
   "cell_type": "code",
   "execution_count": 34,
   "id": "54e8e716-b2c9-4019-8620-2616f9783576",
   "metadata": {},
   "outputs": [
    {
     "data": {
      "text/plain": [
       "{'alpha': Prior(\"Normal\", mu=0, sigma=1),\n",
       " 'beta': Prior(\"Laplace\", mu=1, b=0.5)}"
      ]
     },
     "execution_count": 34,
     "metadata": {},
     "output_type": "execute_result"
    }
   ],
   "source": [
    "parse_model_config(old_model_config)"
   ]
  }
 ],
 "metadata": {
  "kernelspec": {
   "display_name": "Python 3 (ipykernel)",
   "language": "python",
   "name": "python3"
  },
  "language_info": {
   "codemirror_mode": {
    "name": "ipython",
    "version": 3
   },
   "file_extension": ".py",
   "mimetype": "text/x-python",
   "name": "python",
   "nbconvert_exporter": "python",
   "pygments_lexer": "ipython3",
   "version": "3.10.13"
  }
 },
 "nbformat": 4,
 "nbformat_minor": 5
}
