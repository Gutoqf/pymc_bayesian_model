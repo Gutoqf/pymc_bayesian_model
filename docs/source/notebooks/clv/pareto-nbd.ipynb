{
  "cells": [
    {
      "cell_type": "markdown",
      "source": [
        "# Pareto-NBD model\n",
        "\n",
        "Comparison with lifetimes"
      ],
      "metadata": {
        "colab_type": "text",
        "id": "view-in-github"
      },
      "id": "d9de8716"
    },
    {
      "cell_type": "markdown",
      "source": [
        "\n",
        "\n",
        "#### References:\n",
        "----------\n",
        "David C. Schmittlein, Donald G. Morrison and Richard Colombo\n",
        "Management Science,Vol. 33, No. 1 (Jan., 1987), pp. 1-24\n",
        "\"Counting Your Customers: Who Are They and What Will They Do Next,\"\n",
        "    \n",
        "Fader, Peter & G. S. Hardie, Bruce (2005).\n",
        "[\"A Note on Deriving the Pareto/NBD Model and Related Expressions.\"](http://brucehardie.com/notes/009/pareto_nbd_derivations_2005-11-05.pdf)"
      ],
      "metadata": {},
      "id": "0e85a61d"
    },
    {
      "cell_type": "code",
      "source": [
        "import arviz as az\n",
        "import matplotlib.pyplot as plt\n",
        "import pymc as pm"
      ],
      "outputs": [],
      "execution_count": 1,
      "metadata": {},
      "id": "813aa3e6"
    },
    {
      "cell_type": "code",
      "source": [
        "from pymc_marketing.clv.distributions import ParetoNBD"
      ],
      "outputs": [],
      "execution_count": 2,
      "metadata": {},
      "id": "b9df0827"
    },
    {
      "cell_type": "code",
      "source": [
        "# Extra dependency for this notebook\n",
        "from lifetimes.datasets import load_cdnow_summary\n",
        "from lifetimes import ParetoNBDFitter"
      ],
      "outputs": [],
      "execution_count": 3,
      "metadata": {},
      "id": "9f29628e"
    },
    {
      "cell_type": "markdown",
      "source": [
        "## Load data"
      ],
      "metadata": {},
      "id": "b4e9df33"
    },
    {
      "cell_type": "code",
      "source": [
        "df = load_cdnow_summary(index_col=[0])\n",
        "df.head()"
      ],
      "outputs": [
        {
          "output_type": "execute_result",
          "execution_count": 4,
          "data": {
            "text/html": "<div>\n<style scoped>\n    .dataframe tbody tr th:only-of-type {\n        vertical-align: middle;\n    }\n\n    .dataframe tbody tr th {\n        vertical-align: top;\n    }\n\n    .dataframe thead th {\n        text-align: right;\n    }\n</style>\n<table border=\"1\" class=\"dataframe\">\n  <thead>\n    <tr style=\"text-align: right;\">\n      <th></th>\n      <th>frequency</th>\n      <th>recency</th>\n      <th>T</th>\n      <th>monetary_value</th>\n    </tr>\n    <tr>\n      <th>customer_id</th>\n      <th></th>\n      <th></th>\n      <th></th>\n      <th></th>\n    </tr>\n  </thead>\n  <tbody>\n    <tr>\n      <th>1</th>\n      <td>2</td>\n      <td>30.43</td>\n      <td>38.86</td>\n      <td>22.35</td>\n    </tr>\n    <tr>\n      <th>2</th>\n      <td>1</td>\n      <td>1.71</td>\n      <td>38.86</td>\n      <td>11.77</td>\n    </tr>\n    <tr>\n      <th>6</th>\n      <td>7</td>\n      <td>29.43</td>\n      <td>38.86</td>\n      <td>73.74</td>\n    </tr>\n    <tr>\n      <th>7</th>\n      <td>1</td>\n      <td>5.00</td>\n      <td>38.86</td>\n      <td>11.77</td>\n    </tr>\n    <tr>\n      <th>9</th>\n      <td>2</td>\n      <td>35.71</td>\n      <td>38.86</td>\n      <td>25.55</td>\n    </tr>\n  </tbody>\n</table>\n</div>",
            "text/plain": "             frequency  recency      T  monetary_value\ncustomer_id                                           \n1                    2    30.43  38.86           22.35\n2                    1     1.71  38.86           11.77\n6                    7    29.43  38.86           73.74\n7                    1     5.00  38.86           11.77\n9                    2    35.71  38.86           25.55"
          },
          "metadata": {}
        }
      ],
      "execution_count": 4,
      "metadata": {
        "id": "a374e74d"
      },
      "id": "bae5c34c"
    },
    {
      "cell_type": "code",
      "source": [
        "params = (0.553, 10.578, 0.606, 11.669)\r\n",
        "\r\n",
        "x = df[\"frequency\"].values\r\n",
        "t_x = df[\"recency\"].values\r\n",
        "T = df[\"T\"].values"
      ],
      "outputs": [],
      "execution_count": null,
      "metadata": {
        "jupyter": {
          "source_hidden": false,
          "outputs_hidden": false
        },
        "nteract": {
          "transient": {
            "deleting": false
          }
        }
      },
      "id": "3f1da194-0663-42f2-be86-a24c08d81a89"
    },
    {
      "cell_type": "markdown",
      "source": [
        "## Lifetimes implementation"
      ],
      "metadata": {},
      "id": "df93d769"
    },
    {
      "cell_type": "code",
      "source": [
        "ParetoNBDFitter()._conditional_log_likelihood(params, x, t_x, T)"
      ],
      "outputs": [],
      "execution_count": null,
      "metadata": {
        "jupyter": {
          "source_hidden": false,
          "outputs_hidden": false
        },
        "nteract": {
          "transient": {
            "deleting": false
          }
        }
      },
      "id": "446ecc25-158d-45cf-9c08-8b119a70140c"
    },
    {
      "cell_type": "markdown",
      "source": [
        "## PyMC-Marketing Implementation"
      ],
      "metadata": {
        "id": "a2z_ZcC74wPI"
      },
      "id": "4ff387fd"
    },
    {
      "cell_type": "code",
      "source": [
        "pareto_nbd = ParetoNBD.dist(r=params[0], alpha=params[1], s=params[2], beta=params[3], T=T)\r\n",
        "pm.logp(pareto_nbd, [t_x, x])).eval()"
      ],
      "outputs": [],
      "execution_count": null,
      "metadata": {
        "jupyter": {
          "source_hidden": false,
          "outputs_hidden": false
        },
        "nteract": {
          "transient": {
            "deleting": false
          }
        }
      },
      "id": "912887ba-adbb-4b19-9ad9-12a8e64e766e"
    }
  ],
  "metadata": {
    "colab": {
      "include_colab_link": true,
      "name": "gamma-gamma model",
      "provenance": []
    },
    "hide_input": false,
    "kernelspec": {
      "display_name": "pymmmc",
      "language": "python",
      "name": "pymmmc"
    },
    "language_info": {
      "codemirror_mode": {
        "name": "ipython",
        "version": 3
      },
      "file_extension": ".py",
      "mimetype": "text/x-python",
      "name": "python",
      "nbconvert_exporter": "python",
      "pygments_lexer": "ipython3",
      "version": "3.10.8"
    },
    "toc": {
      "toc_position": {},
      "skip_h1_title": false,
      "number_sections": true,
      "title_cell": "Table of Contents",
      "toc_window_display": false,
      "base_numbering": 1,
      "toc_section_display": true,
      "title_sidebar": "Contents",
      "toc_cell": false,
      "nav_menu": {},
      "sideBar": true
    },
    "nteract": {
      "version": "nteract-front-end@1.0.0"
    }
  },
  "nbformat": 4,
  "nbformat_minor": 5
}