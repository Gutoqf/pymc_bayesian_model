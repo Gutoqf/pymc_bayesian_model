{
 "cells": [
  {
   "cell_type": "markdown",
   "id": "d9de8716",
   "metadata": {
    "colab_type": "text",
    "id": "view-in-github"
   },
   "source": [
    "# Pareto-NBD Population Model"
   ]
  },
  {
   "cell_type": "markdown",
   "id": "0e85a61d",
   "metadata": {},
   "source": [
    "\n",
    "\n",
    "#### References:\n",
    "----------\n",
    "David C. Schmittlein, Donald G. Morrison and Richard Colombo\n",
    "Management Science,Vol. 33, No. 1 (Jan., 1987), pp. 1-24\n",
    "\"Counting Your Customers: Who Are They and What Will They Do Next,\"\n",
    "    \n",
    "Fader, Peter & G. S. Hardie, Bruce (2005).\n",
    "[\"A Note on Deriving the Pareto/NBD Model and Related Expressions.\"](http://brucehardie.com/notes/009/pareto_nbd_derivations_2005-11-05.pdf)"
   ]
  },
  {
   "cell_type": "code",
   "execution_count": 1,
   "id": "813aa3e6",
   "metadata": {},
   "outputs": [],
   "source": [
    "import arviz as az\n",
    "import matplotlib.pyplot as plt\n",
    "import seaborn as sns\n",
    "import pandas as pd\n",
    "import pymc as pm\n",
    "import numpy as np\n",
    "import warnings\n",
    "\n",
    "from lifetimes import ParetoNBDFitter\n",
    "\n",
    "from pymc_marketing.clv.models.pareto_nbd import ParetoNBDModel\n",
    "from pymc_marketing.clv.distributions import ParetoNBD\n",
    "from pymc_marketing.clv.utils import clv_summary"
   ]
  },
  {
   "cell_type": "markdown",
   "id": "b4e9df33",
   "metadata": {},
   "source": [
    "## Load Data\n",
    "\n",
    "We will be working with the CDNOW Sample dataset, a common benchmark dataset in research for CLV and BTYD models"
   ]
  },
  {
   "cell_type": "code",
   "execution_count": 2,
   "id": "bae5c34c",
   "metadata": {
    "id": "a374e74d"
   },
   "outputs": [
    {
     "name": "stdout",
     "output_type": "stream",
     "text": [
      "<class 'pandas.core.frame.DataFrame'>\n",
      "RangeIndex: 2357 entries, 0 to 2356\n",
      "Data columns (total 4 columns):\n",
      " #   Column          Non-Null Count  Dtype  \n",
      "---  ------          --------------  -----  \n",
      " 0   frequency       2357 non-null   int64  \n",
      " 1   recency         2357 non-null   float64\n",
      " 2   T               2357 non-null   float64\n",
      " 3   monetary_value  2357 non-null   float64\n",
      "dtypes: float64(3), int64(1)\n",
      "memory usage: 73.8 KB\n"
     ]
    }
   ],
   "source": [
    "url_cdnow_rfm = \"https://raw.githubusercontent.com/pymc-labs/pymc-marketing/main/datasets/clv_quickstart.csv\"\n",
    "url_cdnow_trans = \"https://raw.githubusercontent.com/pymc-labs/pymc-marketing/main/tests/clv/datasets/cdnow_transactions.csv\"\n",
    "df = pd.read_csv(url_cdnow_rfm)\n",
    "\n",
    "df.info()"
   ]
  },
  {
   "cell_type": "code",
   "execution_count": 3,
   "id": "3fb7a9fa",
   "metadata": {},
   "outputs": [
    {
     "data": {
      "text/html": [
       "<div>\n",
       "<style scoped>\n",
       "    .dataframe tbody tr th:only-of-type {\n",
       "        vertical-align: middle;\n",
       "    }\n",
       "\n",
       "    .dataframe tbody tr th {\n",
       "        vertical-align: top;\n",
       "    }\n",
       "\n",
       "    .dataframe thead th {\n",
       "        text-align: right;\n",
       "    }\n",
       "</style>\n",
       "<table border=\"1\" class=\"dataframe\">\n",
       "  <thead>\n",
       "    <tr style=\"text-align: right;\">\n",
       "      <th></th>\n",
       "      <th>frequency</th>\n",
       "      <th>recency</th>\n",
       "      <th>T</th>\n",
       "      <th>monetary_value</th>\n",
       "    </tr>\n",
       "  </thead>\n",
       "  <tbody>\n",
       "    <tr>\n",
       "      <th>0</th>\n",
       "      <td>2</td>\n",
       "      <td>30.43</td>\n",
       "      <td>38.86</td>\n",
       "      <td>22.35</td>\n",
       "    </tr>\n",
       "    <tr>\n",
       "      <th>1</th>\n",
       "      <td>1</td>\n",
       "      <td>1.71</td>\n",
       "      <td>38.86</td>\n",
       "      <td>11.77</td>\n",
       "    </tr>\n",
       "    <tr>\n",
       "      <th>2</th>\n",
       "      <td>0</td>\n",
       "      <td>0.00</td>\n",
       "      <td>38.86</td>\n",
       "      <td>0.00</td>\n",
       "    </tr>\n",
       "    <tr>\n",
       "      <th>3</th>\n",
       "      <td>0</td>\n",
       "      <td>0.00</td>\n",
       "      <td>38.86</td>\n",
       "      <td>0.00</td>\n",
       "    </tr>\n",
       "    <tr>\n",
       "      <th>4</th>\n",
       "      <td>0</td>\n",
       "      <td>0.00</td>\n",
       "      <td>38.86</td>\n",
       "      <td>0.00</td>\n",
       "    </tr>\n",
       "  </tbody>\n",
       "</table>\n",
       "</div>"
      ],
      "text/plain": [
       "   frequency  recency      T  monetary_value\n",
       "0          2    30.43  38.86           22.35\n",
       "1          1     1.71  38.86           11.77\n",
       "2          0     0.00  38.86            0.00\n",
       "3          0     0.00  38.86            0.00\n",
       "4          0     0.00  38.86            0.00"
      ]
     },
     "execution_count": 3,
     "metadata": {},
     "output_type": "execute_result"
    }
   ],
   "source": [
    "df.head(5)"
   ]
  },
  {
   "cell_type": "code",
   "execution_count": 4,
   "id": "88951ead",
   "metadata": {},
   "outputs": [
    {
     "data": {
      "text/html": [
       "<div>\n",
       "<style scoped>\n",
       "    .dataframe tbody tr th:only-of-type {\n",
       "        vertical-align: middle;\n",
       "    }\n",
       "\n",
       "    .dataframe tbody tr th {\n",
       "        vertical-align: top;\n",
       "    }\n",
       "\n",
       "    .dataframe thead th {\n",
       "        text-align: right;\n",
       "    }\n",
       "</style>\n",
       "<table border=\"1\" class=\"dataframe\">\n",
       "  <thead>\n",
       "    <tr style=\"text-align: right;\">\n",
       "      <th></th>\n",
       "      <th>frequency</th>\n",
       "      <th>recency</th>\n",
       "      <th>T</th>\n",
       "      <th>monetary_value</th>\n",
       "    </tr>\n",
       "  </thead>\n",
       "  <tbody>\n",
       "    <tr>\n",
       "      <th>count</th>\n",
       "      <td>2357.000000</td>\n",
       "      <td>2357.000000</td>\n",
       "      <td>2357.000000</td>\n",
       "      <td>2357.000000</td>\n",
       "    </tr>\n",
       "    <tr>\n",
       "      <th>mean</th>\n",
       "      <td>1.042427</td>\n",
       "      <td>6.845787</td>\n",
       "      <td>32.715829</td>\n",
       "      <td>14.079045</td>\n",
       "    </tr>\n",
       "    <tr>\n",
       "      <th>std</th>\n",
       "      <td>2.190014</td>\n",
       "      <td>10.731400</td>\n",
       "      <td>3.326906</td>\n",
       "      <td>25.760960</td>\n",
       "    </tr>\n",
       "    <tr>\n",
       "      <th>min</th>\n",
       "      <td>0.000000</td>\n",
       "      <td>0.000000</td>\n",
       "      <td>27.000000</td>\n",
       "      <td>0.000000</td>\n",
       "    </tr>\n",
       "    <tr>\n",
       "      <th>25%</th>\n",
       "      <td>0.000000</td>\n",
       "      <td>0.000000</td>\n",
       "      <td>29.860000</td>\n",
       "      <td>0.000000</td>\n",
       "    </tr>\n",
       "    <tr>\n",
       "      <th>50%</th>\n",
       "      <td>0.000000</td>\n",
       "      <td>0.000000</td>\n",
       "      <td>32.710000</td>\n",
       "      <td>0.000000</td>\n",
       "    </tr>\n",
       "    <tr>\n",
       "      <th>75%</th>\n",
       "      <td>1.000000</td>\n",
       "      <td>12.000000</td>\n",
       "      <td>35.430000</td>\n",
       "      <td>21.360000</td>\n",
       "    </tr>\n",
       "    <tr>\n",
       "      <th>max</th>\n",
       "      <td>29.000000</td>\n",
       "      <td>38.430000</td>\n",
       "      <td>38.860000</td>\n",
       "      <td>299.630000</td>\n",
       "    </tr>\n",
       "  </tbody>\n",
       "</table>\n",
       "</div>"
      ],
      "text/plain": [
       "         frequency      recency            T  monetary_value\n",
       "count  2357.000000  2357.000000  2357.000000     2357.000000\n",
       "mean      1.042427     6.845787    32.715829       14.079045\n",
       "std       2.190014    10.731400     3.326906       25.760960\n",
       "min       0.000000     0.000000    27.000000        0.000000\n",
       "25%       0.000000     0.000000    29.860000        0.000000\n",
       "50%       0.000000     0.000000    32.710000        0.000000\n",
       "75%       1.000000    12.000000    35.430000       21.360000\n",
       "max      29.000000    38.430000    38.860000      299.630000"
      ]
     },
     "execution_count": 4,
     "metadata": {},
     "output_type": "execute_result"
    }
   ],
   "source": [
    "df.describe()"
   ]
  },
  {
   "cell_type": "code",
   "execution_count": 5,
   "id": "3f1da194-0663-42f2-be86-a24c08d81a89",
   "metadata": {
    "jupyter": {
     "outputs_hidden": false,
     "source_hidden": false
    },
    "nteract": {
     "transient": {
      "deleting": false
     }
    }
   },
   "outputs": [],
   "source": [
    "x = df[\"frequency\"].values\n",
    "t_x = df[\"recency\"].values\n",
    "T = df[\"T\"].values"
   ]
  },
  {
   "cell_type": "markdown",
   "id": "df93d769",
   "metadata": {},
   "source": [
    "## Lifetimes Comparison"
   ]
  },
  {
   "cell_type": "code",
   "execution_count": 6,
   "id": "446ecc25-158d-45cf-9c08-8b119a70140c",
   "metadata": {
    "jupyter": {
     "outputs_hidden": false,
     "source_hidden": false
    },
    "nteract": {
     "transient": {
      "deleting": false
     }
    }
   },
   "outputs": [
    {
     "data": {
      "text/plain": [
       "<lifetimes.ParetoNBDFitter: fitted with 2357 subjects, alpha: 10.58, beta: 11.67, r: 0.55, s: 0.61>"
      ]
     },
     "execution_count": 6,
     "metadata": {},
     "output_type": "execute_result"
    }
   ],
   "source": [
    "ParetoNBDFitter().fit(x, t_x, T)"
   ]
  },
  {
   "cell_type": "code",
   "execution_count": 7,
   "id": "ac44120a",
   "metadata": {},
   "outputs": [
    {
     "data": {
      "text/plain": [
       "-9595.008530490335"
      ]
     },
     "execution_count": 7,
     "metadata": {},
     "output_type": "execute_result"
    }
   ],
   "source": [
    "lt_fit = {\"r\": 0.55, \"alpha\": 10.58, \"s\": 0.61, \"beta\": 11.67}\n",
    "ParetoNBDFitter._conditional_log_likelihood(list(lt_fit.values()), x, t_x, T).sum()"
   ]
  },
  {
   "cell_type": "markdown",
   "id": "4ff387fd",
   "metadata": {
    "id": "a2z_ZcC74wPI"
   },
   "source": [
    "## PyMC Comparison"
   ]
  },
  {
   "cell_type": "markdown",
   "id": "ce7a091c",
   "metadata": {},
   "source": [
    "Construct an equivalent model with PyMC to illustrate the inner workings of the pymc-marketing model for comparison. \n",
    "\n",
    "This model uses Weibull default priors. For an interactive PDF go here:\n",
    "https://homepage.divms.uiowa.edu/~mbognar/applets/weibull.html\n",
    "\n",
    "The Weibull distribution is an intuitive prior distribution choice for the Pareto/NBD model because the `beta` parameter loosely corresponds to the expected value, and an `alpha` parameter value of 2 will rule out values which may cause sampling instability without being too restrictive. The Weibull distribution is also a variant of the generalized Gamma distribution that forms the conjugate priors of this model."
   ]
  },
  {
   "cell_type": "code",
   "execution_count": 8,
   "id": "cfe0a0a4",
   "metadata": {},
   "outputs": [
    {
     "data": {
      "text/plain": [
       "<AxesSubplot:ylabel='Density'>"
      ]
     },
     "execution_count": 8,
     "metadata": {},
     "output_type": "execute_result"
    },
    {
     "data": {
      "image/png": "[encoded data removed]",
      "text/plain": [
       "<Figure size 640x480 with 1 Axes>"
      ]
     },
     "metadata": {},
     "output_type": "display_data"
    }
   ],
   "source": [
    "shape_prior = pm.draw(pm.Weibull.dist(alpha=2,beta=1, size=10_000))\n",
    "scale_prior = pm.draw(pm.Weibull.dist(alpha=2,beta=10, size=10_000))\n",
    "\n",
    "sns.kdeplot(shape_prior)\n",
    "sns.kdeplot(scale_prior)\n"
   ]
  },
  {
   "cell_type": "code",
   "execution_count": 9,
   "id": "912887ba-adbb-4b19-9ad9-12a8e64e766e",
   "metadata": {
    "jupyter": {
     "outputs_hidden": false,
     "source_hidden": false
    },
    "nteract": {
     "transient": {
      "deleting": false
     }
    }
   },
   "outputs": [
    {
     "name": "stderr",
     "output_type": "stream",
     "text": [
      "/Users/coltallen/miniconda3/envs/pymc-dev/lib/python3.8/site-packages/pytensor/tensor/rewriting/elemwise.py:685: UserWarning: Optimization Warning: The Op hyp2f1 does not provide a C implementation. As well as being potentially slow, this also disables loop fusion.\n",
      "  warn(\n"
     ]
    },
    {
     "data": {
      "text/plain": [
       "array(-9595.00853049)"
      ]
     },
     "execution_count": 9,
     "metadata": {},
     "output_type": "execute_result"
    }
   ],
   "source": [
    "with pm.Model() as m1:\n",
    "    r = pm.Weibull(\"purchase_shape\",alpha=3, beta=1)\n",
    "    alpha = pm.Weibull(\"purchase_scale\", alpha=3, beta=10)\n",
    "    s = pm.Weibull(\"churn_shape\",alpha=3, beta=1)\n",
    "    beta = pm.Weibull(\"churn_scale\", alpha=3, beta=10)\n",
    "    llike = ParetoNBD(\"llike\", r=r, alpha=alpha, s=s, beta=beta, T=T, observed=np.stack((t_x, x), axis=1))\n",
    "\n",
    "pm.logp(llike, np.stack((t_x, x), axis=1)).sum().eval(dict(zip((r, alpha, s, beta), lt_fit.values())))"
   ]
  },
  {
   "cell_type": "markdown",
   "id": "3f695c17",
   "metadata": {},
   "source": [
    "NUTS sampling does not converge properly due to unstable gradients in the ParetoNBD logp function, so we must use the Slice Sampler instead.\n",
    "\n",
    "Note the rhat statistic warning here: This means the MCMC sampling chains are not identically distributed. It is recommended to do at least 2000 draws with the Slice Sampler."
   ]
  },
  {
   "cell_type": "code",
   "execution_count": 10,
   "id": "bd1e47f1",
   "metadata": {},
   "outputs": [
    {
     "name": "stderr",
     "output_type": "stream",
     "text": [
      "Multiprocess sampling (4 chains in 4 jobs)\n",
      "CompoundStep\n",
      ">Slice: [purchase_shape]\n",
      ">Slice: [purchase_scale]\n",
      ">Slice: [churn_shape]\n",
      ">Slice: [churn_scale]\n"
     ]
    },
    {
     "data": {
      "text/html": [
       "\n",
       "<style>\n",
       "    /* Turns off some styling */\n",
       "    progress {\n",
       "        /* gets rid of default border in Firefox and Opera. */\n",
       "        border: none;\n",
       "        /* Needs to be in here for Safari polyfill so background images work as expected. */\n",
       "        background-size: auto;\n",
       "    }\n",
       "    progress:not([value]), progress:not([value])::-webkit-progress-bar {\n",
       "        background: repeating-linear-gradient(45deg, #7e7e7e, #7e7e7e 10px, #5c5c5c 10px, #5c5c5c 20px);\n",
       "    }\n",
       "    .progress-bar-interrupted, .progress-bar-interrupted::-webkit-progress-bar {\n",
       "        background: #F44336;\n",
       "    }\n",
       "</style>\n"
      ],
      "text/plain": [
       "<IPython.core.display.HTML object>"
      ]
     },
     "metadata": {},
     "output_type": "display_data"
    },
    {
     "data": {
      "text/html": [
       "\n",
       "    <div>\n",
       "      <progress value='6800' class='' max='6800' style='width:300px; height:20px; vertical-align: middle;'></progress>\n",
       "      100.00% [6800/6800 00:19&lt;00:00 Sampling 4 chains, 0 divergences]\n",
       "    </div>\n",
       "    "
      ],
      "text/plain": [
       "<IPython.core.display.HTML object>"
      ]
     },
     "metadata": {},
     "output_type": "display_data"
    },
    {
     "name": "stderr",
     "output_type": "stream",
     "text": [
      "Sampling 4 chains for 1_000 tune and 700 draw iterations (4_000 + 2_800 draws total) took 19 seconds.\n",
      "The rhat statistic is larger than 1.01 for some parameters. This indicates problems during sampling. See https://arxiv.org/abs/1903.08008 for details\n",
      "The effective sample size per chain is smaller than 100 for some parameters.  A higher number is needed for reliable rhat and ess computation. See https://arxiv.org/abs/1903.08008 for details\n"
     ]
    },
    {
     "data": {
      "text/html": [
       "\n",
       "<style>\n",
       "    /* Turns off some styling */\n",
       "    progress {\n",
       "        /* gets rid of default border in Firefox and Opera. */\n",
       "        border: none;\n",
       "        /* Needs to be in here for Safari polyfill so background images work as expected. */\n",
       "        background-size: auto;\n",
       "    }\n",
       "    progress:not([value]), progress:not([value])::-webkit-progress-bar {\n",
       "        background: repeating-linear-gradient(45deg, #7e7e7e, #7e7e7e 10px, #5c5c5c 10px, #5c5c5c 20px);\n",
       "    }\n",
       "    .progress-bar-interrupted, .progress-bar-interrupted::-webkit-progress-bar {\n",
       "        background: #F44336;\n",
       "    }\n",
       "</style>\n"
      ],
      "text/plain": [
       "<IPython.core.display.HTML object>"
      ]
     },
     "metadata": {},
     "output_type": "display_data"
    },
    {
     "data": {
      "text/html": [
       "\n",
       "    <div>\n",
       "      <progress value='19' class='' max='19' style='width:300px; height:20px; vertical-align: middle;'></progress>\n",
       "      100.00% [19/19 00:11&lt;00:00 logp = -9,600, ||grad|| = 1.0908]\n",
       "    </div>\n",
       "    "
      ],
      "text/plain": [
       "<IPython.core.display.HTML object>"
      ]
     },
     "metadata": {},
     "output_type": "display_data"
    },
    {
     "name": "stdout",
     "output_type": "stream",
     "text": [
      "\n"
     ]
    }
   ],
   "source": [
    "with m1:\n",
    "    # Suppress Op hyp2f1 warnings about not having a C implementation\n",
    "    with warnings.catch_warnings():\n",
    "        warnings.filterwarnings(\n",
    "                action='ignore',\n",
    "                category=UserWarning)       \n",
    "        idata_mcmc = pm.sample(step=pm.Slice(),draws=700, tune=1000)\n",
    "        idata_map = pm.find_MAP()"
   ]
  },
  {
   "cell_type": "code",
   "execution_count": 11,
   "id": "463201ce",
   "metadata": {},
   "outputs": [
    {
     "data": {
      "text/plain": [
       "{'purchase_shape': array(0.56178145),\n",
       " 'purchase_scale': array(10.62246461),\n",
       " 'churn_shape': array(0.56925913),\n",
       " 'churn_scale': array(10.23079649)}"
      ]
     },
     "execution_count": 11,
     "metadata": {},
     "output_type": "execute_result"
    },
    {
     "data": {
      "image/png": "[encoded data removed]",
      "text/plain": [
       "<Figure size 2944x552 with 4 Axes>"
      ]
     },
     "metadata": {},
     "output_type": "display_data"
    }
   ],
   "source": [
    "az.plot_posterior(idata_mcmc, ref_val=list(lt_fit.values()))\n",
    "\n",
    "{k: idata_map[k] for k in ['purchase_shape','purchase_scale','churn_shape','churn_scale']}"
   ]
  },
  {
   "cell_type": "code",
   "execution_count": 12,
   "id": "50ef1989",
   "metadata": {},
   "outputs": [
    {
     "data": {
      "text/html": [
       "\n",
       "<style>\n",
       "    /* Turns off some styling */\n",
       "    progress {\n",
       "        /* gets rid of default border in Firefox and Opera. */\n",
       "        border: none;\n",
       "        /* Needs to be in here for Safari polyfill so background images work as expected. */\n",
       "        background-size: auto;\n",
       "    }\n",
       "    progress:not([value]), progress:not([value])::-webkit-progress-bar {\n",
       "        background: repeating-linear-gradient(45deg, #7e7e7e, #7e7e7e 10px, #5c5c5c 10px, #5c5c5c 20px);\n",
       "    }\n",
       "    .progress-bar-interrupted, .progress-bar-interrupted::-webkit-progress-bar {\n",
       "        background: #F44336;\n",
       "    }\n",
       "</style>\n"
      ],
      "text/plain": [
       "<IPython.core.display.HTML object>"
      ]
     },
     "metadata": {},
     "output_type": "display_data"
    },
    {
     "data": {
      "text/html": [
       "\n",
       "    <div>\n",
       "      <progress value='12' class='' max='12' style='width:300px; height:20px; vertical-align: middle;'></progress>\n",
       "      100.00% [12/12 00:07&lt;00:00 logp = -9,602.7, ||grad|| = 0.07945]\n",
       "    </div>\n",
       "    "
      ],
      "text/plain": [
       "<IPython.core.display.HTML object>"
      ]
     },
     "metadata": {},
     "output_type": "display_data"
    },
    {
     "name": "stdout",
     "output_type": "stream",
     "text": [
      "\n"
     ]
    },
    {
     "data": {
      "text/plain": [
       "r         0.576\n",
       "alpha    10.623\n",
       "s         0.601\n",
       "beta     10.336\n",
       "Name: value, dtype: float64"
      ]
     },
     "execution_count": 12,
     "metadata": {},
     "output_type": "execute_result"
    }
   ],
   "source": [
    "# Suppress Op hyp2f1 warnings about not having a C implementation\n",
    "with warnings.catch_warnings():\n",
    "    warnings.filterwarnings(\n",
    "            action='ignore',\n",
    "            category=UserWarning)       \n",
    "\n",
    "    pnbd_map = ParetoNBDModel(df.index,x,t_x,T)\n",
    "\n",
    "    pnbd_map.fit(fit_method='map')\n",
    "\n",
    "pnbd_map.fit_summary()"
   ]
  },
  {
   "cell_type": "code",
   "execution_count": 18,
   "id": "78ddaa4a",
   "metadata": {},
   "outputs": [
    {
     "name": "stderr",
     "output_type": "stream",
     "text": [
      "Multiprocess sampling (4 chains in 4 jobs)\n",
      "CompoundStep\n",
      ">Slice: [r]\n",
      ">Slice: [alpha]\n",
      ">Slice: [s]\n",
      ">Slice: [beta]\n"
     ]
    },
    {
     "data": {
      "text/html": [
       "\n",
       "<style>\n",
       "    /* Turns off some styling */\n",
       "    progress {\n",
       "        /* gets rid of default border in Firefox and Opera. */\n",
       "        border: none;\n",
       "        /* Needs to be in here for Safari polyfill so background images work as expected. */\n",
       "        background-size: auto;\n",
       "    }\n",
       "    progress:not([value]), progress:not([value])::-webkit-progress-bar {\n",
       "        background: repeating-linear-gradient(45deg, #7e7e7e, #7e7e7e 10px, #5c5c5c 10px, #5c5c5c 20px);\n",
       "    }\n",
       "    .progress-bar-interrupted, .progress-bar-interrupted::-webkit-progress-bar {\n",
       "        background: #F44336;\n",
       "    }\n",
       "</style>\n"
      ],
      "text/plain": [
       "<IPython.core.display.HTML object>"
      ]
     },
     "metadata": {},
     "output_type": "display_data"
    },
    {
     "data": {
      "text/html": [
       "\n",
       "    <div>\n",
       "      <progress value='12000' class='' max='12000' style='width:300px; height:20px; vertical-align: middle;'></progress>\n",
       "      100.00% [12000/12000 00:31&lt;00:00 Sampling 4 chains, 0 divergences]\n",
       "    </div>\n",
       "    "
      ],
      "text/plain": [
       "<IPython.core.display.HTML object>"
      ]
     },
     "metadata": {},
     "output_type": "display_data"
    },
    {
     "name": "stderr",
     "output_type": "stream",
     "text": [
      "Sampling 4 chains for 1_000 tune and 2_000 draw iterations (4_000 + 8_000 draws total) took 32 seconds.\n"
     ]
    },
    {
     "data": {
      "text/html": [
       "<div>\n",
       "<style scoped>\n",
       "    .dataframe tbody tr th:only-of-type {\n",
       "        vertical-align: middle;\n",
       "    }\n",
       "\n",
       "    .dataframe tbody tr th {\n",
       "        vertical-align: top;\n",
       "    }\n",
       "\n",
       "    .dataframe thead th {\n",
       "        text-align: right;\n",
       "    }\n",
       "</style>\n",
       "<table border=\"1\" class=\"dataframe\">\n",
       "  <thead>\n",
       "    <tr style=\"text-align: right;\">\n",
       "      <th></th>\n",
       "      <th>mean</th>\n",
       "      <th>sd</th>\n",
       "      <th>hdi_3%</th>\n",
       "      <th>hdi_97%</th>\n",
       "      <th>mcse_mean</th>\n",
       "      <th>mcse_sd</th>\n",
       "      <th>ess_bulk</th>\n",
       "      <th>ess_tail</th>\n",
       "      <th>r_hat</th>\n",
       "    </tr>\n",
       "  </thead>\n",
       "  <tbody>\n",
       "    <tr>\n",
       "      <th>r</th>\n",
       "      <td>0.580</td>\n",
       "      <td>0.035</td>\n",
       "      <td>0.515</td>\n",
       "      <td>0.645</td>\n",
       "      <td>0.001</td>\n",
       "      <td>0.001</td>\n",
       "      <td>1613.0</td>\n",
       "      <td>2444.0</td>\n",
       "      <td>1.0</td>\n",
       "    </tr>\n",
       "    <tr>\n",
       "      <th>alpha</th>\n",
       "      <td>10.640</td>\n",
       "      <td>0.560</td>\n",
       "      <td>9.601</td>\n",
       "      <td>11.694</td>\n",
       "      <td>0.013</td>\n",
       "      <td>0.009</td>\n",
       "      <td>1929.0</td>\n",
       "      <td>3057.0</td>\n",
       "      <td>1.0</td>\n",
       "    </tr>\n",
       "    <tr>\n",
       "      <th>s</th>\n",
       "      <td>0.596</td>\n",
       "      <td>0.050</td>\n",
       "      <td>0.499</td>\n",
       "      <td>0.689</td>\n",
       "      <td>0.001</td>\n",
       "      <td>0.001</td>\n",
       "      <td>2098.0</td>\n",
       "      <td>2355.0</td>\n",
       "      <td>1.0</td>\n",
       "    </tr>\n",
       "    <tr>\n",
       "      <th>beta</th>\n",
       "      <td>10.124</td>\n",
       "      <td>0.913</td>\n",
       "      <td>8.362</td>\n",
       "      <td>11.711</td>\n",
       "      <td>0.020</td>\n",
       "      <td>0.014</td>\n",
       "      <td>2287.0</td>\n",
       "      <td>2002.0</td>\n",
       "      <td>1.0</td>\n",
       "    </tr>\n",
       "  </tbody>\n",
       "</table>\n",
       "</div>"
      ],
      "text/plain": [
       "         mean     sd  hdi_3%  hdi_97%  mcse_mean  mcse_sd  ess_bulk  ess_tail  \\\n",
       "r       0.580  0.035   0.515    0.645      0.001    0.001    1613.0    2444.0   \n",
       "alpha  10.640  0.560   9.601   11.694      0.013    0.009    1929.0    3057.0   \n",
       "s       0.596  0.050   0.499    0.689      0.001    0.001    2098.0    2355.0   \n",
       "beta   10.124  0.913   8.362   11.711      0.020    0.014    2287.0    2002.0   \n",
       "\n",
       "       r_hat  \n",
       "r        1.0  \n",
       "alpha    1.0  \n",
       "s        1.0  \n",
       "beta     1.0  "
      ]
     },
     "execution_count": 18,
     "metadata": {},
     "output_type": "execute_result"
    }
   ],
   "source": [
    "# Suppress Op hyp2f1 warnings about not having a C implementation\n",
    "with warnings.catch_warnings():\n",
    "    warnings.filterwarnings(\n",
    "            action='ignore',\n",
    "            category=UserWarning)       \n",
    "\n",
    "    pnbd_slice = ParetoNBDModel(df.index,x,t_x,T)\n",
    "\n",
    "    # ParetoNBD logp has unstable gradients, so use Slice sampler for 'mcmc' fits\n",
    "    # draws=2000 also recommended\n",
    "    with pnbd_slice.model:\n",
    "\n",
    "        pnbd_slice.fit(step=pm.Slice(), draws=2000, tune=1000)\n",
    "\n",
    "pnbd_slice.fit_summary()\n",
    "\n",
    "# TODO: Add internal posterior predictive methods for transaction rate and churn rate distributions, \n",
    "#       then Bayesian p-values can be plotted\n",
    "#az.plot_bpv(idata, kind=\"t_stat\", t_stat=\"0.5\")\n",
    "#plt.show()"
   ]
  },
  {
   "cell_type": "markdown",
   "id": "34a08cf4",
   "metadata": {},
   "source": [
    "### Model Predictions"
   ]
  },
  {
   "cell_type": "code",
   "execution_count": 55,
   "id": "fd6704ec",
   "metadata": {},
   "outputs": [
    {
     "data": {
      "text/html": [
       "<div>\n",
       "<style scoped>\n",
       "    .dataframe tbody tr th:only-of-type {\n",
       "        vertical-align: middle;\n",
       "    }\n",
       "\n",
       "    .dataframe tbody tr th {\n",
       "        vertical-align: top;\n",
       "    }\n",
       "\n",
       "    .dataframe thead th {\n",
       "        text-align: right;\n",
       "    }\n",
       "</style>\n",
       "<table border=\"1\" class=\"dataframe\">\n",
       "  <thead>\n",
       "    <tr style=\"text-align: right;\">\n",
       "      <th></th>\n",
       "      <th>frequency</th>\n",
       "      <th>recency</th>\n",
       "      <th>T</th>\n",
       "      <th>monetary_value</th>\n",
       "      <th>expected_purchases</th>\n",
       "      <th>exp_prchs_slice</th>\n",
       "      <th>exp_prchs_map</th>\n",
       "      <th>prob_alive_slice</th>\n",
       "      <th>prob_alive_map</th>\n",
       "      <th>prchs_prob_slice</th>\n",
       "      <th>prchs_prob_map</th>\n",
       "      <th>new_customer_slice</th>\n",
       "      <th>new_customer_map</th>\n",
       "    </tr>\n",
       "  </thead>\n",
       "  <tbody>\n",
       "    <tr>\n",
       "      <th>0</th>\n",
       "      <td>2</td>\n",
       "      <td>30.43</td>\n",
       "      <td>38.86</td>\n",
       "      <td>22.35</td>\n",
       "      <td>0.426932</td>\n",
       "      <td>0.426932</td>\n",
       "      <td>0.426200</td>\n",
       "      <td>0.776001</td>\n",
       "      <td>0.775236</td>\n",
       "      <td>0.081337</td>\n",
       "      <td>0.081142</td>\n",
       "      <td>2.218402</td>\n",
       "      <td>2.210883</td>\n",
       "    </tr>\n",
       "    <tr>\n",
       "      <th>1</th>\n",
       "      <td>1</td>\n",
       "      <td>1.71</td>\n",
       "      <td>38.86</td>\n",
       "      <td>11.77</td>\n",
       "      <td>0.046080</td>\n",
       "      <td>0.046080</td>\n",
       "      <td>0.046075</td>\n",
       "      <td>0.136997</td>\n",
       "      <td>0.136970</td>\n",
       "      <td>0.007849</td>\n",
       "      <td>0.007835</td>\n",
       "      <td>2.218402</td>\n",
       "      <td>2.210883</td>\n",
       "    </tr>\n",
       "    <tr>\n",
       "      <th>2</th>\n",
       "      <td>0</td>\n",
       "      <td>0.00</td>\n",
       "      <td>38.86</td>\n",
       "      <td>0.00</td>\n",
       "      <td>0.029932</td>\n",
       "      <td>0.029932</td>\n",
       "      <td>0.029953</td>\n",
       "      <td>0.243167</td>\n",
       "      <td>0.243512</td>\n",
       "      <td>0.003575</td>\n",
       "      <td>0.003569</td>\n",
       "      <td>2.218402</td>\n",
       "      <td>2.210883</td>\n",
       "    </tr>\n",
       "    <tr>\n",
       "      <th>3</th>\n",
       "      <td>0</td>\n",
       "      <td>0.00</td>\n",
       "      <td>38.86</td>\n",
       "      <td>0.00</td>\n",
       "      <td>0.029932</td>\n",
       "      <td>0.029932</td>\n",
       "      <td>0.029953</td>\n",
       "      <td>0.243167</td>\n",
       "      <td>0.243512</td>\n",
       "      <td>0.003575</td>\n",
       "      <td>0.003569</td>\n",
       "      <td>2.218402</td>\n",
       "      <td>2.210883</td>\n",
       "    </tr>\n",
       "    <tr>\n",
       "      <th>4</th>\n",
       "      <td>0</td>\n",
       "      <td>0.00</td>\n",
       "      <td>38.86</td>\n",
       "      <td>0.00</td>\n",
       "      <td>0.029932</td>\n",
       "      <td>0.029932</td>\n",
       "      <td>0.029953</td>\n",
       "      <td>0.243167</td>\n",
       "      <td>0.243512</td>\n",
       "      <td>0.003575</td>\n",
       "      <td>0.003569</td>\n",
       "      <td>2.218402</td>\n",
       "      <td>2.210883</td>\n",
       "    </tr>\n",
       "    <tr>\n",
       "      <th>5</th>\n",
       "      <td>7</td>\n",
       "      <td>29.43</td>\n",
       "      <td>38.86</td>\n",
       "      <td>73.74</td>\n",
       "      <td>1.078955</td>\n",
       "      <td>1.078955</td>\n",
       "      <td>1.077217</td>\n",
       "      <td>0.667385</td>\n",
       "      <td>0.666314</td>\n",
       "      <td>0.107835</td>\n",
       "      <td>0.107719</td>\n",
       "      <td>2.218402</td>\n",
       "      <td>2.210883</td>\n",
       "    </tr>\n",
       "    <tr>\n",
       "      <th>6</th>\n",
       "      <td>1</td>\n",
       "      <td>5.00</td>\n",
       "      <td>38.86</td>\n",
       "      <td>11.77</td>\n",
       "      <td>0.072235</td>\n",
       "      <td>0.072235</td>\n",
       "      <td>0.072075</td>\n",
       "      <td>0.214694</td>\n",
       "      <td>0.214264</td>\n",
       "      <td>0.012303</td>\n",
       "      <td>0.012256</td>\n",
       "      <td>2.218402</td>\n",
       "      <td>2.210883</td>\n",
       "    </tr>\n",
       "    <tr>\n",
       "      <th>7</th>\n",
       "      <td>0</td>\n",
       "      <td>0.00</td>\n",
       "      <td>38.86</td>\n",
       "      <td>0.00</td>\n",
       "      <td>0.029932</td>\n",
       "      <td>0.029932</td>\n",
       "      <td>0.029953</td>\n",
       "      <td>0.243167</td>\n",
       "      <td>0.243512</td>\n",
       "      <td>0.003575</td>\n",
       "      <td>0.003569</td>\n",
       "      <td>2.218402</td>\n",
       "      <td>2.210883</td>\n",
       "    </tr>\n",
       "    <tr>\n",
       "      <th>8</th>\n",
       "      <td>2</td>\n",
       "      <td>35.71</td>\n",
       "      <td>38.86</td>\n",
       "      <td>25.55</td>\n",
       "      <td>0.471770</td>\n",
       "      <td>0.471770</td>\n",
       "      <td>0.471100</td>\n",
       "      <td>0.857442</td>\n",
       "      <td>0.856907</td>\n",
       "      <td>0.089874</td>\n",
       "      <td>0.089690</td>\n",
       "      <td>2.218402</td>\n",
       "      <td>2.210883</td>\n",
       "    </tr>\n",
       "    <tr>\n",
       "      <th>9</th>\n",
       "      <td>0</td>\n",
       "      <td>0.00</td>\n",
       "      <td>38.86</td>\n",
       "      <td>0.00</td>\n",
       "      <td>0.029932</td>\n",
       "      <td>0.029932</td>\n",
       "      <td>0.029953</td>\n",
       "      <td>0.243167</td>\n",
       "      <td>0.243512</td>\n",
       "      <td>0.003575</td>\n",
       "      <td>0.003569</td>\n",
       "      <td>2.218402</td>\n",
       "      <td>2.210883</td>\n",
       "    </tr>\n",
       "  </tbody>\n",
       "</table>\n",
       "</div>"
      ],
      "text/plain": [
       "   frequency  recency      T  monetary_value  expected_purchases  \\\n",
       "0          2    30.43  38.86           22.35            0.426932   \n",
       "1          1     1.71  38.86           11.77            0.046080   \n",
       "2          0     0.00  38.86            0.00            0.029932   \n",
       "3          0     0.00  38.86            0.00            0.029932   \n",
       "4          0     0.00  38.86            0.00            0.029932   \n",
       "5          7    29.43  38.86           73.74            1.078955   \n",
       "6          1     5.00  38.86           11.77            0.072235   \n",
       "7          0     0.00  38.86            0.00            0.029932   \n",
       "8          2    35.71  38.86           25.55            0.471770   \n",
       "9          0     0.00  38.86            0.00            0.029932   \n",
       "\n",
       "   exp_prchs_slice  exp_prchs_map  prob_alive_slice  prob_alive_map  \\\n",
       "0         0.426932       0.426200          0.776001        0.775236   \n",
       "1         0.046080       0.046075          0.136997        0.136970   \n",
       "2         0.029932       0.029953          0.243167        0.243512   \n",
       "3         0.029932       0.029953          0.243167        0.243512   \n",
       "4         0.029932       0.029953          0.243167        0.243512   \n",
       "5         1.078955       1.077217          0.667385        0.666314   \n",
       "6         0.072235       0.072075          0.214694        0.214264   \n",
       "7         0.029932       0.029953          0.243167        0.243512   \n",
       "8         0.471770       0.471100          0.857442        0.856907   \n",
       "9         0.029932       0.029953          0.243167        0.243512   \n",
       "\n",
       "   prchs_prob_slice  prchs_prob_map  new_customer_slice  new_customer_map  \n",
       "0          0.081337        0.081142            2.218402          2.210883  \n",
       "1          0.007849        0.007835            2.218402          2.210883  \n",
       "2          0.003575        0.003569            2.218402          2.210883  \n",
       "3          0.003575        0.003569            2.218402          2.210883  \n",
       "4          0.003575        0.003569            2.218402          2.210883  \n",
       "5          0.107835        0.107719            2.218402          2.210883  \n",
       "6          0.012303        0.012256            2.218402          2.210883  \n",
       "7          0.003575        0.003569            2.218402          2.210883  \n",
       "8          0.089874        0.089690            2.218402          2.210883  \n",
       "9          0.003575        0.003569            2.218402          2.210883  "
      ]
     },
     "execution_count": 55,
     "metadata": {},
     "output_type": "execute_result"
    }
   ],
   "source": [
    "# Append all predictive methods to a pandas dataframe\n",
    "df['exp_prchs_slice'] = pnbd_slice.expected_purchases(future_t = 10).mean((\"chain\", \"draw\"))\n",
    "df['exp_prchs_map'] = pnbd_map.expected_purchases(future_t = 10).mean((\"chain\", \"draw\"))\n",
    "\n",
    "df['prob_alive_slice'] = pnbd_slice.expected_probability_alive(future_t = 10).mean((\"chain\", \"draw\"))\n",
    "df['prob_alive_map'] = pnbd_map.expected_probability_alive(future_t = 10).mean((\"chain\", \"draw\"))\n",
    "\n",
    "df['prchs_prob_slice'] = pnbd_slice.expected_purchase_probability(n=3,future_t=30).mean((\"chain\", \"draw\"))\n",
    "df['prchs_prob_map'] = pnbd_map.expected_purchase_probability(n=3,future_t=30).mean((\"chain\", \"draw\"))\n",
    "\n",
    "# This value does not change from customer to customer, but is shown here for completeness\n",
    "df['new_customer_slice'] = pnbd_slice.expected_purchases_new_customer(t = 100).mean().values\n",
    "df['new_customer_map'] = pnbd_map.expected_purchases_new_customer(t = 100).mean().values\n",
    "\n",
    "# For single customer predictions, arguments must still be provided as lists or numpy arrays\n",
    "# Array lengths must match for all arguments\n",
    "pnbd_slice.expected_purchases(future_t = 10,\n",
    "                             customer_id = [1000],\n",
    "                             frequency = np.array([3]),\n",
    "                             recency = [20],\n",
    "                             T = [30]).mean((\"chain\", \"draw\"))\n",
    "\n",
    "# Use a for loop or list comprehension to iterate over multiple arguments:\n",
    "[pnbd_slice.expected_purchases(future_t = t) for t in [10,9,8]]\n",
    "\n",
    "df.head(10)"
   ]
  },
  {
   "cell_type": "markdown",
   "id": "5c805097",
   "metadata": {},
   "source": [
    "# Formatting Data From Raw Transactions\n",
    "Why isn't clv_summary() working here?"
   ]
  },
  {
   "cell_type": "code",
   "execution_count": 51,
   "id": "7c451d65",
   "metadata": {},
   "outputs": [
    {
     "data": {
      "text/html": [
       "<div>\n",
       "<style scoped>\n",
       "    .dataframe tbody tr th:only-of-type {\n",
       "        vertical-align: middle;\n",
       "    }\n",
       "\n",
       "    .dataframe tbody tr th {\n",
       "        vertical-align: top;\n",
       "    }\n",
       "\n",
       "    .dataframe thead th {\n",
       "        text-align: right;\n",
       "    }\n",
       "</style>\n",
       "<table border=\"1\" class=\"dataframe\">\n",
       "  <thead>\n",
       "    <tr style=\"text-align: right;\">\n",
       "      <th></th>\n",
       "      <th>customer_id</th>\n",
       "      <th>frequency</th>\n",
       "      <th>recency</th>\n",
       "      <th>T</th>\n",
       "      <th>monetary_value</th>\n",
       "    </tr>\n",
       "  </thead>\n",
       "  <tbody>\n",
       "    <tr>\n",
       "      <th>0</th>\n",
       "      <td>1</td>\n",
       "      <td>1.0</td>\n",
       "      <td>36.0</td>\n",
       "      <td>36.0</td>\n",
       "      <td>20.12</td>\n",
       "    </tr>\n",
       "    <tr>\n",
       "      <th>1</th>\n",
       "      <td>2</td>\n",
       "      <td>0.0</td>\n",
       "      <td>0.0</td>\n",
       "      <td>36.0</td>\n",
       "      <td>0.00</td>\n",
       "    </tr>\n",
       "    <tr>\n",
       "      <th>2</th>\n",
       "      <td>3</td>\n",
       "      <td>2.0</td>\n",
       "      <td>4.0</td>\n",
       "      <td>36.0</td>\n",
       "      <td>33.11</td>\n",
       "    </tr>\n",
       "    <tr>\n",
       "      <th>3</th>\n",
       "      <td>4</td>\n",
       "      <td>2.0</td>\n",
       "      <td>20.0</td>\n",
       "      <td>21.0</td>\n",
       "      <td>32.10</td>\n",
       "    </tr>\n",
       "    <tr>\n",
       "      <th>4</th>\n",
       "      <td>5</td>\n",
       "      <td>2.0</td>\n",
       "      <td>2.0</td>\n",
       "      <td>21.0</td>\n",
       "      <td>49.80</td>\n",
       "    </tr>\n",
       "  </tbody>\n",
       "</table>\n",
       "</div>"
      ],
      "text/plain": [
       "   customer_id  frequency  recency     T  monetary_value\n",
       "0            1        1.0     36.0  36.0           20.12\n",
       "1            2        0.0      0.0  36.0            0.00\n",
       "2            3        2.0      4.0  36.0           33.11\n",
       "3            4        2.0     20.0  21.0           32.10\n",
       "4            5        2.0      2.0  21.0           49.80"
      ]
     },
     "execution_count": 51,
     "metadata": {},
     "output_type": "execute_result"
    }
   ],
   "source": [
    "d = [\n",
    "        [1, \"2015-01-01\", 10.11],\n",
    "        [1, \"2015-02-06\", 20.12],\n",
    "        [2, \"2015-01-01\", 26.13],\n",
    "        [3, \"2015-01-01\", 33.2],\n",
    "        [3, \"2015-01-02\", 11.12],\n",
    "        [3, \"2015-01-05\", 55.1],\n",
    "        [4, \"2015-01-16\", 66.12],\n",
    "        [4, \"2015-02-02\", 33.1],\n",
    "        [4, \"2015-02-05\", 31.1],\n",
    "        [5, \"2015-01-16\", 39.7],\n",
    "        [5, \"2015-01-17\", 19.5],\n",
    "        [5, \"2015-01-18\", 80.1],\n",
    "    ]\n",
    "\n",
    "raw_trans = pd.DataFrame(d, columns=[\"customer_id\", \"purchase_date\", \"monetary_value\"])\n",
    "raw_trans['purchase_date'] = pd.to_datetime(raw_trans['purchase_date'])\n",
    "raw_trans\n",
    "\n",
    "clv_summary(raw_trans,\"customer_id\",\"purchase_date\",\"monetary_value\")\n",
    "\n",
    "# TODO: Why isn't CLV_Summary working here?\n",
    "# url_cdnow_trans = \"https://raw.githubusercontent.com/pymc-labs/pymc-marketing/main/tests/clv/datasets/cdnow_transactions.csv\"\n",
    "# raw_trans = pd.read_csv(url_cdnow_trans)\n",
    "# raw_trans['date'] = raw_trans['date'].astype(int)\n",
    "# df_rfm = clv_summary(url_cdnow_trans,\"id\",\"date\",\"spent\")"
   ]
  }
 ],
 "metadata": {
  "colab": {
   "include_colab_link": true,
   "name": "gamma-gamma model",
   "provenance": []
  },
  "hide_input": false,
  "kernelspec": {
   "display_name": "Python 3 (ipykernel)",
   "language": "python",
   "name": "python3"
  },
  "language_info": {
   "codemirror_mode": {
    "name": "ipython",
    "version": 3
   },
   "file_extension": ".py",
   "mimetype": "text/x-python",
   "name": "python",
   "nbconvert_exporter": "python",
   "pygments_lexer": "ipython3",
   "version": "3.8.16"
  },
  "nteract": {
   "version": "nteract-front-end@1.0.0"
  },
  "toc": {
   "base_numbering": 1,
   "nav_menu": {},
   "number_sections": true,
   "sideBar": true,
   "skip_h1_title": false,
   "title_cell": "Table of Contents",
   "title_sidebar": "Contents",
   "toc_cell": false,
   "toc_position": {},
   "toc_section_display": true,
   "toc_window_display": false
  }
 },
 "nbformat": 4,
 "nbformat_minor": 5
}
