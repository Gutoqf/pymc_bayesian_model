{
 "cells": [
  {
   "cell_type": "code",
   "execution_count": 1,
   "id": "5d728a3e",
   "metadata": {},
   "outputs": [],
   "source": [
    "import pymmmc\n",
    "\n",
    "import aesara.tensor as at\n",
    "import numpy as np\n",
    "import pandas as pd\n",
    "\n",
    "from aesara.tensor import TensorVariable\n",
    "\n",
    "import pymc as pm\n",
    "\n",
    "import matplotlib.pyplot as plt\n",
    "import arviz as az"
   ]
  },
  {
   "cell_type": "code",
   "execution_count": 2,
   "id": "ed2f0413",
   "metadata": {},
   "outputs": [],
   "source": [
    "rng = np.random.RandomState(seed=34)\n",
    "T = 10\n",
    "T0 = 0\n",
    "\n",
    "# individual-level model\n",
    "lam = 0.5; p = 0.2"
   ]
  },
  {
   "cell_type": "code",
   "execution_count": 3,
   "id": "ce6528b4",
   "metadata": {},
   "outputs": [],
   "source": [
    "data = pymmmc.distributions.continuous_contractual.rng_fn(rng, lam, p, T, T0, size=[1000,])"
   ]
  },
  {
   "cell_type": "code",
   "execution_count": 27,
   "id": "e3fe4fcb",
   "metadata": {},
   "outputs": [
    {
     "name": "stderr",
     "output_type": "stream",
     "text": [
      "Auto-assigning NUTS sampler...\n",
      "Initializing NUTS using jitter+adapt_diag...\n"
     ]
    },
    {
     "ename": "SamplingError",
     "evalue": "Initial evaluation of model at starting point failed!\nStarting values:\n{'λ_log__': array(0.02442041), 'π_logodds__': array(-0.93045317)}\n\nInitial evaluation results:\n{'λ': -1.0, 'π': -1.6, 'continuous-contractual-clv': -inf}",
     "output_type": "error",
     "traceback": [
      "\u001b[0;31m---------------------------------------------------------------------------\u001b[0m",
      "\u001b[0;31mSamplingError\u001b[0m                             Traceback (most recent call last)",
      "Input \u001b[0;32mIn [27]\u001b[0m, in \u001b[0;36m<cell line: 1>\u001b[0;34m()\u001b[0m\n\u001b[1;32m      4\u001b[0m π \u001b[38;5;241m=\u001b[39m pm\u001b[38;5;241m.\u001b[39mBeta(name\u001b[38;5;241m=\u001b[39m\u001b[38;5;124m\"\u001b[39m\u001b[38;5;124mπ\u001b[39m\u001b[38;5;124m\"\u001b[39m, alpha\u001b[38;5;241m=\u001b[39m\u001b[38;5;241m1\u001b[39m, beta\u001b[38;5;241m=\u001b[39m\u001b[38;5;241m1\u001b[39m)\n\u001b[1;32m      6\u001b[0m cont_contractual \u001b[38;5;241m=\u001b[39m pymmmc\u001b[38;5;241m.\u001b[39mContinuousContractual(\n\u001b[1;32m      7\u001b[0m     name\u001b[38;5;241m=\u001b[39m\u001b[38;5;124m\"\u001b[39m\u001b[38;5;124mcontinuous-contractual-clv\u001b[39m\u001b[38;5;124m\"\u001b[39m,\n\u001b[1;32m      8\u001b[0m     lam\u001b[38;5;241m=\u001b[39mλ,\n\u001b[0;32m   (...)\u001b[0m\n\u001b[1;32m     12\u001b[0m     observed\u001b[38;5;241m=\u001b[39mdata,\n\u001b[1;32m     13\u001b[0m )\n\u001b[0;32m---> 15\u001b[0m trace \u001b[38;5;241m=\u001b[39m \u001b[43mpm\u001b[49m\u001b[38;5;241;43m.\u001b[39;49m\u001b[43msample\u001b[49m\u001b[43m(\u001b[49m\u001b[43mdraws\u001b[49m\u001b[38;5;241;43m=\u001b[39;49m\u001b[38;5;241;43m1000\u001b[39;49m\u001b[43m,\u001b[49m\u001b[43m \u001b[49m\u001b[43mchains\u001b[49m\u001b[38;5;241;43m=\u001b[39;49m\u001b[38;5;241;43m1\u001b[39;49m\u001b[43m,\u001b[49m\u001b[43m \u001b[49m\u001b[43mtune\u001b[49m\u001b[38;5;241;43m=\u001b[39;49m\u001b[38;5;241;43m500\u001b[39;49m\u001b[43m)\u001b[49m\n",
      "File \u001b[0;32m~/Documents/GitHub/pymc/pymc/sampling.py:505\u001b[0m, in \u001b[0;36msample\u001b[0;34m(draws, step, init, n_init, initvals, trace, chain_idx, chains, cores, tune, progressbar, model, random_seed, discard_tuned_samples, compute_convergence_checks, callback, jitter_max_retries, return_inferencedata, idata_kwargs, mp_ctx, **kwargs)\u001b[0m\n\u001b[1;32m    503\u001b[0m \u001b[38;5;66;03m# One final check that shapes and logps at the starting points are okay.\u001b[39;00m\n\u001b[1;32m    504\u001b[0m \u001b[38;5;28;01mfor\u001b[39;00m ip \u001b[38;5;129;01min\u001b[39;00m initial_points:\n\u001b[0;32m--> 505\u001b[0m     \u001b[43mmodel\u001b[49m\u001b[38;5;241;43m.\u001b[39;49m\u001b[43mcheck_start_vals\u001b[49m\u001b[43m(\u001b[49m\u001b[43mip\u001b[49m\u001b[43m)\u001b[49m\n\u001b[1;32m    506\u001b[0m     _check_start_shape(model, ip)\n\u001b[1;32m    508\u001b[0m sample_args \u001b[38;5;241m=\u001b[39m {\n\u001b[1;32m    509\u001b[0m     \u001b[38;5;124m\"\u001b[39m\u001b[38;5;124mdraws\u001b[39m\u001b[38;5;124m\"\u001b[39m: draws,\n\u001b[1;32m    510\u001b[0m     \u001b[38;5;124m\"\u001b[39m\u001b[38;5;124mstep\u001b[39m\u001b[38;5;124m\"\u001b[39m: step,\n\u001b[0;32m   (...)\u001b[0m\n\u001b[1;32m    521\u001b[0m     \u001b[38;5;124m\"\u001b[39m\u001b[38;5;124mdiscard_tuned_samples\u001b[39m\u001b[38;5;124m\"\u001b[39m: discard_tuned_samples,\n\u001b[1;32m    522\u001b[0m }\n",
      "File \u001b[0;32m~/Documents/GitHub/pymc/pymc/model.py:1685\u001b[0m, in \u001b[0;36mModel.check_start_vals\u001b[0;34m(self, start)\u001b[0m\n\u001b[1;32m   1682\u001b[0m initial_eval \u001b[38;5;241m=\u001b[39m \u001b[38;5;28mself\u001b[39m\u001b[38;5;241m.\u001b[39mpoint_logps(point\u001b[38;5;241m=\u001b[39melem)\n\u001b[1;32m   1684\u001b[0m \u001b[38;5;28;01mif\u001b[39;00m \u001b[38;5;129;01mnot\u001b[39;00m \u001b[38;5;28mall\u001b[39m(np\u001b[38;5;241m.\u001b[39misfinite(v) \u001b[38;5;28;01mfor\u001b[39;00m v \u001b[38;5;129;01min\u001b[39;00m initial_eval\u001b[38;5;241m.\u001b[39mvalues()):\n\u001b[0;32m-> 1685\u001b[0m     \u001b[38;5;28;01mraise\u001b[39;00m SamplingError(\n\u001b[1;32m   1686\u001b[0m         \u001b[38;5;124m\"\u001b[39m\u001b[38;5;124mInitial evaluation of model at starting point failed!\u001b[39m\u001b[38;5;130;01m\\n\u001b[39;00m\u001b[38;5;124m\"\u001b[39m\n\u001b[1;32m   1687\u001b[0m         \u001b[38;5;124mf\u001b[39m\u001b[38;5;124m\"\u001b[39m\u001b[38;5;124mStarting values:\u001b[39m\u001b[38;5;130;01m\\n\u001b[39;00m\u001b[38;5;132;01m{\u001b[39;00melem\u001b[38;5;132;01m}\u001b[39;00m\u001b[38;5;130;01m\\n\u001b[39;00m\u001b[38;5;130;01m\\n\u001b[39;00m\u001b[38;5;124m\"\u001b[39m\n\u001b[1;32m   1688\u001b[0m         \u001b[38;5;124mf\u001b[39m\u001b[38;5;124m\"\u001b[39m\u001b[38;5;124mInitial evaluation results:\u001b[39m\u001b[38;5;130;01m\\n\u001b[39;00m\u001b[38;5;132;01m{\u001b[39;00minitial_eval\u001b[38;5;132;01m}\u001b[39;00m\u001b[38;5;124m\"\u001b[39m\n\u001b[1;32m   1689\u001b[0m     )\n",
      "\u001b[0;31mSamplingError\u001b[0m: Initial evaluation of model at starting point failed!\nStarting values:\n{'λ_log__': array(0.02442041), 'π_logodds__': array(-0.93045317)}\n\nInitial evaluation results:\n{'λ': -1.0, 'π': -1.6, 'continuous-contractual-clv': -inf}"
     ]
    }
   ],
   "source": [
    "with pm.Model() as model:\n",
    "\n",
    "    λ = pm.Gamma(name=\"λ\", alpha=1, beta=1)\n",
    "    π = pm.Beta(name=\"π\", alpha=1, beta=1)\n",
    "    \n",
    "    cont_contractual = pymmmc.ContinuousContractual(\n",
    "        name=\"continuous-contractual-clv\",\n",
    "        lam=λ,\n",
    "        p=π,\n",
    "        T=10,\n",
    "        T0=0,\n",
    "        observed=data,\n",
    "    )\n",
    "    \n",
    "    trace = pm.sample(draws=1000, chains=1, tune=500)"
   ]
  },
  {
   "cell_type": "code",
   "execution_count": 28,
   "id": "6e7cd392",
   "metadata": {},
   "outputs": [
    {
     "data": {
      "text/plain": [
       "{'λ_log__': array(0.), 'π_logodds__': array(0.)}"
      ]
     },
     "execution_count": 28,
     "metadata": {},
     "output_type": "execute_result"
    }
   ],
   "source": [
    "model.initial_point(1234)"
   ]
  },
  {
   "cell_type": "code",
   "execution_count": null,
   "id": "c653c4e9",
   "metadata": {},
   "outputs": [],
   "source": []
  }
 ],
 "metadata": {
  "kernelspec": {
   "display_name": "pymmmc_env",
   "language": "python",
   "name": "pymmmc_env"
  },
  "language_info": {
   "codemirror_mode": {
    "name": "ipython",
    "version": 3
   },
   "file_extension": ".py",
   "mimetype": "text/x-python",
   "name": "python",
   "nbconvert_exporter": "python",
   "pygments_lexer": "ipython3",
   "version": "3.8.13"
  }
 },
 "nbformat": 4,
 "nbformat_minor": 5
}
