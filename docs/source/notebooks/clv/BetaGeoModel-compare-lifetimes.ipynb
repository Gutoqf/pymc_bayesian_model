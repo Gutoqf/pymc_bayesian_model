{
 "cells": [
  {
   "cell_type": "code",
   "execution_count": 10,
   "id": "419613fb",
   "metadata": {},
   "outputs": [],
   "source": [
    "import numpy as np\n",
    "import pymc as pm\n",
    "from pymmmc.clv import BetaGeoModel\n",
    "from pymmmc.distributions import continuous_contractual\n",
    "from lifetimes.fitters.beta_geo_fitter import BetaGeoFitter as BGF\n",
    "\n",
    "from scipy.special import hyp2f1\n",
    "\n",
    "import xarray as xr"
   ]
  },
  {
   "cell_type": "code",
   "execution_count": 2,
   "id": "70fcefb6",
   "metadata": {},
   "outputs": [],
   "source": [
    "a_true = 0.8\n",
    "b_true = 2.5\n",
    "alpha_true = 3\n",
    "r_true = 4\n",
    "rng = np.random.default_rng(34)\n",
    "\n",
    "N = 500\n",
    "\n",
    "p = pm.draw(pm.Beta.dist(a_true, b_true, size=N), random_seed=rng)\n",
    "lam = pm.draw(\n",
    "    pm.Gamma.dist(r_true, alpha_true, size=N), random_seed=rng\n",
    ")\n",
    "\n",
    "T = pm.draw(\n",
    "    pm.DiscreteUniform.dist(lower=20, upper=40, size=N), random_seed=rng\n",
    ")\n",
    "\n",
    "data = continuous_contractual.rng_fn(rng, lam, p, T, 0, size=N)"
   ]
  },
  {
   "cell_type": "code",
   "execution_count": 11,
   "id": "958dac6c",
   "metadata": {},
   "outputs": [],
   "source": [
    "def overwrite_unload_params(self, *args, **kwargs):\n",
    "    return a_true, b_true, alpha_true, r_true\n",
    "\n",
    "BGF._unload_params = overwrite_unload_params\n",
    "\n",
    "BGF.conditional_expected_number_of_purchases_up_to_time = classmethod(\n",
    "    BGF.conditional_expected_number_of_purchases_up_to_time\n",
    ")"
   ]
  },
  {
   "cell_type": "code",
   "execution_count": null,
   "id": "86952a91",
   "metadata": {},
   "outputs": [],
   "source": []
  }
 ],
 "metadata": {
  "kernelspec": {
   "display_name": "pymmmc_env",
   "language": "python",
   "name": "pymmmc_env"
  },
  "language_info": {
   "codemirror_mode": {
    "name": "ipython",
    "version": 3
   },
   "file_extension": ".py",
   "mimetype": "text/x-python",
   "name": "python",
   "nbconvert_exporter": "python",
   "pygments_lexer": "ipython3",
   "version": "3.8.15"
  }
 },
 "nbformat": 4,
 "nbformat_minor": 5
}
