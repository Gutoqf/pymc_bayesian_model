{
 "cells": [
  {
   "cell_type": "code",
   "execution_count": 1,
   "id": "435ed203-5c3c-4efc-93d1-abac66ce7187",
   "metadata": {},
   "outputs": [
    {
     "name": "stderr",
     "output_type": "stream",
     "text": [
      "WARNING (pytensor.tensor.blas): Using NumPy C-API based implementation for BLAS functions.\n"
     ]
    }
   ],
   "source": [
    "import numpy as np\n",
    "import pandas as pd\n",
    "from pymc_marketing.clv import utils\n",
    "from pymc_marketing.clv import ParetoNBDModel\n",
    "from pymc_marketing.prior import Prior\n",
    "\n",
    "import pytensor\n",
    "\n",
    "#set flag to fix open issue\n",
    "pytensor.config.cxx = '/usr/bin/clang++'"
   ]
  },
  {
   "cell_type": "markdown",
   "id": "ce561a65-e600-42de-84b6-f3c683729fff",
   "metadata": {},
   "source": [
    "Create a simple dataset for testing:"
   ]
  },
  {
   "cell_type": "code",
   "execution_count": 2,
   "id": "7de7f396-1d5b-4457-916b-c29ed90aa132",
   "metadata": {},
   "outputs": [],
   "source": [
    "d = [\n",
    "    [1, \"2015-01-01\", 1],\n",
    "    [1, \"2015-02-06\", 2],\n",
    "    [2, \"2015-01-01\", 2],\n",
    "    [3, \"2015-01-01\", 3],\n",
    "    [3, \"2015-01-02\", 1],\n",
    "    [3, \"2015-01-05\", 5],\n",
    "    [4, \"2015-01-16\", 6],\n",
    "    [4, \"2015-02-02\", 3],\n",
    "    [4, \"2015-02-05\", 3],\n",
    "    [4, \"2015-02-05\", 2],\n",
    "    [5, \"2015-01-16\", 3],\n",
    "    [5, \"2015-01-17\", 1],\n",
    "    [5, \"2015-01-18\", 8],\n",
    "    [6, \"2015-02-02\", 5],\n",
    "]\n",
    "test_data = pd.DataFrame(d, columns=[\"id\", \"date\", \"monetary_value\"])"
   ]
  },
  {
   "cell_type": "markdown",
   "id": "b089a2be-2c3e-4dd1-b96d-ee7c0bd02250",
   "metadata": {},
   "source": [
    "Note customer 4 made two purchases on 2015-02-05. \n",
    "\n",
    "`_find_first_transactions` flags the first purchase each customer has made, which must be excluded for modeling. It is called internally by `rfm_summary`."
   ]
  },
  {
   "cell_type": "code",
   "execution_count": 3,
   "id": "932e8db6-78cf-49df-aa4a-83ee6584e5dd",
   "metadata": {},
   "outputs": [
    {
     "data": {
      "text/html": [
       "<div>\n",
       "<style scoped>\n",
       "    .dataframe tbody tr th:only-of-type {\n",
       "        vertical-align: middle;\n",
       "    }\n",
       "\n",
       "    .dataframe tbody tr th {\n",
       "        vertical-align: top;\n",
       "    }\n",
       "\n",
       "    .dataframe thead th {\n",
       "        text-align: right;\n",
       "    }\n",
       "</style>\n",
       "<table border=\"1\" class=\"dataframe\">\n",
       "  <thead>\n",
       "    <tr style=\"text-align: right;\">\n",
       "      <th></th>\n",
       "      <th>id</th>\n",
       "      <th>date</th>\n",
       "      <th>first</th>\n",
       "    </tr>\n",
       "  </thead>\n",
       "  <tbody>\n",
       "    <tr>\n",
       "      <th>0</th>\n",
       "      <td>1</td>\n",
       "      <td>2015-01-01</td>\n",
       "      <td>True</td>\n",
       "    </tr>\n",
       "    <tr>\n",
       "      <th>1</th>\n",
       "      <td>1</td>\n",
       "      <td>2015-02-06</td>\n",
       "      <td>False</td>\n",
       "    </tr>\n",
       "    <tr>\n",
       "      <th>2</th>\n",
       "      <td>2</td>\n",
       "      <td>2015-01-01</td>\n",
       "      <td>True</td>\n",
       "    </tr>\n",
       "    <tr>\n",
       "      <th>3</th>\n",
       "      <td>3</td>\n",
       "      <td>2015-01-01</td>\n",
       "      <td>True</td>\n",
       "    </tr>\n",
       "    <tr>\n",
       "      <th>4</th>\n",
       "      <td>3</td>\n",
       "      <td>2015-01-02</td>\n",
       "      <td>False</td>\n",
       "    </tr>\n",
       "    <tr>\n",
       "      <th>5</th>\n",
       "      <td>3</td>\n",
       "      <td>2015-01-05</td>\n",
       "      <td>False</td>\n",
       "    </tr>\n",
       "    <tr>\n",
       "      <th>6</th>\n",
       "      <td>4</td>\n",
       "      <td>2015-01-16</td>\n",
       "      <td>True</td>\n",
       "    </tr>\n",
       "    <tr>\n",
       "      <th>7</th>\n",
       "      <td>4</td>\n",
       "      <td>2015-02-02</td>\n",
       "      <td>False</td>\n",
       "    </tr>\n",
       "    <tr>\n",
       "      <th>8</th>\n",
       "      <td>4</td>\n",
       "      <td>2015-02-05</td>\n",
       "      <td>False</td>\n",
       "    </tr>\n",
       "    <tr>\n",
       "      <th>10</th>\n",
       "      <td>5</td>\n",
       "      <td>2015-01-16</td>\n",
       "      <td>True</td>\n",
       "    </tr>\n",
       "    <tr>\n",
       "      <th>11</th>\n",
       "      <td>5</td>\n",
       "      <td>2015-01-17</td>\n",
       "      <td>False</td>\n",
       "    </tr>\n",
       "    <tr>\n",
       "      <th>12</th>\n",
       "      <td>5</td>\n",
       "      <td>2015-01-18</td>\n",
       "      <td>False</td>\n",
       "    </tr>\n",
       "    <tr>\n",
       "      <th>13</th>\n",
       "      <td>6</td>\n",
       "      <td>2015-02-02</td>\n",
       "      <td>True</td>\n",
       "    </tr>\n",
       "  </tbody>\n",
       "</table>\n",
       "</div>"
      ],
      "text/plain": [
       "    id        date  first\n",
       "0    1  2015-01-01   True\n",
       "1    1  2015-02-06  False\n",
       "2    2  2015-01-01   True\n",
       "3    3  2015-01-01   True\n",
       "4    3  2015-01-02  False\n",
       "5    3  2015-01-05  False\n",
       "6    4  2015-01-16   True\n",
       "7    4  2015-02-02  False\n",
       "8    4  2015-02-05  False\n",
       "10   5  2015-01-16   True\n",
       "11   5  2015-01-17  False\n",
       "12   5  2015-01-18  False\n",
       "13   6  2015-02-02   True"
      ]
     },
     "execution_count": 3,
     "metadata": {},
     "output_type": "execute_result"
    }
   ],
   "source": [
    "utils._find_first_transactions(\n",
    "    transactions=test_data, \n",
    "    customer_id_col = \"id\", \n",
    "    datetime_col = \"date\",\n",
    "    #monetary_value_col = \"monetary_value\", \n",
    "    #datetime_format = \"%Y%m%d\",\n",
    ").reindex()"
   ]
  },
  {
   "cell_type": "markdown",
   "id": "cd77dcbe-6990-4784-9960-9fc2b52e90f0",
   "metadata": {},
   "source": [
    "Notice how **9** is missing from the dataframe index. Multiple transactions in the same time period are treated as a single purchase, so the indices for those additional transactions are skipped. \n",
    "\n",
    "`rfm_summary` is the primary data preprocessing step for CLV modeling in the continuous, non-contractual domain:"
   ]
  },
  {
   "cell_type": "code",
   "execution_count": 4,
   "id": "4c0a7de5-8825-40af-84e5-6cd0ad26a0e3",
   "metadata": {},
   "outputs": [
    {
     "data": {
      "text/html": [
       "<div>\n",
       "<style scoped>\n",
       "    .dataframe tbody tr th:only-of-type {\n",
       "        vertical-align: middle;\n",
       "    }\n",
       "\n",
       "    .dataframe tbody tr th {\n",
       "        vertical-align: top;\n",
       "    }\n",
       "\n",
       "    .dataframe thead th {\n",
       "        text-align: right;\n",
       "    }\n",
       "</style>\n",
       "<table border=\"1\" class=\"dataframe\">\n",
       "  <thead>\n",
       "    <tr style=\"text-align: right;\">\n",
       "      <th></th>\n",
       "      <th>customer_id</th>\n",
       "      <th>frequency</th>\n",
       "      <th>recency</th>\n",
       "      <th>monetary_value</th>\n",
       "    </tr>\n",
       "  </thead>\n",
       "  <tbody>\n",
       "    <tr>\n",
       "      <th>0</th>\n",
       "      <td>1</td>\n",
       "      <td>2.0</td>\n",
       "      <td>0.0</td>\n",
       "      <td>1.5</td>\n",
       "    </tr>\n",
       "    <tr>\n",
       "      <th>1</th>\n",
       "      <td>2</td>\n",
       "      <td>1.0</td>\n",
       "      <td>5.0</td>\n",
       "      <td>2.0</td>\n",
       "    </tr>\n",
       "    <tr>\n",
       "      <th>2</th>\n",
       "      <td>3</td>\n",
       "      <td>2.0</td>\n",
       "      <td>4.0</td>\n",
       "      <td>4.5</td>\n",
       "    </tr>\n",
       "    <tr>\n",
       "      <th>3</th>\n",
       "      <td>4</td>\n",
       "      <td>2.0</td>\n",
       "      <td>0.0</td>\n",
       "      <td>7.0</td>\n",
       "    </tr>\n",
       "    <tr>\n",
       "      <th>4</th>\n",
       "      <td>5</td>\n",
       "      <td>1.0</td>\n",
       "      <td>3.0</td>\n",
       "      <td>12.0</td>\n",
       "    </tr>\n",
       "  </tbody>\n",
       "</table>\n",
       "</div>"
      ],
      "text/plain": [
       "   customer_id  frequency  recency  monetary_value\n",
       "0            1        2.0      0.0             1.5\n",
       "1            2        1.0      5.0             2.0\n",
       "2            3        2.0      4.0             4.5\n",
       "3            4        2.0      0.0             7.0\n",
       "4            5        1.0      3.0            12.0"
      ]
     },
     "execution_count": 4,
     "metadata": {},
     "output_type": "execute_result"
    }
   ],
   "source": [
    "rfm_df = utils.rfm_summary(\n",
    "    test_data, \n",
    "    customer_id_col = \"id\", \n",
    "    datetime_col = \"date\", \n",
    "    monetary_value_col = \"monetary_value\",\n",
    "    observation_period_end = \"2015-02-06\",\n",
    "    datetime_format = \"%Y-%m-%d\",\n",
    "    time_unit = \"W\",\n",
    "    include_first_transaction=True,\n",
    ")\n",
    "\n",
    "rfm_df.head()"
   ]
  },
  {
   "cell_type": "markdown",
   "id": "aa8a6479-04fd-48ec-a34a-817b6fdff93c",
   "metadata": {},
   "source": [
    "For MAP fits and covariate models, `rfm_train_test_split` can be used to evaluate models on unseen data. It is also useful for identifying the impact of a time-based event like a marketing campaign."
   ]
  },
  {
   "cell_type": "code",
   "execution_count": 5,
   "id": "761edfe9-1b69-4966-83bf-4f1242eda2d5",
   "metadata": {},
   "outputs": [
    {
     "data": {
      "text/html": [
       "<div>\n",
       "<style scoped>\n",
       "    .dataframe tbody tr th:only-of-type {\n",
       "        vertical-align: middle;\n",
       "    }\n",
       "\n",
       "    .dataframe tbody tr th {\n",
       "        vertical-align: top;\n",
       "    }\n",
       "\n",
       "    .dataframe thead th {\n",
       "        text-align: right;\n",
       "    }\n",
       "</style>\n",
       "<table border=\"1\" class=\"dataframe\">\n",
       "  <thead>\n",
       "    <tr style=\"text-align: right;\">\n",
       "      <th></th>\n",
       "      <th>customer_id</th>\n",
       "      <th>frequency</th>\n",
       "      <th>recency</th>\n",
       "      <th>T</th>\n",
       "      <th>monetary_value</th>\n",
       "      <th>test_frequency</th>\n",
       "      <th>test_monetary_value</th>\n",
       "      <th>test_T</th>\n",
       "    </tr>\n",
       "  </thead>\n",
       "  <tbody>\n",
       "    <tr>\n",
       "      <th>0</th>\n",
       "      <td>1</td>\n",
       "      <td>0.0</td>\n",
       "      <td>0.0</td>\n",
       "      <td>31.0</td>\n",
       "      <td>0.0</td>\n",
       "      <td>1.0</td>\n",
       "      <td>2.0</td>\n",
       "      <td>5.0</td>\n",
       "    </tr>\n",
       "    <tr>\n",
       "      <th>1</th>\n",
       "      <td>2</td>\n",
       "      <td>0.0</td>\n",
       "      <td>0.0</td>\n",
       "      <td>31.0</td>\n",
       "      <td>0.0</td>\n",
       "      <td>0.0</td>\n",
       "      <td>0.0</td>\n",
       "      <td>5.0</td>\n",
       "    </tr>\n",
       "    <tr>\n",
       "      <th>2</th>\n",
       "      <td>3</td>\n",
       "      <td>2.0</td>\n",
       "      <td>4.0</td>\n",
       "      <td>31.0</td>\n",
       "      <td>3.0</td>\n",
       "      <td>0.0</td>\n",
       "      <td>0.0</td>\n",
       "      <td>5.0</td>\n",
       "    </tr>\n",
       "    <tr>\n",
       "      <th>3</th>\n",
       "      <td>4</td>\n",
       "      <td>0.0</td>\n",
       "      <td>0.0</td>\n",
       "      <td>16.0</td>\n",
       "      <td>0.0</td>\n",
       "      <td>2.0</td>\n",
       "      <td>4.0</td>\n",
       "      <td>5.0</td>\n",
       "    </tr>\n",
       "    <tr>\n",
       "      <th>4</th>\n",
       "      <td>5</td>\n",
       "      <td>2.0</td>\n",
       "      <td>2.0</td>\n",
       "      <td>16.0</td>\n",
       "      <td>4.5</td>\n",
       "      <td>0.0</td>\n",
       "      <td>0.0</td>\n",
       "      <td>5.0</td>\n",
       "    </tr>\n",
       "  </tbody>\n",
       "</table>\n",
       "</div>"
      ],
      "text/plain": [
       "   customer_id  frequency  recency     T  monetary_value  test_frequency  \\\n",
       "0            1        0.0      0.0  31.0             0.0             1.0   \n",
       "1            2        0.0      0.0  31.0             0.0             0.0   \n",
       "2            3        2.0      4.0  31.0             3.0             0.0   \n",
       "3            4        0.0      0.0  16.0             0.0             2.0   \n",
       "4            5        2.0      2.0  16.0             4.5             0.0   \n",
       "\n",
       "   test_monetary_value  test_T  \n",
       "0                  2.0     5.0  \n",
       "1                  0.0     5.0  \n",
       "2                  0.0     5.0  \n",
       "3                  4.0     5.0  \n",
       "4                  0.0     5.0  "
      ]
     },
     "execution_count": 5,
     "metadata": {},
     "output_type": "execute_result"
    }
   ],
   "source": [
    "train_test = utils.rfm_train_test_split(\n",
    "    test_data, \n",
    "    customer_id_col = \"id\", \n",
    "    datetime_col = \"date\", \n",
    "    train_period_end = \"2015-02-01\",\n",
    "    monetary_value_col = \"monetary_value\",\n",
    ")\n",
    "\n",
    "train_test.head()"
   ]
  },
  {
   "cell_type": "markdown",
   "id": "73dc1b93-6a4f-4171-b838-30759b2c1e0e",
   "metadata": {},
   "source": [
    "`rfm_segments` will assign customer to segments based on their recency, frequency, and monetary value. It uses a quartile-based RFM score approach that is very computationally efficient, but defining custom segments is a rather subjective exercise. The returned dataframe also cannot be used for modeling because it does not zero out the initial transactions."
   ]
  },
  {
   "cell_type": "code",
   "execution_count": 6,
   "id": "c7b3f800-8dfb-4e5a-b939-5f908281563c",
   "metadata": {},
   "outputs": [
    {
     "name": "stderr",
     "output_type": "stream",
     "text": [
      "/Users/coltallen/Projects/pymc-marketing/pymc_marketing/clv/utils.py:707: UserWarning: RFM score will not exceed 2 for f_quartile. Specify a custom segment_config\n",
      "  warnings.warn(\n"
     ]
    }
   ],
   "source": [
    "segments = utils.rfm_segments(\n",
    "    test_data, \n",
    "    customer_id_col = \"id\", \n",
    "    datetime_col = \"date\", \n",
    "    monetary_value_col = \"monetary_value\",\n",
    "    observation_period_end = \"2015-02-06\",\n",
    "    datetime_format = \"%Y-%m-%d\",\n",
    "    time_unit = \"W\",\n",
    ")"
   ]
  },
  {
   "cell_type": "markdown",
   "id": "509f8d13-de5b-4a24-a468-a757888088f1",
   "metadata": {},
   "source": [
    "`_expected_cumulative_transactions` is a utility function for creating cumulative plots over time:"
   ]
  },
  {
   "cell_type": "code",
   "execution_count": 23,
   "id": "b320a25b-b449-4c28-ac36-4a9ca573403a",
   "metadata": {},
   "outputs": [
    {
     "data": {
      "application/vnd.jupyter.widget-view+json": {
       "model_id": "59dd681e59464c66b569843c218ede25",
       "version_major": 2,
       "version_minor": 0
      },
      "text/plain": [
       "Output()"
      ]
     },
     "metadata": {},
     "output_type": "display_data"
    },
    {
     "data": {
      "text/html": [
       "<pre style=\"white-space:pre;overflow-x:auto;line-height:normal;font-family:Menlo,'DejaVu Sans Mono',consolas,'Courier New',monospace\">\n",
       "</pre>\n"
      ],
      "text/plain": [
       "\n"
      ]
     },
     "metadata": {},
     "output_type": "display_data"
    },
    {
     "data": {
      "text/html": [
       "<pre style=\"white-space:pre;overflow-x:auto;line-height:normal;font-family:Menlo,'DejaVu Sans Mono',consolas,'Courier New',monospace\"></pre>\n"
      ],
      "text/plain": []
     },
     "metadata": {},
     "output_type": "display_data"
    },
    {
     "data": {
      "text/html": [
       "<pre style=\"white-space:pre;overflow-x:auto;line-height:normal;font-family:Menlo,'DejaVu Sans Mono',consolas,'Courier New',monospace\">\n",
       "</pre>\n"
      ],
      "text/plain": [
       "\n"
      ]
     },
     "metadata": {},
     "output_type": "display_data"
    },
    {
     "name": "stdout",
     "output_type": "stream",
     "text": [
      "<class 'pandas.core.frame.DataFrame'>\n",
      "PeriodIndex: 175 entries, 1996-12-30/1997-01-05 to 2000-05-01/2000-05-07\n",
      "Freq: W-SUN\n",
      "Data columns (total 2 columns):\n",
      " #   Column     Non-Null Count  Dtype  \n",
      "---  ------     --------------  -----  \n",
      " 0   actual     175 non-null    int64  \n",
      " 1   predicted  175 non-null    float64\n",
      "dtypes: float64(1), int64(1)\n",
      "memory usage: 4.1 KB\n"
     ]
    }
   ],
   "source": [
    "url_cdnow = \"https://raw.githubusercontent.com/pymc-labs/pymc-marketing/main/data/cdnow_transactions.csv\"\n",
    "url_cdnow = \"/Users/coltallen/Projects/pymc-marketing/data/cdnow_transactions.csv\"\n",
    "raw_trans = pd.read_csv(url_cdnow)\n",
    "\n",
    "rfm_data = utils.rfm_summary(\n",
    "    raw_trans, \n",
    "    customer_id_col = \"id\", \n",
    "    datetime_col = \"date\", \n",
    "    datetime_format = \"%Y%m%d\",\n",
    "    time_unit = \"W\",\n",
    "    observation_period_end = \"19970930\",\n",
    "    #time_scaler = 7,\n",
    ")\n",
    "\n",
    "model_config = {\n",
    "    \"r_prior\": Prior(\"HalfFlat\"),\n",
    "    \"alpha_prior\": Prior(\"HalfFlat\"),\n",
    "    \"s_prior\": Prior(\"HalfFlat\"),\n",
    "    \"beta_prior\": Prior(\"HalfFlat\"),\n",
    "}\n",
    "\n",
    "pnbd = ParetoNBDModel(data=rfm_data,model_config=model_config)\n",
    "\n",
    "pnbd.fit()\n",
    "\n",
    "df_cum = utils._expected_cumulative_transactions(\n",
    "    model=pnbd,\n",
    "    transactions=raw_trans,\n",
    "    customer_id_col=\"id\",\n",
    "    datetime_col=\"date\",\n",
    "    t=25*7,\n",
    "    datetime_format=\"%Y%m%d\",\n",
    "    time_unit=\"W\",\n",
    "    set_index_date=True,\n",
    ")\n",
    "\n",
    "df_cum.info()"
   ]
  },
  {
   "cell_type": "code",
   "execution_count": 32,
   "id": "4c782dd3-a3ca-4eba-a4e8-d14188dc6723",
   "metadata": {},
   "outputs": [
    {
     "data": {
      "text/plain": [
       "range(0, 7)"
      ]
     },
     "execution_count": 32,
     "metadata": {},
     "output_type": "execute_result"
    }
   ],
   "source": [
    "date_range = pd.date_range(\"19970930\", periods=50 + 1, freq=\"D\")\n",
    "date_periods = date_range.to_period(\"D\")\n",
    "#date_periods[7 - 1 : -1 : 7].astype(int)\n",
    "range(0, 50 // 7)"
   ]
  },
  {
   "cell_type": "code",
   "execution_count": 38,
   "id": "00118088-ab04-4166-8422-8d237d3bc517",
   "metadata": {},
   "outputs": [
    {
     "data": {
      "text/plain": [
       "<Axes: title={'center': 'Tracking Cumulative Transactions'}, xlabel='Time Periods', ylabel='Purchases'>"
      ]
     },
     "execution_count": 38,
     "metadata": {},
     "output_type": "execute_result"
    },
    {
     "data": {
      "image/png": "[encoded data removed]",
      "text/plain": [
       "<Figure size 640x480 with 1 Axes>"
      ]
     },
     "metadata": {},
     "output_type": "display_data"
    }
   ],
   "source": [
    "from pymc_marketing.clv.plotting import plot_expected_purchases\n",
    "\n",
    "plot_expected_purchases(model=pnbd,\n",
    "    transactions=raw_trans,\n",
    "    plot_cumulative=True,\n",
    "    customer_id_col=\"id\",\n",
    "    datetime_col=\"date\",\n",
    "    t=10,\n",
    "    t_cal=8,\n",
    "    datetime_format=\"%Y%m%d\",\n",
    "    time_unit=\"D\",\n",
    "    set_index_date=False,\n",
    "                       )"
   ]
  }
 ],
 "metadata": {
  "kernelspec": {
   "display_name": "Python 3 (ipykernel)",
   "language": "python",
   "name": "python3"
  },
  "language_info": {
   "codemirror_mode": {
    "name": "ipython",
    "version": 3
   },
   "file_extension": ".py",
   "mimetype": "text/x-python",
   "name": "python",
   "nbconvert_exporter": "python",
   "pygments_lexer": "ipython3",
   "version": "3.10.14"
  }
 },
 "nbformat": 4,
 "nbformat_minor": 5
}
