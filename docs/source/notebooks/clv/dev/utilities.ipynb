{
 "cells": [
  {
   "cell_type": "code",
   "execution_count": 1,
   "id": "435ed203-5c3c-4efc-93d1-abac66ce7187",
   "metadata": {},
   "outputs": [
    {
     "name": "stderr",
     "output_type": "stream",
     "text": [
      "WARNING (pytensor.tensor.blas): Using NumPy C-API based implementation for BLAS functions.\n"
     ]
    }
   ],
   "source": [
    "import numpy as np\n",
    "import pandas as pd\n",
    "from pymc_marketing.clv import utils\n",
    "\n",
    "import pytensor\n",
    "pytensor.config.cxx = '/usr/bin/clang++'"
   ]
  },
  {
   "cell_type": "markdown",
   "id": "ce561a65-e600-42de-84b6-f3c683729fff",
   "metadata": {},
   "source": [
    "Create a simple dataset for testing:"
   ]
  },
  {
   "cell_type": "code",
   "execution_count": 9,
   "id": "67206961-516d-4f9b-ad87-ad1df992c372",
   "metadata": {},
   "outputs": [
    {
     "data": {
      "application/vnd.jupyter.widget-view+json": {
       "model_id": "2202d8c478424fac9c8afabf86ec86f2",
       "version_major": 2,
       "version_minor": 0
      },
      "text/plain": [
       "Output()"
      ]
     },
     "metadata": {},
     "output_type": "display_data"
    },
    {
     "data": {
      "text/html": [
       "<pre style=\"white-space:pre;overflow-x:auto;line-height:normal;font-family:Menlo,'DejaVu Sans Mono',consolas,'Courier New',monospace\">\n",
       "</pre>\n"
      ],
      "text/plain": [
       "\n"
      ]
     },
     "metadata": {},
     "output_type": "display_data"
    },
    {
     "data": {
      "text/html": [
       "<pre style=\"white-space:pre;overflow-x:auto;line-height:normal;font-family:Menlo,'DejaVu Sans Mono',consolas,'Courier New',monospace\"></pre>\n"
      ],
      "text/plain": []
     },
     "metadata": {},
     "output_type": "display_data"
    },
    {
     "data": {
      "text/html": [
       "<pre style=\"white-space:pre;overflow-x:auto;line-height:normal;font-family:Menlo,'DejaVu Sans Mono',consolas,'Courier New',monospace\">\n",
       "</pre>\n"
      ],
      "text/plain": [
       "\n"
      ]
     },
     "metadata": {},
     "output_type": "display_data"
    },
    {
     "data": {
      "text/plain": [
       "a         0.793\n",
       "alpha    30.895\n",
       "b         2.426\n",
       "r         0.243\n",
       "Name: value, dtype: float64"
      ]
     },
     "execution_count": 9,
     "metadata": {},
     "output_type": "execute_result"
    }
   ],
   "source": [
    "url_cdnow = \"https://raw.githubusercontent.com/pymc-labs/pymc-marketing/main/data/cdnow_transactions.csv\"\n",
    "cdnow_transactions = pd.read_csv(url_cdnow)\n",
    "\n",
    "rfm_data = utils.rfm_summary(\n",
    "    cdnow_transactions,\n",
    "    customer_id_col=\"id\",\n",
    "    datetime_col=\"date\",\n",
    "    datetime_format=\"%Y%m%d\",\n",
    "    time_unit=\"D\",\n",
    "    observation_period_end=\"19970930\",\n",
    "    time_scaler=1,\n",
    ")\n",
    "\n",
    "from pymc_marketing.clv import ParetoNBDModel, BetaGeoModel\n",
    "\n",
    "model = BetaGeoModel(rfm_data)\n",
    "model.fit(fit_method='map')\n",
    "\n",
    "model.fit_summary()"
   ]
  },
  {
   "cell_type": "code",
   "execution_count": 10,
   "id": "e75d07a8-e472-4a6c-958c-ec83888f1ccc",
   "metadata": {},
   "outputs": [
    {
     "data": {
      "text/html": [
       "<div>\n",
       "<style scoped>\n",
       "    .dataframe tbody tr th:only-of-type {\n",
       "        vertical-align: middle;\n",
       "    }\n",
       "\n",
       "    .dataframe tbody tr th {\n",
       "        vertical-align: top;\n",
       "    }\n",
       "\n",
       "    .dataframe thead th {\n",
       "        text-align: right;\n",
       "    }\n",
       "</style>\n",
       "<table border=\"1\" class=\"dataframe\">\n",
       "  <thead>\n",
       "    <tr style=\"text-align: right;\">\n",
       "      <th></th>\n",
       "      <th>actual</th>\n",
       "      <th>predicted</th>\n",
       "    </tr>\n",
       "  </thead>\n",
       "  <tbody>\n",
       "    <tr>\n",
       "      <th>1997-01-01</th>\n",
       "      <td>0</td>\n",
       "      <td>0.140646</td>\n",
       "    </tr>\n",
       "    <tr>\n",
       "      <th>1997-01-02</th>\n",
       "      <td>0</td>\n",
       "      <td>0.451834</td>\n",
       "    </tr>\n",
       "    <tr>\n",
       "      <th>1997-01-03</th>\n",
       "      <td>0</td>\n",
       "      <td>0.892874</td>\n",
       "    </tr>\n",
       "    <tr>\n",
       "      <th>1997-01-04</th>\n",
       "      <td>0</td>\n",
       "      <td>1.486012</td>\n",
       "    </tr>\n",
       "    <tr>\n",
       "      <th>1997-01-05</th>\n",
       "      <td>0</td>\n",
       "      <td>2.253299</td>\n",
       "    </tr>\n",
       "    <tr>\n",
       "      <th>1997-01-06</th>\n",
       "      <td>0</td>\n",
       "      <td>3.208783</td>\n",
       "    </tr>\n",
       "    <tr>\n",
       "      <th>1997-01-07</th>\n",
       "      <td>0</td>\n",
       "      <td>4.405474</td>\n",
       "    </tr>\n",
       "    <tr>\n",
       "      <th>1997-01-08</th>\n",
       "      <td>3</td>\n",
       "      <td>5.731812</td>\n",
       "    </tr>\n",
       "    <tr>\n",
       "      <th>1997-01-09</th>\n",
       "      <td>6</td>\n",
       "      <td>7.233624</td>\n",
       "    </tr>\n",
       "    <tr>\n",
       "      <th>1997-01-10</th>\n",
       "      <td>7</td>\n",
       "      <td>8.862547</td>\n",
       "    </tr>\n",
       "    <tr>\n",
       "      <th>1997-01-11</th>\n",
       "      <td>11</td>\n",
       "      <td>10.672284</td>\n",
       "    </tr>\n",
       "    <tr>\n",
       "      <th>1997-01-12</th>\n",
       "      <td>12</td>\n",
       "      <td>12.669152</td>\n",
       "    </tr>\n",
       "    <tr>\n",
       "      <th>1997-01-13</th>\n",
       "      <td>15</td>\n",
       "      <td>14.867241</td>\n",
       "    </tr>\n",
       "    <tr>\n",
       "      <th>1997-01-14</th>\n",
       "      <td>19</td>\n",
       "      <td>17.241459</td>\n",
       "    </tr>\n",
       "  </tbody>\n",
       "</table>\n",
       "</div>"
      ],
      "text/plain": [
       "            actual  predicted\n",
       "1997-01-01       0   0.140646\n",
       "1997-01-02       0   0.451834\n",
       "1997-01-03       0   0.892874\n",
       "1997-01-04       0   1.486012\n",
       "1997-01-05       0   2.253299\n",
       "1997-01-06       0   3.208783\n",
       "1997-01-07       0   4.405474\n",
       "1997-01-08       3   5.731812\n",
       "1997-01-09       6   7.233624\n",
       "1997-01-10       7   8.862547\n",
       "1997-01-11      11  10.672284\n",
       "1997-01-12      12  12.669152\n",
       "1997-01-13      15  14.867241\n",
       "1997-01-14      19  17.241459"
      ]
     },
     "execution_count": 10,
     "metadata": {},
     "output_type": "execute_result"
    }
   ],
   "source": [
    "df_cum = utils._expected_cumulative_transactions(\n",
    "    model=model,\n",
    "    transactions=cdnow_transactions,\n",
    "    customer_id_col=\"id\",\n",
    "    datetime_col=\"date\",\n",
    "    t=14,\n",
    "    datetime_format=\"%Y%m%d\",\n",
    "    time_unit=\"D\",\n",
    "    time_scaler= 1,\n",
    "    set_index_date=True,\n",
    ")\n",
    "df_cum"
   ]
  },
  {
   "cell_type": "code",
   "execution_count": null,
   "id": "7de7f396-1d5b-4457-916b-c29ed90aa132",
   "metadata": {},
   "outputs": [],
   "source": [
    "d = [\n",
    "    [1, \"2015-01-01\", 1],\n",
    "    [1, \"2015-02-06\", 2],\n",
    "    [2, \"2015-01-01\", 2],\n",
    "    [3, \"2015-01-01\", 3],\n",
    "    [3, \"2015-01-02\", 1],\n",
    "    [3, \"2015-01-05\", 5],\n",
    "    [4, \"2015-01-16\", 6],\n",
    "    [4, \"2015-02-02\", 3],\n",
    "    [4, \"2015-02-05\", 3],\n",
    "    [4, \"2015-02-05\", 2],\n",
    "    [5, \"2015-01-16\", 3],\n",
    "    [5, \"2015-01-17\", 1],\n",
    "    [5, \"2015-01-18\", 8],\n",
    "    [6, \"2015-02-02\", 5],\n",
    "]\n",
    "test_data = pd.DataFrame(d, columns=[\"id\", \"date\", \"monetary_value\"])"
   ]
  },
  {
   "cell_type": "markdown",
   "id": "b089a2be-2c3e-4dd1-b96d-ee7c0bd02250",
   "metadata": {},
   "source": [
    "Note customer 4 made two purchases on 2015-02-05. \n",
    "\n",
    "`_find_first_transactions` flags the first purchase each customer has made, which must be excluded for modeling. It is called internally by `rfm_summary`."
   ]
  },
  {
   "cell_type": "code",
   "execution_count": null,
   "id": "932e8db6-78cf-49df-aa4a-83ee6584e5dd",
   "metadata": {},
   "outputs": [],
   "source": [
    "utils._find_first_transactions(\n",
    "    transactions=test_data, \n",
    "    customer_id_col = \"id\", \n",
    "    datetime_col = \"date\",\n",
    "    #monetary_value_col = \"monetary_value\", \n",
    "    #datetime_format = \"%Y%m%d\",\n",
    ").reindex()"
   ]
  },
  {
   "cell_type": "markdown",
   "id": "cd77dcbe-6990-4784-9960-9fc2b52e90f0",
   "metadata": {},
   "source": [
    "Notice how **9** is missing from the dataframe index. Multiple transactions in the same time period are treated as a single purchase, so the indices for those additional transactions are skipped. \n",
    "\n",
    "`rfm_summary` is the primary data preprocessing step for CLV modeling in the continuous, non-contractual domain:"
   ]
  },
  {
   "cell_type": "code",
   "execution_count": null,
   "id": "4c0a7de5-8825-40af-84e5-6cd0ad26a0e3",
   "metadata": {},
   "outputs": [],
   "source": [
    "rfm_df = utils.rfm_summary(\n",
    "    test_data, \n",
    "    customer_id_col = \"id\", \n",
    "    datetime_col = \"date\", \n",
    "    monetary_value_col = \"monetary_value\",\n",
    "    observation_period_end = \"2015-02-06\",\n",
    "    datetime_format = \"%Y-%m-%d\",\n",
    "    time_unit = \"W\",\n",
    "    include_first_transaction=True,\n",
    ")\n",
    "\n",
    "rfm_df.head()"
   ]
  },
  {
   "cell_type": "markdown",
   "id": "aa8a6479-04fd-48ec-a34a-817b6fdff93c",
   "metadata": {},
   "source": [
    "For MAP fits and covariate models, `rfm_train_test_split` can be used to evaluate models on unseen data. It is also useful for identifying the impact of a time-based event like a marketing campaign."
   ]
  },
  {
   "cell_type": "code",
   "execution_count": null,
   "id": "761edfe9-1b69-4966-83bf-4f1242eda2d5",
   "metadata": {},
   "outputs": [],
   "source": [
    "train_test = utils.rfm_train_test_split(\n",
    "    test_data, \n",
    "    customer_id_col = \"id\", \n",
    "    datetime_col = \"date\", \n",
    "    train_period_end = \"2015-02-01\",\n",
    "    monetary_value_col = \"monetary_value\",\n",
    ")\n",
    "\n",
    "train_test.head()"
   ]
  },
  {
   "cell_type": "markdown",
   "id": "73dc1b93-6a4f-4171-b838-30759b2c1e0e",
   "metadata": {},
   "source": [
    "`rfm_segments` will assign customer to segments based on their recency, frequency, and monetary value. It uses a quartile-based RFM score approach that is very computationally efficient, but defining custom segments is a rather subjective exercise. The returned dataframe also cannot be used for modeling because it does not zero out the initial transactions."
   ]
  },
  {
   "cell_type": "code",
   "execution_count": null,
   "id": "c7b3f800-8dfb-4e5a-b939-5f908281563c",
   "metadata": {},
   "outputs": [],
   "source": [
    "segments = utils.rfm_segments(\n",
    "    test_data, \n",
    "    customer_id_col = \"id\", \n",
    "    datetime_col = \"date\", \n",
    "    monetary_value_col = \"monetary_value\",\n",
    "    observation_period_end = \"2015-02-06\",\n",
    "    datetime_format = \"%Y-%m-%d\",\n",
    "    time_unit = \"W\",\n",
    ")"
   ]
  },
  {
   "cell_type": "code",
   "execution_count": null,
   "id": "932ac4e5-361e-42fa-97d3-d8e508128944",
   "metadata": {},
   "outputs": [],
   "source": [
    "segments"
   ]
  },
  {
   "cell_type": "markdown",
   "id": "509f8d13-de5b-4a24-a468-a757888088f1",
   "metadata": {},
   "source": [
    "`_expected_cumulative_transactions` is a utility function for cumulative plots over time, a useful model evaluation."
   ]
  },
  {
   "cell_type": "code",
   "execution_count": null,
   "id": "b320a25b-b449-4c28-ac36-4a9ca573403a",
   "metadata": {},
   "outputs": [],
   "source": [
    "from pymc_marketing.clv import ParetoNBDModel\n",
    "from pymc_marketing.prior import Prior\n",
    "\n",
    "url_cdnow = \"https://raw.githubusercontent.com/pymc-labs/pymc-marketing/main/data/cdnow_transactions.csv\"\n",
    "raw_trans = pd.read_csv(url_cdnow)\n",
    "\n",
    "rfm_data = utils.rfm_summary(\n",
    "    raw_trans, \n",
    "    customer_id_col = \"id\", \n",
    "    datetime_col = \"date\", \n",
    "    datetime_format = \"%Y%m%d\",\n",
    "    time_unit = \"D\",\n",
    "    observation_period_end = \"19970930\",\n",
    "    time_scaler = 7,\n",
    ")\n",
    "\n",
    "model_config = {\n",
    "    \"r_prior\": Prior(\"HalfFlat\"),\n",
    "    \"alpha_prior\": Prior(\"HalfFlat\"),\n",
    "    \"s_prior\": Prior(\"HalfFlat\"),\n",
    "    \"beta_prior\": Prior(\"HalfFlat\"),\n",
    "}\n",
    "\n",
    "pnbd = ParetoNBDModel(data=rfm_data,model_config=model_config)\n",
    "\n",
    "pnbd.fit()\n",
    "\n",
    "df_cum = utils._expected_cumulative_transactions(\n",
    "    model=pnbd,\n",
    "    transactions=raw_trans,\n",
    "    customer_id_col=\"id\",\n",
    "    datetime_col=\"date\",\n",
    "    t=25*7,\n",
    "    datetime_format=\"%Y%m%d\",\n",
    "    time_unit=\"D\",\n",
    "    time_scaler= 7,\n",
    ")\n",
    "df_cum"
   ]
  },
  {
   "cell_type": "code",
   "execution_count": null,
   "id": "3df71864-0557-46c3-a045-670d72c8b781",
   "metadata": {},
   "outputs": [],
   "source": [
    "actual = df_cum[\"actual\"].iloc[19:25].values\n",
    "predicted = df_cum[\"predicted\"].iloc[19:25].values#.round(2)\n",
    "\n",
    "df_cum.info()"
   ]
  },
  {
   "cell_type": "markdown",
   "id": "925e8e7b-3fb8-4f70-8e4d-2609cad6760b",
   "metadata": {},
   "source": [
    "Internals of `_expected_cumulative_transactions`:"
   ]
  },
  {
   "cell_type": "code",
   "execution_count": null,
   "id": "3ea210d6-8d77-4e7b-96d5-d24726bc198c",
   "metadata": {},
   "outputs": [],
   "source": [
    "import numpy as np\n",
    "\n",
    "url_cdnow = \"https://raw.githubusercontent.com/pymc-labs/pymc-marketing/main/data/cdnow_transactions.csv\"\n",
    "raw_trans = pd.read_csv(url_cdnow)\n",
    "\n",
    "# function args\n",
    "transactions=raw_trans\n",
    "customer_id_col = \"id\"\n",
    "datetime_col = \"date\"\n",
    "datetime_format = \"%Y%m%d\"\n",
    "t=7\n",
    "time_unit = \"D\"\n",
    "observation_period_end = None #\"19970930\"\n",
    "time_scaler = 7\n",
    "set_index_date = True\n",
    "\n",
    "start_date = pd.to_datetime(\n",
    "        transactions[datetime_col], format=datetime_format\n",
    "    ).min()\n",
    "start_period = start_date.to_period(time_unit)\n",
    "observation_period_end = start_period + t\n",
    "\n",
    "repeated_and_first_transactions = utils._find_first_transactions(\n",
    "    transactions=raw_trans, \n",
    "    customer_id_col = customer_id_col, \n",
    "    datetime_col = datetime_col,\n",
    "    datetime_format = datetime_format,\n",
    "    time_unit = time_unit,\n",
    "    observation_period_end = observation_period_end,\n",
    ")\n",
    "\n",
    "first_trans_mask = repeated_and_first_transactions[\"first\"]\n",
    "repeated_transactions = repeated_and_first_transactions[~first_trans_mask]\n",
    "first_transactions = repeated_and_first_transactions[first_trans_mask]\n",
    "\n",
    "date_range = pd.date_range(start_date, periods=t + 1, freq=time_unit)\n",
    "date_periods = date_range.to_period(time_unit)\n",
    "\n",
    "pred_cum_transactions = np.array([])\n",
    "\n",
    "# First Transactions on Each Day/Freq\n",
    "first_trans_size = first_transactions.groupby(datetime_col).size()\n",
    "\n",
    "# TODO: This loop will require additional work due to modeling differences between pymc-marketing and lifetimes\n",
    "#       Will need to create a dataframe with unique T for each customer\n",
    "for i, period in enumerate(date_periods):  # index of period and its date\n",
    "    if i % time_scaler == 0 and i > 0:\n",
    "        # Periods before the one being evaluated\n",
    "        times = numpy.array([d.n for d in period - first_trans_size.index])\n",
    "        times = times[times > 0].astype(float) / time_scaler\n",
    "\n",
    "        pred_data = pd.DataFrame(\n",
    "            {\n",
    "                \"customer_id\": times,\n",
    "                \"t\":  times,\n",
    "            }\n",
    "        )\n",
    "\n",
    "        expected_trans_agg = pnbd.expected_purchases_new_customer(pred_data).mean(dim=(\"chain\",\"draw\"))\n",
    "        \n",
    "        # Mask for the number of customers with 1st transactions up to the period\n",
    "        mask = first_trans_size.index < period\n",
    "        masked_first_trans = first_trans_size[mask].values\n",
    "        # ``expected_trans`` is a float with the cumulative sum of expected transactions\n",
    "        expected_trans = (expected_trans_agg * masked_first_trans).sum()\n",
    "\n",
    "        pred_cum_transactions = np.append(pred_cum_transactions, expected_trans.values)\n",
    "\n",
    "act_trans = repeated_transactions.groupby(datetime_col).size()\n",
    "act_tracking_transactions = act_trans.reindex(date_periods, fill_value=0)\n",
    "\n",
    "act_cum_transactions = []\n",
    "\n",
    "for j in range(1, t // time_scaler + 1):\n",
    "    sum_trans = sum(act_tracking_transactions.iloc[: j * time_scaler])\n",
    "    act_cum_transactions.append(sum_trans)\n",
    "\n",
    "if set_index_date:\n",
    "    index = date_periods[time_scaler - 1 : -1 : time_scaler]\n",
    "else:\n",
    "    index = range(0, t // time_scaler)\n",
    "\n",
    "df_cum_transactions = pd.DataFrame(\n",
    "        {\"actual\": act_cum_transactions, \"predicted\": pred_cum_transactions},\n",
    "        index=index,\n",
    "    )\n",
    "\n",
    "\n",
    "df_cum_transactions.info()\n"
   ]
  },
  {
   "cell_type": "code",
   "execution_count": null,
   "id": "a4eeadd8-4d0c-47e3-a3f4-9de5f4c64ecd",
   "metadata": {},
   "outputs": [],
   "source": [
    "expected_trans_agg.mean(dim=(\"chain\",\"draw\"))"
   ]
  },
  {
   "cell_type": "code",
   "execution_count": null,
   "id": "e81d57d2-3513-44b3-a4b7-daf22b367f29",
   "metadata": {},
   "outputs": [],
   "source": [
    "\n",
    "first_trans_size[mask].values"
   ]
  },
  {
   "cell_type": "code",
   "execution_count": null,
   "id": "1d94e59f-f06d-4b05-8304-6800964158df",
   "metadata": {},
   "outputs": [],
   "source": []
  }
 ],
 "metadata": {
  "kernelspec": {
   "display_name": "Python 3 (ipykernel)",
   "language": "python",
   "name": "python3"
  },
  "language_info": {
   "codemirror_mode": {
    "name": "ipython",
    "version": 3
   },
   "file_extension": ".py",
   "mimetype": "text/x-python",
   "name": "python",
   "nbconvert_exporter": "python",
   "pygments_lexer": "ipython3",
   "version": "3.10.14"
  }
 },
 "nbformat": 4,
 "nbformat_minor": 5
}
