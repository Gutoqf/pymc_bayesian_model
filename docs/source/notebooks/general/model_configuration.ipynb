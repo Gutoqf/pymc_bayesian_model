{
 "cells": [
  {
   "cell_type": "markdown",
   "id": "bc1f69aa-913d-49fa-8e20-58f953301851",
   "metadata": {},
   "source": [
    "(model_configuration)=\n",
    "# Model Configuration\n",
    "\n",
    "This goes over the model configuration\n",
    "\n",
    "## Setup"
   ]
  },
  {
   "cell_type": "code",
   "execution_count": 1,
   "id": "9d6bc077-24d1-47de-8542-5497ade670e3",
   "metadata": {},
   "outputs": [],
   "source": [
    "import arviz as az\n",
    "import matplotlib.pyplot as plt\n",
    "import numpy as np\n",
    "import pymc as pm\n",
    "\n",
    "from pymc_marketing.model_config import parse_model_config\n",
    "from pymc_marketing.prior import Prior\n",
    "\n",
    "az.style.use(\"arviz-darkgrid\")\n",
    "plt.rcParams[\"figure.figsize\"] = [12, 7]\n",
    "plt.rcParams[\"figure.dpi\"] = 100"
   ]
  },
  {
   "cell_type": "markdown",
   "id": "a5f28af2-a8a2-4046-ad65-940464862424",
   "metadata": {},
   "source": [
    "## Prior Distributions\n",
    "\n",
    "The `Prior` class is our way to expression distributions and relationships between them.\n",
    "\n",
    "### Basic Usage\n",
    "\n",
    "Every prior will need a distribution name that comes from `PyMC`"
   ]
  },
  {
   "cell_type": "code",
   "execution_count": 2,
   "id": "34815050-4f1b-4345-b31b-466fb357a974",
   "metadata": {},
   "outputs": [
    {
     "data": {
      "text/plain": [
       "Prior(\"Normal\")"
      ]
     },
     "execution_count": 2,
     "metadata": {},
     "output_type": "execute_result"
    }
   ],
   "source": [
    "scalar_distribution = Prior(\"Normal\")\n",
    "scalar_distribution"
   ]
  },
  {
   "cell_type": "markdown",
   "id": "b76493fe-48a1-472e-9c8a-fbf632d89baf",
   "metadata": {},
   "source": [
    "If not, then an exception will be raised"
   ]
  },
  {
   "cell_type": "code",
   "execution_count": 3,
   "id": "06314bd5-ebce-4c41-b2c5-b99143c13192",
   "metadata": {},
   "outputs": [
    {
     "name": "stdout",
     "output_type": "stream",
     "text": [
      "pymc doesn't have a distribution of name 'UnknownDistribution'\n"
     ]
    }
   ],
   "source": [
    "try:\n",
    "    Prior(\"UnknownDistribution\")\n",
    "except Exception as e:\n",
    "    print(e)"
   ]
  },
  {
   "cell_type": "markdown",
   "id": "d76c8fbd-5a22-408d-af96-c9a0ae712da5",
   "metadata": {},
   "source": [
    "Specific parameters can be passed as **keyword arguments** but are not required if the `PyMC` distribution has defaults."
   ]
  },
  {
   "cell_type": "code",
   "execution_count": 4,
   "id": "d12e116e-32f4-4f15-a9ee-4d6a0472590c",
   "metadata": {},
   "outputs": [
    {
     "data": {
      "text/plain": [
       "Prior(\"Normal\", mu=0, sigma=3.5)"
      ]
     },
     "execution_count": 4,
     "metadata": {},
     "output_type": "execute_result"
    }
   ],
   "source": [
    "scalar_distribution = Prior(\"Normal\", mu=0, sigma=3.5)\n",
    "scalar_distribution"
   ]
  },
  {
   "cell_type": "markdown",
   "id": "3b46a0bd-d178-4afc-9f5e-3dcf19170e7e",
   "metadata": {},
   "source": [
    "There will be a check at initialization against the `PyMC` distribution."
   ]
  },
  {
   "cell_type": "code",
   "execution_count": 5,
   "id": "38a7db8f-9cc0-4e5b-8c64-c04415b0f35a",
   "metadata": {},
   "outputs": [
    {
     "name": "stdout",
     "output_type": "stream",
     "text": [
      "Parameters {'b', 'mu'} are not a subset of the pymc distribution parameters {set(pymc_params)}\n"
     ]
    }
   ],
   "source": [
    "try:\n",
    "    Prior(\"Normal\", mu=0, b=1)\n",
    "except Exception as e:\n",
    "    print(e)"
   ]
  },
  {
   "cell_type": "markdown",
   "id": "e4bb33ab-9045-4701-9daa-eaa3b4b6d80c",
   "metadata": {},
   "source": [
    "However, there are some limitations to that. Take this invalid parameterization below:"
   ]
  },
  {
   "cell_type": "code",
   "execution_count": 6,
   "id": "a8dcb6f8-1357-4de4-b5d5-a30ab2c48e5b",
   "metadata": {},
   "outputs": [],
   "source": [
    "invalid_distribution = Prior(\"Normal\", mu=1, sigma=1, tau=2)"
   ]
  },
  {
   "cell_type": "markdown",
   "id": "660cb88e-3693-43fa-819e-866cd06aba81",
   "metadata": {},
   "source": [
    "The `create_variable` method is used to make variables from this distribution and it isn't until then that there is an error."
   ]
  },
  {
   "cell_type": "code",
   "execution_count": 7,
   "id": "5e1df586-c4d2-4ac0-9a27-cc3313a0005b",
   "metadata": {},
   "outputs": [
    {
     "name": "stdout",
     "output_type": "stream",
     "text": [
      "Can't pass both tau and sigma\n"
     ]
    }
   ],
   "source": [
    "with pm.Model():\n",
    "    try:\n",
    "        invalid_distribution.create_variable(\"mu\")\n",
    "    except Exception as e:\n",
    "        print(e)"
   ]
  },
  {
   "cell_type": "markdown",
   "id": "5de45592-94fb-4bb8-976f-48edf4244a57",
   "metadata": {},
   "source": [
    "The `dims` parameter are used to express the dimensions of the distribution. This variable is not part of a model so the values are not reflected with the distribution itself."
   ]
  },
  {
   "cell_type": "code",
   "execution_count": 9,
   "id": "925e49bf-97f3-4fa8-863e-2655abc65e82",
   "metadata": {},
   "outputs": [
    {
     "data": {
      "text/plain": [
       "Prior(\"Normal\", dims=\"channel\")"
      ]
     },
     "execution_count": 9,
     "metadata": {},
     "output_type": "execute_result"
    }
   ],
   "source": [
    "vector_distribution = Prior(\"Normal\", dims=\"channel\")\n",
    "vector_distribution"
   ]
  },
  {
   "cell_type": "markdown",
   "id": "56f329cd-c5fc-44c2-9c27-07d33fe9697c",
   "metadata": {},
   "source": [
    "If there are dimensions, then the coords need to exist in the larger model.\n",
    "\n",
    "```{tip}\n",
    "Each `Prior` instance is just instructions to create a variable, so they can be used multiple times!\n",
    "```"
   ]
  },
  {
   "cell_type": "code",
   "execution_count": 10,
   "id": "ad58dacf-9f56-47f9-b5ca-6678f27d5856",
   "metadata": {},
   "outputs": [
    {
     "data": {
      "image/svg+xml": [
       "<?xml version=\"1.0\" encoding=\"UTF-8\" standalone=\"no\"?>\n",
       "<!DOCTYPE svg PUBLIC \"-//W3C//DTD SVG 1.1//EN\"\n",
       " \"http://www.w3.org/Graphics/SVG/1.1/DTD/svg11.dtd\">\n",
       "<!-- Generated by graphviz version 9.0.0 (20231125.0833)\n",
       " -->\n",
       "<!-- Pages: 1 -->\n",
       "<svg width=\"254pt\" height=\"150pt\"\n",
       " viewBox=\"0.00 0.00 254.00 149.75\" xmlns=\"http://www.w3.org/2000/svg\" xmlns:xlink=\"http://www.w3.org/1999/xlink\">\n",
       "<g id=\"graph0\" class=\"graph\" transform=\"scale(1 1) rotate(0) translate(4 145.75)\">\n",
       "<polygon fill=\"white\" stroke=\"none\" points=\"-4,4 -4,-145.75 250,-145.75 250,4 -4,4\"/>\n",
       "<g id=\"clust1\" class=\"cluster\">\n",
       "<title>clusterchannel (2)</title>\n",
       "<path fill=\"none\" stroke=\"black\" d=\"M20,-8C20,-8 226,-8 226,-8 232,-8 238,-14 238,-20 238,-20 238,-121.75 238,-121.75 238,-127.75 232,-133.75 226,-133.75 226,-133.75 20,-133.75 20,-133.75 14,-133.75 8,-127.75 8,-121.75 8,-121.75 8,-20 8,-20 8,-14 14,-8 20,-8\"/>\n",
       "<text text-anchor=\"middle\" x=\"190.25\" y=\"-15.95\" font-family=\"Times,serif\" font-size=\"14.00\">channel (2)</text>\n",
       "</g>\n",
       "<!-- alpha -->\n",
       "<g id=\"node1\" class=\"node\">\n",
       "<title>alpha</title>\n",
       "<ellipse fill=\"none\" stroke=\"black\" cx=\"181\" cy=\"-83.5\" rx=\"48.97\" ry=\"42.25\"/>\n",
       "<text text-anchor=\"middle\" x=\"181\" y=\"-96.07\" font-family=\"Times,serif\" font-size=\"14.00\">alpha</text>\n",
       "<text text-anchor=\"middle\" x=\"181\" y=\"-78.82\" font-family=\"Times,serif\" font-size=\"14.00\">~</text>\n",
       "<text text-anchor=\"middle\" x=\"181\" y=\"-61.57\" font-family=\"Times,serif\" font-size=\"14.00\">Normal</text>\n",
       "</g>\n",
       "<!-- beta -->\n",
       "<g id=\"node2\" class=\"node\">\n",
       "<title>beta</title>\n",
       "<ellipse fill=\"none\" stroke=\"black\" cx=\"65\" cy=\"-83.5\" rx=\"48.97\" ry=\"42.25\"/>\n",
       "<text text-anchor=\"middle\" x=\"65\" y=\"-96.07\" font-family=\"Times,serif\" font-size=\"14.00\">beta</text>\n",
       "<text text-anchor=\"middle\" x=\"65\" y=\"-78.82\" font-family=\"Times,serif\" font-size=\"14.00\">~</text>\n",
       "<text text-anchor=\"middle\" x=\"65\" y=\"-61.57\" font-family=\"Times,serif\" font-size=\"14.00\">Normal</text>\n",
       "</g>\n",
       "</g>\n",
       "</svg>\n"
      ],
      "text/plain": [
       "<graphviz.graphs.Digraph at 0x7fa86dd0c9d0>"
      ]
     },
     "execution_count": 10,
     "metadata": {},
     "output_type": "execute_result"
    }
   ],
   "source": [
    "coords = {\"channel\": [\"C1\", \"C2\"]}\n",
    "with pm.Model(coords=coords) as model:\n",
    "    alpha = vector_distribution.create_variable(\"alpha\")\n",
    "    beta = vector_distribution.create_variable(\"beta\")\n",
    "\n",
    "pm.model_to_graphviz(model)"
   ]
  },
  {
   "cell_type": "markdown",
   "id": "27f9583f-b676-4ac2-85a5-d522815de5e3",
   "metadata": {},
   "source": [
    "If the coords were not specified then this would cause a PyMC error."
   ]
  },
  {
   "cell_type": "code",
   "execution_count": 11,
   "id": "76a89202-7f68-4e89-a77a-ae917b1b3573",
   "metadata": {},
   "outputs": [
    {
     "name": "stdout",
     "output_type": "stream",
     "text": [
      "\"Dimensions {'channel'} are unknown to the model and cannot be used to specify a `shape`.\"\n"
     ]
    }
   ],
   "source": [
    "with pm.Model() as model:\n",
    "    try:\n",
    "        vector_distribution.create_variable(\"var\")\n",
    "    except Exception as e:\n",
    "        print(e)"
   ]
  },
  {
   "cell_type": "markdown",
   "id": "b1000cc0-2087-48b0-a276-f8921f5db750",
   "metadata": {},
   "source": [
    "The variables can get arbitrarily large as well by providing additional dims in a tuple."
   ]
  },
  {
   "cell_type": "code",
   "execution_count": 12,
   "id": "26101b33-78b3-47fc-996f-140660efb1c9",
   "metadata": {},
   "outputs": [
    {
     "data": {
      "text/plain": [
       "Prior(\"Normal\", dims=(\"channel\", \"geo\"))"
      ]
     },
     "execution_count": 12,
     "metadata": {},
     "output_type": "execute_result"
    }
   ],
   "source": [
    "matrix_distribution = Prior(\"Normal\", dims=(\"channel\", \"geo\"))\n",
    "matrix_distribution"
   ]
  },
  {
   "cell_type": "code",
   "execution_count": 13,
   "id": "d129b86f-80ac-473b-b815-9a7ef733ab5d",
   "metadata": {},
   "outputs": [
    {
     "data": {
      "text/plain": [
       "Prior(\"Normal\", dims=(\"channel\", \"geo\", \"store\"))"
      ]
     },
     "execution_count": 13,
     "metadata": {},
     "output_type": "execute_result"
    }
   ],
   "source": [
    "tensor_distribution = Prior(\"Normal\", dims=(\"channel\", \"geo\", \"store\"))\n",
    "tensor_distribution"
   ]
  },
  {
   "cell_type": "markdown",
   "id": "15d51049-02e6-42e1-a31c-942a855347fb",
   "metadata": {},
   "source": [
    "### Hierarchical Variables\n",
    "\n",
    "Hierarchical variables can be defined by using distributions as the parameters of another distribution. The parent distributions will usually have a larger dimensionality than each of the parameters."
   ]
  },
  {
   "cell_type": "code",
   "execution_count": 14,
   "id": "5620b88f-5137-4f4b-8ffb-f7362deaea85",
   "metadata": {},
   "outputs": [],
   "source": [
    "hierarchical_variable = Prior(\n",
    "    \"Normal\",\n",
    "    mu=Prior(\"Normal\"),\n",
    "    sigma=Prior(\"HalfNormal\"),\n",
    "    dims=\"channel\",\n",
    ")"
   ]
  },
  {
   "cell_type": "markdown",
   "id": "32c14b21-66b0-4948-9804-870c25876cbe",
   "metadata": {},
   "source": [
    "We can use the `graph` method to create visualize the variable with dummy coordinates.\n",
    "\n",
    "```{note}\n",
    "No need to worry about variable naming! The child parameters will all be automatically named based on the parent.\n",
    "```"
   ]
  },
  {
   "cell_type": "code",
   "execution_count": 15,
   "id": "e830baac-08fd-492a-ae65-0f6aa36debf9",
   "metadata": {},
   "outputs": [
    {
     "data": {
      "image/svg+xml": [
       "<?xml version=\"1.0\" encoding=\"UTF-8\" standalone=\"no\"?>\n",
       "<!DOCTYPE svg PUBLIC \"-//W3C//DTD SVG 1.1//EN\"\n",
       " \"http://www.w3.org/Graphics/SVG/1.1/DTD/svg11.dtd\">\n",
       "<!-- Generated by graphviz version 9.0.0 (20231125.0833)\n",
       " -->\n",
       "<!-- Pages: 1 -->\n",
       "<svg width=\"264pt\" height=\"254pt\"\n",
       " viewBox=\"0.00 0.00 264.15 254.25\" xmlns=\"http://www.w3.org/2000/svg\" xmlns:xlink=\"http://www.w3.org/1999/xlink\">\n",
       "<g id=\"graph0\" class=\"graph\" transform=\"scale(1 1) rotate(0) translate(4 250.25)\">\n",
       "<polygon fill=\"white\" stroke=\"none\" points=\"-4,4 -4,-250.25 260.15,-250.25 260.15,4 -4,4\"/>\n",
       "<g id=\"clust1\" class=\"cluster\">\n",
       "<title>clusterchannel (1)</title>\n",
       "<path fill=\"none\" stroke=\"black\" d=\"M93.18,-8C93.18,-8 183.18,-8 183.18,-8 189.18,-8 195.18,-14 195.18,-20 195.18,-20 195.18,-121.75 195.18,-121.75 195.18,-127.75 189.18,-133.75 183.18,-133.75 183.18,-133.75 93.18,-133.75 93.18,-133.75 87.18,-133.75 81.18,-127.75 81.18,-121.75 81.18,-121.75 81.18,-20 81.18,-20 81.18,-14 87.18,-8 93.18,-8\"/>\n",
       "<text text-anchor=\"middle\" x=\"147.43\" y=\"-15.95\" font-family=\"Times,serif\" font-size=\"14.00\">channel (1)</text>\n",
       "</g>\n",
       "<!-- var_sigma -->\n",
       "<g id=\"node1\" class=\"node\">\n",
       "<title>var_sigma</title>\n",
       "<ellipse fill=\"none\" stroke=\"black\" cx=\"70.18\" cy=\"-204\" rx=\"70.18\" ry=\"42.25\"/>\n",
       "<text text-anchor=\"middle\" x=\"70.18\" y=\"-216.57\" font-family=\"Times,serif\" font-size=\"14.00\">var_sigma</text>\n",
       "<text text-anchor=\"middle\" x=\"70.18\" y=\"-199.32\" font-family=\"Times,serif\" font-size=\"14.00\">~</text>\n",
       "<text text-anchor=\"middle\" x=\"70.18\" y=\"-182.07\" font-family=\"Times,serif\" font-size=\"14.00\">HalfNormal</text>\n",
       "</g>\n",
       "<!-- var -->\n",
       "<g id=\"node3\" class=\"node\">\n",
       "<title>var</title>\n",
       "<ellipse fill=\"none\" stroke=\"black\" cx=\"138.18\" cy=\"-83.5\" rx=\"48.97\" ry=\"42.25\"/>\n",
       "<text text-anchor=\"middle\" x=\"138.18\" y=\"-96.07\" font-family=\"Times,serif\" font-size=\"14.00\">var</text>\n",
       "<text text-anchor=\"middle\" x=\"138.18\" y=\"-78.82\" font-family=\"Times,serif\" font-size=\"14.00\">~</text>\n",
       "<text text-anchor=\"middle\" x=\"138.18\" y=\"-61.57\" font-family=\"Times,serif\" font-size=\"14.00\">Normal</text>\n",
       "</g>\n",
       "<!-- var_sigma&#45;&gt;var -->\n",
       "<g id=\"edge1\" class=\"edge\">\n",
       "<title>var_sigma&#45;&gt;var</title>\n",
       "<path fill=\"none\" stroke=\"black\" d=\"M92.82,-163.54C98.68,-153.34 105.04,-142.25 111.1,-131.69\"/>\n",
       "<polygon fill=\"black\" stroke=\"black\" points=\"114.09,-133.51 116.03,-123.09 108.02,-130.02 114.09,-133.51\"/>\n",
       "</g>\n",
       "<!-- var_mu -->\n",
       "<g id=\"node2\" class=\"node\">\n",
       "<title>var_mu</title>\n",
       "<ellipse fill=\"none\" stroke=\"black\" cx=\"207.18\" cy=\"-204\" rx=\"48.97\" ry=\"42.25\"/>\n",
       "<text text-anchor=\"middle\" x=\"207.18\" y=\"-216.57\" font-family=\"Times,serif\" font-size=\"14.00\">var_mu</text>\n",
       "<text text-anchor=\"middle\" x=\"207.18\" y=\"-199.32\" font-family=\"Times,serif\" font-size=\"14.00\">~</text>\n",
       "<text text-anchor=\"middle\" x=\"207.18\" y=\"-182.07\" font-family=\"Times,serif\" font-size=\"14.00\">Normal</text>\n",
       "</g>\n",
       "<!-- var_mu&#45;&gt;var -->\n",
       "<g id=\"edge2\" class=\"edge\">\n",
       "<title>var_mu&#45;&gt;var</title>\n",
       "<path fill=\"none\" stroke=\"black\" d=\"M185.54,-165.83C179.18,-154.91 172.14,-142.82 165.48,-131.38\"/>\n",
       "<polygon fill=\"black\" stroke=\"black\" points=\"168.56,-129.73 160.51,-122.84 162.52,-133.25 168.56,-129.73\"/>\n",
       "</g>\n",
       "</g>\n",
       "</svg>\n"
      ],
      "text/plain": [
       "<graphviz.graphs.Digraph at 0x7fa86dd463b0>"
      ]
     },
     "execution_count": 15,
     "metadata": {},
     "output_type": "execute_result"
    }
   ],
   "source": [
    "hierarchical_variable.graph()"
   ]
  },
  {
   "cell_type": "markdown",
   "id": "b80a4e49-bb8c-4e4d-b533-c00ab150d886",
   "metadata": {},
   "source": [
    "```{warning}\n",
    "The validity of the parameter values will not be checked. \n",
    "```\n",
    "\n",
    "For instance, there can be negative sigma in a Normal distribution."
   ]
  },
  {
   "cell_type": "code",
   "execution_count": 16,
   "id": "b82d2483-1064-4014-a0c5-498f95ab6b0d",
   "metadata": {},
   "outputs": [
    {
     "data": {
      "text/plain": [
       "Prior(\"Normal\", mu=1, sigma=-1)"
      ]
     },
     "execution_count": 16,
     "metadata": {},
     "output_type": "execute_result"
    }
   ],
   "source": [
    "Prior(\"Normal\", mu=1, sigma=-1)"
   ]
  },
  {
   "cell_type": "code",
   "execution_count": 17,
   "id": "3062face-a9c6-446d-8c93-91b99af18059",
   "metadata": {},
   "outputs": [
    {
     "data": {
      "text/plain": [
       "Prior(\"Normal\", sigma=Prior(\"Normal\"))"
      ]
     },
     "execution_count": 17,
     "metadata": {},
     "output_type": "execute_result"
    }
   ],
   "source": [
    "Prior(\"Normal\", sigma=Prior(\"Normal\"))"
   ]
  },
  {
   "cell_type": "markdown",
   "id": "d0d12fd8-07ef-4fcc-816f-cabd6667c1dc",
   "metadata": {},
   "source": [
    "For Normal distribution, the common non-centered parameterization is supported with the `centered` flag. This can help with model convergence depending on the model posterior."
   ]
  },
  {
   "cell_type": "code",
   "execution_count": 19,
   "id": "81cee492-654b-4bbb-94b7-25bc87f7dca1",
   "metadata": {},
   "outputs": [
    {
     "data": {
      "image/svg+xml": [
       "<?xml version=\"1.0\" encoding=\"UTF-8\" standalone=\"no\"?>\n",
       "<!DOCTYPE svg PUBLIC \"-//W3C//DTD SVG 1.1//EN\"\n",
       " \"http://www.w3.org/Graphics/SVG/1.1/DTD/svg11.dtd\">\n",
       "<!-- Generated by graphviz version 9.0.0 (20231125.0833)\n",
       " -->\n",
       "<!-- Pages: 1 -->\n",
       "<svg width=\"420pt\" height=\"245pt\"\n",
       " viewBox=\"0.00 0.00 419.97 245.50\" xmlns=\"http://www.w3.org/2000/svg\" xmlns:xlink=\"http://www.w3.org/1999/xlink\">\n",
       "<g id=\"graph0\" class=\"graph\" transform=\"scale(1 1) rotate(0) translate(4 241.5)\">\n",
       "<polygon fill=\"white\" stroke=\"none\" points=\"-4,4 -4,-241.5 415.97,-241.5 415.97,4 -4,4\"/>\n",
       "<g id=\"clust1\" class=\"cluster\">\n",
       "<title>clusterchannel (1)</title>\n",
       "<path fill=\"none\" stroke=\"black\" d=\"M20,-8C20,-8 134,-8 134,-8 140,-8 146,-14 146,-20 146,-20 146,-217.5 146,-217.5 146,-223.5 140,-229.5 134,-229.5 134,-229.5 20,-229.5 20,-229.5 14,-229.5 8,-223.5 8,-217.5 8,-217.5 8,-20 8,-20 8,-14 14,-8 20,-8\"/>\n",
       "<text text-anchor=\"middle\" x=\"98.25\" y=\"-15.95\" font-family=\"Times,serif\" font-size=\"14.00\">channel (1)</text>\n",
       "</g>\n",
       "<!-- var -->\n",
       "<g id=\"node1\" class=\"node\">\n",
       "<title>var</title>\n",
       "<polygon fill=\"none\" stroke=\"black\" points=\"137.75,-101 24.25,-101 24.25,-41.25 137.75,-41.25 137.75,-101\"/>\n",
       "<text text-anchor=\"middle\" x=\"81\" y=\"-83.7\" font-family=\"Times,serif\" font-size=\"14.00\">var</text>\n",
       "<text text-anchor=\"middle\" x=\"81\" y=\"-66.45\" font-family=\"Times,serif\" font-size=\"14.00\">~</text>\n",
       "<text text-anchor=\"middle\" x=\"81\" y=\"-49.2\" font-family=\"Times,serif\" font-size=\"14.00\">Deterministic</text>\n",
       "</g>\n",
       "<!-- var_offset -->\n",
       "<g id=\"node2\" class=\"node\">\n",
       "<title>var_offset</title>\n",
       "<ellipse fill=\"none\" stroke=\"black\" cx=\"77\" cy=\"-179.25\" rx=\"60.63\" ry=\"42.25\"/>\n",
       "<text text-anchor=\"middle\" x=\"77\" y=\"-191.82\" font-family=\"Times,serif\" font-size=\"14.00\">var_offset</text>\n",
       "<text text-anchor=\"middle\" x=\"77\" y=\"-174.57\" font-family=\"Times,serif\" font-size=\"14.00\">~</text>\n",
       "<text text-anchor=\"middle\" x=\"77\" y=\"-157.32\" font-family=\"Times,serif\" font-size=\"14.00\">Normal</text>\n",
       "</g>\n",
       "<!-- var_offset&#45;&gt;var -->\n",
       "<g id=\"edge3\" class=\"edge\">\n",
       "<title>var_offset&#45;&gt;var</title>\n",
       "<path fill=\"none\" stroke=\"black\" d=\"M78.57,-136.61C78.87,-128.74 79.18,-120.53 79.47,-112.69\"/>\n",
       "<polygon fill=\"black\" stroke=\"black\" points=\"82.97,-112.83 79.85,-102.71 75.97,-112.57 82.97,-112.83\"/>\n",
       "</g>\n",
       "<!-- var_sigma -->\n",
       "<g id=\"node3\" class=\"node\">\n",
       "<title>var_sigma</title>\n",
       "<ellipse fill=\"none\" stroke=\"black\" cx=\"226\" cy=\"-179.25\" rx=\"70.18\" ry=\"42.25\"/>\n",
       "<text text-anchor=\"middle\" x=\"226\" y=\"-191.82\" font-family=\"Times,serif\" font-size=\"14.00\">var_sigma</text>\n",
       "<text text-anchor=\"middle\" x=\"226\" y=\"-174.57\" font-family=\"Times,serif\" font-size=\"14.00\">~</text>\n",
       "<text text-anchor=\"middle\" x=\"226\" y=\"-157.32\" font-family=\"Times,serif\" font-size=\"14.00\">HalfNormal</text>\n",
       "</g>\n",
       "<!-- var_sigma&#45;&gt;var -->\n",
       "<g id=\"edge1\" class=\"edge\">\n",
       "<title>var_sigma&#45;&gt;var</title>\n",
       "<path fill=\"none\" stroke=\"black\" d=\"M182.1,-146.12C165.64,-134.08 146.85,-120.32 129.96,-107.96\"/>\n",
       "<polygon fill=\"black\" stroke=\"black\" points=\"132.16,-105.23 122.02,-102.15 128.02,-110.88 132.16,-105.23\"/>\n",
       "</g>\n",
       "<!-- var_mu -->\n",
       "<g id=\"node4\" class=\"node\">\n",
       "<title>var_mu</title>\n",
       "<ellipse fill=\"none\" stroke=\"black\" cx=\"363\" cy=\"-179.25\" rx=\"48.97\" ry=\"42.25\"/>\n",
       "<text text-anchor=\"middle\" x=\"363\" y=\"-191.82\" font-family=\"Times,serif\" font-size=\"14.00\">var_mu</text>\n",
       "<text text-anchor=\"middle\" x=\"363\" y=\"-174.57\" font-family=\"Times,serif\" font-size=\"14.00\">~</text>\n",
       "<text text-anchor=\"middle\" x=\"363\" y=\"-157.32\" font-family=\"Times,serif\" font-size=\"14.00\">Normal</text>\n",
       "</g>\n",
       "<!-- var_mu&#45;&gt;var -->\n",
       "<g id=\"edge2\" class=\"edge\">\n",
       "<title>var_mu&#45;&gt;var</title>\n",
       "<path fill=\"none\" stroke=\"black\" d=\"M327.34,-150.1C320.2,-145.28 312.57,-140.66 305,-137 255.16,-112.92 194.66,-96.06 149.1,-85.57\"/>\n",
       "<polygon fill=\"black\" stroke=\"black\" points=\"150.16,-82.22 139.63,-83.44 148.62,-89.05 150.16,-82.22\"/>\n",
       "</g>\n",
       "</g>\n",
       "</svg>\n"
      ],
      "text/plain": [
       "<graphviz.graphs.Digraph at 0x7fa86dd9d510>"
      ]
     },
     "execution_count": 19,
     "metadata": {},
     "output_type": "execute_result"
    }
   ],
   "source": [
    "non_centered_hierarchical_variable = Prior(\n",
    "    \"Normal\",\n",
    "    mu=Prior(\"Normal\"),\n",
    "    sigma=Prior(\"HalfNormal\"),\n",
    "    dims=\"channel\",\n",
    "    # Flag for non-centered\n",
    "    centered=False,\n",
    ")\n",
    "non_centered_hierarchical_variable.graph()"
   ]
  },
  {
   "cell_type": "markdown",
   "id": "003ba849-188c-47ac-98c0-248f5c5a08c3",
   "metadata": {},
   "source": [
    "Other distributions can be hierarchical as well. Just use distributions for parameters of a parent distribution. For instance, the Beta distribution has two positive parameters, `alpha` and `beta` which can be reflect as HalfNormal distributions."
   ]
  },
  {
   "cell_type": "code",
   "execution_count": 21,
   "id": "04bf7a16-89a5-4ef7-865e-aab5fe576ca6",
   "metadata": {},
   "outputs": [
    {
     "data": {
      "image/svg+xml": [
       "<?xml version=\"1.0\" encoding=\"UTF-8\" standalone=\"no\"?>\n",
       "<!DOCTYPE svg PUBLIC \"-//W3C//DTD SVG 1.1//EN\"\n",
       " \"http://www.w3.org/Graphics/SVG/1.1/DTD/svg11.dtd\">\n",
       "<!-- Generated by graphviz version 9.0.0 (20231125.0833)\n",
       " -->\n",
       "<!-- Pages: 1 -->\n",
       "<svg width=\"306pt\" height=\"254pt\"\n",
       " viewBox=\"0.00 0.00 306.36 254.25\" xmlns=\"http://www.w3.org/2000/svg\" xmlns:xlink=\"http://www.w3.org/1999/xlink\">\n",
       "<g id=\"graph0\" class=\"graph\" transform=\"scale(1 1) rotate(0) translate(4 250.25)\">\n",
       "<polygon fill=\"white\" stroke=\"none\" points=\"-4,4 -4,-250.25 302.36,-250.25 302.36,4 -4,4\"/>\n",
       "<g id=\"clust1\" class=\"cluster\">\n",
       "<title>clusterchannel (1)</title>\n",
       "<path fill=\"none\" stroke=\"black\" d=\"M114.18,-8C114.18,-8 185.18,-8 185.18,-8 191.18,-8 197.18,-14 197.18,-20 197.18,-20 197.18,-121.75 197.18,-121.75 197.18,-127.75 191.18,-133.75 185.18,-133.75 185.18,-133.75 114.18,-133.75 114.18,-133.75 108.18,-133.75 102.18,-127.75 102.18,-121.75 102.18,-121.75 102.18,-20 102.18,-20 102.18,-14 108.18,-8 114.18,-8\"/>\n",
       "<text text-anchor=\"middle\" x=\"149.43\" y=\"-15.95\" font-family=\"Times,serif\" font-size=\"14.00\">channel (1)</text>\n",
       "</g>\n",
       "<!-- var_beta -->\n",
       "<g id=\"node1\" class=\"node\">\n",
       "<title>var_beta</title>\n",
       "<ellipse fill=\"none\" stroke=\"black\" cx=\"70.18\" cy=\"-204\" rx=\"70.18\" ry=\"42.25\"/>\n",
       "<text text-anchor=\"middle\" x=\"70.18\" y=\"-216.57\" font-family=\"Times,serif\" font-size=\"14.00\">var_beta</text>\n",
       "<text text-anchor=\"middle\" x=\"70.18\" y=\"-199.32\" font-family=\"Times,serif\" font-size=\"14.00\">~</text>\n",
       "<text text-anchor=\"middle\" x=\"70.18\" y=\"-182.07\" font-family=\"Times,serif\" font-size=\"14.00\">HalfNormal</text>\n",
       "</g>\n",
       "<!-- var -->\n",
       "<g id=\"node3\" class=\"node\">\n",
       "<title>var</title>\n",
       "<ellipse fill=\"none\" stroke=\"black\" cx=\"149.18\" cy=\"-83.5\" rx=\"34.65\" ry=\"42.25\"/>\n",
       "<text text-anchor=\"middle\" x=\"149.18\" y=\"-96.07\" font-family=\"Times,serif\" font-size=\"14.00\">var</text>\n",
       "<text text-anchor=\"middle\" x=\"149.18\" y=\"-78.82\" font-family=\"Times,serif\" font-size=\"14.00\">~</text>\n",
       "<text text-anchor=\"middle\" x=\"149.18\" y=\"-61.57\" font-family=\"Times,serif\" font-size=\"14.00\">Beta</text>\n",
       "</g>\n",
       "<!-- var_beta&#45;&gt;var -->\n",
       "<g id=\"edge1\" class=\"edge\">\n",
       "<title>var_beta&#45;&gt;var</title>\n",
       "<path fill=\"none\" stroke=\"black\" d=\"M95.83,-164.53C104.02,-152.25 113.11,-138.61 121.44,-126.11\"/>\n",
       "<polygon fill=\"black\" stroke=\"black\" points=\"124.15,-128.35 126.79,-118.09 118.33,-124.47 124.15,-128.35\"/>\n",
       "</g>\n",
       "<!-- var_alpha -->\n",
       "<g id=\"node2\" class=\"node\">\n",
       "<title>var_alpha</title>\n",
       "<ellipse fill=\"none\" stroke=\"black\" cx=\"228.18\" cy=\"-204\" rx=\"70.18\" ry=\"42.25\"/>\n",
       "<text text-anchor=\"middle\" x=\"228.18\" y=\"-216.57\" font-family=\"Times,serif\" font-size=\"14.00\">var_alpha</text>\n",
       "<text text-anchor=\"middle\" x=\"228.18\" y=\"-199.32\" font-family=\"Times,serif\" font-size=\"14.00\">~</text>\n",
       "<text text-anchor=\"middle\" x=\"228.18\" y=\"-182.07\" font-family=\"Times,serif\" font-size=\"14.00\">HalfNormal</text>\n",
       "</g>\n",
       "<!-- var_alpha&#45;&gt;var -->\n",
       "<g id=\"edge2\" class=\"edge\">\n",
       "<title>var_alpha&#45;&gt;var</title>\n",
       "<path fill=\"none\" stroke=\"black\" d=\"M202.53,-164.53C194.35,-152.25 185.25,-138.61 176.92,-126.11\"/>\n",
       "<polygon fill=\"black\" stroke=\"black\" points=\"180.03,-124.47 171.57,-118.09 174.21,-128.35 180.03,-124.47\"/>\n",
       "</g>\n",
       "</g>\n",
       "</svg>\n"
      ],
      "text/plain": [
       "<graphviz.graphs.Digraph at 0x7fa86dd2ce20>"
      ]
     },
     "execution_count": 21,
     "metadata": {},
     "output_type": "execute_result"
    }
   ],
   "source": [
    "zero_to_one_variable = Prior(\n",
    "    \"Beta\",\n",
    "    alpha=Prior(\"HalfNormal\"),\n",
    "    beta=Prior(\"HalfNormal\"),\n",
    "    dims=\"channel\",\n",
    ")\n",
    "zero_to_one_variable.graph()"
   ]
  },
  {
   "cell_type": "markdown",
   "id": "485d6608-228c-491b-93ec-0af713508a25",
   "metadata": {},
   "source": [
    "### Transformations\n",
    "\n",
    "The `transform` variable can be used for any of the distributions to change its domain.\n",
    "\n",
    "These transformations will be taken from `pytensor.tensor` or `pm.math` in that order.\n",
    "\n",
    "Below is a non-centered hierarchical Normal distribution that is put through a sigmoid function in order to change the domain to (0, 1)."
   ]
  },
  {
   "cell_type": "code",
   "execution_count": 13,
   "id": "33529f87-e8e0-471d-8a09-3c7df6b9dcaa",
   "metadata": {},
   "outputs": [
    {
     "data": {
      "image/svg+xml": [
       "<?xml version=\"1.0\" encoding=\"UTF-8\" standalone=\"no\"?>\n",
       "<!DOCTYPE svg PUBLIC \"-//W3C//DTD SVG 1.1//EN\"\n",
       " \"http://www.w3.org/Graphics/SVG/1.1/DTD/svg11.dtd\">\n",
       "<!-- Generated by graphviz version 9.0.0 (20231125.0833)\n",
       " -->\n",
       "<!-- Pages: 1 -->\n",
       "<svg width=\"547pt\" height=\"341pt\"\n",
       " viewBox=\"0.00 0.00 546.62 341.25\" xmlns=\"http://www.w3.org/2000/svg\" xmlns:xlink=\"http://www.w3.org/1999/xlink\">\n",
       "<g id=\"graph0\" class=\"graph\" transform=\"scale(1 1) rotate(0) translate(4 337.25)\">\n",
       "<polygon fill=\"white\" stroke=\"none\" points=\"-4,4 -4,-337.25 542.62,-337.25 542.62,4 -4,4\"/>\n",
       "<g id=\"clust1\" class=\"cluster\">\n",
       "<title>clusterchannel (1)</title>\n",
       "<path fill=\"none\" stroke=\"black\" d=\"M20,-8C20,-8 180,-8 180,-8 186,-8 192,-14 192,-20 192,-20 192,-313.25 192,-313.25 192,-319.25 186,-325.25 180,-325.25 180,-325.25 20,-325.25 20,-325.25 14,-325.25 8,-319.25 8,-313.25 8,-313.25 8,-20 8,-20 8,-14 14,-8 20,-8\"/>\n",
       "<text text-anchor=\"middle\" x=\"144.25\" y=\"-15.95\" font-family=\"Times,serif\" font-size=\"14.00\">channel (1)</text>\n",
       "</g>\n",
       "<!-- var -->\n",
       "<g id=\"node1\" class=\"node\">\n",
       "<title>var</title>\n",
       "<polygon fill=\"none\" stroke=\"black\" points=\"183.75,-101 70.25,-101 70.25,-41.25 183.75,-41.25 183.75,-101\"/>\n",
       "<text text-anchor=\"middle\" x=\"127\" y=\"-83.7\" font-family=\"Times,serif\" font-size=\"14.00\">var</text>\n",
       "<text text-anchor=\"middle\" x=\"127\" y=\"-66.45\" font-family=\"Times,serif\" font-size=\"14.00\">~</text>\n",
       "<text text-anchor=\"middle\" x=\"127\" y=\"-49.2\" font-family=\"Times,serif\" font-size=\"14.00\">Deterministic</text>\n",
       "</g>\n",
       "<!-- var_raw -->\n",
       "<g id=\"node2\" class=\"node\">\n",
       "<title>var_raw</title>\n",
       "<polygon fill=\"none\" stroke=\"black\" points=\"183.75,-196.75 70.25,-196.75 70.25,-137 183.75,-137 183.75,-196.75\"/>\n",
       "<text text-anchor=\"middle\" x=\"127\" y=\"-179.45\" font-family=\"Times,serif\" font-size=\"14.00\">var_raw</text>\n",
       "<text text-anchor=\"middle\" x=\"127\" y=\"-162.2\" font-family=\"Times,serif\" font-size=\"14.00\">~</text>\n",
       "<text text-anchor=\"middle\" x=\"127\" y=\"-144.95\" font-family=\"Times,serif\" font-size=\"14.00\">Deterministic</text>\n",
       "</g>\n",
       "<!-- var_raw&#45;&gt;var -->\n",
       "<g id=\"edge4\" class=\"edge\">\n",
       "<title>var_raw&#45;&gt;var</title>\n",
       "<path fill=\"none\" stroke=\"black\" d=\"M127,-136.73C127,-129.05 127,-120.64 127,-112.49\"/>\n",
       "<polygon fill=\"black\" stroke=\"black\" points=\"130.5,-112.77 127,-102.77 123.5,-112.77 130.5,-112.77\"/>\n",
       "</g>\n",
       "<!-- var_raw_offset -->\n",
       "<g id=\"node3\" class=\"node\">\n",
       "<title>var_raw_offset</title>\n",
       "<ellipse fill=\"none\" stroke=\"black\" cx=\"100\" cy=\"-275\" rx=\"84.5\" ry=\"42.25\"/>\n",
       "<text text-anchor=\"middle\" x=\"100\" y=\"-287.57\" font-family=\"Times,serif\" font-size=\"14.00\">var_raw_offset</text>\n",
       "<text text-anchor=\"middle\" x=\"100\" y=\"-270.32\" font-family=\"Times,serif\" font-size=\"14.00\">~</text>\n",
       "<text text-anchor=\"middle\" x=\"100\" y=\"-253.07\" font-family=\"Times,serif\" font-size=\"14.00\">Normal</text>\n",
       "</g>\n",
       "<!-- var_raw_offset&#45;&gt;var_raw -->\n",
       "<g id=\"edge3\" class=\"edge\">\n",
       "<title>var_raw_offset&#45;&gt;var_raw</title>\n",
       "<path fill=\"none\" stroke=\"black\" d=\"M110.52,-232.67C112.57,-224.6 114.72,-216.14 116.76,-208.11\"/>\n",
       "<polygon fill=\"black\" stroke=\"black\" points=\"120.11,-209.14 119.19,-198.58 113.33,-207.41 120.11,-209.14\"/>\n",
       "</g>\n",
       "<!-- var_raw_mu -->\n",
       "<g id=\"node4\" class=\"node\">\n",
       "<title>var_raw_mu</title>\n",
       "<ellipse fill=\"none\" stroke=\"black\" cx=\"275\" cy=\"-275\" rx=\"72.3\" ry=\"42.25\"/>\n",
       "<text text-anchor=\"middle\" x=\"275\" y=\"-287.57\" font-family=\"Times,serif\" font-size=\"14.00\">var_raw_mu</text>\n",
       "<text text-anchor=\"middle\" x=\"275\" y=\"-270.32\" font-family=\"Times,serif\" font-size=\"14.00\">~</text>\n",
       "<text text-anchor=\"middle\" x=\"275\" y=\"-253.07\" font-family=\"Times,serif\" font-size=\"14.00\">Normal</text>\n",
       "</g>\n",
       "<!-- var_raw_mu&#45;&gt;var_raw -->\n",
       "<g id=\"edge1\" class=\"edge\">\n",
       "<title>var_raw_mu&#45;&gt;var_raw</title>\n",
       "<path fill=\"none\" stroke=\"black\" d=\"M229.79,-241.58C213.15,-229.65 194.21,-216.07 177.16,-203.84\"/>\n",
       "<polygon fill=\"black\" stroke=\"black\" points=\"179.3,-201.07 169.14,-198.09 175.22,-206.76 179.3,-201.07\"/>\n",
       "</g>\n",
       "<!-- var_raw_sigma -->\n",
       "<g id=\"node5\" class=\"node\">\n",
       "<title>var_raw_sigma</title>\n",
       "<ellipse fill=\"none\" stroke=\"black\" cx=\"452\" cy=\"-275\" rx=\"86.62\" ry=\"42.25\"/>\n",
       "<text text-anchor=\"middle\" x=\"452\" y=\"-287.57\" font-family=\"Times,serif\" font-size=\"14.00\">var_raw_sigma</text>\n",
       "<text text-anchor=\"middle\" x=\"452\" y=\"-270.32\" font-family=\"Times,serif\" font-size=\"14.00\">~</text>\n",
       "<text text-anchor=\"middle\" x=\"452\" y=\"-253.07\" font-family=\"Times,serif\" font-size=\"14.00\">Normal</text>\n",
       "</g>\n",
       "<!-- var_raw_sigma&#45;&gt;var_raw -->\n",
       "<g id=\"edge2\" class=\"edge\">\n",
       "<title>var_raw_sigma&#45;&gt;var_raw</title>\n",
       "<path fill=\"none\" stroke=\"black\" d=\"M388.95,-245.53C378.05,-241.01 366.77,-236.57 356,-232.75 302.75,-213.86 241.06,-196.64 195.13,-184.7\"/>\n",
       "<polygon fill=\"black\" stroke=\"black\" points=\"196.13,-181.34 185.57,-182.23 194.38,-188.12 196.13,-181.34\"/>\n",
       "</g>\n",
       "</g>\n",
       "</svg>\n"
      ],
      "text/plain": [
       "<graphviz.graphs.Digraph at 0x7fad55902e60>"
      ]
     },
     "execution_count": 13,
     "metadata": {},
     "output_type": "execute_result"
    }
   ],
   "source": [
    "hierarchical_zero_to_one_distribution = Prior(\n",
    "    \"Normal\",\n",
    "    mu=Prior(\"Normal\"),\n",
    "    sigma=Prior(\"HalfNormal\"),\n",
    "    dims=\"channel\",\n",
    "    centered=False,\n",
    "    transform=\"sigmoid\",\n",
    ")\n",
    "hierarchical_zero_to_one_distribution.model_graph()"
   ]
  },
  {
   "cell_type": "markdown",
   "id": "ee2270a5-2c73-4464-b924-59d01133dc5d",
   "metadata": {},
   "source": [
    "### Prior Visualization\n",
    "\n",
    "For scalar distributions, make use of the `preliz` attribute of the model in order to visualize. \n",
    "\n",
    "```{tip}\n",
    "Defaults for the parameters will have to be provided or there will be an error.\n",
    "```"
   ]
  },
  {
   "cell_type": "code",
   "execution_count": 22,
   "id": "68ac9293-3d2c-4797-81ed-a50171c7f384",
   "metadata": {},
   "outputs": [
    {
     "data": {
      "image/png": "[encoded data removed]",
      "text/plain": [
       "<Figure size 1200x700 with 1 Axes>"
      ]
     },
     "metadata": {},
     "output_type": "display_data"
    }
   ],
   "source": [
    "beta_distribution = Prior(\"Beta\", alpha=1, beta=4)\n",
    "\n",
    "beta_distribution.preliz.plot_pdf();"
   ]
  },
  {
   "cell_type": "markdown",
   "id": "d1a6d281-9646-48e1-ab09-6e9de21e9c11",
   "metadata": {},
   "source": [
    "```{tip}\n",
    "Using the `constrain` method can help hone in on a prior. It is a wrapper around the ever-so-helpful [`find_constrained_prior` function](https://www.pymc.io/projects/docs/en/stable/api/generated/pymc.find_constrained_prior.html). The `init_guess` is taken to be the parameters of the instance distribution.\n",
    "```"
   ]
  },
  {
   "cell_type": "code",
   "execution_count": 23,
   "id": "6a02cdb4-9fe9-4eb5-97a3-91fd7abf1835",
   "metadata": {},
   "outputs": [
    {
     "data": {
      "text/plain": [
       "Prior(\"Normal\", mu=5.000013661179942, sigma=0.5102135210258302)"
      ]
     },
     "execution_count": 23,
     "metadata": {},
     "output_type": "execute_result"
    }
   ],
   "source": [
    "constrained_distribution = Prior(\"Normal\", mu=5, sigma=1).constrain(lower=4, upper=6)\n",
    "constrained_distribution"
   ]
  },
  {
   "cell_type": "markdown",
   "id": "007646bd-61f4-4a2d-8400-14c36e08f289",
   "metadata": {},
   "source": [
    "For more complicated distributions, consider using the `sample_prior` method in order to access the prior.\n",
    "\n",
    "```{note}\n",
    "Any coordinates will have to be passed like in `pm.Model`.\n",
    "```"
   ]
  },
  {
   "cell_type": "code",
   "execution_count": 24,
   "id": "8c2b4ea7-c33d-4d86-a7f8-18434bd0a298",
   "metadata": {
    "scrolled": true
   },
   "outputs": [
    {
     "name": "stderr",
     "output_type": "stream",
     "text": [
      "Sampling: [var_raw_mu, var_raw_offset, var_raw_sigma_raw]\n"
     ]
    },
    {
     "data": {
      "text/html": [
       "<div><svg style=\"position: absolute; width: 0; height: 0; overflow: hidden\">\n",
       "<defs>\n",
       "<symbol id=\"icon-database\" viewBox=\"0 0 32 32\">\n",
       "<path d=\"M16 0c-8.837 0-16 2.239-16 5v4c0 2.761 7.163 5 16 5s16-2.239 16-5v-4c0-2.761-7.163-5-16-5z\"></path>\n",
       "<path d=\"M16 17c-8.837 0-16-2.239-16-5v6c0 2.761 7.163 5 16 5s16-2.239 16-5v-6c0 2.761-7.163 5-16 5z\"></path>\n",
       "<path d=\"M16 26c-8.837 0-16-2.239-16-5v6c0 2.761 7.163 5 16 5s16-2.239 16-5v-6c0 2.761-7.163 5-16 5z\"></path>\n",
       "</symbol>\n",
       "<symbol id=\"icon-file-text2\" viewBox=\"0 0 32 32\">\n",
       "<path d=\"M28.681 7.159c-0.694-0.947-1.662-2.053-2.724-3.116s-2.169-2.030-3.116-2.724c-1.612-1.182-2.393-1.319-2.841-1.319h-15.5c-1.378 0-2.5 1.121-2.5 2.5v27c0 1.378 1.122 2.5 2.5 2.5h23c1.378 0 2.5-1.122 2.5-2.5v-19.5c0-0.448-0.137-1.23-1.319-2.841zM24.543 5.457c0.959 0.959 1.712 1.825 2.268 2.543h-4.811v-4.811c0.718 0.556 1.584 1.309 2.543 2.268zM28 29.5c0 0.271-0.229 0.5-0.5 0.5h-23c-0.271 0-0.5-0.229-0.5-0.5v-27c0-0.271 0.229-0.5 0.5-0.5 0 0 15.499-0 15.5 0v7c0 0.552 0.448 1 1 1h7v19.5z\"></path>\n",
       "<path d=\"M23 26h-14c-0.552 0-1-0.448-1-1s0.448-1 1-1h14c0.552 0 1 0.448 1 1s-0.448 1-1 1z\"></path>\n",
       "<path d=\"M23 22h-14c-0.552 0-1-0.448-1-1s0.448-1 1-1h14c0.552 0 1 0.448 1 1s-0.448 1-1 1z\"></path>\n",
       "<path d=\"M23 18h-14c-0.552 0-1-0.448-1-1s0.448-1 1-1h14c0.552 0 1 0.448 1 1s-0.448 1-1 1z\"></path>\n",
       "</symbol>\n",
       "</defs>\n",
       "</svg>\n",
       "<style>/* CSS stylesheet for displaying xarray objects in jupyterlab.\n",
       " *\n",
       " */\n",
       "\n",
       ":root {\n",
       "  --xr-font-color0: var(--jp-content-font-color0, rgba(0, 0, 0, 1));\n",
       "  --xr-font-color2: var(--jp-content-font-color2, rgba(0, 0, 0, 0.54));\n",
       "  --xr-font-color3: var(--jp-content-font-color3, rgba(0, 0, 0, 0.38));\n",
       "  --xr-border-color: var(--jp-border-color2, #e0e0e0);\n",
       "  --xr-disabled-color: var(--jp-layout-color3, #bdbdbd);\n",
       "  --xr-background-color: var(--jp-layout-color0, white);\n",
       "  --xr-background-color-row-even: var(--jp-layout-color1, white);\n",
       "  --xr-background-color-row-odd: var(--jp-layout-color2, #eeeeee);\n",
       "}\n",
       "\n",
       "html[theme=dark],\n",
       "body[data-theme=dark],\n",
       "body.vscode-dark {\n",
       "  --xr-font-color0: rgba(255, 255, 255, 1);\n",
       "  --xr-font-color2: rgba(255, 255, 255, 0.54);\n",
       "  --xr-font-color3: rgba(255, 255, 255, 0.38);\n",
       "  --xr-border-color: #1F1F1F;\n",
       "  --xr-disabled-color: #515151;\n",
       "  --xr-background-color: #111111;\n",
       "  --xr-background-color-row-even: #111111;\n",
       "  --xr-background-color-row-odd: #313131;\n",
       "}\n",
       "\n",
       ".xr-wrap {\n",
       "  display: block !important;\n",
       "  min-width: 300px;\n",
       "  max-width: 700px;\n",
       "}\n",
       "\n",
       ".xr-text-repr-fallback {\n",
       "  /* fallback to plain text repr when CSS is not injected (untrusted notebook) */\n",
       "  display: none;\n",
       "}\n",
       "\n",
       ".xr-header {\n",
       "  padding-top: 6px;\n",
       "  padding-bottom: 6px;\n",
       "  margin-bottom: 4px;\n",
       "  border-bottom: solid 1px var(--xr-border-color);\n",
       "}\n",
       "\n",
       ".xr-header > div,\n",
       ".xr-header > ul {\n",
       "  display: inline;\n",
       "  margin-top: 0;\n",
       "  margin-bottom: 0;\n",
       "}\n",
       "\n",
       ".xr-obj-type,\n",
       ".xr-array-name {\n",
       "  margin-left: 2px;\n",
       "  margin-right: 10px;\n",
       "}\n",
       "\n",
       ".xr-obj-type {\n",
       "  color: var(--xr-font-color2);\n",
       "}\n",
       "\n",
       ".xr-sections {\n",
       "  padding-left: 0 !important;\n",
       "  display: grid;\n",
       "  grid-template-columns: 150px auto auto 1fr 20px 20px;\n",
       "}\n",
       "\n",
       ".xr-section-item {\n",
       "  display: contents;\n",
       "}\n",
       "\n",
       ".xr-section-item input {\n",
       "  display: none;\n",
       "}\n",
       "\n",
       ".xr-section-item input + label {\n",
       "  color: var(--xr-disabled-color);\n",
       "}\n",
       "\n",
       ".xr-section-item input:enabled + label {\n",
       "  cursor: pointer;\n",
       "  color: var(--xr-font-color2);\n",
       "}\n",
       "\n",
       ".xr-section-item input:enabled + label:hover {\n",
       "  color: var(--xr-font-color0);\n",
       "}\n",
       "\n",
       ".xr-section-summary {\n",
       "  grid-column: 1;\n",
       "  color: var(--xr-font-color2);\n",
       "  font-weight: 500;\n",
       "}\n",
       "\n",
       ".xr-section-summary > span {\n",
       "  display: inline-block;\n",
       "  padding-left: 0.5em;\n",
       "}\n",
       "\n",
       ".xr-section-summary-in:disabled + label {\n",
       "  color: var(--xr-font-color2);\n",
       "}\n",
       "\n",
       ".xr-section-summary-in + label:before {\n",
       "  display: inline-block;\n",
       "  content: '►';\n",
       "  font-size: 11px;\n",
       "  width: 15px;\n",
       "  text-align: center;\n",
       "}\n",
       "\n",
       ".xr-section-summary-in:disabled + label:before {\n",
       "  color: var(--xr-disabled-color);\n",
       "}\n",
       "\n",
       ".xr-section-summary-in:checked + label:before {\n",
       "  content: '▼';\n",
       "}\n",
       "\n",
       ".xr-section-summary-in:checked + label > span {\n",
       "  display: none;\n",
       "}\n",
       "\n",
       ".xr-section-summary,\n",
       ".xr-section-inline-details {\n",
       "  padding-top: 4px;\n",
       "  padding-bottom: 4px;\n",
       "}\n",
       "\n",
       ".xr-section-inline-details {\n",
       "  grid-column: 2 / -1;\n",
       "}\n",
       "\n",
       ".xr-section-details {\n",
       "  display: none;\n",
       "  grid-column: 1 / -1;\n",
       "  margin-bottom: 5px;\n",
       "}\n",
       "\n",
       ".xr-section-summary-in:checked ~ .xr-section-details {\n",
       "  display: contents;\n",
       "}\n",
       "\n",
       ".xr-array-wrap {\n",
       "  grid-column: 1 / -1;\n",
       "  display: grid;\n",
       "  grid-template-columns: 20px auto;\n",
       "}\n",
       "\n",
       ".xr-array-wrap > label {\n",
       "  grid-column: 1;\n",
       "  vertical-align: top;\n",
       "}\n",
       "\n",
       ".xr-preview {\n",
       "  color: var(--xr-font-color3);\n",
       "}\n",
       "\n",
       ".xr-array-preview,\n",
       ".xr-array-data {\n",
       "  padding: 0 5px !important;\n",
       "  grid-column: 2;\n",
       "}\n",
       "\n",
       ".xr-array-data,\n",
       ".xr-array-in:checked ~ .xr-array-preview {\n",
       "  display: none;\n",
       "}\n",
       "\n",
       ".xr-array-in:checked ~ .xr-array-data,\n",
       ".xr-array-preview {\n",
       "  display: inline-block;\n",
       "}\n",
       "\n",
       ".xr-dim-list {\n",
       "  display: inline-block !important;\n",
       "  list-style: none;\n",
       "  padding: 0 !important;\n",
       "  margin: 0;\n",
       "}\n",
       "\n",
       ".xr-dim-list li {\n",
       "  display: inline-block;\n",
       "  padding: 0;\n",
       "  margin: 0;\n",
       "}\n",
       "\n",
       ".xr-dim-list:before {\n",
       "  content: '(';\n",
       "}\n",
       "\n",
       ".xr-dim-list:after {\n",
       "  content: ')';\n",
       "}\n",
       "\n",
       ".xr-dim-list li:not(:last-child):after {\n",
       "  content: ',';\n",
       "  padding-right: 5px;\n",
       "}\n",
       "\n",
       ".xr-has-index {\n",
       "  font-weight: bold;\n",
       "}\n",
       "\n",
       ".xr-var-list,\n",
       ".xr-var-item {\n",
       "  display: contents;\n",
       "}\n",
       "\n",
       ".xr-var-item > div,\n",
       ".xr-var-item label,\n",
       ".xr-var-item > .xr-var-name span {\n",
       "  background-color: var(--xr-background-color-row-even);\n",
       "  margin-bottom: 0;\n",
       "}\n",
       "\n",
       ".xr-var-item > .xr-var-name:hover span {\n",
       "  padding-right: 5px;\n",
       "}\n",
       "\n",
       ".xr-var-list > li:nth-child(odd) > div,\n",
       ".xr-var-list > li:nth-child(odd) > label,\n",
       ".xr-var-list > li:nth-child(odd) > .xr-var-name span {\n",
       "  background-color: var(--xr-background-color-row-odd);\n",
       "}\n",
       "\n",
       ".xr-var-name {\n",
       "  grid-column: 1;\n",
       "}\n",
       "\n",
       ".xr-var-dims {\n",
       "  grid-column: 2;\n",
       "}\n",
       "\n",
       ".xr-var-dtype {\n",
       "  grid-column: 3;\n",
       "  text-align: right;\n",
       "  color: var(--xr-font-color2);\n",
       "}\n",
       "\n",
       ".xr-var-preview {\n",
       "  grid-column: 4;\n",
       "}\n",
       "\n",
       ".xr-index-preview {\n",
       "  grid-column: 2 / 5;\n",
       "  color: var(--xr-font-color2);\n",
       "}\n",
       "\n",
       ".xr-var-name,\n",
       ".xr-var-dims,\n",
       ".xr-var-dtype,\n",
       ".xr-preview,\n",
       ".xr-attrs dt {\n",
       "  white-space: nowrap;\n",
       "  overflow: hidden;\n",
       "  text-overflow: ellipsis;\n",
       "  padding-right: 10px;\n",
       "}\n",
       "\n",
       ".xr-var-name:hover,\n",
       ".xr-var-dims:hover,\n",
       ".xr-var-dtype:hover,\n",
       ".xr-attrs dt:hover {\n",
       "  overflow: visible;\n",
       "  width: auto;\n",
       "  z-index: 1;\n",
       "}\n",
       "\n",
       ".xr-var-attrs,\n",
       ".xr-var-data,\n",
       ".xr-index-data {\n",
       "  display: none;\n",
       "  background-color: var(--xr-background-color) !important;\n",
       "  padding-bottom: 5px !important;\n",
       "}\n",
       "\n",
       ".xr-var-attrs-in:checked ~ .xr-var-attrs,\n",
       ".xr-var-data-in:checked ~ .xr-var-data,\n",
       ".xr-index-data-in:checked ~ .xr-index-data {\n",
       "  display: block;\n",
       "}\n",
       "\n",
       ".xr-var-data > table {\n",
       "  float: right;\n",
       "}\n",
       "\n",
       ".xr-var-name span,\n",
       ".xr-var-data,\n",
       ".xr-index-name div,\n",
       ".xr-index-data,\n",
       ".xr-attrs {\n",
       "  padding-left: 25px !important;\n",
       "}\n",
       "\n",
       ".xr-attrs,\n",
       ".xr-var-attrs,\n",
       ".xr-var-data,\n",
       ".xr-index-data {\n",
       "  grid-column: 1 / -1;\n",
       "}\n",
       "\n",
       "dl.xr-attrs {\n",
       "  padding: 0;\n",
       "  margin: 0;\n",
       "  display: grid;\n",
       "  grid-template-columns: 125px auto;\n",
       "}\n",
       "\n",
       ".xr-attrs dt,\n",
       ".xr-attrs dd {\n",
       "  padding: 0;\n",
       "  margin: 0;\n",
       "  float: left;\n",
       "  padding-right: 10px;\n",
       "  width: auto;\n",
       "}\n",
       "\n",
       ".xr-attrs dt {\n",
       "  font-weight: normal;\n",
       "  grid-column: 1;\n",
       "}\n",
       "\n",
       ".xr-attrs dt:hover span {\n",
       "  display: inline-block;\n",
       "  background: var(--xr-background-color);\n",
       "  padding-right: 10px;\n",
       "}\n",
       "\n",
       ".xr-attrs dd {\n",
       "  grid-column: 2;\n",
       "  white-space: pre-wrap;\n",
       "  word-break: break-all;\n",
       "}\n",
       "\n",
       ".xr-icon-database,\n",
       ".xr-icon-file-text2,\n",
       ".xr-no-icon {\n",
       "  display: inline-block;\n",
       "  vertical-align: middle;\n",
       "  width: 1em;\n",
       "  height: 1.5em !important;\n",
       "  stroke-width: 0;\n",
       "  stroke: currentColor;\n",
       "  fill: currentColor;\n",
       "}\n",
       "</style><pre class='xr-text-repr-fallback'>&lt;xarray.Dataset&gt; Size: 64kB\n",
       "Dimensions:            (chain: 1, draw: 500, channel: 4)\n",
       "Coordinates:\n",
       "  * chain              (chain) int64 8B 0\n",
       "  * draw               (draw) int64 4kB 0 1 2 3 4 5 ... 494 495 496 497 498 499\n",
       "  * channel            (channel) &lt;U2 32B &#x27;C1&#x27; &#x27;C2&#x27; &#x27;C3&#x27; &#x27;C4&#x27;\n",
       "Data variables:\n",
       "    var                (chain, draw, channel) float64 16kB 0.227 ... 0.5817\n",
       "    var_raw_mu         (chain, draw) float64 4kB -0.1877 0.00544 ... 0.5223\n",
       "    var_raw_sigma      (chain, draw) float64 4kB 1.027 1.054 ... 1.019 1.014\n",
       "    var_raw_sigma_raw  (chain, draw) float64 4kB 0.02658 0.05237 ... 0.01377\n",
       "    var_raw            (chain, draw, channel) float64 16kB -1.225 ... 0.3298\n",
       "    var_raw_offset     (chain, draw, channel) float64 16kB -1.01 ... -0.1898\n",
       "Attributes:\n",
       "    created_at:                 2024-06-21T06:50:41.512661\n",
       "    arviz_version:              0.17.0\n",
       "    inference_library:          pymc\n",
       "    inference_library_version:  5.14.0</pre><div class='xr-wrap' style='display:none'><div class='xr-header'><div class='xr-obj-type'>xarray.Dataset</div></div><ul class='xr-sections'><li class='xr-section-item'><input id='section-2f7dfab6-e878-4f4a-bc70-1d9465f2ce1a' class='xr-section-summary-in' type='checkbox' disabled ><label for='section-2f7dfab6-e878-4f4a-bc70-1d9465f2ce1a' class='xr-section-summary'  title='Expand/collapse section'>Dimensions:</label><div class='xr-section-inline-details'><ul class='xr-dim-list'><li><span class='xr-has-index'>chain</span>: 1</li><li><span class='xr-has-index'>draw</span>: 500</li><li><span class='xr-has-index'>channel</span>: 4</li></ul></div><div class='xr-section-details'></div></li><li class='xr-section-item'><input id='section-e5b38569-d2dc-4ad0-ac9a-be3bf70889d8' class='xr-section-summary-in' type='checkbox'  checked><label for='section-e5b38569-d2dc-4ad0-ac9a-be3bf70889d8' class='xr-section-summary' >Coordinates: <span>(3)</span></label><div class='xr-section-inline-details'></div><div class='xr-section-details'><ul class='xr-var-list'><li class='xr-var-item'><div class='xr-var-name'><span class='xr-has-index'>chain</span></div><div class='xr-var-dims'>(chain)</div><div class='xr-var-dtype'>int64</div><div class='xr-var-preview xr-preview'>0</div><input id='attrs-bc0e49e8-3eb2-455a-a608-c870bfce8975' class='xr-var-attrs-in' type='checkbox' disabled><label for='attrs-bc0e49e8-3eb2-455a-a608-c870bfce8975' title='Show/Hide attributes'><svg class='icon xr-icon-file-text2'><use xlink:href='#icon-file-text2'></use></svg></label><input id='data-535ff489-b607-4168-b2a1-5b5d1ff2d885' class='xr-var-data-in' type='checkbox'><label for='data-535ff489-b607-4168-b2a1-5b5d1ff2d885' title='Show/Hide data repr'><svg class='icon xr-icon-database'><use xlink:href='#icon-database'></use></svg></label><div class='xr-var-attrs'><dl class='xr-attrs'></dl></div><div class='xr-var-data'><pre>array([0])</pre></div></li><li class='xr-var-item'><div class='xr-var-name'><span class='xr-has-index'>draw</span></div><div class='xr-var-dims'>(draw)</div><div class='xr-var-dtype'>int64</div><div class='xr-var-preview xr-preview'>0 1 2 3 4 5 ... 495 496 497 498 499</div><input id='attrs-906fb675-dc15-4ad8-9f39-fec6878bbd2a' class='xr-var-attrs-in' type='checkbox' disabled><label for='attrs-906fb675-dc15-4ad8-9f39-fec6878bbd2a' title='Show/Hide attributes'><svg class='icon xr-icon-file-text2'><use xlink:href='#icon-file-text2'></use></svg></label><input id='data-5e741958-6388-42bf-bc35-d7425b69db49' class='xr-var-data-in' type='checkbox'><label for='data-5e741958-6388-42bf-bc35-d7425b69db49' title='Show/Hide data repr'><svg class='icon xr-icon-database'><use xlink:href='#icon-database'></use></svg></label><div class='xr-var-attrs'><dl class='xr-attrs'></dl></div><div class='xr-var-data'><pre>array([  0,   1,   2, ..., 497, 498, 499])</pre></div></li><li class='xr-var-item'><div class='xr-var-name'><span class='xr-has-index'>channel</span></div><div class='xr-var-dims'>(channel)</div><div class='xr-var-dtype'>&lt;U2</div><div class='xr-var-preview xr-preview'>&#x27;C1&#x27; &#x27;C2&#x27; &#x27;C3&#x27; &#x27;C4&#x27;</div><input id='attrs-ade1a31e-f500-4828-81f7-cdd068f958f0' class='xr-var-attrs-in' type='checkbox' disabled><label for='attrs-ade1a31e-f500-4828-81f7-cdd068f958f0' title='Show/Hide attributes'><svg class='icon xr-icon-file-text2'><use xlink:href='#icon-file-text2'></use></svg></label><input id='data-6fc9b369-3b30-44c4-9447-5561737ddb17' class='xr-var-data-in' type='checkbox'><label for='data-6fc9b369-3b30-44c4-9447-5561737ddb17' title='Show/Hide data repr'><svg class='icon xr-icon-database'><use xlink:href='#icon-database'></use></svg></label><div class='xr-var-attrs'><dl class='xr-attrs'></dl></div><div class='xr-var-data'><pre>array([&#x27;C1&#x27;, &#x27;C2&#x27;, &#x27;C3&#x27;, &#x27;C4&#x27;], dtype=&#x27;&lt;U2&#x27;)</pre></div></li></ul></div></li><li class='xr-section-item'><input id='section-cbce0564-9cdf-46de-b210-143778a94c98' class='xr-section-summary-in' type='checkbox'  checked><label for='section-cbce0564-9cdf-46de-b210-143778a94c98' class='xr-section-summary' >Data variables: <span>(6)</span></label><div class='xr-section-inline-details'></div><div class='xr-section-details'><ul class='xr-var-list'><li class='xr-var-item'><div class='xr-var-name'><span>var</span></div><div class='xr-var-dims'>(chain, draw, channel)</div><div class='xr-var-dtype'>float64</div><div class='xr-var-preview xr-preview'>0.227 0.299 0.322 ... 0.418 0.5817</div><input id='attrs-f4fb2efe-f5e7-4d94-bf09-6b612f184170' class='xr-var-attrs-in' type='checkbox' disabled><label for='attrs-f4fb2efe-f5e7-4d94-bf09-6b612f184170' title='Show/Hide attributes'><svg class='icon xr-icon-file-text2'><use xlink:href='#icon-file-text2'></use></svg></label><input id='data-b17e6709-e0d1-497c-b4ab-11516ed630b2' class='xr-var-data-in' type='checkbox'><label for='data-b17e6709-e0d1-497c-b4ab-11516ed630b2' title='Show/Hide data repr'><svg class='icon xr-icon-database'><use xlink:href='#icon-database'></use></svg></label><div class='xr-var-attrs'><dl class='xr-attrs'></dl></div><div class='xr-var-data'><pre>array([[[0.2270034 , 0.29900302, 0.32196762, 0.6955308 ],\n",
       "        [0.20863808, 0.81014263, 0.51279504, 0.72084484],\n",
       "        [0.89638578, 0.71898987, 0.58462383, 0.90896173],\n",
       "        ...,\n",
       "        [0.60807158, 0.47450383, 0.45705436, 0.95273331],\n",
       "        [0.16223112, 0.83586069, 0.53039257, 0.41135585],\n",
       "        [0.78082397, 0.55509512, 0.41801997, 0.58172222]]])</pre></div></li><li class='xr-var-item'><div class='xr-var-name'><span>var_raw_mu</span></div><div class='xr-var-dims'>(chain, draw)</div><div class='xr-var-dtype'>float64</div><div class='xr-var-preview xr-preview'>-0.1877 0.00544 ... -0.01546 0.5223</div><input id='attrs-e3e4ac77-76f0-4084-8e6e-4f7a54c13916' class='xr-var-attrs-in' type='checkbox' disabled><label for='attrs-e3e4ac77-76f0-4084-8e6e-4f7a54c13916' title='Show/Hide attributes'><svg class='icon xr-icon-file-text2'><use xlink:href='#icon-file-text2'></use></svg></label><input id='data-bdea80f1-0383-46c8-ad32-9a06b9fe260f' class='xr-var-data-in' type='checkbox'><label for='data-bdea80f1-0383-46c8-ad32-9a06b9fe260f' title='Show/Hide data repr'><svg class='icon xr-icon-database'><use xlink:href='#icon-database'></use></svg></label><div class='xr-var-attrs'><dl class='xr-attrs'></dl></div><div class='xr-var-data'><pre>array([[-1.87725860e-01,  5.43950118e-03,  2.96266557e-01,\n",
       "        -1.11609503e-01,  3.37097118e-01,  4.35798923e-02,\n",
       "         1.37236335e-01, -3.79833002e-02,  6.17465531e-02,\n",
       "        -1.70200378e-01,  5.32589520e-02, -4.11957053e-01,\n",
       "         1.06254691e-01, -3.03996298e-01,  2.28851856e-01,\n",
       "        -1.69936151e-01, -2.12886263e-02,  2.60678359e-01,\n",
       "         1.15619340e-01, -1.66819388e-01,  1.37130101e-01,\n",
       "         1.83735996e-01, -1.97850026e-01, -7.62693245e-02,\n",
       "         2.09736007e-01,  4.84336460e-01,  3.72569115e-01,\n",
       "        -1.88089052e-01,  1.49139394e-01,  3.36404373e-01,\n",
       "         4.38344352e-02,  2.52827920e-01,  2.50455107e-01,\n",
       "        -2.24180855e-01,  4.81519150e-02,  1.03771754e-01,\n",
       "         1.50579735e-01, -3.10571060e-02,  1.86015029e-01,\n",
       "        -2.58282801e-01,  7.04004364e-02,  8.27539937e-02,\n",
       "         2.84230460e-01,  8.51192177e-02, -4.28194530e-02,\n",
       "        -4.95702395e-01, -1.67056654e-01,  6.48724988e-01,\n",
       "         3.29055688e-01, -9.42425154e-02,  3.30185136e-01,\n",
       "        -2.27220107e-01, -2.81378848e-01, -5.07804728e-02,\n",
       "         1.85472168e-01,  1.71206925e-01, -2.19880722e-01,\n",
       "         6.24375730e-02,  1.72618469e-01,  1.50545536e-01,\n",
       "...\n",
       "        -2.41360384e-01, -9.27329039e-02, -4.50711621e-01,\n",
       "        -3.98282439e-01, -3.87947091e-01,  8.00513294e-02,\n",
       "         7.04478512e-01, -1.38038482e-01, -5.38879237e-01,\n",
       "         4.04616006e-01, -4.78452483e-01, -2.72794963e-01,\n",
       "         1.65670238e-02, -3.61521406e-01, -8.66953035e-02,\n",
       "        -2.14394063e-01, -1.11996715e-02, -2.58342834e-01,\n",
       "        -3.85492906e-01,  1.09506440e-01,  3.57098291e-02,\n",
       "        -3.32243703e-01, -3.89711666e-01,  4.21994967e-02,\n",
       "        -3.35374925e-02, -1.34180408e-01, -3.94719434e-02,\n",
       "        -8.06066645e-02,  1.18916923e-01,  3.27544195e-01,\n",
       "         4.79646299e-01, -3.07595495e-01,  4.30030326e-03,\n",
       "         4.83471361e-01,  3.07764630e-01, -4.30542805e-02,\n",
       "        -5.24413742e-01, -1.67736032e-01,  9.47786205e-02,\n",
       "         1.09823250e-01, -2.05153804e-01,  5.95095878e-01,\n",
       "        -1.20208193e-01, -3.19922905e-02, -1.34617900e-01,\n",
       "        -1.59916129e-01, -1.33595738e-01,  2.37654063e-02,\n",
       "        -1.14432446e-01,  2.14329615e-01, -2.71857535e-02,\n",
       "         6.72928683e-01,  3.36685673e-01,  8.61672576e-02,\n",
       "         3.82534033e-02, -9.64396955e-02, -6.27643427e-02,\n",
       "        -1.54625804e-02,  5.22328101e-01]])</pre></div></li><li class='xr-var-item'><div class='xr-var-name'><span>var_raw_sigma</span></div><div class='xr-var-dims'>(chain, draw)</div><div class='xr-var-dtype'>float64</div><div class='xr-var-preview xr-preview'>1.027 1.054 0.9615 ... 1.019 1.014</div><input id='attrs-a7baf18f-dfd3-47d8-8c74-034b5f9e1da1' class='xr-var-attrs-in' type='checkbox' disabled><label for='attrs-a7baf18f-dfd3-47d8-8c74-034b5f9e1da1' title='Show/Hide attributes'><svg class='icon xr-icon-file-text2'><use xlink:href='#icon-file-text2'></use></svg></label><input id='data-3bdffab5-b151-40e8-affa-474ebb0fba0e' class='xr-var-data-in' type='checkbox'><label for='data-3bdffab5-b151-40e8-affa-474ebb0fba0e' title='Show/Hide data repr'><svg class='icon xr-icon-database'><use xlink:href='#icon-database'></use></svg></label><div class='xr-var-attrs'><dl class='xr-attrs'></dl></div><div class='xr-var-data'><pre>array([[1.02693645, 1.05376525, 0.96153902, 0.93834809, 1.00967119,\n",
       "        0.91325407, 1.05693779, 1.05249962, 0.97963952, 1.06849007,\n",
       "        0.87427712, 0.99483699, 1.02967125, 1.0062274 , 0.93971088,\n",
       "        0.97752285, 0.95640889, 0.97222962, 0.9943891 , 1.01379258,\n",
       "        1.08600522, 1.01247734, 0.94223423, 0.95099785, 1.06400597,\n",
       "        1.03275433, 1.00904999, 1.01314033, 0.99736778, 1.00891506,\n",
       "        0.9812412 , 0.96570943, 0.92452996, 0.99298422, 1.00750764,\n",
       "        0.96476302, 0.93910094, 0.94638263, 1.03882553, 0.96351874,\n",
       "        0.94781951, 0.91331276, 0.99185641, 0.9675753 , 1.04217837,\n",
       "        1.06552266, 0.99668757, 1.01572028, 0.97933774, 1.05219883,\n",
       "        1.01129057, 0.98614925, 0.95007471, 1.02214971, 1.04198524,\n",
       "        0.96815606, 0.99969685, 1.05696081, 0.99875027, 1.07405057,\n",
       "        0.98756132, 0.98230323, 1.06713213, 0.90908342, 0.93613772,\n",
       "        1.01564443, 0.87950445, 1.01683288, 0.98715024, 0.90380864,\n",
       "        0.95242314, 0.94775287, 1.01053015, 0.96640132, 0.95945703,\n",
       "        1.00131686, 0.9211089 , 1.04236543, 1.00193745, 0.97429088,\n",
       "        0.93161598, 0.94680203, 1.10125106, 1.01905862, 1.03402491,\n",
       "        0.97092216, 0.97291066, 0.99542059, 0.99826542, 1.03140771,\n",
       "        0.97488627, 1.02195806, 1.12773723, 1.03091127, 1.07564595,\n",
       "        0.96646285, 0.99073424, 1.00813254, 1.07350138, 0.9538338 ,\n",
       "...\n",
       "        1.07417253, 0.96669944, 1.01770354, 0.95171566, 1.00391391,\n",
       "        1.04018467, 0.97018363, 1.10093097, 0.99916701, 1.01840241,\n",
       "        1.0727547 , 0.98580782, 1.01853943, 0.94287228, 0.95709416,\n",
       "        0.95933846, 0.96093259, 0.93700467, 0.94272799, 1.00777906,\n",
       "        1.01955962, 1.0278    , 0.96216525, 0.96428188, 1.03221498,\n",
       "        0.92905132, 1.04483835, 0.98463315, 0.93445293, 0.97982882,\n",
       "        1.06752217, 1.00453422, 1.01948888, 1.01265783, 1.00147144,\n",
       "        0.96834999, 1.03282808, 0.97669354, 0.89581361, 1.00921931,\n",
       "        1.07943138, 0.97410284, 1.0346187 , 1.00768301, 0.9159499 ,\n",
       "        1.02118673, 1.0455437 , 0.91677932, 0.96323021, 1.03692721,\n",
       "        1.03818748, 1.07360222, 1.01461245, 1.00571283, 0.91998221,\n",
       "        0.99245754, 0.96640963, 1.14926544, 1.04277485, 0.89942225,\n",
       "        1.10211712, 0.99255756, 0.98837007, 1.01999564, 0.9842253 ,\n",
       "        1.03294445, 0.95794165, 0.9935518 , 1.0704149 , 0.95000138,\n",
       "        1.05252938, 1.03150074, 1.03116982, 0.98282231, 1.00874109,\n",
       "        1.04803753, 1.11044915, 1.02903688, 1.05295594, 1.00336095,\n",
       "        1.01390062, 0.98140181, 1.00238148, 0.93939775, 0.98584062,\n",
       "        0.97330411, 1.04117709, 0.9811562 , 1.01627832, 0.99906523,\n",
       "        0.95737088, 1.0665028 , 1.0486076 , 1.06485476, 1.04689228,\n",
       "        0.97175042, 1.06678056, 0.93616083, 1.01922615, 1.01386751]])</pre></div></li><li class='xr-var-item'><div class='xr-var-name'><span>var_raw_sigma_raw</span></div><div class='xr-var-dims'>(chain, draw)</div><div class='xr-var-dtype'>float64</div><div class='xr-var-preview xr-preview'>0.02658 0.05237 ... 0.01904 0.01377</div><input id='attrs-a4ed1eac-8ad3-4ac1-9933-fb75fb9677ce' class='xr-var-attrs-in' type='checkbox' disabled><label for='attrs-a4ed1eac-8ad3-4ac1-9933-fb75fb9677ce' title='Show/Hide attributes'><svg class='icon xr-icon-file-text2'><use xlink:href='#icon-file-text2'></use></svg></label><input id='data-14e70a4e-117c-4c58-aab8-d0f1c108d906' class='xr-var-data-in' type='checkbox'><label for='data-14e70a4e-117c-4c58-aab8-d0f1c108d906' title='Show/Hide data repr'><svg class='icon xr-icon-database'><use xlink:href='#icon-database'></use></svg></label><div class='xr-var-attrs'><dl class='xr-attrs'></dl></div><div class='xr-var-data'><pre>array([[ 0.02658005,  0.0523697 , -0.03922014, -0.06363431,  0.00962472,\n",
       "        -0.09074116,  0.05537585,  0.05116792, -0.02057061,  0.0662465 ,\n",
       "        -0.13435789, -0.00517638,  0.02923958,  0.00620809, -0.06218302,\n",
       "        -0.02273361, -0.04456975, -0.02816327, -0.0056267 ,  0.01369833,\n",
       "         0.08250603,  0.01240014, -0.05950138, -0.05024347,  0.06204101,\n",
       "         0.03222934,  0.00900928,  0.01305474, -0.00263569,  0.00887555,\n",
       "        -0.01893698, -0.03489229, -0.07846983, -0.00704051,  0.0074796 ,\n",
       "        -0.03587279, -0.06283231, -0.05510832,  0.03809078, -0.03716334,\n",
       "        -0.05359118, -0.09067689, -0.00817693, -0.03296203,  0.04131311,\n",
       "         0.06346544, -0.00331793,  0.015598  , -0.02087871,  0.0508821 ,\n",
       "         0.01122731, -0.01394756, -0.05121466,  0.02190797,  0.04112778,\n",
       "        -0.03236199, -0.0003032 ,  0.05539763, -0.00125051,  0.07143708,\n",
       "        -0.01251669, -0.01785523,  0.0649748 , -0.09531842, -0.06599267,\n",
       "         0.01552332, -0.12839665,  0.01669277, -0.01293303, -0.10113762,\n",
       "        -0.04874587, -0.0536615 ,  0.0104751 , -0.03417609, -0.04138775,\n",
       "         0.00131599, -0.08217701,  0.04149259,  0.00193558, -0.02604537,\n",
       "        -0.07083459, -0.05466526,  0.09644686,  0.01887928,  0.03345887,\n",
       "        -0.02950898, -0.02746302, -0.00458993, -0.00173608,  0.03092458,\n",
       "        -0.02543446,  0.02172045,  0.12021318,  0.03044314,  0.07292136,\n",
       "        -0.03411242, -0.00930895,  0.00809965,  0.07092562, -0.04726584,\n",
       "...\n",
       "         0.07155062, -0.03386765,  0.01754866, -0.04948896,  0.00390627,\n",
       "         0.03939827, -0.03026991,  0.09615616, -0.00083334,  0.01823514,\n",
       "         0.07022983, -0.01429385,  0.01836967, -0.05882445, -0.0438535 ,\n",
       "        -0.04151133, -0.03985102, -0.06506701, -0.05897749,  0.00774896,\n",
       "         0.01937079,  0.02742059, -0.03856907, -0.03637162,  0.03170696,\n",
       "        -0.0735913 ,  0.04386218, -0.01548615, -0.06779402, -0.02037739,\n",
       "         0.06534023,  0.00452397,  0.0193014 ,  0.01257839,  0.00147036,\n",
       "        -0.0321617 ,  0.03230075, -0.02358235, -0.11002291,  0.00917707,\n",
       "         0.0764344 , -0.0262384 ,  0.03403296,  0.00765364, -0.08779361,\n",
       "         0.02096541,  0.04453704, -0.08688849, -0.03746284,  0.03626173,\n",
       "         0.03747639,  0.07101955,  0.01450672,  0.00569658, -0.08340095,\n",
       "        -0.00757105, -0.03416749,  0.13912299,  0.04188529, -0.10600267,\n",
       "         0.09723298, -0.00747027, -0.01169808,  0.01979835, -0.01590044,\n",
       "         0.03241341, -0.04296841, -0.00646908,  0.06804633, -0.05129184,\n",
       "         0.0511962 ,  0.03101477,  0.03069391, -0.01732694,  0.00870311,\n",
       "         0.04691939,  0.10476457,  0.02862329,  0.05160139,  0.00335532,\n",
       "         0.01380489, -0.01877331,  0.00237865, -0.06251631, -0.01426058,\n",
       "        -0.0270587 ,  0.04035189, -0.0190236 ,  0.01614724, -0.00093521,\n",
       "        -0.04356442,  0.06438488,  0.04746319,  0.06283842,  0.04582605,\n",
       "        -0.02865628,  0.06464529, -0.06596799,  0.01904366,  0.01377224]])</pre></div></li><li class='xr-var-item'><div class='xr-var-name'><span>var_raw</span></div><div class='xr-var-dims'>(chain, draw, channel)</div><div class='xr-var-dtype'>float64</div><div class='xr-var-preview xr-preview'>-1.225 -0.852 ... -0.3309 0.3298</div><input id='attrs-82e09837-49c7-4d65-ab9c-f306c9b805b9' class='xr-var-attrs-in' type='checkbox' disabled><label for='attrs-82e09837-49c7-4d65-ab9c-f306c9b805b9' title='Show/Hide attributes'><svg class='icon xr-icon-file-text2'><use xlink:href='#icon-file-text2'></use></svg></label><input id='data-1a51b919-5109-4764-8f22-9ba43f8b93a6' class='xr-var-data-in' type='checkbox'><label for='data-1a51b919-5109-4764-8f22-9ba43f8b93a6' title='Show/Hide data repr'><svg class='icon xr-icon-database'><use xlink:href='#icon-database'></use></svg></label><div class='xr-var-attrs'><dl class='xr-attrs'></dl></div><div class='xr-var-data'><pre>array([[[-1.22530965, -0.85204988, -0.74474406,  0.82610537],\n",
       "        [-1.33315436,  1.45093723,  0.05119132,  0.94865616],\n",
       "        [ 2.15769635,  0.93945657,  0.34178408,  2.30102307],\n",
       "        ...,\n",
       "        [ 0.43921337, -0.1020732 , -0.17220687,  3.00352915],\n",
       "        [-1.64172028,  1.62774644,  0.12172035, -0.35836318],\n",
       "        [ 1.27047452,  0.22127896, -0.33090693,  0.32984731]]])</pre></div></li><li class='xr-var-item'><div class='xr-var-name'><span>var_raw_offset</span></div><div class='xr-var-dims'>(chain, draw, channel)</div><div class='xr-var-dtype'>float64</div><div class='xr-var-preview xr-preview'>-1.01 -0.6469 ... -0.8416 -0.1898</div><input id='attrs-c01794be-6834-4629-9178-7dd4b1d551d3' class='xr-var-attrs-in' type='checkbox' disabled><label for='attrs-c01794be-6834-4629-9178-7dd4b1d551d3' title='Show/Hide attributes'><svg class='icon xr-icon-file-text2'><use xlink:href='#icon-file-text2'></use></svg></label><input id='data-2d807d5c-db27-496c-bec6-eb2dff4d3873' class='xr-var-data-in' type='checkbox'><label for='data-2d807d5c-db27-496c-bec6-eb2dff4d3873' title='Show/Hide data repr'><svg class='icon xr-icon-database'><use xlink:href='#icon-database'></use></svg></label><div class='xr-var-attrs'><dl class='xr-attrs'></dl></div><div class='xr-var-data'><pre>array([[[-1.01036805, -0.64689886, -0.54240766,  0.98723852],\n",
       "        [-1.27029608,  1.37174549,  0.04341747,  0.89509183],\n",
       "        [ 1.93588587,  0.66891723,  0.0473382 ,  2.08494557],\n",
       "        ...,\n",
       "        [ 0.53620884, -0.04198943, -0.11690569,  3.27539179],\n",
       "        [-1.59558083,  1.61221239,  0.13459518, -0.3364323 ],\n",
       "        [ 0.7379134 , -0.29693144, -0.84156463, -0.18984807]]])</pre></div></li></ul></div></li><li class='xr-section-item'><input id='section-4af56994-af69-4c79-b3d5-63cb45689fa5' class='xr-section-summary-in' type='checkbox'  ><label for='section-4af56994-af69-4c79-b3d5-63cb45689fa5' class='xr-section-summary' >Indexes: <span>(3)</span></label><div class='xr-section-inline-details'></div><div class='xr-section-details'><ul class='xr-var-list'><li class='xr-var-item'><div class='xr-index-name'><div>chain</div></div><div class='xr-index-preview'>PandasIndex</div><div></div><input id='index-0e85d874-c03c-4337-b000-4c7504107a6c' class='xr-index-data-in' type='checkbox'/><label for='index-0e85d874-c03c-4337-b000-4c7504107a6c' title='Show/Hide index repr'><svg class='icon xr-icon-database'><use xlink:href='#icon-database'></use></svg></label><div class='xr-index-data'><pre>PandasIndex(Index([0], dtype=&#x27;int64&#x27;, name=&#x27;chain&#x27;))</pre></div></li><li class='xr-var-item'><div class='xr-index-name'><div>draw</div></div><div class='xr-index-preview'>PandasIndex</div><div></div><input id='index-2a8e56e7-5fe5-4e39-8725-17a3db07bfb3' class='xr-index-data-in' type='checkbox'/><label for='index-2a8e56e7-5fe5-4e39-8725-17a3db07bfb3' title='Show/Hide index repr'><svg class='icon xr-icon-database'><use xlink:href='#icon-database'></use></svg></label><div class='xr-index-data'><pre>PandasIndex(Index([  0,   1,   2,   3,   4,   5,   6,   7,   8,   9,\n",
       "       ...\n",
       "       490, 491, 492, 493, 494, 495, 496, 497, 498, 499],\n",
       "      dtype=&#x27;int64&#x27;, name=&#x27;draw&#x27;, length=500))</pre></div></li><li class='xr-var-item'><div class='xr-index-name'><div>channel</div></div><div class='xr-index-preview'>PandasIndex</div><div></div><input id='index-bf7f4ab7-0460-4eef-a339-897798109edd' class='xr-index-data-in' type='checkbox'/><label for='index-bf7f4ab7-0460-4eef-a339-897798109edd' title='Show/Hide index repr'><svg class='icon xr-icon-database'><use xlink:href='#icon-database'></use></svg></label><div class='xr-index-data'><pre>PandasIndex(Index([&#x27;C1&#x27;, &#x27;C2&#x27;, &#x27;C3&#x27;, &#x27;C4&#x27;], dtype=&#x27;object&#x27;, name=&#x27;channel&#x27;))</pre></div></li></ul></div></li><li class='xr-section-item'><input id='section-d410fe0e-5441-4357-8bd2-01405e34acd2' class='xr-section-summary-in' type='checkbox'  checked><label for='section-d410fe0e-5441-4357-8bd2-01405e34acd2' class='xr-section-summary' >Attributes: <span>(4)</span></label><div class='xr-section-inline-details'></div><div class='xr-section-details'><dl class='xr-attrs'><dt><span>created_at :</span></dt><dd>2024-06-21T06:50:41.512661</dd><dt><span>arviz_version :</span></dt><dd>0.17.0</dd><dt><span>inference_library :</span></dt><dd>pymc</dd><dt><span>inference_library_version :</span></dt><dd>5.14.0</dd></dl></div></li></ul></div></div>"
      ],
      "text/plain": [
       "<xarray.Dataset> Size: 64kB\n",
       "Dimensions:            (chain: 1, draw: 500, channel: 4)\n",
       "Coordinates:\n",
       "  * chain              (chain) int64 8B 0\n",
       "  * draw               (draw) int64 4kB 0 1 2 3 4 5 ... 494 495 496 497 498 499\n",
       "  * channel            (channel) <U2 32B 'C1' 'C2' 'C3' 'C4'\n",
       "Data variables:\n",
       "    var                (chain, draw, channel) float64 16kB 0.227 ... 0.5817\n",
       "    var_raw_mu         (chain, draw) float64 4kB -0.1877 0.00544 ... 0.5223\n",
       "    var_raw_sigma      (chain, draw) float64 4kB 1.027 1.054 ... 1.019 1.014\n",
       "    var_raw_sigma_raw  (chain, draw) float64 4kB 0.02658 0.05237 ... 0.01377\n",
       "    var_raw            (chain, draw, channel) float64 16kB -1.225 ... 0.3298\n",
       "    var_raw_offset     (chain, draw, channel) float64 16kB -1.01 ... -0.1898\n",
       "Attributes:\n",
       "    created_at:                 2024-06-21T06:50:41.512661\n",
       "    arviz_version:              0.17.0\n",
       "    inference_library:          pymc\n",
       "    inference_library_version:  5.14.0"
      ]
     },
     "execution_count": 24,
     "metadata": {},
     "output_type": "execute_result"
    }
   ],
   "source": [
    "complicated_distribution = Prior(\n",
    "    \"Normal\",\n",
    "    mu=Prior(\"Normal\", sigma=0.25),\n",
    "    sigma=Prior(\"Normal\", sigma=0.05, transform=\"exp\"),\n",
    "    centered=False,\n",
    "    dims=\"channel\",\n",
    "    transform=\"sigmoid\",\n",
    ")\n",
    "\n",
    "coords = {\n",
    "    \"channel\": [\"C1\", \"C2\", \"C3\", \"C4\"],\n",
    "}\n",
    "prior = complicated_distribution.sample_prior(coords=coords)\n",
    "prior"
   ]
  },
  {
   "cell_type": "markdown",
   "id": "876f6d5e-9131-4077-b7cd-a8e0000d2dea",
   "metadata": {},
   "source": [
    "The prior variables can be visualized in whatever way works best. Here is a histogram of the variables."
   ]
  },
  {
   "cell_type": "code",
   "execution_count": 25,
   "id": "d8d05215-bbdb-4340-ada1-645a3eae665a",
   "metadata": {
    "scrolled": true
   },
   "outputs": [
    {
     "data": {
      "image/png": "[encoded data removed]",
      "text/plain": [
       "<Figure size 1200x700 with 4 Axes>"
      ]
     },
     "metadata": {},
     "output_type": "display_data"
    }
   ],
   "source": [
    "bins = np.arange(0, 1.1, 0.1)\n",
    "prior[\"var\"].to_series().unstack().hist(bins=bins, edgecolor=\"black\");"
   ]
  },
  {
   "cell_type": "markdown",
   "id": "90a9d504-6118-4fb9-a21b-7e01d8e5b5e8",
   "metadata": {},
   "source": [
    "### Automatic Broadcasting\n",
    "\n",
    "The broadcasting of the dims will be handled automatically.\n",
    "\n",
    "For instance, the `mu` of the variable needs to be transposed in order to work with (\"channel\", \"geo\") dims."
   ]
  },
  {
   "cell_type": "code",
   "execution_count": 28,
   "id": "078a2501-0e82-4551-b01a-042450e36ddb",
   "metadata": {
    "scrolled": true
   },
   "outputs": [
    {
     "data": {
      "image/svg+xml": [
       "<?xml version=\"1.0\" encoding=\"UTF-8\" standalone=\"no\"?>\n",
       "<!DOCTYPE svg PUBLIC \"-//W3C//DTD SVG 1.1//EN\"\n",
       " \"http://www.w3.org/Graphics/SVG/1.1/DTD/svg11.dtd\">\n",
       "<!-- Generated by graphviz version 9.0.0 (20231125.0833)\n",
       " -->\n",
       "<!-- Pages: 1 -->\n",
       "<svg width=\"1081pt\" height=\"524pt\"\n",
       " viewBox=\"0.00 0.00 1080.74 524.50\" xmlns=\"http://www.w3.org/2000/svg\" xmlns:xlink=\"http://www.w3.org/1999/xlink\">\n",
       "<g id=\"graph0\" class=\"graph\" transform=\"scale(1 1) rotate(0) translate(4 520.5)\">\n",
       "<polygon fill=\"white\" stroke=\"none\" points=\"-4,4 -4,-520.5 1076.74,-520.5 1076.74,4 -4,4\"/>\n",
       "<g id=\"clust1\" class=\"cluster\">\n",
       "<title>clusterchannel (1)</title>\n",
       "<path fill=\"none\" stroke=\"black\" d=\"M209.44,-141.75C209.44,-141.75 299.44,-141.75 299.44,-141.75 305.44,-141.75 311.44,-147.75 311.44,-153.75 311.44,-153.75 311.44,-255.5 311.44,-255.5 311.44,-261.5 305.44,-267.5 299.44,-267.5 299.44,-267.5 209.44,-267.5 209.44,-267.5 203.44,-267.5 197.44,-261.5 197.44,-255.5 197.44,-255.5 197.44,-153.75 197.44,-153.75 197.44,-147.75 203.44,-141.75 209.44,-141.75\"/>\n",
       "<text text-anchor=\"middle\" x=\"263.69\" y=\"-149.7\" font-family=\"Times,serif\" font-size=\"14.00\">channel (1)</text>\n",
       "</g>\n",
       "<g id=\"clust2\" class=\"cluster\">\n",
       "<title>clustergeo (1)</title>\n",
       "<path fill=\"none\" stroke=\"black\" d=\"M343.44,-154.12C343.44,-154.12 575.44,-154.12 575.44,-154.12 581.44,-154.12 587.44,-160.12 587.44,-166.12 587.44,-166.12 587.44,-496.5 587.44,-496.5 587.44,-502.5 581.44,-508.5 575.44,-508.5 575.44,-508.5 343.44,-508.5 343.44,-508.5 337.44,-508.5 331.44,-502.5 331.44,-496.5 331.44,-496.5 331.44,-166.12 331.44,-166.12 331.44,-160.12 337.44,-154.12 343.44,-154.12\"/>\n",
       "<text text-anchor=\"middle\" x=\"554.69\" y=\"-162.07\" font-family=\"Times,serif\" font-size=\"14.00\">geo (1)</text>\n",
       "</g>\n",
       "<g id=\"clust3\" class=\"cluster\">\n",
       "<title>clusterchannel (1) x geo (1)</title>\n",
       "<path fill=\"none\" stroke=\"black\" d=\"M295.44,-8C295.44,-8 433.44,-8 433.44,-8 439.44,-8 445.44,-14 445.44,-20 445.44,-20 445.44,-121.75 445.44,-121.75 445.44,-127.75 439.44,-133.75 433.44,-133.75 433.44,-133.75 295.44,-133.75 295.44,-133.75 289.44,-133.75 283.44,-127.75 283.44,-121.75 283.44,-121.75 283.44,-20 283.44,-20 283.44,-14 289.44,-8 295.44,-8\"/>\n",
       "<text text-anchor=\"middle\" x=\"364.31\" y=\"-15.95\" font-family=\"Times,serif\" font-size=\"14.00\">channel (1) x geo (1)</text>\n",
       "</g>\n",
       "<!-- var_mu_sigma -->\n",
       "<g id=\"node1\" class=\"node\">\n",
       "<title>var_mu_sigma</title>\n",
       "<ellipse fill=\"none\" stroke=\"black\" cx=\"83.44\" cy=\"-337.75\" rx=\"83.44\" ry=\"42.25\"/>\n",
       "<text text-anchor=\"middle\" x=\"83.44\" y=\"-350.32\" font-family=\"Times,serif\" font-size=\"14.00\">var_mu_sigma</text>\n",
       "<text text-anchor=\"middle\" x=\"83.44\" y=\"-333.07\" font-family=\"Times,serif\" font-size=\"14.00\">~</text>\n",
       "<text text-anchor=\"middle\" x=\"83.44\" y=\"-315.82\" font-family=\"Times,serif\" font-size=\"14.00\">HalfNormal</text>\n",
       "</g>\n",
       "<!-- var_mu -->\n",
       "<g id=\"node5\" class=\"node\">\n",
       "<title>var_mu</title>\n",
       "<ellipse fill=\"none\" stroke=\"black\" cx=\"254.44\" cy=\"-217.25\" rx=\"48.97\" ry=\"42.25\"/>\n",
       "<text text-anchor=\"middle\" x=\"254.44\" y=\"-229.82\" font-family=\"Times,serif\" font-size=\"14.00\">var_mu</text>\n",
       "<text text-anchor=\"middle\" x=\"254.44\" y=\"-212.57\" font-family=\"Times,serif\" font-size=\"14.00\">~</text>\n",
       "<text text-anchor=\"middle\" x=\"254.44\" y=\"-195.32\" font-family=\"Times,serif\" font-size=\"14.00\">Normal</text>\n",
       "</g>\n",
       "<!-- var_mu_sigma&#45;&gt;var_mu -->\n",
       "<g id=\"edge1\" class=\"edge\">\n",
       "<title>var_mu_sigma&#45;&gt;var_mu</title>\n",
       "<path fill=\"none\" stroke=\"black\" d=\"M131.98,-303.11C155.59,-286.75 183.85,-267.17 207.27,-250.94\"/>\n",
       "<polygon fill=\"black\" stroke=\"black\" points=\"209.18,-253.87 215.4,-245.3 205.19,-248.12 209.18,-253.87\"/>\n",
       "</g>\n",
       "<!-- var_mu_mu -->\n",
       "<g id=\"node2\" class=\"node\">\n",
       "<title>var_mu_mu</title>\n",
       "<ellipse fill=\"none\" stroke=\"black\" cx=\"254.44\" cy=\"-337.75\" rx=\"69.12\" ry=\"42.25\"/>\n",
       "<text text-anchor=\"middle\" x=\"254.44\" y=\"-350.32\" font-family=\"Times,serif\" font-size=\"14.00\">var_mu_mu</text>\n",
       "<text text-anchor=\"middle\" x=\"254.44\" y=\"-333.07\" font-family=\"Times,serif\" font-size=\"14.00\">~</text>\n",
       "<text text-anchor=\"middle\" x=\"254.44\" y=\"-315.82\" font-family=\"Times,serif\" font-size=\"14.00\">Normal</text>\n",
       "</g>\n",
       "<!-- var_mu_mu&#45;&gt;var_mu -->\n",
       "<g id=\"edge2\" class=\"edge\">\n",
       "<title>var_mu_mu&#45;&gt;var_mu</title>\n",
       "<path fill=\"none\" stroke=\"black\" d=\"M254.44,-295.3C254.44,-287.5 254.44,-279.24 254.44,-271.15\"/>\n",
       "<polygon fill=\"black\" stroke=\"black\" points=\"257.94,-271.38 254.44,-261.38 250.94,-271.38 257.94,-271.38\"/>\n",
       "</g>\n",
       "<!-- var_sigma_raw_sigma -->\n",
       "<g id=\"node3\" class=\"node\">\n",
       "<title>var_sigma_raw_sigma</title>\n",
       "<ellipse fill=\"none\" stroke=\"black\" cx=\"718.44\" cy=\"-458.25\" rx=\"121.62\" ry=\"42.25\"/>\n",
       "<text text-anchor=\"middle\" x=\"718.44\" y=\"-470.82\" font-family=\"Times,serif\" font-size=\"14.00\">var_sigma_raw_sigma</text>\n",
       "<text text-anchor=\"middle\" x=\"718.44\" y=\"-453.57\" font-family=\"Times,serif\" font-size=\"14.00\">~</text>\n",
       "<text text-anchor=\"middle\" x=\"718.44\" y=\"-436.32\" font-family=\"Times,serif\" font-size=\"14.00\">HalfNormal</text>\n",
       "</g>\n",
       "<!-- var_sigma_raw -->\n",
       "<g id=\"node6\" class=\"node\">\n",
       "<title>var_sigma_raw</title>\n",
       "<polygon fill=\"none\" stroke=\"black\" points=\"549.69,-367.62 427.19,-367.62 427.19,-307.87 549.69,-307.87 549.69,-367.62\"/>\n",
       "<text text-anchor=\"middle\" x=\"488.44\" y=\"-350.32\" font-family=\"Times,serif\" font-size=\"14.00\">var_sigma_raw</text>\n",
       "<text text-anchor=\"middle\" x=\"488.44\" y=\"-333.07\" font-family=\"Times,serif\" font-size=\"14.00\">~</text>\n",
       "<text text-anchor=\"middle\" x=\"488.44\" y=\"-315.82\" font-family=\"Times,serif\" font-size=\"14.00\">Deterministic</text>\n",
       "</g>\n",
       "<!-- var_sigma_raw_sigma&#45;&gt;var_sigma_raw -->\n",
       "<g id=\"edge4\" class=\"edge\">\n",
       "<title>var_sigma_raw_sigma&#45;&gt;var_sigma_raw</title>\n",
       "<path fill=\"none\" stroke=\"black\" d=\"M651.29,-422.65C621.04,-407.06 585.4,-388.7 555.19,-373.14\"/>\n",
       "<polygon fill=\"black\" stroke=\"black\" points=\"557,-370.14 546.51,-368.67 553.8,-376.36 557,-370.14\"/>\n",
       "</g>\n",
       "<!-- var_sigma_raw_mu -->\n",
       "<g id=\"node4\" class=\"node\">\n",
       "<title>var_sigma_raw_mu</title>\n",
       "<ellipse fill=\"none\" stroke=\"black\" cx=\"965.44\" cy=\"-458.25\" rx=\"107.3\" ry=\"42.25\"/>\n",
       "<text text-anchor=\"middle\" x=\"965.44\" y=\"-470.82\" font-family=\"Times,serif\" font-size=\"14.00\">var_sigma_raw_mu</text>\n",
       "<text text-anchor=\"middle\" x=\"965.44\" y=\"-453.57\" font-family=\"Times,serif\" font-size=\"14.00\">~</text>\n",
       "<text text-anchor=\"middle\" x=\"965.44\" y=\"-436.32\" font-family=\"Times,serif\" font-size=\"14.00\">Normal</text>\n",
       "</g>\n",
       "<!-- var_sigma_raw_mu&#45;&gt;var_sigma_raw -->\n",
       "<g id=\"edge3\" class=\"edge\">\n",
       "<title>var_sigma_raw_mu&#45;&gt;var_sigma_raw</title>\n",
       "<path fill=\"none\" stroke=\"black\" d=\"M888.52,-428.31C875.57,-423.9 862.19,-419.61 849.44,-416 750.76,-388.02 634.38,-364.84 560.99,-351.38\"/>\n",
       "<polygon fill=\"black\" stroke=\"black\" points=\"561.99,-348.01 551.53,-349.66 560.74,-354.89 561.99,-348.01\"/>\n",
       "</g>\n",
       "<!-- var -->\n",
       "<g id=\"node9\" class=\"node\">\n",
       "<title>var</title>\n",
       "<ellipse fill=\"none\" stroke=\"black\" cx=\"364.44\" cy=\"-83.5\" rx=\"48.97\" ry=\"42.25\"/>\n",
       "<text text-anchor=\"middle\" x=\"364.44\" y=\"-96.07\" font-family=\"Times,serif\" font-size=\"14.00\">var</text>\n",
       "<text text-anchor=\"middle\" x=\"364.44\" y=\"-78.82\" font-family=\"Times,serif\" font-size=\"14.00\">~</text>\n",
       "<text text-anchor=\"middle\" x=\"364.44\" y=\"-61.57\" font-family=\"Times,serif\" font-size=\"14.00\">Normal</text>\n",
       "</g>\n",
       "<!-- var_mu&#45;&gt;var -->\n",
       "<g id=\"edge8\" class=\"edge\">\n",
       "<title>var_mu&#45;&gt;var</title>\n",
       "<path fill=\"none\" stroke=\"black\" d=\"M282.77,-182.32C296.88,-165.42 314.09,-144.81 329.06,-126.87\"/>\n",
       "<polygon fill=\"black\" stroke=\"black\" points=\"331.51,-129.39 335.24,-119.48 326.14,-124.91 331.51,-129.39\"/>\n",
       "</g>\n",
       "<!-- var_sigma -->\n",
       "<g id=\"node7\" class=\"node\">\n",
       "<title>var_sigma</title>\n",
       "<polygon fill=\"none\" stroke=\"black\" points=\"484.19,-247.12 370.69,-247.12 370.69,-187.37 484.19,-187.37 484.19,-247.12\"/>\n",
       "<text text-anchor=\"middle\" x=\"427.44\" y=\"-229.82\" font-family=\"Times,serif\" font-size=\"14.00\">var_sigma</text>\n",
       "<text text-anchor=\"middle\" x=\"427.44\" y=\"-212.57\" font-family=\"Times,serif\" font-size=\"14.00\">~</text>\n",
       "<text text-anchor=\"middle\" x=\"427.44\" y=\"-195.32\" font-family=\"Times,serif\" font-size=\"14.00\">Deterministic</text>\n",
       "</g>\n",
       "<!-- var_sigma_raw&#45;&gt;var_sigma -->\n",
       "<g id=\"edge6\" class=\"edge\">\n",
       "<title>var_sigma_raw&#45;&gt;var_sigma</title>\n",
       "<path fill=\"none\" stroke=\"black\" d=\"M473.36,-307.46C465.59,-292.36 456,-273.74 447.6,-257.42\"/>\n",
       "<polygon fill=\"black\" stroke=\"black\" points=\"450.94,-256.25 443.25,-248.96 444.71,-259.45 450.94,-256.25\"/>\n",
       "</g>\n",
       "<!-- var_sigma&#45;&gt;var -->\n",
       "<g id=\"edge7\" class=\"edge\">\n",
       "<title>var_sigma&#45;&gt;var</title>\n",
       "<path fill=\"none\" stroke=\"black\" d=\"M413.46,-187.01C405.85,-171.09 396.23,-150.99 387.54,-132.81\"/>\n",
       "<polygon fill=\"black\" stroke=\"black\" points=\"390.81,-131.54 383.34,-124.03 384.5,-134.56 390.81,-131.54\"/>\n",
       "</g>\n",
       "<!-- var_sigma_raw_offset -->\n",
       "<g id=\"node8\" class=\"node\">\n",
       "<title>var_sigma_raw_offset</title>\n",
       "<ellipse fill=\"none\" stroke=\"black\" cx=\"459.44\" cy=\"-458.25\" rx=\"119.5\" ry=\"42.25\"/>\n",
       "<text text-anchor=\"middle\" x=\"459.44\" y=\"-470.82\" font-family=\"Times,serif\" font-size=\"14.00\">var_sigma_raw_offset</text>\n",
       "<text text-anchor=\"middle\" x=\"459.44\" y=\"-453.57\" font-family=\"Times,serif\" font-size=\"14.00\">~</text>\n",
       "<text text-anchor=\"middle\" x=\"459.44\" y=\"-436.32\" font-family=\"Times,serif\" font-size=\"14.00\">Normal</text>\n",
       "</g>\n",
       "<!-- var_sigma_raw_offset&#45;&gt;var_sigma_raw -->\n",
       "<g id=\"edge5\" class=\"edge\">\n",
       "<title>var_sigma_raw_offset&#45;&gt;var_sigma_raw</title>\n",
       "<path fill=\"none\" stroke=\"black\" d=\"M469.58,-415.8C472.5,-403.87 475.68,-390.87 478.59,-379\"/>\n",
       "<polygon fill=\"black\" stroke=\"black\" points=\"481.93,-380.07 480.91,-369.52 475.13,-378.4 481.93,-380.07\"/>\n",
       "</g>\n",
       "</g>\n",
       "</svg>\n"
      ],
      "text/plain": [
       "<graphviz.graphs.Digraph at 0x7fa85b4dd990>"
      ]
     },
     "execution_count": 28,
     "metadata": {},
     "output_type": "execute_result"
    }
   ],
   "source": [
    "variable_2d = Prior(\n",
    "    \"Normal\",\n",
    "    mu=Prior(\"Normal\", mu=Prior(\"Normal\"), sigma=Prior(\"HalfNormal\"), dims=\"channel\"),\n",
    "    sigma=Prior(\"Normal\", mu=Prior(\"Normal\"), sigma=Prior(\"HalfNormal\"), centered=False, dims=\"geo\", transform=\"exp\"),\n",
    "    dims=(\"channel\", \"geo\"),\n",
    ")\n",
    "\n",
    "variable_2d.graph()"
   ]
  },
  {
   "cell_type": "markdown",
   "id": "e018082e-23fb-48ab-ac69-e506a8fe9d9b",
   "metadata": {},
   "source": [
    "With all this functionality, we can see that the prior distributions can become quite expressive!"
   ]
  },
  {
   "cell_type": "code",
   "execution_count": 27,
   "id": "e0bdf8b8-34b7-4918-8106-2203b7db6152",
   "metadata": {},
   "outputs": [
    {
     "data": {
      "image/svg+xml": [
       "<?xml version=\"1.0\" encoding=\"UTF-8\" standalone=\"no\"?>\n",
       "<!DOCTYPE svg PUBLIC \"-//W3C//DTD SVG 1.1//EN\"\n",
       " \"http://www.w3.org/Graphics/SVG/1.1/DTD/svg11.dtd\">\n",
       "<!-- Generated by graphviz version 9.0.0 (20231125.0833)\n",
       " -->\n",
       "<!-- Pages: 1 -->\n",
       "<svg width=\"346pt\" height=\"388pt\"\n",
       " viewBox=\"0.00 0.00 346.18 388.00\" xmlns=\"http://www.w3.org/2000/svg\" xmlns:xlink=\"http://www.w3.org/1999/xlink\">\n",
       "<g id=\"graph0\" class=\"graph\" transform=\"scale(1 1) rotate(0) translate(4 384)\">\n",
       "<polygon fill=\"white\" stroke=\"none\" points=\"-4,4 -4,-384 342.18,-384 342.18,4 -4,4\"/>\n",
       "<g id=\"clust1\" class=\"cluster\">\n",
       "<title>clusterchannel (1)</title>\n",
       "<path fill=\"none\" stroke=\"black\" d=\"M20,-141.75C20,-141.75 110,-141.75 110,-141.75 116,-141.75 122,-147.75 122,-153.75 122,-153.75 122,-255.5 122,-255.5 122,-261.5 116,-267.5 110,-267.5 110,-267.5 20,-267.5 20,-267.5 14,-267.5 8,-261.5 8,-255.5 8,-255.5 8,-153.75 8,-153.75 8,-147.75 14,-141.75 20,-141.75\"/>\n",
       "<text text-anchor=\"middle\" x=\"74.25\" y=\"-149.7\" font-family=\"Times,serif\" font-size=\"14.00\">channel (1)</text>\n",
       "</g>\n",
       "<g id=\"clust2\" class=\"cluster\">\n",
       "<title>clustergeo (1)</title>\n",
       "<path fill=\"none\" stroke=\"black\" d=\"M142,-141.75C142,-141.75 234,-141.75 234,-141.75 240,-141.75 246,-147.75 246,-153.75 246,-153.75 246,-255.5 246,-255.5 246,-261.5 240,-267.5 234,-267.5 234,-267.5 142,-267.5 142,-267.5 136,-267.5 130,-261.5 130,-255.5 130,-255.5 130,-153.75 130,-153.75 130,-147.75 136,-141.75 142,-141.75\"/>\n",
       "<text text-anchor=\"middle\" x=\"213.25\" y=\"-149.7\" font-family=\"Times,serif\" font-size=\"14.00\">geo (1)</text>\n",
       "</g>\n",
       "<g id=\"clust3\" class=\"cluster\">\n",
       "<title>clusterchannel (1) x product (1) x geo (1)</title>\n",
       "<path fill=\"none\" stroke=\"black\" d=\"M50,-8C50,-8 285,-8 285,-8 291,-8 297,-14 297,-20 297,-20 297,-121.75 297,-121.75 297,-127.75 291,-133.75 285,-133.75 285,-133.75 50,-133.75 50,-133.75 44,-133.75 38,-127.75 38,-121.75 38,-121.75 38,-20 38,-20 38,-14 44,-8 50,-8\"/>\n",
       "<text text-anchor=\"middle\" x=\"167.5\" y=\"-15.95\" font-family=\"Times,serif\" font-size=\"14.00\">channel (1) x product (1) x geo (1)</text>\n",
       "</g>\n",
       "<!-- var_mu -->\n",
       "<g id=\"node1\" class=\"node\">\n",
       "<title>var_mu</title>\n",
       "<ellipse fill=\"none\" stroke=\"black\" cx=\"65\" cy=\"-217.25\" rx=\"48.97\" ry=\"42.25\"/>\n",
       "<text text-anchor=\"middle\" x=\"65\" y=\"-229.82\" font-family=\"Times,serif\" font-size=\"14.00\">var_mu</text>\n",
       "<text text-anchor=\"middle\" x=\"65\" y=\"-212.57\" font-family=\"Times,serif\" font-size=\"14.00\">~</text>\n",
       "<text text-anchor=\"middle\" x=\"65\" y=\"-195.32\" font-family=\"Times,serif\" font-size=\"14.00\">Normal</text>\n",
       "</g>\n",
       "<!-- var -->\n",
       "<g id=\"node5\" class=\"node\">\n",
       "<title>var</title>\n",
       "<ellipse fill=\"none\" stroke=\"black\" cx=\"142\" cy=\"-83.5\" rx=\"50.03\" ry=\"42.25\"/>\n",
       "<text text-anchor=\"middle\" x=\"142\" y=\"-96.07\" font-family=\"Times,serif\" font-size=\"14.00\">var</text>\n",
       "<text text-anchor=\"middle\" x=\"142\" y=\"-78.82\" font-family=\"Times,serif\" font-size=\"14.00\">~</text>\n",
       "<text text-anchor=\"middle\" x=\"142\" y=\"-61.57\" font-family=\"Times,serif\" font-size=\"14.00\">Laplace</text>\n",
       "</g>\n",
       "<!-- var_mu&#45;&gt;var -->\n",
       "<g id=\"edge4\" class=\"edge\">\n",
       "<title>var_mu&#45;&gt;var</title>\n",
       "<path fill=\"none\" stroke=\"black\" d=\"M86.65,-179.2C95.35,-164.32 105.47,-147.01 114.66,-131.28\"/>\n",
       "<polygon fill=\"black\" stroke=\"black\" points=\"117.45,-133.43 119.48,-123.03 111.41,-129.9 117.45,-133.43\"/>\n",
       "</g>\n",
       "<!-- var_b_alpha -->\n",
       "<g id=\"node2\" class=\"node\">\n",
       "<title>var_b_alpha</title>\n",
       "<ellipse fill=\"none\" stroke=\"black\" cx=\"109\" cy=\"-337.75\" rx=\"71.24\" ry=\"42.25\"/>\n",
       "<text text-anchor=\"middle\" x=\"109\" y=\"-350.32\" font-family=\"Times,serif\" font-size=\"14.00\">var_b_alpha</text>\n",
       "<text text-anchor=\"middle\" x=\"109\" y=\"-333.07\" font-family=\"Times,serif\" font-size=\"14.00\">~</text>\n",
       "<text text-anchor=\"middle\" x=\"109\" y=\"-315.82\" font-family=\"Times,serif\" font-size=\"14.00\">HalfNormal</text>\n",
       "</g>\n",
       "<!-- var_b -->\n",
       "<g id=\"node4\" class=\"node\">\n",
       "<title>var_b</title>\n",
       "<ellipse fill=\"none\" stroke=\"black\" cx=\"188\" cy=\"-217.25\" rx=\"50.03\" ry=\"42.25\"/>\n",
       "<text text-anchor=\"middle\" x=\"188\" y=\"-229.82\" font-family=\"Times,serif\" font-size=\"14.00\">var_b</text>\n",
       "<text text-anchor=\"middle\" x=\"188\" y=\"-212.57\" font-family=\"Times,serif\" font-size=\"14.00\">~</text>\n",
       "<text text-anchor=\"middle\" x=\"188\" y=\"-195.32\" font-family=\"Times,serif\" font-size=\"14.00\">Gamma</text>\n",
       "</g>\n",
       "<!-- var_b_alpha&#45;&gt;var_b -->\n",
       "<g id=\"edge1\" class=\"edge\">\n",
       "<title>var_b_alpha&#45;&gt;var_b</title>\n",
       "<path fill=\"none\" stroke=\"black\" d=\"M134.87,-297.95C142.18,-286.98 150.2,-274.94 157.75,-263.63\"/>\n",
       "<polygon fill=\"black\" stroke=\"black\" points=\"160.47,-265.85 163.11,-255.58 154.65,-261.96 160.47,-265.85\"/>\n",
       "</g>\n",
       "<!-- var_b_beta -->\n",
       "<g id=\"node3\" class=\"node\">\n",
       "<title>var_b_beta</title>\n",
       "<ellipse fill=\"none\" stroke=\"black\" cx=\"268\" cy=\"-337.75\" rx=\"70.18\" ry=\"42.25\"/>\n",
       "<text text-anchor=\"middle\" x=\"268\" y=\"-350.32\" font-family=\"Times,serif\" font-size=\"14.00\">var_b_beta</text>\n",
       "<text text-anchor=\"middle\" x=\"268\" y=\"-333.07\" font-family=\"Times,serif\" font-size=\"14.00\">~</text>\n",
       "<text text-anchor=\"middle\" x=\"268\" y=\"-315.82\" font-family=\"Times,serif\" font-size=\"14.00\">HalfNormal</text>\n",
       "</g>\n",
       "<!-- var_b_beta&#45;&gt;var_b -->\n",
       "<g id=\"edge2\" class=\"edge\">\n",
       "<title>var_b_beta&#45;&gt;var_b</title>\n",
       "<path fill=\"none\" stroke=\"black\" d=\"M242.03,-298.27C234.61,-287.29 226.46,-275.22 218.79,-263.86\"/>\n",
       "<polygon fill=\"black\" stroke=\"black\" points=\"221.83,-262.1 213.33,-255.77 216.03,-266.02 221.83,-262.1\"/>\n",
       "</g>\n",
       "<!-- var_b&#45;&gt;var -->\n",
       "<g id=\"edge3\" class=\"edge\">\n",
       "<title>var_b&#45;&gt;var</title>\n",
       "<path fill=\"none\" stroke=\"black\" d=\"M174.07,-176.36C169.52,-163.33 164.41,-148.69 159.63,-134.99\"/>\n",
       "<polygon fill=\"black\" stroke=\"black\" points=\"162.98,-133.97 156.38,-125.68 156.37,-136.27 162.98,-133.97\"/>\n",
       "</g>\n",
       "</g>\n",
       "</svg>\n"
      ],
      "text/plain": [
       "<graphviz.graphs.Digraph at 0x7fa85b9905e0>"
      ]
     },
     "execution_count": 27,
     "metadata": {},
     "output_type": "execute_result"
    }
   ],
   "source": [
    "distribution_3d = Prior(\n",
    "    \"Laplace\",\n",
    "    mu=Prior(\"Normal\", dims=\"channel\"),\n",
    "    b=Prior(\"Gamma\", alpha=Prior(\"HalfNormal\"), beta=Prior(\"HalfNormal\"), dims=\"geo\"),\n",
    "    dims=(\"channel\", \"product\", \"geo\"),\n",
    ")\n",
    "\n",
    "distribution_3d.graph()"
   ]
  },
  {
   "cell_type": "markdown",
   "id": "6e01638c-5e10-4796-a76b-7fd3b1b1ac3c",
   "metadata": {},
   "source": [
    "### Serialization\n",
    "\n",
    "The `to_json` and `from_json` methods can be helpful for storage of the distributions."
   ]
  },
  {
   "cell_type": "code",
   "execution_count": 29,
   "id": "f34d2031-90f1-4c06-a0ab-2f3133cdb9c1",
   "metadata": {},
   "outputs": [
    {
     "data": {
      "text/plain": [
       "{'dist': 'Normal',\n",
       " 'kwargs': {'mu': {'dist': 'Normal',\n",
       "   'kwargs': {'mu': {'dist': 'Normal'}, 'sigma': {'dist': 'HalfNormal'}},\n",
       "   'dims': ('channel',)},\n",
       "  'sigma': {'dist': 'Normal',\n",
       "   'kwargs': {'mu': {'dist': 'Normal'}, 'sigma': {'dist': 'HalfNormal'}},\n",
       "   'centered': False,\n",
       "   'dims': ('geo',),\n",
       "   'transform': 'exp'}},\n",
       " 'dims': ('channel', 'geo')}"
      ]
     },
     "execution_count": 29,
     "metadata": {},
     "output_type": "execute_result"
    }
   ],
   "source": [
    "variable_2d_dict = variable_2d.to_json()\n",
    "variable_2d_dict"
   ]
  },
  {
   "cell_type": "code",
   "execution_count": 30,
   "id": "cd833a19-ef27-4701-8b8e-a41990bd5a10",
   "metadata": {
    "scrolled": true
   },
   "outputs": [
    {
     "data": {
      "image/svg+xml": [
       "<?xml version=\"1.0\" encoding=\"UTF-8\" standalone=\"no\"?>\n",
       "<!DOCTYPE svg PUBLIC \"-//W3C//DTD SVG 1.1//EN\"\n",
       " \"http://www.w3.org/Graphics/SVG/1.1/DTD/svg11.dtd\">\n",
       "<!-- Generated by graphviz version 9.0.0 (20231125.0833)\n",
       " -->\n",
       "<!-- Pages: 1 -->\n",
       "<svg width=\"1081pt\" height=\"524pt\"\n",
       " viewBox=\"0.00 0.00 1080.74 524.50\" xmlns=\"http://www.w3.org/2000/svg\" xmlns:xlink=\"http://www.w3.org/1999/xlink\">\n",
       "<g id=\"graph0\" class=\"graph\" transform=\"scale(1 1) rotate(0) translate(4 520.5)\">\n",
       "<polygon fill=\"white\" stroke=\"none\" points=\"-4,4 -4,-520.5 1076.74,-520.5 1076.74,4 -4,4\"/>\n",
       "<g id=\"clust1\" class=\"cluster\">\n",
       "<title>clusterchannel (1)</title>\n",
       "<path fill=\"none\" stroke=\"black\" d=\"M209.44,-141.75C209.44,-141.75 299.44,-141.75 299.44,-141.75 305.44,-141.75 311.44,-147.75 311.44,-153.75 311.44,-153.75 311.44,-255.5 311.44,-255.5 311.44,-261.5 305.44,-267.5 299.44,-267.5 299.44,-267.5 209.44,-267.5 209.44,-267.5 203.44,-267.5 197.44,-261.5 197.44,-255.5 197.44,-255.5 197.44,-153.75 197.44,-153.75 197.44,-147.75 203.44,-141.75 209.44,-141.75\"/>\n",
       "<text text-anchor=\"middle\" x=\"263.69\" y=\"-149.7\" font-family=\"Times,serif\" font-size=\"14.00\">channel (1)</text>\n",
       "</g>\n",
       "<g id=\"clust2\" class=\"cluster\">\n",
       "<title>clustergeo (1)</title>\n",
       "<path fill=\"none\" stroke=\"black\" d=\"M343.44,-154.12C343.44,-154.12 575.44,-154.12 575.44,-154.12 581.44,-154.12 587.44,-160.12 587.44,-166.12 587.44,-166.12 587.44,-496.5 587.44,-496.5 587.44,-502.5 581.44,-508.5 575.44,-508.5 575.44,-508.5 343.44,-508.5 343.44,-508.5 337.44,-508.5 331.44,-502.5 331.44,-496.5 331.44,-496.5 331.44,-166.12 331.44,-166.12 331.44,-160.12 337.44,-154.12 343.44,-154.12\"/>\n",
       "<text text-anchor=\"middle\" x=\"554.69\" y=\"-162.07\" font-family=\"Times,serif\" font-size=\"14.00\">geo (1)</text>\n",
       "</g>\n",
       "<g id=\"clust3\" class=\"cluster\">\n",
       "<title>clusterchannel (1) x geo (1)</title>\n",
       "<path fill=\"none\" stroke=\"black\" d=\"M295.44,-8C295.44,-8 433.44,-8 433.44,-8 439.44,-8 445.44,-14 445.44,-20 445.44,-20 445.44,-121.75 445.44,-121.75 445.44,-127.75 439.44,-133.75 433.44,-133.75 433.44,-133.75 295.44,-133.75 295.44,-133.75 289.44,-133.75 283.44,-127.75 283.44,-121.75 283.44,-121.75 283.44,-20 283.44,-20 283.44,-14 289.44,-8 295.44,-8\"/>\n",
       "<text text-anchor=\"middle\" x=\"364.31\" y=\"-15.95\" font-family=\"Times,serif\" font-size=\"14.00\">channel (1) x geo (1)</text>\n",
       "</g>\n",
       "<!-- var_mu_sigma -->\n",
       "<g id=\"node1\" class=\"node\">\n",
       "<title>var_mu_sigma</title>\n",
       "<ellipse fill=\"none\" stroke=\"black\" cx=\"83.44\" cy=\"-337.75\" rx=\"83.44\" ry=\"42.25\"/>\n",
       "<text text-anchor=\"middle\" x=\"83.44\" y=\"-350.32\" font-family=\"Times,serif\" font-size=\"14.00\">var_mu_sigma</text>\n",
       "<text text-anchor=\"middle\" x=\"83.44\" y=\"-333.07\" font-family=\"Times,serif\" font-size=\"14.00\">~</text>\n",
       "<text text-anchor=\"middle\" x=\"83.44\" y=\"-315.82\" font-family=\"Times,serif\" font-size=\"14.00\">HalfNormal</text>\n",
       "</g>\n",
       "<!-- var_mu -->\n",
       "<g id=\"node5\" class=\"node\">\n",
       "<title>var_mu</title>\n",
       "<ellipse fill=\"none\" stroke=\"black\" cx=\"254.44\" cy=\"-217.25\" rx=\"48.97\" ry=\"42.25\"/>\n",
       "<text text-anchor=\"middle\" x=\"254.44\" y=\"-229.82\" font-family=\"Times,serif\" font-size=\"14.00\">var_mu</text>\n",
       "<text text-anchor=\"middle\" x=\"254.44\" y=\"-212.57\" font-family=\"Times,serif\" font-size=\"14.00\">~</text>\n",
       "<text text-anchor=\"middle\" x=\"254.44\" y=\"-195.32\" font-family=\"Times,serif\" font-size=\"14.00\">Normal</text>\n",
       "</g>\n",
       "<!-- var_mu_sigma&#45;&gt;var_mu -->\n",
       "<g id=\"edge1\" class=\"edge\">\n",
       "<title>var_mu_sigma&#45;&gt;var_mu</title>\n",
       "<path fill=\"none\" stroke=\"black\" d=\"M131.98,-303.11C155.59,-286.75 183.85,-267.17 207.27,-250.94\"/>\n",
       "<polygon fill=\"black\" stroke=\"black\" points=\"209.18,-253.87 215.4,-245.3 205.19,-248.12 209.18,-253.87\"/>\n",
       "</g>\n",
       "<!-- var_mu_mu -->\n",
       "<g id=\"node2\" class=\"node\">\n",
       "<title>var_mu_mu</title>\n",
       "<ellipse fill=\"none\" stroke=\"black\" cx=\"254.44\" cy=\"-337.75\" rx=\"69.12\" ry=\"42.25\"/>\n",
       "<text text-anchor=\"middle\" x=\"254.44\" y=\"-350.32\" font-family=\"Times,serif\" font-size=\"14.00\">var_mu_mu</text>\n",
       "<text text-anchor=\"middle\" x=\"254.44\" y=\"-333.07\" font-family=\"Times,serif\" font-size=\"14.00\">~</text>\n",
       "<text text-anchor=\"middle\" x=\"254.44\" y=\"-315.82\" font-family=\"Times,serif\" font-size=\"14.00\">Normal</text>\n",
       "</g>\n",
       "<!-- var_mu_mu&#45;&gt;var_mu -->\n",
       "<g id=\"edge2\" class=\"edge\">\n",
       "<title>var_mu_mu&#45;&gt;var_mu</title>\n",
       "<path fill=\"none\" stroke=\"black\" d=\"M254.44,-295.3C254.44,-287.5 254.44,-279.24 254.44,-271.15\"/>\n",
       "<polygon fill=\"black\" stroke=\"black\" points=\"257.94,-271.38 254.44,-261.38 250.94,-271.38 257.94,-271.38\"/>\n",
       "</g>\n",
       "<!-- var_sigma_raw_sigma -->\n",
       "<g id=\"node3\" class=\"node\">\n",
       "<title>var_sigma_raw_sigma</title>\n",
       "<ellipse fill=\"none\" stroke=\"black\" cx=\"718.44\" cy=\"-458.25\" rx=\"121.62\" ry=\"42.25\"/>\n",
       "<text text-anchor=\"middle\" x=\"718.44\" y=\"-470.82\" font-family=\"Times,serif\" font-size=\"14.00\">var_sigma_raw_sigma</text>\n",
       "<text text-anchor=\"middle\" x=\"718.44\" y=\"-453.57\" font-family=\"Times,serif\" font-size=\"14.00\">~</text>\n",
       "<text text-anchor=\"middle\" x=\"718.44\" y=\"-436.32\" font-family=\"Times,serif\" font-size=\"14.00\">HalfNormal</text>\n",
       "</g>\n",
       "<!-- var_sigma_raw -->\n",
       "<g id=\"node6\" class=\"node\">\n",
       "<title>var_sigma_raw</title>\n",
       "<polygon fill=\"none\" stroke=\"black\" points=\"549.69,-367.62 427.19,-367.62 427.19,-307.87 549.69,-307.87 549.69,-367.62\"/>\n",
       "<text text-anchor=\"middle\" x=\"488.44\" y=\"-350.32\" font-family=\"Times,serif\" font-size=\"14.00\">var_sigma_raw</text>\n",
       "<text text-anchor=\"middle\" x=\"488.44\" y=\"-333.07\" font-family=\"Times,serif\" font-size=\"14.00\">~</text>\n",
       "<text text-anchor=\"middle\" x=\"488.44\" y=\"-315.82\" font-family=\"Times,serif\" font-size=\"14.00\">Deterministic</text>\n",
       "</g>\n",
       "<!-- var_sigma_raw_sigma&#45;&gt;var_sigma_raw -->\n",
       "<g id=\"edge4\" class=\"edge\">\n",
       "<title>var_sigma_raw_sigma&#45;&gt;var_sigma_raw</title>\n",
       "<path fill=\"none\" stroke=\"black\" d=\"M651.29,-422.65C621.04,-407.06 585.4,-388.7 555.19,-373.14\"/>\n",
       "<polygon fill=\"black\" stroke=\"black\" points=\"557,-370.14 546.51,-368.67 553.8,-376.36 557,-370.14\"/>\n",
       "</g>\n",
       "<!-- var_sigma_raw_mu -->\n",
       "<g id=\"node4\" class=\"node\">\n",
       "<title>var_sigma_raw_mu</title>\n",
       "<ellipse fill=\"none\" stroke=\"black\" cx=\"965.44\" cy=\"-458.25\" rx=\"107.3\" ry=\"42.25\"/>\n",
       "<text text-anchor=\"middle\" x=\"965.44\" y=\"-470.82\" font-family=\"Times,serif\" font-size=\"14.00\">var_sigma_raw_mu</text>\n",
       "<text text-anchor=\"middle\" x=\"965.44\" y=\"-453.57\" font-family=\"Times,serif\" font-size=\"14.00\">~</text>\n",
       "<text text-anchor=\"middle\" x=\"965.44\" y=\"-436.32\" font-family=\"Times,serif\" font-size=\"14.00\">Normal</text>\n",
       "</g>\n",
       "<!-- var_sigma_raw_mu&#45;&gt;var_sigma_raw -->\n",
       "<g id=\"edge3\" class=\"edge\">\n",
       "<title>var_sigma_raw_mu&#45;&gt;var_sigma_raw</title>\n",
       "<path fill=\"none\" stroke=\"black\" d=\"M888.52,-428.31C875.57,-423.9 862.19,-419.61 849.44,-416 750.76,-388.02 634.38,-364.84 560.99,-351.38\"/>\n",
       "<polygon fill=\"black\" stroke=\"black\" points=\"561.99,-348.01 551.53,-349.66 560.74,-354.89 561.99,-348.01\"/>\n",
       "</g>\n",
       "<!-- var -->\n",
       "<g id=\"node9\" class=\"node\">\n",
       "<title>var</title>\n",
       "<ellipse fill=\"none\" stroke=\"black\" cx=\"364.44\" cy=\"-83.5\" rx=\"48.97\" ry=\"42.25\"/>\n",
       "<text text-anchor=\"middle\" x=\"364.44\" y=\"-96.07\" font-family=\"Times,serif\" font-size=\"14.00\">var</text>\n",
       "<text text-anchor=\"middle\" x=\"364.44\" y=\"-78.82\" font-family=\"Times,serif\" font-size=\"14.00\">~</text>\n",
       "<text text-anchor=\"middle\" x=\"364.44\" y=\"-61.57\" font-family=\"Times,serif\" font-size=\"14.00\">Normal</text>\n",
       "</g>\n",
       "<!-- var_mu&#45;&gt;var -->\n",
       "<g id=\"edge8\" class=\"edge\">\n",
       "<title>var_mu&#45;&gt;var</title>\n",
       "<path fill=\"none\" stroke=\"black\" d=\"M282.77,-182.32C296.88,-165.42 314.09,-144.81 329.06,-126.87\"/>\n",
       "<polygon fill=\"black\" stroke=\"black\" points=\"331.51,-129.39 335.24,-119.48 326.14,-124.91 331.51,-129.39\"/>\n",
       "</g>\n",
       "<!-- var_sigma -->\n",
       "<g id=\"node7\" class=\"node\">\n",
       "<title>var_sigma</title>\n",
       "<polygon fill=\"none\" stroke=\"black\" points=\"484.19,-247.12 370.69,-247.12 370.69,-187.37 484.19,-187.37 484.19,-247.12\"/>\n",
       "<text text-anchor=\"middle\" x=\"427.44\" y=\"-229.82\" font-family=\"Times,serif\" font-size=\"14.00\">var_sigma</text>\n",
       "<text text-anchor=\"middle\" x=\"427.44\" y=\"-212.57\" font-family=\"Times,serif\" font-size=\"14.00\">~</text>\n",
       "<text text-anchor=\"middle\" x=\"427.44\" y=\"-195.32\" font-family=\"Times,serif\" font-size=\"14.00\">Deterministic</text>\n",
       "</g>\n",
       "<!-- var_sigma_raw&#45;&gt;var_sigma -->\n",
       "<g id=\"edge6\" class=\"edge\">\n",
       "<title>var_sigma_raw&#45;&gt;var_sigma</title>\n",
       "<path fill=\"none\" stroke=\"black\" d=\"M473.36,-307.46C465.59,-292.36 456,-273.74 447.6,-257.42\"/>\n",
       "<polygon fill=\"black\" stroke=\"black\" points=\"450.94,-256.25 443.25,-248.96 444.71,-259.45 450.94,-256.25\"/>\n",
       "</g>\n",
       "<!-- var_sigma&#45;&gt;var -->\n",
       "<g id=\"edge7\" class=\"edge\">\n",
       "<title>var_sigma&#45;&gt;var</title>\n",
       "<path fill=\"none\" stroke=\"black\" d=\"M413.46,-187.01C405.85,-171.09 396.23,-150.99 387.54,-132.81\"/>\n",
       "<polygon fill=\"black\" stroke=\"black\" points=\"390.81,-131.54 383.34,-124.03 384.5,-134.56 390.81,-131.54\"/>\n",
       "</g>\n",
       "<!-- var_sigma_raw_offset -->\n",
       "<g id=\"node8\" class=\"node\">\n",
       "<title>var_sigma_raw_offset</title>\n",
       "<ellipse fill=\"none\" stroke=\"black\" cx=\"459.44\" cy=\"-458.25\" rx=\"119.5\" ry=\"42.25\"/>\n",
       "<text text-anchor=\"middle\" x=\"459.44\" y=\"-470.82\" font-family=\"Times,serif\" font-size=\"14.00\">var_sigma_raw_offset</text>\n",
       "<text text-anchor=\"middle\" x=\"459.44\" y=\"-453.57\" font-family=\"Times,serif\" font-size=\"14.00\">~</text>\n",
       "<text text-anchor=\"middle\" x=\"459.44\" y=\"-436.32\" font-family=\"Times,serif\" font-size=\"14.00\">Normal</text>\n",
       "</g>\n",
       "<!-- var_sigma_raw_offset&#45;&gt;var_sigma_raw -->\n",
       "<g id=\"edge5\" class=\"edge\">\n",
       "<title>var_sigma_raw_offset&#45;&gt;var_sigma_raw</title>\n",
       "<path fill=\"none\" stroke=\"black\" d=\"M469.58,-415.8C472.5,-403.87 475.68,-390.87 478.59,-379\"/>\n",
       "<polygon fill=\"black\" stroke=\"black\" points=\"481.93,-380.07 480.91,-369.52 475.13,-378.4 481.93,-380.07\"/>\n",
       "</g>\n",
       "</g>\n",
       "</svg>\n"
      ],
      "text/plain": [
       "<graphviz.graphs.Digraph at 0x7fa85b5409d0>"
      ]
     },
     "execution_count": 30,
     "metadata": {},
     "output_type": "execute_result"
    }
   ],
   "source": [
    "Prior.from_json(variable_2d_dict).graph()"
   ]
  },
  {
   "cell_type": "markdown",
   "id": "41abb828-e67b-4995-b20c-a83b965493c3",
   "metadata": {},
   "source": [
    "## Use in PyMC-Marketing\n",
    "\n",
    "Distributions will be expressed in this manner throughout the package including but not limited to: \n",
    "\n",
    "- MMM components\n",
    "    - media transformations\n",
    " \n",
    "### Backwards compatibility\n",
    "\n",
    "The `from_json` method will create a `Prior` instance from the previous format.\n",
    "\n",
    "For instance, take this previous configuration: "
   ]
  },
  {
   "cell_type": "code",
   "execution_count": 12,
   "id": "29e66da3-4fba-4f85-8379-f0d237d45123",
   "metadata": {},
   "outputs": [],
   "source": [
    "old_model_config = {\n",
    "    \"alpha\": {\n",
    "        \"dist\": \"Normal\",\n",
    "        \"kwargs\": {\n",
    "            \"mu\": 0,\n",
    "            \"sigma\": 1,\n",
    "        },\n",
    "    },\n",
    "    \"beta\": {\n",
    "        \"dist\": \"Laplace\",\n",
    "        \"kwargs\": {\n",
    "            \"mu\": 1,\n",
    "            \"b\": 0.5,\n",
    "        },\n",
    "    },\n",
    "}"
   ]
  },
  {
   "cell_type": "markdown",
   "id": "d63987c0-2525-4b12-8415-cd62dd66265f",
   "metadata": {},
   "source": [
    "This can be parsed with the `Prior.from_json` constructor for each key. Much more consise too!"
   ]
  },
  {
   "cell_type": "code",
   "execution_count": 14,
   "id": "92413026-9d9a-4424-b236-09f54b254545",
   "metadata": {},
   "outputs": [
    {
     "data": {
      "text/plain": [
       "{'alpha': Prior(\"Normal\", mu=0, sigma=1),\n",
       " 'beta': Prior(\"Laplace\", mu=1, b=0.5)}"
      ]
     },
     "execution_count": 14,
     "metadata": {},
     "output_type": "execute_result"
    }
   ],
   "source": [
    "new_model_config = {\n",
    "    name: Prior.from_json(key)\n",
    "    for name, key in\n",
    "    old_model_config.items()\n",
    "}\n",
    "\n",
    "new_model_config"
   ]
  },
  {
   "cell_type": "code",
   "execution_count": 16,
   "id": "1636ae9b-452c-4772-8b60-085c9b044154",
   "metadata": {},
   "outputs": [
    {
     "data": {
      "text/plain": [
       "{'dist': 'Normal', 'kwargs': {'mu': 0, 'sigma': 1}}"
      ]
     },
     "execution_count": 16,
     "metadata": {},
     "output_type": "execute_result"
    }
   ],
   "source": [
    "new_model_config[\"alpha\"].to_json()"
   ]
  },
  {
   "cell_type": "markdown",
   "id": "01370c37-2e03-46bc-98c5-fcd8bae1b8e7",
   "metadata": {},
   "source": [
    "The `parse_model_config` function will do just this and is used internally. It also provides some deprecation warnings."
   ]
  },
  {
   "cell_type": "code",
   "execution_count": 31,
   "id": "54e8e716-b2c9-4019-8620-2616f9783576",
   "metadata": {},
   "outputs": [
    {
     "ename": "ImportError",
     "evalue": "cannot import name 'parse_model_config' from 'pymc_marketing.model_config' (/home/wdean/micromamba/envs/pymc-marketing-dev/lib/python3.10/site-packages/pymc_marketing/model_config.py)",
     "output_type": "error",
     "traceback": [
      "\u001b[0;31m---------------------------------------------------------------------------\u001b[0m",
      "\u001b[0;31mImportError\u001b[0m                               Traceback (most recent call last)",
      "Cell \u001b[0;32mIn[31], line 1\u001b[0m\n\u001b[0;32m----> 1\u001b[0m \u001b[38;5;28;01mfrom\u001b[39;00m \u001b[38;5;21;01mpymc_marketing\u001b[39;00m\u001b[38;5;21;01m.\u001b[39;00m\u001b[38;5;21;01mmodel_config\u001b[39;00m \u001b[38;5;28;01mimport\u001b[39;00m parse_model_config\n\u001b[1;32m      4\u001b[0m parse_model_config(model_config)\n",
      "\u001b[0;31mImportError\u001b[0m: cannot import name 'parse_model_config' from 'pymc_marketing.model_config' (/home/wdean/micromamba/envs/pymc-marketing-dev/lib/python3.10/site-packages/pymc_marketing/model_config.py)"
     ]
    }
   ],
   "source": [
    "parse_model_config(old_model_config)"
   ]
  }
 ],
 "metadata": {
  "kernelspec": {
   "display_name": "Python 3 (ipykernel)",
   "language": "python",
   "name": "python3"
  },
  "language_info": {
   "codemirror_mode": {
    "name": "ipython",
    "version": 3
   },
   "file_extension": ".py",
   "mimetype": "text/x-python",
   "name": "python",
   "nbconvert_exporter": "python",
   "pygments_lexer": "ipython3",
   "version": "3.10.13"
  }
 },
 "nbformat": 4,
 "nbformat_minor": 5
}
