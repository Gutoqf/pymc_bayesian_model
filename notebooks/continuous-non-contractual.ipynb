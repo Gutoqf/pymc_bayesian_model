{
 "cells": [
  {
   "cell_type": "code",
   "execution_count": 1,
   "id": "a4ff3633",
   "metadata": {},
   "outputs": [
    {
     "ename": "SyntaxError",
     "evalue": "invalid syntax (distributions.py, line 143)",
     "output_type": "error",
     "traceback": [
      "Traceback \u001b[0;36m(most recent call last)\u001b[0m:\n",
      "  File \u001b[1;32m~/opt/anaconda3/envs/pymmmc_env/lib/python3.8/site-packages/IPython/core/interactiveshell.py:3361\u001b[0m in \u001b[1;35mrun_code\u001b[0m\n    exec(code_obj, self.user_global_ns, self.user_ns)\n",
      "  Input \u001b[1;32mIn [1]\u001b[0m in \u001b[1;35m<cell line: 1>\u001b[0m\n    import pymmmc\n",
      "\u001b[0;36m  File \u001b[0;32m~/Documents/GitHub/pymmmc/pymmmc/__init__.py:3\u001b[0;36m in \u001b[0;35m<module>\u001b[0;36m\u001b[0m\n\u001b[0;31m    from pymmmc.distributions import ContNonContract\u001b[0m\n",
      "\u001b[0;36m  File \u001b[0;32m~/Documents/GitHub/pymmmc/pymmmc/distributions.py:143\u001b[0;36m\u001b[0m\n\u001b[0;31m    at.all(T0 < T),\u001b[0m\n\u001b[0m    ^\u001b[0m\n\u001b[0;31mSyntaxError\u001b[0m\u001b[0;31m:\u001b[0m invalid syntax\n"
     ]
    }
   ],
   "source": [
    "import pymmmc\n",
    "\n",
    "import aesara.tensor as at\n",
    "import numpy as np\n",
    "import pandas as pd\n",
    "\n",
    "from aesara.tensor import TensorVariable\n",
    "\n",
    "import pymc as pm\n",
    "\n",
    "import matplotlib.pyplot as plt\n",
    "import arviz as az"
   ]
  },
  {
   "cell_type": "markdown",
   "id": "c6b492fc",
   "metadata": {},
   "source": [
    "### Ground Truth Parameter Values"
   ]
  },
  {
   "cell_type": "code",
   "execution_count": null,
   "id": "bcf84069",
   "metadata": {},
   "outputs": [],
   "source": [
    "rng = np.random.RandomState(seed=34)\n",
    "T = 10\n",
    "T0 = 0\n",
    "\n",
    "# individual-level model\n",
    "lam = 0.5; p = 0.3\n",
    "\n",
    "# random chosen individual model\n",
    "a = b = alpha = r = 2\n",
    "\n",
    "size = (5, 3)"
   ]
  },
  {
   "cell_type": "markdown",
   "id": "d90855e2",
   "metadata": {},
   "source": [
    "### Sampling from the Prior\n",
    "\n",
    "We will perform inference on the prior data to estimate the values of `lam` and `p` which have been set to 0.5 and 0.3 respectively."
   ]
  },
  {
   "cell_type": "code",
   "execution_count": null,
   "id": "3d597099",
   "metadata": {},
   "outputs": [],
   "source": [
    "with pm.Model():\n",
    "    cnc = pymmmc.ContNonContract(\n",
    "        name=\"cnc\",\n",
    "        lam=lam,\n",
    "        p=p,\n",
    "        T=T,\n",
    "        T0=T0,\n",
    "    )\n",
    "    \n",
    "    prior_data = pm.draw(cnc, draws=10000)"
   ]
  },
  {
   "cell_type": "markdown",
   "id": "590f39c1",
   "metadata": {},
   "source": [
    "### Posterior Inference"
   ]
  },
  {
   "cell_type": "code",
   "execution_count": null,
   "id": "796097ac",
   "metadata": {},
   "outputs": [],
   "source": [
    "with pm.Model() as model:\n",
    "\n",
    "    λ = pm.Gamma(name=\"λ\", alpha=0.1, beta=0.1)\n",
    "    π = pm.Beta(name=\"π\", alpha=0.1, beta=0.1)\n",
    "    \n",
    "    cnc = pymmmc.ContNonContract(\n",
    "        name=\"cnc\",\n",
    "        lam=λ,\n",
    "        p=π,\n",
    "        T=T,\n",
    "        T0=T0,\n",
    "        observed=prior_data\n",
    "    )\n",
    "    \n",
    "    trace = pm.sample(draws=2500, chains=1, tune=5000)"
   ]
  },
  {
   "cell_type": "code",
   "execution_count": null,
   "id": "73fffe14",
   "metadata": {},
   "outputs": [],
   "source": [
    "_ = az.plot_posterior(trace, ref_val=[lam, p])\n",
    "plt.tight_layout()"
   ]
  },
  {
   "cell_type": "code",
   "execution_count": null,
   "id": "d9e2f26d",
   "metadata": {},
   "outputs": [],
   "source": []
  }
 ],
 "metadata": {
  "kernelspec": {
   "display_name": "pymmmc_env",
   "language": "python",
   "name": "pymmmc_env"
  },
  "language_info": {
   "codemirror_mode": {
    "name": "ipython",
    "version": 3
   },
   "file_extension": ".py",
   "mimetype": "text/x-python",
   "name": "python",
   "nbconvert_exporter": "python",
   "pygments_lexer": "ipython3",
   "version": "3.8.13"
  }
 },
 "nbformat": 4,
 "nbformat_minor": 5
}
