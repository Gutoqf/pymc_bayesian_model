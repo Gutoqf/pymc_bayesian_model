{
 "cells": [
  {
   "cell_type": "markdown",
   "id": "dc597425-1096-42ca-a6cf-220e0b3e57a5",
   "metadata": {},
   "source": [
    "# Import Libraries and Load Sample Data"
   ]
  },
  {
   "cell_type": "code",
   "execution_count": 17,
   "id": "5e06e043-4631-47ae-a658-a9a928ff15e5",
   "metadata": {},
   "outputs": [],
   "source": [
    "import numpy as np\n",
    "import pandas as pd\n",
    "from lifetimes import BetaGeoBetaBinomFitter\n",
    "\n",
    "import pymc as pm\n",
    "from pymc_marketing.clv.distributions import BetaGeoBetaBinom\n",
    "from pymc_marketing.prior import Prior"
   ]
  },
  {
   "cell_type": "code",
   "execution_count": 22,
   "id": "7dbc0bc7-efd3-436a-87e5-7e215573676d",
   "metadata": {},
   "outputs": [
    {
     "data": {
      "text/html": [
       "<div>\n",
       "<style scoped>\n",
       "    .dataframe tbody tr th:only-of-type {\n",
       "        vertical-align: middle;\n",
       "    }\n",
       "\n",
       "    .dataframe tbody tr th {\n",
       "        vertical-align: top;\n",
       "    }\n",
       "\n",
       "    .dataframe thead th {\n",
       "        text-align: right;\n",
       "    }\n",
       "</style>\n",
       "<table border=\"1\" class=\"dataframe\">\n",
       "  <thead>\n",
       "    <tr style=\"text-align: right;\">\n",
       "      <th></th>\n",
       "      <th>customer_id</th>\n",
       "      <th>frequency</th>\n",
       "      <th>recency</th>\n",
       "      <th>T</th>\n",
       "    </tr>\n",
       "  </thead>\n",
       "  <tbody>\n",
       "    <tr>\n",
       "      <th>0</th>\n",
       "      <td>0</td>\n",
       "      <td>0</td>\n",
       "      <td>0</td>\n",
       "      <td>6</td>\n",
       "    </tr>\n",
       "    <tr>\n",
       "      <th>1</th>\n",
       "      <td>1</td>\n",
       "      <td>0</td>\n",
       "      <td>0</td>\n",
       "      <td>6</td>\n",
       "    </tr>\n",
       "    <tr>\n",
       "      <th>2</th>\n",
       "      <td>2</td>\n",
       "      <td>0</td>\n",
       "      <td>0</td>\n",
       "      <td>6</td>\n",
       "    </tr>\n",
       "    <tr>\n",
       "      <th>3</th>\n",
       "      <td>3</td>\n",
       "      <td>0</td>\n",
       "      <td>0</td>\n",
       "      <td>6</td>\n",
       "    </tr>\n",
       "    <tr>\n",
       "      <th>4</th>\n",
       "      <td>4</td>\n",
       "      <td>0</td>\n",
       "      <td>0</td>\n",
       "      <td>6</td>\n",
       "    </tr>\n",
       "  </tbody>\n",
       "</table>\n",
       "</div>"
      ],
      "text/plain": [
       "   customer_id  frequency  recency  T\n",
       "0            0          0        0  6\n",
       "1            1          0        0  6\n",
       "2            2          0        0  6\n",
       "3            3          0        0  6\n",
       "4            4          0        0  6"
      ]
     },
     "execution_count": 22,
     "metadata": {},
     "output_type": "execute_result"
    }
   ],
   "source": [
    "bgbb_donations = pd.read_csv(\"https://raw.githubusercontent.com/pymc-labs/pymc-marketing/main/data/bgbb_donations.csv\")\n",
    "bgbb_donations.head()"
   ]
  },
  {
   "cell_type": "markdown",
   "id": "88a03fcc-96dc-4ca3-87fd-bed456ced472",
   "metadata": {},
   "source": [
    "# Predictive Methods\n",
    "Fit a `lifetimes` model for comparision"
   ]
  },
  {
   "cell_type": "code",
   "execution_count": 23,
   "id": "880a3747-f616-49a6-a450-8856d962318d",
   "metadata": {},
   "outputs": [
    {
     "data": {
      "text/plain": [
       "<lifetimes.BetaGeoBetaBinomFitter: fitted with 11104 subjects, alpha: 1.20, beta: 0.75, delta: 2.78, gamma: 0.66>"
      ]
     },
     "execution_count": 23,
     "metadata": {},
     "output_type": "execute_result"
    }
   ],
   "source": [
    "bgbb_alt = BetaGeoBetaBinomFitter().fit(bgbb_donations['frequency'].values,\n",
    "                             bgbb_donations['recency'].values,\n",
    "                             bgbb_donations['T'].values,\n",
    "                                   )\n",
    "bgbb_alt"
   ]
  },
  {
   "cell_type": "code",
   "execution_count": 42,
   "id": "f8052f01-5aca-48fd-917e-1f2bbeb6326f",
   "metadata": {},
   "outputs": [
    {
     "name": "stdout",
     "output_type": "stream",
     "text": [
      "['conditional_expected_number_of_purchases_up_to_time', 'conditional_probability_alive', 'expected_number_of_transactions_in_first_n_periods', 'fit', 'load_model', 'save_model', 'summary']\n"
     ]
    }
   ],
   "source": [
    "method_list = [method for method in dir(BetaGeoBetaBinomFitter) if not method.startswith('_')]\n",
    "print(method_list)"
   ]
  },
  {
   "cell_type": "code",
   "execution_count": 88,
   "id": "f4f56b83-f830-4610-8f4f-e67ff242967e",
   "metadata": {},
   "outputs": [
    {
     "data": {
      "text/plain": [
       "0        0.072863\n",
       "1        0.072863\n",
       "2        0.072863\n",
       "3        0.072863\n",
       "4        0.072863\n",
       "           ...   \n",
       "11099    3.752544\n",
       "11100    3.752544\n",
       "11101    3.752544\n",
       "11102    3.752544\n",
       "11103    3.752544\n",
       "Length: 11104, dtype: float64"
      ]
     },
     "execution_count": 88,
     "metadata": {},
     "output_type": "execute_result"
    }
   ],
   "source": [
    "# equation 13 in paper\n",
    "bgbb.conditional_expected_number_of_purchases_up_to_time(5,\n",
    "    bgbb_donations['frequency'],\n",
    "    bgbb_donations['recency'],\n",
    "    bgbb_donations['T'])"
   ]
  },
  {
   "cell_type": "code",
   "execution_count": 89,
   "id": "7ea5dc42-160f-4f96-9e16-a97f01dd4bdc",
   "metadata": {},
   "outputs": [
    {
     "data": {
      "text/plain": [
       "0        0.070072\n",
       "1        0.070072\n",
       "2        0.070072\n",
       "3        0.070072\n",
       "4        0.070072\n",
       "           ...   \n",
       "11099    0.602936\n",
       "11100    0.602936\n",
       "11101    0.602936\n",
       "11102    0.602936\n",
       "11103    0.602936\n",
       "Length: 11104, dtype: float64"
      ]
     },
     "execution_count": 89,
     "metadata": {},
     "output_type": "execute_result"
    }
   ],
   "source": [
    "# equation 11 in paper\n",
    "bgbb.conditional_probability_alive(10,\n",
    "    bgbb_donations['frequency'],\n",
    "    bgbb_donations['recency'],\n",
    "    bgbb_donations['T'])"
   ]
  },
  {
   "cell_type": "markdown",
   "id": "9d55e986-d1f2-4c0d-8c25-3e289e90d5fe",
   "metadata": {},
   "source": [
    "### Expected transactions in N periods\n",
    "**DISCUSSION REQUESTED**<br>\n",
    "This expression will blow up to inf with large values of n (n=167 in this example), and recalculating on the log scale is not possible due to how expression is formulated. It is also equivalent to the mean of the PMF (differences are likely due to rounding error). "
   ]
  },
  {
   "cell_type": "code",
   "execution_count": 70,
   "id": "db8658b1-69fc-4eb9-9a83-7bf22a8ef81a",
   "metadata": {},
   "outputs": [],
   "source": [
    "# TODO: write and test (8) as a replacement. Compare against just aggregating means across the exploded DF \n",
    "# TODO: Can the arviz functions in the BetaGeoBetaBinom distribution block preclude the need for this?\n",
    "# TODO: Replace this with (9) or (10) in a future PR, since that expression can predict interval ranges\n",
    "\n",
    "# equation 7 in paper, but that's for probabilities. should it be 8 for predicting mean n?\n",
    "# yeah, this function should be renamed for clarity. \n",
    "# it distributes customers in the dataset across n transaction opportunies\n",
    "# it works better as an evaluation function, since it assumes a fixed customer population size\n",
    "# if n > n_periods, it will keep right on predicting. This may be a bug\n",
    "expected_purchases_lt = bgbb.expected_number_of_transactions_in_first_n_periods(n=6).reset_index()\n",
    "expected_purchases_lt[\"model\"] = np.round(expected_purchases_lt[\"model\"].values,0).astype('int')"
   ]
  },
  {
   "cell_type": "code",
   "execution_count": 79,
   "id": "e05cc11c-f2e7-4943-8736-93d42d2817f9",
   "metadata": {},
   "outputs": [
    {
     "data": {
      "text/plain": [
       "2.2200108069164264"
      ]
     },
     "execution_count": 79,
     "metadata": {},
     "output_type": "execute_result"
    }
   ],
   "source": [
    "for row in zip(expected_purchases_lt[\"frequency\"], expected_purchases_lt[\"model\"], strict=False):  \n",
    "    array = np.tile(row[0], row[1])  \n",
    "    try:  \n",
    "        concat_array = np.concatenate((concat_array, array), axis=0)  \n",
    "    except NameError:  \n",
    "        concat_array = array  \n",
    "\n",
    "concat_array.mean()\n"
   ]
  },
  {
   "cell_type": "code",
   "execution_count": 80,
   "id": "2e82f5b4-1b4a-4477-843b-58cbd411d348",
   "metadata": {},
   "outputs": [
    {
     "name": "stdout",
     "output_type": "stream",
     "text": [
      "average of 2.220169363676421 purchases expected in 6 opportunities\n"
     ]
    }
   ],
   "source": [
    "from scipy import special\n",
    "from numpy import log,exp\n",
    "\n",
    "n = 6\n",
    "alpha,beta,delta,gamma = bgbb._unload_params('alpha','beta','delta','gamma')\n",
    "\n",
    "term1 = alpha/(alpha+beta)*delta/(gamma-1)\n",
    "term2 = 1-(special.gamma(gamma+delta))/special.gamma(gamma+delta+n)*(special.gamma(1+delta+n))/special.gamma(1+delta)\n",
    "expected_purchases_n_periods = term1 * term2\n",
    "print(f'average of {expected_purchases_n_periods} purchases expected in {n} opportunities')"
   ]
  },
  {
   "cell_type": "markdown",
   "id": "38b07b0c-e15b-4290-9d2e-1d305a4d9bf8",
   "metadata": {},
   "source": [
    "# Default Prior Selection"
   ]
  },
  {
   "cell_type": "code",
   "execution_count": 36,
   "id": "5186cf4d-710d-4e85-bef9-b66ccced5586",
   "metadata": {},
   "outputs": [
    {
     "data": {
      "text/plain": [
       "[1.203522393608101, 0.7497163581757842, 2.783441982887136, 0.6567181695498788]"
      ]
     },
     "execution_count": 36,
     "metadata": {},
     "output_type": "execute_result"
    }
   ],
   "source": [
    "bgbb._unload_params('alpha','beta','delta','gamma')"
   ]
  },
  {
   "cell_type": "code",
   "execution_count": 81,
   "id": "7b7431fc-1bad-41b6-8ec4-ec843a81709d",
   "metadata": {},
   "outputs": [
    {
     "data": {
      "application/vnd.jupyter.widget-view+json": {
       "model_id": "afe221dc3b44477db41c501d26064b4b",
       "version_major": 2,
       "version_minor": 0
      },
      "text/plain": [
       "Output()"
      ]
     },
     "metadata": {},
     "output_type": "display_data"
    },
    {
     "data": {
      "text/html": [
       "<pre style=\"white-space:pre;overflow-x:auto;line-height:normal;font-family:Menlo,'DejaVu Sans Mono',consolas,'Courier New',monospace\">\n",
       "</pre>\n"
      ],
      "text/plain": [
       "\n"
      ]
     },
     "metadata": {},
     "output_type": "display_data"
    },
    {
     "data": {
      "text/html": [
       "<pre style=\"white-space:pre;overflow-x:auto;line-height:normal;font-family:Menlo,'DejaVu Sans Mono',consolas,'Courier New',monospace\"></pre>\n"
      ],
      "text/plain": []
     },
     "metadata": {},
     "output_type": "display_data"
    },
    {
     "data": {
      "text/html": [
       "<pre style=\"white-space:pre;overflow-x:auto;line-height:normal;font-family:Menlo,'DejaVu Sans Mono',consolas,'Courier New',monospace\">\n",
       "</pre>\n"
      ],
      "text/plain": [
       "\n"
      ]
     },
     "metadata": {},
     "output_type": "display_data"
    },
    {
     "data": {
      "text/plain": [
       "{'alpha_log__': array(0.18523607),\n",
       " 'beta_log__': array(-0.28807547),\n",
       " 'gamma_log__': array(-0.42042299),\n",
       " 'delta_log__': array(1.02379304),\n",
       " 'alpha': array(1.20350252),\n",
       " 'beta': array(0.74970501),\n",
       " 'gamma': array(0.65676895),\n",
       " 'delta': array(2.78373359)}"
      ]
     },
     "execution_count": 81,
     "metadata": {},
     "output_type": "execute_result"
    }
   ],
   "source": [
    "with pm.Model() as model:\n",
    "    # alpha = pm.Gamma(name=\"alpha\", alpha=1, beta=1)\n",
    "    # beta = pm.Gamma(name=\"beta\", alpha=1, beta=1)\n",
    "    # gamma = pm.Gamma(name=\"gamma\", alpha=1, beta=1)\n",
    "    # delta = pm.Gamma(name=\"delta\", alpha=1, beta=1)\n",
    "\n",
    "    alpha = pm.HalfFlat(name=\"alpha\")\n",
    "    beta = pm.HalfFlat(name=\"beta\")\n",
    "    gamma = pm.HalfFlat(name=\"gamma\")\n",
    "    delta = pm.HalfFlat(name=\"delta\")\n",
    "\n",
    "    BetaGeoBetaBinom(\n",
    "        name=\"beta_geo_beta_binom\",\n",
    "        alpha=alpha,\n",
    "        beta=beta,\n",
    "        gamma=gamma,\n",
    "        delta=delta,\n",
    "        T=bgbb_donations[\"T\"].values,\n",
    "        observed = bgbb_donations[[\"recency\", \"frequency\"]].values\n",
    "    )\n",
    "\n",
    "    idata = pm.find_MAP()\n",
    "    #idata = pm.sample()\n",
    "\n",
    "idata"
   ]
  },
  {
   "cell_type": "code",
   "execution_count": 39,
   "id": "f04622aa-021e-4b34-a2d7-0b57b159ee98",
   "metadata": {},
   "outputs": [
    {
     "data": {
      "application/vnd.jupyter.widget-view+json": {
       "model_id": "946c24a38de04bb9bf78a28611fde721",
       "version_major": 2,
       "version_minor": 0
      },
      "text/plain": [
       "Output()"
      ]
     },
     "metadata": {},
     "output_type": "display_data"
    },
    {
     "data": {
      "text/html": [
       "<pre style=\"white-space:pre;overflow-x:auto;line-height:normal;font-family:Menlo,'DejaVu Sans Mono',consolas,'Courier New',monospace\">\n",
       "</pre>\n"
      ],
      "text/plain": [
       "\n"
      ]
     },
     "metadata": {},
     "output_type": "display_data"
    },
    {
     "data": {
      "text/html": [
       "<pre style=\"white-space:pre;overflow-x:auto;line-height:normal;font-family:Menlo,'DejaVu Sans Mono',consolas,'Courier New',monospace\"></pre>\n"
      ],
      "text/plain": []
     },
     "metadata": {},
     "output_type": "display_data"
    },
    {
     "data": {
      "text/html": [
       "<pre style=\"white-space:pre;overflow-x:auto;line-height:normal;font-family:Menlo,'DejaVu Sans Mono',consolas,'Courier New',monospace\">\n",
       "</pre>\n"
      ],
      "text/plain": [
       "\n"
      ]
     },
     "metadata": {},
     "output_type": "display_data"
    },
    {
     "data": {
      "text/plain": [
       "{'phi_purchase_interval__': array(0.47476126),\n",
       " 'kappa_purchase_interval__': array(-0.78675896),\n",
       " 'phi_dropout_interval__': array(-1.43883362),\n",
       " 'kappa_dropout_interval__': array(0.63268931),\n",
       " 'phi_purchase': array(0.61651006),\n",
       " 'kappa_purchase': array(1.95531811),\n",
       " 'phi_dropout': array(0.19172603),\n",
       " 'kappa_dropout': array(3.38266685),\n",
       " 'alpha': array(1.20547329),\n",
       " 'beta': array(0.74984482),\n",
       " 'gamma': array(0.6485453),\n",
       " 'delta': array(2.73412155)}"
      ]
     },
     "execution_count": 39,
     "metadata": {},
     "output_type": "execute_result"
    }
   ],
   "source": [
    "with pm.Model() as pooled_model:\n",
    "    # Heirarchical pooling of transaction rate priors.\n",
    "    phi_purchase = pm.Uniform(\n",
    "        \"phi_purchase\",\n",
    "        lower=0,\n",
    "        upper=1,\n",
    "    )\n",
    "    kappa_purchase = pm.Pareto(\n",
    "        \"kappa_purchase\",\n",
    "        alpha=1,\n",
    "        m=1.5,\n",
    "    )\n",
    "    \n",
    "    alpha = pm.Deterministic(\"alpha\", phi_purchase * kappa_purchase)\n",
    "    beta = pm.Deterministic(\"beta\", (1.0 - phi_purchase) * kappa_purchase)\n",
    "\n",
    "    # Heirarchical pooling of dropout rate priors.\n",
    "    phi_dropout = pm.Uniform(\n",
    "        \"phi_dropout\",\n",
    "        lower=0,\n",
    "        upper=1,\n",
    "    )\n",
    "    kappa_dropout = pm.Pareto(\n",
    "        \"kappa_dropout\",\n",
    "        alpha=1,\n",
    "        m=1.5,\n",
    "    )\n",
    "    \n",
    "    gamma = pm.Deterministic(\"gamma\", phi_dropout * kappa_dropout)\n",
    "    delta = pm.Deterministic(\"delta\", (1.0 - phi_dropout) * kappa_dropout)\n",
    "\n",
    "    BetaGeoBetaBinom(\n",
    "            name=\"beta_geo_beta_binom\",\n",
    "            alpha=alpha,\n",
    "            beta=beta,\n",
    "            gamma=gamma,\n",
    "            delta=delta,\n",
    "            T=bgbb_donations[\"T\"].values,\n",
    "            observed = bgbb_donations[[\"recency\", \"frequency\"]].values\n",
    "        )\n",
    "\n",
    "    idata_pool = pm.find_MAP()\n",
    "\n",
    "idata_pool"
   ]
  },
  {
   "cell_type": "code",
   "execution_count": null,
   "id": "946ce281-490e-4308-bf76-0c2c601dbbef",
   "metadata": {},
   "outputs": [],
   "source": []
  }
 ],
 "metadata": {
  "kernelspec": {
   "display_name": "Python 3 (ipykernel)",
   "language": "python",
   "name": "python3"
  },
  "language_info": {
   "codemirror_mode": {
    "name": "ipython",
    "version": 3
   },
   "file_extension": ".py",
   "mimetype": "text/x-python",
   "name": "python",
   "nbconvert_exporter": "python",
   "pygments_lexer": "ipython3",
   "version": "3.10.14"
  }
 },
 "nbformat": 4,
 "nbformat_minor": 5
}
