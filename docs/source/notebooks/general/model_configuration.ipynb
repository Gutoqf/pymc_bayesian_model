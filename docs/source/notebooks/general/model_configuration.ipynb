{
 "cells": [
  {
   "cell_type": "markdown",
   "id": "bc1f69aa-913d-49fa-8e20-58f953301851",
   "metadata": {},
   "source": [
    "(model_configuration)=\n",
    "# Model Configuration\n",
    "\n",
    "This goes over the model configuration\n",
    "\n",
    "## Setup"
   ]
  },
  {
   "cell_type": "code",
   "execution_count": 1,
   "id": "9d6bc077-24d1-47de-8542-5497ade670e3",
   "metadata": {},
   "outputs": [],
   "source": [
    "import arviz as az\n",
    "import matplotlib.pyplot as plt\n",
    "import numpy as np\n",
    "import pandas as pd\n",
    "import pymc as pm\n",
    "\n",
    "from pymc_marketing.model_config import parse_model_config\n",
    "from pymc_marketing.prior import Prior\n",
    "\n",
    "az.style.use(\"arviz-darkgrid\")\n",
    "plt.rcParams[\"figure.figsize\"] = [12, 7]\n",
    "plt.rcParams[\"figure.dpi\"] = 100"
   ]
  },
  {
   "cell_type": "markdown",
   "id": "a5f28af2-a8a2-4046-ad65-940464862424",
   "metadata": {},
   "source": [
    "## Prior Distributions\n",
    "\n",
    "The `Prior` class is our way to expression distributions and relationships between them.\n",
    "\n",
    "### Basic Usage\n",
    "\n",
    "Every prior will need a distribution name that comes from `PyMC`"
   ]
  },
  {
   "cell_type": "code",
   "execution_count": 2,
   "id": "34815050-4f1b-4345-b31b-466fb357a974",
   "metadata": {},
   "outputs": [
    {
     "data": {
      "text/plain": [
       "Prior(\"Normal\")"
      ]
     },
     "execution_count": 2,
     "metadata": {},
     "output_type": "execute_result"
    }
   ],
   "source": [
    "scalar_distribution = Prior(\"Normal\")\n",
    "scalar_distribution"
   ]
  },
  {
   "cell_type": "markdown",
   "id": "b76493fe-48a1-472e-9c8a-fbf632d89baf",
   "metadata": {},
   "source": [
    "If not, then an exception will be raised"
   ]
  },
  {
   "cell_type": "code",
   "execution_count": 3,
   "id": "06314bd5-ebce-4c41-b2c5-b99143c13192",
   "metadata": {},
   "outputs": [
    {
     "name": "stdout",
     "output_type": "stream",
     "text": [
      "PyMC doesn't have a distribution of name 'UnknownDistribution'\n"
     ]
    }
   ],
   "source": [
    "try:\n",
    "    Prior(\"UnknownDistribution\")\n",
    "except Exception as e:\n",
    "    print(e)"
   ]
  },
  {
   "cell_type": "markdown",
   "id": "d76c8fbd-5a22-408d-af96-c9a0ae712da5",
   "metadata": {},
   "source": [
    "Specific parameters can be passed as **keyword arguments** but are not required if the `PyMC` distribution has defaults."
   ]
  },
  {
   "cell_type": "code",
   "execution_count": 4,
   "id": "d12e116e-32f4-4f15-a9ee-4d6a0472590c",
   "metadata": {},
   "outputs": [
    {
     "data": {
      "text/plain": [
       "Prior(\"Normal\", mu=0, sigma=3.5)"
      ]
     },
     "execution_count": 4,
     "metadata": {},
     "output_type": "execute_result"
    }
   ],
   "source": [
    "scalar_distribution = Prior(\"Normal\", mu=0, sigma=3.5)\n",
    "scalar_distribution"
   ]
  },
  {
   "cell_type": "markdown",
   "id": "3b46a0bd-d178-4afc-9f5e-3dcf19170e7e",
   "metadata": {},
   "source": [
    "There will be a check at initialization against the `PyMC` distribution."
   ]
  },
  {
   "cell_type": "code",
   "execution_count": 5,
   "id": "38a7db8f-9cc0-4e5b-8c64-c04415b0f35a",
   "metadata": {},
   "outputs": [
    {
     "name": "stdout",
     "output_type": "stream",
     "text": [
      "Parameters {'mu', 'b'} are not a subset of the pymc distribution parameters {'mu', 'sigma', 'tau'}\n"
     ]
    }
   ],
   "source": [
    "try:\n",
    "    Prior(\"Normal\", mu=0, b=1)\n",
    "except Exception as e:\n",
    "    print(e)"
   ]
  },
  {
   "cell_type": "markdown",
   "id": "e4bb33ab-9045-4701-9daa-eaa3b4b6d80c",
   "metadata": {},
   "source": [
    "However, there are some limitations to that. Take this invalid parameterization below:"
   ]
  },
  {
   "cell_type": "code",
   "execution_count": 6,
   "id": "a8dcb6f8-1357-4de4-b5d5-a30ab2c48e5b",
   "metadata": {},
   "outputs": [],
   "source": [
    "invalid_distribution = Prior(\"Normal\", mu=1, sigma=1, tau=2)"
   ]
  },
  {
   "cell_type": "markdown",
   "id": "660cb88e-3693-43fa-819e-866cd06aba81",
   "metadata": {},
   "source": [
    "The `create_variable` method is used to make variables from this distribution and it isn't until then that there is an error."
   ]
  },
  {
   "cell_type": "code",
   "execution_count": 7,
   "id": "5e1df586-c4d2-4ac0-9a27-cc3313a0005b",
   "metadata": {},
   "outputs": [
    {
     "name": "stdout",
     "output_type": "stream",
     "text": [
      "Can't pass both tau and sigma\n"
     ]
    }
   ],
   "source": [
    "with pm.Model():\n",
    "    try:\n",
    "        invalid_distribution.create_variable(\"mu\")\n",
    "    except Exception as e:\n",
    "        print(e)"
   ]
  },
  {
   "cell_type": "markdown",
   "id": "9db15fc8-86ac-4a4f-94f2-54bbe7e6fc1e",
   "metadata": {},
   "source": [
    "This goes for incorrect values as well!"
   ]
  },
  {
   "cell_type": "code",
   "execution_count": 8,
   "id": "bb04847a-0500-4597-9fbe-bb772607d4de",
   "metadata": {},
   "outputs": [
    {
     "data": {
      "text/plain": [
       "Prior(\"Normal\", mu=1, sigma=-1)"
      ]
     },
     "execution_count": 8,
     "metadata": {},
     "output_type": "execute_result"
    }
   ],
   "source": [
    "invalid_distribution = Prior(\"Normal\", mu=1, sigma=-1)\n",
    "invalid_distribution"
   ]
  },
  {
   "cell_type": "markdown",
   "id": "5de45592-94fb-4bb8-976f-48edf4244a57",
   "metadata": {},
   "source": [
    "The `dims` parameter are used to express the dimensions of the distribution. This variable is not part of a model so the values are not reflected with the distribution itself."
   ]
  },
  {
   "cell_type": "code",
   "execution_count": 9,
   "id": "925e49bf-97f3-4fa8-863e-2655abc65e82",
   "metadata": {},
   "outputs": [
    {
     "data": {
      "text/plain": [
       "Prior(\"Normal\", dims=\"channel\")"
      ]
     },
     "execution_count": 9,
     "metadata": {},
     "output_type": "execute_result"
    }
   ],
   "source": [
    "vector_distribution = Prior(\"Normal\", dims=\"channel\")\n",
    "vector_distribution"
   ]
  },
  {
   "cell_type": "markdown",
   "id": "56f329cd-c5fc-44c2-9c27-07d33fe9697c",
   "metadata": {},
   "source": [
    "If there are dimensions, then the coords need to exist in the larger model. But they exist separately and can defined in advance.\n",
    "\n",
    "```{tip}\n",
    "Each `Prior` instance is just instructions to create a variable, so they can be used multiple times!\n",
    "```"
   ]
  },
  {
   "cell_type": "code",
   "execution_count": 10,
   "id": "ad58dacf-9f56-47f9-b5ca-6678f27d5856",
   "metadata": {},
   "outputs": [
    {
     "data": {
      "image/svg+xml": [
       "<?xml version=\"1.0\" encoding=\"UTF-8\" standalone=\"no\"?>\n",
       "<!DOCTYPE svg PUBLIC \"-//W3C//DTD SVG 1.1//EN\"\n",
       " \"http://www.w3.org/Graphics/SVG/1.1/DTD/svg11.dtd\">\n",
       "<!-- Generated by graphviz version 9.0.0 (20231125.0833)\n",
       " -->\n",
       "<!-- Pages: 1 -->\n",
       "<svg width=\"254pt\" height=\"150pt\"\n",
       " viewBox=\"0.00 0.00 254.00 149.75\" xmlns=\"http://www.w3.org/2000/svg\" xmlns:xlink=\"http://www.w3.org/1999/xlink\">\n",
       "<g id=\"graph0\" class=\"graph\" transform=\"scale(1 1) rotate(0) translate(4 145.75)\">\n",
       "<polygon fill=\"white\" stroke=\"none\" points=\"-4,4 -4,-145.75 250,-145.75 250,4 -4,4\"/>\n",
       "<g id=\"clust1\" class=\"cluster\">\n",
       "<title>clusterchannel (2)</title>\n",
       "<path fill=\"none\" stroke=\"black\" d=\"M20,-8C20,-8 226,-8 226,-8 232,-8 238,-14 238,-20 238,-20 238,-121.75 238,-121.75 238,-127.75 232,-133.75 226,-133.75 226,-133.75 20,-133.75 20,-133.75 14,-133.75 8,-127.75 8,-121.75 8,-121.75 8,-20 8,-20 8,-14 14,-8 20,-8\"/>\n",
       "<text text-anchor=\"middle\" x=\"190.25\" y=\"-15.95\" font-family=\"Times,serif\" font-size=\"14.00\">channel (2)</text>\n",
       "</g>\n",
       "<!-- alpha -->\n",
       "<g id=\"node1\" class=\"node\">\n",
       "<title>alpha</title>\n",
       "<ellipse fill=\"none\" stroke=\"black\" cx=\"181\" cy=\"-83.5\" rx=\"48.97\" ry=\"42.25\"/>\n",
       "<text text-anchor=\"middle\" x=\"181\" y=\"-96.07\" font-family=\"Times,serif\" font-size=\"14.00\">alpha</text>\n",
       "<text text-anchor=\"middle\" x=\"181\" y=\"-78.82\" font-family=\"Times,serif\" font-size=\"14.00\">~</text>\n",
       "<text text-anchor=\"middle\" x=\"181\" y=\"-61.57\" font-family=\"Times,serif\" font-size=\"14.00\">Normal</text>\n",
       "</g>\n",
       "<!-- beta -->\n",
       "<g id=\"node2\" class=\"node\">\n",
       "<title>beta</title>\n",
       "<ellipse fill=\"none\" stroke=\"black\" cx=\"65\" cy=\"-83.5\" rx=\"48.97\" ry=\"42.25\"/>\n",
       "<text text-anchor=\"middle\" x=\"65\" y=\"-96.07\" font-family=\"Times,serif\" font-size=\"14.00\">beta</text>\n",
       "<text text-anchor=\"middle\" x=\"65\" y=\"-78.82\" font-family=\"Times,serif\" font-size=\"14.00\">~</text>\n",
       "<text text-anchor=\"middle\" x=\"65\" y=\"-61.57\" font-family=\"Times,serif\" font-size=\"14.00\">Normal</text>\n",
       "</g>\n",
       "</g>\n",
       "</svg>\n"
      ],
      "text/plain": [
       "<graphviz.graphs.Digraph at 0x7f0c5a1b7ee0>"
      ]
     },
     "execution_count": 10,
     "metadata": {},
     "output_type": "execute_result"
    }
   ],
   "source": [
    "coords = {\"channel\": [\"C1\", \"C2\"]}\n",
    "with pm.Model(coords=coords) as model:\n",
    "    alpha = vector_distribution.create_variable(\"alpha\")\n",
    "    beta = vector_distribution.create_variable(\"beta\")\n",
    "\n",
    "pm.model_to_graphviz(model)"
   ]
  },
  {
   "cell_type": "markdown",
   "id": "27f9583f-b676-4ac2-85a5-d522815de5e3",
   "metadata": {},
   "source": [
    "If the coords were not specified then this would cause a PyMC error."
   ]
  },
  {
   "cell_type": "code",
   "execution_count": 11,
   "id": "76a89202-7f68-4e89-a77a-ae917b1b3573",
   "metadata": {},
   "outputs": [
    {
     "name": "stdout",
     "output_type": "stream",
     "text": [
      "\"Dimensions {'channel'} are unknown to the model and cannot be used to specify a `shape`.\"\n"
     ]
    }
   ],
   "source": [
    "with pm.Model() as model:\n",
    "    try:\n",
    "        vector_distribution.create_variable(\"var\")\n",
    "    except Exception as e:\n",
    "        print(e)"
   ]
  },
  {
   "cell_type": "markdown",
   "id": "b1000cc0-2087-48b0-a276-f8921f5db750",
   "metadata": {},
   "source": [
    "The variables can get arbitrarily large as well by providing additional dims in a tuple."
   ]
  },
  {
   "cell_type": "code",
   "execution_count": 12,
   "id": "26101b33-78b3-47fc-996f-140660efb1c9",
   "metadata": {},
   "outputs": [
    {
     "data": {
      "text/plain": [
       "Prior(\"Normal\", dims=(\"channel\", \"geo\"))"
      ]
     },
     "execution_count": 12,
     "metadata": {},
     "output_type": "execute_result"
    }
   ],
   "source": [
    "matrix_distribution = Prior(\"Normal\", dims=(\"channel\", \"geo\"))\n",
    "matrix_distribution"
   ]
  },
  {
   "cell_type": "code",
   "execution_count": 13,
   "id": "d129b86f-80ac-473b-b815-9a7ef733ab5d",
   "metadata": {},
   "outputs": [
    {
     "data": {
      "text/plain": [
       "Prior(\"Normal\", dims=(\"channel\", \"geo\", \"store\"))"
      ]
     },
     "execution_count": 13,
     "metadata": {},
     "output_type": "execute_result"
    }
   ],
   "source": [
    "tensor_distribution = Prior(\"Normal\", dims=(\"channel\", \"geo\", \"store\"))\n",
    "tensor_distribution"
   ]
  },
  {
   "cell_type": "markdown",
   "id": "15d51049-02e6-42e1-a31c-942a855347fb",
   "metadata": {},
   "source": [
    "### Hierarchical Variables\n",
    "\n",
    "Hierarchical variables can be defined by using distributions as the parameters of another distribution. The parent distributions will usually have a larger dimensionality than each of the parameters."
   ]
  },
  {
   "cell_type": "code",
   "execution_count": 14,
   "id": "5620b88f-5137-4f4b-8ffb-f7362deaea85",
   "metadata": {},
   "outputs": [],
   "source": [
    "hierarchical_variable = Prior(\n",
    "    \"Normal\",\n",
    "    mu=Prior(\"Normal\"),\n",
    "    sigma=Prior(\"HalfNormal\"),\n",
    "    dims=\"channel\",\n",
    ")"
   ]
  },
  {
   "cell_type": "markdown",
   "id": "32c14b21-66b0-4948-9804-870c25876cbe",
   "metadata": {},
   "source": [
    "We can use the `graph` method to create visualize the variable with dummy coordinates.\n",
    "\n",
    "```{note}\n",
    "No need to worry about variable naming! The child parameters will all be automatically named based on the parent.\n",
    "```"
   ]
  },
  {
   "cell_type": "code",
   "execution_count": 15,
   "id": "e830baac-08fd-492a-ae65-0f6aa36debf9",
   "metadata": {},
   "outputs": [
    {
     "data": {
      "image/svg+xml": [
       "<?xml version=\"1.0\" encoding=\"UTF-8\" standalone=\"no\"?>\n",
       "<!DOCTYPE svg PUBLIC \"-//W3C//DTD SVG 1.1//EN\"\n",
       " \"http://www.w3.org/Graphics/SVG/1.1/DTD/svg11.dtd\">\n",
       "<!-- Generated by graphviz version 9.0.0 (20231125.0833)\n",
       " -->\n",
       "<!-- Pages: 1 -->\n",
       "<svg width=\"264pt\" height=\"254pt\"\n",
       " viewBox=\"0.00 0.00 264.15 254.25\" xmlns=\"http://www.w3.org/2000/svg\" xmlns:xlink=\"http://www.w3.org/1999/xlink\">\n",
       "<g id=\"graph0\" class=\"graph\" transform=\"scale(1 1) rotate(0) translate(4 250.25)\">\n",
       "<polygon fill=\"white\" stroke=\"none\" points=\"-4,4 -4,-250.25 260.15,-250.25 260.15,4 -4,4\"/>\n",
       "<g id=\"clust1\" class=\"cluster\">\n",
       "<title>clusterchannel (1)</title>\n",
       "<path fill=\"none\" stroke=\"black\" d=\"M93.18,-8C93.18,-8 183.18,-8 183.18,-8 189.18,-8 195.18,-14 195.18,-20 195.18,-20 195.18,-121.75 195.18,-121.75 195.18,-127.75 189.18,-133.75 183.18,-133.75 183.18,-133.75 93.18,-133.75 93.18,-133.75 87.18,-133.75 81.18,-127.75 81.18,-121.75 81.18,-121.75 81.18,-20 81.18,-20 81.18,-14 87.18,-8 93.18,-8\"/>\n",
       "<text text-anchor=\"middle\" x=\"147.43\" y=\"-15.95\" font-family=\"Times,serif\" font-size=\"14.00\">channel (1)</text>\n",
       "</g>\n",
       "<!-- var_sigma -->\n",
       "<g id=\"node1\" class=\"node\">\n",
       "<title>var_sigma</title>\n",
       "<ellipse fill=\"none\" stroke=\"black\" cx=\"70.18\" cy=\"-204\" rx=\"70.18\" ry=\"42.25\"/>\n",
       "<text text-anchor=\"middle\" x=\"70.18\" y=\"-216.57\" font-family=\"Times,serif\" font-size=\"14.00\">var_sigma</text>\n",
       "<text text-anchor=\"middle\" x=\"70.18\" y=\"-199.32\" font-family=\"Times,serif\" font-size=\"14.00\">~</text>\n",
       "<text text-anchor=\"middle\" x=\"70.18\" y=\"-182.07\" font-family=\"Times,serif\" font-size=\"14.00\">HalfNormal</text>\n",
       "</g>\n",
       "<!-- var -->\n",
       "<g id=\"node3\" class=\"node\">\n",
       "<title>var</title>\n",
       "<ellipse fill=\"none\" stroke=\"black\" cx=\"138.18\" cy=\"-83.5\" rx=\"48.97\" ry=\"42.25\"/>\n",
       "<text text-anchor=\"middle\" x=\"138.18\" y=\"-96.07\" font-family=\"Times,serif\" font-size=\"14.00\">var</text>\n",
       "<text text-anchor=\"middle\" x=\"138.18\" y=\"-78.82\" font-family=\"Times,serif\" font-size=\"14.00\">~</text>\n",
       "<text text-anchor=\"middle\" x=\"138.18\" y=\"-61.57\" font-family=\"Times,serif\" font-size=\"14.00\">Normal</text>\n",
       "</g>\n",
       "<!-- var_sigma&#45;&gt;var -->\n",
       "<g id=\"edge1\" class=\"edge\">\n",
       "<title>var_sigma&#45;&gt;var</title>\n",
       "<path fill=\"none\" stroke=\"black\" d=\"M92.82,-163.54C98.68,-153.34 105.04,-142.25 111.1,-131.69\"/>\n",
       "<polygon fill=\"black\" stroke=\"black\" points=\"114.09,-133.51 116.03,-123.09 108.02,-130.02 114.09,-133.51\"/>\n",
       "</g>\n",
       "<!-- var_mu -->\n",
       "<g id=\"node2\" class=\"node\">\n",
       "<title>var_mu</title>\n",
       "<ellipse fill=\"none\" stroke=\"black\" cx=\"207.18\" cy=\"-204\" rx=\"48.97\" ry=\"42.25\"/>\n",
       "<text text-anchor=\"middle\" x=\"207.18\" y=\"-216.57\" font-family=\"Times,serif\" font-size=\"14.00\">var_mu</text>\n",
       "<text text-anchor=\"middle\" x=\"207.18\" y=\"-199.32\" font-family=\"Times,serif\" font-size=\"14.00\">~</text>\n",
       "<text text-anchor=\"middle\" x=\"207.18\" y=\"-182.07\" font-family=\"Times,serif\" font-size=\"14.00\">Normal</text>\n",
       "</g>\n",
       "<!-- var_mu&#45;&gt;var -->\n",
       "<g id=\"edge2\" class=\"edge\">\n",
       "<title>var_mu&#45;&gt;var</title>\n",
       "<path fill=\"none\" stroke=\"black\" d=\"M185.54,-165.83C179.18,-154.91 172.14,-142.82 165.48,-131.38\"/>\n",
       "<polygon fill=\"black\" stroke=\"black\" points=\"168.56,-129.73 160.51,-122.84 162.52,-133.25 168.56,-129.73\"/>\n",
       "</g>\n",
       "</g>\n",
       "</svg>\n"
      ],
      "text/plain": [
       "<graphviz.graphs.Digraph at 0x7f0c5a007a00>"
      ]
     },
     "execution_count": 15,
     "metadata": {},
     "output_type": "execute_result"
    }
   ],
   "source": [
    "hierarchical_variable.graph()"
   ]
  },
  {
   "cell_type": "markdown",
   "id": "b80a4e49-bb8c-4e4d-b533-c00ab150d886",
   "metadata": {},
   "source": [
    "```{warning}\n",
    "The validity of the parameter values will not be checked. \n",
    "```\n",
    "\n",
    "There can be negative sigma parameter in a Normal distribution whether that comes from value or another distribution!"
   ]
  },
  {
   "cell_type": "code",
   "execution_count": 16,
   "id": "b82d2483-1064-4014-a0c5-498f95ab6b0d",
   "metadata": {},
   "outputs": [
    {
     "data": {
      "text/plain": [
       "Prior(\"Normal\", mu=1, sigma=-1)"
      ]
     },
     "execution_count": 16,
     "metadata": {},
     "output_type": "execute_result"
    }
   ],
   "source": [
    "Prior(\"Normal\", mu=1, sigma=-1)"
   ]
  },
  {
   "cell_type": "code",
   "execution_count": 17,
   "id": "3062face-a9c6-446d-8c93-91b99af18059",
   "metadata": {},
   "outputs": [
    {
     "data": {
      "text/plain": [
       "Prior(\"Normal\", sigma=Prior(\"Normal\"))"
      ]
     },
     "execution_count": 17,
     "metadata": {},
     "output_type": "execute_result"
    }
   ],
   "source": [
    "Prior(\"Normal\", sigma=Prior(\"Normal\"))"
   ]
  },
  {
   "cell_type": "markdown",
   "id": "d0d12fd8-07ef-4fcc-816f-cabd6667c1dc",
   "metadata": {},
   "source": [
    "```{tip}\n",
    "Model reparamterizations can help with model convergence depending on the model posterior!\n",
    "```\n",
    "\n",
    "For Normal distribution, the common non-centered parameterization is supported with the `centered` flag."
   ]
  },
  {
   "cell_type": "code",
   "execution_count": 18,
   "id": "81cee492-654b-4bbb-94b7-25bc87f7dca1",
   "metadata": {},
   "outputs": [
    {
     "data": {
      "image/svg+xml": [
       "<?xml version=\"1.0\" encoding=\"UTF-8\" standalone=\"no\"?>\n",
       "<!DOCTYPE svg PUBLIC \"-//W3C//DTD SVG 1.1//EN\"\n",
       " \"http://www.w3.org/Graphics/SVG/1.1/DTD/svg11.dtd\">\n",
       "<!-- Generated by graphviz version 9.0.0 (20231125.0833)\n",
       " -->\n",
       "<!-- Pages: 1 -->\n",
       "<svg width=\"420pt\" height=\"245pt\"\n",
       " viewBox=\"0.00 0.00 419.97 245.50\" xmlns=\"http://www.w3.org/2000/svg\" xmlns:xlink=\"http://www.w3.org/1999/xlink\">\n",
       "<g id=\"graph0\" class=\"graph\" transform=\"scale(1 1) rotate(0) translate(4 241.5)\">\n",
       "<polygon fill=\"white\" stroke=\"none\" points=\"-4,4 -4,-241.5 415.97,-241.5 415.97,4 -4,4\"/>\n",
       "<g id=\"clust1\" class=\"cluster\">\n",
       "<title>clusterchannel (1)</title>\n",
       "<path fill=\"none\" stroke=\"black\" d=\"M20,-8C20,-8 134,-8 134,-8 140,-8 146,-14 146,-20 146,-20 146,-217.5 146,-217.5 146,-223.5 140,-229.5 134,-229.5 134,-229.5 20,-229.5 20,-229.5 14,-229.5 8,-223.5 8,-217.5 8,-217.5 8,-20 8,-20 8,-14 14,-8 20,-8\"/>\n",
       "<text text-anchor=\"middle\" x=\"98.25\" y=\"-15.95\" font-family=\"Times,serif\" font-size=\"14.00\">channel (1)</text>\n",
       "</g>\n",
       "<!-- var -->\n",
       "<g id=\"node1\" class=\"node\">\n",
       "<title>var</title>\n",
       "<polygon fill=\"none\" stroke=\"black\" points=\"137.75,-101 24.25,-101 24.25,-41.25 137.75,-41.25 137.75,-101\"/>\n",
       "<text text-anchor=\"middle\" x=\"81\" y=\"-83.7\" font-family=\"Times,serif\" font-size=\"14.00\">var</text>\n",
       "<text text-anchor=\"middle\" x=\"81\" y=\"-66.45\" font-family=\"Times,serif\" font-size=\"14.00\">~</text>\n",
       "<text text-anchor=\"middle\" x=\"81\" y=\"-49.2\" font-family=\"Times,serif\" font-size=\"14.00\">Deterministic</text>\n",
       "</g>\n",
       "<!-- var_offset -->\n",
       "<g id=\"node2\" class=\"node\">\n",
       "<title>var_offset</title>\n",
       "<ellipse fill=\"none\" stroke=\"black\" cx=\"77\" cy=\"-179.25\" rx=\"60.63\" ry=\"42.25\"/>\n",
       "<text text-anchor=\"middle\" x=\"77\" y=\"-191.82\" font-family=\"Times,serif\" font-size=\"14.00\">var_offset</text>\n",
       "<text text-anchor=\"middle\" x=\"77\" y=\"-174.57\" font-family=\"Times,serif\" font-size=\"14.00\">~</text>\n",
       "<text text-anchor=\"middle\" x=\"77\" y=\"-157.32\" font-family=\"Times,serif\" font-size=\"14.00\">Normal</text>\n",
       "</g>\n",
       "<!-- var_offset&#45;&gt;var -->\n",
       "<g id=\"edge1\" class=\"edge\">\n",
       "<title>var_offset&#45;&gt;var</title>\n",
       "<path fill=\"none\" stroke=\"black\" d=\"M78.57,-136.61C78.87,-128.74 79.18,-120.53 79.47,-112.69\"/>\n",
       "<polygon fill=\"black\" stroke=\"black\" points=\"82.97,-112.83 79.85,-102.71 75.97,-112.57 82.97,-112.83\"/>\n",
       "</g>\n",
       "<!-- var_sigma -->\n",
       "<g id=\"node3\" class=\"node\">\n",
       "<title>var_sigma</title>\n",
       "<ellipse fill=\"none\" stroke=\"black\" cx=\"226\" cy=\"-179.25\" rx=\"70.18\" ry=\"42.25\"/>\n",
       "<text text-anchor=\"middle\" x=\"226\" y=\"-191.82\" font-family=\"Times,serif\" font-size=\"14.00\">var_sigma</text>\n",
       "<text text-anchor=\"middle\" x=\"226\" y=\"-174.57\" font-family=\"Times,serif\" font-size=\"14.00\">~</text>\n",
       "<text text-anchor=\"middle\" x=\"226\" y=\"-157.32\" font-family=\"Times,serif\" font-size=\"14.00\">HalfNormal</text>\n",
       "</g>\n",
       "<!-- var_sigma&#45;&gt;var -->\n",
       "<g id=\"edge2\" class=\"edge\">\n",
       "<title>var_sigma&#45;&gt;var</title>\n",
       "<path fill=\"none\" stroke=\"black\" d=\"M182.1,-146.12C165.64,-134.08 146.85,-120.32 129.96,-107.96\"/>\n",
       "<polygon fill=\"black\" stroke=\"black\" points=\"132.16,-105.23 122.02,-102.15 128.02,-110.88 132.16,-105.23\"/>\n",
       "</g>\n",
       "<!-- var_mu -->\n",
       "<g id=\"node4\" class=\"node\">\n",
       "<title>var_mu</title>\n",
       "<ellipse fill=\"none\" stroke=\"black\" cx=\"363\" cy=\"-179.25\" rx=\"48.97\" ry=\"42.25\"/>\n",
       "<text text-anchor=\"middle\" x=\"363\" y=\"-191.82\" font-family=\"Times,serif\" font-size=\"14.00\">var_mu</text>\n",
       "<text text-anchor=\"middle\" x=\"363\" y=\"-174.57\" font-family=\"Times,serif\" font-size=\"14.00\">~</text>\n",
       "<text text-anchor=\"middle\" x=\"363\" y=\"-157.32\" font-family=\"Times,serif\" font-size=\"14.00\">Normal</text>\n",
       "</g>\n",
       "<!-- var_mu&#45;&gt;var -->\n",
       "<g id=\"edge3\" class=\"edge\">\n",
       "<title>var_mu&#45;&gt;var</title>\n",
       "<path fill=\"none\" stroke=\"black\" d=\"M327.34,-150.1C320.2,-145.28 312.57,-140.66 305,-137 255.16,-112.92 194.66,-96.06 149.1,-85.57\"/>\n",
       "<polygon fill=\"black\" stroke=\"black\" points=\"150.16,-82.22 139.63,-83.44 148.62,-89.05 150.16,-82.22\"/>\n",
       "</g>\n",
       "</g>\n",
       "</svg>\n"
      ],
      "text/plain": [
       "<graphviz.graphs.Digraph at 0x7f0c5a3f8550>"
      ]
     },
     "execution_count": 18,
     "metadata": {},
     "output_type": "execute_result"
    }
   ],
   "source": [
    "non_centered_hierarchical_variable = Prior(\n",
    "    \"Normal\",\n",
    "    mu=Prior(\"Normal\"),\n",
    "    sigma=Prior(\"HalfNormal\"),\n",
    "    dims=\"channel\",\n",
    "    # Flag for non-centered\n",
    "    centered=False,\n",
    ")\n",
    "non_centered_hierarchical_variable.graph()"
   ]
  },
  {
   "cell_type": "markdown",
   "id": "003ba849-188c-47ac-98c0-248f5c5a08c3",
   "metadata": {},
   "source": [
    "Other distributions can be hierarchical as well. Just use distributions for parameters of a parent distribution. For instance, the Beta distribution has two positive parameters, `alpha` and `beta` which can be reflect as HalfNormal distributions."
   ]
  },
  {
   "cell_type": "code",
   "execution_count": 19,
   "id": "04bf7a16-89a5-4ef7-865e-aab5fe576ca6",
   "metadata": {},
   "outputs": [
    {
     "data": {
      "image/svg+xml": [
       "<?xml version=\"1.0\" encoding=\"UTF-8\" standalone=\"no\"?>\n",
       "<!DOCTYPE svg PUBLIC \"-//W3C//DTD SVG 1.1//EN\"\n",
       " \"http://www.w3.org/Graphics/SVG/1.1/DTD/svg11.dtd\">\n",
       "<!-- Generated by graphviz version 9.0.0 (20231125.0833)\n",
       " -->\n",
       "<!-- Pages: 1 -->\n",
       "<svg width=\"306pt\" height=\"254pt\"\n",
       " viewBox=\"0.00 0.00 306.36 254.25\" xmlns=\"http://www.w3.org/2000/svg\" xmlns:xlink=\"http://www.w3.org/1999/xlink\">\n",
       "<g id=\"graph0\" class=\"graph\" transform=\"scale(1 1) rotate(0) translate(4 250.25)\">\n",
       "<polygon fill=\"white\" stroke=\"none\" points=\"-4,4 -4,-250.25 302.36,-250.25 302.36,4 -4,4\"/>\n",
       "<g id=\"clust1\" class=\"cluster\">\n",
       "<title>clusterchannel (1)</title>\n",
       "<path fill=\"none\" stroke=\"black\" d=\"M114.18,-8C114.18,-8 185.18,-8 185.18,-8 191.18,-8 197.18,-14 197.18,-20 197.18,-20 197.18,-121.75 197.18,-121.75 197.18,-127.75 191.18,-133.75 185.18,-133.75 185.18,-133.75 114.18,-133.75 114.18,-133.75 108.18,-133.75 102.18,-127.75 102.18,-121.75 102.18,-121.75 102.18,-20 102.18,-20 102.18,-14 108.18,-8 114.18,-8\"/>\n",
       "<text text-anchor=\"middle\" x=\"149.43\" y=\"-15.95\" font-family=\"Times,serif\" font-size=\"14.00\">channel (1)</text>\n",
       "</g>\n",
       "<!-- var_alpha -->\n",
       "<g id=\"node1\" class=\"node\">\n",
       "<title>var_alpha</title>\n",
       "<ellipse fill=\"none\" stroke=\"black\" cx=\"70.18\" cy=\"-204\" rx=\"70.18\" ry=\"42.25\"/>\n",
       "<text text-anchor=\"middle\" x=\"70.18\" y=\"-216.57\" font-family=\"Times,serif\" font-size=\"14.00\">var_alpha</text>\n",
       "<text text-anchor=\"middle\" x=\"70.18\" y=\"-199.32\" font-family=\"Times,serif\" font-size=\"14.00\">~</text>\n",
       "<text text-anchor=\"middle\" x=\"70.18\" y=\"-182.07\" font-family=\"Times,serif\" font-size=\"14.00\">HalfNormal</text>\n",
       "</g>\n",
       "<!-- var -->\n",
       "<g id=\"node3\" class=\"node\">\n",
       "<title>var</title>\n",
       "<ellipse fill=\"none\" stroke=\"black\" cx=\"149.18\" cy=\"-83.5\" rx=\"34.65\" ry=\"42.25\"/>\n",
       "<text text-anchor=\"middle\" x=\"149.18\" y=\"-96.07\" font-family=\"Times,serif\" font-size=\"14.00\">var</text>\n",
       "<text text-anchor=\"middle\" x=\"149.18\" y=\"-78.82\" font-family=\"Times,serif\" font-size=\"14.00\">~</text>\n",
       "<text text-anchor=\"middle\" x=\"149.18\" y=\"-61.57\" font-family=\"Times,serif\" font-size=\"14.00\">Beta</text>\n",
       "</g>\n",
       "<!-- var_alpha&#45;&gt;var -->\n",
       "<g id=\"edge1\" class=\"edge\">\n",
       "<title>var_alpha&#45;&gt;var</title>\n",
       "<path fill=\"none\" stroke=\"black\" d=\"M95.83,-164.53C104.02,-152.25 113.11,-138.61 121.44,-126.11\"/>\n",
       "<polygon fill=\"black\" stroke=\"black\" points=\"124.15,-128.35 126.79,-118.09 118.33,-124.47 124.15,-128.35\"/>\n",
       "</g>\n",
       "<!-- var_beta -->\n",
       "<g id=\"node2\" class=\"node\">\n",
       "<title>var_beta</title>\n",
       "<ellipse fill=\"none\" stroke=\"black\" cx=\"228.18\" cy=\"-204\" rx=\"70.18\" ry=\"42.25\"/>\n",
       "<text text-anchor=\"middle\" x=\"228.18\" y=\"-216.57\" font-family=\"Times,serif\" font-size=\"14.00\">var_beta</text>\n",
       "<text text-anchor=\"middle\" x=\"228.18\" y=\"-199.32\" font-family=\"Times,serif\" font-size=\"14.00\">~</text>\n",
       "<text text-anchor=\"middle\" x=\"228.18\" y=\"-182.07\" font-family=\"Times,serif\" font-size=\"14.00\">HalfNormal</text>\n",
       "</g>\n",
       "<!-- var_beta&#45;&gt;var -->\n",
       "<g id=\"edge2\" class=\"edge\">\n",
       "<title>var_beta&#45;&gt;var</title>\n",
       "<path fill=\"none\" stroke=\"black\" d=\"M202.53,-164.53C194.35,-152.25 185.25,-138.61 176.92,-126.11\"/>\n",
       "<polygon fill=\"black\" stroke=\"black\" points=\"180.03,-124.47 171.57,-118.09 174.21,-128.35 180.03,-124.47\"/>\n",
       "</g>\n",
       "</g>\n",
       "</svg>\n"
      ],
      "text/plain": [
       "<graphviz.graphs.Digraph at 0x7f0c5a3f8100>"
      ]
     },
     "execution_count": 19,
     "metadata": {},
     "output_type": "execute_result"
    }
   ],
   "source": [
    "zero_to_one_variable = Prior(\n",
    "    \"Beta\",\n",
    "    alpha=Prior(\"HalfNormal\"),\n",
    "    beta=Prior(\"HalfNormal\"),\n",
    "    dims=\"channel\",\n",
    ")\n",
    "zero_to_one_variable.graph()"
   ]
  },
  {
   "cell_type": "markdown",
   "id": "485d6608-228c-491b-93ec-0af713508a25",
   "metadata": {},
   "source": [
    "### Transformations\n",
    "\n",
    "The `transform` variable can be used for any of the distributions to change its domain.\n",
    "\n",
    "These transformations will be taken from `pytensor.tensor` or `pm.math` in that order.\n",
    "\n",
    "Below is a non-centered hierarchical Normal distribution that is put through a sigmoid function in order to change the domain to (0, 1)."
   ]
  },
  {
   "cell_type": "code",
   "execution_count": 20,
   "id": "33529f87-e8e0-471d-8a09-3c7df6b9dcaa",
   "metadata": {},
   "outputs": [
    {
     "data": {
      "image/svg+xml": [
       "<?xml version=\"1.0\" encoding=\"UTF-8\" standalone=\"no\"?>\n",
       "<!DOCTYPE svg PUBLIC \"-//W3C//DTD SVG 1.1//EN\"\n",
       " \"http://www.w3.org/Graphics/SVG/1.1/DTD/svg11.dtd\">\n",
       "<!-- Generated by graphviz version 9.0.0 (20231125.0833)\n",
       " -->\n",
       "<!-- Pages: 1 -->\n",
       "<svg width=\"546pt\" height=\"341pt\"\n",
       " viewBox=\"0.00 0.00 546.30 341.25\" xmlns=\"http://www.w3.org/2000/svg\" xmlns:xlink=\"http://www.w3.org/1999/xlink\">\n",
       "<g id=\"graph0\" class=\"graph\" transform=\"scale(1 1) rotate(0) translate(4 337.25)\">\n",
       "<polygon fill=\"white\" stroke=\"none\" points=\"-4,4 -4,-337.25 542.3,-337.25 542.3,4 -4,4\"/>\n",
       "<g id=\"clust1\" class=\"cluster\">\n",
       "<title>clusterchannel (1)</title>\n",
       "<path fill=\"none\" stroke=\"black\" d=\"M20,-8C20,-8 180,-8 180,-8 186,-8 192,-14 192,-20 192,-20 192,-313.25 192,-313.25 192,-319.25 186,-325.25 180,-325.25 180,-325.25 20,-325.25 20,-325.25 14,-325.25 8,-319.25 8,-313.25 8,-313.25 8,-20 8,-20 8,-14 14,-8 20,-8\"/>\n",
       "<text text-anchor=\"middle\" x=\"144.25\" y=\"-15.95\" font-family=\"Times,serif\" font-size=\"14.00\">channel (1)</text>\n",
       "</g>\n",
       "<!-- var -->\n",
       "<g id=\"node1\" class=\"node\">\n",
       "<title>var</title>\n",
       "<polygon fill=\"none\" stroke=\"black\" points=\"183.75,-101 70.25,-101 70.25,-41.25 183.75,-41.25 183.75,-101\"/>\n",
       "<text text-anchor=\"middle\" x=\"127\" y=\"-83.7\" font-family=\"Times,serif\" font-size=\"14.00\">var</text>\n",
       "<text text-anchor=\"middle\" x=\"127\" y=\"-66.45\" font-family=\"Times,serif\" font-size=\"14.00\">~</text>\n",
       "<text text-anchor=\"middle\" x=\"127\" y=\"-49.2\" font-family=\"Times,serif\" font-size=\"14.00\">Deterministic</text>\n",
       "</g>\n",
       "<!-- var_raw_offset -->\n",
       "<g id=\"node2\" class=\"node\">\n",
       "<title>var_raw_offset</title>\n",
       "<ellipse fill=\"none\" stroke=\"black\" cx=\"100\" cy=\"-275\" rx=\"84.5\" ry=\"42.25\"/>\n",
       "<text text-anchor=\"middle\" x=\"100\" y=\"-287.57\" font-family=\"Times,serif\" font-size=\"14.00\">var_raw_offset</text>\n",
       "<text text-anchor=\"middle\" x=\"100\" y=\"-270.32\" font-family=\"Times,serif\" font-size=\"14.00\">~</text>\n",
       "<text text-anchor=\"middle\" x=\"100\" y=\"-253.07\" font-family=\"Times,serif\" font-size=\"14.00\">Normal</text>\n",
       "</g>\n",
       "<!-- var_raw -->\n",
       "<g id=\"node3\" class=\"node\">\n",
       "<title>var_raw</title>\n",
       "<polygon fill=\"none\" stroke=\"black\" points=\"183.75,-196.75 70.25,-196.75 70.25,-137 183.75,-137 183.75,-196.75\"/>\n",
       "<text text-anchor=\"middle\" x=\"127\" y=\"-179.45\" font-family=\"Times,serif\" font-size=\"14.00\">var_raw</text>\n",
       "<text text-anchor=\"middle\" x=\"127\" y=\"-162.2\" font-family=\"Times,serif\" font-size=\"14.00\">~</text>\n",
       "<text text-anchor=\"middle\" x=\"127\" y=\"-144.95\" font-family=\"Times,serif\" font-size=\"14.00\">Deterministic</text>\n",
       "</g>\n",
       "<!-- var_raw_offset&#45;&gt;var_raw -->\n",
       "<g id=\"edge3\" class=\"edge\">\n",
       "<title>var_raw_offset&#45;&gt;var_raw</title>\n",
       "<path fill=\"none\" stroke=\"black\" d=\"M110.52,-232.67C112.57,-224.6 114.72,-216.14 116.76,-208.11\"/>\n",
       "<polygon fill=\"black\" stroke=\"black\" points=\"120.11,-209.14 119.19,-198.58 113.33,-207.41 120.11,-209.14\"/>\n",
       "</g>\n",
       "<!-- var_raw&#45;&gt;var -->\n",
       "<g id=\"edge4\" class=\"edge\">\n",
       "<title>var_raw&#45;&gt;var</title>\n",
       "<path fill=\"none\" stroke=\"black\" d=\"M127,-136.73C127,-129.05 127,-120.64 127,-112.49\"/>\n",
       "<polygon fill=\"black\" stroke=\"black\" points=\"130.5,-112.77 127,-102.77 123.5,-112.77 130.5,-112.77\"/>\n",
       "</g>\n",
       "<!-- var_raw_sigma -->\n",
       "<g id=\"node4\" class=\"node\">\n",
       "<title>var_raw_sigma</title>\n",
       "<ellipse fill=\"none\" stroke=\"black\" cx=\"289\" cy=\"-275\" rx=\"86.62\" ry=\"42.25\"/>\n",
       "<text text-anchor=\"middle\" x=\"289\" y=\"-287.57\" font-family=\"Times,serif\" font-size=\"14.00\">var_raw_sigma</text>\n",
       "<text text-anchor=\"middle\" x=\"289\" y=\"-270.32\" font-family=\"Times,serif\" font-size=\"14.00\">~</text>\n",
       "<text text-anchor=\"middle\" x=\"289\" y=\"-253.07\" font-family=\"Times,serif\" font-size=\"14.00\">HalfNormal</text>\n",
       "</g>\n",
       "<!-- var_raw_sigma&#45;&gt;var_raw -->\n",
       "<g id=\"edge1\" class=\"edge\">\n",
       "<title>var_raw_sigma&#45;&gt;var_raw</title>\n",
       "<path fill=\"none\" stroke=\"black\" d=\"M238.19,-240.71C220.01,-228.81 199.47,-215.35 181.04,-203.27\"/>\n",
       "<polygon fill=\"black\" stroke=\"black\" points=\"183.16,-200.48 172.88,-197.93 179.32,-206.34 183.16,-200.48\"/>\n",
       "</g>\n",
       "<!-- var_raw_mu -->\n",
       "<g id=\"node5\" class=\"node\">\n",
       "<title>var_raw_mu</title>\n",
       "<ellipse fill=\"none\" stroke=\"black\" cx=\"466\" cy=\"-275\" rx=\"72.3\" ry=\"42.25\"/>\n",
       "<text text-anchor=\"middle\" x=\"466\" y=\"-287.57\" font-family=\"Times,serif\" font-size=\"14.00\">var_raw_mu</text>\n",
       "<text text-anchor=\"middle\" x=\"466\" y=\"-270.32\" font-family=\"Times,serif\" font-size=\"14.00\">~</text>\n",
       "<text text-anchor=\"middle\" x=\"466\" y=\"-253.07\" font-family=\"Times,serif\" font-size=\"14.00\">Normal</text>\n",
       "</g>\n",
       "<!-- var_raw_mu&#45;&gt;var_raw -->\n",
       "<g id=\"edge2\" class=\"edge\">\n",
       "<title>var_raw_mu&#45;&gt;var_raw</title>\n",
       "<path fill=\"none\" stroke=\"black\" d=\"M414.05,-245.39C404.55,-240.78 394.6,-236.35 385,-232.75 322.45,-209.3 248.22,-191.64 195.48,-180.71\"/>\n",
       "<polygon fill=\"black\" stroke=\"black\" points=\"196.21,-177.29 185.71,-178.72 194.81,-184.15 196.21,-177.29\"/>\n",
       "</g>\n",
       "</g>\n",
       "</svg>\n"
      ],
      "text/plain": [
       "<graphviz.graphs.Digraph at 0x7f0c5a3f98a0>"
      ]
     },
     "execution_count": 20,
     "metadata": {},
     "output_type": "execute_result"
    }
   ],
   "source": [
    "hierarchical_zero_to_one_distribution = Prior(\n",
    "    \"Normal\",\n",
    "    mu=Prior(\"Normal\"),\n",
    "    sigma=Prior(\"HalfNormal\"),\n",
    "    dims=\"channel\",\n",
    "    centered=False,\n",
    "    transform=\"sigmoid\",\n",
    ")\n",
    "hierarchical_zero_to_one_distribution.graph()"
   ]
  },
  {
   "cell_type": "markdown",
   "id": "ee2270a5-2c73-4464-b924-59d01133dc5d",
   "metadata": {},
   "source": [
    "### Prior Visualization\n",
    "\n",
    "For scalar distributions, make use of the `preliz` attribute of the model in order to visualize. \n",
    "\n",
    "```{tip}\n",
    "Defaults for the parameters will have to be provided or there will be an error.\n",
    "```"
   ]
  },
  {
   "cell_type": "code",
   "execution_count": 21,
   "id": "68ac9293-3d2c-4797-81ed-a50171c7f384",
   "metadata": {},
   "outputs": [
    {
     "data": {
      "image/png": "[encoded data removed]",
      "text/plain": [
       "<Figure size 1200x700 with 1 Axes>"
      ]
     },
     "metadata": {},
     "output_type": "display_data"
    }
   ],
   "source": [
    "beta_distribution = Prior(\"Beta\", alpha=1, beta=4)\n",
    "\n",
    "beta_distribution.preliz.plot_pdf();"
   ]
  },
  {
   "cell_type": "markdown",
   "id": "d1a6d281-9646-48e1-ab09-6e9de21e9c11",
   "metadata": {},
   "source": [
    "```{tip}\n",
    "Using the `constrain` method can help hone in on a prior. It is a wrapper around the ever-so-helpful [`find_constrained_prior` function](https://www.pymc.io/projects/docs/en/stable/api/generated/pymc.find_constrained_prior.html). The `init_guess` is taken to be the parameters of the instance distribution.\n",
    "```"
   ]
  },
  {
   "cell_type": "code",
   "execution_count": 22,
   "id": "6a02cdb4-9fe9-4eb5-97a3-91fd7abf1835",
   "metadata": {},
   "outputs": [
    {
     "data": {
      "text/plain": [
       "Prior(\"Normal\", mu=5.000013661179942, sigma=0.5102135210258302)"
      ]
     },
     "execution_count": 22,
     "metadata": {},
     "output_type": "execute_result"
    }
   ],
   "source": [
    "constrained_distribution = Prior(\"Normal\", mu=5, sigma=1).constrain(lower=4, upper=6)\n",
    "constrained_distribution"
   ]
  },
  {
   "cell_type": "markdown",
   "id": "007646bd-61f4-4a2d-8400-14c36e08f289",
   "metadata": {},
   "source": [
    "For more complicated distributions, consider using the `sample_prior` method in order to access the prior.\n",
    "\n",
    "```{note}\n",
    "Any coordinates will have to be passed like in `pm.Model`.\n",
    "```"
   ]
  },
  {
   "cell_type": "code",
   "execution_count": 23,
   "id": "8c2b4ea7-c33d-4d86-a7f8-18434bd0a298",
   "metadata": {
    "scrolled": true
   },
   "outputs": [
    {
     "name": "stderr",
     "output_type": "stream",
     "text": [
      "Sampling: [var_raw_mu, var_raw_offset, var_raw_sigma]\n"
     ]
    },
    {
     "data": {
      "text/html": [
       "<div><svg style=\"position: absolute; width: 0; height: 0; overflow: hidden\">\n",
       "<defs>\n",
       "<symbol id=\"icon-database\" viewBox=\"0 0 32 32\">\n",
       "<path d=\"M16 0c-8.837 0-16 2.239-16 5v4c0 2.761 7.163 5 16 5s16-2.239 16-5v-4c0-2.761-7.163-5-16-5z\"></path>\n",
       "<path d=\"M16 17c-8.837 0-16-2.239-16-5v6c0 2.761 7.163 5 16 5s16-2.239 16-5v-6c0 2.761-7.163 5-16 5z\"></path>\n",
       "<path d=\"M16 26c-8.837 0-16-2.239-16-5v6c0 2.761 7.163 5 16 5s16-2.239 16-5v-6c0 2.761-7.163 5-16 5z\"></path>\n",
       "</symbol>\n",
       "<symbol id=\"icon-file-text2\" viewBox=\"0 0 32 32\">\n",
       "<path d=\"M28.681 7.159c-0.694-0.947-1.662-2.053-2.724-3.116s-2.169-2.030-3.116-2.724c-1.612-1.182-2.393-1.319-2.841-1.319h-15.5c-1.378 0-2.5 1.121-2.5 2.5v27c0 1.378 1.122 2.5 2.5 2.5h23c1.378 0 2.5-1.122 2.5-2.5v-19.5c0-0.448-0.137-1.23-1.319-2.841zM24.543 5.457c0.959 0.959 1.712 1.825 2.268 2.543h-4.811v-4.811c0.718 0.556 1.584 1.309 2.543 2.268zM28 29.5c0 0.271-0.229 0.5-0.5 0.5h-23c-0.271 0-0.5-0.229-0.5-0.5v-27c0-0.271 0.229-0.5 0.5-0.5 0 0 15.499-0 15.5 0v7c0 0.552 0.448 1 1 1h7v19.5z\"></path>\n",
       "<path d=\"M23 26h-14c-0.552 0-1-0.448-1-1s0.448-1 1-1h14c0.552 0 1 0.448 1 1s-0.448 1-1 1z\"></path>\n",
       "<path d=\"M23 22h-14c-0.552 0-1-0.448-1-1s0.448-1 1-1h14c0.552 0 1 0.448 1 1s-0.448 1-1 1z\"></path>\n",
       "<path d=\"M23 18h-14c-0.552 0-1-0.448-1-1s0.448-1 1-1h14c0.552 0 1 0.448 1 1s-0.448 1-1 1z\"></path>\n",
       "</symbol>\n",
       "</defs>\n",
       "</svg>\n",
       "<style>/* CSS stylesheet for displaying xarray objects in jupyterlab.\n",
       " *\n",
       " */\n",
       "\n",
       ":root {\n",
       "  --xr-font-color0: var(--jp-content-font-color0, rgba(0, 0, 0, 1));\n",
       "  --xr-font-color2: var(--jp-content-font-color2, rgba(0, 0, 0, 0.54));\n",
       "  --xr-font-color3: var(--jp-content-font-color3, rgba(0, 0, 0, 0.38));\n",
       "  --xr-border-color: var(--jp-border-color2, #e0e0e0);\n",
       "  --xr-disabled-color: var(--jp-layout-color3, #bdbdbd);\n",
       "  --xr-background-color: var(--jp-layout-color0, white);\n",
       "  --xr-background-color-row-even: var(--jp-layout-color1, white);\n",
       "  --xr-background-color-row-odd: var(--jp-layout-color2, #eeeeee);\n",
       "}\n",
       "\n",
       "html[theme=dark],\n",
       "body[data-theme=dark],\n",
       "body.vscode-dark {\n",
       "  --xr-font-color0: rgba(255, 255, 255, 1);\n",
       "  --xr-font-color2: rgba(255, 255, 255, 0.54);\n",
       "  --xr-font-color3: rgba(255, 255, 255, 0.38);\n",
       "  --xr-border-color: #1F1F1F;\n",
       "  --xr-disabled-color: #515151;\n",
       "  --xr-background-color: #111111;\n",
       "  --xr-background-color-row-even: #111111;\n",
       "  --xr-background-color-row-odd: #313131;\n",
       "}\n",
       "\n",
       ".xr-wrap {\n",
       "  display: block !important;\n",
       "  min-width: 300px;\n",
       "  max-width: 700px;\n",
       "}\n",
       "\n",
       ".xr-text-repr-fallback {\n",
       "  /* fallback to plain text repr when CSS is not injected (untrusted notebook) */\n",
       "  display: none;\n",
       "}\n",
       "\n",
       ".xr-header {\n",
       "  padding-top: 6px;\n",
       "  padding-bottom: 6px;\n",
       "  margin-bottom: 4px;\n",
       "  border-bottom: solid 1px var(--xr-border-color);\n",
       "}\n",
       "\n",
       ".xr-header > div,\n",
       ".xr-header > ul {\n",
       "  display: inline;\n",
       "  margin-top: 0;\n",
       "  margin-bottom: 0;\n",
       "}\n",
       "\n",
       ".xr-obj-type,\n",
       ".xr-array-name {\n",
       "  margin-left: 2px;\n",
       "  margin-right: 10px;\n",
       "}\n",
       "\n",
       ".xr-obj-type {\n",
       "  color: var(--xr-font-color2);\n",
       "}\n",
       "\n",
       ".xr-sections {\n",
       "  padding-left: 0 !important;\n",
       "  display: grid;\n",
       "  grid-template-columns: 150px auto auto 1fr 20px 20px;\n",
       "}\n",
       "\n",
       ".xr-section-item {\n",
       "  display: contents;\n",
       "}\n",
       "\n",
       ".xr-section-item input {\n",
       "  display: none;\n",
       "}\n",
       "\n",
       ".xr-section-item input + label {\n",
       "  color: var(--xr-disabled-color);\n",
       "}\n",
       "\n",
       ".xr-section-item input:enabled + label {\n",
       "  cursor: pointer;\n",
       "  color: var(--xr-font-color2);\n",
       "}\n",
       "\n",
       ".xr-section-item input:enabled + label:hover {\n",
       "  color: var(--xr-font-color0);\n",
       "}\n",
       "\n",
       ".xr-section-summary {\n",
       "  grid-column: 1;\n",
       "  color: var(--xr-font-color2);\n",
       "  font-weight: 500;\n",
       "}\n",
       "\n",
       ".xr-section-summary > span {\n",
       "  display: inline-block;\n",
       "  padding-left: 0.5em;\n",
       "}\n",
       "\n",
       ".xr-section-summary-in:disabled + label {\n",
       "  color: var(--xr-font-color2);\n",
       "}\n",
       "\n",
       ".xr-section-summary-in + label:before {\n",
       "  display: inline-block;\n",
       "  content: '►';\n",
       "  font-size: 11px;\n",
       "  width: 15px;\n",
       "  text-align: center;\n",
       "}\n",
       "\n",
       ".xr-section-summary-in:disabled + label:before {\n",
       "  color: var(--xr-disabled-color);\n",
       "}\n",
       "\n",
       ".xr-section-summary-in:checked + label:before {\n",
       "  content: '▼';\n",
       "}\n",
       "\n",
       ".xr-section-summary-in:checked + label > span {\n",
       "  display: none;\n",
       "}\n",
       "\n",
       ".xr-section-summary,\n",
       ".xr-section-inline-details {\n",
       "  padding-top: 4px;\n",
       "  padding-bottom: 4px;\n",
       "}\n",
       "\n",
       ".xr-section-inline-details {\n",
       "  grid-column: 2 / -1;\n",
       "}\n",
       "\n",
       ".xr-section-details {\n",
       "  display: none;\n",
       "  grid-column: 1 / -1;\n",
       "  margin-bottom: 5px;\n",
       "}\n",
       "\n",
       ".xr-section-summary-in:checked ~ .xr-section-details {\n",
       "  display: contents;\n",
       "}\n",
       "\n",
       ".xr-array-wrap {\n",
       "  grid-column: 1 / -1;\n",
       "  display: grid;\n",
       "  grid-template-columns: 20px auto;\n",
       "}\n",
       "\n",
       ".xr-array-wrap > label {\n",
       "  grid-column: 1;\n",
       "  vertical-align: top;\n",
       "}\n",
       "\n",
       ".xr-preview {\n",
       "  color: var(--xr-font-color3);\n",
       "}\n",
       "\n",
       ".xr-array-preview,\n",
       ".xr-array-data {\n",
       "  padding: 0 5px !important;\n",
       "  grid-column: 2;\n",
       "}\n",
       "\n",
       ".xr-array-data,\n",
       ".xr-array-in:checked ~ .xr-array-preview {\n",
       "  display: none;\n",
       "}\n",
       "\n",
       ".xr-array-in:checked ~ .xr-array-data,\n",
       ".xr-array-preview {\n",
       "  display: inline-block;\n",
       "}\n",
       "\n",
       ".xr-dim-list {\n",
       "  display: inline-block !important;\n",
       "  list-style: none;\n",
       "  padding: 0 !important;\n",
       "  margin: 0;\n",
       "}\n",
       "\n",
       ".xr-dim-list li {\n",
       "  display: inline-block;\n",
       "  padding: 0;\n",
       "  margin: 0;\n",
       "}\n",
       "\n",
       ".xr-dim-list:before {\n",
       "  content: '(';\n",
       "}\n",
       "\n",
       ".xr-dim-list:after {\n",
       "  content: ')';\n",
       "}\n",
       "\n",
       ".xr-dim-list li:not(:last-child):after {\n",
       "  content: ',';\n",
       "  padding-right: 5px;\n",
       "}\n",
       "\n",
       ".xr-has-index {\n",
       "  font-weight: bold;\n",
       "}\n",
       "\n",
       ".xr-var-list,\n",
       ".xr-var-item {\n",
       "  display: contents;\n",
       "}\n",
       "\n",
       ".xr-var-item > div,\n",
       ".xr-var-item label,\n",
       ".xr-var-item > .xr-var-name span {\n",
       "  background-color: var(--xr-background-color-row-even);\n",
       "  margin-bottom: 0;\n",
       "}\n",
       "\n",
       ".xr-var-item > .xr-var-name:hover span {\n",
       "  padding-right: 5px;\n",
       "}\n",
       "\n",
       ".xr-var-list > li:nth-child(odd) > div,\n",
       ".xr-var-list > li:nth-child(odd) > label,\n",
       ".xr-var-list > li:nth-child(odd) > .xr-var-name span {\n",
       "  background-color: var(--xr-background-color-row-odd);\n",
       "}\n",
       "\n",
       ".xr-var-name {\n",
       "  grid-column: 1;\n",
       "}\n",
       "\n",
       ".xr-var-dims {\n",
       "  grid-column: 2;\n",
       "}\n",
       "\n",
       ".xr-var-dtype {\n",
       "  grid-column: 3;\n",
       "  text-align: right;\n",
       "  color: var(--xr-font-color2);\n",
       "}\n",
       "\n",
       ".xr-var-preview {\n",
       "  grid-column: 4;\n",
       "}\n",
       "\n",
       ".xr-index-preview {\n",
       "  grid-column: 2 / 5;\n",
       "  color: var(--xr-font-color2);\n",
       "}\n",
       "\n",
       ".xr-var-name,\n",
       ".xr-var-dims,\n",
       ".xr-var-dtype,\n",
       ".xr-preview,\n",
       ".xr-attrs dt {\n",
       "  white-space: nowrap;\n",
       "  overflow: hidden;\n",
       "  text-overflow: ellipsis;\n",
       "  padding-right: 10px;\n",
       "}\n",
       "\n",
       ".xr-var-name:hover,\n",
       ".xr-var-dims:hover,\n",
       ".xr-var-dtype:hover,\n",
       ".xr-attrs dt:hover {\n",
       "  overflow: visible;\n",
       "  width: auto;\n",
       "  z-index: 1;\n",
       "}\n",
       "\n",
       ".xr-var-attrs,\n",
       ".xr-var-data,\n",
       ".xr-index-data {\n",
       "  display: none;\n",
       "  background-color: var(--xr-background-color) !important;\n",
       "  padding-bottom: 5px !important;\n",
       "}\n",
       "\n",
       ".xr-var-attrs-in:checked ~ .xr-var-attrs,\n",
       ".xr-var-data-in:checked ~ .xr-var-data,\n",
       ".xr-index-data-in:checked ~ .xr-index-data {\n",
       "  display: block;\n",
       "}\n",
       "\n",
       ".xr-var-data > table {\n",
       "  float: right;\n",
       "}\n",
       "\n",
       ".xr-var-name span,\n",
       ".xr-var-data,\n",
       ".xr-index-name div,\n",
       ".xr-index-data,\n",
       ".xr-attrs {\n",
       "  padding-left: 25px !important;\n",
       "}\n",
       "\n",
       ".xr-attrs,\n",
       ".xr-var-attrs,\n",
       ".xr-var-data,\n",
       ".xr-index-data {\n",
       "  grid-column: 1 / -1;\n",
       "}\n",
       "\n",
       "dl.xr-attrs {\n",
       "  padding: 0;\n",
       "  margin: 0;\n",
       "  display: grid;\n",
       "  grid-template-columns: 125px auto;\n",
       "}\n",
       "\n",
       ".xr-attrs dt,\n",
       ".xr-attrs dd {\n",
       "  padding: 0;\n",
       "  margin: 0;\n",
       "  float: left;\n",
       "  padding-right: 10px;\n",
       "  width: auto;\n",
       "}\n",
       "\n",
       ".xr-attrs dt {\n",
       "  font-weight: normal;\n",
       "  grid-column: 1;\n",
       "}\n",
       "\n",
       ".xr-attrs dt:hover span {\n",
       "  display: inline-block;\n",
       "  background: var(--xr-background-color);\n",
       "  padding-right: 10px;\n",
       "}\n",
       "\n",
       ".xr-attrs dd {\n",
       "  grid-column: 2;\n",
       "  white-space: pre-wrap;\n",
       "  word-break: break-all;\n",
       "}\n",
       "\n",
       ".xr-icon-database,\n",
       ".xr-icon-file-text2,\n",
       ".xr-no-icon {\n",
       "  display: inline-block;\n",
       "  vertical-align: middle;\n",
       "  width: 1em;\n",
       "  height: 1.5em !important;\n",
       "  stroke-width: 0;\n",
       "  stroke: currentColor;\n",
       "  fill: currentColor;\n",
       "}\n",
       "</style><pre class='xr-text-repr-fallback'>&lt;xarray.Dataset&gt; Size: 36kB\n",
       "Dimensions:         (chain: 1, draw: 500, channel: 2)\n",
       "Coordinates:\n",
       "  * chain           (chain) int64 8B 0\n",
       "  * draw            (draw) int64 4kB 0 1 2 3 4 5 6 ... 494 495 496 497 498 499\n",
       "  * channel         (channel) &lt;U2 16B &#x27;C1&#x27; &#x27;C2&#x27;\n",
       "Data variables:\n",
       "    var_raw_mu      (chain, draw) float64 4kB -1.203 -0.5095 ... 2.034 0.4014\n",
       "    var_raw         (chain, draw, channel) float64 8kB -0.6256 -1.169 ... 0.3137\n",
       "    var             (chain, draw, channel) float64 8kB 0.3485 0.237 ... 0.5778\n",
       "    var_raw_sigma   (chain, draw) float64 4kB 0.1998 0.1987 ... 0.201 0.05183\n",
       "    var_raw_offset  (chain, draw, channel) float64 8kB 2.892 0.1708 ... -1.692\n",
       "Attributes:\n",
       "    created_at:                 2024-06-21T09:02:30.435271\n",
       "    arviz_version:              0.17.0\n",
       "    inference_library:          pymc\n",
       "    inference_library_version:  5.14.0</pre><div class='xr-wrap' style='display:none'><div class='xr-header'><div class='xr-obj-type'>xarray.Dataset</div></div><ul class='xr-sections'><li class='xr-section-item'><input id='section-a37a5cfb-625a-488f-a840-72d64d462554' class='xr-section-summary-in' type='checkbox' disabled ><label for='section-a37a5cfb-625a-488f-a840-72d64d462554' class='xr-section-summary'  title='Expand/collapse section'>Dimensions:</label><div class='xr-section-inline-details'><ul class='xr-dim-list'><li><span class='xr-has-index'>chain</span>: 1</li><li><span class='xr-has-index'>draw</span>: 500</li><li><span class='xr-has-index'>channel</span>: 2</li></ul></div><div class='xr-section-details'></div></li><li class='xr-section-item'><input id='section-194cf165-79ae-4433-aa84-8b02cf05c511' class='xr-section-summary-in' type='checkbox'  checked><label for='section-194cf165-79ae-4433-aa84-8b02cf05c511' class='xr-section-summary' >Coordinates: <span>(3)</span></label><div class='xr-section-inline-details'></div><div class='xr-section-details'><ul class='xr-var-list'><li class='xr-var-item'><div class='xr-var-name'><span class='xr-has-index'>chain</span></div><div class='xr-var-dims'>(chain)</div><div class='xr-var-dtype'>int64</div><div class='xr-var-preview xr-preview'>0</div><input id='attrs-7a1fe5b5-b7ef-40ad-b08e-ecaaf516c4d8' class='xr-var-attrs-in' type='checkbox' disabled><label for='attrs-7a1fe5b5-b7ef-40ad-b08e-ecaaf516c4d8' title='Show/Hide attributes'><svg class='icon xr-icon-file-text2'><use xlink:href='#icon-file-text2'></use></svg></label><input id='data-e976b2ca-df69-46fc-b457-ae304612cf10' class='xr-var-data-in' type='checkbox'><label for='data-e976b2ca-df69-46fc-b457-ae304612cf10' title='Show/Hide data repr'><svg class='icon xr-icon-database'><use xlink:href='#icon-database'></use></svg></label><div class='xr-var-attrs'><dl class='xr-attrs'></dl></div><div class='xr-var-data'><pre>array([0])</pre></div></li><li class='xr-var-item'><div class='xr-var-name'><span class='xr-has-index'>draw</span></div><div class='xr-var-dims'>(draw)</div><div class='xr-var-dtype'>int64</div><div class='xr-var-preview xr-preview'>0 1 2 3 4 5 ... 495 496 497 498 499</div><input id='attrs-22f0aad4-c1ae-403f-b838-4467a0146551' class='xr-var-attrs-in' type='checkbox' disabled><label for='attrs-22f0aad4-c1ae-403f-b838-4467a0146551' title='Show/Hide attributes'><svg class='icon xr-icon-file-text2'><use xlink:href='#icon-file-text2'></use></svg></label><input id='data-4b9697cd-2185-49e1-bc80-a7588673c66f' class='xr-var-data-in' type='checkbox'><label for='data-4b9697cd-2185-49e1-bc80-a7588673c66f' title='Show/Hide data repr'><svg class='icon xr-icon-database'><use xlink:href='#icon-database'></use></svg></label><div class='xr-var-attrs'><dl class='xr-attrs'></dl></div><div class='xr-var-data'><pre>array([  0,   1,   2, ..., 497, 498, 499])</pre></div></li><li class='xr-var-item'><div class='xr-var-name'><span class='xr-has-index'>channel</span></div><div class='xr-var-dims'>(channel)</div><div class='xr-var-dtype'>&lt;U2</div><div class='xr-var-preview xr-preview'>&#x27;C1&#x27; &#x27;C2&#x27;</div><input id='attrs-e4cd4f83-db85-4a52-a0c0-3a7dd7c240fc' class='xr-var-attrs-in' type='checkbox' disabled><label for='attrs-e4cd4f83-db85-4a52-a0c0-3a7dd7c240fc' title='Show/Hide attributes'><svg class='icon xr-icon-file-text2'><use xlink:href='#icon-file-text2'></use></svg></label><input id='data-fa45dac8-8c46-465c-a332-9606a8e53e12' class='xr-var-data-in' type='checkbox'><label for='data-fa45dac8-8c46-465c-a332-9606a8e53e12' title='Show/Hide data repr'><svg class='icon xr-icon-database'><use xlink:href='#icon-database'></use></svg></label><div class='xr-var-attrs'><dl class='xr-attrs'></dl></div><div class='xr-var-data'><pre>array([&#x27;C1&#x27;, &#x27;C2&#x27;], dtype=&#x27;&lt;U2&#x27;)</pre></div></li></ul></div></li><li class='xr-section-item'><input id='section-376079b6-08fc-4040-bc2d-16d39916df4d' class='xr-section-summary-in' type='checkbox'  checked><label for='section-376079b6-08fc-4040-bc2d-16d39916df4d' class='xr-section-summary' >Data variables: <span>(5)</span></label><div class='xr-section-inline-details'></div><div class='xr-section-details'><ul class='xr-var-list'><li class='xr-var-item'><div class='xr-var-name'><span>var_raw_mu</span></div><div class='xr-var-dims'>(chain, draw)</div><div class='xr-var-dtype'>float64</div><div class='xr-var-preview xr-preview'>-1.203 -0.5095 ... 2.034 0.4014</div><input id='attrs-fdba2e63-79e2-4310-843c-955c4e2fb3f2' class='xr-var-attrs-in' type='checkbox' disabled><label for='attrs-fdba2e63-79e2-4310-843c-955c4e2fb3f2' title='Show/Hide attributes'><svg class='icon xr-icon-file-text2'><use xlink:href='#icon-file-text2'></use></svg></label><input id='data-9a6e4126-ee2c-4f79-9e1c-e9f83abf6367' class='xr-var-data-in' type='checkbox'><label for='data-9a6e4126-ee2c-4f79-9e1c-e9f83abf6367' title='Show/Hide data repr'><svg class='icon xr-icon-database'><use xlink:href='#icon-database'></use></svg></label><div class='xr-var-attrs'><dl class='xr-attrs'></dl></div><div class='xr-var-data'><pre>array([[-1.20334986, -0.50953451,  3.14381386, -0.84169974, -2.22430174,\n",
       "         1.36205105, -1.32658518,  0.80607024, -0.52028613, -0.59376613,\n",
       "        -0.45203873, -0.36087083,  1.38190019,  1.20441422, -0.71077758,\n",
       "        -1.03752227,  0.4884193 , -0.78900973,  0.06378483, -1.06642204,\n",
       "        -2.1952994 , -3.21693932, -0.94226696,  0.32786635,  0.63041466,\n",
       "         0.02834337, -0.98844929,  0.30071205, -0.69561229,  2.36051929,\n",
       "        -0.23552131, -1.78511932,  0.49165025, -0.08056209, -0.19914557,\n",
       "        -0.12498328, -1.42608473, -1.45118967, -1.63661792, -0.56393128,\n",
       "        -0.59548582,  0.70759023, -1.03856958,  0.40507663,  1.01382986,\n",
       "         0.97680379,  0.54411722, -0.19924548,  0.48994064, -2.24483327,\n",
       "         0.98831488,  0.3190267 , -1.03454796,  1.24805402,  0.56768932,\n",
       "        -1.09756302, -0.5051672 ,  0.1939349 ,  0.37803798,  0.31687547,\n",
       "        -0.62979906,  0.53657942, -1.1238786 ,  0.68775505, -0.52804849,\n",
       "        -0.22685553, -1.29086471,  0.19745587, -0.13679453, -0.42693605,\n",
       "        -1.14297164, -1.45685635,  0.53778766,  0.85942276, -0.02253972,\n",
       "         1.2784543 ,  0.41655338, -0.27026411,  0.57195136, -1.21829288,\n",
       "         0.32690828, -1.32919734, -1.30642962,  1.79147593,  0.9645881 ,\n",
       "         2.72105407, -1.05010443, -0.55732959,  1.33617773, -0.53716364,\n",
       "         0.4330938 , -0.28789829, -0.06398856, -0.90359754,  0.87996078,\n",
       "         0.06949693,  0.07673587, -0.53160332, -1.59264651, -2.06035319,\n",
       "...\n",
       "         0.1353186 , -0.79373729,  0.68937693,  0.44629994, -1.01541784,\n",
       "         1.29477303,  0.71887788, -0.8193042 ,  0.09971515, -0.25318212,\n",
       "        -2.43454298, -1.38605201,  1.09059982,  0.16127179, -2.12247338,\n",
       "        -0.28137712, -0.66251808,  0.86872485, -0.38321315, -0.30078822,\n",
       "        -0.38056366,  0.02523448, -0.05882276,  1.37978276, -0.43510046,\n",
       "        -0.17452956,  1.47372408,  0.25018762,  1.30399662, -1.7160415 ,\n",
       "        -2.08336096,  0.64817925,  0.70501334,  1.21997839,  1.91887826,\n",
       "        -0.88048792, -1.08012577,  1.50742001, -1.0638401 ,  1.19065613,\n",
       "        -0.69099996, -0.51502429,  1.94629821, -0.33923972, -0.35142739,\n",
       "        -0.77798627,  2.43875091,  0.7142542 , -1.08681968, -0.34148055,\n",
       "        -0.72084997,  0.26005046,  1.10011662,  0.09655359,  0.01188226,\n",
       "        -0.05637545, -0.25738012,  1.30310318,  0.274894  , -0.86219782,\n",
       "        -1.44040066, -0.31699387,  1.0542218 , -0.04856151, -0.42314584,\n",
       "         1.62897492,  0.60642041,  1.01446413, -0.0328161 , -0.69231541,\n",
       "        -0.25060413, -1.28581435,  0.70539013, -1.97112807,  1.45740318,\n",
       "         1.00659219, -0.51795293, -0.44037258, -1.09406951, -0.91870659,\n",
       "        -0.26559522, -2.2439157 ,  1.1345626 ,  0.47991091,  0.99229928,\n",
       "        -1.87187057, -0.67802473,  1.05979439, -0.70017797, -0.25642684,\n",
       "        -0.59242615, -0.30555462, -0.94475938,  0.65620878, -0.36836903,\n",
       "        -0.72882649,  0.97547807, -0.54610223,  2.0336591 ,  0.40137191]])</pre></div></li><li class='xr-var-item'><div class='xr-var-name'><span>var_raw</span></div><div class='xr-var-dims'>(chain, draw, channel)</div><div class='xr-var-dtype'>float64</div><div class='xr-var-preview xr-preview'>-0.6256 -1.169 ... 0.394 0.3137</div><input id='attrs-a399ef4c-56bb-4384-8a75-660461c125b0' class='xr-var-attrs-in' type='checkbox' disabled><label for='attrs-a399ef4c-56bb-4384-8a75-660461c125b0' title='Show/Hide attributes'><svg class='icon xr-icon-file-text2'><use xlink:href='#icon-file-text2'></use></svg></label><input id='data-a91823cd-c1a3-42ff-aea6-e8f72dac76cc' class='xr-var-data-in' type='checkbox'><label for='data-a91823cd-c1a3-42ff-aea6-e8f72dac76cc' title='Show/Hide data repr'><svg class='icon xr-icon-database'><use xlink:href='#icon-database'></use></svg></label><div class='xr-var-attrs'><dl class='xr-attrs'></dl></div><div class='xr-var-data'><pre>array([[[-6.25554487e-01, -1.16922455e+00],\n",
       "        [-8.74802471e-01, -5.88592549e-01],\n",
       "        [ 3.16913893e+00,  3.45631788e+00],\n",
       "        [-7.01990982e-01, -1.21807200e+00],\n",
       "        [-3.44851393e+00, -2.50434044e+00],\n",
       "        [ 1.43428313e+00,  1.36604855e+00],\n",
       "        [-1.27485707e+00, -1.22015947e+00],\n",
       "        [ 8.04974724e-01,  8.05802499e-01],\n",
       "        [-5.34313836e-01, -5.30905365e-01],\n",
       "        [-5.81523428e-01, -6.71721114e-01],\n",
       "        [ 1.87604916e-01, -1.87848391e-01],\n",
       "        [-7.30186687e-01, -4.05339838e-02],\n",
       "        [ 1.70470183e+00,  1.79964161e+00],\n",
       "        [ 1.24633656e+00,  1.19648958e+00],\n",
       "        [-7.96863107e-01,  3.30585956e-02],\n",
       "        [-1.29304897e+00, -1.05598123e+00],\n",
       "        [ 4.92468057e-01,  4.89369928e-01],\n",
       "        [-8.87176852e-01, -8.10789240e-01],\n",
       "        [-1.07715953e+00, -1.83457391e-01],\n",
       "        [-1.05082060e+00, -1.15085576e+00],\n",
       "...\n",
       "        [-2.74844069e-01, -2.37399751e-01],\n",
       "        [-2.42567589e+00, -1.42012127e+00],\n",
       "        [ 1.14780233e+00,  1.15771837e+00],\n",
       "        [ 5.53637108e-01,  4.95287631e-01],\n",
       "        [ 8.84531024e-01,  3.51628518e-01],\n",
       "        [-1.95383078e+00, -1.73204544e+00],\n",
       "        [-6.99189401e-01, -5.55001643e-01],\n",
       "        [ 7.94855128e-01,  1.29068277e+00],\n",
       "        [-9.97833294e-01, -6.69737680e-01],\n",
       "        [-8.20302670e-01, -8.65394315e-01],\n",
       "        [-5.01813533e-01, -6.46218114e-01],\n",
       "        [-2.22606263e-01, -4.96336406e-01],\n",
       "        [-9.80721238e-01, -1.02143331e+00],\n",
       "        [ 6.18085605e-01,  6.95934446e-01],\n",
       "        [-5.23975874e-02, -4.26448107e-01],\n",
       "        [-9.67376372e-01, -5.92124963e-01],\n",
       "        [ 8.44986492e-01,  8.89575052e-01],\n",
       "        [-5.31318522e-01, -6.85446642e-01],\n",
       "        [ 1.92659230e+00,  1.79714790e+00],\n",
       "        [ 3.93953522e-01,  3.13682880e-01]]])</pre></div></li><li class='xr-var-item'><div class='xr-var-name'><span>var</span></div><div class='xr-var-dims'>(chain, draw, channel)</div><div class='xr-var-dtype'>float64</div><div class='xr-var-preview xr-preview'>0.3485 0.237 ... 0.5972 0.5778</div><input id='attrs-3ac14743-65ff-4ad5-be66-95eb7c899d2b' class='xr-var-attrs-in' type='checkbox' disabled><label for='attrs-3ac14743-65ff-4ad5-be66-95eb7c899d2b' title='Show/Hide attributes'><svg class='icon xr-icon-file-text2'><use xlink:href='#icon-file-text2'></use></svg></label><input id='data-c814f2b3-6267-47b3-93e3-f3a169561139' class='xr-var-data-in' type='checkbox'><label for='data-c814f2b3-6267-47b3-93e3-f3a169561139' title='Show/Hide data repr'><svg class='icon xr-icon-database'><use xlink:href='#icon-database'></use></svg></label><div class='xr-var-attrs'><dl class='xr-attrs'></dl></div><div class='xr-var-data'><pre>array([[[0.34851923, 0.23699518],\n",
       "        [0.29425599, 0.35695785],\n",
       "        [0.95965626, 0.969419  ],\n",
       "        [0.33137095, 0.22827592],\n",
       "        [0.03081321, 0.07555446],\n",
       "        [0.8075678 , 0.79674099],\n",
       "        [0.21842694, 0.22790839],\n",
       "        [0.69103762, 0.69121432],\n",
       "        [0.36951132, 0.37030575],\n",
       "        [0.35858213, 0.33811156],\n",
       "        [0.54676415, 0.45317551],\n",
       "        [0.32515376, 0.48986789],\n",
       "        [0.84614782, 0.8581053 ],\n",
       "        [0.77666506, 0.76789971],\n",
       "        [0.31069693, 0.5082639 ],\n",
       "        [0.21533719, 0.2580782 ],\n",
       "        [0.62068767, 0.61995799],\n",
       "        [0.29169277, 0.30772234],\n",
       "        [0.25404393, 0.45426386],\n",
       "        [0.25906755, 0.24033281],\n",
       "...\n",
       "        [0.43171827, 0.44092724],\n",
       "        [0.08123562, 0.19464257],\n",
       "        [0.75910927, 0.76091788],\n",
       "        [0.63497902, 0.62135127],\n",
       "        [0.70776028, 0.58701243],\n",
       "        [0.12413625, 0.15032613],\n",
       "        [0.33199197, 0.36470477],\n",
       "        [0.68887287, 0.78426273],\n",
       "        [0.26936763, 0.33855558],\n",
       "        [0.30569942, 0.29621355],\n",
       "        [0.37711458, 0.34384228],\n",
       "        [0.44457711, 0.37840201],\n",
       "        [0.2727487 , 0.2647483 ],\n",
       "        [0.64978302, 0.66728577],\n",
       "        [0.4869036 , 0.39497481],\n",
       "        [0.27540376, 0.35614744],\n",
       "        [0.69951439, 0.70880247],\n",
       "        [0.37020942, 0.33504675],\n",
       "        [0.87287176, 0.8578014 ],\n",
       "        [0.59723407, 0.57778395]]])</pre></div></li><li class='xr-var-item'><div class='xr-var-name'><span>var_raw_sigma</span></div><div class='xr-var-dims'>(chain, draw)</div><div class='xr-var-dtype'>float64</div><div class='xr-var-preview xr-preview'>0.1998 0.1987 ... 0.201 0.05183</div><input id='attrs-9d46f5a7-40d0-4dac-babc-b48e2477a36f' class='xr-var-attrs-in' type='checkbox' disabled><label for='attrs-9d46f5a7-40d0-4dac-babc-b48e2477a36f' title='Show/Hide attributes'><svg class='icon xr-icon-file-text2'><use xlink:href='#icon-file-text2'></use></svg></label><input id='data-0b27e64b-8d15-4fde-a5ab-57598176c30f' class='xr-var-data-in' type='checkbox'><label for='data-0b27e64b-8d15-4fde-a5ab-57598176c30f' title='Show/Hide data repr'><svg class='icon xr-icon-database'><use xlink:href='#icon-database'></use></svg></label><div class='xr-var-attrs'><dl class='xr-attrs'></dl></div><div class='xr-var-data'><pre>array([[1.99800104e-01, 1.98706764e-01, 1.21957618e-01, 1.61036360e-01,\n",
       "        7.18815739e-01, 1.34283507e-01, 9.50475003e-02, 6.79060221e-04,\n",
       "        1.30520436e-02, 1.28325214e-01, 4.74487126e-01, 2.80285257e-01,\n",
       "        4.29699917e-01, 2.51700884e-02, 4.05146780e-01, 2.02646727e-01,\n",
       "        4.08385958e-03, 4.50307648e-01, 4.93581779e-01, 5.63778117e-02,\n",
       "        1.68829772e-01, 3.30121796e-02, 8.14029201e-02, 1.73112693e-01,\n",
       "        4.64764036e-01, 4.58020265e-01, 1.91015700e-01, 1.10874736e-01,\n",
       "        2.21199693e-02, 9.83143293e-02, 1.98084938e-01, 3.28842175e-01,\n",
       "        2.30724310e-01, 1.15436216e-01, 1.94041108e-01, 1.11117973e-01,\n",
       "        1.87191727e-01, 1.21347856e-02, 4.55025846e-01, 1.71524485e-02,\n",
       "        3.90587549e-01, 6.47822490e-01, 1.34745188e-01, 1.12536214e-01,\n",
       "        8.83452476e-02, 5.39207137e-01, 5.05262956e-02, 3.35543866e-01,\n",
       "        4.46217154e-01, 2.09899040e-01, 3.54052978e-01, 1.61349805e-01,\n",
       "        8.36117150e-02, 2.72530786e-03, 1.80793953e-01, 3.66360156e-02,\n",
       "        3.79814852e-01, 1.85546832e-01, 8.88910985e-02, 2.63019033e-01,\n",
       "        2.67586710e-01, 2.39169832e-01, 5.37306571e-01, 2.39447512e-01,\n",
       "        7.77231744e-03, 2.25184297e-01, 2.47645197e-01, 4.23586187e-01,\n",
       "        6.25423795e-02, 5.39931543e-02, 2.92868344e-01, 1.54196621e-01,\n",
       "        4.61548552e-02, 2.21430641e-01, 2.58746078e-02, 3.76562782e-01,\n",
       "        4.00408745e-01, 1.79620524e-01, 3.34237560e-01, 9.20346442e-02,\n",
       "...\n",
       "        7.44466552e-02, 2.62944322e-01, 1.45504456e-01, 1.12602710e-01,\n",
       "        2.86095225e-02, 1.77409077e-01, 5.83683313e-01, 9.65186952e-03,\n",
       "        3.33327170e-01, 6.15122375e-01, 1.16060140e-01, 2.02037783e-01,\n",
       "        1.16319624e-01, 1.47610358e-01, 3.02971168e-02, 2.40944168e-01,\n",
       "        1.07582613e-02, 2.51596177e-01, 1.89506765e-01, 1.12923670e-01,\n",
       "        1.79623879e-01, 2.56085143e-01, 1.68511426e-01, 4.07723542e-01,\n",
       "        2.66819145e-01, 4.74648634e-01, 8.54170326e-02, 2.04370987e-01,\n",
       "        1.72776421e-01, 1.84177057e-01, 3.61762020e-01, 1.71042734e-02,\n",
       "        2.70154902e-01, 4.45251294e-01, 3.08594970e-01, 1.28603931e-01,\n",
       "        3.66555802e-01, 1.40105861e-01, 1.55274392e-02, 3.57818321e-01,\n",
       "        2.12521969e-01, 5.20120787e-01, 1.37245217e-01, 3.42303297e-01,\n",
       "        6.08070795e-01, 1.38353656e-01, 1.07950503e-01, 3.70480370e-02,\n",
       "        2.19705677e-01, 1.50966220e-01, 1.33646601e-01, 6.42132968e-02,\n",
       "        8.48229392e-02, 2.00072005e-01, 3.22921632e-01, 2.31463567e-01,\n",
       "        3.44834607e-01, 4.77934906e-01, 5.13660991e-01, 1.14956000e-01,\n",
       "        1.69149629e-02, 4.02847679e-01, 6.39827188e-02, 1.73886898e-01,\n",
       "        5.04651409e-01, 1.28106612e-01, 1.97170377e-01, 2.58173151e-01,\n",
       "        1.82970864e-01, 3.46471835e-01, 1.10225111e-01, 1.93612759e-01,\n",
       "        9.88237830e-02, 5.37749433e-02, 2.15449982e-01, 3.23543269e-01,\n",
       "        2.84853352e-01, 3.09688144e-01, 2.01032742e-01, 5.18311485e-02]])</pre></div></li><li class='xr-var-item'><div class='xr-var-name'><span>var_raw_offset</span></div><div class='xr-var-dims'>(chain, draw, channel)</div><div class='xr-var-dtype'>float64</div><div class='xr-var-preview xr-preview'>2.892 0.1708 ... -0.1431 -1.692</div><input id='attrs-0f84774f-21b3-4900-9115-b357dd9f8541' class='xr-var-attrs-in' type='checkbox' disabled><label for='attrs-0f84774f-21b3-4900-9115-b357dd9f8541' title='Show/Hide attributes'><svg class='icon xr-icon-file-text2'><use xlink:href='#icon-file-text2'></use></svg></label><input id='data-c5951592-77f8-48a3-a0b3-83b9367f4f86' class='xr-var-data-in' type='checkbox'><label for='data-c5951592-77f8-48a3-a0b3-83b9367f4f86' title='Show/Hide data repr'><svg class='icon xr-icon-database'><use xlink:href='#icon-database'></use></svg></label><div class='xr-var-attrs'><dl class='xr-attrs'></dl></div><div class='xr-var-data'><pre>array([[[ 2.89186722e+00,  1.70797222e-01],\n",
       "        [-1.83822609e+00, -3.97862839e-01],\n",
       "        [ 2.07654737e-01,  2.56239857e+00],\n",
       "        [ 8.67560355e-01, -2.33718803e+00],\n",
       "        [-1.70309597e+00, -3.89583419e-01],\n",
       "        [ 5.37907357e-01,  2.97691134e-02],\n",
       "        [ 5.44234317e-01,  1.11971077e+00],\n",
       "        [-1.61327613e+00, -3.94275210e-01],\n",
       "        [-1.07475145e+00, -8.13606844e-01],\n",
       "        [ 9.54037473e-02, -6.07479829e-01],\n",
       "        [ 1.34807375e+00,  5.56791364e-01],\n",
       "        [-1.31764284e+00,  1.14289580e+00],\n",
       "        [ 7.51225735e-01,  9.72170116e-01],\n",
       "        [ 1.66556190e+00, -3.14843436e-01],\n",
       "        [-2.12479858e-01,  1.83596713e+00],\n",
       "        [-1.26094659e+00, -9.10893678e-02],\n",
       "        [ 9.91405258e-01,  2.32777445e-01],\n",
       "        [-2.18000122e-01, -4.83658458e-02],\n",
       "        [-2.31156092e+00, -5.00914392e-01],\n",
       "        [ 2.76730064e-01, -1.49764100e+00],\n",
       "...\n",
       "        [-5.46785276e-01,  1.66689490e+00],\n",
       "        [-4.51188396e-01,  2.04492782e+00],\n",
       "        [ 2.06926559e-01,  3.61906596e-01],\n",
       "        [ 4.23989368e-01,  8.84294344e-02],\n",
       "        [-2.13549895e-01, -1.26953131e+00],\n",
       "        [-6.39781259e-01,  1.09147477e+00],\n",
       "        [-1.07342039e-01,  6.23943055e-01],\n",
       "        [-1.02620765e+00,  8.94315984e-01],\n",
       "        [-1.62679086e+00,  1.66366847e-01],\n",
       "        [-1.62747957e+00, -1.75762476e+00],\n",
       "        [ 8.22068690e-01, -4.88019173e-01],\n",
       "        [ 4.28424018e-01, -9.85378172e-01],\n",
       "        [-3.63898866e-01, -7.75865211e-01],\n",
       "        [-7.08939356e-01,  7.38739350e-01],\n",
       "        [ 1.46656521e+00, -2.69571026e-01],\n",
       "        [-7.37304410e-01,  4.22513902e-01],\n",
       "        [-4.58100900e-01, -3.01569267e-01],\n",
       "        [ 4.77374053e-02, -4.49950747e-01],\n",
       "        [-5.32583910e-01, -1.17648102e+00],\n",
       "        [-1.43126112e-01, -1.69182115e+00]]])</pre></div></li></ul></div></li><li class='xr-section-item'><input id='section-08948507-0fd1-4b46-b7bc-7359253dce81' class='xr-section-summary-in' type='checkbox'  ><label for='section-08948507-0fd1-4b46-b7bc-7359253dce81' class='xr-section-summary' >Indexes: <span>(3)</span></label><div class='xr-section-inline-details'></div><div class='xr-section-details'><ul class='xr-var-list'><li class='xr-var-item'><div class='xr-index-name'><div>chain</div></div><div class='xr-index-preview'>PandasIndex</div><div></div><input id='index-967749f4-150e-47fd-992b-f6e349712bda' class='xr-index-data-in' type='checkbox'/><label for='index-967749f4-150e-47fd-992b-f6e349712bda' title='Show/Hide index repr'><svg class='icon xr-icon-database'><use xlink:href='#icon-database'></use></svg></label><div class='xr-index-data'><pre>PandasIndex(Index([0], dtype=&#x27;int64&#x27;, name=&#x27;chain&#x27;))</pre></div></li><li class='xr-var-item'><div class='xr-index-name'><div>draw</div></div><div class='xr-index-preview'>PandasIndex</div><div></div><input id='index-7e5cc8d3-29ee-4586-88ce-d580c41f38ff' class='xr-index-data-in' type='checkbox'/><label for='index-7e5cc8d3-29ee-4586-88ce-d580c41f38ff' title='Show/Hide index repr'><svg class='icon xr-icon-database'><use xlink:href='#icon-database'></use></svg></label><div class='xr-index-data'><pre>PandasIndex(Index([  0,   1,   2,   3,   4,   5,   6,   7,   8,   9,\n",
       "       ...\n",
       "       490, 491, 492, 493, 494, 495, 496, 497, 498, 499],\n",
       "      dtype=&#x27;int64&#x27;, name=&#x27;draw&#x27;, length=500))</pre></div></li><li class='xr-var-item'><div class='xr-index-name'><div>channel</div></div><div class='xr-index-preview'>PandasIndex</div><div></div><input id='index-f97bf245-8b64-4d91-b663-c837c88a379c' class='xr-index-data-in' type='checkbox'/><label for='index-f97bf245-8b64-4d91-b663-c837c88a379c' title='Show/Hide index repr'><svg class='icon xr-icon-database'><use xlink:href='#icon-database'></use></svg></label><div class='xr-index-data'><pre>PandasIndex(Index([&#x27;C1&#x27;, &#x27;C2&#x27;], dtype=&#x27;object&#x27;, name=&#x27;channel&#x27;))</pre></div></li></ul></div></li><li class='xr-section-item'><input id='section-537d6836-33be-4bba-a4b3-a080d7c0daab' class='xr-section-summary-in' type='checkbox'  checked><label for='section-537d6836-33be-4bba-a4b3-a080d7c0daab' class='xr-section-summary' >Attributes: <span>(4)</span></label><div class='xr-section-inline-details'></div><div class='xr-section-details'><dl class='xr-attrs'><dt><span>created_at :</span></dt><dd>2024-06-21T09:02:30.435271</dd><dt><span>arviz_version :</span></dt><dd>0.17.0</dd><dt><span>inference_library :</span></dt><dd>pymc</dd><dt><span>inference_library_version :</span></dt><dd>5.14.0</dd></dl></div></li></ul></div></div>"
      ],
      "text/plain": [
       "<xarray.Dataset> Size: 36kB\n",
       "Dimensions:         (chain: 1, draw: 500, channel: 2)\n",
       "Coordinates:\n",
       "  * chain           (chain) int64 8B 0\n",
       "  * draw            (draw) int64 4kB 0 1 2 3 4 5 6 ... 494 495 496 497 498 499\n",
       "  * channel         (channel) <U2 16B 'C1' 'C2'\n",
       "Data variables:\n",
       "    var_raw_mu      (chain, draw) float64 4kB -1.203 -0.5095 ... 2.034 0.4014\n",
       "    var_raw         (chain, draw, channel) float64 8kB -0.6256 -1.169 ... 0.3137\n",
       "    var             (chain, draw, channel) float64 8kB 0.3485 0.237 ... 0.5778\n",
       "    var_raw_sigma   (chain, draw) float64 4kB 0.1998 0.1987 ... 0.201 0.05183\n",
       "    var_raw_offset  (chain, draw, channel) float64 8kB 2.892 0.1708 ... -1.692\n",
       "Attributes:\n",
       "    created_at:                 2024-06-21T09:02:30.435271\n",
       "    arviz_version:              0.17.0\n",
       "    inference_library:          pymc\n",
       "    inference_library_version:  5.14.0"
      ]
     },
     "execution_count": 23,
     "metadata": {},
     "output_type": "execute_result"
    }
   ],
   "source": [
    "complicated_distribution = Prior(\n",
    "    \"Normal\",\n",
    "    mu=Prior(\"Normal\", sigma=1),\n",
    "    sigma=Prior(\"HalfNormal\", sigma=.25),\n",
    "   #sigma=Prior(\"Normal\", sigma=0.0, transform=\"exp\"),\n",
    "    centered=False,\n",
    "    dims=\"channel\",\n",
    "    transform=\"sigmoid\",\n",
    ")\n",
    "\n",
    "coords = {\n",
    "    \"channel\": [\"C1\", \"C2\"],\n",
    "}\n",
    "prior = complicated_distribution.sample_prior(coords=coords)\n",
    "prior"
   ]
  },
  {
   "cell_type": "markdown",
   "id": "876f6d5e-9131-4077-b7cd-a8e0000d2dea",
   "metadata": {},
   "source": [
    "The prior variables can be visualized in whatever way works best. Here is a histogram of the variables."
   ]
  },
  {
   "cell_type": "code",
   "execution_count": 24,
   "id": "d8d05215-bbdb-4340-ada1-645a3eae665a",
   "metadata": {
    "scrolled": true
   },
   "outputs": [
    {
     "data": {
      "image/png": "[encoded data removed]",
      "text/plain": [
       "<Figure size 1200x700 with 2 Axes>"
      ]
     },
     "metadata": {},
     "output_type": "display_data"
    }
   ],
   "source": [
    "bins = np.arange(0, 1.1, 0.1)\n",
    "prior[\"var\"].to_series().unstack().hist(bins=bins, edgecolor=\"black\")\n",
    "plt.gcf().suptitle(\"Marginal distributions of the two channels\");"
   ]
  },
  {
   "cell_type": "markdown",
   "id": "22c8037e-4168-443b-b1b5-150d73dd4129",
   "metadata": {},
   "source": [
    "Use any workflow to make sense of the prior distribution! For instance, the correlation between two of these channels."
   ]
  },
  {
   "cell_type": "code",
   "execution_count": 25,
   "id": "c9911821-e9c3-4607-b53e-78c086c6a89c",
   "metadata": {},
   "outputs": [
    {
     "data": {
      "image/png": "[encoded data removed]",
      "text/plain": [
       "<Figure size 1200x700 with 1 Axes>"
      ]
     },
     "metadata": {},
     "output_type": "display_data"
    }
   ],
   "source": [
    "def plot_correlation(df: pd.DataFrame, x: str = \"C1\", y: str = \"C2\") -> plt.Axes:\n",
    "    corr = df.loc[:, [x, y]].corr().iloc[0, 1]\n",
    "    title = f\"Joint distribution between {x} and {y}. ({corr = :.3f})\"\n",
    "    return df.plot.scatter(x=x, y=y, title=title)\n",
    "\n",
    "\n",
    "ax = prior[\"var\"].to_series().unstack().pipe(plot_correlation)\n",
    "padding = 0.025\n",
    "bounds = (0 - padding, 1 + padding)\n",
    "ax.set(xlim=bounds, ylim=bounds);"
   ]
  },
  {
   "cell_type": "markdown",
   "id": "90a9d504-6118-4fb9-a21b-7e01d8e5b5e8",
   "metadata": {},
   "source": [
    "### Automatic Broadcasting\n",
    "\n",
    "The broadcasting of the dims will be handled automatically.\n",
    "\n",
    "For instance, the `mu` of the variable needs to be transposed in order to work with (\"channel\", \"geo\") dims.\n",
    "\n",
    "With all this functionality, we can see that the prior distributions can become quite expressive!"
   ]
  },
  {
   "cell_type": "code",
   "execution_count": 26,
   "id": "078a2501-0e82-4551-b01a-042450e36ddb",
   "metadata": {
    "scrolled": true
   },
   "outputs": [
    {
     "data": {
      "image/svg+xml": [
       "<?xml version=\"1.0\" encoding=\"UTF-8\" standalone=\"no\"?>\n",
       "<!DOCTYPE svg PUBLIC \"-//W3C//DTD SVG 1.1//EN\"\n",
       " \"http://www.w3.org/Graphics/SVG/1.1/DTD/svg11.dtd\">\n",
       "<!-- Generated by graphviz version 9.0.0 (20231125.0833)\n",
       " -->\n",
       "<!-- Pages: 1 -->\n",
       "<svg width=\"819pt\" height=\"524pt\"\n",
       " viewBox=\"0.00 0.00 819.42 524.50\" xmlns=\"http://www.w3.org/2000/svg\" xmlns:xlink=\"http://www.w3.org/1999/xlink\">\n",
       "<g id=\"graph0\" class=\"graph\" transform=\"scale(1 1) rotate(0) translate(4 520.5)\">\n",
       "<polygon fill=\"white\" stroke=\"none\" points=\"-4,4 -4,-520.5 815.42,-520.5 815.42,4 -4,4\"/>\n",
       "<g id=\"clust1\" class=\"cluster\">\n",
       "<title>clusterchannel (1)</title>\n",
       "<path fill=\"none\" stroke=\"black\" d=\"M526.3,-141.75C526.3,-141.75 616.3,-141.75 616.3,-141.75 622.3,-141.75 628.3,-147.75 628.3,-153.75 628.3,-153.75 628.3,-255.5 628.3,-255.5 628.3,-261.5 622.3,-267.5 616.3,-267.5 616.3,-267.5 526.3,-267.5 526.3,-267.5 520.3,-267.5 514.3,-261.5 514.3,-255.5 514.3,-255.5 514.3,-153.75 514.3,-153.75 514.3,-147.75 520.3,-141.75 526.3,-141.75\"/>\n",
       "<text text-anchor=\"middle\" x=\"580.55\" y=\"-149.7\" font-family=\"Times,serif\" font-size=\"14.00\">channel (1)</text>\n",
       "</g>\n",
       "<g id=\"clust2\" class=\"cluster\">\n",
       "<title>clustergeo (1)</title>\n",
       "<path fill=\"none\" stroke=\"black\" d=\"M236.3,-154.12C236.3,-154.12 468.3,-154.12 468.3,-154.12 474.3,-154.12 480.3,-160.12 480.3,-166.12 480.3,-166.12 480.3,-496.5 480.3,-496.5 480.3,-502.5 474.3,-508.5 468.3,-508.5 468.3,-508.5 236.3,-508.5 236.3,-508.5 230.3,-508.5 224.3,-502.5 224.3,-496.5 224.3,-496.5 224.3,-166.12 224.3,-166.12 224.3,-160.12 230.3,-154.12 236.3,-154.12\"/>\n",
       "<text text-anchor=\"middle\" x=\"447.55\" y=\"-162.07\" font-family=\"Times,serif\" font-size=\"14.00\">geo (1)</text>\n",
       "</g>\n",
       "<g id=\"clust3\" class=\"cluster\">\n",
       "<title>clusterchannel (1) x geo (1)</title>\n",
       "<path fill=\"none\" stroke=\"black\" d=\"M427.3,-8C427.3,-8 565.3,-8 565.3,-8 571.3,-8 577.3,-14 577.3,-20 577.3,-20 577.3,-121.75 577.3,-121.75 577.3,-127.75 571.3,-133.75 565.3,-133.75 565.3,-133.75 427.3,-133.75 427.3,-133.75 421.3,-133.75 415.3,-127.75 415.3,-121.75 415.3,-121.75 415.3,-20 415.3,-20 415.3,-14 421.3,-8 427.3,-8\"/>\n",
       "<text text-anchor=\"middle\" x=\"496.18\" y=\"-15.95\" font-family=\"Times,serif\" font-size=\"14.00\">channel (1) x geo (1)</text>\n",
       "</g>\n",
       "<!-- var_sigma_raw_mu -->\n",
       "<g id=\"node1\" class=\"node\">\n",
       "<title>var_sigma_raw_mu</title>\n",
       "<ellipse fill=\"none\" stroke=\"black\" cx=\"107.3\" cy=\"-458.25\" rx=\"107.3\" ry=\"42.25\"/>\n",
       "<text text-anchor=\"middle\" x=\"107.3\" y=\"-470.82\" font-family=\"Times,serif\" font-size=\"14.00\">var_sigma_raw_mu</text>\n",
       "<text text-anchor=\"middle\" x=\"107.3\" y=\"-453.57\" font-family=\"Times,serif\" font-size=\"14.00\">~</text>\n",
       "<text text-anchor=\"middle\" x=\"107.3\" y=\"-436.32\" font-family=\"Times,serif\" font-size=\"14.00\">Normal</text>\n",
       "</g>\n",
       "<!-- var_sigma_raw -->\n",
       "<g id=\"node8\" class=\"node\">\n",
       "<title>var_sigma_raw</title>\n",
       "<polygon fill=\"none\" stroke=\"black\" points=\"429.55,-367.62 307.05,-367.62 307.05,-307.87 429.55,-307.87 429.55,-367.62\"/>\n",
       "<text text-anchor=\"middle\" x=\"368.3\" y=\"-350.32\" font-family=\"Times,serif\" font-size=\"14.00\">var_sigma_raw</text>\n",
       "<text text-anchor=\"middle\" x=\"368.3\" y=\"-333.07\" font-family=\"Times,serif\" font-size=\"14.00\">~</text>\n",
       "<text text-anchor=\"middle\" x=\"368.3\" y=\"-315.82\" font-family=\"Times,serif\" font-size=\"14.00\">Deterministic</text>\n",
       "</g>\n",
       "<!-- var_sigma_raw_mu&#45;&gt;var_sigma_raw -->\n",
       "<g id=\"edge5\" class=\"edge\">\n",
       "<title>var_sigma_raw_mu&#45;&gt;var_sigma_raw</title>\n",
       "<path fill=\"none\" stroke=\"black\" d=\"M176.9,-425.65C213.9,-408.85 259.31,-388.24 296.61,-371.3\"/>\n",
       "<polygon fill=\"black\" stroke=\"black\" points=\"297.87,-374.57 305.52,-367.25 294.97,-368.2 297.87,-374.57\"/>\n",
       "</g>\n",
       "<!-- var_sigma_raw_sigma -->\n",
       "<g id=\"node2\" class=\"node\">\n",
       "<title>var_sigma_raw_sigma</title>\n",
       "<ellipse fill=\"none\" stroke=\"black\" cx=\"611.3\" cy=\"-458.25\" rx=\"121.62\" ry=\"42.25\"/>\n",
       "<text text-anchor=\"middle\" x=\"611.3\" y=\"-470.82\" font-family=\"Times,serif\" font-size=\"14.00\">var_sigma_raw_sigma</text>\n",
       "<text text-anchor=\"middle\" x=\"611.3\" y=\"-453.57\" font-family=\"Times,serif\" font-size=\"14.00\">~</text>\n",
       "<text text-anchor=\"middle\" x=\"611.3\" y=\"-436.32\" font-family=\"Times,serif\" font-size=\"14.00\">HalfNormal</text>\n",
       "</g>\n",
       "<!-- var_sigma_raw_sigma&#45;&gt;var_sigma_raw -->\n",
       "<g id=\"edge3\" class=\"edge\">\n",
       "<title>var_sigma_raw_sigma&#45;&gt;var_sigma_raw</title>\n",
       "<path fill=\"none\" stroke=\"black\" d=\"M541.67,-423.29C509.4,-407.55 471.12,-388.89 438.75,-373.1\"/>\n",
       "<polygon fill=\"black\" stroke=\"black\" points=\"440.35,-369.99 429.82,-368.75 437.28,-376.28 440.35,-369.99\"/>\n",
       "</g>\n",
       "<!-- var_mu_sigma -->\n",
       "<g id=\"node3\" class=\"node\">\n",
       "<title>var_mu_sigma</title>\n",
       "<ellipse fill=\"none\" stroke=\"black\" cx=\"571.3\" cy=\"-337.75\" rx=\"83.44\" ry=\"42.25\"/>\n",
       "<text text-anchor=\"middle\" x=\"571.3\" y=\"-350.32\" font-family=\"Times,serif\" font-size=\"14.00\">var_mu_sigma</text>\n",
       "<text text-anchor=\"middle\" x=\"571.3\" y=\"-333.07\" font-family=\"Times,serif\" font-size=\"14.00\">~</text>\n",
       "<text text-anchor=\"middle\" x=\"571.3\" y=\"-315.82\" font-family=\"Times,serif\" font-size=\"14.00\">HalfNormal</text>\n",
       "</g>\n",
       "<!-- var_mu -->\n",
       "<g id=\"node5\" class=\"node\">\n",
       "<title>var_mu</title>\n",
       "<ellipse fill=\"none\" stroke=\"black\" cx=\"571.3\" cy=\"-217.25\" rx=\"48.97\" ry=\"42.25\"/>\n",
       "<text text-anchor=\"middle\" x=\"571.3\" y=\"-229.82\" font-family=\"Times,serif\" font-size=\"14.00\">var_mu</text>\n",
       "<text text-anchor=\"middle\" x=\"571.3\" y=\"-212.57\" font-family=\"Times,serif\" font-size=\"14.00\">~</text>\n",
       "<text text-anchor=\"middle\" x=\"571.3\" y=\"-195.32\" font-family=\"Times,serif\" font-size=\"14.00\">Normal</text>\n",
       "</g>\n",
       "<!-- var_mu_sigma&#45;&gt;var_mu -->\n",
       "<g id=\"edge1\" class=\"edge\">\n",
       "<title>var_mu_sigma&#45;&gt;var_mu</title>\n",
       "<path fill=\"none\" stroke=\"black\" d=\"M571.3,-295.3C571.3,-287.5 571.3,-279.24 571.3,-271.15\"/>\n",
       "<polygon fill=\"black\" stroke=\"black\" points=\"574.8,-271.38 571.3,-261.38 567.8,-271.38 574.8,-271.38\"/>\n",
       "</g>\n",
       "<!-- var_mu_mu -->\n",
       "<g id=\"node4\" class=\"node\">\n",
       "<title>var_mu_mu</title>\n",
       "<ellipse fill=\"none\" stroke=\"black\" cx=\"742.3\" cy=\"-337.75\" rx=\"69.12\" ry=\"42.25\"/>\n",
       "<text text-anchor=\"middle\" x=\"742.3\" y=\"-350.32\" font-family=\"Times,serif\" font-size=\"14.00\">var_mu_mu</text>\n",
       "<text text-anchor=\"middle\" x=\"742.3\" y=\"-333.07\" font-family=\"Times,serif\" font-size=\"14.00\">~</text>\n",
       "<text text-anchor=\"middle\" x=\"742.3\" y=\"-315.82\" font-family=\"Times,serif\" font-size=\"14.00\">Normal</text>\n",
       "</g>\n",
       "<!-- var_mu_mu&#45;&gt;var_mu -->\n",
       "<g id=\"edge2\" class=\"edge\">\n",
       "<title>var_mu_mu&#45;&gt;var_mu</title>\n",
       "<path fill=\"none\" stroke=\"black\" d=\"M697.38,-305.61C673.07,-288.77 643.07,-267.98 618.43,-250.91\"/>\n",
       "<polygon fill=\"black\" stroke=\"black\" points=\"620.73,-248.24 610.52,-245.43 616.75,-254 620.73,-248.24\"/>\n",
       "</g>\n",
       "<!-- var -->\n",
       "<g id=\"node9\" class=\"node\">\n",
       "<title>var</title>\n",
       "<ellipse fill=\"none\" stroke=\"black\" cx=\"496.3\" cy=\"-83.5\" rx=\"48.97\" ry=\"42.25\"/>\n",
       "<text text-anchor=\"middle\" x=\"496.3\" y=\"-96.07\" font-family=\"Times,serif\" font-size=\"14.00\">var</text>\n",
       "<text text-anchor=\"middle\" x=\"496.3\" y=\"-78.82\" font-family=\"Times,serif\" font-size=\"14.00\">~</text>\n",
       "<text text-anchor=\"middle\" x=\"496.3\" y=\"-61.57\" font-family=\"Times,serif\" font-size=\"14.00\">Normal</text>\n",
       "</g>\n",
       "<!-- var_mu&#45;&gt;var -->\n",
       "<g id=\"edge8\" class=\"edge\">\n",
       "<title>var_mu&#45;&gt;var</title>\n",
       "<path fill=\"none\" stroke=\"black\" d=\"M550.01,-178.85C541.7,-164.24 532.07,-147.33 523.28,-131.89\"/>\n",
       "<polygon fill=\"black\" stroke=\"black\" points=\"526.39,-130.27 518.4,-123.31 520.3,-133.73 526.39,-130.27\"/>\n",
       "</g>\n",
       "<!-- var_sigma -->\n",
       "<g id=\"node6\" class=\"node\">\n",
       "<title>var_sigma</title>\n",
       "<polygon fill=\"none\" stroke=\"black\" points=\"456.05,-247.12 342.55,-247.12 342.55,-187.37 456.05,-187.37 456.05,-247.12\"/>\n",
       "<text text-anchor=\"middle\" x=\"399.3\" y=\"-229.82\" font-family=\"Times,serif\" font-size=\"14.00\">var_sigma</text>\n",
       "<text text-anchor=\"middle\" x=\"399.3\" y=\"-212.57\" font-family=\"Times,serif\" font-size=\"14.00\">~</text>\n",
       "<text text-anchor=\"middle\" x=\"399.3\" y=\"-195.32\" font-family=\"Times,serif\" font-size=\"14.00\">Deterministic</text>\n",
       "</g>\n",
       "<!-- var_sigma&#45;&gt;var -->\n",
       "<g id=\"edge7\" class=\"edge\">\n",
       "<title>var_sigma&#45;&gt;var</title>\n",
       "<path fill=\"none\" stroke=\"black\" d=\"M420.83,-187.01C433.4,-169.94 449.51,-148.06 463.61,-128.9\"/>\n",
       "<polygon fill=\"black\" stroke=\"black\" points=\"466.35,-131.09 469.46,-120.97 460.71,-126.94 466.35,-131.09\"/>\n",
       "</g>\n",
       "<!-- var_sigma_raw_offset -->\n",
       "<g id=\"node7\" class=\"node\">\n",
       "<title>var_sigma_raw_offset</title>\n",
       "<ellipse fill=\"none\" stroke=\"black\" cx=\"352.3\" cy=\"-458.25\" rx=\"119.5\" ry=\"42.25\"/>\n",
       "<text text-anchor=\"middle\" x=\"352.3\" y=\"-470.82\" font-family=\"Times,serif\" font-size=\"14.00\">var_sigma_raw_offset</text>\n",
       "<text text-anchor=\"middle\" x=\"352.3\" y=\"-453.57\" font-family=\"Times,serif\" font-size=\"14.00\">~</text>\n",
       "<text text-anchor=\"middle\" x=\"352.3\" y=\"-436.32\" font-family=\"Times,serif\" font-size=\"14.00\">Normal</text>\n",
       "</g>\n",
       "<!-- var_sigma_raw_offset&#45;&gt;var_sigma_raw -->\n",
       "<g id=\"edge4\" class=\"edge\">\n",
       "<title>var_sigma_raw_offset&#45;&gt;var_sigma_raw</title>\n",
       "<path fill=\"none\" stroke=\"black\" d=\"M357.9,-415.8C359.49,-403.99 361.23,-391.13 362.82,-379.37\"/>\n",
       "<polygon fill=\"black\" stroke=\"black\" points=\"366.27,-379.93 364.14,-369.55 359.34,-378.99 366.27,-379.93\"/>\n",
       "</g>\n",
       "<!-- var_sigma_raw&#45;&gt;var_sigma -->\n",
       "<g id=\"edge6\" class=\"edge\">\n",
       "<title>var_sigma_raw&#45;&gt;var_sigma</title>\n",
       "<path fill=\"none\" stroke=\"black\" d=\"M375.97,-307.46C379.84,-292.64 384.6,-274.44 388.81,-258.35\"/>\n",
       "<polygon fill=\"black\" stroke=\"black\" points=\"392.09,-259.64 391.24,-249.08 385.32,-257.87 392.09,-259.64\"/>\n",
       "</g>\n",
       "</g>\n",
       "</svg>\n"
      ],
      "text/plain": [
       "<graphviz.graphs.Digraph at 0x7f0c47c71750>"
      ]
     },
     "execution_count": 26,
     "metadata": {},
     "output_type": "execute_result"
    }
   ],
   "source": [
    "def create_2d_variable(mu_dims, sigma_dims) -> Prior:\n",
    "    mu = Prior(\n",
    "        \"Normal\",\n",
    "        mu=Prior(\"Normal\"),\n",
    "        sigma=Prior(\"HalfNormal\"),\n",
    "        dims=mu_dims,\n",
    "    )\n",
    "    sigma = Prior(\n",
    "        \"Normal\",\n",
    "        mu=Prior(\"Normal\"),\n",
    "        sigma=Prior(\"HalfNormal\"),\n",
    "        centered=False,\n",
    "        dims=sigma_dims,\n",
    "        transform=\"exp\",\n",
    "    )\n",
    "    return Prior(\n",
    "        \"Normal\",\n",
    "        mu=mu,\n",
    "        sigma=sigma,\n",
    "        dims=(\"channel\", \"geo\"),\n",
    "    )\n",
    "\n",
    "\n",
    "variable_2d = create_2d_variable(mu_dims=\"channel\", sigma_dims=\"geo\")\n",
    "variable_2d.graph()"
   ]
  },
  {
   "cell_type": "markdown",
   "id": "e018082e-23fb-48ab-ac69-e506a8fe9d9b",
   "metadata": {},
   "source": [
    "And the user can spend more time thinking about just the assumptions of the variables rather than logic to ensure the dimensions work."
   ]
  },
  {
   "cell_type": "code",
   "execution_count": 27,
   "id": "e0bdf8b8-34b7-4918-8106-2203b7db6152",
   "metadata": {},
   "outputs": [
    {
     "data": {
      "image/svg+xml": [
       "<?xml version=\"1.0\" encoding=\"UTF-8\" standalone=\"no\"?>\n",
       "<!DOCTYPE svg PUBLIC \"-//W3C//DTD SVG 1.1//EN\"\n",
       " \"http://www.w3.org/Graphics/SVG/1.1/DTD/svg11.dtd\">\n",
       "<!-- Generated by graphviz version 9.0.0 (20231125.0833)\n",
       " -->\n",
       "<!-- Pages: 1 -->\n",
       "<svg width=\"961pt\" height=\"579pt\"\n",
       " viewBox=\"0.00 0.00 961.42 579.50\" xmlns=\"http://www.w3.org/2000/svg\" xmlns:xlink=\"http://www.w3.org/1999/xlink\">\n",
       "<g id=\"graph0\" class=\"graph\" transform=\"scale(1 1) rotate(0) translate(4 575.5)\">\n",
       "<polygon fill=\"white\" stroke=\"none\" points=\"-4,4 -4,-575.5 957.42,-575.5 957.42,4 -4,4\"/>\n",
       "<g id=\"clust1\" class=\"cluster\">\n",
       "<title>clusterchannel (1)</title>\n",
       "<path fill=\"none\" stroke=\"black\" d=\"M497.3,-141.75C497.3,-141.75 844.3,-141.75 844.3,-141.75 850.3,-141.75 856.3,-147.75 856.3,-153.75 856.3,-153.75 856.3,-447 856.3,-447 856.3,-453 850.3,-459 844.3,-459 844.3,-459 497.3,-459 497.3,-459 491.3,-459 485.3,-453 485.3,-447 485.3,-447 485.3,-153.75 485.3,-153.75 485.3,-147.75 491.3,-141.75 497.3,-141.75\"/>\n",
       "<text text-anchor=\"middle\" x=\"808.55\" y=\"-149.7\" font-family=\"Times,serif\" font-size=\"14.00\">channel (1)</text>\n",
       "</g>\n",
       "<g id=\"clust2\" class=\"cluster\">\n",
       "<title>clusterchannel (1) x geo (1)</title>\n",
       "<path fill=\"none\" stroke=\"black\" d=\"M627.3,-8C627.3,-8 765.3,-8 765.3,-8 771.3,-8 777.3,-14 777.3,-20 777.3,-20 777.3,-121.75 777.3,-121.75 777.3,-127.75 771.3,-133.75 765.3,-133.75 765.3,-133.75 627.3,-133.75 627.3,-133.75 621.3,-133.75 615.3,-127.75 615.3,-121.75 615.3,-121.75 615.3,-20 615.3,-20 615.3,-14 621.3,-8 627.3,-8\"/>\n",
       "<text text-anchor=\"middle\" x=\"696.18\" y=\"-15.95\" font-family=\"Times,serif\" font-size=\"14.00\">channel (1) x geo (1)</text>\n",
       "</g>\n",
       "<!-- var_sigma_raw_mu -->\n",
       "<g id=\"node1\" class=\"node\">\n",
       "<title>var_sigma_raw_mu</title>\n",
       "<ellipse fill=\"none\" stroke=\"black\" cx=\"107.3\" cy=\"-408.75\" rx=\"107.3\" ry=\"42.25\"/>\n",
       "<text text-anchor=\"middle\" x=\"107.3\" y=\"-421.32\" font-family=\"Times,serif\" font-size=\"14.00\">var_sigma_raw_mu</text>\n",
       "<text text-anchor=\"middle\" x=\"107.3\" y=\"-404.07\" font-family=\"Times,serif\" font-size=\"14.00\">~</text>\n",
       "<text text-anchor=\"middle\" x=\"107.3\" y=\"-386.82\" font-family=\"Times,serif\" font-size=\"14.00\">Normal</text>\n",
       "</g>\n",
       "<!-- var_sigma_raw -->\n",
       "<g id=\"node8\" class=\"node\">\n",
       "<title>var_sigma_raw</title>\n",
       "<polygon fill=\"none\" stroke=\"black\" points=\"644.55,-330.5 522.05,-330.5 522.05,-270.75 644.55,-270.75 644.55,-330.5\"/>\n",
       "<text text-anchor=\"middle\" x=\"583.3\" y=\"-313.2\" font-family=\"Times,serif\" font-size=\"14.00\">var_sigma_raw</text>\n",
       "<text text-anchor=\"middle\" x=\"583.3\" y=\"-295.95\" font-family=\"Times,serif\" font-size=\"14.00\">~</text>\n",
       "<text text-anchor=\"middle\" x=\"583.3\" y=\"-278.7\" font-family=\"Times,serif\" font-size=\"14.00\">Deterministic</text>\n",
       "</g>\n",
       "<!-- var_sigma_raw_mu&#45;&gt;var_sigma_raw -->\n",
       "<g id=\"edge5\" class=\"edge\">\n",
       "<title>var_sigma_raw_mu&#45;&gt;var_sigma_raw</title>\n",
       "<path fill=\"none\" stroke=\"black\" d=\"M183.5,-378.67C196.66,-374.22 210.29,-369.96 223.3,-366.5 321.32,-340.43 437.15,-321.64 510.42,-311.19\"/>\n",
       "<polygon fill=\"black\" stroke=\"black\" points=\"510.89,-314.66 520.31,-309.8 509.91,-307.73 510.89,-314.66\"/>\n",
       "</g>\n",
       "<!-- var_sigma_raw_sigma -->\n",
       "<g id=\"node2\" class=\"node\">\n",
       "<title>var_sigma_raw_sigma</title>\n",
       "<ellipse fill=\"none\" stroke=\"black\" cx=\"354.3\" cy=\"-408.75\" rx=\"121.62\" ry=\"42.25\"/>\n",
       "<text text-anchor=\"middle\" x=\"354.3\" y=\"-421.32\" font-family=\"Times,serif\" font-size=\"14.00\">var_sigma_raw_sigma</text>\n",
       "<text text-anchor=\"middle\" x=\"354.3\" y=\"-404.07\" font-family=\"Times,serif\" font-size=\"14.00\">~</text>\n",
       "<text text-anchor=\"middle\" x=\"354.3\" y=\"-386.82\" font-family=\"Times,serif\" font-size=\"14.00\">HalfNormal</text>\n",
       "</g>\n",
       "<!-- var_sigma_raw_sigma&#45;&gt;var_sigma_raw -->\n",
       "<g id=\"edge3\" class=\"edge\">\n",
       "<title>var_sigma_raw_sigma&#45;&gt;var_sigma_raw</title>\n",
       "<path fill=\"none\" stroke=\"black\" d=\"M426.45,-374.32C453.65,-361.71 484.56,-347.38 511.72,-334.8\"/>\n",
       "<polygon fill=\"black\" stroke=\"black\" points=\"512.95,-338.09 520.55,-330.71 510,-331.74 512.95,-338.09\"/>\n",
       "</g>\n",
       "<!-- var_mu_sigma -->\n",
       "<g id=\"node3\" class=\"node\">\n",
       "<title>var_mu_sigma</title>\n",
       "<ellipse fill=\"none\" stroke=\"black\" cx=\"713.3\" cy=\"-529.25\" rx=\"83.44\" ry=\"42.25\"/>\n",
       "<text text-anchor=\"middle\" x=\"713.3\" y=\"-541.82\" font-family=\"Times,serif\" font-size=\"14.00\">var_mu_sigma</text>\n",
       "<text text-anchor=\"middle\" x=\"713.3\" y=\"-524.57\" font-family=\"Times,serif\" font-size=\"14.00\">~</text>\n",
       "<text text-anchor=\"middle\" x=\"713.3\" y=\"-507.32\" font-family=\"Times,serif\" font-size=\"14.00\">HalfNormal</text>\n",
       "</g>\n",
       "<!-- var_mu -->\n",
       "<g id=\"node7\" class=\"node\">\n",
       "<title>var_mu</title>\n",
       "<ellipse fill=\"none\" stroke=\"black\" cx=\"799.3\" cy=\"-408.75\" rx=\"48.97\" ry=\"42.25\"/>\n",
       "<text text-anchor=\"middle\" x=\"799.3\" y=\"-421.32\" font-family=\"Times,serif\" font-size=\"14.00\">var_mu</text>\n",
       "<text text-anchor=\"middle\" x=\"799.3\" y=\"-404.07\" font-family=\"Times,serif\" font-size=\"14.00\">~</text>\n",
       "<text text-anchor=\"middle\" x=\"799.3\" y=\"-386.82\" font-family=\"Times,serif\" font-size=\"14.00\">Normal</text>\n",
       "</g>\n",
       "<!-- var_mu_sigma&#45;&gt;var_mu -->\n",
       "<g id=\"edge1\" class=\"edge\">\n",
       "<title>var_mu_sigma&#45;&gt;var_mu</title>\n",
       "<path fill=\"none\" stroke=\"black\" d=\"M741.7,-489.12C749.81,-477.95 758.7,-465.69 767.02,-454.23\"/>\n",
       "<polygon fill=\"black\" stroke=\"black\" points=\"769.62,-456.61 772.66,-446.46 763.95,-452.5 769.62,-456.61\"/>\n",
       "</g>\n",
       "<!-- var_mu_mu -->\n",
       "<g id=\"node4\" class=\"node\">\n",
       "<title>var_mu_mu</title>\n",
       "<ellipse fill=\"none\" stroke=\"black\" cx=\"884.3\" cy=\"-529.25\" rx=\"69.12\" ry=\"42.25\"/>\n",
       "<text text-anchor=\"middle\" x=\"884.3\" y=\"-541.82\" font-family=\"Times,serif\" font-size=\"14.00\">var_mu_mu</text>\n",
       "<text text-anchor=\"middle\" x=\"884.3\" y=\"-524.57\" font-family=\"Times,serif\" font-size=\"14.00\">~</text>\n",
       "<text text-anchor=\"middle\" x=\"884.3\" y=\"-507.32\" font-family=\"Times,serif\" font-size=\"14.00\">Normal</text>\n",
       "</g>\n",
       "<!-- var_mu_mu&#45;&gt;var_mu -->\n",
       "<g id=\"edge2\" class=\"edge\">\n",
       "<title>var_mu_mu&#45;&gt;var_mu</title>\n",
       "<path fill=\"none\" stroke=\"black\" d=\"M856.94,-490.1C848.75,-478.68 839.69,-466.05 831.23,-454.25\"/>\n",
       "<polygon fill=\"black\" stroke=\"black\" points=\"834.15,-452.32 825.48,-446.24 828.46,-456.4 834.15,-452.32\"/>\n",
       "</g>\n",
       "<!-- var_sigma -->\n",
       "<g id=\"node5\" class=\"node\">\n",
       "<title>var_sigma</title>\n",
       "<polygon fill=\"none\" stroke=\"black\" points=\"673.05,-234.75 559.55,-234.75 559.55,-175 673.05,-175 673.05,-234.75\"/>\n",
       "<text text-anchor=\"middle\" x=\"616.3\" y=\"-217.45\" font-family=\"Times,serif\" font-size=\"14.00\">var_sigma</text>\n",
       "<text text-anchor=\"middle\" x=\"616.3\" y=\"-200.2\" font-family=\"Times,serif\" font-size=\"14.00\">~</text>\n",
       "<text text-anchor=\"middle\" x=\"616.3\" y=\"-182.95\" font-family=\"Times,serif\" font-size=\"14.00\">Deterministic</text>\n",
       "</g>\n",
       "<!-- var -->\n",
       "<g id=\"node9\" class=\"node\">\n",
       "<title>var</title>\n",
       "<ellipse fill=\"none\" stroke=\"black\" cx=\"692.3\" cy=\"-83.5\" rx=\"48.97\" ry=\"42.25\"/>\n",
       "<text text-anchor=\"middle\" x=\"692.3\" y=\"-96.07\" font-family=\"Times,serif\" font-size=\"14.00\">var</text>\n",
       "<text text-anchor=\"middle\" x=\"692.3\" y=\"-78.82\" font-family=\"Times,serif\" font-size=\"14.00\">~</text>\n",
       "<text text-anchor=\"middle\" x=\"692.3\" y=\"-61.57\" font-family=\"Times,serif\" font-size=\"14.00\">Normal</text>\n",
       "</g>\n",
       "<!-- var_sigma&#45;&gt;var -->\n",
       "<g id=\"edge7\" class=\"edge\">\n",
       "<title>var_sigma&#45;&gt;var</title>\n",
       "<path fill=\"none\" stroke=\"black\" d=\"M634.9,-174.67C643.33,-161.42 653.51,-145.43 662.94,-130.62\"/>\n",
       "<polygon fill=\"black\" stroke=\"black\" points=\"665.77,-132.69 668.19,-122.37 659.87,-128.93 665.77,-132.69\"/>\n",
       "</g>\n",
       "<!-- var_sigma_raw_offset -->\n",
       "<g id=\"node6\" class=\"node\">\n",
       "<title>var_sigma_raw_offset</title>\n",
       "<ellipse fill=\"none\" stroke=\"black\" cx=\"613.3\" cy=\"-408.75\" rx=\"119.5\" ry=\"42.25\"/>\n",
       "<text text-anchor=\"middle\" x=\"613.3\" y=\"-421.32\" font-family=\"Times,serif\" font-size=\"14.00\">var_sigma_raw_offset</text>\n",
       "<text text-anchor=\"middle\" x=\"613.3\" y=\"-404.07\" font-family=\"Times,serif\" font-size=\"14.00\">~</text>\n",
       "<text text-anchor=\"middle\" x=\"613.3\" y=\"-386.82\" font-family=\"Times,serif\" font-size=\"14.00\">Normal</text>\n",
       "</g>\n",
       "<!-- var_sigma_raw_offset&#45;&gt;var_sigma_raw -->\n",
       "<g id=\"edge4\" class=\"edge\">\n",
       "<title>var_sigma_raw_offset&#45;&gt;var_sigma_raw</title>\n",
       "<path fill=\"none\" stroke=\"black\" d=\"M601.62,-366.41C599.34,-358.34 596.95,-349.89 594.68,-341.86\"/>\n",
       "<polygon fill=\"black\" stroke=\"black\" points=\"598.07,-340.99 591.98,-332.32 591.33,-342.9 598.07,-340.99\"/>\n",
       "</g>\n",
       "<!-- var_mu&#45;&gt;var -->\n",
       "<g id=\"edge8\" class=\"edge\">\n",
       "<title>var_mu&#45;&gt;var</title>\n",
       "<path fill=\"none\" stroke=\"black\" d=\"M786.08,-367.79C766.65,-309.11 730.41,-199.63 709.12,-135.31\"/>\n",
       "<polygon fill=\"black\" stroke=\"black\" points=\"712.53,-134.45 706.06,-126.06 705.88,-136.65 712.53,-134.45\"/>\n",
       "</g>\n",
       "<!-- var_sigma_raw&#45;&gt;var_sigma -->\n",
       "<g id=\"edge6\" class=\"edge\">\n",
       "<title>var_sigma_raw&#45;&gt;var_sigma</title>\n",
       "<path fill=\"none\" stroke=\"black\" d=\"M593.56,-270.48C596.33,-262.63 599.36,-254 602.29,-245.68\"/>\n",
       "<polygon fill=\"black\" stroke=\"black\" points=\"605.53,-247.03 605.55,-236.43 598.92,-244.7 605.53,-247.03\"/>\n",
       "</g>\n",
       "</g>\n",
       "</svg>\n"
      ],
      "text/plain": [
       "<graphviz.graphs.Digraph at 0x7f0c47ce3610>"
      ]
     },
     "execution_count": 27,
     "metadata": {},
     "output_type": "execute_result"
    }
   ],
   "source": [
    "different_assumptions_2d = create_2d_variable(mu_dims=\"channel\", sigma_dims=\"channel\")\n",
    "\n",
    "different_assumptions_2d.graph()"
   ]
  },
  {
   "cell_type": "markdown",
   "id": "6e01638c-5e10-4796-a76b-7fd3b1b1ac3c",
   "metadata": {},
   "source": [
    "### Serialization\n",
    "\n",
    "The `to_json` and `from_json` methods can be helpful for storage of the distributions."
   ]
  },
  {
   "cell_type": "code",
   "execution_count": 28,
   "id": "f34d2031-90f1-4c06-a0ab-2f3133cdb9c1",
   "metadata": {},
   "outputs": [
    {
     "data": {
      "text/plain": [
       "{'dist': 'Normal',\n",
       " 'kwargs': {'mu': {'dist': 'Normal',\n",
       "   'kwargs': {'mu': {'dist': 'Normal'}, 'sigma': {'dist': 'HalfNormal'}},\n",
       "   'dims': ('channel',)},\n",
       "  'sigma': {'dist': 'Normal',\n",
       "   'kwargs': {'mu': {'dist': 'Normal'}, 'sigma': {'dist': 'HalfNormal'}},\n",
       "   'centered': False,\n",
       "   'dims': ('geo',),\n",
       "   'transform': 'exp'}},\n",
       " 'dims': ('channel', 'geo')}"
      ]
     },
     "execution_count": 28,
     "metadata": {},
     "output_type": "execute_result"
    }
   ],
   "source": [
    "variable_2d_dict = variable_2d.to_json()\n",
    "variable_2d_dict"
   ]
  },
  {
   "cell_type": "code",
   "execution_count": 29,
   "id": "cd833a19-ef27-4701-8b8e-a41990bd5a10",
   "metadata": {
    "scrolled": true
   },
   "outputs": [
    {
     "data": {
      "image/svg+xml": [
       "<?xml version=\"1.0\" encoding=\"UTF-8\" standalone=\"no\"?>\n",
       "<!DOCTYPE svg PUBLIC \"-//W3C//DTD SVG 1.1//EN\"\n",
       " \"http://www.w3.org/Graphics/SVG/1.1/DTD/svg11.dtd\">\n",
       "<!-- Generated by graphviz version 9.0.0 (20231125.0833)\n",
       " -->\n",
       "<!-- Pages: 1 -->\n",
       "<svg width=\"819pt\" height=\"524pt\"\n",
       " viewBox=\"0.00 0.00 819.42 524.50\" xmlns=\"http://www.w3.org/2000/svg\" xmlns:xlink=\"http://www.w3.org/1999/xlink\">\n",
       "<g id=\"graph0\" class=\"graph\" transform=\"scale(1 1) rotate(0) translate(4 520.5)\">\n",
       "<polygon fill=\"white\" stroke=\"none\" points=\"-4,4 -4,-520.5 815.42,-520.5 815.42,4 -4,4\"/>\n",
       "<g id=\"clust1\" class=\"cluster\">\n",
       "<title>clusterchannel (1)</title>\n",
       "<path fill=\"none\" stroke=\"black\" d=\"M526.3,-141.75C526.3,-141.75 616.3,-141.75 616.3,-141.75 622.3,-141.75 628.3,-147.75 628.3,-153.75 628.3,-153.75 628.3,-255.5 628.3,-255.5 628.3,-261.5 622.3,-267.5 616.3,-267.5 616.3,-267.5 526.3,-267.5 526.3,-267.5 520.3,-267.5 514.3,-261.5 514.3,-255.5 514.3,-255.5 514.3,-153.75 514.3,-153.75 514.3,-147.75 520.3,-141.75 526.3,-141.75\"/>\n",
       "<text text-anchor=\"middle\" x=\"580.55\" y=\"-149.7\" font-family=\"Times,serif\" font-size=\"14.00\">channel (1)</text>\n",
       "</g>\n",
       "<g id=\"clust2\" class=\"cluster\">\n",
       "<title>clustergeo (1)</title>\n",
       "<path fill=\"none\" stroke=\"black\" d=\"M236.3,-154.12C236.3,-154.12 468.3,-154.12 468.3,-154.12 474.3,-154.12 480.3,-160.12 480.3,-166.12 480.3,-166.12 480.3,-496.5 480.3,-496.5 480.3,-502.5 474.3,-508.5 468.3,-508.5 468.3,-508.5 236.3,-508.5 236.3,-508.5 230.3,-508.5 224.3,-502.5 224.3,-496.5 224.3,-496.5 224.3,-166.12 224.3,-166.12 224.3,-160.12 230.3,-154.12 236.3,-154.12\"/>\n",
       "<text text-anchor=\"middle\" x=\"447.55\" y=\"-162.07\" font-family=\"Times,serif\" font-size=\"14.00\">geo (1)</text>\n",
       "</g>\n",
       "<g id=\"clust3\" class=\"cluster\">\n",
       "<title>clusterchannel (1) x geo (1)</title>\n",
       "<path fill=\"none\" stroke=\"black\" d=\"M427.3,-8C427.3,-8 565.3,-8 565.3,-8 571.3,-8 577.3,-14 577.3,-20 577.3,-20 577.3,-121.75 577.3,-121.75 577.3,-127.75 571.3,-133.75 565.3,-133.75 565.3,-133.75 427.3,-133.75 427.3,-133.75 421.3,-133.75 415.3,-127.75 415.3,-121.75 415.3,-121.75 415.3,-20 415.3,-20 415.3,-14 421.3,-8 427.3,-8\"/>\n",
       "<text text-anchor=\"middle\" x=\"496.18\" y=\"-15.95\" font-family=\"Times,serif\" font-size=\"14.00\">channel (1) x geo (1)</text>\n",
       "</g>\n",
       "<!-- var_sigma_raw_mu -->\n",
       "<g id=\"node1\" class=\"node\">\n",
       "<title>var_sigma_raw_mu</title>\n",
       "<ellipse fill=\"none\" stroke=\"black\" cx=\"107.3\" cy=\"-458.25\" rx=\"107.3\" ry=\"42.25\"/>\n",
       "<text text-anchor=\"middle\" x=\"107.3\" y=\"-470.82\" font-family=\"Times,serif\" font-size=\"14.00\">var_sigma_raw_mu</text>\n",
       "<text text-anchor=\"middle\" x=\"107.3\" y=\"-453.57\" font-family=\"Times,serif\" font-size=\"14.00\">~</text>\n",
       "<text text-anchor=\"middle\" x=\"107.3\" y=\"-436.32\" font-family=\"Times,serif\" font-size=\"14.00\">Normal</text>\n",
       "</g>\n",
       "<!-- var_sigma_raw -->\n",
       "<g id=\"node8\" class=\"node\">\n",
       "<title>var_sigma_raw</title>\n",
       "<polygon fill=\"none\" stroke=\"black\" points=\"429.55,-367.62 307.05,-367.62 307.05,-307.87 429.55,-307.87 429.55,-367.62\"/>\n",
       "<text text-anchor=\"middle\" x=\"368.3\" y=\"-350.32\" font-family=\"Times,serif\" font-size=\"14.00\">var_sigma_raw</text>\n",
       "<text text-anchor=\"middle\" x=\"368.3\" y=\"-333.07\" font-family=\"Times,serif\" font-size=\"14.00\">~</text>\n",
       "<text text-anchor=\"middle\" x=\"368.3\" y=\"-315.82\" font-family=\"Times,serif\" font-size=\"14.00\">Deterministic</text>\n",
       "</g>\n",
       "<!-- var_sigma_raw_mu&#45;&gt;var_sigma_raw -->\n",
       "<g id=\"edge5\" class=\"edge\">\n",
       "<title>var_sigma_raw_mu&#45;&gt;var_sigma_raw</title>\n",
       "<path fill=\"none\" stroke=\"black\" d=\"M176.9,-425.65C213.9,-408.85 259.31,-388.24 296.61,-371.3\"/>\n",
       "<polygon fill=\"black\" stroke=\"black\" points=\"297.87,-374.57 305.52,-367.25 294.97,-368.2 297.87,-374.57\"/>\n",
       "</g>\n",
       "<!-- var_sigma_raw_sigma -->\n",
       "<g id=\"node2\" class=\"node\">\n",
       "<title>var_sigma_raw_sigma</title>\n",
       "<ellipse fill=\"none\" stroke=\"black\" cx=\"611.3\" cy=\"-458.25\" rx=\"121.62\" ry=\"42.25\"/>\n",
       "<text text-anchor=\"middle\" x=\"611.3\" y=\"-470.82\" font-family=\"Times,serif\" font-size=\"14.00\">var_sigma_raw_sigma</text>\n",
       "<text text-anchor=\"middle\" x=\"611.3\" y=\"-453.57\" font-family=\"Times,serif\" font-size=\"14.00\">~</text>\n",
       "<text text-anchor=\"middle\" x=\"611.3\" y=\"-436.32\" font-family=\"Times,serif\" font-size=\"14.00\">HalfNormal</text>\n",
       "</g>\n",
       "<!-- var_sigma_raw_sigma&#45;&gt;var_sigma_raw -->\n",
       "<g id=\"edge3\" class=\"edge\">\n",
       "<title>var_sigma_raw_sigma&#45;&gt;var_sigma_raw</title>\n",
       "<path fill=\"none\" stroke=\"black\" d=\"M541.67,-423.29C509.4,-407.55 471.12,-388.89 438.75,-373.1\"/>\n",
       "<polygon fill=\"black\" stroke=\"black\" points=\"440.35,-369.99 429.82,-368.75 437.28,-376.28 440.35,-369.99\"/>\n",
       "</g>\n",
       "<!-- var_mu_sigma -->\n",
       "<g id=\"node3\" class=\"node\">\n",
       "<title>var_mu_sigma</title>\n",
       "<ellipse fill=\"none\" stroke=\"black\" cx=\"571.3\" cy=\"-337.75\" rx=\"83.44\" ry=\"42.25\"/>\n",
       "<text text-anchor=\"middle\" x=\"571.3\" y=\"-350.32\" font-family=\"Times,serif\" font-size=\"14.00\">var_mu_sigma</text>\n",
       "<text text-anchor=\"middle\" x=\"571.3\" y=\"-333.07\" font-family=\"Times,serif\" font-size=\"14.00\">~</text>\n",
       "<text text-anchor=\"middle\" x=\"571.3\" y=\"-315.82\" font-family=\"Times,serif\" font-size=\"14.00\">HalfNormal</text>\n",
       "</g>\n",
       "<!-- var_mu -->\n",
       "<g id=\"node5\" class=\"node\">\n",
       "<title>var_mu</title>\n",
       "<ellipse fill=\"none\" stroke=\"black\" cx=\"571.3\" cy=\"-217.25\" rx=\"48.97\" ry=\"42.25\"/>\n",
       "<text text-anchor=\"middle\" x=\"571.3\" y=\"-229.82\" font-family=\"Times,serif\" font-size=\"14.00\">var_mu</text>\n",
       "<text text-anchor=\"middle\" x=\"571.3\" y=\"-212.57\" font-family=\"Times,serif\" font-size=\"14.00\">~</text>\n",
       "<text text-anchor=\"middle\" x=\"571.3\" y=\"-195.32\" font-family=\"Times,serif\" font-size=\"14.00\">Normal</text>\n",
       "</g>\n",
       "<!-- var_mu_sigma&#45;&gt;var_mu -->\n",
       "<g id=\"edge1\" class=\"edge\">\n",
       "<title>var_mu_sigma&#45;&gt;var_mu</title>\n",
       "<path fill=\"none\" stroke=\"black\" d=\"M571.3,-295.3C571.3,-287.5 571.3,-279.24 571.3,-271.15\"/>\n",
       "<polygon fill=\"black\" stroke=\"black\" points=\"574.8,-271.38 571.3,-261.38 567.8,-271.38 574.8,-271.38\"/>\n",
       "</g>\n",
       "<!-- var_mu_mu -->\n",
       "<g id=\"node4\" class=\"node\">\n",
       "<title>var_mu_mu</title>\n",
       "<ellipse fill=\"none\" stroke=\"black\" cx=\"742.3\" cy=\"-337.75\" rx=\"69.12\" ry=\"42.25\"/>\n",
       "<text text-anchor=\"middle\" x=\"742.3\" y=\"-350.32\" font-family=\"Times,serif\" font-size=\"14.00\">var_mu_mu</text>\n",
       "<text text-anchor=\"middle\" x=\"742.3\" y=\"-333.07\" font-family=\"Times,serif\" font-size=\"14.00\">~</text>\n",
       "<text text-anchor=\"middle\" x=\"742.3\" y=\"-315.82\" font-family=\"Times,serif\" font-size=\"14.00\">Normal</text>\n",
       "</g>\n",
       "<!-- var_mu_mu&#45;&gt;var_mu -->\n",
       "<g id=\"edge2\" class=\"edge\">\n",
       "<title>var_mu_mu&#45;&gt;var_mu</title>\n",
       "<path fill=\"none\" stroke=\"black\" d=\"M697.38,-305.61C673.07,-288.77 643.07,-267.98 618.43,-250.91\"/>\n",
       "<polygon fill=\"black\" stroke=\"black\" points=\"620.73,-248.24 610.52,-245.43 616.75,-254 620.73,-248.24\"/>\n",
       "</g>\n",
       "<!-- var -->\n",
       "<g id=\"node9\" class=\"node\">\n",
       "<title>var</title>\n",
       "<ellipse fill=\"none\" stroke=\"black\" cx=\"496.3\" cy=\"-83.5\" rx=\"48.97\" ry=\"42.25\"/>\n",
       "<text text-anchor=\"middle\" x=\"496.3\" y=\"-96.07\" font-family=\"Times,serif\" font-size=\"14.00\">var</text>\n",
       "<text text-anchor=\"middle\" x=\"496.3\" y=\"-78.82\" font-family=\"Times,serif\" font-size=\"14.00\">~</text>\n",
       "<text text-anchor=\"middle\" x=\"496.3\" y=\"-61.57\" font-family=\"Times,serif\" font-size=\"14.00\">Normal</text>\n",
       "</g>\n",
       "<!-- var_mu&#45;&gt;var -->\n",
       "<g id=\"edge8\" class=\"edge\">\n",
       "<title>var_mu&#45;&gt;var</title>\n",
       "<path fill=\"none\" stroke=\"black\" d=\"M550.01,-178.85C541.7,-164.24 532.07,-147.33 523.28,-131.89\"/>\n",
       "<polygon fill=\"black\" stroke=\"black\" points=\"526.39,-130.27 518.4,-123.31 520.3,-133.73 526.39,-130.27\"/>\n",
       "</g>\n",
       "<!-- var_sigma -->\n",
       "<g id=\"node6\" class=\"node\">\n",
       "<title>var_sigma</title>\n",
       "<polygon fill=\"none\" stroke=\"black\" points=\"456.05,-247.12 342.55,-247.12 342.55,-187.37 456.05,-187.37 456.05,-247.12\"/>\n",
       "<text text-anchor=\"middle\" x=\"399.3\" y=\"-229.82\" font-family=\"Times,serif\" font-size=\"14.00\">var_sigma</text>\n",
       "<text text-anchor=\"middle\" x=\"399.3\" y=\"-212.57\" font-family=\"Times,serif\" font-size=\"14.00\">~</text>\n",
       "<text text-anchor=\"middle\" x=\"399.3\" y=\"-195.32\" font-family=\"Times,serif\" font-size=\"14.00\">Deterministic</text>\n",
       "</g>\n",
       "<!-- var_sigma&#45;&gt;var -->\n",
       "<g id=\"edge7\" class=\"edge\">\n",
       "<title>var_sigma&#45;&gt;var</title>\n",
       "<path fill=\"none\" stroke=\"black\" d=\"M420.83,-187.01C433.4,-169.94 449.51,-148.06 463.61,-128.9\"/>\n",
       "<polygon fill=\"black\" stroke=\"black\" points=\"466.35,-131.09 469.46,-120.97 460.71,-126.94 466.35,-131.09\"/>\n",
       "</g>\n",
       "<!-- var_sigma_raw_offset -->\n",
       "<g id=\"node7\" class=\"node\">\n",
       "<title>var_sigma_raw_offset</title>\n",
       "<ellipse fill=\"none\" stroke=\"black\" cx=\"352.3\" cy=\"-458.25\" rx=\"119.5\" ry=\"42.25\"/>\n",
       "<text text-anchor=\"middle\" x=\"352.3\" y=\"-470.82\" font-family=\"Times,serif\" font-size=\"14.00\">var_sigma_raw_offset</text>\n",
       "<text text-anchor=\"middle\" x=\"352.3\" y=\"-453.57\" font-family=\"Times,serif\" font-size=\"14.00\">~</text>\n",
       "<text text-anchor=\"middle\" x=\"352.3\" y=\"-436.32\" font-family=\"Times,serif\" font-size=\"14.00\">Normal</text>\n",
       "</g>\n",
       "<!-- var_sigma_raw_offset&#45;&gt;var_sigma_raw -->\n",
       "<g id=\"edge4\" class=\"edge\">\n",
       "<title>var_sigma_raw_offset&#45;&gt;var_sigma_raw</title>\n",
       "<path fill=\"none\" stroke=\"black\" d=\"M357.9,-415.8C359.49,-403.99 361.23,-391.13 362.82,-379.37\"/>\n",
       "<polygon fill=\"black\" stroke=\"black\" points=\"366.27,-379.93 364.14,-369.55 359.34,-378.99 366.27,-379.93\"/>\n",
       "</g>\n",
       "<!-- var_sigma_raw&#45;&gt;var_sigma -->\n",
       "<g id=\"edge6\" class=\"edge\">\n",
       "<title>var_sigma_raw&#45;&gt;var_sigma</title>\n",
       "<path fill=\"none\" stroke=\"black\" d=\"M375.97,-307.46C379.84,-292.64 384.6,-274.44 388.81,-258.35\"/>\n",
       "<polygon fill=\"black\" stroke=\"black\" points=\"392.09,-259.64 391.24,-249.08 385.32,-257.87 392.09,-259.64\"/>\n",
       "</g>\n",
       "</g>\n",
       "</svg>\n"
      ],
      "text/plain": [
       "<graphviz.graphs.Digraph at 0x7f0c463526b0>"
      ]
     },
     "execution_count": 29,
     "metadata": {},
     "output_type": "execute_result"
    }
   ],
   "source": [
    "Prior.from_json(variable_2d_dict).graph()"
   ]
  },
  {
   "cell_type": "markdown",
   "id": "41abb828-e67b-4995-b20c-a83b965493c3",
   "metadata": {},
   "source": [
    "## Use in PyMC-Marketing\n",
    "\n",
    "Distributions will be expressed in this manner throughout the package including but not limited to: \n",
    "\n",
    "- MMM components\n",
    "    - media transformations\n",
    " \n",
    "### Backwards compatibility\n",
    "\n",
    "The `from_json` method will create a `Prior` instance from the previous format.\n",
    "\n",
    "For instance, take this previous configuration: "
   ]
  },
  {
   "cell_type": "code",
   "execution_count": 30,
   "id": "29e66da3-4fba-4f85-8379-f0d237d45123",
   "metadata": {},
   "outputs": [],
   "source": [
    "old_model_config = {\n",
    "    \"alpha\": {\n",
    "        \"dist\": \"Normal\",\n",
    "        \"kwargs\": {\n",
    "            \"mu\": 0,\n",
    "            \"sigma\": 1,\n",
    "        },\n",
    "    },\n",
    "    \"beta\": {\n",
    "        \"dist\": \"Laplace\",\n",
    "        \"kwargs\": {\n",
    "            \"mu\": 1,\n",
    "            \"b\": 0.5,\n",
    "        },\n",
    "    },\n",
    "}"
   ]
  },
  {
   "cell_type": "markdown",
   "id": "d63987c0-2525-4b12-8415-cd62dd66265f",
   "metadata": {},
   "source": [
    "This can be parsed with the `Prior.from_json` constructor for each key. Much more consise too!"
   ]
  },
  {
   "cell_type": "code",
   "execution_count": 31,
   "id": "92413026-9d9a-4424-b236-09f54b254545",
   "metadata": {},
   "outputs": [
    {
     "data": {
      "text/plain": [
       "{'alpha': Prior(\"Normal\", mu=0, sigma=1),\n",
       " 'beta': Prior(\"Laplace\", mu=1, b=0.5)}"
      ]
     },
     "execution_count": 31,
     "metadata": {},
     "output_type": "execute_result"
    }
   ],
   "source": [
    "new_model_config = {\n",
    "    name: Prior.from_json(key)\n",
    "    for name, key in\n",
    "    old_model_config.items()\n",
    "}\n",
    "\n",
    "new_model_config"
   ]
  },
  {
   "cell_type": "code",
   "execution_count": 32,
   "id": "1636ae9b-452c-4772-8b60-085c9b044154",
   "metadata": {},
   "outputs": [
    {
     "data": {
      "text/plain": [
       "{'dist': 'Normal', 'kwargs': {'mu': 0, 'sigma': 1}}"
      ]
     },
     "execution_count": 32,
     "metadata": {},
     "output_type": "execute_result"
    }
   ],
   "source": [
    "new_model_config[\"alpha\"].to_json()"
   ]
  },
  {
   "cell_type": "markdown",
   "id": "01370c37-2e03-46bc-98c5-fcd8bae1b8e7",
   "metadata": {},
   "source": [
    "The `parse_model_config` function will do just this and is used internally. It also provides some deprecation warnings."
   ]
  },
  {
   "cell_type": "code",
   "execution_count": 33,
   "id": "54e8e716-b2c9-4019-8620-2616f9783576",
   "metadata": {},
   "outputs": [
    {
     "data": {
      "text/plain": [
       "{'alpha': Prior(\"Normal\", mu=0, sigma=1),\n",
       " 'beta': Prior(\"Laplace\", mu=1, b=0.5)}"
      ]
     },
     "execution_count": 33,
     "metadata": {},
     "output_type": "execute_result"
    }
   ],
   "source": [
    "parse_model_config(old_model_config)"
   ]
  }
 ],
 "metadata": {
  "kernelspec": {
   "display_name": "Python 3 (ipykernel)",
   "language": "python",
   "name": "python3"
  },
  "language_info": {
   "codemirror_mode": {
    "name": "ipython",
    "version": 3
   },
   "file_extension": ".py",
   "mimetype": "text/x-python",
   "name": "python",
   "nbconvert_exporter": "python",
   "pygments_lexer": "ipython3",
   "version": "3.10.13"
  }
 },
 "nbformat": 4,
 "nbformat_minor": 5
}
